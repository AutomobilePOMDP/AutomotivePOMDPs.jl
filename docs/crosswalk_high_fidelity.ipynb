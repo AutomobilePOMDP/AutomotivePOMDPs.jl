{
 "cells": [
  {
   "cell_type": "markdown",
   "metadata": {},
   "source": [
    "# Evaluate a POMDP Policy"
   ]
  },
  {
   "cell_type": "code",
   "execution_count": 1,
   "metadata": {},
   "outputs": [],
   "source": [
    "rng = MersenneTwister(1);"
   ]
  },
  {
   "cell_type": "code",
   "execution_count": 2,
   "metadata": {},
   "outputs": [
    {
     "name": "stderr",
     "output_type": "stream",
     "text": [
      "WARNING: Method definition info(Any...) in module Base at util.jl:532 overwritten in module Logging at /mnt/c/Users/Maxime/wsl/.julia/v0.6/Logging/src/Logging.jl:115.\n",
      "WARNING: Method definition warn(Any...) in module Base at util.jl:585 overwritten in module Logging at /mnt/c/Users/Maxime/wsl/.julia/v0.6/Logging/src/Logging.jl:115.\n",
      "WARNING: Method definition copy!(Array{Float64, 1}, AutomotiveDrivingModels.LatLonAccel) in module AutomotiveDrivingModels at /mnt/c/Users/Maxime/wsl/.julia/v0.6/AutomotiveDrivingModels/src/2d/actions/lat_lon_accel.jl:13 overwritten in module AutoUrban at /mnt/c/Users/Maxime/wsl/.julia/v0.6/AutoUrban/src/simulation/actions.jl:10.\n",
      "WARNING: Method definition scene_to_states(Records.Frame{Records.Entity{AutomotiveDrivingModels.VehicleState, AutomotiveDrivingModels.VehicleDef, Int64}}, AutomotivePOMDPs.SingleOCPOMDP) in module AutomotivePOMDPs at /home/maxime/Maxime/OneDrive - Leland Stanford Junior University/Research/AutomotivePOMDPs/src/explicit_pomdps/single_crosswalk/adm_helpers.jl:39 overwritten at /home/maxime/Maxime/OneDrive - Leland Stanford Junior University/Research/AutomotivePOMDPs/src/explicit_pomdps/single_crosswalk/decomposition.jl:275.\n",
      "06-Aug 10:55:41:WARNING:root:replacing docs for 'AutomotivePOMDPs.scene_to_states :: Tuple{Records.Frame{Records.Entity{AutomotiveDrivingModels.VehicleState,AutomotiveDrivingModels.VehicleDef,Int64}},AutomotivePOMDPs.SingleOCPOMDP}' in module 'AutomotivePOMDPs'.\n",
      "WARNING: Method definition states_to_scene(Base.Dict{Int64, AutomotivePOMDPs.SingleOCState}, AutomotivePOMDPs.SingleOCPOMDP) in module AutomotivePOMDPs at /home/maxime/Maxime/OneDrive - Leland Stanford Junior University/Research/AutomotivePOMDPs/src/explicit_pomdps/single_crosswalk/adm_helpers.jl:55 overwritten at /home/maxime/Maxime/OneDrive - Leland Stanford Junior University/Research/AutomotivePOMDPs/src/explicit_pomdps/single_crosswalk/decomposition.jl:292.\n",
      "06-Aug 10:55:46:WARNING:root:replacing docs for 'AutomotivePOMDPs.states_to_scene :: Tuple{Dict{Int64,AutomotivePOMDPs.SingleOCState},AutomotivePOMDPs.SingleOCPOMDP}' in module 'AutomotivePOMDPs'.\n"
     ]
    }
   ],
   "source": [
    "using AutomotiveDrivingModels\n",
    "using AutoViz\n",
    "using GridInterpolations\n",
    "using POMDPs\n",
    "using POMDPToolbox\n",
    "using AutomotivePOMDPs\n",
    "using QMDP\n",
    "using SARSOP\n",
    "using Parameters\n",
    "using Reel"
   ]
  },
  {
   "cell_type": "code",
   "execution_count": 3,
   "metadata": {},
   "outputs": [],
   "source": [
    "# include(\"../src/explicit_pomdps/single_crosswalk/decomposition.jl\")"
   ]
  },
  {
   "cell_type": "markdown",
   "metadata": {},
   "source": [
    "## Define Environment"
   ]
  },
  {
   "cell_type": "code",
   "execution_count": 79,
   "metadata": {},
   "outputs": [
    {
     "name": "stderr",
     "output_type": "stream",
     "text": [
      "WARNING: Method definition (::Type{AutomotivePOMDPs.CrosswalkEnv})() in module AutomotivePOMDPs at /home/maxime/Maxime/OneDrive - Leland Stanford Junior University/Research/AutomotivePOMDPs/src/envs/occluded_crosswalk_env.jl:56 overwritten at /home/maxime/Maxime/OneDrive - Leland Stanford Junior University/Research/AutomotivePOMDPs/src/envs/occluded_crosswalk_env.jl:56.\n",
      "WARNING: Method definition (::Type{AutomotivePOMDPs.CrosswalkEnv})(AutomotivePOMDPs.CrosswalkParams) in module AutomotivePOMDPs at /home/maxime/Maxime/OneDrive - Leland Stanford Junior University/Research/AutomotivePOMDPs/src/envs/occluded_crosswalk_env.jl:56 overwritten at /home/maxime/Maxime/OneDrive - Leland Stanford Junior University/Research/AutomotivePOMDPs/src/envs/occluded_crosswalk_env.jl:56.\n",
      "06-Aug 11:58:38:WARNING:root:replacing docs for 'AutomotivePOMDPs.CrosswalkEnv :: Union{Tuple{AutomotivePOMDPs.CrosswalkParams}, Tuple{}}' in module 'AutomotivePOMDPs'.\n"
     ]
    },
    {
     "data": {
      "text/plain": [
       "AutomotivePOMDPs.CrosswalkEnv(Roadway, AutomotiveDrivingModels.Lane(LaneTag(2, 1), AutomotiveDrivingModels.CurvePt[CurvePt({25.000, -10.000, 1.571}, 0.000, 0.000, NaN), CurvePt({25.000, 10.000, 1.571}, 20.000, 0.000, NaN)], 6.0, AutomotiveDrivingModels.SpeedLimit(-Inf, Inf), AutomotiveDrivingModels.LaneBoundary(:unknown, :unknown), AutomotiveDrivingModels.LaneBoundary(:unknown, :unknown), AutomotiveDrivingModels.LaneConnection[], AutomotiveDrivingModels.LaneConnection[]), AutomotiveDrivingModels.ConvexPolygon[ConvexPolygon: len 4 (max 4 pts)\n",
       "\tVecE2(15.000, -1.500)\n",
       "\tVecE2(15.000, -4.500)\n",
       "\tVecE2(21.500, -4.500)\n",
       "\tVecE2(21.500, -1.500)\n",
       "], AutomotivePOMDPs.CrosswalkParams(2, 50.0, 3.0, 20.0, 6.0, 5.0, 37.0, 8.0, 100, 0.05, 2.0, 10.0))"
      ]
     },
     "execution_count": 79,
     "metadata": {},
     "output_type": "execute_result"
    }
   ],
   "source": [
    "params = CrosswalkParams(ped_rate=0.05)\n",
    "env = CrosswalkEnv(params)"
   ]
  },
  {
   "cell_type": "code",
   "execution_count": 50,
   "metadata": {},
   "outputs": [
    {
     "data": {
      "text/plain": [
       "4-element Array{Symbol,1}:\n",
       " :roadway  \n",
       " :crosswalk\n",
       " :obstacles\n",
       " :params   "
      ]
     },
     "execution_count": 50,
     "metadata": {},
     "output_type": "execute_result"
    }
   ],
   "source": [
    "fieldnames(env)"
   ]
  },
  {
   "cell_type": "code",
   "execution_count": 24,
   "metadata": {},
   "outputs": [
    {
     "data": {
      "text/plain": [
       "12-element Array{Symbol,1}:\n",
       " :n_lanes         \n",
       " :roadway_length  \n",
       " :lane_width      \n",
       " :crosswalk_length\n",
       " :crosswalk_width \n",
       " :start_pos       \n",
       " :end_pos         \n",
       " :speed_limit     \n",
       " :n_max_ped       \n",
       " :ped_rate        \n",
       " :ped_max_speed   \n",
       " :ped_max_y       "
      ]
     },
     "execution_count": 24,
     "metadata": {},
     "output_type": "execute_result"
    }
   ],
   "source": [
    "fieldnames(CrosswalkParams)"
   ]
  },
  {
   "cell_type": "markdown",
   "metadata": {},
   "source": [
    "## Solve Policy in Discrete, Single Agent Environment"
   ]
  },
  {
   "cell_type": "code",
   "execution_count": 95,
   "metadata": {},
   "outputs": [
    {
     "name": "stdout",
     "output_type": "stream",
     "text": [
      "[Iteration 1   ] residual:          1 | iteration runtime:   2822.877 ms, (      2.82 s total)\n",
      "[Iteration 2   ] residual:       0.95 | iteration runtime:   2820.112 ms, (      5.64 s total)\n",
      "[Iteration 3   ] residual:      0.903 | iteration runtime:   2828.404 ms, (      8.47 s total)\n",
      "[Iteration 4   ] residual:      0.857 | iteration runtime:   2816.652 ms, (      11.3 s total)\n",
      "[Iteration 5   ] residual:      0.811 | iteration runtime:   2796.110 ms, (      14.1 s total)\n",
      "[Iteration 6   ] residual:      0.762 | iteration runtime:   3037.634 ms, (      17.1 s total)\n",
      "[Iteration 7   ] residual:      0.707 | iteration runtime:   2848.874 ms, (        20 s total)\n",
      "[Iteration 8   ] residual:      0.649 | iteration runtime:   2807.324 ms, (      22.8 s total)\n",
      "[Iteration 9   ] residual:      0.553 | iteration runtime:   2893.314 ms, (      25.7 s total)\n",
      "[Iteration 10  ] residual:      0.506 | iteration runtime:   2927.734 ms, (      28.6 s total)\n",
      "[Iteration 11  ] residual:      0.457 | iteration runtime:   3273.517 ms, (      31.9 s total)\n",
      "[Iteration 12  ] residual:      0.334 | iteration runtime:   3227.085 ms, (      35.1 s total)\n",
      "[Iteration 13  ] residual:      0.177 | iteration runtime:   3108.504 ms, (      38.2 s total)\n",
      "[Iteration 14  ] residual:      0.129 | iteration runtime:   3177.387 ms, (      41.4 s total)\n",
      "[Iteration 15  ] residual:     0.0977 | iteration runtime:   2949.937 ms, (      44.3 s total)\n",
      "[Iteration 16  ] residual:      0.079 | iteration runtime:   2824.835 ms, (      47.2 s total)\n",
      "[Iteration 17  ] residual:      0.053 | iteration runtime:   2818.427 ms, (        50 s total)\n",
      "[Iteration 18  ] residual:     0.0315 | iteration runtime:   2831.669 ms, (      52.8 s total)\n",
      "[Iteration 19  ] residual:     0.0171 | iteration runtime:   3887.272 ms, (      56.7 s total)\n",
      "[Iteration 20  ] residual:    0.00873 | iteration runtime:   3304.211 ms, (        60 s total)\n",
      "[Iteration 21  ] residual:    0.00423 | iteration runtime:   3456.351 ms, (      63.5 s total)\n",
      "[Iteration 22  ] residual:    0.00214 | iteration runtime:   3262.416 ms, (      66.7 s total)\n",
      "[Iteration 23  ] residual:      0.001 | iteration runtime:   2836.518 ms, (      69.6 s total)\n",
      "[Iteration 24  ] residual:    0.00045 | iteration runtime:   2827.755 ms, (      72.4 s total)\n"
     ]
    }
   ],
   "source": [
    "dpomdp = SingleOCPOMDP(env=env, ΔT = 0.5, p_birth = 0.7, pos_res = 1.0, vel_res=1.0)\n",
    "solver = QMDPSolver(max_iterations=100, tolerance=1e-3, verbose=true)\n",
    "dpolicy = solve(solver, dpomdp);"
   ]
  },
  {
   "cell_type": "markdown",
   "metadata": {},
   "source": [
    "## Set up High Fidelity Evaluation Environment"
   ]
  },
  {
   "cell_type": "code",
   "execution_count": 26,
   "metadata": {},
   "outputs": [],
   "source": [
    "include(\"../src/eval-crosswalk/config.jl\")\n",
    "include(\"../src/eval-crosswalk/ego_control.jl\")\n",
    "include(\"../src/eval-crosswalk/sensor.jl\")\n",
    "include(\"../src/eval-crosswalk/policy.jl\")\n",
    "include(\"../src/eval-crosswalk/state_estimation.jl\")\n",
    "include(\"../src/eval-crosswalk/simulation.jl\")\n",
    "include(\"../src/eval-crosswalk/render_helpers.jl\")"
   ]
  },
  {
   "cell_type": "code",
   "execution_count": 66,
   "metadata": {},
   "outputs": [
    {
     "data": {
      "text/plain": [
       "EvalConfig \n",
       "\t Sim step (s) 0.10 \n",
       "\t N episodes  500 \n",
       "\t Time out  300 \n",
       "\t Time out  300 \n"
      ]
     },
     "execution_count": 66,
     "metadata": {},
     "output_type": "execute_result"
    }
   ],
   "source": [
    "config = EvalConfig(time_out = 300, n_episodes = 500)"
   ]
  },
  {
   "cell_type": "code",
   "execution_count": 80,
   "metadata": {},
   "outputs": [],
   "source": [
    "cam = StaticCamera(VecE2(25, 0.), 20.);"
   ]
  },
  {
   "cell_type": "code",
   "execution_count": 81,
   "metadata": {},
   "outputs": [
    {
     "data": {
      "text/plain": [
       "POMDPSensor\n",
       "  pomdp: AutomotivePOMDPs.SingleOCPOMDP\n",
       "  sensor: SimpleSensor\n"
      ]
     },
     "execution_count": 81,
     "metadata": {},
     "output_type": "execute_result"
    }
   ],
   "source": [
    "sensor = POMDPSensor(pomdp = dpomdp, sensor = SimpleSensor(0.5, 0.5))"
   ]
  },
  {
   "cell_type": "code",
   "execution_count": 82,
   "metadata": {},
   "outputs": [
    {
     "data": {
      "text/plain": [
       "2-element Array{Symbol,1}:\n",
       " :pos_noise\n",
       " :vel_noise"
      ]
     },
     "execution_count": 82,
     "metadata": {},
     "output_type": "execute_result"
    }
   ],
   "source": [
    "fieldnames(SimpleSensor)"
   ]
  },
  {
   "cell_type": "code",
   "execution_count": 83,
   "metadata": {},
   "outputs": [],
   "source": [
    "policy = QMDPEval(env, dpomdp, dpolicy);"
   ]
  },
  {
   "cell_type": "code",
   "execution_count": 84,
   "metadata": {},
   "outputs": [],
   "source": [
    "up = MixedUpdater(dpomdp, config.sim_dt);"
   ]
  },
  {
   "cell_type": "code",
   "execution_count": null,
   "metadata": {},
   "outputs": [],
   "source": []
  },
  {
   "cell_type": "code",
   "execution_count": 85,
   "metadata": {},
   "outputs": [
    {
     "data": {
      "text/plain": [
       "Dict{Int64,AutomotivePOMDPs.SingleOCState} with 0 entries"
      ]
     },
     "execution_count": 85,
     "metadata": {},
     "output_type": "execute_result"
    }
   ],
   "source": [
    "a0 = -4.\n",
    "ego0 = initial_ego(env, config.rng)\n",
    "b0 = Dict{Int64, SingleOCDistribution}()\n",
    "b0[-1] = initial_state_distribution(dpomdp, ego0.state)\n",
    "o0 = Dict{Int64, SingleOCObs}()"
   ]
  },
  {
   "cell_type": "code",
   "execution_count": 86,
   "metadata": {},
   "outputs": [],
   "source": [
    "update_freq = 5\n",
    "ego_model = CrosswalkDriver(update_freq, 0, env, a0, b0, o0, ego0, sensor, policy, up);"
   ]
  },
  {
   "cell_type": "code",
   "execution_count": 87,
   "metadata": {},
   "outputs": [
    {
     "data": {
      "text/plain": [
       "0.0"
      ]
     },
     "execution_count": 87,
     "metadata": {},
     "output_type": "execute_result"
    }
   ],
   "source": [
    "reset_model!(ego_model, ego0)"
   ]
  },
  {
   "cell_type": "code",
   "execution_count": 88,
   "metadata": {},
   "outputs": [],
   "source": [
    "overlay = QMDPOverlay(ego_model);"
   ]
  },
  {
   "cell_type": "code",
   "execution_count": 92,
   "metadata": {},
   "outputs": [
    {
     "data": {
      "text/plain": [
       "SceneRecord(nscenes=0)"
      ]
     },
     "execution_count": 92,
     "metadata": {},
     "output_type": "execute_result"
    }
   ],
   "source": [
    "env.params.ped_rate = 0.0\n",
    "ego0 = initial_ego(env, config.rng)\n",
    "reset_model!(ego_model, ego0)\n",
    "models = Dict{Int, DriverModel}()\n",
    "models[1] = ego_model\n",
    "scene = initial_scene(models, env, config)\n",
    "push!(scene, ego0)\n",
    "nticks = 100\n",
    "rec = SceneRecord(nticks+1, config.sim_dt)"
   ]
  },
  {
   "cell_type": "code",
   "execution_count": 93,
   "metadata": {},
   "outputs": [
    {
     "name": "stdout",
     "output_type": "stream",
     "text": [
      "  1.281409 seconds (14.64 M allocations: 525.537 MiB, 18.91% gc time)\n"
     ]
    },
    {
     "data": {
      "text/plain": [
       "SceneRecord(nscenes=101)"
      ]
     },
     "execution_count": 93,
     "metadata": {},
     "output_type": "execute_result"
    }
   ],
   "source": [
    "# execute the simulation\n",
    "@time simulate!(rec, scene, env, models, nticks, config.rng, config.n_ped, config.callbacks)"
   ]
  },
  {
   "cell_type": "code",
   "execution_count": 94,
   "metadata": {},
   "outputs": [
    {
     "data": {
      "text/html": [
       "<video autoplay controls><source src=\"files/reel-15842466703034331179.webm?4703918235725354714\" type=\"video/webm\"></video>"
      ],
      "text/plain": [
       "Reel.Frames{MIME{Symbol(\"image/png\")}}(\"/tmp/tmpuOzfUv\", 0x0000000000000065, 10.0, nothing)"
      ]
     },
     "execution_count": 94,
     "metadata": {},
     "output_type": "execute_result"
    }
   ],
   "source": [
    "reset_overlay!(overlay, ego0)\n",
    "duration, fps, render_rec = animate_record(rec, overlay, 24)\n",
    "speed_factor = 1\n",
    "film = roll(render_rec, fps = fps*speed_factor, duration = duration/speed_factor)"
   ]
  },
  {
   "cell_type": "code",
   "execution_count": null,
   "metadata": {},
   "outputs": [],
   "source": []
  }
 ],
 "metadata": {
  "kernelspec": {
   "display_name": "Julia 0.6.1",
   "language": "julia",
   "name": "julia-0.6"
  },
  "language_info": {
   "file_extension": ".jl",
   "mimetype": "application/julia",
   "name": "julia",
   "version": "0.6.1"
  }
 },
 "nbformat": 4,
 "nbformat_minor": 2
}
