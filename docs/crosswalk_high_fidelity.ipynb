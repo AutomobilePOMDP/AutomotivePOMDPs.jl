{
 "cells": [
  {
   "cell_type": "markdown",
   "metadata": {},
   "source": [
    "# Evaluate a POMDP Policy"
   ]
  },
  {
   "cell_type": "code",
   "execution_count": 1,
   "metadata": {},
   "outputs": [],
   "source": [
    "rng = MersenneTwister(1);"
   ]
  },
  {
   "cell_type": "code",
   "execution_count": 2,
   "metadata": {},
   "outputs": [
    {
     "name": "stderr",
     "output_type": "stream",
     "text": [
      "WARNING: Method definition info(Any...) in module Base at util.jl:532 overwritten in module Logging at /mnt/c/Users/Maxime/wsl/.julia/v0.6/Logging/src/Logging.jl:115.\n",
      "WARNING: Method definition warn(Any...) in module Base at util.jl:585 overwritten in module Logging at /mnt/c/Users/Maxime/wsl/.julia/v0.6/Logging/src/Logging.jl:115.\n",
      "WARNING: Method definition copy!(Array{Float64, 1}, AutomotiveDrivingModels.LatLonAccel) in module AutomotiveDrivingModels at /mnt/c/Users/Maxime/wsl/.julia/v0.6/AutomotiveDrivingModels/src/2d/actions/lat_lon_accel.jl:13 overwritten in module AutoUrban at /mnt/c/Users/Maxime/wsl/.julia/v0.6/AutoUrban/src/simulation/actions.jl:10.\n",
      "WARNING: Method definition scene_to_states(Records.Frame{Records.Entity{AutomotiveDrivingModels.VehicleState, AutomotiveDrivingModels.VehicleDef, Int64}}, AutomotivePOMDPs.SingleOCPOMDP) in module AutomotivePOMDPs at /home/maxime/Maxime/OneDrive - Leland Stanford Junior University/Research/AutomotivePOMDPs/src/explicit_pomdps/single_crosswalk/adm_helpers.jl:39 overwritten at /home/maxime/Maxime/OneDrive - Leland Stanford Junior University/Research/AutomotivePOMDPs/src/explicit_pomdps/single_crosswalk/decomposition.jl:275.\n",
      "06-Aug 10:55:41:WARNING:root:replacing docs for 'AutomotivePOMDPs.scene_to_states :: Tuple{Records.Frame{Records.Entity{AutomotiveDrivingModels.VehicleState,AutomotiveDrivingModels.VehicleDef,Int64}},AutomotivePOMDPs.SingleOCPOMDP}' in module 'AutomotivePOMDPs'.\n",
      "WARNING: Method definition states_to_scene(Base.Dict{Int64, AutomotivePOMDPs.SingleOCState}, AutomotivePOMDPs.SingleOCPOMDP) in module AutomotivePOMDPs at /home/maxime/Maxime/OneDrive - Leland Stanford Junior University/Research/AutomotivePOMDPs/src/explicit_pomdps/single_crosswalk/adm_helpers.jl:55 overwritten at /home/maxime/Maxime/OneDrive - Leland Stanford Junior University/Research/AutomotivePOMDPs/src/explicit_pomdps/single_crosswalk/decomposition.jl:292.\n",
      "06-Aug 10:55:46:WARNING:root:replacing docs for 'AutomotivePOMDPs.states_to_scene :: Tuple{Dict{Int64,AutomotivePOMDPs.SingleOCState},AutomotivePOMDPs.SingleOCPOMDP}' in module 'AutomotivePOMDPs'.\n"
     ]
    }
   ],
   "source": [
    "using AutomotiveDrivingModels\n",
    "using AutoViz\n",
    "using GridInterpolations\n",
    "using POMDPs\n",
    "using POMDPToolbox\n",
    "using AutomotivePOMDPs\n",
    "using QMDP\n",
    "using SARSOP\n",
    "using Parameters\n",
    "using Reel"
   ]
  },
  {
   "cell_type": "code",
   "execution_count": 3,
   "metadata": {},
   "outputs": [],
   "source": [
    "# include(\"../src/explicit_pomdps/single_crosswalk/decomposition.jl\")"
   ]
  },
  {
   "cell_type": "markdown",
   "metadata": {},
   "source": [
    "## Define Environment"
   ]
  },
  {
   "cell_type": "code",
   "execution_count": 4,
   "metadata": {},
   "outputs": [
    {
     "data": {
      "text/plain": [
       "AutomotivePOMDPs.CrosswalkEnv(Roadway, AutomotiveDrivingModels.Lane(LaneTag(2, 1), AutomotiveDrivingModels.CurvePt[CurvePt({25.000, -10.000, 1.571}, 0.000, 0.000, NaN), CurvePt({25.000, 10.000, 1.571}, 20.000, 0.000, NaN)], 6.0, AutomotiveDrivingModels.SpeedLimit(-Inf, Inf), AutomotiveDrivingModels.LaneBoundary(:unknown, :unknown), AutomotiveDrivingModels.LaneBoundary(:unknown, :unknown), AutomotiveDrivingModels.LaneConnection[], AutomotiveDrivingModels.LaneConnection[]), AutomotiveDrivingModels.ConvexPolygon[ConvexPolygon: len 4 (max 4 pts)\n",
       "\tVecE2(15.000, -1.500)\n",
       "\tVecE2(15.000, -4.500)\n",
       "\tVecE2(21.500, -4.500)\n",
       "\tVecE2(21.500, -1.500)\n",
       "], AutomotivePOMDPs.CrosswalkParams(2, 50.0, 3.0, 20.0, 6.0, 5.0, 37.0, 8.0, 100, 0.5, 2.0, 10.0))"
      ]
     },
     "execution_count": 4,
     "metadata": {},
     "output_type": "execute_result"
    }
   ],
   "source": [
    "env = CrosswalkEnv()"
   ]
  },
  {
   "cell_type": "markdown",
   "metadata": {},
   "source": [
    "## Solve Policy in Discrete, Single Agent Environment"
   ]
  },
  {
   "cell_type": "code",
   "execution_count": 5,
   "metadata": {},
   "outputs": [
    {
     "name": "stdout",
     "output_type": "stream",
     "text": [
      "[Iteration 1   ] residual:          1 | iteration runtime:   2675.730 ms, (      2.68 s total)\n",
      "[Iteration 2   ] residual:       0.95 | iteration runtime:   2416.366 ms, (      5.09 s total)\n",
      "[Iteration 3   ] residual:      0.903 | iteration runtime:   2396.772 ms, (      7.49 s total)\n",
      "[Iteration 4   ] residual:      0.857 | iteration runtime:   2497.444 ms, (      9.99 s total)\n",
      "[Iteration 5   ] residual:      0.811 | iteration runtime:   2359.723 ms, (      12.3 s total)\n",
      "[Iteration 6   ] residual:      0.762 | iteration runtime:   2722.061 ms, (      15.1 s total)\n",
      "[Iteration 7   ] residual:      0.707 | iteration runtime:   3009.113 ms, (      18.1 s total)\n",
      "[Iteration 8   ] residual:      0.649 | iteration runtime:   2679.910 ms, (      20.8 s total)\n",
      "[Iteration 9   ] residual:      0.539 | iteration runtime:   2902.553 ms, (      23.7 s total)\n",
      "[Iteration 10  ] residual:      0.472 | iteration runtime:   2523.947 ms, (      26.2 s total)\n",
      "[Iteration 11  ] residual:       0.42 | iteration runtime:   2433.176 ms, (      28.6 s total)\n",
      "[Iteration 12  ] residual:      0.384 | iteration runtime:   2310.865 ms, (      30.9 s total)\n",
      "[Iteration 13  ] residual:      0.177 | iteration runtime:   2346.776 ms, (      33.3 s total)\n",
      "[Iteration 14  ] residual:      0.129 | iteration runtime:   2314.273 ms, (      35.6 s total)\n",
      "[Iteration 15  ] residual:     0.0995 | iteration runtime:   2319.366 ms, (      37.9 s total)\n",
      "[Iteration 16  ] residual:      0.085 | iteration runtime:   2312.826 ms, (      40.2 s total)\n",
      "[Iteration 17  ] residual:     0.0589 | iteration runtime:   2291.179 ms, (      42.5 s total)\n",
      "[Iteration 18  ] residual:     0.0357 | iteration runtime:   2302.681 ms, (      44.8 s total)\n",
      "[Iteration 19  ] residual:     0.0198 | iteration runtime:   2333.310 ms, (      47.1 s total)\n",
      "[Iteration 20  ] residual:     0.0102 | iteration runtime:   2297.023 ms, (      49.4 s total)\n",
      "[Iteration 21  ] residual:    0.00499 | iteration runtime:   2306.901 ms, (      51.8 s total)\n",
      "[Iteration 22  ] residual:    0.00234 | iteration runtime:   2349.491 ms, (      54.1 s total)\n",
      "[Iteration 23  ] residual:     0.0011 | iteration runtime:   2297.673 ms, (      56.4 s total)\n",
      "[Iteration 24  ] residual:   0.000503 | iteration runtime:   2324.357 ms, (      58.7 s total)\n"
     ]
    }
   ],
   "source": [
    "dpomdp = SingleOCPOMDP(env=env, ΔT = 0.5, p_birth = 0.3,pos_res = 1.0)\n",
    "solver = QMDPSolver(max_iterations=100, tolerance=1e-3, verbose=true)\n",
    "dpolicy = solve(solver, dpomdp);"
   ]
  },
  {
   "cell_type": "markdown",
   "metadata": {},
   "source": [
    "## Set up High Fidelity Evaluation Environment"
   ]
  },
  {
   "cell_type": "code",
   "execution_count": 20,
   "metadata": {},
   "outputs": [],
   "source": [
    "include(\"../src/eval-crosswalk/config.jl\")\n",
    "include(\"../src/eval-crosswalk/ego_control.jl\")\n",
    "include(\"../src/eval-crosswalk/sensor.jl\")\n",
    "include(\"../src/eval-crosswalk/policy.jl\")\n",
    "include(\"../src/eval-crosswalk/state_estimation.jl\")\n",
    "include(\"../src/eval-crosswalk/simulation.jl\")\n",
    "include(\"../src/eval-crosswalk/baseline_policy.jl\")\n",
    "include(\"../src/eval-crosswalk/render_helpers.jl\")"
   ]
  },
  {
   "cell_type": "code",
   "execution_count": 7,
   "metadata": {},
   "outputs": [],
   "source": [
    "config = EvalConfig(time_out = 300, n_episodes = 500);"
   ]
  },
  {
   "cell_type": "code",
   "execution_count": 8,
   "metadata": {},
   "outputs": [],
   "source": [
    "cam = StaticCamera(VecE2(25, 0.), 20.);"
   ]
  },
  {
   "cell_type": "code",
   "execution_count": 9,
   "metadata": {},
   "outputs": [
    {
     "data": {
      "text/plain": [
       "POMDPSensor\n",
       "  pomdp: AutomotivePOMDPs.SingleOCPOMDP\n",
       "  sensor: SimpleSensor\n"
      ]
     },
     "execution_count": 9,
     "metadata": {},
     "output_type": "execute_result"
    }
   ],
   "source": [
    "sensor = POMDPSensor(pomdp = dpomdp, sensor = SimpleSensor(0.5, 0.5))"
   ]
  },
  {
   "cell_type": "code",
   "execution_count": 10,
   "metadata": {},
   "outputs": [],
   "source": [
    "policy = QMDPEval(env, dpomdp, dpolicy);"
   ]
  },
  {
   "cell_type": "code",
   "execution_count": 11,
   "metadata": {},
   "outputs": [],
   "source": [
    "up = MixedUpdater(dpomdp, config.sim_dt);"
   ]
  },
  {
   "cell_type": "code",
   "execution_count": 12,
   "metadata": {},
   "outputs": [
    {
     "data": {
      "text/plain": [
       "Dict{Int64,AutomotivePOMDPs.SingleOCState} with 0 entries"
      ]
     },
     "execution_count": 12,
     "metadata": {},
     "output_type": "execute_result"
    }
   ],
   "source": [
    "a0 = -4.\n",
    "ego0 = initial_ego(env, config.rng)\n",
    "b0 = Dict{Int64, SingleOCDistribution}()\n",
    "b0[-1] = initial_state_distribution(dpomdp, ego0.state)\n",
    "o0 = Dict{Int64, SingleOCObs}()"
   ]
  },
  {
   "cell_type": "code",
   "execution_count": 13,
   "metadata": {},
   "outputs": [],
   "source": [
    "update_freq = 5\n",
    "ego_model = CrosswalkDriver(update_freq, 0, env, a0, b0, o0, ego0, sensor, policy, up);"
   ]
  },
  {
   "cell_type": "code",
   "execution_count": 14,
   "metadata": {},
   "outputs": [
    {
     "data": {
      "text/plain": [
       "0.0"
      ]
     },
     "execution_count": 14,
     "metadata": {},
     "output_type": "execute_result"
    }
   ],
   "source": [
    "reset_model!(ego_model, ego0)"
   ]
  },
  {
   "cell_type": "code",
   "execution_count": 15,
   "metadata": {},
   "outputs": [],
   "source": [
    "overlay = QMDPOverlay(ego_model);"
   ]
  },
  {
   "cell_type": "code",
   "execution_count": 16,
   "metadata": {},
   "outputs": [
    {
     "data": {
      "text/plain": [
       "SceneRecord(nscenes=0)"
      ]
     },
     "execution_count": 16,
     "metadata": {},
     "output_type": "execute_result"
    }
   ],
   "source": [
    "ego0 = initial_ego(env, config.rng)\n",
    "reset_model!(ego_model, ego0)\n",
    "models = Dict{Int, DriverModel}()\n",
    "models[1] = ego_model\n",
    "scene = initial_scene(models, env, config)\n",
    "push!(scene, ego0)\n",
    "nticks = 10\n",
    "rec = SceneRecord(nticks+1, config.sim_dt)"
   ]
  },
  {
   "cell_type": "code",
   "execution_count": 17,
   "metadata": {},
   "outputs": [
    {
     "name": "stdout",
     "output_type": "stream",
     "text": [
      "  1.726707 seconds (2.83 M allocations: 109.596 MiB, 2.87% gc time)\n"
     ]
    },
    {
     "data": {
      "text/plain": [
       "SceneRecord(nscenes=11)"
      ]
     },
     "execution_count": 17,
     "metadata": {},
     "output_type": "execute_result"
    }
   ],
   "source": [
    "# execute the simulation\n",
    "@time simulate!(rec, scene, env, models, nticks, config.rng, config.n_ped, config.callbacks)"
   ]
  },
  {
   "cell_type": "code",
   "execution_count": 21,
   "metadata": {},
   "outputs": [
    {
     "data": {
      "text/html": [
       "<video autoplay controls><source src=\"files/reel-581859696034375023.webm?11659278924801312205\" type=\"video/webm\"></video>"
      ],
      "text/plain": [
       "Reel.Frames{MIME{Symbol(\"image/png\")}}(\"/tmp/tmp6qpqoz\", 0x000000000000000b, 10.0, nothing)"
      ]
     },
     "execution_count": 21,
     "metadata": {},
     "output_type": "execute_result"
    }
   ],
   "source": [
    "reset_overlay!(overlay, ego0)\n",
    "duration, fps, render_rec = animate_record(rec, overlay, 24)\n",
    "speed_factor = 1\n",
    "film = roll(render_rec, fps = fps*speed_factor, duration = duration/speed_factor)"
   ]
  },
  {
   "cell_type": "code",
   "execution_count": null,
   "metadata": {},
   "outputs": [],
   "source": []
  }
 ],
 "metadata": {
  "kernelspec": {
   "display_name": "Julia 0.6.1",
   "language": "julia",
   "name": "julia-0.6"
  },
  "language_info": {
   "file_extension": ".jl",
   "mimetype": "application/julia",
   "name": "julia",
   "version": "0.6.1"
  }
 },
 "nbformat": 4,
 "nbformat_minor": 2
}
