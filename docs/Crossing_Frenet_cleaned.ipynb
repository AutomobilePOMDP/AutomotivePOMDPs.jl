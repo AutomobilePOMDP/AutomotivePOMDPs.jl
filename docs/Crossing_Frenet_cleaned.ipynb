{
 "cells": [
  {
   "cell_type": "code",
   "execution_count": 1,
   "metadata": {},
   "outputs": [
    {
     "name": "stderr",
     "output_type": "stream",
     "text": [
      "WARNING: Method definition warn(Any...) in module Base at util.jl:589 overwritten in module Logging at /home/xubuntu/.julia/v0.6/Logging/src/Logging.jl:115.\n",
      "WARNING: Method definition info(Any...) in module Base at util.jl:534 overwritten in module Logging at /home/xubuntu/.julia/v0.6/Logging/src/Logging.jl:115.\n",
      "WARNING: Method definition copy!(Array{Float64, 1}, AutomotiveDrivingModels.LatLonAccel) in module AutomotiveDrivingModels at /home/xubuntu/.julia/v0.6/AutomotiveDrivingModels/src/2d/actions/lat_lon_accel.jl:13 overwritten in module AutoUrban at /home/xubuntu/.julia/v0.6/AutoUrban/src/simulation/actions.jl:10.\n",
      "WARNING: Method definition scene_to_states(Records.Frame{Records.Entity{AutomotiveDrivingModels.VehicleState, AutomotiveDrivingModels.VehicleDef, Int64}}, AutomotivePOMDPs.SingleOCPOMDP) in module AutomotivePOMDPs at /home/xubuntu/stanford/AutomotivePOMDPs/src/explicit_pomdps/single_crosswalk/adm_helpers.jl:39 overwritten at /home/xubuntu/stanford/AutomotivePOMDPs/src/explicit_pomdps/single_crosswalk/decomposition.jl:275.\n",
      "20-Sep 15:01:27:WARNING:root:replacing docs for 'AutomotivePOMDPs.scene_to_states :: Tuple{Records.Frame{Records.Entity{AutomotiveDrivingModels.VehicleState,AutomotiveDrivingModels.VehicleDef,Int64}},AutomotivePOMDPs.SingleOCPOMDP}' in module 'AutomotivePOMDPs'.\n",
      "WARNING: Method definition states_to_scene(Base.Dict{Int64, AutomotivePOMDPs.SingleOCState}, AutomotivePOMDPs.SingleOCPOMDP) in module AutomotivePOMDPs at /home/xubuntu/stanford/AutomotivePOMDPs/src/explicit_pomdps/single_crosswalk/adm_helpers.jl:55 overwritten at /home/xubuntu/stanford/AutomotivePOMDPs/src/explicit_pomdps/single_crosswalk/decomposition.jl:292.\n",
      "20-Sep 15:01:35:WARNING:root:replacing docs for 'AutomotivePOMDPs.states_to_scene :: Tuple{Dict{Int64,AutomotivePOMDPs.SingleOCState},AutomotivePOMDPs.SingleOCPOMDP}' in module 'AutomotivePOMDPs'.\n"
     ]
    }
   ],
   "source": [
    "using AutomotiveDrivingModels\n",
    "using AutoViz\n",
    "using AutomotivePOMDPs\n",
    "using Parameters\n",
    "using Reel\n",
    "using StaticArrays\n",
    "using GridInterpolations \n",
    "\n",
    "using POMDPs\n",
    "using POMDPToolbox"
   ]
  },
  {
   "cell_type": "code",
   "execution_count": 2,
   "metadata": {},
   "outputs": [],
   "source": [
    "include(\"../src/pedestrian_crossing/pomdp_types.jl\")\n",
    "include(\"../src/pedestrian_crossing/spaces.jl\")\n",
    "include(\"../src/pedestrian_crossing/transition.jl\")\n",
    "include(\"../src/pedestrian_crossing/observation.jl\")"
   ]
  },
  {
   "cell_type": "code",
   "execution_count": 3,
   "metadata": {},
   "outputs": [
    {
     "data": {
      "text/plain": [
       "SingleOCFPOMDP\n",
       "  env: AutomotivePOMDPs.CrosswalkEnv\n",
       "  ego_type: AutomotiveDrivingModels.VehicleDef\n",
       "  ped_type: AutomotiveDrivingModels.VehicleDef\n",
       "  longitudinal_actions: Array{Float64}((5,)) [1.0, 0.0, -1.0, -2.0, -4.0]\n",
       "  lateral_actions: Array{Float64}((3,)) [1.0, 0.0, -1.0]\n",
       "  ΔT: Float64 0.5\n",
       "  v_noise: Array{Float64}((1,)) [0.0]\n",
       "  theta_noise: Array{Float64}((1,)) [0.0]\n",
       "  pos_obs_noise: Float64 1.0\n",
       "  vel_obs_noise: Float64 1.0\n",
       "  collision_cost: Float64 -1.0\n",
       "  action_cost_lon: Float64 0.0\n",
       "  action_cost_lat: Float64 0.0\n",
       "  goal_reward: Float64 1.0\n",
       "  γ: Float64 0.95\n",
       "  state_space_grid: GridInterpolations.RectangleGrid{6}\n",
       "  state_space: Array{SingleOCFState}((437500,))\n",
       "  action_space: Array{SingleOCFAction}((15,))\n"
      ]
     },
     "execution_count": 3,
     "metadata": {},
     "output_type": "execute_result"
    }
   ],
   "source": [
    "pomdp = SingleOCFPOMDP()\n"
   ]
  },
  {
   "cell_type": "code",
   "execution_count": 4,
   "metadata": {},
   "outputs": [
    {
     "name": "stdout",
     "output_type": "stream",
     "text": [
      "SingleOCFState(0.0, 0.0, 49.0, -5.0, 1.57, 1.5)\n",
      "0\n"
     ]
    }
   ],
   "source": [
    "# Test state space\n",
    "state_space = states(pomdp)\n",
    "n_states(pomdp)\n",
    "x = state_space[state_index(pomdp,SingleOCFState(0.0, 0.0, 49.0, -5.0, 1.57, 1.5) )]\n",
    "println(x)\n",
    "\n",
    "cnt = 0\n",
    "for (index, s) in enumerate(pomdp.state_space)\n",
    "    idx = state_index(pomdp,s)\n",
    "    if (idx != index)\n",
    "        println(\"error\")\n",
    "        cnt = cnt + 1\n",
    "    end\n",
    "end\n",
    "println(cnt)"
   ]
  },
  {
   "cell_type": "code",
   "execution_count": 5,
   "metadata": {},
   "outputs": [
    {
     "name": "stdout",
     "output_type": "stream",
     "text": [
      "SingleOCFAction(-4.0, 0.0)\n",
      "0\n"
     ]
    }
   ],
   "source": [
    "# Test action space\n",
    "action_space = actions(pomdp)\n",
    "n_actions(pomdp)\n",
    "x = action_space[action_index(pomdp,SingleOCFAction(-4.0, 0.0) )]\n",
    "println(x)\n",
    "\n",
    "cnt = 0\n",
    "for (index, a) in enumerate(pomdp.action_space)\n",
    "    idx = action_index(pomdp,a)\n",
    "    if (idx != index)\n",
    "        println(\"error\")\n",
    "        cnt = cnt + 1\n",
    "    end\n",
    "end\n",
    "println(cnt)"
   ]
  },
  {
   "cell_type": "code",
   "execution_count": 6,
   "metadata": {},
   "outputs": [
    {
     "name": "stdout",
     "output_type": "stream",
     "text": [
      "POMDPToolbox.SparseCat{Array{SingleOCFState,1},Array{Float64,1}}(SingleOCFState[SingleOCFState(0.0, 0.0, 30.25, 2.77778, 1.57, 0.0), SingleOCFState(0.0, 0.0, 30.25, 3.88889, 1.57, 0.0)], [0.615385, 0.384615])\n",
      "elapsed time: 1.944565969 seconds\n"
     ]
    },
    {
     "data": {
      "text/plain": [
       "1.944565969"
      ]
     },
     "execution_count": 6,
     "metadata": {},
     "output_type": "execute_result"
    }
   ],
   "source": [
    "# Test transition\n",
    "#=\n",
    "    ego_y::Float64\n",
    "    ego_v::Float64    \n",
    "    ped_s::Float64\n",
    "    ped_T::Float64\n",
    "    ped_theta::Float64\n",
    "    ped_v::Float64\n",
    "=#\n",
    "state = SingleOCFState(0.0, 0.0, 30.0, 3.0, 1.57, 0.0)\n",
    "action = SingleOCFAction(0.0, 0.0)\n",
    "\n",
    "tic()\n",
    "x = transition(pomdp,state,action,1.0)\n",
    "println(x)\n",
    "toc()"
   ]
  },
  {
   "cell_type": "code",
   "execution_count": 7,
   "metadata": {},
   "outputs": [
    {
     "name": "stdout",
     "output_type": "stream",
     "text": [
      "SingleOCFState(0.0, 0.0, 49.0, -5.0, 1.57, 1.5)\n"
     ]
    }
   ],
   "source": [
    "# Test observation space\n",
    "\n",
    "observation_space = observations(pomdp)\n",
    "n_observations(pomdp)\n",
    "idx = obs_index(pomdp,SingleOCFObs(0.0, 0.0, 49.0, -5.0, 1.57, 1.5))\n",
    "x = observation_space[idx]\n",
    "println(x)"
   ]
  },
  {
   "cell_type": "code",
   "execution_count": 8,
   "metadata": {},
   "outputs": [
    {
     "data": {
      "text/plain": [
       "POMDPToolbox.SparseCat{Array{SingleOCFState,1},Array{Float64,1}}(SingleOCFState[SingleOCFState(0.0, 0.0, 30.0, 3.0, 1.57, 1.5)], [1.0])"
      ]
     },
     "execution_count": 8,
     "metadata": {},
     "output_type": "execute_result"
    }
   ],
   "source": [
    "# Test observation\n",
    "observ = SingleOCFObs(0.0, 0.0, 30.0, 3.0, 1.57, 1.5)\n",
    "action = SingleOCFAction(0.0, 0.0)\n",
    "observation(pomdp,action,observ)"
   ]
  },
  {
   "cell_type": "code",
   "execution_count": 9,
   "metadata": {},
   "outputs": [
    {
     "data": {
      "text/plain": [
       "true"
      ]
     },
     "execution_count": 9,
     "metadata": {},
     "output_type": "execute_result"
    }
   ],
   "source": [
    "# Test collision checker\n",
    "collision_checker(pomdp,SingleOCFState(0.0,0.0,1.0,0.0,0.0,0.0))\n"
   ]
  },
  {
   "cell_type": "code",
   "execution_count": 10,
   "metadata": {},
   "outputs": [
    {
     "data": {
      "text/plain": [
       "false"
      ]
     },
     "execution_count": 10,
     "metadata": {},
     "output_type": "execute_result"
    }
   ],
   "source": [
    "# Test isterminal\n",
    "isterminal(pomdp, SingleOCFState(0.0,50.0,10.0,0.0,0.0,0.0))\n"
   ]
  },
  {
   "cell_type": "code",
   "execution_count": 11,
   "metadata": {},
   "outputs": [
    {
     "name": "stdout",
     "output_type": "stream",
     "text": [
      "state is: SingleOCFState(0.0, 0.0, 49.0, -5.0, 1.57, 0.5)\n",
      "moving SingleOCFAction(1.0, 0.0)\n",
      "state is: SingleOCFState(0.0, 1.0769230769230769, 49.0, -3.888888888888889, 1.57, 0.5)\n",
      "moving SingleOCFAction(1.0, 0.0)\n",
      "state is: SingleOCFState(0.0, 2.1538461538461537, 49.0, -2.7777777777777777, 1.57, 0.5)\n",
      "moving SingleOCFAction(1.0, 0.0)\n",
      "state is: SingleOCFState(0.0, 2.1538461538461537, 49.0, -1.6666666666666667, 1.57, 0.5)\n",
      "moving SingleOCFAction(1.0, 0.0)\n",
      "state is: SingleOCFState(0.0, 2.1538461538461537, 46.916666666666664, -1.6666666666666667, 1.57, 0.5)\n",
      "moving SingleOCFAction(1.0, 0.0)\n",
      "state is: SingleOCFState(0.0, 2.1538461538461537, 44.833333333333336, -1.6666666666666667, 1.57, 0.5)\n",
      "moving SingleOCFAction(1.0, 0.0)\n",
      "state is: SingleOCFState(0.0, 2.1538461538461537, 42.75, -0.5555555555555556, 1.57, 0.5)\n",
      "moving SingleOCFAction(1.0, 0.0)\n",
      "state is: SingleOCFState(0.0, 3.230769230769231, 40.666666666666664, -0.5555555555555556, 1.57, 0.5)\n",
      "moving SingleOCFAction(1.0, 0.0)\n",
      "state is: SingleOCFState(0.0, 3.230769230769231, 38.583333333333336, 0.5555555555555556, 1.57, 0.5)\n",
      "moving SingleOCFAction(1.0, 0.0)\n",
      "state is: SingleOCFState(0.0, 3.230769230769231, 36.5, 1.6666666666666667, 1.57, 0.5)\n",
      "moving SingleOCFAction(1.0, 0.0)\n"
     ]
    }
   ],
   "source": [
    "# Simulate\n",
    "s0 = SingleOCFState(0.0, 0.0, 49.0, -5.0, 1.57, 0.5)\n",
    "\n",
    "sim(pomdp, s0, initial_obs=s0, max_steps=10) do s\n",
    "    println(\"state is: $s\")\n",
    "    a = SingleOCFAction(1.0, 0.0)\n",
    "    println(\"moving $a\")\n",
    "    return a\n",
    "end;\n"
   ]
  },
  {
   "cell_type": "code",
   "execution_count": 12,
   "metadata": {},
   "outputs": [
    {
     "data": {
      "text/plain": [
       "11-element Array{SingleOCFState,1}:\n",
       " SingleOCFState(0.0, 0.0, 49.0, -5.0, 1.57, 0.0)\n",
       " SingleOCFState(0.5, 0.0, 49.0, -5.0, 1.57, 0.0)\n",
       " SingleOCFState(1.0, 0.0, 49.0, -5.0, 1.57, 0.0)\n",
       " SingleOCFState(1.0, 0.0, 49.0, -5.0, 1.57, 0.0)\n",
       " SingleOCFState(0.5, 0.0, 49.0, -5.0, 1.57, 0.0)\n",
       " SingleOCFState(1.0, 0.0, 49.0, -5.0, 1.57, 0.0)\n",
       " SingleOCFState(0.5, 0.0, 49.0, -5.0, 1.57, 0.0)\n",
       " SingleOCFState(1.0, 0.0, 49.0, -5.0, 1.57, 0.0)\n",
       " SingleOCFState(1.0, 0.0, 49.0, -5.0, 1.57, 0.0)\n",
       " SingleOCFState(0.5, 0.0, 49.0, -5.0, 1.57, 0.0)\n",
       " SingleOCFState(1.0, 0.0, 49.0, -5.0, 1.57, 0.0)"
      ]
     },
     "execution_count": 12,
     "metadata": {},
     "output_type": "execute_result"
    }
   ],
   "source": [
    "# Simulate to prefer\n",
    "#=\n",
    "    ego_y::Float64\n",
    "    ego_v::Float64    \n",
    "    ped_s::Float64\n",
    "    ped_T::Float64\n",
    "    ped_theta::Float64\n",
    "    ped_v::Float64\n",
    "=#\n",
    "\n",
    "hr = HistoryRecorder(max_steps = 10)\n",
    "policy = RandomPolicy(pomdp)\n",
    "\n",
    "\n",
    "s0 = SingleOCFState(0.0, 0.0, 49.0, -5.0, 1.57, 0.0)\n",
    "h = simulate(hr, pomdp, policy, updater(policy), nothing, s0)\n",
    "h.state_hist"
   ]
  },
  {
   "cell_type": "code",
   "execution_count": 13,
   "metadata": {},
   "outputs": [
    {
     "name": "stderr",
     "output_type": "stream",
     "text": [
      "20-Sep 15:02:01:WARNING:root:Keyword args for solve(::QMDPSolver, ::POMDP) are no longer supported. For verbose output, use the verbose option in the ValueIterationSolver\n"
     ]
    },
    {
     "data": {
      "text/plain": [
       "POMDPToolbox.AlphaVectorPolicy{SingleOCFPOMDP,SingleOCFAction}(SingleOCFPOMDP\n",
       "  env: AutomotivePOMDPs.CrosswalkEnv\n",
       "  ego_type: AutomotiveDrivingModels.VehicleDef\n",
       "  ped_type: AutomotiveDrivingModels.VehicleDef\n",
       "  longitudinal_actions: Array{Float64}((5,)) [1.0, 0.0, -1.0, -2.0, -4.0]\n",
       "  lateral_actions: Array{Float64}((3,)) [1.0, 0.0, -1.0]\n",
       "  ΔT: Float64 0.5\n",
       "  v_noise: Array{Float64}((1,)) [0.0]\n",
       "  theta_noise: Array{Float64}((1,)) [0.0]\n",
       "  pos_obs_noise: Float64 1.0\n",
       "  vel_obs_noise: Float64 1.0\n",
       "  collision_cost: Float64 -1.0\n",
       "  action_cost_lon: Float64 0.0\n",
       "  action_cost_lat: Float64 0.0\n",
       "  goal_reward: Float64 1.0\n",
       "  γ: Float64 0.95\n",
       "  state_space_grid: GridInterpolations.RectangleGrid{6}\n",
       "  state_space: Array{SingleOCFState}((437500,))\n",
       "  action_space: Array{SingleOCFAction}((15,))\n",
       ", Array{Float64,1}[[0.0, 0.0, 0.0, 0.0, 0.0, 0.0, 0.0, 0.0, 0.0, 0.0  …  0.0, 0.0, 0.0, 0.0, 0.0, 0.0, 0.0, 0.0, 0.0, 0.0], [0.0, 0.0, 0.0, 0.0, 0.0, 0.0, 0.0, 0.0, 0.0, 0.0  …  0.0, 0.0, 0.0, 0.0, 0.0, 0.0, 0.0, 0.0, 0.0, 0.0], [0.0, 0.0, 0.0, 0.0, 0.0, 0.0, 0.0, 0.0, 0.0, 0.0  …  0.0, 0.0, 0.0, 0.0, 0.0, 0.0, 0.0, 0.0, 0.0, 0.0], [0.0, 0.0, 0.0, 0.0, 0.0, 0.0, 0.0, 0.0, 0.0, 0.0  …  0.0, 0.0, 0.0, 0.0, 0.0, 0.0, 0.0, 0.0, 0.0, 0.0], [0.0, 0.0, 0.0, 0.0, 0.0, 0.0, 0.0, 0.0, 0.0, 0.0  …  0.0, 0.0, 0.0, 0.0, 0.0, 0.0, 0.0, 0.0, 0.0, 0.0], [0.0, 0.0, 0.0, 0.0, 0.0, 0.0, 0.0, 0.0, 0.0, 0.0  …  0.0, 0.0, 0.0, 0.0, 0.0, 0.0, 0.0, 0.0, 0.0, 0.0], [0.0, 0.0, 0.0, 0.0, 0.0, 0.0, 0.0, 0.0, 0.0, 0.0  …  0.0, 0.0, 0.0, 0.0, 0.0, 0.0, 0.0, 0.0, 0.0, 0.0], [0.0, 0.0, 0.0, 0.0, 0.0, 0.0, 0.0, 0.0, 0.0, 0.0  …  0.0, 0.0, 0.0, 0.0, 0.0, 0.0, 0.0, 0.0, 0.0, 0.0], [0.0, 0.0, 0.0, 0.0, 0.0, 0.0, 0.0, 0.0, 0.0, 0.0  …  0.0, 0.0, 0.0, 0.0, 0.0, 0.0, 0.0, 0.0, 0.0, 0.0], [0.0, 0.0, 0.0, 0.0, 0.0, 0.0, 0.0, 0.0, 0.0, 0.0  …  0.0, 0.0, 0.0, 0.0, 0.0, 0.0, 0.0, 0.0, 0.0, 0.0], [0.0, 0.0, 0.0, 0.0, 0.0, 0.0, 0.0, 0.0, 0.0, 0.0  …  0.0, 0.0, 0.0, 0.0, 0.0, 0.0, 0.0, 0.0, 0.0, 0.0], [0.0, 0.0, 0.0, 0.0, 0.0, 0.0, 0.0, 0.0, 0.0, 0.0  …  0.0, 0.0, 0.0, 0.0, 0.0, 0.0, 0.0, 0.0, 0.0, 0.0], [0.0, 0.0, 0.0, 0.0, 0.0, 0.0, 0.0, 0.0, 0.0, 0.0  …  0.0, 0.0, 0.0, 0.0, 0.0, 0.0, 0.0, 0.0, 0.0, 0.0], [0.0, 0.0, 0.0, 0.0, 0.0, 0.0, 0.0, 0.0, 0.0, 0.0  …  0.0, 0.0, 0.0, 0.0, 0.0, 0.0, 0.0, 0.0, 0.0, 0.0], [0.0, 0.0, 0.0, 0.0, 0.0, 0.0, 0.0, 0.0, 0.0, 0.0  …  0.0, 0.0, 0.0, 0.0, 0.0, 0.0, 0.0, 0.0, 0.0, 0.0]], SingleOCFAction[SingleOCFAction(1.0, 1.0), SingleOCFAction(0.0, 1.0), SingleOCFAction(-1.0, 1.0), SingleOCFAction(-2.0, 1.0), SingleOCFAction(-4.0, 1.0), SingleOCFAction(1.0, 0.0), SingleOCFAction(0.0, 0.0), SingleOCFAction(-1.0, 0.0), SingleOCFAction(-2.0, 0.0), SingleOCFAction(-4.0, 0.0), SingleOCFAction(1.0, -1.0), SingleOCFAction(0.0, -1.0), SingleOCFAction(-1.0, -1.0), SingleOCFAction(-2.0, -1.0), SingleOCFAction(-4.0, -1.0)])"
      ]
     },
     "execution_count": 13,
     "metadata": {},
     "output_type": "execute_result"
    }
   ],
   "source": [
    "using QMDP\n",
    "\n",
    "solver = QMDPSolver(max_iterations=50, tolerance=1e-3) \n",
    "# run the solver\n",
    "qmdp_policy = solve(solver, pomdp, verbose=true)\n"
   ]
  }
 ],
 "metadata": {
  "kernelspec": {
   "display_name": "Julia 0.6.4",
   "language": "julia",
   "name": "julia-0.6"
  },
  "language_info": {
   "file_extension": ".jl",
   "mimetype": "application/julia",
   "name": "julia",
   "version": "0.6.4"
  }
 },
 "nbformat": 4,
 "nbformat_minor": 2
}
