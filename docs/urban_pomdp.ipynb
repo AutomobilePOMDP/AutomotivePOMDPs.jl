{
 "cells": [
  {
   "cell_type": "markdown",
   "metadata": {},
   "source": [
    "# Urban POMDP"
   ]
  },
  {
   "cell_type": "code",
   "execution_count": 1,
   "metadata": {},
   "outputs": [
    {
     "name": "stderr",
     "output_type": "stream",
     "text": [
      "WARNING: Method definition info(Any...) in module Base at util.jl:532 overwritten in module Logging at /mnt/c/Users/Maxime/wsl/.julia/v0.6/Logging/src/Logging.jl:115.\n",
      "WARNING: Method definition warn(Any...) in module Base at util.jl:585 overwritten in module Logging at /mnt/c/Users/Maxime/wsl/.julia/v0.6/Logging/src/Logging.jl:115.\n"
     ]
    }
   ],
   "source": [
    "using POMDPs, StatsBase, POMDPToolbox, RLInterface, Parameters, GridInterpolations\n",
    "using AutomotiveDrivingModels,AutoViz\n",
    "using Reel "
   ]
  },
  {
   "cell_type": "code",
   "execution_count": 2,
   "metadata": {},
   "outputs": [
    {
     "name": "stderr",
     "output_type": "stream",
     "text": [
      "WARNING: Method definition copyto!(Array{Float64, 1}, AutomotiveDrivingModels.LatLonAccel) in module AutomotiveDrivingModels at /mnt/c/Users/Maxime/wsl/.julia/v0.6/AutomotiveDrivingModels/src/2d/actions/lat_lon_accel.jl:13 overwritten in module AutoUrban at /mnt/c/Users/Maxime/wsl/.julia/v0.6/AutoUrban/src/simulation/actions.jl:10.\n",
      "WARNING: Method definition split_o(Array{Float64, 1}, AutomotivePOMDPs.UrbanPOMDP) in module AutomotivePOMDPs at /home/maxime/Maxime/OneDrive - Leland Stanford Junior University/Research/AutomotivePOMDPs/src/generative_pomdps/urban/generative_model.jl:559 overwritten at /home/maxime/Maxime/OneDrive - Leland Stanford Junior University/Research/AutomotivePOMDPs/src/decomposition/base_scenarios.jl:38.\n",
      "WARNING: Method definition #split_o(Array{Any, 1}, typeof(AutomotivePOMDPs.split_o), Array{Float64, 1}, AutomotivePOMDPs.UrbanPOMDP) in module AutomotivePOMDPs overwritten.\n"
     ]
    }
   ],
   "source": [
    "# include(\"AutomotivePOMDPs.jl\")\n",
    "using AutomotivePOMDPs\n",
    "using AutomotiveSensors"
   ]
  },
  {
   "cell_type": "code",
   "execution_count": 3,
   "metadata": {},
   "outputs": [],
   "source": [
    "rng = MersenneTwister(1);"
   ]
  },
  {
   "cell_type": "code",
   "execution_count": 4,
   "metadata": {
    "scrolled": true
   },
   "outputs": [],
   "source": [
    "params = UrbanParams(nlanes_main=1,\n",
    "                     crosswalk_pos =[VecSE2(6, 0., pi/2), VecSE2(-6, 0., pi/2), VecSE2(0., -5., 0.)],\n",
    "                     crosswalk_length =  [14.0, 14., 14.0],\n",
    "                     crosswalk_width = [4.0, 4.0, 3.1],\n",
    "                     stop_line = 22.0)\n",
    "env = UrbanEnv(params=params);\n",
    "obs_dist = ObstacleDistribution(env)\n",
    "pomdp = UrbanPOMDP(env=env, \n",
    "                   sensor=PerfectSensor(),\n",
    "                   obs_dist=obs_dist,\n",
    "                   max_obstacles=1,\n",
    "                   max_peds=1,\n",
    "                   max_cars=5, \n",
    "                   ped_birth=0.1, \n",
    "                   ego_goal=LaneTag(2, 1));"
   ]
  },
  {
   "cell_type": "code",
   "execution_count": 5,
   "metadata": {},
   "outputs": [
    {
     "data": {
      "text/plain": [
       "POMDPToolbox.FunctionPolicy(#3)"
      ]
     },
     "execution_count": 5,
     "metadata": {},
     "output_type": "execute_result"
    }
   ],
   "source": [
    "policy = solve(RandomSolver(rng), pomdp)\n",
    "up = updater(policy);\n",
    "policy = FunctionPolicy(s->UrbanAction(0.0))"
   ]
  },
  {
   "cell_type": "code",
   "execution_count": 17,
   "metadata": {
    "scrolled": false
   },
   "outputs": [
    {
     "name": "stdout",
     "output_type": "stream",
     "text": [
      "  0.045259 seconds (186.84 k allocations: 5.614 MiB, 33.33% gc time)\n"
     ]
    }
   ],
   "source": [
    "hr = HistoryRecorder(rng=rng, max_steps=20)\n",
    "@time hist = simulate(hr, pomdp, policy, up);"
   ]
  },
  {
   "cell_type": "code",
   "execution_count": 18,
   "metadata": {
    "scrolled": false
   },
   "outputs": [
    {
     "data": {
      "text/html": [
       "<video autoplay controls><source src=\"files/reel-2353082177546291485.webm?6614370586952560574\" type=\"video/webm\"></video>"
      ],
      "text/plain": [
       "Reel.Frames{MIME{Symbol(\"image/png\")}}(\"/tmp/tmph5qnMA\", 0x0000000000000015, 4.0, nothing)"
      ]
     },
     "execution_count": 18,
     "metadata": {},
     "output_type": "execute_result"
    }
   ],
   "source": [
    "duration, fps, render_hist = animate_scenes(hist.state_hist, pomdp.env, overlays = SceneOverlay[IDOverlay()], sim_dt=pomdp.ΔT, cam=StaticCamera(VecE2(0.,-10.), 14.))\n",
    "speed_factor = 2.\n",
    "film = roll(render_hist, fps = speed_factor*fps, duration = duration/speed_factor)"
   ]
  },
  {
   "cell_type": "code",
   "execution_count": 19,
   "metadata": {},
   "outputs": [
    {
     "data": {
      "image/png": "[encoded data removed]",
      "text/plain": [
       "Cairo.CairoSurface{UInt32}(Ptr{Void} @0x0000000005c1fa90, 1000.0, 600.0, #undef)"
      ]
     },
     "execution_count": 19,
     "metadata": {},
     "output_type": "execute_result"
    }
   ],
   "source": [
    "s = obs_to_scene(pomdp, hist.observation_hist[end])\n",
    "AutoViz.render(s, env, [IDOverlay()], cam=FitToContentCamera(0.))"
   ]
  },
  {
   "cell_type": "code",
   "execution_count": 8,
   "metadata": {},
   "outputs": [
    {
     "ename": "LoadError",
     "evalue": "\u001b[91mUndefVarError: hist not defined\u001b[39m",
     "output_type": "error",
     "traceback": [
      "\u001b[91mUndefVarError: hist not defined\u001b[39m",
      "",
      "Stacktrace:",
      " [1] \u001b[1manonymous\u001b[22m\u001b[22m at \u001b[1m./<missing>:?\u001b[22m\u001b[22m",
      " [2] \u001b[1minclude_string\u001b[22m\u001b[22m\u001b[1m(\u001b[22m\u001b[22m::String, ::String\u001b[1m)\u001b[22m\u001b[22m at \u001b[1m./loading.jl:522\u001b[22m\u001b[22m"
     ]
    }
   ],
   "source": [
    "for veh in hist.state_hist[20]\n",
    "    println(veh)\n",
    "end"
   ]
  },
  {
   "cell_type": "code",
   "execution_count": null,
   "metadata": {
    "collapsed": true,
    "scrolled": true
   },
   "outputs": [],
   "source": [
    "# Fast evaluation\n",
    "probs = 0.:0.1:1.0\n",
    "crash_array = zeros(length(probs))\n",
    "for (j,prob) in enumerate(probs)\n",
    "    pomdp.ped_birth = prob\n",
    "    n_eval = 1000\n",
    "    crashes, time_outs, successes = 0, 0, 0\n",
    "#     sim = RolloutSimulator(rng=rng, max_steps=100)\n",
    "    for i=1:n_eval\n",
    "        hr = HistoryRecorder(rng=rng, max_steps=100)\n",
    "        hist = simulate(hr, pomdp, policy, up)\n",
    "        r_tot = discounted_reward(hist)\n",
    "        if r_tot < 0.\n",
    "            crashes += 1\n",
    "        elseif r_tot == 0.\n",
    "            time_outs += 1\n",
    "            return\n",
    "        else \n",
    "            successes += 1\n",
    "        end\n",
    "    end\n",
    "    crash_array[j] = crashes\n",
    "    println(\"Crashes : \", crashes/10, \" Successes \", successes/10, \" Time outs \", time_outs/10)\n",
    "end"
   ]
  },
  {
   "cell_type": "code",
   "execution_count": null,
   "metadata": {
    "collapsed": true
   },
   "outputs": [],
   "source": []
  },
  {
   "cell_type": "code",
   "execution_count": null,
   "metadata": {
    "collapsed": true
   },
   "outputs": [],
   "source": [
    "lane = rand(rng, get_lanes(pomdp.env.roadway))\n",
    "route = random_route(rng, pomdp.env.roadway, lane)\n",
    "for l in route\n",
    "    println(l.tag)\n",
    "end"
   ]
  },
  {
   "cell_type": "code",
   "execution_count": null,
   "metadata": {
    "collapsed": true
   },
   "outputs": [],
   "source": [
    "conflict_lanes = get_conflict_lanes(pomdp.env.crosswalks[3], pomdp.env.roadway)\n",
    "for l in conflict_lanes\n",
    "    println(l.tag)\n",
    "end"
   ]
  },
  {
   "cell_type": "code",
   "execution_count": null,
   "metadata": {
    "collapsed": true
   },
   "outputs": [],
   "source": [
    "intersect(conflict_lanes, route)"
   ]
  },
  {
   "cell_type": "code",
   "execution_count": null,
   "metadata": {
    "collapsed": true
   },
   "outputs": [],
   "source": []
  },
  {
   "cell_type": "code",
   "execution_count": null,
   "metadata": {
    "collapsed": true
   },
   "outputs": [],
   "source": [
    "AutoViz.render(initialstate(pomdp, rng, true), env, [IDOverlay()], cam=FitToContentCamera(0.))"
   ]
  },
  {
   "cell_type": "code",
   "execution_count": null,
   "metadata": {
    "collapsed": true
   },
   "outputs": [],
   "source": [
    "n_steps = 100\n",
    "scenes = Scene[]\n",
    "pomdp.ped_birth = 0.5\n",
    "s = initialstate(pomdp, rng)\n",
    "push!(scenes, s)\n",
    "for step=1:n_steps\n",
    "    sp = generate_s(pomdp, s, UrbanAction(0.), rng)\n",
    "    s = sp\n",
    "    push!(scenes, s)\n",
    "end"
   ]
  },
  {
   "cell_type": "code",
   "execution_count": null,
   "metadata": {
    "collapsed": true
   },
   "outputs": [],
   "source": [
    "duration, fps, render_hist = animate_scenes(scenes, pomdp.env, overlays = SceneOverlay[IDOverlay()], sim_dt=pomdp.ΔT)\n",
    "speed_factor = 2.\n",
    "film = roll(render_hist, fps = speed_factor*fps, duration = duration/speed_factor)"
   ]
  },
  {
   "cell_type": "code",
   "execution_count": null,
   "metadata": {
    "collapsed": true
   },
   "outputs": [],
   "source": [
    "pomdp.models[7].intersection_driver"
   ]
  },
  {
   "cell_type": "code",
   "execution_count": null,
   "metadata": {
    "collapsed": true
   },
   "outputs": [],
   "source": [
    "function initial_pedestrian(pomdp::UrbanPOMDP, scene::Scene, rng::AbstractRNG, first_scene::Bool = false)\n",
    "    env = pomdp.env\n",
    "    crosswalk_pos = env.params.crosswalk_pos\n",
    "\n",
    "    # position along the crosswalk\n",
    "    t0 = rand(rng, Uniform(-env.params.crosswalk_width/2, env.params.crosswalk_width/2))\n",
    "    s0 = rand(rng, [0., get_end(env.crosswalk)])\n",
    "    ϕ0 = float(π)\n",
    "    if s0 == 0.\n",
    "        ϕ0 = 0.\n",
    "    end\n",
    "    if first_scene\n",
    "        s0 = rand(rng, Uniform(0., get_end(env.crosswalk)))\n",
    "    end\n",
    "\n",
    "    #velocity\n",
    "    v0 = rand(rng, Uniform(0., env.params.ped_max_speed))\n",
    "    posF = Frenet(env.crosswalk, s0, t0, ϕ0)\n",
    "\n",
    "    ped_initialstate = VehicleState(posF, env.roadway, v0);\n",
    "\n",
    "    # new id, increment last id\n",
    "    max_id = 0\n",
    "    for veh in scene\n",
    "        if veh.id > max_id\n",
    "            max_id = veh.id\n",
    "        end\n",
    "    end\n",
    "    id = max_id + 1\n",
    "    if max_id == 0\n",
    "        id = 2\n",
    "    end\n",
    "\n",
    "\n",
    "    return Vehicle(ped_initialstate, AutomotivePOMDPs.PEDESTRIAN_DEF, id)\n",
    "end"
   ]
  },
  {
   "cell_type": "code",
   "execution_count": null,
   "metadata": {
    "collapsed": true
   },
   "outputs": [],
   "source": [
    "scene = Scene()\n",
    "models = Dict{Int, DriverModel}()\n",
    "for i=1:5\n",
    "    ped = initial_pedestrian(pomdp, scene, rng, true)\n",
    "    push!(scene, ped)\n",
    "    models[ped.id] = ConstantPedestrian()\n",
    "end\n",
    "# car = initial_car(pomdp, scene, rng)\n",
    "# collision point 7.0, 4.5\n",
    "car = Vehicle(VehicleState(Frenet(env.roadway[LaneTag(3,1)], 0.), env.roadway, 6.), VehicleDef(), 1)\n",
    "push!(scene, car);\n",
    "AutoViz.render(scene, env, cam=FitToContentCamera(0.))"
   ]
  },
  {
   "cell_type": "code",
   "execution_count": null,
   "metadata": {
    "collapsed": true
   },
   "outputs": [],
   "source": [
    "timestep = 0.5\n",
    "\n",
    "lane = get_lane(pomdp.env.roadway, car)\n",
    "route = random_route(rng, pomdp.env.roadway, lane)\n",
    "intersection_entrances = get_start_lanes(pomdp.env.roadway)\n",
    "if !(route[1] ∈ intersection_entrances)\n",
    "    intersection = Lane[]\n",
    "    intersection_exits = Lane[]\n",
    "else\n",
    "    intersection_exits = get_exit_lanes(pomdp.env.roadway)\n",
    "    intersection=Lane[route[1], route[2]]\n",
    "end\n",
    "navigator = RouteFollowingIDM(route=route)\n",
    "intersection_driver = StopIntersectionDriver(navigator= navigator,\n",
    "#                                                        intersection=intersection,\n",
    "                                                       intersection_entrances = intersection_entrances,\n",
    "                                                       intersection_exits = intersection_exits,\n",
    "                                                       stop_delta=0.,\n",
    "                                                       accel_tol=0.)\n",
    "cw_conflict_lanes = get_conflict_lanes(pomdp.env.crosswalk, pomdp.env.roadway)\n",
    "crosswalk_driver = CrosswalkDriver(navigator = navigator,\n",
    "                                   crosswalk = pomdp.env.crosswalk,\n",
    "                                   conflict_lanes = cw_conflict_lanes,\n",
    "                                   intersection_entrances = intersection_entrances,\n",
    "                                   yield=!isempty(intersect(cw_conflict_lanes, route)),\n",
    "                                   debug=true)\n",
    "models[car.id] = UrbanDriver(navigator=navigator,\n",
    "                        intersection_driver=intersection_driver,\n",
    "                       crosswalk_driver=crosswalk_driver,\n",
    "                            debug=true           )\n",
    "\n",
    "nticks = 50\n",
    "rec = SceneRecord(nticks+1, timestep)\n",
    "@time simulate!(rec, scene, pomdp.env.roadway, models, nticks)"
   ]
  },
  {
   "cell_type": "code",
   "execution_count": null,
   "metadata": {
    "collapsed": true
   },
   "outputs": [],
   "source": [
    "cam = FitToContentCamera(0.)\n",
    "duration, fps, render_rec = animate_record(pomdp.env, rec, sim_dt=timestep, overlays = SceneOverlay[IDOverlay()])\n",
    "film = roll(render_rec, fps = fps, duration = duration)"
   ]
  },
  {
   "cell_type": "code",
   "execution_count": null,
   "metadata": {
    "collapsed": true
   },
   "outputs": [],
   "source": [
    "scene = initialstate(pomdp, rng)\n",
    "AutoViz.render(scene, env, [IDOverlay()], cam=FitToContentCamera(0.))"
   ]
  },
  {
   "cell_type": "code",
   "execution_count": null,
   "metadata": {
    "collapsed": true
   },
   "outputs": [],
   "source": [
    "function lane_to_segment(lane::Lane, roadway::Roadway)\n",
    "    # only works for straight lanes\n",
    "    lane_a = get_posG(Frenet(lane, 0.), roadway)\n",
    "    lane_b = get_posG(Frenet(lane, get_end(lane)), roadway)\n",
    "    return LineSegment(lane_a, lane_b)\n",
    "end\n",
    "\n",
    "function  get_conflict_lanes(crosswalk::Lane, roadway::Roadway)\n",
    "    # find lane intersecting with crosswalk \n",
    "    cw_seg = lane_to_segment(crosswalk, roadway)    \n",
    "    conflict_lanes = Lane[]\n",
    "    lanes = get_lanes(roadway)\n",
    "    for lane in lanes\n",
    "        lane_seg = lane_to_segment(lane, roadway)\n",
    "        if intersects(lane_seg, cw_seg) && !(lane ∈ conflict_lanes)\n",
    "            push!(conflict_lanes, lane)\n",
    "        end\n",
    "    end\n",
    "    return conflict_lanes\n",
    "end\n",
    "\n",
    "# return +1 if going toward, -1 if going away\n",
    "function direction_from_center(ped::Vehicle, crosswalk::Lane)\n",
    "    s_ped = ped.state.posF.s\n",
    "    Δs = get_end(crosswalk)/2 - s_ped\n",
    "    return sign(Δs*cos(ped.state.posF.ϕ))\n",
    "end\n",
    "\n",
    "function is_crossing(ped::Vehicle, crosswalk::Lane, conflict_lanes::Vector{Lane})\n",
    "    # check if the pedestrian is in the conflict zone\n",
    "    for lane in conflict_lanes\n",
    "        ped_f = Frenet(ped.state.posG, lane, roadway)\n",
    "        if abs(ped_f.t) < lane.width/2\n",
    "            return true\n",
    "        end\n",
    "    end\n",
    "    # at this point, the pedestrian is not on the road\n",
    "    # check if she is going to cross or not\n",
    "    if direction_from_center(ped, crosswalk) > 0.\n",
    "        return true\n",
    "    end\n",
    "    return false\n",
    "end"
   ]
  },
  {
   "cell_type": "code",
   "execution_count": null,
   "metadata": {
    "collapsed": true
   },
   "outputs": [],
   "source": []
  },
  {
   "cell_type": "code",
   "execution_count": null,
   "metadata": {
    "collapsed": true
   },
   "outputs": [],
   "source": [
    "# given crosswalk compute the \"conflict zone\"\n",
    "crosswalk = env.crosswalk\n",
    "conflict_lanes = get_conflict_lanes(crosswalk, env.roadway)\n",
    "\n",
    "ped = scene[findfirst(scene, 5)]\n",
    "is_crossing(ped, crosswalk, conflict_lanes)"
   ]
  },
  {
   "cell_type": "code",
   "execution_count": null,
   "metadata": {
    "collapsed": true
   },
   "outputs": [],
   "source": [
    "function get_stop_zone(crosswalk::Lane, roadway::Roadway)\n",
    "end"
   ]
  },
  {
   "cell_type": "code",
   "execution_count": null,
   "metadata": {
    "collapsed": true
   },
   "outputs": [],
   "source": [
    "length(conflict_lanes)"
   ]
  },
  {
   "cell_type": "code",
   "execution_count": null,
   "metadata": {
    "collapsed": true
   },
   "outputs": [],
   "source": [
    "lane_seg = lane_to_segment(lanes[3], roadway)"
   ]
  },
  {
   "cell_type": "code",
   "execution_count": null,
   "metadata": {
    "collapsed": true
   },
   "outputs": [],
   "source": [
    "methods(get_posG)"
   ]
  },
  {
   "cell_type": "code",
   "execution_count": null,
   "metadata": {
    "collapsed": true
   },
   "outputs": [],
   "source": [
    "roadway = env.roadway\n",
    "veh = scene[findfirst(scene, 8)]\n",
    "lane = get_lane(roadway, veh)"
   ]
  },
  {
   "cell_type": "code",
   "execution_count": null,
   "metadata": {
    "collapsed": true
   },
   "outputs": [],
   "source": [
    "methods(Frenet)"
   ]
  },
  {
   "cell_type": "code",
   "execution_count": null,
   "metadata": {
    "collapsed": true
   },
   "outputs": [],
   "source": [
    "function is_in_lane(veh::Vehicle, lane::Lane, roadway::Roadway)\n",
    "    pos_g = veh.state.posG\n",
    "    proj(pos_g, lane)\n",
    "end"
   ]
  },
  {
   "cell_type": "code",
   "execution_count": null,
   "metadata": {
    "collapsed": true,
    "scrolled": true
   },
   "outputs": [],
   "source": [
    "methods(proj)"
   ]
  },
  {
   "cell_type": "code",
   "execution_count": null,
   "metadata": {
    "collapsed": true
   },
   "outputs": [],
   "source": [
    "using Interact\n",
    "\n",
    "scene = Scene()\n",
    "\n",
    "type LaneOverlay <: SceneOverlay\n",
    "    lane::Lane\n",
    "    color::Colorant\n",
    "end\n",
    "function AutoViz.render!(rendermodel::RenderModel, overlay::LaneOverlay, scene::Scene, roadway::Roadway)\n",
    "    render!(rendermodel, overlay.lane, roadway, color_asphalt=overlay.color)\n",
    "    return rendermodel\n",
    "end\n",
    "\n",
    "# @manipulate for i in 1 : length(env.roadway.segments)\n",
    "#     AutoViz.render(scene, env.roadway, [LaneOverlay(env.roadway[LaneTag(i,1)], RGBA(0.0,0.0,1.0,0.5))], cam=FitToContentCamera(0.))\n",
    "# end\n",
    "\n",
    "i=8\n",
    "AutoViz.render(scene, env.roadway, [LaneOverlay(env.roadway[LaneTag(i,1)], RGBA(0.0,0.0,1.0,0.5))], cam=FitToContentCamera(0.))"
   ]
  },
  {
   "cell_type": "code",
   "execution_count": null,
   "metadata": {
    "collapsed": true
   },
   "outputs": [],
   "source": [
    "env.roadway[LaneTag(1,1)].exits"
   ]
  },
  {
   "cell_type": "code",
   "execution_count": null,
   "metadata": {
    "collapsed": true
   },
   "outputs": [],
   "source": [
    "function is_straight(lane::Lane)\n",
    "end"
   ]
  }
 ],
 "metadata": {
  "kernelspec": {
   "display_name": "Julia 0.6.1",
   "language": "julia",
   "name": "julia-0.6"
  },
  "language_info": {
   "file_extension": ".jl",
   "mimetype": "application/julia",
   "name": "julia",
   "version": "0.6.1"
  }
 },
 "nbformat": 4,
 "nbformat_minor": 2
}
