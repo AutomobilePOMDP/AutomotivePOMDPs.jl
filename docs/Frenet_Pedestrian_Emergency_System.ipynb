{
 "cells": [
  {
   "cell_type": "code",
   "execution_count": 1,
   "metadata": {},
   "outputs": [
    {
     "name": "stderr",
     "output_type": "stream",
     "text": [
      "WARNING: Method definition warn(Any...) in module Base at util.jl:589 overwritten in module Logging at /home/xubuntu/.julia/v0.6/Logging/src/Logging.jl:115.\n",
      "WARNING: Method definition info(Any...) in module Base at util.jl:534 overwritten in module Logging at /home/xubuntu/.julia/v0.6/Logging/src/Logging.jl:115.\n",
      "WARNING: Method definition copy!(Array{Float64, 1}, AutomotiveDrivingModels.LatLonAccel) in module AutomotiveDrivingModels at /home/xubuntu/.julia/v0.6/AutomotiveDrivingModels/src/2d/actions/lat_lon_accel.jl:13 overwritten in module AutoUrban at /home/xubuntu/.julia/v0.6/AutoUrban/src/simulation/actions.jl:10.\n",
      "WARNING: Method definition split_o(Array{Float64, 1}, AutomotivePOMDPs.UrbanPOMDP) in module AutomotivePOMDPs at /home/xubuntu/stanford/AutomotivePOMDPs/src/generative_pomdps/urban/generative_model.jl:560 overwritten at /home/xubuntu/stanford/AutomotivePOMDPs/src/decomposition/base_scenarios.jl:38.\n",
      "WARNING: Method definition #split_o(Array{Any, 1}, typeof(AutomotivePOMDPs.split_o), Array{Float64, 1}, AutomotivePOMDPs.UrbanPOMDP) in module AutomotivePOMDPs overwritten.\n"
     ]
    }
   ],
   "source": [
    "using AutomotiveDrivingModels\n",
    "using AutoViz\n",
    "using AutomotiveSensors\n",
    "using AutomotivePOMDPs\n",
    "using Parameters\n",
    "using StaticArrays\n",
    "using ProfileView\n",
    "using Reel\n"
   ]
  },
  {
   "cell_type": "code",
   "execution_count": 2,
   "metadata": {},
   "outputs": [
    {
     "name": "stderr",
     "output_type": "stream",
     "text": [
      "WARNING: Method definition collision_checker(AutomotiveDrivingModels.VehicleState, AutomotiveDrivingModels.VehicleState, AutomotiveDrivingModels.VehicleDef, AutomotiveDrivingModels.VehicleDef) in module AutomotivePOMDPs at /home/xubuntu/stanford/AutomotivePOMDPs/src/utils/collision_checker.jl:14 overwritten in module Main at /home/xubuntu/stanford/AutomotivePOMDPs/src/pedestrian_crossing/frenet_pedestrian_emergency_system.jl:341.\n"
     ]
    },
    {
     "data": {
      "text/plain": [
       "getObjectConfidenceInterval (generic function with 1 method)"
      ]
     },
     "execution_count": 2,
     "metadata": {},
     "output_type": "execute_result"
    }
   ],
   "source": [
    "include(\"../src/pedestrian_crossing/frenet_pedestrian_emergency_system.jl\")"
   ]
  },
  {
   "cell_type": "code",
   "execution_count": 3,
   "metadata": {},
   "outputs": [
    {
     "data": {
      "text/plain": [
       "evaluateScenario (generic function with 1 method)"
      ]
     },
     "execution_count": 3,
     "metadata": {},
     "output_type": "execute_result"
    }
   ],
   "source": [
    "\n",
    "function evaluateScenario(ego_v, ped_v, obstacles, hitpoint)\n",
    "\n",
    "    timestep = 0.05\n",
    "\n",
    "    params = CrosswalkParams()    \n",
    "    if (length(obstacles) > 0)\n",
    "        params.obstacles = obstacles\n",
    "        params.obstacles_visible = true\n",
    "    else\n",
    "        params.obstacles_visible = false\n",
    "    end\n",
    "\n",
    "    env = CrosswalkEnv(params);\n",
    "\n",
    "\n",
    "    # fix values\n",
    "    ped_theta = π/2\n",
    "    ped_x = 50.0\n",
    "    ego_y = 0\n",
    "    ped_t_collision = 2.0\n",
    "\n",
    "    ped_y_offset_hitpoint = VehicleDef().width * hitpoint / 100 - VehicleDef().width/2\n",
    "    ped_y_end = ped_y_offset_hitpoint\n",
    "    ped_y_start = ped_y_end - ped_t_collision * ped_v\n",
    "    ego_x = ped_x - ego_v * ped_t_collision - VehicleDef().length/2;\n",
    "\n",
    "    ego_id = 1\n",
    "    ped_id = 2\n",
    "    ped2_id = 3\n",
    "    ped3_id = 4\n",
    "\n",
    "    # Car definition\n",
    "    ego_initial_state = VehicleState(VecSE2(ego_x, ego_y, 0.), env.roadway.segments[1].lanes[1], env.roadway, ego_v)\n",
    "    ego = Vehicle(ego_initial_state, VehicleDef(), ego_id)\n",
    "\n",
    "    # Pedestrian definition using our new Vehicle definition\n",
    "    ped_initial_state = VehicleState(VecSE2(ped_x,ped_y_start,ped_theta), env.crosswalk, env.roadway, ped_v)\n",
    "    ped = Vehicle(ped_initial_state, AutomotivePOMDPs.PEDESTRIAN_DEF, ped_id)\n",
    "\n",
    "    ped2 = Vehicle(VehicleState(VecSE2(40., 5., -1.57), env.crosswalk, env.roadway, 0.), AutomotivePOMDPs.PEDESTRIAN_DEF, ped2_id)\n",
    "    ped3 = Vehicle(VehicleState(VecSE2(53., 10., -1.57), env.crosswalk, env.roadway, 1.), AutomotivePOMDPs.PEDESTRIAN_DEF, ped3_id)\n",
    "\n",
    "    scene = Scene()\n",
    "    push!(scene, ego)\n",
    "    push!(scene, ped)\n",
    "    #push!(scene, ped2)\n",
    "    #push!(scene, ped3)\n",
    "\n",
    "    pos_noise = 0.05\n",
    "    vel_noise = 0.05\n",
    "    false_positive_rate = 0.05\n",
    "    false_negative_rate = 0.01\n",
    "    rng = MersenneTwister(1);\n",
    "    sensor = AutomotiveSensors.GaussianSensor(AutomotiveSensors.LinearNoise(10, pos_noise, 0.0), \n",
    "                     AutomotiveSensors.LinearNoise(10, vel_noise, 0.0), false_positive_rate, false_negative_rate, rng) \n",
    "\n",
    "    # define a model for each entities present in the scene\n",
    "    models = Dict{Int, DriverModel}()\n",
    "\n",
    "    models[ego_id] = EmergencySystem(a=LatLonAccel(0.0, 0.0),\n",
    "        env=env,\n",
    "        sensor=sensor, \n",
    "        obstacles=env.obstacles, \n",
    "        SAFETY_DISTANCE_LON=1.0,\n",
    "        THRESHOLD_COLLISION_RATE = 0.6,\n",
    "        THRESHOLD_TIME_TO_REACT = 0.99,    \n",
    "        timestep=timestep)\n",
    "\n",
    "    models[ped_id] = ConstantPedestrian(v_desired=ped_v, dawdling_amp=0.0) # dumb model\n",
    "    #models[ped2_id] = ConstantPedestrian(v_desired=1.0, dawdling_amp=0.05) # dumb model\n",
    "    #models[ped3_id] = ConstantPedestrian(v_desired=1.0, dawdling_amp=0.05) # dumb model\n",
    "\n",
    "    nticks = 60\n",
    "    rec = SceneRecord(nticks+1, timestep)\n",
    "\n",
    "    risk = Float64[]\n",
    "    collision_rate = Float64[]\n",
    "    ttc = Float64[]\n",
    "    brake_request = Bool[]\n",
    "    prediction = Vector{Array{Float64}}()\n",
    "    collision = Bool[]\n",
    "    sensor_observations = [Vehicle[]]\n",
    "\n",
    "    obs_callback = (ObservationCallback(risk, collision_rate, ttc, brake_request, prediction, sensor_observations, collision),)\n",
    "\n",
    "    simulate!(rec, scene, env.roadway, models, nticks, obs_callback)\n",
    "\n",
    "    return (rec, timestep, env, sensor, sensor_observations, risk, ttc, collision_rate, brake_request, prediction, collision)\n",
    "\n",
    "end\n"
   ]
  },
  {
   "cell_type": "code",
   "execution_count": 4,
   "metadata": {},
   "outputs": [],
   "source": [
    "ego_v = 7.0\n",
    "ped_v = 1.0\n",
    "hitpoint = 0\n",
    "\n",
    "obstacle_1 = ConvexPolygon([VecE2(40, -1.5), VecE2(40, -4.5), VecE2(46.5, -4.5), VecE2(46.5, -1.5)],4)\n",
    "obstacle_2 = ConvexPolygon([VecE2(40, +4.5), VecE2(40, +7.5), VecE2(46.5, +7.5), VecE2(46.5, +4.5)],4)\n",
    "#obstacles = [obstacle_1, obstacle_2]\n",
    "obstacles = [obstacle_1]\n",
    "#obstacles = []\n",
    "\n",
    "(rec, timestep, env, sensor, sensor_observations, risk, ttc, collision_rate, brake_request, prediction, collision) = evaluateScenario(ego_v, ped_v, obstacles, hitpoint);\n"
   ]
  },
  {
   "cell_type": "code",
   "execution_count": 5,
   "metadata": {},
   "outputs": [
    {
     "data": {
      "text/html": [
       "<video autoplay controls><source src=\"files/reel-9806815056037022292.webm?10535534635944139169\" type=\"video/webm\"></video>"
      ],
      "text/plain": [
       "Reel.Frames{MIME{Symbol(\"image/png\")}}(\"/tmp/tmprZIT9S\", 0x000000000000003d, 20.0, nothing)"
      ]
     },
     "execution_count": 5,
     "metadata": {},
     "output_type": "execute_result"
    }
   ],
   "source": [
    "duration, fps, render_hist = animate_record(rec, timestep, env, sensor, sensor_observations, risk, ttc, collision_rate, brake_request, prediction, CarFollowCamera(2,25.0))\n",
    "film = roll(render_hist, fps = fps, duration = duration)"
   ]
  },
  {
   "cell_type": "code",
   "execution_count": null,
   "metadata": {},
   "outputs": [],
   "source": []
  }
 ],
 "metadata": {
  "kernelspec": {
   "display_name": "Julia 0.6.4",
   "language": "julia",
   "name": "julia-0.6"
  },
  "language_info": {
   "file_extension": ".jl",
   "mimetype": "application/julia",
   "name": "julia",
   "version": "0.6.4"
  }
 },
 "nbformat": 4,
 "nbformat_minor": 2
}
