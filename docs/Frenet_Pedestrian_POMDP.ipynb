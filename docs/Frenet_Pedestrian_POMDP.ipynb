{
 "cells": [
  {
   "cell_type": "code",
   "execution_count": 1,
   "metadata": {},
   "outputs": [
    {
     "name": "stderr",
     "output_type": "stream",
     "text": [
      "WARNING: Method definition warn(Any...) in module Base at util.jl:589 overwritten in module Logging at /home/xubuntu/.julia/v0.6/Logging/src/Logging.jl:115.\n",
      "WARNING: Method definition info(Any...) in module Base at util.jl:534 overwritten in module Logging at /home/xubuntu/.julia/v0.6/Logging/src/Logging.jl:115.\n",
      "WARNING: Method definition copy!(Array{Float64, 1}, AutomotiveDrivingModels.LatLonAccel) in module AutomotiveDrivingModels at /home/xubuntu/.julia/v0.6/AutomotiveDrivingModels/src/2d/actions/lat_lon_accel.jl:13 overwritten in module AutoUrban at /home/xubuntu/.julia/v0.6/AutoUrban/src/simulation/actions.jl:10.\n",
      "WARNING: Method definition split_o(Array{Float64, 1}, AutomotivePOMDPs.UrbanPOMDP) in module AutomotivePOMDPs at /home/xubuntu/stanford/AutomotivePOMDPs/src/generative_pomdps/urban/generative_model.jl:560 overwritten at /home/xubuntu/stanford/AutomotivePOMDPs/src/decomposition/base_scenarios.jl:38.\n",
      "WARNING: Method definition #split_o(Array{Any, 1}, typeof(AutomotivePOMDPs.split_o), Array{Float64, 1}, AutomotivePOMDPs.UrbanPOMDP) in module AutomotivePOMDPs overwritten.\n"
     ]
    },
    {
     "data": {
      "text/plain": [
       "animate_record (generic function with 2 methods)"
      ]
     },
     "execution_count": 1,
     "metadata": {},
     "output_type": "execute_result"
    }
   ],
   "source": [
    "using AutomotiveDrivingModels\n",
    "using AutoViz\n",
    "using AutomotiveSensors\n",
    "using AutomotivePOMDPs\n",
    "using Parameters\n",
    "using StaticArrays\n",
    "using ProfileView\n",
    "\n",
    "using GridInterpolations \n",
    "using POMDPs\n",
    "using POMDPToolbox\n",
    "using QMDP\n",
    "using JLD\n",
    "using Reel\n",
    "using Revise\n",
    "\n",
    "\n",
    "include(\"../src/pedestrian_crossing/pomdp_types.jl\")\n",
    "include(\"../src/pedestrian_crossing/spaces.jl\")\n",
    "include(\"../src/pedestrian_crossing/transition.jl\")\n",
    "include(\"../src/pedestrian_crossing/observation.jl\")\n",
    "include(\"../src/pedestrian_crossing/belief.jl\")\n",
    "include(\"../src/pedestrian_crossing/helpers.jl\")\n",
    "\n",
    "include(\"../src/pedestrian_crossing/frenet_pedestrian_pomdp.jl\")\n"
   ]
  },
  {
   "cell_type": "code",
   "execution_count": 68,
   "metadata": {},
   "outputs": [
    {
     "name": "stdout",
     "output_type": "stream",
     "text": [
      "SingleOCFState(0.0, 11.11, 32.36733333333333, -5.0, 1.5707963267948966, 1.5)\n",
      "--------------------------POMDP high level planner----------------------- t: 0.0\n",
      "EGO: x/y:17.632666666666672 / 0.0 v: 11.11\n",
      "PED: x/y: 50.00038239596779 / -5.000597634476728 v: 1.4999895547553626\n",
      "delta_s: 32.36771572930112 delta_t: -5.000597634476728\n",
      "Observation cont: SingleOCFState(0.0, 11.11, 32.36771572930112, -5.000597634476728, 1.5707963267948966, 1.4999895547553626)\n",
      "init belief absent\n",
      "action before update: SingleOCFAction(0.0, 0.0)\n",
      "Pedestrian is absent: SingleOCFState(0.0, 11.0, -10.0, -10.0, 0.0, 0.0)\n",
      "ego_v_state_space: 11.0\n",
      "b-length: 1\n",
      "action after update: SingleOCFAction(-1.0, 0.0)\n",
      "--------------------------POMDP high level planner----------------------- t: 0.2\n",
      "EGO: x/y:19.834666666666674 / 0.0 v: 10.91\n",
      "PED: x/y: 50.00056391137899 / -4.69770491217616 v: 1.4977329136511994\n",
      "delta_s: 30.16589724471231 delta_t: -4.69770491217616\n",
      "Observation cont: SingleOCFState(0.0, 10.91, 30.16589724471231, -4.69770491217616, 1.5707963267948966, 1.4977329136511994)\n",
      "action before update: SingleOCFAction(-1.0, 0.0)\n",
      "Pedestrian is visible: SingleOCFState(0.0, 10.91, 30.16589724471231, -4.69770491217616, 1.5707963267948966, 1.4977329136511994)\n",
      "ego_v_state_space: 11.0\n",
      "b-length: 20\n",
      "action after update: SingleOCFAction(-2.0, 0.0)\n",
      "--------------------------POMDP high level planner----------------------- t: 0.4\n",
      "EGO: x/y:21.976666666666674 / 0.0 v: 10.51\n",
      "PED: x/y: 50.00265346942393 / -4.399416291712431 v: 2.000963271605038\n",
      "delta_s: 28.02598680275726 delta_t: -4.399416291712431\n",
      "Observation cont: SingleOCFState(0.0, 10.51, 28.02598680275726, -4.399416291712431, 1.5707963267948966, 2.000963271605038)\n",
      "action before update: SingleOCFAction(-2.0, 0.0)\n",
      "Pedestrian is visible: SingleOCFState(0.0, 10.51, 28.02598680275726, -4.399416291712431, 1.5707963267948966, 2.000963271605038)\n",
      "ego_v_state_space: 11.0\n",
      "b-length: 32\n",
      "action after update: SingleOCFAction(-2.0, 0.0)\n",
      "--------------------------POMDP high level planner----------------------- t: 0.6000000000000001\n",
      "EGO: x/y:24.038666666666675 / 0.0 v: 10.11\n",
      "PED: x/y: 50.00380831123156 / -3.999591604161674 v: 1.9999495487700663\n",
      "delta_s: 25.96514164456488 delta_t: -3.999591604161674\n",
      "Observation cont: SingleOCFState(0.0, 10.11, 25.96514164456488, -3.999591604161674, 1.5707963267948966, 1.9999495487700663)\n",
      "action before update: SingleOCFAction(-2.0, 0.0)\n",
      "Pedestrian is visible: SingleOCFState(0.0, 10.11, 25.96514164456488, -3.999591604161674, 1.5707963267948966, 1.9999495487700663)\n",
      "ego_v_state_space: 10.0\n",
      "b-length: 33\n",
      "action after update: SingleOCFAction(-2.0, 0.0)\n",
      "--------------------------POMDP high level planner----------------------- t: 0.8\n",
      "EGO: x/y:26.020666666666674 / 0.0 v: 9.709999999999999\n",
      "PED: x/y: 50.00169305580576 / -3.599879234035061 v: 1.9992423669622794\n",
      "delta_s: 23.981026389139085 delta_t: -3.599879234035061\n",
      "Observation cont: SingleOCFState(0.0, 9.709999999999999, 23.981026389139085, -3.599879234035061, 1.5707963267948966, 1.9992423669622794)\n",
      "action before update: SingleOCFAction(-2.0, 0.0)\n",
      "Pedestrian is visible: SingleOCFState(0.0, 9.709999999999999, 23.981026389139085, -3.599879234035061, 1.5707963267948966, 1.9992423669622794)\n",
      "ego_v_state_space: 10.0\n",
      "b-length: 48\n",
      "action after update: SingleOCFAction(-2.0, 0.0)\n",
      "--------------------------POMDP high level planner----------------------- t: 1.0\n",
      "EGO: x/y:27.922666666666675 / 0.0 v: 9.309999999999999\n",
      "PED: x/y: 50.00472602599953 / -3.1993299380187423 v: 1.5005508523775009\n",
      "delta_s: 22.082059359332867 delta_t: -3.1993299380187423\n",
      "Observation cont: SingleOCFState(0.0, 9.309999999999999, 22.082059359332867, -3.1993299380187423, 1.5707963267948966, 1.5005508523775009)\n",
      "action before update: SingleOCFAction(-2.0, 0.0)\n",
      "Pedestrian is visible: SingleOCFState(0.0, 9.309999999999999, 22.082059359332867, -3.1993299380187423, 1.5707963267948966, 1.5005508523775009)\n",
      "ego_v_state_space: 9.0\n",
      "b-length: 60\n",
      "action after update: SingleOCFAction(0.0, 0.0)\n",
      "--------------------------POMDP high level planner----------------------- t: 1.2\n",
      "EGO: x/y:29.784666666666674 / 0.0 v: 9.309999999999999\n",
      "PED: x/y: 50.00487365306326 / -2.900073148633338 v: 1.9992545356833593\n",
      "delta_s: 20.220206986396594 delta_t: -2.900073148633338\n",
      "Observation cont: SingleOCFState(0.0, 9.309999999999999, 20.220206986396594, -2.900073148633338, 1.5707963267948966, 1.9992545356833593)\n",
      "action before update: SingleOCFAction(0.0, 0.0)\n",
      "Pedestrian is visible: SingleOCFState(0.0, 9.309999999999999, 20.220206986396594, -2.900073148633338, 1.5707963267948966, 1.9992545356833593)\n",
      "ego_v_state_space: 9.0\n",
      "b-length: 76\n",
      "action after update: SingleOCFAction(-2.0, 0.0)\n",
      "--------------------------POMDP high level planner----------------------- t: 1.4\n",
      "EGO: x/y:31.606666666666673 / 0.0 v: 8.909999999999998\n",
      "PED: x/y: 50.0050019639708 / -2.500165136357803 v: 1.9978846297515727\n",
      "delta_s: 18.398335297304126 delta_t: -2.500165136357803\n",
      "Observation cont: SingleOCFState(0.0, 8.909999999999998, 18.398335297304126, -2.500165136357803, 1.5707963267948966, 1.9978846297515727)\n",
      "action before update: SingleOCFAction(-2.0, 0.0)\n",
      "Pedestrian is visible: SingleOCFState(0.0, 8.909999999999998, 18.398335297304126, -2.500165136357803, 1.5707963267948966, 1.9978846297515727)\n",
      "ego_v_state_space: 9.0\n",
      "b-length: 84\n",
      "action after update: SingleOCFAction(-2.0, 0.0)\n",
      "--------------------------POMDP high level planner----------------------- t: 1.5999999999999999\n",
      "EGO: x/y:33.348666666666674 / 0.0 v: 8.509999999999998\n",
      "PED: x/y: 50.00481101505287 / -2.099432304540261 v: 1.5007634989283234\n",
      "delta_s: 16.6561443483862 delta_t: -2.099432304540261\n",
      "Observation cont: SingleOCFState(0.0, 8.509999999999998, 16.6561443483862, -2.099432304540261, 1.5707963267948966, 1.5007634989283234)\n",
      "action before update: SingleOCFAction(-2.0, 0.0)\n",
      "Pedestrian is visible: SingleOCFState(0.0, 8.509999999999998, 16.6561443483862, -2.099432304540261, 1.5707963267948966, 1.5007634989283234)\n",
      "ego_v_state_space: 9.0\n",
      "b-length: 93\n",
      "action after update: SingleOCFAction(-4.0, 0.0)\n",
      "--------------------------POMDP high level planner----------------------- t: 1.7999999999999998\n",
      "EGO: x/y:34.97066666666667 / 0.0 v: 7.709999999999998\n",
      "PED: x/y: 50.00120786835496 / -1.8006646462443883 v: 1.9981969736757892\n",
      "delta_s: 15.03054120168828 delta_t: -1.8006646462443883\n",
      "Observation cont: SingleOCFState(0.0, 7.709999999999998, 15.03054120168828, -1.8006646462443883, 1.5707963267948966, 1.9981969736757892)\n",
      "action before update: SingleOCFAction(-4.0, 0.0)\n",
      "Pedestrian is visible: SingleOCFState(0.0, 7.709999999999998, 15.03054120168828, -1.8006646462443883, 1.5707963267948966, 1.9981969736757892)\n",
      "ego_v_state_space: 8.0\n",
      "b-length: 104\n",
      "action after update: SingleOCFAction(-4.0, 0.0)\n",
      "--------------------------POMDP high level planner----------------------- t: 1.9999999999999998\n",
      "EGO: x/y:36.43266666666668 / 0.0 v: 6.909999999999998\n",
      "PED: x/y: 50.00143476374409 / -1.3999295323986356 v: 2.00034179376738\n",
      "delta_s: 13.568768097077417 delta_t: -1.3999295323986356\n",
      "Observation cont: SingleOCFState(0.0, 6.909999999999998, 13.568768097077417, -1.3999295323986356, 1.5707963267948966, 2.00034179376738)\n",
      "action before update: SingleOCFAction(-4.0, 0.0)\n",
      "Pedestrian is visible: SingleOCFState(0.0, 6.909999999999998, 13.568768097077417, -1.3999295323986356, 1.5707963267948966, 2.00034179376738)\n",
      "ego_v_state_space: 7.0\n",
      "b-length: 121\n",
      "action after update: SingleOCFAction(-4.0, 0.0)\n",
      "--------------------------POMDP high level planner----------------------- t: 2.1999999999999997\n",
      "EGO: x/y:37.734666666666676 / 0.0 v: 6.1099999999999985\n",
      "PED: x/y: 50.00440926080424 / -0.9997936359185938 v: 1.4989911400444624\n",
      "delta_s: 12.269742594137561 delta_t: -0.9997936359185938\n",
      "Observation cont: SingleOCFState(0.0, 6.1099999999999985, 12.269742594137561, -0.9997936359185938, 1.5707963267948966, 1.4989911400444624)\n",
      "action before update: SingleOCFAction(-4.0, 0.0)\n",
      "Pedestrian is visible: SingleOCFState(0.0, 6.1099999999999985, 12.269742594137561, -0.9997936359185938, 1.5707963267948966, 1.4989911400444624)\n",
      "ego_v_state_space: 6.0\n",
      "b-length: 108\n",
      "action after update: SingleOCFAction(-4.0, 0.0)\n",
      "--------------------------POMDP high level planner----------------------- t: 2.4\n",
      "EGO: x/y:38.87666666666668 / 0.0 v: 5.309999999999999\n",
      "PED: x/y: 50.00550426056033 / -0.7013485334564911 v: 1.501240290900429\n",
      "delta_s: 11.12883759389365 delta_t: -0.7013485334564911\n",
      "Observation cont: SingleOCFState(0.0, 5.309999999999999, 11.12883759389365, -0.7013485334564911, 1.5707963267948966, 1.501240290900429)\n",
      "action before update: SingleOCFAction(-4.0, 0.0)\n",
      "Pedestrian is visible: SingleOCFState(0.0, 5.309999999999999, 11.12883759389365, -0.7013485334564911, 1.5707963267948966, 1.501240290900429)\n",
      "ego_v_state_space: 5.0\n",
      "b-length: 123\n",
      "action after update: SingleOCFAction(0.0, 0.0)\n",
      "--------------------------POMDP high level planner----------------------- t: 2.6\n",
      "EGO: x/y:39.93866666666668 / 0.0 v: 5.309999999999999\n",
      "PED: x/y: 50.00568481601317 / -0.4000302668866418 v: 1.999638917332244\n",
      "delta_s: 10.067018149346495 delta_t: -0.4000302668866418\n",
      "Observation cont: SingleOCFState(0.0, 5.309999999999999, 10.067018149346495, -0.4000302668866418, 1.5707963267948966, 1.999638917332244)\n",
      "action before update: SingleOCFAction(0.0, 0.0)\n",
      "Pedestrian is visible: SingleOCFState(0.0, 5.309999999999999, 10.067018149346495, -0.4000302668866418, 1.5707963267948966, 1.999638917332244)\n",
      "ego_v_state_space: 5.0\n",
      "b-length: 112\n",
      "action after update: SingleOCFAction(0.0, 0.0)\n",
      "--------------------------POMDP high level planner----------------------- t: 2.8000000000000003\n",
      "EGO: x/y:41.000666666666675 / 0.0 v: 5.309999999999999\n",
      "PED: x/y: 50.003405039235844 / -0.0011496275243934454 v: 1.0018806221746313\n",
      "delta_s: 9.002738372569162 delta_t: -0.0011496275243934454\n",
      "Observation cont: SingleOCFState(0.0, 5.309999999999999, 9.002738372569162, -0.0011496275243934454, 1.5707963267948966, 1.0018806221746313)\n",
      "action before update: SingleOCFAction(0.0, 0.0)\n",
      "Pedestrian is visible: SingleOCFState(0.0, 5.309999999999999, 9.002738372569162, -0.0011496275243934454, 1.5707963267948966, 1.0018806221746313)\n",
      "ego_v_state_space: 5.0\n",
      "b-length: 113\n",
      "action after update: SingleOCFAction(-4.0, 0.0)\n",
      "--------------------------POMDP high level planner----------------------- t: 3.0000000000000004\n"
     ]
    },
    {
     "name": "stdout",
     "output_type": "stream",
     "text": [
      "EGO: x/y:41.982666666666674 / 0.0 v: 4.509999999999999\n",
      "PED: x/y: 50.00301324372614 / 0.1990364560401791 v: 1.4986148919323241\n",
      "delta_s: 8.020346577059463 delta_t: 0.1990364560401791\n",
      "Observation cont: SingleOCFState(0.0, 4.509999999999999, 8.020346577059463, 0.1990364560401791, 1.5707963267948966, 1.4986148919323241)\n",
      "action before update: SingleOCFAction(-4.0, 0.0)\n",
      "Pedestrian is visible: SingleOCFState(0.0, 4.509999999999999, 8.020346577059463, 0.1990364560401791, 1.5707963267948966, 1.4986148919323241)\n",
      "ego_v_state_space: 5.0\n",
      "b-length: 17\n",
      "action after update: SingleOCFAction(-4.0, 0.0)\n",
      "--------------------------POMDP high level planner----------------------- t: 3.2000000000000006\n",
      "EGO: x/y:42.80466666666668 / 0.0 v: 3.709999999999999\n",
      "PED: x/y: 50.00190484125926 / 0.4982800106436838 v: 1.0003207692799874\n",
      "delta_s: 7.197238174592584 delta_t: 0.4982800106436838\n",
      "Observation cont: SingleOCFState(0.0, 3.709999999999999, 7.197238174592584, 0.4982800106436838, 1.5707963267948966, 1.0003207692799874)\n",
      "action before update: SingleOCFAction(-4.0, 0.0)\n",
      "Pedestrian is visible: SingleOCFState(0.0, 3.709999999999999, 7.197238174592584, 0.4982800106436838, 1.5707963267948966, 1.0003207692799874)\n",
      "ego_v_state_space: 4.0\n",
      "b-length: 36\n",
      "action after update: SingleOCFAction(-4.0, 0.0)\n",
      "--------------------------POMDP high level planner----------------------- t: 3.400000000000001\n",
      "EGO: x/y:43.466666666666676 / 0.0 v: 2.9099999999999993\n",
      "PED: x/y: 50.00296459678811 / 0.6995869126160197 v: 2.001001928512456\n",
      "delta_s: 6.536297930121428 delta_t: 0.6995869126160197\n",
      "Observation cont: SingleOCFState(0.0, 2.9099999999999993, 6.536297930121428, 0.6995869126160197, 1.5707963267948966, 2.001001928512456)\n",
      "action before update: SingleOCFAction(-4.0, 0.0)\n",
      "Pedestrian is visible: SingleOCFState(0.0, 2.9099999999999993, 6.536297930121428, 0.6995869126160197, 1.5707963267948966, 2.001001928512456)\n",
      "ego_v_state_space: 3.0\n",
      "b-length: 56\n",
      "action after update: SingleOCFAction(-4.0, 0.0)\n",
      "--------------------------POMDP high level planner----------------------- t: 3.600000000000001\n",
      "EGO: x/y:43.96866666666668 / 0.0 v: 2.1099999999999994\n",
      "PED: x/y: 50.00111703598701 / 1.0984067851319592 v: 1.4995612900242412\n",
      "delta_s: 6.03245036932033 delta_t: 1.0984067851319592\n",
      "Observation cont: SingleOCFState(0.0, 2.1099999999999994, 6.03245036932033, 1.0984067851319592, 1.5707963267948966, 1.4995612900242412)\n",
      "action before update: SingleOCFAction(-4.0, 0.0)\n",
      "Pedestrian is visible: SingleOCFState(0.0, 2.1099999999999994, 6.03245036932033, 1.0984067851319592, 1.5707963267948966, 1.4995612900242412)\n",
      "ego_v_state_space: 2.0\n",
      "b-length: 71\n",
      "action after update: SingleOCFAction(0.0, 0.0)\n",
      "--------------------------POMDP high level planner----------------------- t: 3.800000000000001\n",
      "EGO: x/y:44.390666666666675 / 0.0 v: 2.1099999999999994\n",
      "PED: x/y: 50.003983949848525 / 1.4021594331871066 v: 1.9990905209819625\n",
      "delta_s: 5.613317283181857 delta_t: 1.4021594331871066\n",
      "Observation cont: SingleOCFState(0.0, 2.1099999999999994, 5.613317283181857, 1.4021594331871066, 1.5707963267948966, 1.9990905209819625)\n",
      "action before update: SingleOCFAction(0.0, 0.0)\n",
      "Pedestrian is visible: SingleOCFState(0.0, 2.1099999999999994, 5.613317283181857, 1.4021594331871066, 1.5707963267948966, 1.9990905209819625)\n",
      "ego_v_state_space: 2.0\n",
      "b-length: 104\n",
      "action after update: SingleOCFAction(0.0, 0.0)\n",
      "--------------------------POMDP high level planner----------------------- t: 4.000000000000001\n",
      "EGO: x/y:44.81266666666667 / 0.0 v: 2.1099999999999994\n",
      "PED: x/y: 50.00384052263838 / 1.799732932964788 v: 1.0014990823939307\n",
      "delta_s: 5.191173855971705 delta_t: 1.799732932964788\n",
      "Observation cont: SingleOCFState(0.0, 2.1099999999999994, 5.191173855971705, 1.799732932964788, 1.5707963267948966, 1.0014990823939307)\n",
      "action before update: SingleOCFAction(0.0, 0.0)\n",
      "Pedestrian is visible: SingleOCFState(0.0, 2.1099999999999994, 5.191173855971705, 1.799732932964788, 1.5707963267948966, 1.0014990823939307)\n",
      "ego_v_state_space: 2.0\n",
      "b-length: 121\n",
      "action after update: SingleOCFAction(1.0, 0.0)\n",
      "--------------------------POMDP high level planner----------------------- t: 4.200000000000001\n",
      "EGO: x/y:45.25466666666667 / 0.0 v: 2.3099999999999996\n",
      "PED: x/y: 50.00322001999772 / 1.9995309203900717 v: 2.0002176240212086\n",
      "delta_s: 4.748553353331047 delta_t: 1.9995309203900717\n",
      "Observation cont: SingleOCFState(0.0, 2.3099999999999996, 4.748553353331047, 1.9995309203900717, 1.5707963267948966, 2.0002176240212086)\n",
      "action before update: SingleOCFAction(1.0, 0.0)\n",
      "Pedestrian is visible: SingleOCFState(0.0, 2.3099999999999996, 4.748553353331047, 1.9995309203900717, 1.5707963267948966, 2.0002176240212086)\n",
      "ego_v_state_space: 2.0\n",
      "b-length: 106\n",
      "action after update: SingleOCFAction(1.0, 0.0)\n",
      "--------------------------POMDP high level planner----------------------- t: 4.400000000000001\n",
      "EGO: x/y:45.73666666666668 / 0.0 v: 2.51\n",
      "PED: x/y: 50.00490348766376 / 2.400259216328058 v: 2.000459695985042\n",
      "delta_s: 4.268236820997075 delta_t: 2.400259216328058\n",
      "Observation cont: SingleOCFState(0.0, 2.51, 4.268236820997075, 2.400259216328058, 1.5707963267948966, 2.000459695985042)\n",
      "action before update: SingleOCFAction(1.0, 0.0)\n",
      "Pedestrian is visible: SingleOCFState(0.0, 2.51, 4.268236820997075, 2.400259216328058, 1.5707963267948966, 2.000459695985042)\n",
      "ego_v_state_space: 3.0\n",
      "b-length: 106\n",
      "action after update: SingleOCFAction(0.0, 0.0)\n",
      "--------------------------POMDP high level planner----------------------- t: 4.600000000000001\n",
      "EGO: x/y:46.23866666666668 / 0.0 v: 2.51\n",
      "PED: x/y: 50.00732198264512 / 2.801259794603615 v: 1.9998347168988857\n",
      "delta_s: 3.7686553159784353 delta_t: 2.801259794603615\n",
      "Observation cont: SingleOCFState(0.0, 2.51, 3.7686553159784353, 2.801259794603615, 1.5707963267948966, 1.9998347168988857)\n",
      "action before update: SingleOCFAction(0.0, 0.0)\n",
      "Pedestrian is visible: SingleOCFState(0.0, 2.51, 3.7686553159784353, 2.801259794603615, 1.5707963267948966, 1.9998347168988857)\n",
      "ego_v_state_space: 3.0\n",
      "b-length: 110\n",
      "action after update: SingleOCFAction(0.0, 0.0)\n",
      "--------------------------POMDP high level planner----------------------- t: 4.800000000000002\n",
      "EGO: x/y:46.740666666666684 / 0.0 v: 2.51\n",
      "PED: x/y: 50.0065096285956 / 3.1982901317939985 v: 1.001499937876114\n",
      "delta_s: 3.265842961928925 delta_t: 3.1982901317939985\n",
      "Observation cont: SingleOCFState(0.0, 2.51, 3.265842961928925, 3.1982901317939985, 1.5707963267948966, 1.001499937876114)\n",
      "action before update: SingleOCFAction(0.0, 0.0)\n",
      "Pedestrian is visible: SingleOCFState(0.0, 2.51, 3.265842961928925, 3.1982901317939985, 1.5707963267948966, 1.001499937876114)\n",
      "ego_v_state_space: 3.0\n",
      "b-length: 105\n",
      "action after update: SingleOCFAction(1.0, 0.0)\n",
      "elapsed time: 14.490699437 seconds\n"
     ]
    },
    {
     "data": {
      "text/plain": [
       "14.490699437"
      ]
     },
     "execution_count": 68,
     "metadata": {},
     "output_type": "execute_result"
    }
   ],
   "source": [
    "include(\"../src/pedestrian_crossing/pomdp_types.jl\")\n",
    "include(\"../src/pedestrian_crossing/spaces.jl\")\n",
    "include(\"../src/pedestrian_crossing/transition.jl\")\n",
    "include(\"../src/pedestrian_crossing/observation.jl\")\n",
    "include(\"../src/pedestrian_crossing/belief.jl\")\n",
    "include(\"../src/pedestrian_crossing/helpers.jl\")\n",
    "\n",
    "include(\"../src/pedestrian_crossing/frenet_pedestrian_pomdp.jl\")\n",
    "\n",
    "\n",
    "qmdp_policy = load(\"policy.jld\")[\"policy\"];\n",
    "\n",
    "\n",
    "pomdp = SingleOCFPOMDP()\n",
    "updater = SingleOCFUpdater(pomdp)\n",
    "\n",
    "params = CrosswalkParams()\n",
    "params.obstacles_visible = false\n",
    "\n",
    "obstacle_1 = ConvexPolygon([VecE2(34, -1.5), VecE2(34, -4.5), VecE2(46.5, -4.5), VecE2(46.5, -1.5)],4)\n",
    "obstacle_2 = ConvexPolygon([VecE2(34, +4.5), VecE2(34, +7.5), VecE2(46.5, +7.5), VecE2(46.5, +4.5)],4)\n",
    "params.obstacles = [obstacle_1, obstacle_2]\n",
    "#params.obstacles = [obstacle_2]\n",
    "\n",
    "env = CrosswalkEnv(params)\n",
    "pomdp.env = env\n",
    "\n",
    "\n",
    "\n",
    "ego_v = 11.11\n",
    "ped_v = 5.4/3.6\n",
    "hitpoint = 0             # 50: middle, 100: left corner, 0: right corner\n",
    "ped_theta = π/2\n",
    "\n",
    "\n",
    "# fix values\n",
    "ped_x = 50.0\n",
    "ped_y_start = -5.0\n",
    "ego_y = 0.0\n",
    "\n",
    "\n",
    "ped_y_offset_hitpoint = VehicleDef().width * hitpoint / 100 - VehicleDef().width/2\n",
    "ped_y_end = ped_y_offset_hitpoint\n",
    "ped_t_collision = (ped_y_end - ped_y_start) / ped_v; \n",
    "ego_x = ped_x - ego_v * ped_t_collision - VehicleDef().length/2;\n",
    "\n",
    "if ( false )\n",
    "    ego_v = 0.0\n",
    "    ego_x = 20\n",
    "    ped_x = 30\n",
    "    ped_y_start = -2.0\n",
    "    ped_v = 0.0\n",
    "end\n",
    "\n",
    "#ped_y_start = -5.0\n",
    "#ped_v = 1.0\n",
    "\n",
    "# Car definition\n",
    "ego_initial_state = VehicleState(VecSE2(ego_x, ego_y, 0.), env.roadway.segments[1].lanes[1], env.roadway, ego_v)\n",
    "ego = Vehicle(ego_initial_state, VehicleDef(), 1)\n",
    "\n",
    "# Pedestrian definition using our new Vehicle definition\n",
    "ped_initial_state = VehicleState(VecSE2(ped_x,ped_y_start,ped_theta), env.crosswalk, env.roadway, ped_v)\n",
    "ped = Vehicle(ped_initial_state, AutomotivePOMDPs.PEDESTRIAN_DEF, 2)\n",
    "\n",
    "scene = Scene()\n",
    "push!(scene, ego)\n",
    "push!(scene, ped)\n",
    "\n",
    "\n",
    "\n",
    "cam = FitToContentCamera(0.);\n",
    "timestep = 0.2\n",
    "\n",
    "\n",
    "pos_noise = 0.001\n",
    "vel_noise = 0.001\n",
    "false_positive_rate = 0.00\n",
    "false_negative_rate = 0.00\n",
    "rng = MersenneTwister(1);\n",
    "sensor = AutomotiveSensors.GaussianSensor(AutomotiveSensors.LinearNoise(10, pos_noise, 0.00), \n",
    "                 AutomotiveSensors.LinearNoise(10, vel_noise, 0.00), false_positive_rate, false_negative_rate, rng) \n",
    "\n",
    "\n",
    "\n",
    "# define a model for each entities present in the scene\n",
    "models = Dict{Int, DriverModel}()\n",
    "\n",
    "ego_id = 1\n",
    "ped_id = 2\n",
    "\n",
    "obs = SingleOCFState(0.0, ego_v, ped_x-ego_x, ped_y_start, ped_theta, ped_v)\n",
    "println(obs)\n",
    "\n",
    "pomdp.ego_vehicle = ego\n",
    "models[ego_id] = FrenetPedestrianPOMDP(a=LatLonAccel(0.0, 0.0),env=env,sensor=sensor, obstacles=env.obstacles, timestep=timestep,\n",
    "    env=env,\n",
    "    pomdp=pomdp,\n",
    "    policy=qmdp_policy,\n",
    "    updater=updater,\n",
    "    ego_vehicle=ego,\n",
    "    desired_velocity=ego_v,\n",
    "    b=initBeliefAbsentPedestrian(pomdp, ego_y, ego_v)\n",
    ")\n",
    "models[ego_id].pomdp.desired_velocity = ego_v\n",
    "models[ego_id].pomdp.ΔT = timestep\n",
    "\n",
    "models[ped_id] = ConstantPedestrian(v_desired=ped_v, dawdling_amp=0.001) # dumb model\n",
    "\n",
    "nticks = 25\n",
    "rec = SceneRecord(nticks+1, timestep)\n",
    "\n",
    "risk = Float64[]\n",
    "sensor_observations = [Vehicle[]]\n",
    "belief = SingleOCFBelief[]\n",
    "ego_vehicle = Vehicle[]\n",
    "action_pomdp = SingleOCFAction[]\n",
    "\n",
    "obs_callback = (ObservationCallback(risk,sensor_observations, belief, ego_vehicle, action_pomdp),)\n",
    "\n",
    "tic()\n",
    "simulate!(rec, scene, env.roadway, models, nticks, obs_callback)\n",
    "toc()\n",
    "\n",
    "\n"
   ]
  },
  {
   "cell_type": "code",
   "execution_count": 69,
   "metadata": {},
   "outputs": [
    {
     "data": {
      "text/html": [
       "<video autoplay controls><source src=\"files/reel-13256141678760051784.webm?12048808635946539814\" type=\"video/webm\"></video>"
      ],
      "text/plain": [
       "Reel.Frames{MIME{Symbol(\"image/png\")}}(\"/tmp/tmp9hoNAW\", 0x000000000000001a, 5.0, nothing)"
      ]
     },
     "execution_count": 69,
     "metadata": {},
     "output_type": "execute_result"
    }
   ],
   "source": [
    "duration, fps, render_hist = animate_record(rec, timestep, env, sensor, sensor_observations, risk, belief, ego_vehicle, action_pomdp, CarFollowCamera(2,10.0))\n",
    "film = roll(render_hist, fps = fps, duration = duration)"
   ]
  },
  {
   "cell_type": "code",
   "execution_count": 4,
   "metadata": {},
   "outputs": [
    {
     "data": {
      "text/plain": [
       "107251"
      ]
     },
     "execution_count": 4,
     "metadata": {},
     "output_type": "execute_result"
    }
   ],
   "source": [
    "n_states(pomdp)"
   ]
  },
  {
   "cell_type": "code",
   "execution_count": 32,
   "metadata": {},
   "outputs": [
    {
     "name": "stdout",
     "output_type": "stream",
     "text": [
      "SingleOCFState(0.0, 9.0, 18.0, -5.0, 0.785, 0.0)=>3.568543127849587e-11\n",
      "SingleOCFState(0.0, 9.0, 20.0, -5.0, 0.785, 0.0)=>7.860541950739214e-7\n",
      "SingleOCFState(0.0, 9.0, 22.0, -5.0, 0.785, 0.0)=>6.666368327458067e-7\n",
      "SingleOCFState(0.0, 9.0, 24.0, -5.0, 0.785, 0.0)=>3.026364526767468e-11\n",
      "SingleOCFState(0.0, 9.0, 18.0, -5.0, 1.0466666666666666, 0.0)=>8.401422917220955e-11\n",
      "SingleOCFState(0.0, 9.0, 20.0, -5.0, 1.0466666666666666, 0.0)=>1.8506077948541641e-6\n",
      "SingleOCFState(0.0, 9.0, 22.0, -5.0, 1.0466666666666666, 0.0)=>1.569463437441822e-6\n",
      "SingleOCFState(0.0, 9.0, 24.0, -5.0, 1.0466666666666666, 0.0)=>7.124971558455116e-11\n",
      "SingleOCFState(0.0, 9.0, 18.0, -5.0, 1.3083333333333333, 0.0)=>1.4047586858414953e-10\n",
      "SingleOCFState(0.0, 9.0, 20.0, -5.0, 1.3083333333333333, 0.0)=>3.0943060473466666e-6\n",
      "SingleOCFState(0.0, 9.0, 22.0, -5.0, 1.3083333333333333, 0.0)=>2.6242190371560727e-6\n",
      "SingleOCFState(0.0, 9.0, 24.0, -5.0, 1.3083333333333333, 0.0)=>1.1913298237370718e-10\n",
      "SingleOCFState(0.0, 9.0, 18.0, -5.0, 1.57, 0.0)=>1.6682634305090875e-10\n",
      "SingleOCFState(0.0, 9.0, 20.0, -5.0, 1.57, 0.0)=>3.674736218839817e-6\n",
      "SingleOCFState(0.0, 9.0, 22.0, -5.0, 1.57, 0.0)=>3.116470250341075e-6\n",
      "SingleOCFState(0.0, 9.0, 24.0, -5.0, 1.57, 0.0)=>1.414799565681167e-10\n",
      "SingleOCFState(0.0, 9.0, 18.0, -5.0, 1.8316666666666668, 0.0)=>1.407276845565036e-10\n",
      "SingleOCFState(0.0, 9.0, 20.0, -5.0, 1.8316666666666668, 0.0)=>3.0998528768051856e-6\n",
      "SingleOCFState(0.0, 9.0, 22.0, -5.0, 1.8316666666666668, 0.0)=>2.6289231922196558e-6\n",
      "SingleOCFState(0.0, 9.0, 24.0, -5.0, 1.8316666666666668, 0.0)=>1.1934653925075828e-10\n",
      "SingleOCFState(0.0, 9.0, 18.0, -5.0, 2.0933333333333333, 0.0)=>8.433342844080055e-11\n",
      "SingleOCFState(0.0, 9.0, 20.0, -5.0, 2.0933333333333333, 0.0)=>1.8576388973279531e-6\n",
      "SingleOCFState(0.0, 9.0, 22.0, -5.0, 2.0933333333333333, 0.0)=>1.5754263747471783e-6\n",
      "SingleOCFState(0.0, 9.0, 24.0, -5.0, 2.0933333333333333, 0.0)=>7.152041802776808e-11\n",
      "SingleOCFState(0.0, 9.0, 18.0, -5.0, 2.355, 0.0)=>3.5908720752621615e-11\n",
      "SingleOCFState(0.0, 9.0, 20.0, -5.0, 2.355, 0.0)=>7.909726624025806e-7\n",
      "SingleOCFState(0.0, 9.0, 22.0, -5.0, 2.355, 0.0)=>6.708080864615034e-7\n",
      "SingleOCFState(0.0, 9.0, 24.0, -5.0, 2.355, 0.0)=>3.04530097560624e-11\n",
      "SingleOCFState(0.0, 9.0, 18.0, -5.0, 0.785, 0.5)=>2.8348449351169603e-9\n",
      "SingleOCFState(0.0, 9.0, 20.0, -5.0, 0.785, 0.5)=>6.244401913605425e-5\n",
      "SingleOCFState(0.0, 9.0, 22.0, -5.0, 0.785, 0.5)=>5.2957523032954554e-5\n",
      "SingleOCFState(0.0, 9.0, 24.0, -5.0, 0.785, 0.5)=>2.4041391243306302e-9\n",
      "SingleOCFState(0.0, 9.0, 18.0, -5.0, 1.0466666666666666, 0.5)=>6.67407688554724e-9\n",
      "SingleOCFState(0.0, 9.0, 20.0, -5.0, 1.0466666666666666, 0.5)=>0.00014701198629737895\n",
      "SingleOCFState(0.0, 9.0, 22.0, -5.0, 1.0466666666666666, 0.5)=>0.00012467792365351884\n",
      "SingleOCFState(0.0, 9.0, 24.0, -5.0, 1.0466666666666666, 0.5)=>5.660065974180997e-9\n",
      "SingleOCFState(0.0, 9.0, 18.0, -5.0, 1.3083333333333333, 0.5)=>1.1159380461289386e-8\n",
      "SingleOCFState(0.0, 9.0, 20.0, -5.0, 1.3083333333333333, 0.5)=>0.00024581117592681117\n",
      "SingleOCFState(0.0, 9.0, 22.0, -5.0, 1.3083333333333333, 0.5)=>0.0002084675392616681\n",
      "SingleOCFState(0.0, 9.0, 24.0, -5.0, 1.3083333333333333, 0.5)=>9.463905005149675e-9\n",
      "SingleOCFState(0.0, 9.0, 18.0, -5.0, 1.57, 0.5)=>1.3252657925054702e-8\n",
      "SingleOCFState(0.0, 9.0, 20.0, -5.0, 1.57, 0.5)=>0.00029192045562151847\n",
      "SingleOCFState(0.0, 9.0, 22.0, -5.0, 1.57, 0.5)=>0.0002475718966564906\n",
      "SingleOCFState(0.0, 9.0, 24.0, -5.0, 1.57, 0.5)=>1.1239145049632093e-8\n",
      "SingleOCFState(0.0, 9.0, 18.0, -5.0, 1.8316666666666668, 0.5)=>1.1179384681729887e-8\n",
      "SingleOCFState(0.0, 9.0, 20.0, -5.0, 1.8316666666666668, 0.5)=>0.00024625181516901964\n",
      "SingleOCFState(0.0, 9.0, 22.0, -5.0, 1.8316666666666668, 0.5)=>0.00020884123658514815\n",
      "SingleOCFState(0.0, 9.0, 24.0, -5.0, 1.8316666666666668, 0.5)=>9.480869929197896e-9\n",
      "SingleOCFState(0.0, 9.0, 18.0, -5.0, 2.0933333333333333, 0.5)=>6.6994340242293075e-9\n",
      "SingleOCFState(0.0, 9.0, 20.0, -5.0, 2.0933333333333333, 0.5)=>0.00014757053594977225\n",
      "SingleOCFState(0.0, 9.0, 22.0, -5.0, 2.0933333333333333, 0.5)=>0.00012515161843631656\n",
      "SingleOCFState(0.0, 9.0, 24.0, -5.0, 2.0933333333333333, 0.5)=>5.6815705328365545e-9\n",
      "SingleOCFState(0.0, 9.0, 18.0, -5.0, 2.355, 0.5)=>2.8525830151152184e-9\n",
      "SingleOCFState(0.0, 9.0, 20.0, -5.0, 2.355, 0.5)=>6.2834741391486e-5\n",
      "SingleOCFState(0.0, 9.0, 22.0, -5.0, 2.355, 0.5)=>5.3288886758861296e-5\n",
      "SingleOCFState(0.0, 9.0, 24.0, -5.0, 2.355, 0.5)=>2.419182208905046e-9\n",
      "SingleOCFState(0.0, 9.0, 18.0, -5.0, 0.785, 1.0)=>6.452077332967769e-8\n",
      "SingleOCFState(0.0, 9.0, 20.0, -5.0, 0.785, 1.0)=>0.0014212193247547704\n",
      "SingleOCFState(0.0, 9.0, 22.0, -5.0, 0.785, 1.0)=>0.0012053076686430711\n",
      "SingleOCFState(0.0, 9.0, 24.0, -5.0, 0.785, 1.0)=>5.471795426000844e-8\n",
      "SingleOCFState(0.0, 9.0, 18.0, -5.0, 1.0466666666666666, 1.0)=>1.519012897611868e-7\n",
      "SingleOCFState(0.0, 9.0, 20.0, -5.0, 1.0466666666666666, 1.0)=>0.003345977385619336\n",
      "SingleOCFState(0.0, 9.0, 22.0, -5.0, 1.0466666666666666, 1.0)=>0.002837656462832826\n",
      "SingleOCFState(0.0, 9.0, 24.0, -5.0, 1.0466666666666666, 1.0)=>1.2882250779479965e-7\n",
      "SingleOCFState(0.0, 9.0, 18.0, -5.0, 1.3083333333333333, 1.0)=>2.539863286076988e-7\n",
      "SingleOCFState(0.0, 9.0, 20.0, -5.0, 1.3083333333333333, 1.0)=>0.005594636576910672\n",
      "SingleOCFState(0.0, 9.0, 22.0, -5.0, 1.3083333333333333, 1.0)=>0.004744699324001237\n",
      "SingleOCFState(0.0, 9.0, 24.0, -5.0, 1.3083333333333333, 1.0)=>2.1539748509230956e-7\n",
      "SingleOCFState(0.0, 9.0, 18.0, -5.0, 1.57, 1.0)=>3.0162910408464116e-7\n",
      "SingleOCFState(0.0, 9.0, 20.0, -5.0, 1.57, 1.0)=>0.006644078945600293\n",
      "SingleOCFState(0.0, 9.0, 22.0, -5.0, 1.57, 1.0)=>0.005634710396007175\n",
      "SingleOCFState(0.0, 9.0, 24.0, -5.0, 1.57, 1.0)=>2.5580176227055713e-7\n",
      "SingleOCFState(0.0, 9.0, 18.0, -5.0, 1.8316666666666668, 1.0)=>2.5444162256635233e-7\n",
      "SingleOCFState(0.0, 9.0, 20.0, -5.0, 1.8316666666666668, 1.0)=>0.0056046654798374285\n",
      "SingleOCFState(0.0, 9.0, 22.0, -5.0, 1.8316666666666668, 1.0)=>0.004753204635880374\n",
      "SingleOCFState(0.0, 9.0, 24.0, -5.0, 1.8316666666666668, 1.0)=>2.1578360498391672e-7\n",
      "SingleOCFState(0.0, 9.0, 18.0, -5.0, 2.0933333333333333, 1.0)=>1.5247841557746264e-7\n",
      "SingleOCFState(0.0, 9.0, 20.0, -5.0, 2.0933333333333333, 1.0)=>0.0033586899171123346\n",
      "SingleOCFState(0.0, 9.0, 22.0, -5.0, 2.0933333333333333, 1.0)=>0.0028484377063956534\n",
      "SingleOCFState(0.0, 9.0, 24.0, -5.0, 2.0933333333333333, 1.0)=>1.2931194929383273e-7\n",
      "SingleOCFState(0.0, 9.0, 18.0, -5.0, 2.355, 1.0)=>6.492449016959865e-8\n",
      "SingleOCFState(0.0, 9.0, 20.0, -5.0, 2.355, 1.0)=>0.0014301121222991056\n",
      "SingleOCFState(0.0, 9.0, 22.0, -5.0, 2.355, 1.0)=>0.0012128494722825108\n",
      "SingleOCFState(0.0, 9.0, 24.0, -5.0, 2.355, 1.0)=>5.506033328680522e-8\n",
      "SingleOCFState(0.0, 9.0, 18.0, -5.0, 0.785, 1.5)=>4.2072829238664744e-7\n",
      "SingleOCFState(0.0, 9.0, 20.0, -5.0, 0.785, 1.5)=>0.00926751414704357\n",
      "SingleOCFState(0.0, 9.0, 22.0, -5.0, 0.785, 1.5)=>0.007859593291568257\n",
      "SingleOCFState(0.0, 9.0, 24.0, -5.0, 0.785, 1.5)=>3.568058823640116e-7\n",
      "SingleOCFState(0.0, 9.0, 18.0, -5.0, 1.0466666666666666, 1.5)=>9.905208346775517e-7\n",
      "SingleOCFState(0.0, 9.0, 20.0, -5.0, 1.0466666666666666, 1.5)=>0.021818513312338726\n",
      "SingleOCFState(0.0, 9.0, 22.0, -5.0, 1.0466666666666666, 1.5)=>0.01850384451976861\n",
      "SingleOCFState(0.0, 9.0, 24.0, -5.0, 1.0466666666666666, 1.5)=>8.400282719572045e-7\n",
      "SingleOCFState(0.0, 9.0, 18.0, -5.0, 1.3083333333333333, 1.5)=>1.6561989078875295e-6\n",
      "SingleOCFState(0.0, 9.0, 20.0, -5.0, 1.3083333333333333, 1.5)=>0.036481613162017326\n",
      "SingleOCFState(0.0, 9.0, 22.0, -5.0, 1.3083333333333333, 1.5)=>0.03093932607216462\n",
      "SingleOCFState(0.0, 9.0, 24.0, -5.0, 1.3083333333333333, 1.5)=>1.4045680392609523e-6\n",
      "SingleOCFState(0.0, 9.0, 18.0, -5.0, 1.57, 1.5)=>1.9668688291631704e-6\n",
      "SingleOCFState(0.0, 9.0, 20.0, -5.0, 1.57, 1.5)=>0.04332483702545314\n",
      "SingleOCFState(0.0, 9.0, 22.0, -5.0, 1.57, 1.5)=>0.036742927287806454\n",
      "SingleOCFState(0.0, 9.0, 24.0, -5.0, 1.57, 1.5)=>1.6680370224279873e-6\n",
      "SingleOCFState(0.0, 9.0, 18.0, -5.0, 1.8316666666666668, 1.5)=>1.6591677974384883e-6\n",
      "SingleOCFState(0.0, 9.0, 20.0, -5.0, 1.8316666666666668, 1.5)=>0.03654700982397805\n",
      "SingleOCFState(0.0, 9.0, 22.0, -5.0, 1.8316666666666668, 1.5)=>0.030994787672490483\n",
      "SingleOCFState(0.0, 9.0, 24.0, -5.0, 1.8316666666666668, 1.5)=>1.4070858572328844e-6\n",
      "SingleOCFState(0.0, 9.0, 18.0, -5.0, 2.0933333333333333, 1.5)=>9.942841677351592e-7\n"
     ]
    },
    {
     "name": "stdout",
     "output_type": "stream",
     "text": [
      "SingleOCFState(0.0, 9.0, 20.0, -5.0, 2.0933333333333333, 1.5)=>0.021901409430766083\n",
      "SingleOCFState(0.0, 9.0, 22.0, -5.0, 2.0933333333333333, 1.5)=>0.018574147058934037\n",
      "SingleOCFState(0.0, 9.0, 24.0, -5.0, 2.0933333333333333, 1.5)=>8.432198314423826e-7\n",
      "SingleOCFState(0.0, 9.0, 18.0, -5.0, 2.355, 1.5)=>4.233608568756033e-7\n",
      "SingleOCFState(0.0, 9.0, 20.0, -5.0, 2.355, 1.5)=>0.009325502471303879\n",
      "SingleOCFState(0.0, 9.0, 22.0, -5.0, 2.355, 1.5)=>0.00790877202894208\n",
      "SingleOCFState(0.0, 9.0, 24.0, -5.0, 2.355, 1.5)=>3.590384740683479e-7\n",
      "SingleOCFState(0.0, 9.0, 18.0, -5.0, 0.785, 2.0)=>7.860239314287163e-7\n",
      "SingleOCFState(0.0, 9.0, 20.0, -5.0, 0.785, 2.0)=>0.01731399584066008\n",
      "SingleOCFState(0.0, 9.0, 22.0, -5.0, 0.785, 2.0)=>0.014683653394033812\n",
      "SingleOCFState(0.0, 9.0, 24.0, -5.0, 0.785, 2.0)=>6.666011473146018e-7\n",
      "SingleOCFState(0.0, 9.0, 18.0, -5.0, 1.0466666666666666, 2.0)=>1.8505365451387258e-6\n",
      "SingleOCFState(0.0, 9.0, 20.0, -5.0, 1.0466666666666666, 2.0)=>0.040762349292957974\n",
      "SingleOCFState(0.0, 9.0, 22.0, -5.0, 1.0466666666666666, 2.0)=>0.03456973272101209\n",
      "SingleOCFState(0.0, 9.0, 24.0, -5.0, 1.0466666666666666, 2.0)=>1.569379423212823e-6\n",
      "SingleOCFState(0.0, 9.0, 18.0, -5.0, 1.3083333333333333, 2.0)=>3.094186914364538e-6\n",
      "SingleOCFState(0.0, 9.0, 20.0, -5.0, 1.3083333333333333, 2.0)=>0.06815662631054503\n",
      "SingleOCFState(0.0, 9.0, 22.0, -5.0, 1.3083333333333333, 2.0)=>0.05780227085999895\n",
      "SingleOCFState(0.0, 9.0, 24.0, -5.0, 1.3083333333333333, 2.0)=>2.624078561287778e-6\n",
      "SingleOCFState(0.0, 9.0, 18.0, -5.0, 1.57, 2.0)=>3.67459473888354e-6\n",
      "SingleOCFState(0.0, 9.0, 20.0, -5.0, 1.57, 2.0)=>0.0809414516292127\n",
      "SingleOCFState(0.0, 9.0, 22.0, -5.0, 1.57, 2.0)=>0.06864482536967051\n",
      "SingleOCFState(0.0, 9.0, 24.0, -5.0, 1.57, 2.0)=>3.1163034239983685e-6\n",
      "SingleOCFState(0.0, 9.0, 18.0, -5.0, 1.8316666666666668, 2.0)=>3.0997335302661806e-6\n",
      "SingleOCFState(0.0, 9.0, 20.0, -5.0, 1.8316666666666668, 2.0)=>0.06827880335988272\n",
      "SingleOCFState(0.0, 9.0, 22.0, -5.0, 1.8316666666666668, 2.0)=>0.05790588677060044\n",
      "SingleOCFState(0.0, 9.0, 24.0, -5.0, 1.8316666666666668, 2.0)=>2.6287824645353893e-6\n",
      "SingleOCFState(0.0, 9.0, 18.0, -5.0, 2.0933333333333333, 2.0)=>1.8575673769100726e-6\n",
      "SingleOCFState(0.0, 9.0, 20.0, -5.0, 2.0933333333333333, 2.0)=>0.04091721963109668\n",
      "SingleOCFState(0.0, 9.0, 22.0, -5.0, 2.0933333333333333, 2.0)=>0.03470107515560512\n",
      "SingleOCFState(0.0, 9.0, 24.0, -5.0, 2.0933333333333333, 2.0)=>1.5753420413189112e-6\n",
      "SingleOCFState(0.0, 9.0, 18.0, -5.0, 2.355, 2.0)=>7.909422093928874e-7\n",
      "SingleOCFState(0.0, 9.0, 20.0, -5.0, 2.355, 2.0)=>0.01742233229303767\n",
      "SingleOCFState(0.0, 9.0, 22.0, -5.0, 2.355, 2.0)=>0.014775531371324072\n",
      "SingleOCFState(0.0, 9.0, 24.0, -5.0, 2.355, 2.0)=>6.707721777408248e-7\n"
     ]
    },
    {
     "data": {
      "text/plain": [
       "140"
      ]
     },
     "execution_count": 32,
     "metadata": {},
     "output_type": "execute_result"
    }
   ],
   "source": [
    "bel = belief[7]\n",
    "for b in bel\n",
    "    println(b)\n",
    "end\n",
    "\n",
    "length(bel)"
   ]
  },
  {
   "cell_type": "code",
   "execution_count": 71,
   "metadata": {},
   "outputs": [
    {
     "data": {
      "image/png": "[encoded data removed]",
      "text/plain": [
       "Cairo.CairoSurface{UInt32}(Ptr{Void} @0x0000000023ea8240, 1000.0, 600.0, #undef)"
      ]
     },
     "execution_count": 71,
     "metadata": {},
     "output_type": "execute_result"
    }
   ],
   "source": [
    "i = 3\n",
    "scene = rec[0]\n",
    "bel = belief[i]\n",
    "belief_overlay = BeliefOverlay(belief=bel, ego_vehicle=ego_vehicle[i])\n",
    "\n",
    "AutoViz.render(rec[-1], env, SceneOverlay[belief_overlay], cam=CarFollowCamera(2,14.0))"
   ]
  },
  {
   "cell_type": "code",
   "execution_count": 31,
   "metadata": {},
   "outputs": [
    {
     "data": {
      "image/png": "[encoded data removed]",
      "text/plain": [
       "Cairo.CairoSurface{UInt32}(Ptr{Void} @0x0000000008739540, 1000.0, 600.0, #undef)"
      ]
     },
     "execution_count": 31,
     "metadata": {},
     "output_type": "execute_result"
    }
   ],
   "source": [
    "include(\"../src/pedestrian_crossing/pomdp_types.jl\")\n",
    "include(\"../src/pedestrian_crossing/spaces.jl\")\n",
    "include(\"../src/pedestrian_crossing/transition.jl\")\n",
    "include(\"../src/pedestrian_crossing/observation.jl\")\n",
    "include(\"../src/pedestrian_crossing/belief.jl\")\n",
    "include(\"../src/pedestrian_crossing/helpers.jl\")\n",
    "\n",
    "\n",
    "include(\"../src/pedestrian_crossing/frenet_pedestrian_pomdp.jl\")\n",
    "\n",
    "next_states = SingleOCFState[]\n",
    "for (s, prob) in weighted_iterator(bel)\n",
    "    td = transition(pomdp, s, SingleOCFAction(-2.0, 0.0), pomdp.ΔT)\n",
    "    for sp in td.vals\n",
    "        push!(next_states, sp)\n",
    "    end\n",
    "end\n",
    "pred_bel = SparseCat(next_states, normalize(ones(length(next_states)),1))\n",
    "belief_overlay = BeliefOverlay(belief=pred_bel, ego_vehicle=ego_vehicle[i])\n",
    "fake_ego = VehicleState()\n",
    "scene = Scene()\n",
    "AutoViz.render(rec[0], env, SceneOverlay[belief_overlay], cam=CarFollowCamera(2,14.0))"
   ]
  },
  {
   "cell_type": "code",
   "execution_count": 46,
   "metadata": {},
   "outputs": [
    {
     "data": {
      "text/plain": [
       "SingleOCFPOMDP\n",
       "  env: AutomotivePOMDPs.CrosswalkEnv\n",
       "  ego_type: AutomotiveDrivingModels.VehicleDef\n",
       "  ped_type: AutomotiveDrivingModels.VehicleDef\n",
       "  longitudinal_actions: Array{Float64}((5,)) [1.0, 0.0, -1.0, -2.0, -4.0]\n",
       "  lateral_actions: Array{Float64}((3,)) [1.0, 0.0, -1.0]\n",
       "  ΔT: Float64 0.5\n",
       "  PED_A_RANGE: Array{Float64}((5,)) [-2.0, -1.0, 0.0, 1.0, 2.0]\n",
       "  PED_THETA_NOISE: Array{Float64}((3,)) [-0.195, 0.0, 0.195]\n",
       "  PED_SAFETY_DISTANCE: Float64 1.0\n",
       "  EGO_Y_MIN: Float64 -1.0\n",
       "  EGO_Y_MAX: Float64 1.0\n",
       "  EGO_Y_RANGE: Array{Float64}((1,)) [0.0]\n",
       "  EGO_V_MIN: Float64 0.0\n",
       "  EGO_V_MAX: Float64 14.0\n",
       "  EGO_V_RANGE: Array{Float64}((29,)) [0.0, 0.5, 1.0, 1.5, 2.0, 2.5, 3.0, 3.5, 4.0, 4.5  …  9.5, 10.0, 10.5, 11.0, 11.5, 12.0, 12.5, 13.0, 13.5, 14.0]\n",
       "  S_MIN: Float64 0.0\n",
       "  S_MAX: Float64 50.0\n",
       "  S_RANGE: Array{Float64}((51,)) [0.0, 1.0, 2.0, 3.0, 4.0, 5.0, 6.0, 7.0, 8.0, 9.0  …  41.0, 42.0, 43.0, 44.0, 45.0, 46.0, 47.0, 48.0, 49.0, 50.0]\n",
       "  T_MIN: Float64 -5.0\n",
       "  T_MAX: Float64 5.0\n",
       "  T_RANGE: Array{Float64}((11,)) [-5.0, -4.0, -3.0, -2.0, -1.0, 0.0, 1.0, 2.0, 3.0, 4.0, 5.0]\n",
       "  PED_V_MIN: Float64 0.0\n",
       "  PED_V_MAX: Float64 2.0\n",
       "  PED_V_RANGE: Array{Float64}((5,)) [0.0, 0.5, 1.0, 1.5, 2.0]\n",
       "  PED_THETA_MIN: Float64 0.785\n",
       "  PED_THETA_MAX: Float64 2.355\n",
       "  PED_THETA_RANGE: Array{Float64}((1,)) [1.57]\n",
       "  collision_cost: Float64 -10.0\n",
       "  action_cost_lon: Float64 -1.0\n",
       "  action_cost_lat: Float64 -1.0\n",
       "  goal_reward: Float64 10.0\n",
       "  γ: Float64 0.99\n",
       "  state_space_grid: GridInterpolations.RectangleGrid{6}\n",
       "  state_space_ped: Array{SingleOCFPedState}((2806,))\n",
       "  state_space: Array{SingleOCFState}((81346,))\n",
       "  action_space: Array{SingleOCFAction}((15,))\n",
       "  absent: Bool true\n",
       "  obstacles: Array{AutomotiveDrivingModels.ConvexPolygon}((2,))\n",
       "  ego_vehicle: Records.Entity{AutomotiveDrivingModels.VehicleState,AutomotiveDrivingModels.VehicleDef,Int64}\n",
       "  desired_velocity: Float64 11.11111111111111\n"
      ]
     },
     "execution_count": 46,
     "metadata": {},
     "output_type": "execute_result"
    }
   ],
   "source": [
    "pomdp"
   ]
  },
  {
   "cell_type": "code",
   "execution_count": 55,
   "metadata": {},
   "outputs": [
    {
     "data": {
      "text/plain": [
       "false"
      ]
     },
     "execution_count": 55,
     "metadata": {},
     "output_type": "execute_result"
    }
   ],
   "source": [
    "pomdp.env.params.obstacles_visible"
   ]
  },
  {
   "cell_type": "code",
   "execution_count": 33,
   "metadata": {},
   "outputs": [
    {
     "data": {
      "text/plain": [
       "is_observation_absent (generic function with 1 method)"
      ]
     },
     "execution_count": 33,
     "metadata": {},
     "output_type": "execute_result"
    }
   ],
   "source": []
  },
  {
   "cell_type": "code",
   "execution_count": 59,
   "metadata": {},
   "outputs": [
    {
     "data": {
      "text/plain": [
       "SingleOCFState(-1.0, 14.0, -10.0, -10.0, 0.0, 0.0)"
      ]
     },
     "execution_count": 59,
     "metadata": {},
     "output_type": "execute_result"
    }
   ],
   "source": []
  },
  {
   "cell_type": "code",
   "execution_count": 119,
   "metadata": {},
   "outputs": [
    {
     "name": "stdout",
     "output_type": "stream",
     "text": [
      "SingleOCFState(0.0, 9.5, -10.0, -10.0, 0.0, 0.0)\n"
     ]
    }
   ],
   "source": [
    "s = SingleOCFState(0.0, 10.5, -10.0, -10.0, 0.0, 0.0)\n",
    "a = SingleOCFAction(-4.0, 0.0)\n",
    "td = transition(pomdp, s, a) \n",
    "\n",
    "\n",
    "absent_state_present = false\n",
    "for (s, prob) in weighted_iterator(td)\n",
    "    if is_state_absent(pomdp, s) \n",
    "       absent_state_present = true \n",
    "    end\n",
    "    cnt += 1\n",
    "end\n"
   ]
  },
  {
   "cell_type": "code",
   "execution_count": 122,
   "metadata": {},
   "outputs": [
    {
     "ename": "LoadError",
     "evalue": "\u001b[91msyntax: unexpected \"end\"\u001b[39m",
     "output_type": "error",
     "traceback": [
      "\u001b[91msyntax: unexpected \"end\"\u001b[39m",
      "",
      "Stacktrace:",
      " [1] \u001b[1minclude_string\u001b[22m\u001b[22m\u001b[1m(\u001b[22m\u001b[22m::String, ::String\u001b[1m)\u001b[22m\u001b[22m at \u001b[1m./loading.jl:522\u001b[22m\u001b[22m"
     ]
    }
   ],
   "source": []
  },
  {
   "cell_type": "code",
   "execution_count": 191,
   "metadata": {},
   "outputs": [
    {
     "data": {
      "text/plain": [
       "0.040455258340222476"
      ]
     },
     "execution_count": 191,
     "metadata": {},
     "output_type": "execute_result"
    }
   ],
   "source": [
    "b = POMDPToolbox.SparseCat{Array{SingleOCFState,1},Array{Float64,1}}(SingleOCFState[SingleOCFState(0.0, 9.0, -10.0, -10.0, 0.0, 0.0)], [1.0])\n",
    "a = SingleOCFAction(-4.0, 0.0)\n",
    "o = SingleOCFState(0.0, 8.329999999999998, 21.32259231837015, -4.899329938018746, 1.5707963267948966, 2.5005508523775006)\n",
    "\n",
    "(ego_y_state_space, ego_v_state_space) = getEgoDataInStateSpace(pomdp, o.ego_y, o.ego_v)\n",
    "\n",
    "sp = get_state_absent(pomdp, ego_y_state_space, ego_v_state_space)\n",
    "sp = SingleOCFState(0.0, 0.0, 21.0, -5.0, 1.57, 2)\n",
    "po = observation_weight(pomdp, sp, o) \n"
   ]
  },
  {
   "cell_type": "code",
   "execution_count": 186,
   "metadata": {},
   "outputs": [
    {
     "data": {
      "text/plain": [
       "0.040455258340222476"
      ]
     },
     "execution_count": 186,
     "metadata": {},
     "output_type": "execute_result"
    }
   ],
   "source": []
  },
  {
   "cell_type": "code",
   "execution_count": 228,
   "metadata": {},
   "outputs": [
    {
     "data": {
      "text/plain": [
       "136"
      ]
     },
     "execution_count": 228,
     "metadata": {},
     "output_type": "execute_result"
    }
   ],
   "source": [
    "length(bel)"
   ]
  },
  {
   "cell_type": "code",
   "execution_count": 36,
   "metadata": {},
   "outputs": [
    {
     "data": {
      "text/plain": [
       "1451451"
      ]
     },
     "execution_count": 36,
     "metadata": {},
     "output_type": "execute_result"
    }
   ],
   "source": [
    "n_states(pomdp)"
   ]
  },
  {
   "cell_type": "code",
   "execution_count": null,
   "metadata": {},
   "outputs": [],
   "source": []
  }
 ],
 "metadata": {
  "kernelspec": {
   "display_name": "Julia 0.6.4",
   "language": "julia",
   "name": "julia-0.6"
  },
  "language_info": {
   "file_extension": ".jl",
   "mimetype": "application/julia",
   "name": "julia",
   "version": "0.6.4"
  }
 },
 "nbformat": 4,
 "nbformat_minor": 2
}
