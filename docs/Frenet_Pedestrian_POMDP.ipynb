{
 "cells": [
  {
   "cell_type": "code",
   "execution_count": 1,
   "metadata": {},
   "outputs": [
    {
     "name": "stderr",
     "output_type": "stream",
     "text": [
      "WARNING: Method definition warn(Any...) in module Base at util.jl:589 overwritten in module Logging at /home/xubuntu/.julia/v0.6/Logging/src/Logging.jl:115.\n",
      "WARNING: Method definition info(Any...) in module Base at util.jl:534 overwritten in module Logging at /home/xubuntu/.julia/v0.6/Logging/src/Logging.jl:115.\n",
      "WARNING: Method definition copy!(Array{Float64, 1}, AutomotiveDrivingModels.LatLonAccel) in module AutomotiveDrivingModels at /home/xubuntu/.julia/v0.6/AutomotiveDrivingModels/src/2d/actions/lat_lon_accel.jl:13 overwritten in module AutoUrban at /home/xubuntu/.julia/v0.6/AutoUrban/src/simulation/actions.jl:10.\n",
      "WARNING: Method definition split_o(Array{Float64, 1}, AutomotivePOMDPs.UrbanPOMDP) in module AutomotivePOMDPs at /home/xubuntu/stanford/AutomotivePOMDPs/src/generative_pomdps/urban/generative_model.jl:560 overwritten at /home/xubuntu/stanford/AutomotivePOMDPs/src/decomposition/base_scenarios.jl:38.\n",
      "WARNING: Method definition #split_o(Array{Any, 1}, typeof(AutomotivePOMDPs.split_o), Array{Float64, 1}, AutomotivePOMDPs.UrbanPOMDP) in module AutomotivePOMDPs overwritten.\n"
     ]
    },
    {
     "data": {
      "text/plain": [
       "animate_record (generic function with 2 methods)"
      ]
     },
     "execution_count": 1,
     "metadata": {},
     "output_type": "execute_result"
    }
   ],
   "source": [
    "using AutomotiveDrivingModels\n",
    "using AutoViz\n",
    "using AutomotiveSensors\n",
    "using AutomotivePOMDPs\n",
    "using Parameters\n",
    "using StaticArrays\n",
    "using ProfileView\n",
    "\n",
    "using GridInterpolations \n",
    "using POMDPs\n",
    "using POMDPToolbox\n",
    "using QMDP\n",
    "using JLD\n",
    "using Reel\n",
    "using Revise\n",
    "\n",
    "\n",
    "include(\"../src/pedestrian_crossing/pomdp_types.jl\")\n",
    "include(\"../src/pedestrian_crossing/spaces.jl\")\n",
    "include(\"../src/pedestrian_crossing/transition.jl\")\n",
    "include(\"../src/pedestrian_crossing/observation.jl\")\n",
    "include(\"../src/pedestrian_crossing/belief.jl\")\n",
    "include(\"../src/pedestrian_crossing/frenet_pedestrian_pomdp.jl\")\n",
    "include(\"../src/pedestrian_crossing/helpers.jl\")\n",
    "\n"
   ]
  },
  {
   "cell_type": "code",
   "execution_count": 5,
   "metadata": {
    "scrolled": true
   },
   "outputs": [
    {
     "name": "stdout",
     "output_type": "stream",
     "text": [
      "SingleOCFState(0.0, 11.11, 47.18066666666666, -5.0, 1.5707963267948966, 1.0)\n",
      "--------------------------POMDP high level planner----------------------- t: 0.0\n",
      "EGO: x/y:2.81933333333334 / 0.0 v: 11.11\n",
      "Dict(-1=>SingleOCFState(0.0, 11.0, -10.0, -10.0, 0.0, 0.0))\n",
      "Pedestrian is absent: SingleOCFState(0.0, 11.0, -10.0, -10.0, 0.0, 0.0)\n",
      "ego_v_state_space: 11.0\n",
      "--------------------------POMDP high level planner----------------------- t: 0.2\n",
      "EGO: x/y:5.041333333333339 / 0.0 v: 11.11\n",
      "Dict(2=>SingleOCFState(0.0, 11.11, 44.959, -4.79942, 1.5708, 1.00096),3=>SingleOCFState(0.0, 11.11, 48.9581, 3.40041, 1.57, 1.99995),-1=>SingleOCFState(0.0, 11.0, -10.0, -10.0, 0.0, 0.0))\n",
      "ped appeard\n",
      "Pedestrian is visible: SingleOCFState(0.0, 11.11, 44.95898219959555, -4.799416291712431, 1.5707963267948966, 1.0009632716050383)\n",
      "ego_v_state_space: 11.0\n",
      "ped appeard\n",
      "Pedestrian is visible: SingleOCFState(0.0, 11.11, 48.95814432990924, 3.4004076514786203, 1.5700000000000003, 1.9999495487700663)\n",
      "ego_v_state_space: 11.0\n",
      "new state not absent\n",
      "Pedestrian is absent: SingleOCFState(0.0, 11.0, -10.0, -10.0, 0.0, 0.0)\n",
      "ego_v_state_space: 11.0\n",
      "action before update: SingleOCFAction(0.0, 0.0)\n",
      "action after update: SingleOCFAction(-1.0, 0.0)\n",
      "--------------------------POMDP high level planner----------------------- t: 0.4\n",
      "EGO: x/y:7.243333333333339 / 0.0 v: 10.91\n",
      "Dict(2=>SingleOCFState(0.0, 10.91, 42.7539, -4.59988, 1.5708, 0.999242),3=>SingleOCFState(0.0, 10.91, 46.7575, 3.80067, 1.57, 1.50055),-1=>SingleOCFState(0.0, 11.0, -10.0, -10.0, 0.0, 0.0))\n",
      "Pedestrian is visible: SingleOCFState(0.0, 10.91, 42.753940223793585, -4.599879234035062, 1.5707963267948966, 0.9992423669622795)\n",
      "ego_v_state_space: 11.0\n",
      "Pedestrian is visible: SingleOCFState(0.0, 10.91, 46.75746261528867, 3.8006690465544186, 1.5700000000000003, 1.5005508523775009)\n",
      "ego_v_state_space: 11.0\n",
      "Pedestrian is absent: SingleOCFState(0.0, 11.0, -10.0, -10.0, 0.0, 0.0)\n",
      "ego_v_state_space: 11.0\n",
      "action before update: SingleOCFAction(-1.0, 0.0)\n",
      "action after update: SingleOCFAction(-1.0, 0.0)\n",
      "--------------------------POMDP high level planner----------------------- t: 0.6000000000000001\n",
      "EGO: x/y:9.40533333333334 / 0.0 v: 10.71\n",
      "Dict(2=>SingleOCFState(0.0, 10.71, 40.5952, -4.40007, 1.5708, 0.499255),3=>SingleOCFState(0.0, 10.71, 44.5946, 4.09983, 1.57, 2.49788),-1=>SingleOCFState(0.0, 11.0, -10.0, -10.0, 0.0, 0.0))\n",
      "Pedestrian is visible: SingleOCFState(0.0, 10.71, 40.59517466937745, -4.4000731486333375, 1.5707963267948966, 0.49925453568335926)\n",
      "ego_v_state_space: 11.0\n",
      "Pedestrian is visible: SingleOCFState(0.0, 10.71, 44.594613489329134, 4.099833492759972, 1.5700000000000003, 2.4978846297515727)\n",
      "ego_v_state_space: 11.0\n",
      "Pedestrian is absent: SingleOCFState(0.0, 11.0, -10.0, -10.0, 0.0, 0.0)\n",
      "ego_v_state_space: 11.0\n",
      "action before update: SingleOCFAction(-1.0, 0.0)\n",
      "action after update: SingleOCFAction(-1.0, 0.0)\n",
      "--------------------------POMDP high level planner----------------------- t: 0.8\n",
      "EGO: x/y:11.527333333333342 / 0.0 v: 10.510000000000002\n",
      "Dict(2=>SingleOCFState(0.0, 10.51, 38.4731, -4.29943, 1.5708, 0.500763),3=>SingleOCFState(0.0, 10.51, 42.472, 4.59933, 1.57, 1.9982),-1=>SingleOCFState(0.0, 11.0, -10.0, -10.0, 0.0, 0.0))\n",
      "Pedestrian is visible: SingleOCFState(0.0, 10.510000000000002, 38.47312630013057, -4.299432304540259, 1.5707963267948966, 0.5007634989283234)\n",
      "ego_v_state_space: 11.0\n",
      "Pedestrian is visible: SingleOCFState(0.0, 10.510000000000002, 42.47202106961002, 4.5993332618025615, 1.5700000000000003, 1.9981969736757892)\n",
      "ego_v_state_space: 11.0\n",
      "Pedestrian is absent: SingleOCFState(0.0, 11.0, -10.0, -10.0, 0.0, 0.0)\n",
      "ego_v_state_space: 11.0\n",
      "action before update: SingleOCFAction(-1.0, 0.0)\n",
      "action after update: SingleOCFAction(-1.0, 0.0)\n",
      "--------------------------POMDP high level planner----------------------- t: 1.0\n",
      "EGO: x/y:13.609333333333343 / 0.0 v: 10.310000000000002\n",
      "Dict(2=>SingleOCFState(0.0, 10.31, 36.3901, -4.19993, 1.5708, 1.00034),-1=>SingleOCFState(0.0, 10.0, -10.0, -10.0, 0.0, 0.0))\n",
      "Pedestrian is visible: SingleOCFState(0.0, 10.310000000000002, 36.39012874036737, -4.199929532398638, 1.5707963267948966, 1.0003417937673797)\n",
      "ego_v_state_space: 10.0\n",
      "Pedestrian is absent: SingleOCFState(0.0, 10.0, -10.0, -10.0, 0.0, 0.0)\n",
      "ego_v_state_space: 10.0\n",
      "action before update: SingleOCFAction(-1.0, 0.0)\n",
      "action after update: SingleOCFAction(-1.0, 0.0)\n",
      "--------------------------POMDP high level planner----------------------- t: 1.2\n",
      "EGO: x/y:15.651333333333344 / 0.0 v: 10.110000000000003\n",
      "Dict(2=>SingleOCFState(0.0, 10.11, 34.3507, -4.00135, 1.5708, 1.00124),-1=>SingleOCFState(0.0, 10.0, -10.0, -10.0, 0.0, 0.0))\n",
      "Pedestrian is visible: SingleOCFState(0.0, 10.110000000000003, 34.35074137034948, -4.001348533456491, 1.5707963267948966, 1.001240290900429)\n",
      "ego_v_state_space: 10.0\n",
      "Pedestrian is absent: SingleOCFState(0.0, 10.0, -10.0, -10.0, 0.0, 0.0)\n",
      "ego_v_state_space: 10.0\n",
      "action before update: SingleOCFAction(-1.0, 0.0)\n",
      "action after update: SingleOCFAction(-1.0, 0.0)\n",
      "--------------------------POMDP high level planner----------------------- t: 1.4\n",
      "EGO: x/y:17.653333333333347 / 0.0 v: 9.910000000000004\n",
      "Dict(2=>SingleOCFState(0.0, 9.91, 32.348, -3.80115, 1.5708, 1.50188),-1=>SingleOCFState(0.0, 10.0, -10.0, -10.0, 0.0, 0.0))\n",
      "Pedestrian is visible: SingleOCFState(0.0, 9.910000000000004, 32.348005862984664, -3.801149627524396, 1.5707963267948966, 1.5018806221746313)\n",
      "ego_v_state_space: 10.0\n",
      "Pedestrian is absent: SingleOCFState(0.0, 10.0, -10.0, -10.0, 0.0, 0.0)\n",
      "ego_v_state_space: 10.0\n",
      "action before update: SingleOCFAction(-1.0, 0.0)\n",
      "action after update: SingleOCFAction(-1.0, 0.0)\n",
      "--------------------------POMDP high level planner----------------------- t: 1.5999999999999999\n",
      "EGO: x/y:19.615333333333346 / 0.0 v: 9.710000000000004\n",
      "Dict(2=>SingleOCFState(0.0, 9.71, 30.386, -3.50172, 1.5708, 0.500321),-1=>SingleOCFState(0.0, 10.0, -10.0, -10.0, 0.0, 0.0))\n",
      "Pedestrian is visible: SingleOCFState(0.0, 9.710000000000004, 30.386037661663963, -3.5017199893563205, 1.5707963267948966, 0.5003207692799874)\n",
      "ego_v_state_space: 10.0\n",
      "Pedestrian is absent: SingleOCFState(0.0, 10.0, -10.0, -10.0, 0.0, 0.0)\n",
      "ego_v_state_space: 10.0\n",
      "action before update: SingleOCFAction(-1.0, 0.0)\n",
      "action after update: SingleOCFAction(-1.0, 0.0)\n",
      "--------------------------POMDP high level planner----------------------- t: 1.7999999999999998\n",
      "EGO: x/y:21.537333333333347 / 0.0 v: 9.510000000000005\n",
      "Dict(2=>SingleOCFState(0.0, 9.51, 28.4644, -3.40159, 1.5708, 0.499561),-1=>SingleOCFState(0.0, 10.0, -10.0, -10.0, 0.0, 0.0))\n",
      "Pedestrian is visible: SingleOCFState(0.0, 9.510000000000005, 28.464425121543243, -3.4015932148680426, 1.5707963267948966, 0.4995612900242412)\n",
      "ego_v_state_space: 10.0\n",
      "Pedestrian is absent: SingleOCFState(0.0, 10.0, -10.0, -10.0, 0.0, 0.0)\n",
      "ego_v_state_space: 10.0\n",
      "action before update: SingleOCFAction(-1.0, 0.0)\n",
      "action after update: SingleOCFAction(-1.0, 0.0)\n",
      "--------------------------POMDP high level planner----------------------- t: 1.9999999999999998\n",
      "EGO: x/y:23.41933333333335 / 0.0 v: 9.310000000000006\n",
      "Dict(2=>SingleOCFState(0.0, 9.31, 26.5831, -3.30027, 1.5708, 0.501499),-1=>SingleOCFState(0.0, 9.0, -10.0, -10.0, 0.0, 0.0))\n",
      "Pedestrian is visible: SingleOCFState(0.0, 9.310000000000006, 26.58305214787061, -3.300267067035219, 1.5707963267948966, 0.5014990823939307)\n",
      "ego_v_state_space: 9.0\n",
      "Pedestrian is absent: SingleOCFState(0.0, 9.0, -10.0, -10.0, 0.0, 0.0)\n",
      "ego_v_state_space: 9.0\n",
      "action before update: SingleOCFAction(-1.0, 0.0)\n",
      "action after update: SingleOCFAction(-1.0, 0.0)\n",
      "--------------------------POMDP high level planner----------------------- t: 2.1999999999999997\n",
      "EGO: x/y:25.26133333333335 / 0.0 v: 9.110000000000007\n",
      "Dict(2=>SingleOCFState(0.0, 9.11, 24.7414, -3.19974, 1.5708, 0.50046),-1=>SingleOCFState(0.0, 9.0, -10.0, -10.0, 0.0, 0.0))\n",
      "Pedestrian is visible: SingleOCFState(0.0, 9.110000000000007, 24.741449916072963, -3.199740783671947, 1.5707963267948966, 0.5004596959850416)\n",
      "ego_v_state_space: 9.0\n",
      "Pedestrian is absent: SingleOCFState(0.0, 9.0, -10.0, -10.0, 0.0, 0.0)\n",
      "ego_v_state_space: 9.0\n",
      "action before update: SingleOCFAction(-1.0, 0.0)\n",
      "action after update: SingleOCFAction(-1.0, 0.0)\n",
      "--------------------------POMDP high level planner----------------------- t: 2.4\n",
      "EGO: x/y:27.063333333333354 / 0.0 v: 8.910000000000007\n",
      "Dict(2=>SingleOCFState(0.0, 8.91, 22.9383, -3.10171, 1.5708, 1.0015),-1=>SingleOCFState(0.0, 9.0, -10.0, -10.0, 0.0, 0.0))\n",
      "Pedestrian is visible: SingleOCFState(0.0, 8.910000000000007, 22.93833312217213, -3.101709868206005, 1.5707963267948966, 1.001499937876114)\n",
      "ego_v_state_space: 9.0\n"
     ]
    },
    {
     "name": "stdout",
     "output_type": "stream",
     "text": [
      "Pedestrian is absent: SingleOCFState(0.0, 9.0, -10.0, -10.0, 0.0, 0.0)\n",
      "ego_v_state_space: 9.0\n",
      "action before update: SingleOCFAction(-1.0, 0.0)\n",
      "action after update: SingleOCFAction(-1.0, 0.0)\n",
      "--------------------------POMDP high level planner----------------------- t: 2.6\n",
      "EGO: x/y:28.825333333333354 / 0.0 v: 8.710000000000008\n",
      "Dict(2=>SingleOCFState(0.0, 8.71, 21.176, -2.89913, 1.5708, 0.498475),-1=>SingleOCFState(0.0, 9.0, -10.0, -10.0, 0.0, 0.0))\n",
      "Pedestrian is visible: SingleOCFState(0.0, 8.710000000000008, 21.17603800039142, -2.899134640965492, 1.5707963267948966, 0.49847511317901105)\n",
      "ego_v_state_space: 9.0\n",
      "Pedestrian is absent: SingleOCFState(0.0, 9.0, -10.0, -10.0, 0.0, 0.0)\n",
      "ego_v_state_space: 9.0\n",
      "action before update: SingleOCFAction(-1.0, 0.0)\n",
      "action after update: SingleOCFAction(-1.0, 0.0)\n",
      "--------------------------POMDP high level planner----------------------- t: 2.8000000000000003\n",
      "EGO: x/y:30.547333333333356 / 0.0 v: 8.510000000000009\n",
      "Dict(2=>SingleOCFState(0.0, 8.51, 19.4565, -2.79937, 1.5708, 0.998766),-1=>SingleOCFState(0.0, 9.0, -10.0, -10.0, 0.0, 0.0))\n",
      "Pedestrian is visible: SingleOCFState(0.0, 8.510000000000009, 19.45648558105301, -2.7993687087402397, 1.5707963267948966, 0.9987662738559853)\n",
      "ego_v_state_space: 9.0\n",
      "Pedestrian is absent: SingleOCFState(0.0, 9.0, -10.0, -10.0, 0.0, 0.0)\n",
      "ego_v_state_space: 9.0\n",
      "action before update: SingleOCFAction(-1.0, 0.0)\n",
      "action after update: SingleOCFAction(-1.0, 0.0)\n",
      "--------------------------POMDP high level planner----------------------- t: 3.0000000000000004\n",
      "EGO: x/y:32.22933333333335 / 0.0 v: 8.31000000000001\n",
      "Dict(2=>SingleOCFState(0.0, 8.31, 17.7719, -2.60136, 1.5708, 0.500543),-1=>SingleOCFState(0.0, 8.0, -10.0, -10.0, 0.0, 0.0))\n",
      "Pedestrian is visible: SingleOCFState(0.0, 8.31000000000001, 17.77189945804038, -2.6013607329966018, 1.5707963267948966, 0.5005429237557639)\n",
      "ego_v_state_space: 8.0\n",
      "Pedestrian is absent: SingleOCFState(0.0, 8.0, -10.0, -10.0, 0.0, 0.0)\n",
      "ego_v_state_space: 8.0\n",
      "action before update: SingleOCFAction(-1.0, 0.0)\n",
      "action after update: SingleOCFAction(-1.0, 0.0)\n",
      "--------------------------POMDP high level planner----------------------- t: 3.2000000000000006\n",
      "EGO: x/y:33.87133333333335 / 0.0 v: 8.11000000000001\n",
      "Dict(2=>SingleOCFState(0.0, 8.11, 16.1299, -2.49885, 1.5708, 1.49951),-1=>SingleOCFState(0.0, 8.0, -10.0, -10.0, 0.0, 0.0))\n",
      "Pedestrian is visible: SingleOCFState(0.0, 8.11000000000001, 16.129913116163074, -2.498845940233089, 1.5707963267948966, 1.4995144715124902)\n",
      "ego_v_state_space: 8.0\n",
      "Pedestrian is absent: SingleOCFState(0.0, 8.0, -10.0, -10.0, 0.0, 0.0)\n",
      "ego_v_state_space: 8.0\n",
      "action before update: SingleOCFAction(-1.0, 0.0)\n",
      "action after update: SingleOCFAction(-1.0, 0.0)\n",
      "--------------------------POMDP high level planner----------------------- t: 3.400000000000001\n",
      "EGO: x/y:35.47333333333334 / 0.0 v: 7.91000000000001\n",
      "Dict(2=>SingleOCFState(0.0, 7.91, 14.5269, -2.19881, 1.5708, 1.00197),-1=>SingleOCFState(0.0, 8.0, -10.0, -10.0, 0.0, 0.0))\n",
      "Pedestrian is visible: SingleOCFState(0.0, 7.91000000000001, 14.526887456482022, -2.198814882570578, 1.5707963267948966, 1.0019716204287414)\n",
      "ego_v_state_space: 8.0\n",
      "Pedestrian is absent: SingleOCFState(0.0, 8.0, -10.0, -10.0, 0.0, 0.0)\n",
      "ego_v_state_space: 8.0\n",
      "action before update: SingleOCFAction(-1.0, 0.0)\n",
      "action after update: SingleOCFAction(-1.0, 0.0)\n",
      "--------------------------POMDP high level planner----------------------- t: 3.600000000000001\n",
      "EGO: x/y:37.03533333333334 / 0.0 v: 7.71000000000001\n",
      "Dict(2=>SingleOCFState(0.0, 7.71, 12.9649, -2.00097, 1.5708, 0.999231),-1=>SingleOCFState(0.0, 8.0, -10.0, -10.0, 0.0, 0.0))\n",
      "Pedestrian is visible: SingleOCFState(0.0, 7.71000000000001, 12.96487395081256, -2.000970220352283, 1.5707963267948966, 0.9992310712046673)\n",
      "ego_v_state_space: 8.0\n",
      "Pedestrian is absent: SingleOCFState(0.0, 8.0, -10.0, -10.0, 0.0, 0.0)\n",
      "ego_v_state_space: 8.0\n",
      "action before update: SingleOCFAction(-1.0, 0.0)\n",
      "action after update: SingleOCFAction(-1.0, 0.0)\n",
      "--------------------------POMDP high level planner----------------------- t: 3.800000000000001\n",
      "EGO: x/y:38.55733333333334 / 0.0 v: 7.51000000000001\n",
      "Dict(2=>SingleOCFState(0.0, 7.51, 11.4461, -1.8007, 1.5708, 0.998566),-1=>SingleOCFState(0.0, 8.0, -10.0, -10.0, 0.0, 0.0))\n",
      "Pedestrian is visible: SingleOCFState(0.0, 7.51000000000001, 11.44610388785599, -1.8007048446599985, 1.5707963267948966, 0.9985659494537743)\n",
      "ego_v_state_space: 8.0\n",
      "Pedestrian is absent: SingleOCFState(0.0, 8.0, -10.0, -10.0, 0.0, 0.0)\n",
      "ego_v_state_space: 8.0\n",
      "action before update: SingleOCFAction(-1.0, 0.0)\n",
      "action after update: SingleOCFAction(-1.0, 0.0)\n",
      "--------------------------POMDP high level planner----------------------- t: 4.000000000000001\n",
      "EGO: x/y:40.03933333333334 / 0.0 v: 7.310000000000009\n",
      "Dict(2=>SingleOCFState(0.0, 7.31, 9.96275, -1.60016, 1.5708, 1.50006),-1=>SingleOCFState(0.0, 7.0, -10.0, -10.0, 0.0, 0.0))\n",
      "Pedestrian is visible: SingleOCFState(0.0, 7.310000000000009, 9.962750729898751, -1.6001550598509984, 1.5707963267948966, 1.5000607178203123)\n",
      "ego_v_state_space: 7.0\n",
      "Pedestrian is absent: SingleOCFState(0.0, 7.0, -10.0, -10.0, 0.0, 0.0)\n",
      "ego_v_state_space: 7.0\n",
      "action before update: SingleOCFAction(-1.0, 0.0)\n",
      "action after update: SingleOCFAction(-1.0, 0.0)\n",
      "--------------------------POMDP high level planner----------------------- t: 4.200000000000001\n",
      "EGO: x/y:41.48133333333334 / 0.0 v: 7.110000000000009\n",
      "Dict(2=>SingleOCFState(0.0, 7.11, 8.52263, -1.29875, 1.5708, 1.50015),-1=>SingleOCFState(0.0, 7.0, -10.0, -10.0, 0.0, 0.0))\n",
      "Pedestrian is visible: SingleOCFState(0.0, 7.110000000000009, 8.522625100586211, -1.2987502900868535, 1.5707963267948966, 1.500151203386021)\n",
      "ego_v_state_space: 7.0\n",
      "Pedestrian is absent: SingleOCFState(0.0, 7.0, -10.0, -10.0, 0.0, 0.0)\n",
      "ego_v_state_space: 7.0\n",
      "action before update: SingleOCFAction(-1.0, 0.0)\n",
      "action after update: SingleOCFAction(-1.0, 0.0)\n",
      "--------------------------POMDP high level planner----------------------- t: 4.400000000000001\n",
      "EGO: x/y:42.88333333333334 / 0.0 v: 6.910000000000009\n",
      "Dict(2=>SingleOCFState(0.0, 6.91, 7.12254, -0.999395, 1.5708, 1.00128),-1=>SingleOCFState(0.0, 7.0, -10.0, -10.0, 0.0, 0.0))\n",
      "Pedestrian is visible: SingleOCFState(0.0, 6.910000000000009, 7.1225395523847865, -0.9993948656222423, 1.5707963267948966, 1.0012769726118562)\n",
      "ego_v_state_space: 7.0\n",
      "Pedestrian is absent: SingleOCFState(0.0, 7.0, -10.0, -10.0, 0.0, 0.0)\n",
      "ego_v_state_space: 7.0\n",
      "action before update: SingleOCFAction(-1.0, 0.0)\n",
      "action after update: SingleOCFAction(-1.0, 0.0)\n",
      "--------------------------POMDP high level planner----------------------- t: 4.600000000000001\n",
      "EGO: x/y:44.24533333333334 / 0.0 v: 6.710000000000009\n",
      "Dict(2=>SingleOCFState(0.0, 6.71, 5.76008, -0.799128, 1.5708, 1.5007),-1=>SingleOCFState(0.0, 7.0, -10.0, -10.0, 0.0, 0.0))\n",
      "Pedestrian is visible: SingleOCFState(0.0, 6.710000000000009, 5.760081005767674, -0.7991281844393422, 1.5707963267948966, 1.5006995645399732)\n",
      "ego_v_state_space: 7.0\n",
      "Pedestrian is absent: SingleOCFState(0.0, 7.0, -10.0, -10.0, 0.0, 0.0)\n",
      "ego_v_state_space: 7.0\n",
      "action before update: SingleOCFAction(-1.0, 0.0)\n",
      "action after update: SingleOCFAction(-1.0, 0.0)\n",
      "--------------------------POMDP high level planner----------------------- t: 4.800000000000002\n",
      "EGO: x/y:45.56733333333334 / 0.0 v: 6.510000000000009\n",
      "Dict(2=>SingleOCFState(0.0, 6.51, 4.43737, -0.499325, 1.5708, 0.500601),-1=>SingleOCFState(0.0, 7.0, -10.0, -10.0, 0.0, 0.0))\n",
      "Pedestrian is visible: SingleOCFState(0.0, 6.510000000000009, 4.437371703184326, -0.49932465565936796, 1.5707963267948966, 0.5006008899714464)\n",
      "ego_v_state_space: 7.0\n",
      "Pedestrian is absent: SingleOCFState(0.0, 7.0, -10.0, -10.0, 0.0, 0.0)\n",
      "ego_v_state_space: 7.0\n",
      "action before update: SingleOCFAction(-1.0, 0.0)\n",
      "action after update: SingleOCFAction(-1.0, 0.0)\n",
      "elapsed time: 9.610063418 seconds\n"
     ]
    },
    {
     "data": {
      "text/plain": [
       "9.610063418"
      ]
     },
     "execution_count": 5,
     "metadata": {},
     "output_type": "execute_result"
    }
   ],
   "source": [
    "include(\"../src/pedestrian_crossing/pomdp_types.jl\")\n",
    "include(\"../src/pedestrian_crossing/spaces.jl\")\n",
    "include(\"../src/pedestrian_crossing/transition.jl\")\n",
    "include(\"../src/pedestrian_crossing/observation.jl\")\n",
    "include(\"../src/pedestrian_crossing/belief.jl\")\n",
    "include(\"../src/pedestrian_crossing/frenet_pedestrian_pomdp.jl\")\n",
    "include(\"../src/pedestrian_crossing/helpers.jl\")\n",
    "\n",
    "\n",
    "\n",
    "qmdp_policy = load(\"policy.jld\")[\"policy\"];\n",
    "\n",
    "\n",
    "pomdp = SingleOCFPOMDP()\n",
    "updater = SingleOCFUpdater(pomdp)\n",
    "\n",
    "params = CrosswalkParams()\n",
    "params.obstacles_visible = false\n",
    "\n",
    "obstacle_1 = ConvexPolygon([VecE2(34, -1.5), VecE2(34, -4.5), VecE2(46.5, -4.5), VecE2(46.5, -1.5)],4)\n",
    "obstacle_2 = ConvexPolygon([VecE2(34, +4.5), VecE2(34, +7.5), VecE2(46.5, +7.5), VecE2(46.5, +4.5)],4)\n",
    "params.obstacles = [obstacle_1, obstacle_2]\n",
    "#params.obstacles = [obstacle_2]\n",
    "\n",
    "env = CrosswalkEnv(params)\n",
    "pomdp.env = env\n",
    "\n",
    "\n",
    "ego_id = 1\n",
    "ped_id = 2\n",
    "ped2_id = 3\n",
    "\n",
    "\n",
    "ego_v = 11.11\n",
    "ped_v = 5.4/3.6\n",
    "hitpoint = 0             # 50: middle, 100: left corner, 0: right corner\n",
    "ped_theta = π/2\n",
    "\n",
    "\n",
    "# fix values\n",
    "ped_x = 50.0\n",
    "ped_y_start = -7.0\n",
    "ego_y = 0.0\n",
    "\n",
    "\n",
    "ped_y_offset_hitpoint = VehicleDef().width * hitpoint / 100 - VehicleDef().width/2\n",
    "ped_y_end = ped_y_offset_hitpoint\n",
    "ped_t_collision = (ped_y_end - ped_y_start) / ped_v; \n",
    "ego_x = ped_x - ego_v * ped_t_collision - VehicleDef().length/2;\n",
    "\n",
    "if ( false )\n",
    "    ego_v = 0.0\n",
    "    ego_x = 20\n",
    "    ped_x = 30\n",
    "    ped_y_start = -2.0\n",
    "    ped_v = 0.0\n",
    "end\n",
    "\n",
    "ped_y_start = -5.0\n",
    "ped_v = 1.0\n",
    "\n",
    "# Car definition\n",
    "ego_initial_state = VehicleState(VecSE2(ego_x, ego_y, 0.), env.roadway.segments[1].lanes[1], env.roadway, ego_v)\n",
    "ego = Vehicle(ego_initial_state, VehicleDef(), 1)\n",
    "\n",
    "# Pedestrian definition \n",
    "ped_initial_state = VehicleState(VecSE2(ped_x,ped_y_start,ped_theta), env.crosswalk, env.roadway, ped_v)\n",
    "ped = Vehicle(ped_initial_state, AutomotivePOMDPs.PEDESTRIAN_DEF, 2)\n",
    "\n",
    "ped2_v = 2.0\n",
    "ped2 = Vehicle(VehicleState(VecSE2(54., 3., 1.57), env.crosswalk, env.roadway, ped2_v), AutomotivePOMDPs.PEDESTRIAN_DEF, ped2_id)\n",
    "\n",
    "\n",
    "scene = Scene()\n",
    "push!(scene, ego)\n",
    "push!(scene, ped)\n",
    "push!(scene, ped2)\n",
    "\n",
    "\n",
    "\n",
    "cam = FitToContentCamera(0.);\n",
    "timestep = 0.2\n",
    "\n",
    "\n",
    "pos_noise = 0.001\n",
    "vel_noise = 0.001\n",
    "false_positive_rate = 0.00\n",
    "false_negative_rate = 0.00\n",
    "rng = MersenneTwister(1);\n",
    "sensor = AutomotiveSensors.GaussianSensor(AutomotiveSensors.LinearNoise(10, pos_noise, 0.00), \n",
    "                 AutomotiveSensors.LinearNoise(10, vel_noise, 0.00), false_positive_rate, false_negative_rate, rng) \n",
    "\n",
    "\n",
    "\n",
    "# define a model for each entities present in the scene\n",
    "models = Dict{Int, DriverModel}()\n",
    "\n",
    "\n",
    "obs = SingleOCFState(0.0, ego_v, ped_x-ego_x, ped_y_start, ped_theta, ped_v)\n",
    "println(obs)\n",
    "\n",
    "pomdp.ego_vehicle = ego\n",
    "models[ego_id] = FrenetPedestrianPOMDP(a=LatLonAccel(0.0, 0.0),env=env,sensor=sensor, obstacles=env.obstacles, timestep=timestep,\n",
    "    env=env,\n",
    "    pomdp=pomdp,\n",
    "    policy=qmdp_policy,\n",
    "    updater=updater,\n",
    "    ego_vehicle=ego,\n",
    "    desired_velocity=ego_v,\n",
    "    b=initBeliefAbsentPedestrian(pomdp, ego_y, ego_v)\n",
    ")\n",
    "models[ego_id].pomdp.desired_velocity = ego_v\n",
    "models[ego_id].pomdp.ΔT = timestep\n",
    "\n",
    "models[ped_id] = ConstantPedestrian(v_desired=ped.state.v, dawdling_amp=0.001) # dumb model\n",
    "models[ped2_id] = ConstantPedestrian(v_desired=ped2.state.v, dawdling_amp=0.001) # dumb model\n",
    "\n",
    "\n",
    "nticks = 25\n",
    "rec = SceneRecord(nticks+1, timestep)\n",
    "\n",
    "risk = Float64[]\n",
    "sensor_observations = [Vehicle[]]\n",
    "belief = Dict{Int64, SingleOCFBelief}[]\n",
    "ego_vehicle = Vehicle[]\n",
    "action_pomdp = SingleOCFAction[]\n",
    "\n",
    "obs_callback = (ObservationCallback(risk,sensor_observations, belief, ego_vehicle, action_pomdp),)\n",
    "\n",
    "tic()\n",
    "simulate!(rec, scene, env.roadway, models, nticks, obs_callback)\n",
    "toc()\n",
    "\n",
    "\n"
   ]
  },
  {
   "cell_type": "code",
   "execution_count": 6,
   "metadata": {},
   "outputs": [
    {
     "data": {
      "text/html": [
       "<video autoplay controls><source src=\"files/reel-16434013588695422538.webm?4350317007546917117\" type=\"video/webm\"></video>"
      ],
      "text/plain": [
       "Reel.Frames{MIME{Symbol(\"image/png\")}}(\"/tmp/tmpNPVtea\", 0x000000000000001a, 5.0, nothing)"
      ]
     },
     "execution_count": 6,
     "metadata": {},
     "output_type": "execute_result"
    }
   ],
   "source": [
    "duration, fps, render_hist = animate_record(rec, timestep, env, sensor, sensor_observations, risk, belief, ego_vehicle, action_pomdp, CarFollowCamera(2,20.0))\n",
    "film = roll(render_hist, fps = fps, duration = duration)"
   ]
  },
  {
   "cell_type": "code",
   "execution_count": 4,
   "metadata": {},
   "outputs": [
    {
     "data": {
      "text/plain": [
       "107251"
      ]
     },
     "execution_count": 4,
     "metadata": {},
     "output_type": "execute_result"
    }
   ],
   "source": [
    "n_states(pomdp)"
   ]
  },
  {
   "cell_type": "code",
   "execution_count": 46,
   "metadata": {
    "collapsed": true
   },
   "outputs": [
    {
     "name": "stdout",
     "output_type": "stream",
     "text": [
      "2=>POMDPToolbox.SparseCat{Array{SingleOCFState,1},Array{Float64,1}}(SingleOCFState[SingleOCFState(0.0, 10.0, 2.0, -2.0, 1.57, 0.0), SingleOCFState(0.0, 10.0, 2.0, -1.0, 1.57, 0.0), SingleOCFState(0.0, 10.0, 2.0, 0.0, 1.57, 0.0), SingleOCFState(0.0, 10.0, 2.0, -2.0, 1.57, 0.0), SingleOCFState(0.0, 10.0, 2.0, -1.0, 1.57, 0.0), SingleOCFState(0.0, 10.0, 2.0, 0.0, 1.57, 0.0), SingleOCFState(0.0, 10.0, 4.0, -2.0, 1.57, 0.0), SingleOCFState(0.0, 10.0, 4.0, -1.0, 1.57, 0.0), SingleOCFState(0.0, 10.0, 4.0, 0.0, 1.57, 0.0), SingleOCFState(0.0, 10.0, 2.0, -2.0, 1.57, 0.5), SingleOCFState(0.0, 10.0, 2.0, -1.0, 1.57, 0.5), SingleOCFState(0.0, 10.0, 2.0, 0.0, 1.57, 0.5), SingleOCFState(0.0, 10.0, 2.0, -2.0, 1.57, 0.5), SingleOCFState(0.0, 10.0, 2.0, -1.0, 1.57, 0.5), SingleOCFState(0.0, 10.0, 2.0, 0.0, 1.57, 0.5), SingleOCFState(0.0, 10.0, 4.0, -2.0, 1.57, 0.5), SingleOCFState(0.0, 10.0, 4.0, -1.0, 1.57, 0.5), SingleOCFState(0.0, 10.0, 4.0, 0.0, 1.57, 0.5), SingleOCFState(0.0, 10.0, 2.0, -2.0, 1.57, 1.0), SingleOCFState(0.0, 10.0, 2.0, -1.0, 1.57, 1.0), SingleOCFState(0.0, 10.0, 2.0, 0.0, 1.57, 1.0), SingleOCFState(0.0, 10.0, 2.0, -2.0, 1.57, 1.0), SingleOCFState(0.0, 10.0, 2.0, -1.0, 1.57, 1.0), SingleOCFState(0.0, 10.0, 2.0, 0.0, 1.57, 1.0), SingleOCFState(0.0, 10.0, 4.0, -2.0, 1.57, 1.0), SingleOCFState(0.0, 10.0, 4.0, -1.0, 1.57, 1.0), SingleOCFState(0.0, 10.0, 4.0, 0.0, 1.57, 1.0), SingleOCFState(0.0, 10.0, 2.0, -2.0, 1.57, 1.5), SingleOCFState(0.0, 10.0, 2.0, -1.0, 1.57, 1.5), SingleOCFState(0.0, 10.0, 2.0, 0.0, 1.57, 1.5), SingleOCFState(0.0, 10.0, 2.0, -2.0, 1.57, 1.5), SingleOCFState(0.0, 10.0, 2.0, -1.0, 1.57, 1.5), SingleOCFState(0.0, 10.0, 2.0, 0.0, 1.57, 1.5), SingleOCFState(0.0, 10.0, 4.0, -2.0, 1.57, 1.5), SingleOCFState(0.0, 10.0, 4.0, -1.0, 1.57, 1.5), SingleOCFState(0.0, 10.0, 4.0, 0.0, 1.57, 1.5), SingleOCFState(0.0, 10.0, 2.0, -2.0, 1.57, 2.0), SingleOCFState(0.0, 10.0, 2.0, -1.0, 1.57, 2.0), SingleOCFState(0.0, 10.0, 2.0, 0.0, 1.57, 2.0), SingleOCFState(0.0, 10.0, 2.0, -2.0, 1.57, 2.0), SingleOCFState(0.0, 10.0, 2.0, -1.0, 1.57, 2.0), SingleOCFState(0.0, 10.0, 2.0, 0.0, 1.57, 2.0), SingleOCFState(0.0, 10.0, 4.0, -2.0, 1.57, 2.0), SingleOCFState(0.0, 10.0, 4.0, -1.0, 1.57, 2.0), SingleOCFState(0.0, 10.0, 4.0, 0.0, 1.57, 2.0)], [0.0222222, 0.0222222, 0.0222222, 0.0222222, 0.0222222, 0.0222222, 0.0222222, 0.0222222, 0.0222222, 0.0222222, 0.0222222, 0.0222222, 0.0222222, 0.0222222, 0.0222222, 0.0222222, 0.0222222, 0.0222222, 0.0222222, 0.0222222, 0.0222222, 0.0222222, 0.0222222, 0.0222222, 0.0222222, 0.0222222, 0.0222222, 0.0222222, 0.0222222, 0.0222222, 0.0222222, 0.0222222, 0.0222222, 0.0222222, 0.0222222, 0.0222222, 0.0222222, 0.0222222, 0.0222222, 0.0222222, 0.0222222, 0.0222222, 0.0222222, 0.0222222, 0.0222222])\n",
      "3=>POMDPToolbox.SparseCat{Array{SingleOCFState,1},Array{Float64,1}}(SingleOCFState[SingleOCFState(0.0, 10.0, 2.0, 4.0, 1.57, 0.0), SingleOCFState(0.0, 10.0, 2.0, 5.0, 1.57, 0.0), SingleOCFState(0.0, 10.0, 2.0, 5.0, 1.57, 0.0), SingleOCFState(0.0, 10.0, 4.0, 4.0, 1.57, 0.0), SingleOCFState(0.0, 10.0, 4.0, 5.0, 1.57, 0.0), SingleOCFState(0.0, 10.0, 4.0, 5.0, 1.57, 0.0), SingleOCFState(0.0, 10.0, 4.0, 4.0, 1.57, 0.0), SingleOCFState(0.0, 10.0, 4.0, 5.0, 1.57, 0.0), SingleOCFState(0.0, 10.0, 4.0, 5.0, 1.57, 0.0), SingleOCFState(0.0, 10.0, 2.0, 4.0, 1.57, 0.5), SingleOCFState(0.0, 10.0, 2.0, 5.0, 1.57, 0.5), SingleOCFState(0.0, 10.0, 2.0, 5.0, 1.57, 0.5), SingleOCFState(0.0, 10.0, 4.0, 4.0, 1.57, 0.5), SingleOCFState(0.0, 10.0, 4.0, 5.0, 1.57, 0.5), SingleOCFState(0.0, 10.0, 4.0, 5.0, 1.57, 0.5), SingleOCFState(0.0, 10.0, 4.0, 4.0, 1.57, 0.5), SingleOCFState(0.0, 10.0, 4.0, 5.0, 1.57, 0.5), SingleOCFState(0.0, 10.0, 4.0, 5.0, 1.57, 0.5), SingleOCFState(0.0, 10.0, 2.0, 4.0, 1.57, 1.0), SingleOCFState(0.0, 10.0, 2.0, 5.0, 1.57, 1.0), SingleOCFState(0.0, 10.0, 2.0, 5.0, 1.57, 1.0), SingleOCFState(0.0, 10.0, 4.0, 4.0, 1.57, 1.0), SingleOCFState(0.0, 10.0, 4.0, 5.0, 1.57, 1.0), SingleOCFState(0.0, 10.0, 4.0, 5.0, 1.57, 1.0), SingleOCFState(0.0, 10.0, 4.0, 4.0, 1.57, 1.0), SingleOCFState(0.0, 10.0, 4.0, 5.0, 1.57, 1.0), SingleOCFState(0.0, 10.0, 4.0, 5.0, 1.57, 1.0), SingleOCFState(0.0, 10.0, 2.0, 4.0, 1.57, 1.5), SingleOCFState(0.0, 10.0, 2.0, 5.0, 1.57, 1.5), SingleOCFState(0.0, 10.0, 2.0, 5.0, 1.57, 1.5), SingleOCFState(0.0, 10.0, 4.0, 4.0, 1.57, 1.5), SingleOCFState(0.0, 10.0, 4.0, 5.0, 1.57, 1.5), SingleOCFState(0.0, 10.0, 4.0, 5.0, 1.57, 1.5), SingleOCFState(0.0, 10.0, 4.0, 4.0, 1.57, 1.5), SingleOCFState(0.0, 10.0, 4.0, 5.0, 1.57, 1.5), SingleOCFState(0.0, 10.0, 4.0, 5.0, 1.57, 1.5), SingleOCFState(0.0, 10.0, 2.0, 4.0, 1.57, 2.0), SingleOCFState(0.0, 10.0, 2.0, 5.0, 1.57, 2.0), SingleOCFState(0.0, 10.0, 2.0, 5.0, 1.57, 2.0), SingleOCFState(0.0, 10.0, 4.0, 4.0, 1.57, 2.0), SingleOCFState(0.0, 10.0, 4.0, 5.0, 1.57, 2.0), SingleOCFState(0.0, 10.0, 4.0, 5.0, 1.57, 2.0), SingleOCFState(0.0, 10.0, 4.0, 4.0, 1.57, 2.0), SingleOCFState(0.0, 10.0, 4.0, 5.0, 1.57, 2.0), SingleOCFState(0.0, 10.0, 4.0, 5.0, 1.57, 2.0)], [0.0222222, 0.0222222, 0.0222222, 0.0222222, 0.0222222, 0.0222222, 0.0222222, 0.0222222, 0.0222222, 0.0222222, 0.0222222, 0.0222222, 0.0222222, 0.0222222, 0.0222222, 0.0222222, 0.0222222, 0.0222222, 0.0222222, 0.0222222, 0.0222222, 0.0222222, 0.0222222, 0.0222222, 0.0222222, 0.0222222, 0.0222222, 0.0222222, 0.0222222, 0.0222222, 0.0222222, 0.0222222, 0.0222222, 0.0222222, 0.0222222, 0.0222222, 0.0222222, 0.0222222, 0.0222222, 0.0222222, 0.0222222, 0.0222222, 0.0222222, 0.0222222, 0.0222222])\n"
     ]
    },
    {
     "data": {
      "text/plain": [
       "2"
      ]
     },
     "execution_count": 46,
     "metadata": {},
     "output_type": "execute_result"
    }
   ],
   "source": []
  },
  {
   "cell_type": "code",
   "execution_count": 71,
   "metadata": {},
   "outputs": [
    {
     "data": {
      "image/png": "[encoded data removed]",
      "text/plain": [
       "Cairo.CairoSurface{UInt32}(Ptr{Void} @0x0000000023ea8240, 1000.0, 600.0, #undef)"
      ]
     },
     "execution_count": 71,
     "metadata": {},
     "output_type": "execute_result"
    }
   ],
   "source": [
    "i = 3\n",
    "scene = rec[0]\n",
    "bel = belief[i]\n",
    "belief_overlay = BeliefOverlay(belief=bel, ego_vehicle=ego_vehicle[i])\n",
    "\n",
    "AutoViz.render(rec[-1], env, SceneOverlay[belief_overlay], cam=CarFollowCamera(2,14.0))"
   ]
  },
  {
   "cell_type": "code",
   "execution_count": 31,
   "metadata": {},
   "outputs": [
    {
     "data": {
      "image/png": "[encoded data removed]",
      "text/plain": [
       "Cairo.CairoSurface{UInt32}(Ptr{Void} @0x0000000008739540, 1000.0, 600.0, #undef)"
      ]
     },
     "execution_count": 31,
     "metadata": {},
     "output_type": "execute_result"
    }
   ],
   "source": [
    "include(\"../src/pedestrian_crossing/pomdp_types.jl\")\n",
    "include(\"../src/pedestrian_crossing/spaces.jl\")\n",
    "include(\"../src/pedestrian_crossing/transition.jl\")\n",
    "include(\"../src/pedestrian_crossing/observation.jl\")\n",
    "include(\"../src/pedestrian_crossing/belief.jl\")\n",
    "include(\"../src/pedestrian_crossing/helpers.jl\")\n",
    "\n",
    "\n",
    "include(\"../src/pedestrian_crossing/frenet_pedestrian_pomdp.jl\")\n",
    "\n",
    "next_states = SingleOCFState[]\n",
    "for (s, prob) in weighted_iterator(bel)\n",
    "    td = transition(pomdp, s, SingleOCFAction(-2.0, 0.0), pomdp.ΔT)\n",
    "    for sp in td.vals\n",
    "        push!(next_states, sp)\n",
    "    end\n",
    "end\n",
    "pred_bel = SparseCat(next_states, normalize(ones(length(next_states)),1))\n",
    "belief_overlay = BeliefOverlay(belief=pred_bel, ego_vehicle=ego_vehicle[i])\n",
    "fake_ego = VehicleState()\n",
    "scene = Scene()\n",
    "AutoViz.render(rec[0], env, SceneOverlay[belief_overlay], cam=CarFollowCamera(2,14.0))"
   ]
  },
  {
   "cell_type": "code",
   "execution_count": 46,
   "metadata": {},
   "outputs": [
    {
     "data": {
      "text/plain": [
       "SingleOCFPOMDP\n",
       "  env: AutomotivePOMDPs.CrosswalkEnv\n",
       "  ego_type: AutomotiveDrivingModels.VehicleDef\n",
       "  ped_type: AutomotiveDrivingModels.VehicleDef\n",
       "  longitudinal_actions: Array{Float64}((5,)) [1.0, 0.0, -1.0, -2.0, -4.0]\n",
       "  lateral_actions: Array{Float64}((3,)) [1.0, 0.0, -1.0]\n",
       "  ΔT: Float64 0.5\n",
       "  PED_A_RANGE: Array{Float64}((5,)) [-2.0, -1.0, 0.0, 1.0, 2.0]\n",
       "  PED_THETA_NOISE: Array{Float64}((3,)) [-0.195, 0.0, 0.195]\n",
       "  PED_SAFETY_DISTANCE: Float64 1.0\n",
       "  EGO_Y_MIN: Float64 -1.0\n",
       "  EGO_Y_MAX: Float64 1.0\n",
       "  EGO_Y_RANGE: Array{Float64}((1,)) [0.0]\n",
       "  EGO_V_MIN: Float64 0.0\n",
       "  EGO_V_MAX: Float64 14.0\n",
       "  EGO_V_RANGE: Array{Float64}((29,)) [0.0, 0.5, 1.0, 1.5, 2.0, 2.5, 3.0, 3.5, 4.0, 4.5  …  9.5, 10.0, 10.5, 11.0, 11.5, 12.0, 12.5, 13.0, 13.5, 14.0]\n",
       "  S_MIN: Float64 0.0\n",
       "  S_MAX: Float64 50.0\n",
       "  S_RANGE: Array{Float64}((51,)) [0.0, 1.0, 2.0, 3.0, 4.0, 5.0, 6.0, 7.0, 8.0, 9.0  …  41.0, 42.0, 43.0, 44.0, 45.0, 46.0, 47.0, 48.0, 49.0, 50.0]\n",
       "  T_MIN: Float64 -5.0\n",
       "  T_MAX: Float64 5.0\n",
       "  T_RANGE: Array{Float64}((11,)) [-5.0, -4.0, -3.0, -2.0, -1.0, 0.0, 1.0, 2.0, 3.0, 4.0, 5.0]\n",
       "  PED_V_MIN: Float64 0.0\n",
       "  PED_V_MAX: Float64 2.0\n",
       "  PED_V_RANGE: Array{Float64}((5,)) [0.0, 0.5, 1.0, 1.5, 2.0]\n",
       "  PED_THETA_MIN: Float64 0.785\n",
       "  PED_THETA_MAX: Float64 2.355\n",
       "  PED_THETA_RANGE: Array{Float64}((1,)) [1.57]\n",
       "  collision_cost: Float64 -10.0\n",
       "  action_cost_lon: Float64 -1.0\n",
       "  action_cost_lat: Float64 -1.0\n",
       "  goal_reward: Float64 10.0\n",
       "  γ: Float64 0.99\n",
       "  state_space_grid: GridInterpolations.RectangleGrid{6}\n",
       "  state_space_ped: Array{SingleOCFPedState}((2806,))\n",
       "  state_space: Array{SingleOCFState}((81346,))\n",
       "  action_space: Array{SingleOCFAction}((15,))\n",
       "  absent: Bool true\n",
       "  obstacles: Array{AutomotiveDrivingModels.ConvexPolygon}((2,))\n",
       "  ego_vehicle: Records.Entity{AutomotiveDrivingModels.VehicleState,AutomotiveDrivingModels.VehicleDef,Int64}\n",
       "  desired_velocity: Float64 11.11111111111111\n"
      ]
     },
     "execution_count": 46,
     "metadata": {},
     "output_type": "execute_result"
    }
   ],
   "source": [
    "pomdp"
   ]
  },
  {
   "cell_type": "code",
   "execution_count": 55,
   "metadata": {},
   "outputs": [
    {
     "data": {
      "text/plain": [
       "false"
      ]
     },
     "execution_count": 55,
     "metadata": {},
     "output_type": "execute_result"
    }
   ],
   "source": [
    "pomdp.env.params.obstacles_visible"
   ]
  },
  {
   "cell_type": "code",
   "execution_count": 33,
   "metadata": {},
   "outputs": [
    {
     "data": {
      "text/plain": [
       "is_observation_absent (generic function with 1 method)"
      ]
     },
     "execution_count": 33,
     "metadata": {},
     "output_type": "execute_result"
    }
   ],
   "source": []
  },
  {
   "cell_type": "code",
   "execution_count": 59,
   "metadata": {},
   "outputs": [
    {
     "data": {
      "text/plain": [
       "SingleOCFState(-1.0, 14.0, -10.0, -10.0, 0.0, 0.0)"
      ]
     },
     "execution_count": 59,
     "metadata": {},
     "output_type": "execute_result"
    }
   ],
   "source": []
  },
  {
   "cell_type": "code",
   "execution_count": 119,
   "metadata": {},
   "outputs": [
    {
     "name": "stdout",
     "output_type": "stream",
     "text": [
      "SingleOCFState(0.0, 9.5, -10.0, -10.0, 0.0, 0.0)\n"
     ]
    }
   ],
   "source": [
    "s = SingleOCFState(0.0, 10.5, -10.0, -10.0, 0.0, 0.0)\n",
    "a = SingleOCFAction(-4.0, 0.0)\n",
    "td = transition(pomdp, s, a) \n",
    "\n",
    "\n",
    "absent_state_present = false\n",
    "for (s, prob) in weighted_iterator(td)\n",
    "    if is_state_absent(pomdp, s) \n",
    "       absent_state_present = true \n",
    "    end\n",
    "    cnt += 1\n",
    "end\n"
   ]
  },
  {
   "cell_type": "code",
   "execution_count": 122,
   "metadata": {},
   "outputs": [
    {
     "ename": "LoadError",
     "evalue": "\u001b[91msyntax: unexpected \"end\"\u001b[39m",
     "output_type": "error",
     "traceback": [
      "\u001b[91msyntax: unexpected \"end\"\u001b[39m",
      "",
      "Stacktrace:",
      " [1] \u001b[1minclude_string\u001b[22m\u001b[22m\u001b[1m(\u001b[22m\u001b[22m::String, ::String\u001b[1m)\u001b[22m\u001b[22m at \u001b[1m./loading.jl:522\u001b[22m\u001b[22m"
     ]
    }
   ],
   "source": []
  },
  {
   "cell_type": "code",
   "execution_count": 191,
   "metadata": {},
   "outputs": [
    {
     "data": {
      "text/plain": [
       "0.040455258340222476"
      ]
     },
     "execution_count": 191,
     "metadata": {},
     "output_type": "execute_result"
    }
   ],
   "source": [
    "b = POMDPToolbox.SparseCat{Array{SingleOCFState,1},Array{Float64,1}}(SingleOCFState[SingleOCFState(0.0, 9.0, -10.0, -10.0, 0.0, 0.0)], [1.0])\n",
    "a = SingleOCFAction(-4.0, 0.0)\n",
    "o = SingleOCFState(0.0, 8.329999999999998, 21.32259231837015, -4.899329938018746, 1.5707963267948966, 2.5005508523775006)\n",
    "\n",
    "(ego_y_state_space, ego_v_state_space) = getEgoDataInStateSpace(pomdp, o.ego_y, o.ego_v)\n",
    "\n",
    "sp = get_state_absent(pomdp, ego_y_state_space, ego_v_state_space)\n",
    "sp = SingleOCFState(0.0, 0.0, 21.0, -5.0, 1.57, 2)\n",
    "po = observation_weight(pomdp, sp, o) \n"
   ]
  },
  {
   "cell_type": "code",
   "execution_count": 186,
   "metadata": {},
   "outputs": [
    {
     "data": {
      "text/plain": [
       "0.040455258340222476"
      ]
     },
     "execution_count": 186,
     "metadata": {},
     "output_type": "execute_result"
    }
   ],
   "source": []
  },
  {
   "cell_type": "code",
   "execution_count": 228,
   "metadata": {},
   "outputs": [
    {
     "data": {
      "text/plain": [
       "136"
      ]
     },
     "execution_count": 228,
     "metadata": {},
     "output_type": "execute_result"
    }
   ],
   "source": [
    "length(bel)"
   ]
  },
  {
   "cell_type": "code",
   "execution_count": 36,
   "metadata": {},
   "outputs": [
    {
     "data": {
      "text/plain": [
       "1451451"
      ]
     },
     "execution_count": 36,
     "metadata": {},
     "output_type": "execute_result"
    }
   ],
   "source": [
    "n_states(pomdp)"
   ]
  },
  {
   "cell_type": "code",
   "execution_count": 12,
   "metadata": {},
   "outputs": [
    {
     "ename": "LoadError",
     "evalue": "\u001b[91mTypeError: Type: in parameter, expected Type, got Array{Int64,1}\u001b[39m",
     "output_type": "error",
     "traceback": [
      "\u001b[91mTypeError: Type: in parameter, expected Type, got Array{Int64,1}\u001b[39m",
      "",
      "Stacktrace:",
      " [1] \u001b[1m(::Core.#kw#Type)\u001b[22m\u001b[22m\u001b[1m(\u001b[22m\u001b[22m::Array{Any,1}, ::Type{FrenetPedestrianPOMDP}\u001b[1m)\u001b[22m\u001b[22m at \u001b[1m./<missing>:0\u001b[22m\u001b[22m",
      " [2] \u001b[1minclude_string\u001b[22m\u001b[22m\u001b[1m(\u001b[22m\u001b[22m::String, ::String\u001b[1m)\u001b[22m\u001b[22m at \u001b[1m./loading.jl:522\u001b[22m\u001b[22m"
     ]
    },
    {
     "name": "stderr",
     "output_type": "stream",
     "text": [
      "\u001b[91mERROR (unhandled task failure): \u001b[91mInterruptException:\u001b[39m\n",
      "Stacktrace:\n",
      " [1] \u001b[1mprocess_events\u001b[22m\u001b[22m at \u001b[1m./libuv.jl:82\u001b[22m\u001b[22m [inlined]\n",
      " [2] \u001b[1mwait\u001b[22m\u001b[22m\u001b[1m(\u001b[22m\u001b[22m\u001b[1m)\u001b[22m\u001b[22m at \u001b[1m./event.jl:216\u001b[22m\u001b[22m\n",
      " [3] \u001b[1mwait\u001b[22m\u001b[22m\u001b[1m(\u001b[22m\u001b[22m::Condition\u001b[1m)\u001b[22m\u001b[22m at \u001b[1m./event.jl:27\u001b[22m\u001b[22m\n",
      " [4] \u001b[1mstream_wait\u001b[22m\u001b[22m\u001b[1m(\u001b[22m\u001b[22m::Timer, ::Condition, ::Vararg{Condition,N} where N\u001b[1m)\u001b[22m\u001b[22m at \u001b[1m./stream.jl:42\u001b[22m\u001b[22m\n",
      " [5] \u001b[1mwait\u001b[22m\u001b[22m\u001b[1m(\u001b[22m\u001b[22m::Timer\u001b[1m)\u001b[22m\u001b[22m at \u001b[1m./event.jl:357\u001b[22m\u001b[22m\n",
      " [6] \u001b[1m(::Base.##302#303{IJulia.#send_stderr,Timer})\u001b[22m\u001b[22m\u001b[1m(\u001b[22m\u001b[22m\u001b[1m)\u001b[22m\u001b[22m at \u001b[1m./event.jl:430\u001b[22m\u001b[22m\n",
      "\u001b[39m"
     ]
    }
   ],
   "source": [
    "FrenetPedestrianPOMDP(a=LatLonAccel(0.0, 0.0),env=env,sensor=sensor, obstacles=env.obstacles, timestep=timestep)"
   ]
  },
  {
   "cell_type": "code",
   "execution_count": 12,
   "metadata": {},
   "outputs": [
    {
     "data": {
      "text/plain": [
       "POMDPToolbox.SparseCat{Array{SingleOCFState,1},Array{Float64,1}}(SingleOCFState[SingleOCFState(0.0, 10.0, 2.0, 4.0, 1.57, 0.0), SingleOCFState(0.0, 10.0, 2.0, 5.0, 1.57, 0.0), SingleOCFState(0.0, 10.0, 2.0, 5.0, 1.57, 0.0), SingleOCFState(0.0, 10.0, 4.0, 4.0, 1.57, 0.0), SingleOCFState(0.0, 10.0, 4.0, 5.0, 1.57, 0.0), SingleOCFState(0.0, 10.0, 4.0, 5.0, 1.57, 0.0), SingleOCFState(0.0, 10.0, 4.0, 4.0, 1.57, 0.0), SingleOCFState(0.0, 10.0, 4.0, 5.0, 1.57, 0.0), SingleOCFState(0.0, 10.0, 4.0, 5.0, 1.57, 0.0), SingleOCFState(0.0, 10.0, 2.0, 4.0, 1.57, 0.5)  …  SingleOCFState(0.0, 10.0, 4.0, 5.0, 1.57, 1.5), SingleOCFState(0.0, 10.0, 2.0, 4.0, 1.57, 2.0), SingleOCFState(0.0, 10.0, 2.0, 5.0, 1.57, 2.0), SingleOCFState(0.0, 10.0, 2.0, 5.0, 1.57, 2.0), SingleOCFState(0.0, 10.0, 4.0, 4.0, 1.57, 2.0), SingleOCFState(0.0, 10.0, 4.0, 5.0, 1.57, 2.0), SingleOCFState(0.0, 10.0, 4.0, 5.0, 1.57, 2.0), SingleOCFState(0.0, 10.0, 4.0, 4.0, 1.57, 2.0), SingleOCFState(0.0, 10.0, 4.0, 5.0, 1.57, 2.0), SingleOCFState(0.0, 10.0, 4.0, 5.0, 1.57, 2.0)], [0.0222222, 0.0222222, 0.0222222, 0.0222222, 0.0222222, 0.0222222, 0.0222222, 0.0222222, 0.0222222, 0.0222222  …  0.0222222, 0.0222222, 0.0222222, 0.0222222, 0.0222222, 0.0222222, 0.0222222, 0.0222222, 0.0222222, 0.0222222])"
      ]
     },
     "execution_count": 12,
     "metadata": {},
     "output_type": "execute_result"
    }
   ],
   "source": [
    "belief[16][3]"
   ]
  },
  {
   "cell_type": "code",
   "execution_count": 52,
   "metadata": {},
   "outputs": [
    {
     "data": {
      "text/plain": [
       "true"
      ]
     },
     "execution_count": 52,
     "metadata": {},
     "output_type": "execute_result"
    }
   ],
   "source": []
  },
  {
   "cell_type": "code",
   "execution_count": 170,
   "metadata": {},
   "outputs": [
    {
     "data": {
      "text/plain": [
       "POMDPToolbox.SparseCat{Array{SingleOCFState,1},Array{Float64,1}}(SingleOCFState[SingleOCFState(0.0, 11.0, -10.0, -10.0, 0.0, 0.0)], [1.0])"
      ]
     },
     "execution_count": 170,
     "metadata": {},
     "output_type": "execute_result"
    }
   ],
   "source": [
    " b = POMDPToolbox.SparseCat{Array{SingleOCFState,1},Array{Float64,1}}(SingleOCFState[SingleOCFState(0.0, 11.0, -10.0, -10.0, 0.0, 0.0)], [1.0])"
   ]
  },
  {
   "cell_type": "code",
   "execution_count": 171,
   "metadata": {},
   "outputs": [
    {
     "data": {
      "text/plain": [
       "POMDPToolbox.SparseCat{Array{SingleOCFState,1},Array{Float64,1}}(SingleOCFState[SingleOCFState(0.0, 11.0, -10.0, -10.0, 0.0, 0.0)], [1.0])"
      ]
     },
     "execution_count": 171,
     "metadata": {},
     "output_type": "execute_result"
    }
   ],
   "source": [
    "b"
   ]
  },
  {
   "cell_type": "code",
   "execution_count": 180,
   "metadata": {},
   "outputs": [
    {
     "data": {
      "text/plain": [
       "POMDPToolbox.SparseCat{Array{SingleOCFState,1},Array{Float64,1}}(SingleOCFState[SingleOCFState(0.0, 11.0, -10.0, -10.0, 0.0, 0.0)], [1.0])"
      ]
     },
     "execution_count": 180,
     "metadata": {},
     "output_type": "execute_result"
    }
   ],
   "source": [
    "b = weighted_iterator(b)"
   ]
  },
  {
   "cell_type": "code",
   "execution_count": 184,
   "metadata": {},
   "outputs": [
    {
     "name": "stdout",
     "output_type": "stream",
     "text": [
      "bingo\n"
     ]
    }
   ],
   "source": []
  },
  {
   "cell_type": "code",
   "execution_count": 182,
   "metadata": {},
   "outputs": [
    {
     "ename": "LoadError",
     "evalue": "\u001b[91mMethodError: no method matching getindex(::POMDPToolbox.SparseCat{Array{SingleOCFState,1},Array{Float64,1}}, ::Int64)\u001b[39m",
     "output_type": "error",
     "traceback": [
      "\u001b[91mMethodError: no method matching getindex(::POMDPToolbox.SparseCat{Array{SingleOCFState,1},Array{Float64,1}}, ::Int64)\u001b[39m",
      "",
      "Stacktrace:",
      " [1] \u001b[1minclude_string\u001b[22m\u001b[22m\u001b[1m(\u001b[22m\u001b[22m::String, ::String\u001b[1m)\u001b[22m\u001b[22m at \u001b[1m./loading.jl:522\u001b[22m\u001b[22m"
     ]
    }
   ],
   "source": [
    "b[1]"
   ]
  },
  {
   "cell_type": "code",
   "execution_count": null,
   "metadata": {},
   "outputs": [],
   "source": []
  }
 ],
 "metadata": {
  "kernelspec": {
   "display_name": "Julia 0.6.4",
   "language": "julia",
   "name": "julia-0.6"
  },
  "language_info": {
   "file_extension": ".jl",
   "mimetype": "application/julia",
   "name": "julia",
   "version": "0.6.4"
  }
 },
 "nbformat": 4,
 "nbformat_minor": 2
}
