{
 "cells": [
  {
   "cell_type": "code",
   "execution_count": 1,
   "metadata": {},
   "outputs": [
    {
     "name": "stderr",
     "output_type": "stream",
     "text": [
      "WARNING: Method definition warn(Any...) in module Base at util.jl:589 overwritten in module Logging at /home/xubuntu/.julia/v0.6/Logging/src/Logging.jl:115.\n",
      "WARNING: Method definition info(Any...) in module Base at util.jl:534 overwritten in module Logging at /home/xubuntu/.julia/v0.6/Logging/src/Logging.jl:115.\n",
      "WARNING: Method definition copy!(Array{Float64, 1}, AutomotiveDrivingModels.LatLonAccel) in module AutomotiveDrivingModels at /home/xubuntu/.julia/v0.6/AutomotiveDrivingModels/src/2d/actions/lat_lon_accel.jl:13 overwritten in module AutoUrban at /home/xubuntu/.julia/v0.6/AutoUrban/src/simulation/actions.jl:10.\n",
      "WARNING: Method definition split_o(Array{Float64, 1}, AutomotivePOMDPs.UrbanPOMDP) in module AutomotivePOMDPs at /home/xubuntu/stanford/AutomotivePOMDPs/src/generative_pomdps/urban/generative_model.jl:560 overwritten at /home/xubuntu/stanford/AutomotivePOMDPs/src/decomposition/base_scenarios.jl:38.\n",
      "WARNING: Method definition #split_o(Array{Any, 1}, typeof(AutomotivePOMDPs.split_o), Array{Float64, 1}, AutomotivePOMDPs.UrbanPOMDP) in module AutomotivePOMDPs overwritten.\n"
     ]
    }
   ],
   "source": [
    "using AutomotiveDrivingModels\n",
    "using AutoViz\n",
    "using AutomotiveSensors\n",
    "using AutomotivePOMDPs\n",
    "using Parameters\n",
    "using Reel\n",
    "using StaticArrays\n",
    "using ProfileView\n",
    "\n",
    "using GridInterpolations \n",
    "using POMDPs\n",
    "using POMDPToolbox\n",
    "using QMDP\n",
    "using JLD\n",
    "\n",
    "using Revise"
   ]
  },
  {
   "cell_type": "code",
   "execution_count": 2,
   "metadata": {},
   "outputs": [],
   "source": [
    "include(\"../src/pedestrian_crossing/pomdp_types.jl\")\n",
    "include(\"../src/pedestrian_crossing/spaces.jl\")\n",
    "include(\"../src/pedestrian_crossing/transition.jl\")\n",
    "include(\"../src/pedestrian_crossing/observation.jl\")\n",
    "include(\"../src/pedestrian_crossing/belief.jl\")\n",
    "\n",
    "include(\"../src/pedestrian_crossing/frenet_pedestrian_pomdp.jl\")\n"
   ]
  },
  {
   "cell_type": "code",
   "execution_count": 9,
   "metadata": {},
   "outputs": [],
   "source": [
    "function AutomotiveDrivingModels.observe!(model::FrenetPedestrianPOMDP, scene::Scene, roadway::Roadway, egoid::Int)\n",
    "\n",
    "\n",
    "    model.t_current = model.t_current + model.timestep \n",
    "    model.tick += 1\n",
    "    \n",
    "    ego = scene[findfirst(scene, egoid)]\n",
    "\n",
    "    model.sensor_observations = measure(model.sensor, ego, scene, roadway, model.obstacles)\n",
    "\n",
    "\n",
    "        \n",
    "    ################ High Level Planner ###################################################\n",
    "    if ( model.tick % model.update_tick_high_level_planner == 0 )\n",
    "        \n",
    "        println(\"--------------------------high level planner-------------------------------\")\n",
    "        model.sensor_observations\n",
    "        for object in model.sensor_observations\n",
    "          #  println(object)\n",
    "            object_posF = Frenet(object.state.posG, get_lane(env.roadway, ego.state), env.roadway)\n",
    "\n",
    "            delta_s = object_posF.s - ego.state.posF.s - ego.def.length/2\n",
    "            delta_d = object_posF.t - ego.state.posF.t\n",
    "            delta_theta = object_posF.ϕ - ego.state.posF.ϕ\n",
    "            ped_v = object.state.v\n",
    "            \n",
    "            obs = SingleOCFState(0.0, ego.state.v, delta_s, delta_d, delta_theta, ped_v)\n",
    "           \n",
    "            \n",
    "            action_pomdp = SingleOCFAction(model.a.a_lat, model.a.a_lon)\n",
    "       #     b_ = update(model.updater, model.b, action_pomdp, obs)\n",
    "       #     model.b = deepcopy(b_)\n",
    "       #     action = action(model.policy, model.b) # policy\n",
    "      #      println(action)\n",
    "        \n",
    "        end\n",
    "    end\n",
    "    \n",
    "    model.risk = model.tick\n",
    "\n",
    "\n",
    "    a_current = 0\n",
    "    model.a = LatLonAccel(0., a_current)\n",
    "    \n",
    "end\n"
   ]
  },
  {
   "cell_type": "code",
   "execution_count": 4,
   "metadata": {},
   "outputs": [
    {
     "data": {
      "text/plain": [
       "QMDP.QMDPSolver(50, 0.001, false)"
      ]
     },
     "execution_count": 4,
     "metadata": {},
     "output_type": "execute_result"
    }
   ],
   "source": [
    "pomdp = SingleOCFPOMDP()\n",
    "updater = SingleOCFUpdater(pomdp)\n",
    "b0 = initial_state_distribution(pomdp)\n",
    "solver = QMDPSolver(max_iterations=50, tolerance=1e-3) \n"
   ]
  },
  {
   "cell_type": "code",
   "execution_count": 7,
   "metadata": {},
   "outputs": [
    {
     "name": "stderr",
     "output_type": "stream",
     "text": [
      "03-Okt 18:18:18:WARNING:root:Keyword args for solve(::QMDPSolver, ::POMDP) are no longer supported. For verbose output, use the verbose option in the ValueIterationSolver\n"
     ]
    },
    {
     "name": "stdout",
     "output_type": "stream",
     "text": [
      "\n",
      "INFO: POMDPs.jl requirements for \u001b[34msolve(::QMDPSolver, ::POMDPs.POMDP)\u001b[39m and dependencies. ([✔] = implemented correctly; [X] = missing)\n",
      "\n",
      "For \u001b[34msolve(::QMDPSolver, ::POMDPs.POMDP)\u001b[39m:\n",
      "  [No additional requirements]\n",
      "For \u001b[34msolve(::ValueIterationSolver, ::Union{POMDPs.MDP,POMDPs.POMDP})\u001b[39m (in solve(::QMDPSolver, ::POMDPs.POMDP)):\n",
      "\u001b[32m  [✔] discount(::SingleOCFPOMDP)\u001b[39m\n",
      "\u001b[32m  [✔] n_states(::SingleOCFPOMDP)\u001b[39m\n",
      "\u001b[32m  [✔] n_actions(::SingleOCFPOMDP)\u001b[39m\n",
      "\u001b[32m  [✔] transition(::SingleOCFPOMDP, ::SingleOCFState, ::SingleOCFAction)\u001b[39m\n",
      "\u001b[32m  [✔] reward(::SingleOCFPOMDP, ::SingleOCFState, ::SingleOCFAction, ::SingleOCFState)\u001b[39m\n",
      "\u001b[32m  [✔] state_index(::SingleOCFPOMDP, ::SingleOCFState)\u001b[39m\n",
      "\u001b[32m  [✔] action_index(::SingleOCFPOMDP, ::SingleOCFAction)\u001b[39m\n",
      "\u001b[32m  [✔] actions(::SingleOCFPOMDP, ::SingleOCFState)\u001b[39m\n",
      "\u001b[32m  [✔] iterator(::Array)\u001b[39m\n",
      "\u001b[32m  [✔] iterator(::Array)\u001b[39m\n",
      "\u001b[32m  [✔] iterator(::SparseCat)\u001b[39m\n",
      "\u001b[32m  [✔] pdf(::SparseCat, ::SingleOCFState)\u001b[39m\n",
      "For \u001b[34mordered_states(::Union{POMDPs.MDP,POMDPs.POMDP})\u001b[39m (in solve(::ValueIterationSolver, ::Union{POMDPs.MDP,POMDPs.POMDP})):\n",
      "\u001b[32m  [✔] states(::SingleOCFPOMDP)\u001b[39m\n",
      "For \u001b[34mordered_actions(::Union{POMDPs.MDP,POMDPs.POMDP})\u001b[39m (in solve(::ValueIterationSolver, ::Union{POMDPs.MDP,POMDPs.POMDP})):\n",
      "\u001b[32m  [✔] actions(::SingleOCFPOMDP)\u001b[39m\n",
      "\n"
     ]
    },
    {
     "data": {
      "text/plain": [
       "POMDPToolbox.AlphaVectorPolicy{SingleOCFPOMDP,SingleOCFAction}(SingleOCFPOMDP\n",
       "  env: AutomotivePOMDPs.CrosswalkEnv\n",
       "  ego_type: AutomotiveDrivingModels.VehicleDef\n",
       "  ped_type: AutomotiveDrivingModels.VehicleDef\n",
       "  longitudinal_actions: Array{Float64}((5,)) [1.0, 0.0, -1.0, -2.0, -4.0]\n",
       "  lateral_actions: Array{Float64}((3,)) [1.0, 0.0, -1.0]\n",
       "  ΔT: Float64 0.5\n",
       "  v_noise: Array{Float64}((1,)) [0.0]\n",
       "  theta_noise: Array{Float64}((1,)) [0.0]\n",
       "  pos_obs_noise: Float64 1.0\n",
       "  vel_obs_noise: Float64 1.0\n",
       "  collision_cost: Float64 -1.0\n",
       "  action_cost_lon: Float64 0.0\n",
       "  action_cost_lat: Float64 0.0\n",
       "  goal_reward: Float64 1.0\n",
       "  γ: Float64 0.95\n",
       "  state_space_grid: GridInterpolations.RectangleGrid{6}\n",
       "  state_space_ped: Array{SingleOCFPedState}((6250,))\n",
       "  state_space: Array{SingleOCFState}((437500,))\n",
       "  action_space: Array{SingleOCFAction}((15,))\n",
       ", Array{Float64,1}[[0.0, 0.0, 0.0, 0.0, 0.0, 0.0, 0.0, 0.0, 0.0, 0.0  …  0.0, 0.0, 0.0, 0.0, 0.0, 0.0, 0.0, 0.0, 0.0, 0.0], [0.0, 0.0, 0.0, 0.0, 0.0, 0.0, 0.0, 0.0, 0.0, 0.0  …  0.0, 0.0, 0.0, 0.0, 0.0, 0.0, 0.0, 0.0, 0.0, 0.0], [0.0, 0.0, 0.0, 0.0, 0.0, 0.0, 0.0, 0.0, 0.0, 0.0  …  0.0, 0.0, 0.0, 0.0, 0.0, 0.0, 0.0, 0.0, 0.0, 0.0], [0.0, 0.0, 0.0, 0.0, 0.0, 0.0, 0.0, 0.0, 0.0, 0.0  …  0.0, 0.0, 0.0, 0.0, 0.0, 0.0, 0.0, 0.0, 0.0, 0.0], [0.0, 0.0, 0.0, 0.0, 0.0, 0.0, 0.0, 0.0, 0.0, 0.0  …  0.0, 0.0, 0.0, 0.0, 0.0, 0.0, 0.0, 0.0, 0.0, 0.0], [0.0, 0.0, 0.0, 0.0, 0.0, 0.0, 0.0, 0.0, 0.0, 0.0  …  0.0, 0.0, 0.0, 0.0, 0.0, 0.0, 0.0, 0.0, 0.0, 0.0], [0.0, 0.0, 0.0, 0.0, 0.0, 0.0, 0.0, 0.0, 0.0, 0.0  …  0.0, 0.0, 0.0, 0.0, 0.0, 0.0, 0.0, 0.0, 0.0, 0.0], [0.0, 0.0, 0.0, 0.0, 0.0, 0.0, 0.0, 0.0, 0.0, 0.0  …  0.0, 0.0, 0.0, 0.0, 0.0, 0.0, 0.0, 0.0, 0.0, 0.0], [0.0, 0.0, 0.0, 0.0, 0.0, 0.0, 0.0, 0.0, 0.0, 0.0  …  0.0, 0.0, 0.0, 0.0, 0.0, 0.0, 0.0, 0.0, 0.0, 0.0], [0.0, 0.0, 0.0, 0.0, 0.0, 0.0, 0.0, 0.0, 0.0, 0.0  …  0.0, 0.0, 0.0, 0.0, 0.0, 0.0, 0.0, 0.0, 0.0, 0.0], [0.0, 0.0, 0.0, 0.0, 0.0, 0.0, 0.0, 0.0, 0.0, 0.0  …  0.0, 0.0, 0.0, 0.0, 0.0, 0.0, 0.0, 0.0, 0.0, 0.0], [0.0, 0.0, 0.0, 0.0, 0.0, 0.0, 0.0, 0.0, 0.0, 0.0  …  0.0, 0.0, 0.0, 0.0, 0.0, 0.0, 0.0, 0.0, 0.0, 0.0], [0.0, 0.0, 0.0, 0.0, 0.0, 0.0, 0.0, 0.0, 0.0, 0.0  …  0.0, 0.0, 0.0, 0.0, 0.0, 0.0, 0.0, 0.0, 0.0, 0.0], [0.0, 0.0, 0.0, 0.0, 0.0, 0.0, 0.0, 0.0, 0.0, 0.0  …  0.0, 0.0, 0.0, 0.0, 0.0, 0.0, 0.0, 0.0, 0.0, 0.0], [0.0, 0.0, 0.0, 0.0, 0.0, 0.0, 0.0, 0.0, 0.0, 0.0  …  0.0, 0.0, 0.0, 0.0, 0.0, 0.0, 0.0, 0.0, 0.0, 0.0]], SingleOCFAction[SingleOCFAction(1.0, 1.0), SingleOCFAction(0.0, 1.0), SingleOCFAction(-1.0, 1.0), SingleOCFAction(-2.0, 1.0), SingleOCFAction(-4.0, 1.0), SingleOCFAction(1.0, 0.0), SingleOCFAction(0.0, 0.0), SingleOCFAction(-1.0, 0.0), SingleOCFAction(-2.0, 0.0), SingleOCFAction(-4.0, 0.0), SingleOCFAction(1.0, -1.0), SingleOCFAction(0.0, -1.0), SingleOCFAction(-1.0, -1.0), SingleOCFAction(-2.0, -1.0), SingleOCFAction(-4.0, -1.0)])"
      ]
     },
     "execution_count": 7,
     "metadata": {},
     "output_type": "execute_result"
    }
   ],
   "source": [
    "@requirements_info solver pomdp\n",
    "# run the solver\n",
    "qmdp_policy = solve(solver, pomdp, verbose=true)\n",
    "JLD.save(\"policy.jld\", \"policy\", qmdp_policy)"
   ]
  },
  {
   "cell_type": "code",
   "execution_count": 5,
   "metadata": {},
   "outputs": [],
   "source": [
    "qmdp_policy = load(\"policy.jld\")[\"policy\"];"
   ]
  },
  {
   "cell_type": "code",
   "execution_count": 10,
   "metadata": {},
   "outputs": [
    {
     "name": "stdout",
     "output_type": "stream",
     "text": [
      "--------------------------high level planner-------------------------------\n",
      "--------------------------high level planner-------------------------------\n",
      "--------------------------high level planner-------------------------------\n",
      "--------------------------high level planner-------------------------------\n",
      "--------------------------high level planner-------------------------------\n",
      "--------------------------high level planner-------------------------------\n",
      "--------------------------high level planner-------------------------------\n",
      "--------------------------high level planner-------------------------------\n",
      "elapsed time: 0.399765829 seconds\n"
     ]
    },
    {
     "data": {
      "text/plain": [
       "0.399765829"
      ]
     },
     "execution_count": 10,
     "metadata": {},
     "output_type": "execute_result"
    }
   ],
   "source": [
    "params = CrosswalkParams()\n",
    "params.obstacles_visible = true\n",
    "\n",
    "obstacle_1 = ConvexPolygon([VecE2(15, -1.5), VecE2(15, -4.5), VecE2(21.5, -4.5), VecE2(21.5, -1.5)],4)\n",
    "obstacle_2 = ConvexPolygon([VecE2(15, +4.5), VecE2(15, +7.5), VecE2(21.5, +7.5), VecE2(21.5, +4.5)],4)\n",
    "params.obstacles = [obstacle_1, obstacle_2]\n",
    "#params.obstacles = [obstacle_2]\n",
    "\n",
    "env = CrosswalkEnv(params);\n",
    "\n",
    "\n",
    "\n",
    "\n",
    "ego_v = 10.0\n",
    "ped_v = 5.0/3.6\n",
    "hitpoint = 50             # 50: middle, 100: left corner, 0: right corner\n",
    "ped_theta = π/2\n",
    "\n",
    "\n",
    "# fix values\n",
    "ped_x = 25.5\n",
    "ped_y_start = -2\n",
    "ego_y = 0\n",
    "\n",
    "\n",
    "ped_y_offset_hitpoint = VehicleDef().width * hitpoint / 100 - VehicleDef().width/2\n",
    "ped_y_end = ped_y_offset_hitpoint\n",
    "ped_t_collision = (ped_y_end - ped_y_start) / ped_v; \n",
    "ego_x = ped_x - ego_v * ped_t_collision - VehicleDef().length/2;\n",
    "\n",
    "\n",
    "# Car definition\n",
    "car_initial_state = VehicleState(VecSE2(ego_x, ego_y, 0.), env.roadway.segments[1].lanes[1], env.roadway, ego_v)\n",
    "car = Vehicle(car_initial_state, VehicleDef(), 1)\n",
    "\n",
    "# Pedestrian definition using our new Vehicle definition\n",
    "ped_initial_state = VehicleState(VecSE2(ped_x,ped_y_start,ped_theta), env.crosswalk, env.roadway, ped_v)\n",
    "ped = Vehicle(ped_initial_state, AutomotivePOMDPs.PEDESTRIAN_DEF, 2)\n",
    "\n",
    "scene = Scene()\n",
    "push!(scene, car)\n",
    "push!(scene, ped)\n",
    "\n",
    "\n",
    "\n",
    "cam = FitToContentCamera(0.);\n",
    "timestep = 0.05\n",
    "\n",
    "\n",
    "pos_noise = 0.1\n",
    "vel_noise = 0.1\n",
    "false_positive_rate = 0.05\n",
    "false_negative_rate = 0.01\n",
    "rng = MersenneTwister(1);\n",
    "sensor = AutomotiveSensors.GaussianSensor(AutomotiveSensors.LinearNoise(10, pos_noise, 0.00), \n",
    "                 AutomotiveSensors.LinearNoise(10, vel_noise, 0.00), false_positive_rate, false_negative_rate, rng) \n",
    "\n",
    "\n",
    "\n",
    "# define a model for each entities present in the scene\n",
    "models = Dict{Int, DriverModel}()\n",
    "\n",
    "ego_id = 1\n",
    "ped_id = 2\n",
    "models[ego_id] = FrenetPedestrianPOMDP(a=LatLonAccel(0.0, 0.0),env=env,sensor=sensor, obstacles=env.obstacles, timestep=timestep,\n",
    "    pomdp=pomdp,\n",
    "    policy=qmdp_policy,\n",
    "    updater=updater,\n",
    "    b=b0\n",
    ")\n",
    "models[ped_id] = ConstantPedestrian(v_desired=ped_v, dawdling_amp=0.05) # dumb model\n",
    "\n",
    "\n",
    "nticks = 80\n",
    "rec = SceneRecord(nticks+1, timestep)\n",
    "# execute the simulation\n",
    "\n",
    "risk = Float64[]\n",
    "sensor_observations = [Vehicle[]]\n",
    "\n",
    "obs_callback = (ObservationCallback(risk,sensor_observations),)\n",
    "\n",
    "tic()\n",
    "simulate!(rec, scene, env.roadway, models, nticks, obs_callback)\n",
    "toc()\n",
    "\n",
    "\n"
   ]
  },
  {
   "cell_type": "code",
   "execution_count": 11,
   "metadata": {
    "scrolled": true
   },
   "outputs": [
    {
     "data": {
      "text/html": [
       "<video autoplay controls><source src=\"files/reel-9921567983814513261.webm?3456152915007669329\" type=\"video/webm\"></video>"
      ],
      "text/plain": [
       "Reel.Frames{MIME{Symbol(\"image/png\")}}(\"/tmp/tmpTdJI7c\", 0x0000000000000050, 20.0, nothing)"
      ]
     },
     "execution_count": 11,
     "metadata": {},
     "output_type": "execute_result"
    }
   ],
   "source": [
    "duration, fps, render_hist = animate_record(rec, timestep, env, sensor, sensor_observations, risk)\n",
    "film = roll(render_hist, fps = fps, duration = duration)"
   ]
  },
  {
   "cell_type": "code",
   "execution_count": null,
   "metadata": {},
   "outputs": [],
   "source": []
  }
 ],
 "metadata": {
  "kernelspec": {
   "display_name": "Julia 0.6.4",
   "language": "julia",
   "name": "julia-0.6"
  },
  "language_info": {
   "file_extension": ".jl",
   "mimetype": "application/julia",
   "name": "julia",
   "version": "0.6.4"
  }
 },
 "nbformat": 4,
 "nbformat_minor": 2
}
