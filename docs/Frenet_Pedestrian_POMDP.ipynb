{
 "cells": [
  {
   "cell_type": "code",
   "execution_count": 104,
   "metadata": {},
   "outputs": [
    {
     "data": {
      "text/plain": [
       "animate_record (generic function with 2 methods)"
      ]
     },
     "execution_count": 104,
     "metadata": {},
     "output_type": "execute_result"
    }
   ],
   "source": [
    "using AutomotiveDrivingModels\n",
    "using AutoViz\n",
    "using AutomotiveSensors\n",
    "using AutomotivePOMDPs\n",
    "using Parameters\n",
    "using StaticArrays\n",
    "using ProfileView\n",
    "\n",
    "using GridInterpolations \n",
    "using POMDPs\n",
    "using POMDPToolbox\n",
    "using QMDP\n",
    "using JLD\n",
    "using Reel\n",
    "using Revise\n",
    "\n",
    "\n",
    "include(\"../src/pedestrian_crossing/pomdp_types.jl\")\n",
    "include(\"../src/pedestrian_crossing/spaces.jl\")\n",
    "include(\"../src/pedestrian_crossing/transition.jl\")\n",
    "include(\"../src/pedestrian_crossing/observation.jl\")\n",
    "include(\"../src/pedestrian_crossing/belief.jl\")\n",
    "include(\"../src/pedestrian_crossing/helpers.jl\")\n",
    "\n",
    "include(\"../src/pedestrian_crossing/frenet_pedestrian_pomdp.jl\")\n"
   ]
  },
  {
   "cell_type": "code",
   "execution_count": 272,
   "metadata": {},
   "outputs": [
    {
     "name": "stdout",
     "output_type": "stream",
     "text": [
      "SingleOCFState(0.0, 10.73, 31.328666666666663, -7.0, 1.5707963267948966, 2.0)\n",
      "--------------------------POMDP high level planner----------------------- t: 0.0\n",
      "EGO: x/y:18.671333333333337 / 0.0 v: 10.73\n",
      "PED: x/y: 50.00038239596779 / -7.000597634476728 v: 1.9999895547553626\n",
      "delta_s: 31.329049062634454 delta_t: -7.000597634476728\n",
      "Observation cont: SingleOCFState(0.0, 10.73, 31.329049062634454, -7.000597634476728, 1.5707963267948966, 1.9999895547553626)\n",
      "init belief absent\n",
      "action before update: SingleOCFAction(0.0, 0.0)\n",
      "Pedestrian is absent: SingleOCFState(0.0, 10.5, -10.0, -10.0, 0.0, 0.0)\n",
      "ego_v_state_space: 10.5\n",
      "b-length: 1\n",
      "--------------------------POMDP high level planner----------------------- t: 0.2\n",
      "EGO: x/y:20.817333333333337 / 0.0 v: 10.73\n",
      "PED: x/y: 50.00005604937374 / -6.597704912176164 v: 1.4977329136511994\n",
      "delta_s: 29.182722716040406 delta_t: -6.597704912176164\n",
      "Observation cont: SingleOCFState(0.0, 10.73, 29.182722716040406, -6.597704912176164, 1.5707963267948966, 1.4977329136511994)\n",
      "action before update: SingleOCFAction(0.0, 0.0)\n",
      "Pedestrian is absent: SingleOCFState(0.0, 10.5, -10.0, -10.0, 0.0, 0.0)\n",
      "ego_v_state_space: 10.5\n",
      "b-length: 1\n",
      "--------------------------POMDP high level planner----------------------- t: 0.4\n",
      "EGO: x/y:22.96333333333334 / 0.0 v: 10.73\n",
      "PED: x/y: 49.997993879907355 / -6.29941629171243 v: 2.000963271605038\n",
      "delta_s: 27.034660546574017 delta_t: -6.29941629171243\n",
      "Observation cont: SingleOCFState(0.0, 10.73, 27.034660546574017, -6.29941629171243, 1.5707963267948966, 2.000963271605038)\n",
      "action before update: SingleOCFAction(0.0, 0.0)\n",
      "Pedestrian is absent: SingleOCFState(0.0, 10.5, -10.0, -10.0, 0.0, 0.0)\n",
      "ego_v_state_space: 10.5\n",
      "b-length: 1\n",
      "--------------------------POMDP high level planner----------------------- t: 0.6000000000000001\n",
      "EGO: x/y:25.10933333333334 / 0.0 v: 10.73\n",
      "PED: x/y: 49.99695192114199 / -5.899591604161674 v: 1.9999495487700663\n",
      "delta_s: 24.887618587808653 delta_t: -5.899591604161674\n",
      "Observation cont: SingleOCFState(0.0, 10.73, 24.887618587808653, -5.899591604161674, 1.5707963267948966, 1.9999495487700663)\n",
      "action before update: SingleOCFAction(0.0, 0.0)\n",
      "Pedestrian is absent: SingleOCFState(0.0, 10.5, -10.0, -10.0, 0.0, 0.0)\n",
      "ego_v_state_space: 10.5\n",
      "b-length: 1\n",
      "manual intervention\n",
      "--------------------------POMDP high level planner----------------------- t: 0.8\n",
      "EGO: x/y:27.17533333333334 / 0.0 v: 9.93\n",
      "PED: x/y: 49.994318416491765 / -5.499879234035061 v: 1.4992423669622794\n",
      "delta_s: 22.818985083158424 delta_t: -5.499879234035061\n",
      "Observation cont: SingleOCFState(0.0, 9.93, 22.818985083158424, -5.499879234035061, 1.5707963267948966, 1.4992423669622794)\n",
      "action before update: SingleOCFAction(-4.0, 0.0)\n",
      "Pedestrian is absent: SingleOCFState(0.0, 10.0, -10.0, -10.0, 0.0, 0.0)\n",
      "ego_v_state_space: 10.0\n",
      "b-length: 1\n",
      "manual intervention\n",
      "--------------------------POMDP high level planner----------------------- t: 1.0\n",
      "EGO: x/y:29.081333333333344 / 0.0 v: 9.129999999999999\n",
      "PED: x/y: 49.99689267877689 / -5.199329938018744 v: 1.5005508523775009\n",
      "delta_s: 20.915559345443533 delta_t: -5.199329938018744\n",
      "Observation cont: SingleOCFState(0.0, 9.129999999999999, 20.915559345443533, -5.199329938018744, 1.5707963267948966, 1.5005508523775009)\n",
      "action before update: SingleOCFAction(-4.0, 0.0)\n",
      "Pedestrian is absent: SingleOCFState(0.0, 9.0, -10.0, -10.0, 0.0, 0.0)\n",
      "ego_v_state_space: 9.0\n",
      "b-length: 1\n",
      "manual intervention\n",
      "--------------------------POMDP high level planner----------------------- t: 1.2\n",
      "EGO: x/y:30.827333333333346 / 0.0 v: 8.329999999999998\n",
      "PED: x/y: 49.99553669890364 / -4.90007314863334 v: 1.9992545356833593\n",
      "delta_s: 19.168203365570296 delta_t: -4.90007314863334\n",
      "Observation cont: SingleOCFState(0.0, 8.329999999999998, 19.168203365570296, -4.90007314863334, 1.5707963267948966, 1.9992545356833593)\n",
      "action before update: SingleOCFAction(-4.0, 0.0)\n",
      "Pedestrian is visible: SingleOCFState(0.0, 8.329999999999998, 19.168203365570296, -4.90007314863334, 1.5707963267948966, 1.9992545356833593)\n",
      "ego_v_state_space: 8.5\n"
     ]
    },
    {
     "ename": "LoadError",
     "evalue": "\u001b[91m  Failed discrete belief update: new probabilities sum to zero.\n#  b = POMDPToolbox.SparseCat{Array{SingleOCFState,1},Array{Float64,1}}(SingleOCFState[SingleOCFState(0.0, 9.0, -10.0, -10.0, 0.0, 0.0)], [1.0])\n  a = SingleOCFAction(-4.0, 0.0)\n  o = SingleOCFState(0.0, 8.329999999999998, 19.168203365570296, -4.90007314863334, 1.5707963267948966, 1.9992545356833593)\n  Failed discrete belief update: new probabilities sum to zero.\n  \u001b[39m",
     "output_type": "error",
     "traceback": [
      "\u001b[91m  Failed discrete belief update: new probabilities sum to zero.\n#  b = POMDPToolbox.SparseCat{Array{SingleOCFState,1},Array{Float64,1}}(SingleOCFState[SingleOCFState(0.0, 9.0, -10.0, -10.0, 0.0, 0.0)], [1.0])\n  a = SingleOCFAction(-4.0, 0.0)\n  o = SingleOCFState(0.0, 8.329999999999998, 19.168203365570296, -4.90007314863334, 1.5707963267948966, 1.9992545356833593)\n  Failed discrete belief update: new probabilities sum to zero.\n  \u001b[39m",
      "",
      "Stacktrace:",
      " [1] \u001b[1mupdate\u001b[22m\u001b[22m\u001b[1m(\u001b[22m\u001b[22m::SingleOCFUpdater, ::POMDPToolbox.SparseCat{Array{SingleOCFState,1},Array{Float64,1}}, ::SingleOCFAction, ::SingleOCFState\u001b[1m)\u001b[22m\u001b[22m at \u001b[1m/home/xubuntu/stanford/AutomotivePOMDPs/src/pedestrian_crossing/belief.jl:65\u001b[22m\u001b[22m",
      " [2] \u001b[1mobserve!\u001b[22m\u001b[22m\u001b[1m(\u001b[22m\u001b[22m::FrenetPedestrianPOMDP{SingleOCFUpdater}, ::Records.Frame{Records.Entity{AutomotiveDrivingModels.VehicleState,AutomotiveDrivingModels.VehicleDef,Int64}}, ::AutomotiveDrivingModels.Roadway, ::Int64\u001b[1m)\u001b[22m\u001b[22m at \u001b[1m/home/xubuntu/stanford/AutomotivePOMDPs/src/pedestrian_crossing/frenet_pedestrian_pomdp.jl:87\u001b[22m\u001b[22m",
      " [3] \u001b[1mget_actions!\u001b[22m\u001b[22m\u001b[1m(\u001b[22m\u001b[22m::Array{Any,1}, ::Records.Frame{Records.Entity{AutomotiveDrivingModels.VehicleState,AutomotiveDrivingModels.VehicleDef,Int64}}, ::AutomotiveDrivingModels.Roadway, ::Dict{Int64,AutomotiveDrivingModels.DriverModel}\u001b[1m)\u001b[22m\u001b[22m at \u001b[1m/home/xubuntu/.julia/v0.6/AutomotiveDrivingModels/src/interface/simulation.jl:11\u001b[22m\u001b[22m",
      " [4] \u001b[1msimulate!\u001b[22m\u001b[22m\u001b[1m(\u001b[22m\u001b[22m::Type{Any}, ::Records.QueueRecord{Records.Entity{AutomotiveDrivingModels.VehicleState,AutomotiveDrivingModels.VehicleDef,Int64}}, ::Records.Frame{Records.Entity{AutomotiveDrivingModels.VehicleState,AutomotiveDrivingModels.VehicleDef,Int64}}, ::AutomotiveDrivingModels.Roadway, ::Dict{Int64,AutomotiveDrivingModels.DriverModel}, ::Int64, ::Tuple{ObservationCallback}\u001b[1m)\u001b[22m\u001b[22m at \u001b[1m/home/xubuntu/.julia/v0.6/AutomotiveDrivingModels/src/interface/callbacks.jl:35\u001b[22m\u001b[22m",
      " [5] \u001b[1msimulate!\u001b[22m\u001b[22m\u001b[1m(\u001b[22m\u001b[22m::Records.QueueRecord{Records.Entity{AutomotiveDrivingModels.VehicleState,AutomotiveDrivingModels.VehicleDef,Int64}}, ::Records.Frame{Records.Entity{AutomotiveDrivingModels.VehicleState,AutomotiveDrivingModels.VehicleDef,Int64}}, ::AutomotiveDrivingModels.Roadway, ::Dict{Int64,AutomotiveDrivingModels.DriverModel}, ::Int64, ::Tuple{ObservationCallback}\u001b[1m)\u001b[22m\u001b[22m at \u001b[1m/home/xubuntu/.julia/v0.6/AutomotiveDrivingModels/src/interface/callbacks.jl:54\u001b[22m\u001b[22m",
      " [6] \u001b[1minclude_string\u001b[22m\u001b[22m\u001b[1m(\u001b[22m\u001b[22m::String, ::String\u001b[1m)\u001b[22m\u001b[22m at \u001b[1m./loading.jl:522\u001b[22m\u001b[22m"
     ]
    }
   ],
   "source": [
    "include(\"../src/pedestrian_crossing/pomdp_types.jl\")\n",
    "include(\"../src/pedestrian_crossing/spaces.jl\")\n",
    "include(\"../src/pedestrian_crossing/transition.jl\")\n",
    "include(\"../src/pedestrian_crossing/observation.jl\")\n",
    "include(\"../src/pedestrian_crossing/belief.jl\")\n",
    "include(\"../src/pedestrian_crossing/helpers.jl\")\n",
    "\n",
    "include(\"../src/pedestrian_crossing/frenet_pedestrian_pomdp.jl\")\n",
    "\n",
    "\n",
    "#qmdp_policy = load(\"policy.jld\")[\"policy\"];\n",
    "\n",
    "\n",
    "pomdp = SingleOCFPOMDP()\n",
    "updater = SingleOCFUpdater(pomdp)\n",
    "\n",
    "params = CrosswalkParams()\n",
    "params.obstacles_visible = false\n",
    "\n",
    "obstacle_1 = ConvexPolygon([VecE2(34, -1.5), VecE2(34, -4.5), VecE2(46.5, -4.5), VecE2(46.5, -1.5)],4)\n",
    "obstacle_2 = ConvexPolygon([VecE2(34, +4.5), VecE2(34, +7.5), VecE2(46.5, +7.5), VecE2(46.5, +4.5)],4)\n",
    "params.obstacles = [obstacle_1, obstacle_2]\n",
    "#params.obstacles = [obstacle_2]\n",
    "\n",
    "env = CrosswalkEnv(params)\n",
    "pomdp.env = env\n",
    "\n",
    "\n",
    "\n",
    "ego_v = 10.73\n",
    "ped_v = 5.4/3.6\n",
    "hitpoint = 0             # 50: middle, 100: left corner, 0: right corner\n",
    "ped_theta = π/2\n",
    "\n",
    "\n",
    "# fix values\n",
    "ped_x = 50.0\n",
    "ped_y_start = -5.0\n",
    "ego_y = 0.0\n",
    "\n",
    "\n",
    "ped_y_offset_hitpoint = VehicleDef().width * hitpoint / 100 - VehicleDef().width/2\n",
    "ped_y_end = ped_y_offset_hitpoint\n",
    "ped_t_collision = (ped_y_end - ped_y_start) / ped_v; \n",
    "ego_x = ped_x - ego_v * ped_t_collision - VehicleDef().length/2;\n",
    "\n",
    "if ( false )\n",
    "    ego_v = 0.0\n",
    "    ego_x = 20\n",
    "    ped_x = 30\n",
    "    ped_y_start = -2.0\n",
    "    ped_v = 0.0\n",
    "end\n",
    "\n",
    "ped_y_start = -7.0\n",
    "ped_v = 2.0\n",
    "\n",
    "# Car definition\n",
    "ego_initial_state = VehicleState(VecSE2(ego_x, ego_y, 0.), env.roadway.segments[1].lanes[1], env.roadway, ego_v)\n",
    "ego = Vehicle(ego_initial_state, VehicleDef(), 1)\n",
    "\n",
    "# Pedestrian definition using our new Vehicle definition\n",
    "ped_initial_state = VehicleState(VecSE2(ped_x,ped_y_start,ped_theta), env.crosswalk, env.roadway, ped_v)\n",
    "ped = Vehicle(ped_initial_state, AutomotivePOMDPs.PEDESTRIAN_DEF, 2)\n",
    "\n",
    "scene = Scene()\n",
    "push!(scene, ego)\n",
    "push!(scene, ped)\n",
    "\n",
    "\n",
    "\n",
    "cam = FitToContentCamera(0.);\n",
    "timestep = 0.2\n",
    "\n",
    "\n",
    "pos_noise = 0.001\n",
    "vel_noise = 0.001\n",
    "false_positive_rate = 0.00\n",
    "false_negative_rate = 0.00\n",
    "rng = MersenneTwister(1);\n",
    "sensor = AutomotiveSensors.GaussianSensor(AutomotiveSensors.LinearNoise(10, pos_noise, 0.00), \n",
    "                 AutomotiveSensors.LinearNoise(10, vel_noise, 0.00), false_positive_rate, false_negative_rate, rng) \n",
    "\n",
    "\n",
    "\n",
    "# define a model for each entities present in the scene\n",
    "models = Dict{Int, DriverModel}()\n",
    "\n",
    "ego_id = 1\n",
    "ped_id = 2\n",
    "\n",
    "obs = SingleOCFState(0.0, ego_v, ped_x-ego_x, ped_y_start, ped_theta, ped_v)\n",
    "println(obs)\n",
    "\n",
    "pomdp.ego_vehicle = ego\n",
    "models[ego_id] = FrenetPedestrianPOMDP(a=LatLonAccel(0.0, 0.0),env=env,sensor=sensor, obstacles=env.obstacles, timestep=timestep,\n",
    "    env=env,\n",
    "    pomdp=pomdp,\n",
    "  #  policy=qmdp_policy,\n",
    "    updater=updater,\n",
    "    ego_vehicle=ego,\n",
    "    desired_velocity=ego_v,\n",
    "    b=initBeliefAbsentPedestrian(pomdp, ego_y, ego_v)\n",
    ")\n",
    "models[ego_id].pomdp.desired_velocity = ego_v\n",
    "models[ego_id].pomdp.ΔT = timestep\n",
    "\n",
    "models[ped_id] = ConstantPedestrian(v_desired=ped_v, dawdling_amp=0.001) # dumb model\n",
    "\n",
    "nticks = 20\n",
    "rec = SceneRecord(nticks+1, timestep)\n",
    "\n",
    "risk = Float64[]\n",
    "sensor_observations = [Vehicle[]]\n",
    "belief = SingleOCFBelief[]\n",
    "ego_vehicle = Vehicle[]\n",
    "action_pomdp = SingleOCFAction[]\n",
    "\n",
    "obs_callback = (ObservationCallback(risk,sensor_observations, belief, ego_vehicle, action_pomdp),)\n",
    "\n",
    "tic()\n",
    "simulate!(rec, scene, env.roadway, models, nticks, obs_callback)\n",
    "toc()\n",
    "\n",
    "\n"
   ]
  },
  {
   "cell_type": "code",
   "execution_count": 273,
   "metadata": {},
   "outputs": [
    {
     "data": {
      "text/html": [
       "<video autoplay controls><source src=\"files/reel-10318880180018208624.webm?18149596704398285155\" type=\"video/webm\"></video>"
      ],
      "text/plain": [
       "Reel.Frames{MIME{Symbol(\"image/png\")}}(\"/tmp/tmpwzcesd\", 0x0000000000000007, 5.0, nothing)"
      ]
     },
     "execution_count": 273,
     "metadata": {},
     "output_type": "execute_result"
    }
   ],
   "source": [
    "duration, fps, render_hist = animate_record(rec, timestep, env, sensor, sensor_observations, risk, belief, ego_vehicle, action_pomdp, CarFollowCamera(2,10.0))\n",
    "film = roll(render_hist, fps = fps, duration = duration)"
   ]
  },
  {
   "cell_type": "code",
   "execution_count": 144,
   "metadata": {},
   "outputs": [
    {
     "name": "stdout",
     "output_type": "stream",
     "text": [
      "SingleOCFState(0.0, 0.0, 11.0, -2.0, 1.57, 0.0)=>2.3721022849403275e-21\n",
      "SingleOCFState(0.0, 0.0, 12.0, -2.0, 1.57, 0.0)=>4.3707707797140287e-13\n",
      "SingleOCFState(0.0, 0.0, 13.0, -2.0, 1.57, 0.0)=>1.2109115625543097e-11\n",
      "SingleOCFState(0.0, 0.0, 14.0, -2.0, 1.57, 0.0)=>2.761202864552714e-19\n",
      "SingleOCFState(0.0, 0.0, 10.0, -1.0, 1.57, 0.0)=>7.406504481390624e-45\n",
      "SingleOCFState(0.0, 0.0, 11.0, -1.0, 1.57, 0.0)=>3.569710536065352e-15\n",
      "SingleOCFState(0.0, 0.0, 12.0, -1.0, 1.57, 0.0)=>6.66478990122644e-7\n",
      "SingleOCFState(0.0, 0.0, 13.0, -1.0, 1.57, 0.0)=>1.9762743464995596e-5\n",
      "SingleOCFState(0.0, 0.0, 14.0, -1.0, 1.57, 0.0)=>4.571272536046751e-13\n",
      "SingleOCFState(0.0, 0.0, 15.0, -1.0, 1.57, 0.0)=>2.66788881549614e-36\n",
      "SingleOCFState(0.0, 0.0, 10.0, 0.0, 1.57, 0.0)=>2.9271352434960513e-44\n",
      "SingleOCFState(0.0, 0.0, 11.0, 0.0, 1.57, 0.0)=>1.4107793196984635e-14\n",
      "SingleOCFState(0.0, 0.0, 12.0, 0.0, 1.57, 0.0)=>2.643675661428856e-6\n",
      "SingleOCFState(0.0, 0.0, 13.0, 0.0, 1.57, 0.0)=>7.972553554655998e-5\n",
      "SingleOCFState(0.0, 0.0, 14.0, 0.0, 1.57, 0.0)=>1.8506768051166175e-12\n",
      "SingleOCFState(0.0, 0.0, 15.0, 0.0, 1.57, 0.0)=>1.0797021310617806e-35\n",
      "SingleOCFState(0.0, 0.0, 10.0, 1.0, 1.57, 0.0)=>2.7940440903309835e-49\n",
      "SingleOCFState(0.0, 0.0, 11.0, 1.0, 1.57, 0.0)=>1.3465647871672286e-19\n",
      "SingleOCFState(0.0, 0.0, 12.0, 1.0, 1.57, 0.0)=>2.5956201366584567e-11\n",
      "SingleOCFState(0.0, 0.0, 13.0, 1.0, 1.57, 0.0)=>8.984401883586086e-10\n",
      "SingleOCFState(0.0, 0.0, 14.0, 1.0, 1.57, 0.0)=>2.1319523774300873e-17\n",
      "SingleOCFState(0.0, 0.0, 15.0, 1.0, 1.57, 0.0)=>1.2324643567270892e-40\n",
      "SingleOCFState(0.0, 0.0, 11.0, 2.0, 1.57, 0.0)=>7.0322944979747675e-37\n",
      "SingleOCFState(0.0, 0.0, 12.0, 2.0, 1.57, 0.0)=>7.647320482950712e-27\n",
      "SingleOCFState(0.0, 0.0, 13.0, 2.0, 1.57, 0.0)=>2.7741773081403292e-24\n",
      "SingleOCFState(0.0, 0.0, 14.0, 2.0, 1.57, 0.0)=>6.552877183991302e-32\n",
      "SingleOCFState(0.0, 0.0, 11.0, -2.0, 1.57, 0.5)=>8.27958530611101e-20\n",
      "SingleOCFState(0.0, 0.0, 12.0, -2.0, 1.57, 0.5)=>1.5487151222248657e-11\n",
      "SingleOCFState(0.0, 0.0, 13.0, -2.0, 1.57, 0.5)=>4.316492490303189e-10\n",
      "SingleOCFState(0.0, 0.0, 14.0, -2.0, 1.57, 0.5)=>9.96926395434431e-18\n",
      "SingleOCFState(0.0, 0.0, 10.0, -1.0, 1.57, 0.5)=>2.8940945814313653e-43\n",
      "SingleOCFState(0.0, 0.0, 11.0, -1.0, 1.57, 0.5)=>1.3948511940440263e-13\n",
      "SingleOCFState(0.0, 0.0, 12.0, -1.0, 1.57, 0.5)=>2.6326719943307114e-5\n",
      "SingleOCFState(0.0, 0.0, 13.0, -1.0, 1.57, 0.5)=>0.0007813100003505374\n",
      "SingleOCFState(0.0, 0.0, 14.0, -1.0, 1.57, 0.5)=>1.823284330761797e-11\n",
      "SingleOCFState(0.0, 0.0, 15.0, -1.0, 1.57, 0.5)=>1.0786811247100833e-34\n",
      "SingleOCFState(0.0, 0.0, 10.0, 0.0, 1.57, 0.5)=>5.364411592200221e-42\n",
      "SingleOCFState(0.0, 0.0, 11.0, 0.0, 1.57, 0.5)=>2.585451015478785e-12\n",
      "SingleOCFState(0.0, 0.0, 12.0, 0.0, 1.57, 0.5)=>0.000488360842885738\n",
      "SingleOCFState(0.0, 0.0, 13.0, 0.0, 1.57, 0.5)=>0.014557256839955193\n",
      "SingleOCFState(0.0, 0.0, 14.0, 0.0, 1.57, 0.5)=>3.399775400759782e-10\n",
      "SingleOCFState(0.0, 0.0, 15.0, 0.0, 1.57, 0.5)=>2.0106562953604782e-33\n",
      "SingleOCFState(0.0, 0.0, 10.0, 1.0, 1.57, 0.5)=>6.900101972003139e-45\n",
      "SingleOCFState(0.0, 0.0, 11.0, 1.0, 1.57, 0.5)=>3.325579347812348e-15\n",
      "SingleOCFState(0.0, 0.0, 12.0, 1.0, 1.57, 0.5)=>6.292686507888616e-7\n",
      "SingleOCFState(0.0, 0.0, 13.0, 1.0, 1.57, 0.5)=>1.899156803411639e-5\n",
      "SingleOCFState(0.0, 0.0, 14.0, 1.0, 1.57, 0.5)=>4.4434956030746203e-13\n",
      "SingleOCFState(0.0, 0.0, 15.0, 1.0, 1.57, 0.5)=>2.6239356128445395e-36\n",
      "SingleOCFState(0.0, 0.0, 11.0, 2.0, 1.57, 0.5)=>8.065366888900578e-24\n",
      "SingleOCFState(0.0, 0.0, 12.0, 2.0, 1.57, 0.5)=>1.5575698089530968e-15\n",
      "SingleOCFState(0.0, 0.0, 13.0, 2.0, 1.57, 0.5)=>5.283297126748158e-14\n",
      "SingleOCFState(0.0, 0.0, 14.0, 2.0, 1.57, 0.5)=>1.2567013122023586e-21\n",
      "SingleOCFState(0.0, 0.0, 11.0, -2.0, 1.57, 1.0)=>6.015995560062139e-19\n",
      "SingleOCFState(0.0, 0.0, 12.0, -2.0, 1.57, 1.0)=>1.1319007614546877e-10\n",
      "SingleOCFState(0.0, 0.0, 13.0, -2.0, 1.57, 1.0)=>3.1632936179590776e-9\n",
      "SingleOCFState(0.0, 0.0, 14.0, -2.0, 1.57, 1.0)=>7.342812057791549e-17\n",
      "SingleOCFState(0.0, 0.0, 10.0, -1.0, 1.57, 1.0)=>2.182615155422534e-42\n",
      "SingleOCFState(0.0, 0.0, 11.0, -1.0, 1.57, 1.0)=>1.0519381770635557e-12\n",
      "SingleOCFState(0.0, 0.0, 12.0, -1.0, 1.57, 1.0)=>0.0001994913603902362\n",
      "SingleOCFState(0.0, 0.0, 13.0, -1.0, 1.57, 1.0)=>0.00592621651877469\n",
      "SingleOCFState(0.0, 0.0, 14.0, -1.0, 1.57, 1.0)=>1.388188214242007e-10\n",
      "SingleOCFState(0.0, 0.0, 15.0, -1.0, 1.57, 1.0)=>8.258393774773388e-34\n",
      "SingleOCFState(0.0, 0.0, 10.0, 0.0, 1.57, 1.0)=>6.760259779968378e-41\n",
      "SingleOCFState(0.0, 0.0, 11.0, 0.0, 1.57, 1.0)=>3.258186272753007e-11\n",
      "SingleOCFState(0.0, 0.0, 12.0, 0.0, 1.57, 1.0)=>0.006180495919563753\n",
      "SingleOCFState(0.0, 0.0, 13.0, 0.0, 1.57, 1.0)=>0.18410930194448827\n",
      "SingleOCFState(0.0, 0.0, 14.0, 0.0, 1.57, 1.0)=>4.3139954295416595e-9\n",
      "SingleOCFState(0.0, 0.0, 15.0, 0.0, 1.57, 1.0)=>2.5650912320396925e-32\n",
      "SingleOCFState(0.0, 0.0, 10.0, 1.0, 1.57, 1.0)=>3.387129641007847e-42\n",
      "SingleOCFState(0.0, 0.0, 11.0, 1.0, 1.57, 1.0)=>1.6324657503579454e-12\n",
      "SingleOCFState(0.0, 0.0, 12.0, 1.0, 1.57, 1.0)=>0.00030967370190734426\n",
      "SingleOCFState(0.0, 0.0, 13.0, 1.0, 1.57, 1.0)=>0.009240455855889788\n",
      "SingleOCFState(0.0, 0.0, 14.0, 1.0, 1.57, 1.0)=>2.165380326276786e-10\n",
      "SingleOCFState(0.0, 0.0, 15.0, 1.0, 1.57, 1.0)=>1.2869184649630366e-33\n",
      "SingleOCFState(0.0, 0.0, 11.0, 2.0, 1.57, 1.0)=>6.779301469291541e-17\n",
      "SingleOCFState(0.0, 0.0, 12.0, 2.0, 1.57, 1.0)=>1.2880097404015575e-8\n",
      "SingleOCFState(0.0, 0.0, 13.0, 2.0, 1.57, 1.0)=>3.889902184999548e-7\n",
      "SingleOCFState(0.0, 0.0, 14.0, 2.0, 1.57, 1.0)=>9.130235580879659e-15\n",
      "SingleOCFState(0.0, 0.0, 12.0, 3.0, 1.57, 1.0)=>5.540450067343593e-18\n",
      "SingleOCFState(0.0, 0.0, 13.0, 3.0, 1.57, 1.0)=>1.8672266529322474e-16\n",
      "SingleOCFState(0.0, 0.0, 11.0, -2.0, 1.57, 1.5)=>1.3097866682383147e-18\n",
      "SingleOCFState(0.0, 0.0, 12.0, -2.0, 1.57, 1.5)=>2.4705792222044725e-10\n",
      "SingleOCFState(0.0, 0.0, 13.0, -2.0, 1.57, 1.5)=>6.911490310452589e-9\n",
      "SingleOCFState(0.0, 0.0, 14.0, -2.0, 1.57, 1.5)=>1.6076708002968556e-16\n",
      "SingleOCFState(0.0, 0.0, 10.0, -1.0, 1.57, 1.5)=>4.8214474149802625e-42\n",
      "SingleOCFState(0.0, 0.0, 11.0, -1.0, 1.57, 1.5)=>2.3237516619207783e-12\n",
      "SingleOCFState(0.0, 0.0, 12.0, -1.0, 1.57, 1.5)=>0.00044146528358144553\n",
      "SingleOCFState(0.0, 0.0, 13.0, -1.0, 1.57, 1.5)=>0.01311935908979131\n",
      "SingleOCFState(0.0, 0.0, 14.0, -1.0, 1.57, 1.5)=>3.0774960112470866e-10\n",
      "SingleOCFState(0.0, 0.0, 15.0, -1.0, 1.57, 1.5)=>1.8345777979292348e-33\n",
      "SingleOCFState(0.0, 0.0, 10.0, 0.0, 1.57, 1.5)=>1.5493873636850824e-40\n",
      "SingleOCFState(0.0, 0.0, 11.0, 0.0, 1.57, 1.5)=>7.467440018994442e-11\n",
      "SingleOCFState(0.0, 0.0, 12.0, 0.0, 1.57, 1.5)=>0.014190705011040406\n",
      "SingleOCFState(0.0, 0.0, 13.0, 0.0, 1.57, 1.5)=>0.42286395231682156\n",
      "SingleOCFState(0.0, 0.0, 14.0, 0.0, 1.57, 1.5)=>9.922610772512291e-9\n",
      "SingleOCFState(0.0, 0.0, 15.0, 0.0, 1.57, 1.5)=>5.91232905176262e-32\n",
      "SingleOCFState(0.0, 0.0, 10.0, 1.0, 1.57, 1.5)=>8.026133588735643e-42\n",
      "SingleOCFState(0.0, 0.0, 11.0, 1.0, 1.57, 1.5)=>3.868279066435476e-12\n",
      "SingleOCFState(0.0, 0.0, 12.0, 1.0, 1.57, 1.5)=>0.0007352099489256419\n",
      "SingleOCFState(0.0, 0.0, 13.0, 1.0, 1.57, 1.5)=>0.02194494457401899\n",
      "SingleOCFState(0.0, 0.0, 14.0, 1.0, 1.57, 1.5)=>5.150309072328352e-10\n",
      "SingleOCFState(0.0, 0.0, 15.0, 1.0, 1.57, 1.5)=>3.067750409636442e-33\n",
      "SingleOCFState(0.0, 0.0, 11.0, 2.0, 1.57, 1.5)=>1.6398882688464473e-16\n",
      "SingleOCFState(0.0, 0.0, 12.0, 2.0, 1.57, 1.5)=>3.121452144029151e-8\n",
      "SingleOCFState(0.0, 0.0, 13.0, 2.0, 1.57, 1.5)=>9.429463431579905e-7\n",
      "SingleOCFState(0.0, 0.0, 14.0, 2.0, 1.57, 1.5)=>2.2164823669386523e-14\n",
      "SingleOCFState(0.0, 0.0, 12.0, 3.0, 1.57, 1.5)=>1.369012985526191e-17\n",
      "SingleOCFState(0.0, 0.0, 13.0, 3.0, 1.57, 1.5)=>4.600345377252072e-16\n",
      "SingleOCFState(0.0, 0.0, 11.0, -2.0, 1.57, 2.0)=>8.177412149864259e-19\n",
      "SingleOCFState(0.0, 0.0, 12.0, -2.0, 1.57, 2.0)=>1.5439488660808868e-10\n",
      "SingleOCFState(0.0, 0.0, 13.0, -2.0, 1.57, 2.0)=>4.321154587748521e-9\n",
      "SingleOCFState(0.0, 0.0, 14.0, -2.0, 1.57, 2.0)=>1.0059633765267145e-16\n",
      "SingleOCFState(0.0, 0.0, 10.0, -1.0, 1.57, 2.0)=>3.027247658491345e-42\n",
      "SingleOCFState(0.0, 0.0, 11.0, -1.0, 1.57, 2.0)=>1.4590154457645097e-12\n",
      "SingleOCFState(0.0, 0.0, 12.0, -1.0, 1.57, 2.0)=>0.00027739415977631965\n",
      "SingleOCFState(0.0, 0.0, 13.0, -1.0, 1.57, 2.0)=>0.008245007548189066\n",
      "SingleOCFState(0.0, 0.0, 14.0, -1.0, 1.57, 2.0)=>1.9352440462672456e-10\n"
     ]
    },
    {
     "name": "stdout",
     "output_type": "stream",
     "text": [
      "SingleOCFState(0.0, 0.0, 15.0, -1.0, 1.57, 2.0)=>1.154647786878208e-33\n",
      "SingleOCFState(0.0, 0.0, 10.0, 0.0, 1.57, 2.0)=>9.955253281868092e-41\n",
      "SingleOCFState(0.0, 0.0, 11.0, 0.0, 1.57, 2.0)=>4.7980380997602287e-11\n",
      "SingleOCFState(0.0, 0.0, 12.0, 0.0, 1.57, 2.0)=>0.009125214525667695\n",
      "SingleOCFState(0.0, 0.0, 13.0, 0.0, 1.57, 2.0)=>0.2719565202721722\n",
      "SingleOCFState(0.0, 0.0, 14.0, 0.0, 1.57, 2.0)=>6.385523745777237e-9\n",
      "SingleOCFState(0.0, 0.0, 15.0, 0.0, 1.57, 2.0)=>3.808275605255476e-32\n",
      "SingleOCFState(0.0, 0.0, 10.0, 1.0, 1.57, 2.0)=>5.358048076510816e-42\n",
      "SingleOCFState(0.0, 0.0, 11.0, 1.0, 1.57, 2.0)=>2.5823649430645602e-12\n",
      "SingleOCFState(0.0, 0.0, 12.0, 1.0, 1.57, 2.0)=>0.0004912438575807972\n",
      "SingleOCFState(0.0, 0.0, 13.0, 1.0, 1.57, 2.0)=>0.014665603130025438\n",
      "SingleOCFState(0.0, 0.0, 14.0, 1.0, 1.57, 2.0)=>3.444302902633444e-10\n",
      "SingleOCFState(0.0, 0.0, 15.0, 1.0, 1.57, 2.0)=>2.0536536383328584e-33\n",
      "SingleOCFState(0.0, 0.0, 11.0, 2.0, 1.57, 2.0)=>1.103432209687083e-16\n",
      "SingleOCFState(0.0, 0.0, 12.0, 2.0, 1.57, 2.0)=>2.1020745620103985e-8\n",
      "SingleOCFState(0.0, 0.0, 13.0, 2.0, 1.57, 2.0)=>6.350911389360515e-7\n",
      "SingleOCFState(0.0, 0.0, 14.0, 2.0, 1.57, 2.0)=>1.493801904631546e-14\n",
      "SingleOCFState(0.0, 0.0, 12.0, 3.0, 1.57, 2.0)=>9.295377791280295e-18\n",
      "SingleOCFState(0.0, 0.0, 13.0, 3.0, 1.57, 2.0)=>3.1197329085563085e-16\n"
     ]
    }
   ],
   "source": [
    "bel = belief[end]\n",
    "for b in bel\n",
    "    println(b)\n",
    "end"
   ]
  },
  {
   "cell_type": "code",
   "execution_count": 30,
   "metadata": {},
   "outputs": [
    {
     "data": {
      "image/png": "[encoded data removed]",
      "text/plain": [
       "Cairo.CairoSurface{UInt32}(Ptr{Void} @0x00000000082693a0, 1000.0, 600.0, #undef)"
      ]
     },
     "execution_count": 30,
     "metadata": {},
     "output_type": "execute_result"
    }
   ],
   "source": [
    "i = 3\n",
    "scene = rec[0]\n",
    "bel = belief[i]\n",
    "belief_overlay = BeliefOverlay(belief=bel, ego_vehicle=ego_vehicle[i])\n",
    "\n",
    "AutoViz.render(rec[-1], env, SceneOverlay[belief_overlay], cam=CarFollowCamera(2,14.0))"
   ]
  },
  {
   "cell_type": "code",
   "execution_count": 31,
   "metadata": {},
   "outputs": [
    {
     "data": {
      "image/png": "[encoded data removed]",
      "text/plain": [
       "Cairo.CairoSurface{UInt32}(Ptr{Void} @0x0000000008739540, 1000.0, 600.0, #undef)"
      ]
     },
     "execution_count": 31,
     "metadata": {},
     "output_type": "execute_result"
    }
   ],
   "source": [
    "include(\"../src/pedestrian_crossing/pomdp_types.jl\")\n",
    "include(\"../src/pedestrian_crossing/spaces.jl\")\n",
    "include(\"../src/pedestrian_crossing/transition.jl\")\n",
    "include(\"../src/pedestrian_crossing/observation.jl\")\n",
    "include(\"../src/pedestrian_crossing/belief.jl\")\n",
    "include(\"../src/pedestrian_crossing/helpers.jl\")\n",
    "\n",
    "\n",
    "include(\"../src/pedestrian_crossing/frenet_pedestrian_pomdp.jl\")\n",
    "\n",
    "next_states = SingleOCFState[]\n",
    "for (s, prob) in weighted_iterator(bel)\n",
    "    td = transition(pomdp, s, SingleOCFAction(-2.0, 0.0), pomdp.ΔT)\n",
    "    for sp in td.vals\n",
    "        push!(next_states, sp)\n",
    "    end\n",
    "end\n",
    "pred_bel = SparseCat(next_states, normalize(ones(length(next_states)),1))\n",
    "belief_overlay = BeliefOverlay(belief=pred_bel, ego_vehicle=ego_vehicle[i])\n",
    "fake_ego = VehicleState()\n",
    "scene = Scene()\n",
    "AutoViz.render(rec[0], env, SceneOverlay[belief_overlay], cam=CarFollowCamera(2,14.0))"
   ]
  },
  {
   "cell_type": "code",
   "execution_count": 46,
   "metadata": {},
   "outputs": [
    {
     "data": {
      "text/plain": [
       "SingleOCFPOMDP\n",
       "  env: AutomotivePOMDPs.CrosswalkEnv\n",
       "  ego_type: AutomotiveDrivingModels.VehicleDef\n",
       "  ped_type: AutomotiveDrivingModels.VehicleDef\n",
       "  longitudinal_actions: Array{Float64}((5,)) [1.0, 0.0, -1.0, -2.0, -4.0]\n",
       "  lateral_actions: Array{Float64}((3,)) [1.0, 0.0, -1.0]\n",
       "  ΔT: Float64 0.5\n",
       "  PED_A_RANGE: Array{Float64}((5,)) [-2.0, -1.0, 0.0, 1.0, 2.0]\n",
       "  PED_THETA_NOISE: Array{Float64}((3,)) [-0.195, 0.0, 0.195]\n",
       "  PED_SAFETY_DISTANCE: Float64 1.0\n",
       "  EGO_Y_MIN: Float64 -1.0\n",
       "  EGO_Y_MAX: Float64 1.0\n",
       "  EGO_Y_RANGE: Array{Float64}((1,)) [0.0]\n",
       "  EGO_V_MIN: Float64 0.0\n",
       "  EGO_V_MAX: Float64 14.0\n",
       "  EGO_V_RANGE: Array{Float64}((29,)) [0.0, 0.5, 1.0, 1.5, 2.0, 2.5, 3.0, 3.5, 4.0, 4.5  …  9.5, 10.0, 10.5, 11.0, 11.5, 12.0, 12.5, 13.0, 13.5, 14.0]\n",
       "  S_MIN: Float64 0.0\n",
       "  S_MAX: Float64 50.0\n",
       "  S_RANGE: Array{Float64}((51,)) [0.0, 1.0, 2.0, 3.0, 4.0, 5.0, 6.0, 7.0, 8.0, 9.0  …  41.0, 42.0, 43.0, 44.0, 45.0, 46.0, 47.0, 48.0, 49.0, 50.0]\n",
       "  T_MIN: Float64 -5.0\n",
       "  T_MAX: Float64 5.0\n",
       "  T_RANGE: Array{Float64}((11,)) [-5.0, -4.0, -3.0, -2.0, -1.0, 0.0, 1.0, 2.0, 3.0, 4.0, 5.0]\n",
       "  PED_V_MIN: Float64 0.0\n",
       "  PED_V_MAX: Float64 2.0\n",
       "  PED_V_RANGE: Array{Float64}((5,)) [0.0, 0.5, 1.0, 1.5, 2.0]\n",
       "  PED_THETA_MIN: Float64 0.785\n",
       "  PED_THETA_MAX: Float64 2.355\n",
       "  PED_THETA_RANGE: Array{Float64}((1,)) [1.57]\n",
       "  collision_cost: Float64 -10.0\n",
       "  action_cost_lon: Float64 -1.0\n",
       "  action_cost_lat: Float64 -1.0\n",
       "  goal_reward: Float64 10.0\n",
       "  γ: Float64 0.99\n",
       "  state_space_grid: GridInterpolations.RectangleGrid{6}\n",
       "  state_space_ped: Array{SingleOCFPedState}((2806,))\n",
       "  state_space: Array{SingleOCFState}((81346,))\n",
       "  action_space: Array{SingleOCFAction}((15,))\n",
       "  absent: Bool true\n",
       "  obstacles: Array{AutomotiveDrivingModels.ConvexPolygon}((2,))\n",
       "  ego_vehicle: Records.Entity{AutomotiveDrivingModels.VehicleState,AutomotiveDrivingModels.VehicleDef,Int64}\n",
       "  desired_velocity: Float64 11.11111111111111\n"
      ]
     },
     "execution_count": 46,
     "metadata": {},
     "output_type": "execute_result"
    }
   ],
   "source": [
    "pomdp"
   ]
  },
  {
   "cell_type": "code",
   "execution_count": 55,
   "metadata": {},
   "outputs": [
    {
     "data": {
      "text/plain": [
       "false"
      ]
     },
     "execution_count": 55,
     "metadata": {},
     "output_type": "execute_result"
    }
   ],
   "source": [
    "pomdp.env.params.obstacles_visible"
   ]
  },
  {
   "cell_type": "code",
   "execution_count": 33,
   "metadata": {},
   "outputs": [
    {
     "data": {
      "text/plain": [
       "is_observation_absent (generic function with 1 method)"
      ]
     },
     "execution_count": 33,
     "metadata": {},
     "output_type": "execute_result"
    }
   ],
   "source": []
  },
  {
   "cell_type": "code",
   "execution_count": 59,
   "metadata": {},
   "outputs": [
    {
     "data": {
      "text/plain": [
       "SingleOCFState(-1.0, 14.0, -10.0, -10.0, 0.0, 0.0)"
      ]
     },
     "execution_count": 59,
     "metadata": {},
     "output_type": "execute_result"
    }
   ],
   "source": []
  },
  {
   "cell_type": "code",
   "execution_count": 119,
   "metadata": {},
   "outputs": [
    {
     "name": "stdout",
     "output_type": "stream",
     "text": [
      "SingleOCFState(0.0, 9.5, -10.0, -10.0, 0.0, 0.0)\n"
     ]
    }
   ],
   "source": [
    "s = SingleOCFState(0.0, 10.5, -10.0, -10.0, 0.0, 0.0)\n",
    "a = SingleOCFAction(-4.0, 0.0)\n",
    "td = transition(pomdp, s, a) \n",
    "\n",
    "\n",
    "absent_state_present = false\n",
    "for (s, prob) in weighted_iterator(td)\n",
    "    if is_state_absent(pomdp, s) \n",
    "       absent_state_present = true \n",
    "    end\n",
    "    cnt += 1\n",
    "end\n"
   ]
  },
  {
   "cell_type": "code",
   "execution_count": 122,
   "metadata": {},
   "outputs": [
    {
     "ename": "LoadError",
     "evalue": "\u001b[91msyntax: unexpected \"end\"\u001b[39m",
     "output_type": "error",
     "traceback": [
      "\u001b[91msyntax: unexpected \"end\"\u001b[39m",
      "",
      "Stacktrace:",
      " [1] \u001b[1minclude_string\u001b[22m\u001b[22m\u001b[1m(\u001b[22m\u001b[22m::String, ::String\u001b[1m)\u001b[22m\u001b[22m at \u001b[1m./loading.jl:522\u001b[22m\u001b[22m"
     ]
    }
   ],
   "source": []
  },
  {
   "cell_type": "code",
   "execution_count": 191,
   "metadata": {},
   "outputs": [
    {
     "data": {
      "text/plain": [
       "0.040455258340222476"
      ]
     },
     "execution_count": 191,
     "metadata": {},
     "output_type": "execute_result"
    }
   ],
   "source": [
    "b = POMDPToolbox.SparseCat{Array{SingleOCFState,1},Array{Float64,1}}(SingleOCFState[SingleOCFState(0.0, 9.0, -10.0, -10.0, 0.0, 0.0)], [1.0])\n",
    "a = SingleOCFAction(-4.0, 0.0)\n",
    "o = SingleOCFState(0.0, 8.329999999999998, 21.32259231837015, -4.899329938018746, 1.5707963267948966, 2.5005508523775006)\n",
    "\n",
    "(ego_y_state_space, ego_v_state_space) = getEgoDataInStateSpace(pomdp, o.ego_y, o.ego_v)\n",
    "\n",
    "sp = get_state_absent(pomdp, ego_y_state_space, ego_v_state_space)\n",
    "sp = SingleOCFState(0.0, 0.0, 21.0, -5.0, 1.57, 2)\n",
    "po = observation_weight(pomdp, sp, o) \n"
   ]
  },
  {
   "cell_type": "code",
   "execution_count": 186,
   "metadata": {},
   "outputs": [
    {
     "data": {
      "text/plain": [
       "0.040455258340222476"
      ]
     },
     "execution_count": 186,
     "metadata": {},
     "output_type": "execute_result"
    }
   ],
   "source": []
  },
  {
   "cell_type": "code",
   "execution_count": 228,
   "metadata": {},
   "outputs": [
    {
     "data": {
      "text/plain": [
       "136"
      ]
     },
     "execution_count": 228,
     "metadata": {},
     "output_type": "execute_result"
    }
   ],
   "source": [
    "length(bel)"
   ]
  },
  {
   "cell_type": "code",
   "execution_count": null,
   "metadata": {},
   "outputs": [],
   "source": []
  }
 ],
 "metadata": {
  "kernelspec": {
   "display_name": "Julia 0.6.4",
   "language": "julia",
   "name": "julia-0.6"
  },
  "language_info": {
   "file_extension": ".jl",
   "mimetype": "application/julia",
   "name": "julia",
   "version": "0.6.4"
  }
 },
 "nbformat": 4,
 "nbformat_minor": 2
}
