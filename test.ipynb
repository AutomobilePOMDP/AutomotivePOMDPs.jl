{
 "cells": [
  {
   "cell_type": "markdown",
   "metadata": {},
   "source": [
    "# Test and visualize the driving scenarios"
   ]
  },
  {
   "cell_type": "code",
   "execution_count": 1,
   "metadata": {},
   "outputs": [
    {
     "name": "stderr",
     "output_type": "stream",
     "text": [
      "WARNING: Method definition info(Any...)"
     ]
    }
   ],
   "source": [
    "using POMDPs, StatsBase, POMDPToolbox, DeepRL, Parameters, GridInterpolations\n",
    "using AutomotiveDrivingModels, AutoUrban, AutoViz\n",
    "using Reel "
   ]
  },
  {
   "cell_type": "code",
   "execution_count": 2,
   "metadata": {},
   "outputs": [
    {
     "name": "stderr",
     "output_type": "stream",
     "text": [
      " in module Base at util.jl:532 overwritten in module Logging at C:\\Users\\Maxime\\.julia\\v0.6\\Logging\\src\\Logging.jl:115.\n",
      "WARNING: Method definition warn(Any"
     ]
    }
   ],
   "source": [
    "rng = MersenneTwister(1);"
   ]
  },
  {
   "cell_type": "code",
   "execution_count": 3,
   "metadata": {},
   "outputs": [
    {
     "name": "stderr",
     "output_type": "stream",
     "text": [
      "...) in module Base"
     ]
    }
   ],
   "source": [
    "include(\"constants.jl\")\n",
    "include(\"utils/helpers.jl\")\n",
    "include(\"utils/occlusions.jl\")\n",
    "include(\"utils/rendering.jl\")"
   ]
  },
  {
   "cell_type": "code",
   "execution_count": 4,
   "metadata": {},
   "outputs": [
    {
     "name": "stderr",
     "output_type": "stream",
     "text": [
      " at util.jl:585 overwritten in module Logging at C:\\Users\\Maxime\\.julia\\v0.6\\Logging\\src\\Logging.jl:115.\n"
     ]
    },
    {
     "ename": "LoadError",
     "evalue": "LoadError: \u001b[91mUndefVarError: UrbanEnv not defined\u001b[39m\nwhile loading C:\\Users\\Maxime\\OneDrive - Leland Stanford Junior University\\Research\\admscenarios\\envs\\rendering.jl, in expression starting on line 30",
     "output_type": "error",
     "traceback": [
      "LoadError: \u001b[91mUndefVarError: UrbanEnv not defined\u001b[39m\nwhile loading C:\\Users\\Maxime\\OneDrive - Leland Stanford Junior University\\Research\\admscenarios\\envs\\rendering.jl, in expression starting on line 30",
      "",
      "Stacktrace:",
      " [1] \u001b[1minclude_from_node1\u001b[22m\u001b[22m\u001b[1m(\u001b[22m\u001b[22m::String\u001b[1m)\u001b[22m\u001b[22m at \u001b[1m.\\loading.jl:569\u001b[22m\u001b[22m",
      " [2] \u001b[1minclude\u001b[22m\u001b[22m\u001b[1m(\u001b[22m\u001b[22m::String\u001b[1m)\u001b[22m\u001b[22m at \u001b[1m.\\sysimg.jl:14\u001b[22m\u001b[22m",
      " [3] \u001b[1minclude_string\u001b[22m\u001b[22m\u001b[1m(\u001b[22m\u001b[22m::String, ::String\u001b[1m)\u001b[22m\u001b[22m at \u001b[1m.\\loading.jl:515\u001b[22m\u001b[22m"
     ]
    },
    {
     "name": "stderr",
     "output_type": "stream",
     "text": [
      "WARNING: Method definition copy!(Array{Float64, 1}, AutomotiveDrivingModels.LatLonAccel) in module AutomotiveDrivingModels at C:\\Users\\Maxime\\.julia\\v0.6\\AutomotiveDrivingModels\\src\\2d\\actions\\lat_lon_accel.jl:13 overwritten in module AutoUrban at C:\\Users\\Maxime\\.julia\\v0.6\\AutoUrban\\src\\simulation\\actions.jl:10.\n"
     ]
    }
   ],
   "source": [
    "include(\"envs/occluded_crosswalk_env.jl\")\n",
    "include(\"envs/multi_lane_T_env.jl\")\n",
    "include(\"envs/rendering.jl\")"
   ]
  },
  {
   "cell_type": "code",
   "execution_count": 5,
   "metadata": {},
   "outputs": [
    {
     "data": {
      "text/plain": [
       "dist_to_stop (generic function with 1 method)"
      ]
     },
     "execution_count": 5,
     "metadata": {},
     "output_type": "execute_result"
    }
   ],
   "source": [
    "include(\"driver_models/route_following_idm.jl\")\n",
    "include(\"driver_models/stop.jl\")\n",
    "include(\"driver_models/intersection_driver.jl\")\n",
    "include(\"driver_models/constant_pedestrian.jl\")\n",
    "include(\"driver_models/crosswalk_driver.jl\")"
   ]
  },
  {
   "cell_type": "markdown",
   "metadata": {},
   "source": [
    "## Scenario 1: Single agent occluded crosswalk\n",
    "\n",
    "Discrete environment, provides explicit transition and observation probability distributions. Support only one pedestrian"
   ]
  },
  {
   "cell_type": "code",
   "execution_count": 6,
   "metadata": {},
   "outputs": [
    {
     "data": {
      "text/plain": [
       "animate_hist (generic function with 1 method)"
      ]
     },
     "execution_count": 6,
     "metadata": {},
     "output_type": "execute_result"
    }
   ],
   "source": [
    "# include(\"single_crosswalk/occluded_crosswalk_env.jl\")\n",
    "include(\"single_crosswalk/pomdp_types.jl\")\n",
    "include(\"single_crosswalk/spaces.jl\")\n",
    "include(\"single_crosswalk/transition.jl\")\n",
    "include(\"single_crosswalk/observation.jl\")\n",
    "include(\"single_crosswalk/belief.jl\")\n",
    "include(\"single_crosswalk/adm_helpers.jl\")\n",
    "include(\"single_crosswalk/render_helpers.jl\")"
   ]
  },
  {
   "cell_type": "code",
   "execution_count": 7,
   "metadata": {},
   "outputs": [
    {
     "data": {
      "text/plain": [
       "SingleOCPOMDP(CrosswalkEnv(Roadway, AutomotiveDrivingModels.Lane(LaneTag(2, 1), AutomotiveDrivingModels.CurvePt[CurvePt({25.000, -10.000, 1.571}, 0.000, 0.000, NaN), CurvePt({25.000, 10.000, 1.571}, 20.000, 0.000, NaN)], 6.0, AutomotiveDrivingModels.SpeedLimit(-Inf, Inf), AutomotiveDrivingModels.LaneBoundary(:unknown, :unknown), AutomotiveDrivingModels.LaneBoundary(:unknown, :unknown), AutomotiveDrivingModels.LaneConnection[], AutomotiveDrivingModels.LaneConnection[]), AutomotiveDrivingModels.ConvexPolygon[ConvexPolygon: len 4 (max 4 pts)\n",
       "\tVecE2(15.000, -1.500)\n",
       "\tVecE2(15.000, -4.500)\n",
       "\tVecE2(21.500, -4.500)\n",
       "\tVecE2(21.500, -1.500)\n",
       "], CrosswalkParams(2, 50.0, 3.0, 20.0, 6.0, 5.0, 37.0, 8.0, 100, 0.5, 2.0, 10.0)), VehicleDef(CAR, 4.000, 1.800), VehicleDef(PEDESTRIAN, 1.000, 1.000), 2.0, 1.0, 1.0, 5.0, -5.0, 37.0, 5.0, 0.5, 0.3, 0.3, false, 1.0, 1.0, 1.0, -1.0, 0.0, 1.0, 0.95)"
      ]
     },
     "execution_count": 7,
     "metadata": {},
     "output_type": "execute_result"
    }
   ],
   "source": [
    "pomdp = SingleOCPOMDP()"
   ]
  },
  {
   "cell_type": "code",
   "execution_count": 8,
   "metadata": {
    "collapsed": true
   },
   "outputs": [],
   "source": [
    "policy = solve(RandomSolver(rng), pomdp)\n",
    "up = updater(policy);"
   ]
  },
  {
   "cell_type": "markdown",
   "metadata": {},
   "source": [
    "**Simulate**"
   ]
  },
  {
   "cell_type": "code",
   "execution_count": 9,
   "metadata": {},
   "outputs": [
    {
     "name": "stdout",
     "output_type": "stream",
     "text": [
      "  1.955631 seconds (1.31 M allocations: 68.119 MiB, 0.95% gc time)\n"
     ]
    }
   ],
   "source": [
    "hr = HistoryRecorder(rng=rng)\n",
    "@time hist = simulate(hr, pomdp, policy, up);"
   ]
  },
  {
   "cell_type": "markdown",
   "metadata": {},
   "source": [
    "**Rendering**"
   ]
  },
  {
   "cell_type": "code",
   "execution_count": 10,
   "metadata": {},
   "outputs": [
    {
     "data": {
      "text/html": [
       "<video autoplay controls><source src=\"files/reel-2584390313513769348.webm?14816433104540996865\" type=\"video/webm\"></video>"
      ],
      "text/plain": [
       "Reel.Frames{MIME{Symbol(\"image/png\")}}(\"/tmp/tmpWvnYjZ\", 0x000000000000000a, 2.0, nothing)"
      ]
     },
     "execution_count": 10,
     "metadata": {},
     "output_type": "execute_result"
    }
   ],
   "source": [
    "duration, fps, render_hist = animate_hist(pomdp, hist)\n",
    "film = roll(render_hist, fps = fps, duration = duration)"
   ]
  },
  {
   "cell_type": "markdown",
   "metadata": {},
   "source": [
    "## Scenario 2: Multi-agent Crosswalk \n",
    "\n",
    "Generative model for the occluded crosswalk scenario, support multiple pedestrians, continuous space"
   ]
  },
  {
   "cell_type": "code",
   "execution_count": 11,
   "metadata": {
    "collapsed": true
   },
   "outputs": [],
   "source": [
    "# include(\"multi_crosswalk/occluded_crosswalk_env.jl\")\n",
    "include(\"multi_crosswalk/pomdp_types.jl\")\n",
    "include(\"multi_crosswalk/generative_model.jl\")\n",
    "include(\"multi_crosswalk/render_helpers.jl\")"
   ]
  },
  {
   "cell_type": "code",
   "execution_count": 12,
   "metadata": {
    "collapsed": true
   },
   "outputs": [],
   "source": [
    "pomdp = OCPOMDP(ΔT=0.5, p_birth=0.2, max_ped=1);\n",
    "overlay = LidarOverlay(pomdp.sensor);"
   ]
  },
  {
   "cell_type": "code",
   "execution_count": 13,
   "metadata": {
    "collapsed": true
   },
   "outputs": [],
   "source": [
    "policy = solve(RandomSolver(rng), pomdp)\n",
    "up = updater(policy);"
   ]
  },
  {
   "cell_type": "code",
   "execution_count": 14,
   "metadata": {},
   "outputs": [
    {
     "name": "stdout",
     "output_type": "stream",
     "text": [
      "  0.557118 seconds (209.97 k allocations: 11.424 MiB, 1.15% gc time)\n"
     ]
    }
   ],
   "source": [
    "hr = HistoryRecorder(rng=rng, max_steps=100)\n",
    "@time hist = simulate(hr, pomdp, policy, up);"
   ]
  },
  {
   "cell_type": "code",
   "execution_count": 15,
   "metadata": {
    "scrolled": false
   },
   "outputs": [
    {
     "data": {
      "text/html": [
       "<video autoplay controls><source src=\"files/reel-9270498174549565448.webm?90116949486004315\" type=\"video/webm\"></video>"
      ],
      "text/plain": [
       "Reel.Frames{MIME{Symbol(\"image/png\")}}(\"/tmp/tmpVAmi9Y\", 0x000000000000000d, 2.0, nothing)"
      ]
     },
     "execution_count": 15,
     "metadata": {},
     "output_type": "execute_result"
    }
   ],
   "source": [
    "duration, fps, render_hist = animate_hist(pomdp, hist, SceneOverlay[overlay])\n",
    "film = roll(render_hist, fps = fps, duration = duration)"
   ]
  },
  {
   "cell_type": "code",
   "execution_count": 16,
   "metadata": {},
   "outputs": [
    {
     "name": "stdout",
     "output_type": "stream",
     "text": [
      "buffer ped ttc 4.5\n",
      "ego ttc 3.317094054605299\n",
      "has_crossed ttc-1.5\n",
      "min ped ttc -1.2913631479558374\n",
      "braking! d = 15.0\n",
      "veh 1 go false stop false clear false\n",
      "buffer ped ttc 4.5\n",
      "ego ttc 3.437645981623635\n",
      "has_crossed ttc-1.5\n",
      "min ped ttc -0.5577474650613397\n",
      "braking! d = 14.27015863913942\n",
      "veh 1 go false stop false clear false\n",
      "buffer ped ttc 4.5\n",
      "ego ttc 3.5398191194486066\n",
      "has_crossed ttc-1.5\n",
      "min ped ttc -0.6577474650613393\n",
      "braking! d = 13.584028374252899\n",
      "veh 1 go false stop false clear false\n",
      "buffer ped ttc 4.5\n",
      "ego ttc 3.6287652386861002\n",
      "has_crossed ttc-1.5\n",
      "min ped ttc 1.2213613004687165\n",
      "braking! d = 12.93488855757143\n",
      "veh 1 go false stop false clear false\n",
      "buffer ped ttc 4.5\n",
      "ego ttc 3.708128068968622\n",
      "has_crossed ttc-1.5\n",
      "min ped ttc -0.7577474650613389\n",
      "braking! d = 12.317940794755248\n",
      "veh 1 go false stop false clear false\n",
      "buffer ped ttc 4.5\n",
      "ego ttc 3.7806517633469965\n",
      "has_crossed ttc-1.5\n",
      "min ped ttc -0.9580781634652649\n",
      "braking! d = 11.729628682142737\n",
      "veh 1 go false stop false clear false\n",
      "buffer ped ttc 4.5\n",
      "ego ttc 3.848504451528683\n",
      "has_crossed ttc-1.5\n",
      "min ped ttc -0.95774746506134\n",
      "braking! d = 11.167243192971338\n",
      "veh 1 go false stop false clear false\n",
      "buffer ped ttc 4.5\n",
      "ego ttc 3.9134659239769456\n",
      "has_crossed ttc-1.5\n",
      "min ped ttc 4.5\n",
      "veh 1 go true stop false clear true\n",
      "veh 1 go true stop false clear true\n",
      "veh 1 go true stop false clear true\n",
      "veh 1 go true stop false clear true\n",
      "veh 1 go true stop false clear true\n",
      "veh 1 go true stop false clear true\n",
      "veh 1 go true stop false clear true\n",
      "veh 1 go true stop false clear true\n",
      "veh 1 go true stop false clear true\n",
      "veh 1 go true stop false clear true\n",
      "veh 1 go true stop false clear true\n",
      "veh 1 go true stop false clear true\n",
      "veh 1 go true stop false clear true\n",
      "veh 1 go true stop false clear true\n",
      "veh 1 go true stop false clear true\n",
      "veh 1 go true stop false clear true\n",
      "veh 1 go true stop false clear true\n",
      "veh 1 go true stop false clear true\n",
      "veh 1 go true stop false clear true\n",
      "veh 1 go true stop false clear true\n",
      "veh 1 go true stop false clear true\n",
      "veh 1 go true stop false clear true\n",
      "veh 1 go true stop false clear true\n",
      "veh 1 go true stop false clear true\n",
      "veh 1 go true stop false clear true\n",
      "veh 1 go true stop false clear true\n",
      "veh 1 go true stop false clear true\n",
      "veh 1 go true stop false clear true\n",
      "veh 1 go true stop false clear true\n",
      "veh 1 go true stop false clear true\n",
      "veh 1 go true stop false clear true\n",
      "veh 1 go true stop false clear true\n",
      "veh 1 go true stop false clear true\n",
      "veh 1 go true stop false clear true\n",
      "veh 1 go true stop false clear true\n",
      "veh 1 go true stop false clear true\n",
      "veh 1 go true stop false clear true\n",
      "veh 1 go true stop false clear true\n",
      "veh 1 go true stop false clear true\n",
      "veh 1 go true stop false clear true\n",
      "veh 1 go true stop false clear true\n",
      "veh 1 go true stop false clear true\n",
      "veh 1 go true stop false clear true\n",
      "veh 1 go true stop false clear true\n",
      "veh 1 go true stop false clear true\n",
      "veh 1 go true stop false clear true\n",
      "veh 1 go true stop false clear true\n",
      "veh 1 go true stop false clear true\n",
      "veh 1 go true stop false clear true\n",
      "veh 1 go true stop false clear true\n",
      "veh 1 go true stop false clear true\n",
      "veh 1 go true stop false clear true\n",
      "veh 1 go true stop false clear true\n",
      "veh 1 go true stop false clear true\n",
      "veh 1 go true stop false clear true\n",
      "veh 1 go true stop false clear true\n",
      "veh 1 go true stop false clear true\n",
      "veh 1 go true stop false clear true\n",
      "veh 1 go true stop false clear true\n",
      "veh 1 go true stop false clear true\n",
      "veh 1 go true stop false clear true\n",
      "veh 1 go true stop false clear true\n",
      "veh 1 go true stop false clear true\n",
      "veh 1 go true stop false clear true\n",
      "veh 1 go true stop false clear true\n",
      "veh 1 go true stop false clear true\n",
      "veh 1 go true stop false clear true\n",
      "veh 1 go true stop false clear true\n",
      "veh 1 go true stop false clear true\n",
      "veh 1 go true stop false clear true\n",
      "veh 1 go true stop false clear true\n",
      "veh 1 go true stop false clear true\n",
      "veh 1 go true stop false clear true\n",
      "veh 1 go true stop false clear true\n",
      "veh 1 go true stop false clear true\n",
      "veh 1 go true stop false clear true\n",
      "veh 1 go true stop false clear true\n",
      "veh 1 go true stop false clear true\n",
      "veh 1 go true stop false clear true\n",
      "veh 1 go true stop false clear true\n",
      "veh 1 go true stop false clear true\n",
      "veh 1 go true stop false clear true\n",
      "veh 1 go true stop false clear true\n",
      "veh 1 go true stop false clear true\n",
      "veh 1 go true stop false clear true\n",
      "veh 1 go true stop false clear true\n",
      "veh 1 go true stop false clear true\n",
      "veh 1 go true stop false clear true\n",
      "veh 1 go true stop false clear true\n",
      "veh 1 go true stop false clear true\n",
      "veh 1 go true stop false clear true\n",
      "veh 1 go true stop false clear true\n",
      "veh 1 go true stop false clear true\n",
      "veh 1 go true stop false clear true\n",
      "veh 1 go true stop false clear true\n",
      "veh 1 go true stop false clear true\n",
      "veh 1 go true stop false clear true\n",
      "veh 1 go true stop false clear true\n",
      "veh 1 go true stop false clear true\n",
      "veh 1 go true stop false clear true\n",
      "veh 1 go true stop false clear true\n",
      "veh 1 go true stop false clear true\n",
      "veh 1 go true stop false clear true\n",
      "veh 1 go true stop false clear true\n",
      "veh 1 go true stop false clear true\n",
      "veh 1 go true stop false clear true\n",
      "veh 1 go true stop false clear true\n",
      "veh 1 go true stop false clear true\n",
      "veh 1 go true stop false clear true\n",
      "veh 1 go true stop false clear true\n",
      "veh 1 go true stop false clear true\n",
      "veh 1 go true stop false clear true\n",
      "veh 1 go true stop false clear true\n",
      "veh 1 go true stop false clear true\n",
      "veh 1 go true stop false clear true\n",
      "veh 1 go true stop false clear true\n",
      "veh 1 go true stop false clear true\n",
      "veh 1 go true stop false clear true\n",
      "veh 1 go true stop false clear true\n",
      "veh 1 go true stop false clear true\n",
      "veh 1 go true stop false clear true\n",
      "veh 1 go true stop false clear true\n",
      "veh 1 go true stop false clear true\n",
      "veh 1 go true stop false clear true\n",
      "veh 1 go true stop false clear true\n",
      "veh 1 go true stop false clear true\n",
      "veh 1 go true stop false clear true\n",
      "veh 1 go true stop false clear true\n",
      "veh 1 go true stop false clear true\n",
      "veh 1 go true stop false clear true\n",
      "veh 1 go true stop false clear true\n",
      "veh 1 go true stop false clear true\n",
      "veh 1 go true stop false clear true\n",
      "veh 1 go true stop false clear true\n",
      "veh 1 go true stop false clear true\n",
      "veh 1 go true stop false clear true\n",
      "veh 1 go true stop false clear true\n",
      "veh 1 go true stop false clear true\n",
      "veh 1 go true stop false clear true\n",
      "veh 1 go true stop false clear true\n",
      "veh 1 go true stop false clear true\n",
      "veh 1 go true stop false clear true\n",
      "veh 1 go true stop false clear true\n",
      "veh 1 go true stop false clear true\n",
      "veh 1 go true stop false clear true\n",
      "veh 1 go true stop false clear true\n",
      "veh 1 go true stop false clear true\n",
      "veh 1 go true stop false clear true\n",
      "veh 1 go true stop false clear true\n",
      "veh 1 go true stop false clear true\n",
      "veh 1 go true stop false clear true\n",
      "veh 1 go true stop false clear true\n",
      "veh 1 go true stop false clear true\n",
      "veh 1 go true stop false clear true\n",
      "veh 1 go true stop false clear true\n",
      "veh 1 go true stop false clear true\n",
      "veh 1 go true stop false clear true\n",
      "veh 1 go true stop false clear true\n",
      "veh 1 go true stop false clear true\n",
      "veh 1 go true stop false clear true\n",
      "veh 1 go true stop false clear true\n",
      "veh 1 go true stop false clear true\n",
      "veh 1 go true stop false clear true\n",
      "veh 1 go true stop false clear true\n",
      "veh 1 go true stop false clear true\n",
      "veh 1 go true stop false clear true\n",
      "veh 1 go true stop false clear true\n",
      "veh 1 go true stop false clear true\n",
      "veh 1 go true stop false clear true\n",
      "veh 1 go true stop false clear true\n",
      "veh 1 go true stop false clear true\n",
      "veh 1 go true stop false clear true\n",
      "veh 1 go true stop false clear true\n",
      "veh 1 go true stop false clear true\n",
      "veh 1 go true stop false clear true\n",
      "veh 1 go true stop false clear true\n",
      "veh 1 go true stop false clear true\n",
      "veh 1 go true stop false clear true\n",
      "veh 1 go true stop false clear true\n",
      "veh 1 go true stop false clear true\n",
      "veh 1 go true stop false clear true\n",
      "veh 1 go true stop false clear true\n",
      "veh 1 go true stop false clear true\n",
      "veh 1 go true stop false clear true\n",
      "veh 1 go true stop false clear true\n",
      "veh 1 go true stop false clear true\n",
      "veh 1 go true stop false clear true\n",
      "veh 1 go true stop false clear true\n",
      "veh 1 go true stop false clear true\n",
      "veh 1 go true stop false clear true\n",
      "veh 1 go true stop false clear true\n",
      "veh 1 go true stop false clear true\n",
      "veh 1 go true stop false clear true\n",
      "  0.487508 seconds (220.05 k allocations: 11.527 MiB, 1.31% gc time)\n"
     ]
    },
    {
     "data": {
      "text/plain": [
       "SceneRecord(nscenes=201)"
      ]
     },
     "execution_count": 16,
     "metadata": {},
     "output_type": "execute_result"
    }
   ],
   "source": [
    "scene = Scene()\n",
    "models = Dict{Int, DriverModel}()\n",
    "for i=1:5\n",
    "    ped = initial_pedestrian(pomdp, scene, rng, true)\n",
    "    push!(scene, ped)\n",
    "    models[ped.id] = ConstantPedestrian()\n",
    "end\n",
    "car = initial_ego(pomdp, rng)\n",
    "push!(scene, car)\n",
    "\n",
    "timestep = 0.1\n",
    "\n",
    "\n",
    "models[1] = CrosswalkDriver(crosswalk = pomdp.env.crosswalk,\n",
    "                            intersect = get_lane(pomdp.env.roadway, car))\n",
    "\n",
    "\n",
    "nticks = 200\n",
    "rec = SceneRecord(nticks+1, timestep)\n",
    "@time simulate!(rec, scene, pomdp.env.roadway, models, nticks)"
   ]
  },
  {
   "cell_type": "code",
   "execution_count": 17,
   "metadata": {},
   "outputs": [
    {
     "data": {
      "text/html": [
       "<video autoplay controls><source src=\"files/reel-567236198242828124.webm?1745435872014612191\" type=\"video/webm\"></video>"
      ],
      "text/plain": [
       "Reel.Frames{MIME{Symbol(\"image/png\")}}(\"/tmp/tmp7KJnFp\", 0x00000000000000c9, 10.0, nothing)"
      ]
     },
     "execution_count": 17,
     "metadata": {},
     "output_type": "execute_result"
    }
   ],
   "source": [
    "cam = FitToContentCamera(0.)\n",
    "duration, fps, render_rec = animate_record(pomdp.env, rec, sim_dt=timestep)\n",
    "film = roll(render_rec, fps = fps, duration = duration)"
   ]
  },
  {
   "cell_type": "markdown",
   "metadata": {},
   "source": [
    "## Scenario 3 : Single agent intersection\n",
    "\n",
    "Explicit formulation with transition and observation probability distribution. Only support one vehicle"
   ]
  },
  {
   "cell_type": "code",
   "execution_count": 18,
   "metadata": {
    "scrolled": true
   },
   "outputs": [
    {
     "data": {
      "text/plain": [
       "animate_hist (generic function with 4 methods)"
      ]
     },
     "execution_count": 18,
     "metadata": {},
     "output_type": "execute_result"
    }
   ],
   "source": [
    "include(\"single_intersection/occluded_intersection_env.jl\")\n",
    "include(\"single_intersection/pomdp_types.jl\")\n",
    "include(\"single_intersection/spaces.jl\")\n",
    "include(\"single_intersection/transition.jl\")\n",
    "include(\"single_intersection/observation.jl\")\n",
    "include(\"single_intersection/belief.jl\")\n",
    "include(\"single_intersection/render_helpers.jl\")"
   ]
  },
  {
   "cell_type": "code",
   "execution_count": 19,
   "metadata": {
    "collapsed": true
   },
   "outputs": [],
   "source": [
    "pomdp = SingleOIPOMDP();"
   ]
  },
  {
   "cell_type": "code",
   "execution_count": 20,
   "metadata": {
    "collapsed": true
   },
   "outputs": [],
   "source": [
    "policy = solve(RandomSolver(rng), pomdp)\n",
    "up = updater(policy);"
   ]
  },
  {
   "cell_type": "code",
   "execution_count": 21,
   "metadata": {
    "collapsed": true
   },
   "outputs": [],
   "source": [
    "hr = HistoryRecorder(rng=rng, max_steps=100)\n",
    "hist = simulate(hr, pomdp, policy, up);"
   ]
  },
  {
   "cell_type": "code",
   "execution_count": 22,
   "metadata": {},
   "outputs": [
    {
     "data": {
      "text/html": [
       "<video autoplay controls><source src=\"files/reel-8156782861639109482.webm?6490759259812727649\" type=\"video/webm\"></video>"
      ],
      "text/plain": [
       "Reel.Frames{MIME{Symbol(\"image/png\")}}(\"/tmp/tmptNRIux\", 0x000000000000000b, 2.0, nothing)"
      ]
     },
     "execution_count": 22,
     "metadata": {},
     "output_type": "execute_result"
    }
   ],
   "source": [
    "duration, fps, render_hist = animate_hist(pomdp, hist)\n",
    "film = roll(render_hist, fps = fps, duration = duration)"
   ]
  },
  {
   "cell_type": "markdown",
   "metadata": {},
   "source": [
    "## Scenario 4 - Multi Lane Multi agent intersection"
   ]
  },
  {
   "cell_type": "code",
   "execution_count": 23,
   "metadata": {
    "collapsed": true,
    "scrolled": true
   },
   "outputs": [],
   "source": [
    "# include(\"multi_lane_T_intersection/multi_lane_T_env.jl\")\n",
    "include(\"multi_lane_T_intersection/pomdp_types.jl\")\n",
    "include(\"multi_lane_T_intersection/generative_model.jl\")\n",
    "include(\"multi_lane_T_intersection/render_helpers.jl\")"
   ]
  },
  {
   "cell_type": "code",
   "execution_count": 24,
   "metadata": {},
   "outputs": [
    {
     "name": "stderr",
     "output_type": "stream",
     "text": [
      "20-Feb 14:22:03:WARNING:root:replacing docs for 'grow_wait_list! :: Tuple{StopIntersectionDriver,Records.Frame{Records.Entity{AutomotiveDrivingModels.VehicleState,AutomotiveDrivingModels.VehicleDef,Int64}},AutomotiveDrivingModels.Roadway,Int64}' in module 'Main'.\n",
      "20-Feb 14:22:03:WARNING:root:replacing docs for 'ungrow_wait_list! :: Tuple{StopIntersectionDriver,Records.Frame{Records.Entity{AutomotiveDrivingModels.VehicleState,AutomotiveDrivingModels.VehicleDef,Int64}},AutomotiveDrivingModels.Roadway,Int64}' in module 'Main'.\n",
      "20-Feb 14:22:03:WARNING:root:replacing docs for 'tts :: Tuple{Float64,Float64}' in module 'Main'.\n",
      "20-Feb 14:22:03:WARNING:root:replacing docs for 'is_at_intersection :: Tuple{StopIntersectionDriver,Records.Entity{AutomotiveDrivingModels.VehicleState,AutomotiveDrivingModels.VehicleDef,Int64},AutomotiveDrivingModels.Roadway}' in module 'Main'.\n",
      "20-Feb 14:22:03:WARNING:root:replacing docs for 'update_priority! :: Tuple{StopIntersectionDriver,Records.Frame{Records.Entity{AutomotiveDrivingModels.VehicleState,AutomotiveDrivingModels.VehicleDef,Int64}},AutomotiveDrivingModels.Roadway,Int64}' in module 'Main'.\n",
      "20-Feb 14:22:03:WARNING:root:replacing docs for 'update_stop! :: Tuple{StopIntersectionDriver,Records.Entity{AutomotiveDrivingModels.VehicleState,AutomotiveDrivingModels.VehicleDef,Int64},AutomotiveDrivingModels.Roadway}' in module 'Main'.\n",
      "20-Feb 14:22:03:WARNING:root:replacing docs for 'get_dist_to_end :: Tuple{Records.Entity{AutomotiveDrivingModels.VehicleState,AutomotiveDrivingModels.VehicleDef,Int64},AutomotiveDrivingModels.Roadway}' in module 'Main'.\n"
     ]
    },
    {
     "data": {
      "text/plain": [
       "get_dist_to_end"
      ]
     },
     "execution_count": 24,
     "metadata": {},
     "output_type": "execute_result"
    }
   ],
   "source": [
    "include(\"driver_models/intersection_driver.jl\")"
   ]
  },
  {
   "cell_type": "code",
   "execution_count": 25,
   "metadata": {
    "collapsed": true
   },
   "outputs": [],
   "source": [
    "env = IntersectionEnv(TInterParams(nlanes_main = 1))\n",
    "pomdp = OIPOMDP(env=env, ΔT=0.5, max_cars=10);"
   ]
  },
  {
   "cell_type": "code",
   "execution_count": 26,
   "metadata": {
    "collapsed": true
   },
   "outputs": [],
   "source": [
    "policy = solve(RandomSolver(rng), pomdp)\n",
    "up = updater(policy);\n",
    "\n",
    "mutable struct AccelPolicy <: Policy\n",
    "    problem::OIPOMDP\n",
    "end\n",
    "policy = AccelPolicy(pomdp)\n",
    "function POMDPs.action(policy::AccelPolicy, b::Void)\n",
    "    return actions(policy.problem)[2]\n",
    "end"
   ]
  },
  {
   "cell_type": "code",
   "execution_count": 27,
   "metadata": {
    "scrolled": true
   },
   "outputs": [
    {
     "name": "stdout",
     "output_type": "stream",
     "text": [
      "  0.661128 seconds (231.43 k allocations: 14.006 MiB)\n"
     ]
    }
   ],
   "source": [
    "hr = HistoryRecorder(rng=rng, max_steps=100)\n",
    "@time hist = simulate(hr, pomdp, policy, up);"
   ]
  },
  {
   "cell_type": "code",
   "execution_count": 28,
   "metadata": {
    "scrolled": false
   },
   "outputs": [
    {
     "data": {
      "text/html": [
       "<video autoplay controls><source src=\"files/reel-16303038146481862279.webm?11568464382948000140\" type=\"video/webm\"></video>"
      ],
      "text/plain": [
       "Reel.Frames{MIME{Symbol(\"image/png\")}}(\"/tmp/tmpaVDv0n\", 0x0000000000000064, 2.0, nothing)"
      ]
     },
     "execution_count": 28,
     "metadata": {},
     "output_type": "execute_result"
    }
   ],
   "source": [
    "duration, fps, render_hist = animate_hist(pomdp, hist, [IDOverlay()])\n",
    "film = roll(render_hist, fps = fps, duration = duration)"
   ]
  },
  {
   "cell_type": "code",
   "execution_count": 29,
   "metadata": {},
   "outputs": [
    {
     "data": {
      "text/html": [
       "<div id=\"interact-js-shim\">\n",
       "    <script charset=\"utf-8\">\n",
       "(function (IPython, $, _, MathJax) {\n",
       "    $.event.special.destroyed = {\n",
       "\tremove: function(o) {\n",
       "\t    if (o.handler) {\n",
       "\t\to.handler.apply(this, arguments)\n",
       "\t    }\n",
       "\t}\n",
       "    }\n",
       "\n",
       "    var OutputArea = IPython.version >= \"4.0.0\" ? require(\"notebook/js/outputarea\").OutputArea : IPython.OutputArea;\n",
       "\n",
       "    var redrawValue = function (container, type, val) {\n",
       "\tvar selector = $(\"<div/>\");\n",
       "\tvar oa = new OutputArea(_.extend(selector, {\n",
       "\t    selector: selector,\n",
       "\t    prompt_area: true,\n",
       "\t    events: IPython.events,\n",
       "\t    keyboard_manager: IPython.keyboard_manager\n",
       "\t})); // Hack to work with IPython 2.1.0\n",
       "\n",
       "\tswitch (type) {\n",
       "\tcase \"image/png\":\n",
       "            var _src = 'data:' + type + ';base64,' + val;\n",
       "\t    $(container).find(\"img\").attr('src', _src);\n",
       "\t    break;\n",
       "\tcase \"text/latex\":\n",
       "\t\tif (MathJax){\n",
       "\t\t\tvar math = MathJax.Hub.getAllJax(container)[0];\n",
       "\t\t\tMathJax.Hub.Queue([\"Text\", math, val.replace(/^\\${1,2}|\\${1,2}$/g, '')]);\n",
       "\t\t\tbreak;\n",
       "\t\t}\n",
       "\tdefault:\n",
       "\t    var toinsert = OutputArea.append_map[type].apply(\n",
       "\t\toa, [val, {}, selector]\n",
       "\t    );\n",
       "\t    $(container).empty().append(toinsert.contents());\n",
       "\t    selector.remove();\n",
       "\t}\n",
       "    }\n",
       "\n",
       "\n",
       "    $(document).ready(function() {\n",
       "\tfunction initComm(evt, data) {\n",
       "\t    var comm_manager = data.kernel.comm_manager;\n",
       "        //_.extend(comm_manager.targets, require(\"widgets/js/widget\"))\n",
       "\t    comm_manager.register_target(\"Signal\", function (comm) {\n",
       "            comm.on_msg(function (msg) {\n",
       "                var val = msg.content.data.value;\n",
       "                $(\".signal-\" + comm.comm_id).each(function() {\n",
       "                var type = $(this).data(\"type\");\n",
       "                if (typeof(val[type]) !== \"undefined\" && val[type] !== null) {\n",
       "                    redrawValue(this, type, val[type], type);\n",
       "                }\n",
       "                });\n",
       "                delete val;\n",
       "                delete msg.content.data.value;\n",
       "            });\n",
       "\t    });\n",
       "\n",
       "\t    // coordingate with Comm and redraw Signals\n",
       "\t    // XXX: Test using Reactive here to improve performance\n",
       "\t    $([IPython.events]).on(\n",
       "\t\t'output_appended.OutputArea', function (event, type, value, md, toinsert) {\n",
       "\t\t    if (md && md.reactive) {\n",
       "                // console.log(md.comm_id);\n",
       "                toinsert.addClass(\"signal-\" + md.comm_id);\n",
       "                toinsert.data(\"type\", type);\n",
       "                // Signal back indicating the mimetype required\n",
       "                var comm_manager = IPython.notebook.kernel.comm_manager;\n",
       "                var comm = comm_manager.comms[md.comm_id];\n",
       "                comm.then(function (c) {\n",
       "                    c.send({action: \"subscribe_mime\",\n",
       "                       mime: type});\n",
       "                    toinsert.bind(\"destroyed\", function() {\n",
       "                        c.send({action: \"unsubscribe_mime\",\n",
       "                               mime: type});\n",
       "                    });\n",
       "                })\n",
       "\t\t    }\n",
       "\t    });\n",
       "\t}\n",
       "\n",
       "\ttry {\n",
       "\t    // try to initialize right away. otherwise, wait on the status_started event.\n",
       "\t    initComm(undefined, IPython.notebook);\n",
       "\t} catch (e) {\n",
       "\t    $([IPython.events]).on('kernel_created.Kernel kernel_created.Session', initComm);\n",
       "\t}\n",
       "    });\n",
       "})(IPython, jQuery, _, MathJax);\n",
       "</script>\n",
       "    <script>\n",
       "        window.interactLoadedFlag = true\n",
       "       $(\"#interact-js-shim\").bind(\"destroyed\", function () {\n",
       "           if (window.interactLoadedFlag) {\n",
       "               console.warn(\"JavaScript required by Interact will be removed if you remove this cell or run using Interact more than once.\")\n",
       "           }\n",
       "       })\n",
       "       $([IPython.events]).on(\"kernel_starting.Kernel kernel_restarting.Kernel\", function () { window.interactLoadedFlag = false })\n",
       "   </script>\n",
       "</div>"
      ]
     },
     "metadata": {},
     "output_type": "display_data"
    },
    {
     "data": {
      "image/png": "[encoded data removed]",
      "text/plain": [
       "Cairo.CairoSurface{UInt32}(Ptr{Void} @0x0000000020e06bb0, 1000.0, 600.0, #undef)"
      ]
     },
     "execution_count": 29,
     "metadata": {},
     "output_type": "execute_result"
    }
   ],
   "source": [
    "using Interact\n",
    "\n",
    "scene = Scene()\n",
    "\n",
    "type LaneOverlay <: SceneOverlay\n",
    "    lane::Lane\n",
    "    color::Colorant\n",
    "end\n",
    "function AutoViz.render!(rendermodel::RenderModel, overlay::LaneOverlay, scene::Scene, roadway::Roadway)\n",
    "    render!(rendermodel, overlay.lane, roadway, color_asphalt=overlay.color)\n",
    "    return rendermodel\n",
    "end\n",
    "\n",
    "# @manipulate for i in 1 : length(env.roadway.segments)\n",
    "#     AutoViz.render(scene, env.roadway, [LaneOverlay(env.roadway[LaneTag(i,1)], RGBA(0.0,0.0,1.0,0.5))], cam=FitToContentCamera(0.))\n",
    "# end\n",
    "\n",
    "i=15\n",
    "AutoViz.render(scene, env.roadway, [LaneOverlay(env.roadway[LaneTag(i,1)], RGBA(0.0,0.0,1.0,0.5))], cam=FitToContentCamera(0.))"
   ]
  },
  {
   "cell_type": "code",
   "execution_count": 30,
   "metadata": {},
   "outputs": [
    {
     "name": "stderr",
     "output_type": "stream",
     "text": [
      "20-Feb 14:22:22:WARNING:root:replacing docs for 'grow_wait_list! :: Tuple{StopIntersectionDriver,Records.Frame{Records.Entity{AutomotiveDrivingModels.VehicleState,AutomotiveDrivingModels.VehicleDef,Int64}},AutomotiveDrivingModels.Roadway,Int64}' in module 'Main'.\n",
      "20-Feb 14:22:22:WARNING:root:replacing docs for 'ungrow_wait_list! :: Tuple{StopIntersectionDriver,Records.Frame{Records.Entity{AutomotiveDrivingModels.VehicleState,AutomotiveDrivingModels.VehicleDef,Int64}},AutomotiveDrivingModels.Roadway,Int64}' in module 'Main'.\n",
      "20-Feb 14:22:22:WARNING:root:replacing docs for 'tts :: Tuple{Float64,Float64}' in module 'Main'.\n",
      "20-Feb 14:22:22:WARNING:root:replacing docs for 'is_at_intersection :: Tuple{StopIntersectionDriver,Records.Entity{AutomotiveDrivingModels.VehicleState,AutomotiveDrivingModels.VehicleDef,Int64},AutomotiveDrivingModels.Roadway}' in module 'Main'.\n",
      "20-Feb 14:22:22:WARNING:root:replacing docs for 'update_priority! :: Tuple{StopIntersectionDriver,Records.Frame{Records.Entity{AutomotiveDrivingModels.VehicleState,AutomotiveDrivingModels.VehicleDef,Int64}},AutomotiveDrivingModels.Roadway,Int64}' in module 'Main'.\n",
      "20-Feb 14:22:22:WARNING:root:replacing docs for 'update_stop! :: Tuple{StopIntersectionDriver,Records.Entity{AutomotiveDrivingModels.VehicleState,AutomotiveDrivingModels.VehicleDef,Int64},AutomotiveDrivingModels.Roadway}' in module 'Main'.\n",
      "20-Feb 14:22:22:WARNING:root:replacing docs for 'get_dist_to_end :: Tuple{Records.Entity{AutomotiveDrivingModels.VehicleState,AutomotiveDrivingModels.VehicleDef,Int64},AutomotiveDrivingModels.Roadway}' in module 'Main'.\n"
     ]
    },
    {
     "data": {
      "text/plain": [
       "get_dist_to_end"
      ]
     },
     "execution_count": 30,
     "metadata": {},
     "output_type": "execute_result"
    }
   ],
   "source": [
    "include(\"driver_models/intersection_driver.jl\")"
   ]
  },
  {
   "cell_type": "code",
   "execution_count": 31,
   "metadata": {},
   "outputs": [
    {
     "ename": "LoadError",
     "evalue": "\u001b[91mUndefVarError: lane not defined\u001b[39m",
     "output_type": "error",
     "traceback": [
      "\u001b[91mUndefVarError: lane not defined\u001b[39m",
      "",
      "Stacktrace:",
      " [1] \u001b[1mmacro expansion\u001b[22m\u001b[22m at \u001b[1m./In[31]:13\u001b[22m\u001b[22m [inlined]",
      " [2] \u001b[1manonymous\u001b[22m\u001b[22m at \u001b[1m./<missing>:?\u001b[22m\u001b[22m",
      " [3] \u001b[1minclude_string\u001b[22m\u001b[22m\u001b[1m(\u001b[22m\u001b[22m::String, ::String\u001b[1m)\u001b[22m\u001b[22m at \u001b[1m./loading.jl:515\u001b[22m\u001b[22m"
     ]
    }
   ],
   "source": [
    "scene = Scene()\n",
    "for i = 1:20\n",
    "    veh = initial_car(pomdp, scene, rng, true)\n",
    "    push!(scene, veh)\n",
    "end\n",
    "clean_scene!(pomdp.env, scene)\n",
    "\n",
    "timestep = 0.1\n",
    "\n",
    "models = Dict{Int, DriverModel}()\n",
    "# constant speed model\n",
    "for veh in scene\n",
    "    route = random_route(rng, env.roadway, lane)\n",
    "    intersection_entrances = get_start_lanes(env.roadway)\n",
    "    intersection_exits = get_exit_lanes(intersection_entrances, env.roadway)\n",
    "    models[veh.id] = StopIntersectionDriver(navigator=RouteFollowingIDM(route=route),\n",
    "                                   intersection=Lane[route[1], route[2]], \n",
    "                                   intersection_entrances = intersection_entrances,\n",
    "                                   intersection_exits = intersection_exits,\n",
    "                                   stop_delta=0.,\n",
    "                                   accel_tol=0.)\n",
    "end\n",
    "# models[0] = RouteFollowingIDM(route=route)\n",
    "\n",
    "nticks = 100\n",
    "rec = SceneRecord(nticks+1, timestep)\n",
    "@time simulate!(rec, scene, env.roadway, models, nticks)"
   ]
  },
  {
   "cell_type": "code",
   "execution_count": 32,
   "metadata": {},
   "outputs": [
    {
     "ename": "LoadError",
     "evalue": "\u001b[91mMethodError: no method matching render(::Records.Frame{Records.Entity{AutomotiveDrivingModels.VehicleState,AutomotiveDrivingModels.VehicleDef,Int64}}, ::Array{AutoViz.SceneOverlay,1}, ::IntersectionEnv; cam=AutoViz.FitToContentCamera(0.0), car_colors=Dict{Int64,ColorTypes.Colorant}(Pair{Int64,ColorTypes.Colorant}(7, RGB{N0f8}(1.0,0.0,0.498)),Pair{Int64,ColorTypes.Colorant}(4, RGB{N0f8}(1.0,0.0,0.498)),Pair{Int64,ColorTypes.Colorant}(2, RGB{N0f8}(1.0,0.0,0.498)),Pair{Int64,ColorTypes.Colorant}(3, RGB{N0f8}(1.0,0.0,0.498)),Pair{Int64,ColorTypes.Colorant}(16, RGB{N0f8}(1.0,0.0,0.498)),Pair{Int64,ColorTypes.Colorant}(19, RGB{N0f8}(1.0,0.0,0.498)),Pair{Int64,ColorTypes.Colorant}(11, RGB{N0f8}(1.0,0.0,0.498)),Pair{Int64,ColorTypes.Colorant}(12, RGB{N0f8}(1.0,0.0,0.498))))\u001b[0m\nClosest candidates are:\n  render(::Records.Frame{Records.Entity{S,D,I}}, ::R; canvas_width, canvas_height, rendermodel, cam, car_colors) where {S, D, I, R} at /home/boutonm/.julia/v0.6/AutoViz/src/interface.jl:60\n  render(::Records.Frame{Records.Entity{S,D,I}}, ::R, \u001b[91m::AbstractArray{O<:AutoViz.SceneOverlay,1}\u001b[39m; canvas_width, canvas_height, rendermodel, cam, car_colors) where {S, D, I, O<:AutoViz.SceneOverlay, R} at /home/boutonm/.julia/v0.6/AutoViz/src/overlays.jl:25\n  render(\u001b[91m::Cairo.CairoContext\u001b[39m, \u001b[91m::Records.Frame{Records.Entity{S,D,I}}\u001b[39m, ::R; rendermodel, cam, car_colors) where {S, D, I, R} at /home/boutonm/.julia/v0.6/AutoViz/src/interface.jl:39\n  ...\u001b[39m",
     "output_type": "error",
     "traceback": [
      "\u001b[91mMethodError: no method matching render(::Records.Frame{Records.Entity{AutomotiveDrivingModels.VehicleState,AutomotiveDrivingModels.VehicleDef,Int64}}, ::Array{AutoViz.SceneOverlay,1}, ::IntersectionEnv; cam=AutoViz.FitToContentCamera(0.0), car_colors=Dict{Int64,ColorTypes.Colorant}(Pair{Int64,ColorTypes.Colorant}(7, RGB{N0f8}(1.0,0.0,0.498)),Pair{Int64,ColorTypes.Colorant}(4, RGB{N0f8}(1.0,0.0,0.498)),Pair{Int64,ColorTypes.Colorant}(2, RGB{N0f8}(1.0,0.0,0.498)),Pair{Int64,ColorTypes.Colorant}(3, RGB{N0f8}(1.0,0.0,0.498)),Pair{Int64,ColorTypes.Colorant}(16, RGB{N0f8}(1.0,0.0,0.498)),Pair{Int64,ColorTypes.Colorant}(19, RGB{N0f8}(1.0,0.0,0.498)),Pair{Int64,ColorTypes.Colorant}(11, RGB{N0f8}(1.0,0.0,0.498)),Pair{Int64,ColorTypes.Colorant}(12, RGB{N0f8}(1.0,0.0,0.498))))\u001b[0m\nClosest candidates are:\n  render(::Records.Frame{Records.Entity{S,D,I}}, ::R; canvas_width, canvas_height, rendermodel, cam, car_colors) where {S, D, I, R} at /home/boutonm/.julia/v0.6/AutoViz/src/interface.jl:60\n  render(::Records.Frame{Records.Entity{S,D,I}}, ::R, \u001b[91m::AbstractArray{O<:AutoViz.SceneOverlay,1}\u001b[39m; canvas_width, canvas_height, rendermodel, cam, car_colors) where {S, D, I, O<:AutoViz.SceneOverlay, R} at /home/boutonm/.julia/v0.6/AutoViz/src/overlays.jl:25\n  render(\u001b[91m::Cairo.CairoContext\u001b[39m, \u001b[91m::Records.Frame{Records.Entity{S,D,I}}\u001b[39m, ::R; rendermodel, cam, car_colors) where {S, D, I, R} at /home/boutonm/.julia/v0.6/AutoViz/src/interface.jl:39\n  ...\u001b[39m",
      "",
      "Stacktrace:",
      " [1] \u001b[1m#roll#7\u001b[22m\u001b[22m\u001b[1m(\u001b[22m\u001b[22m::Int64, ::Float64, ::Function, ::#render_rec#41{AutoViz.FitToContentCamera,Records.QueueRecord{Records.Entity{AutomotiveDrivingModels.VehicleState,AutomotiveDrivingModels.VehicleDef,Int64}},IntersectionEnv,Array{AutoViz.SceneOverlay,1}}\u001b[1m)\u001b[22m\u001b[22m at \u001b[1m/home/boutonm/.julia/v0.6/Reel/src/Reel.jl:97\u001b[22m\u001b[22m",
      " [2] \u001b[1m(::Reel.#kw##roll)\u001b[22m\u001b[22m\u001b[1m(\u001b[22m\u001b[22m::Array{Any,1}, ::Reel.#roll, ::Function\u001b[1m)\u001b[22m\u001b[22m at \u001b[1m./<missing>:0\u001b[22m\u001b[22m",
      " [3] \u001b[1minclude_string\u001b[22m\u001b[22m\u001b[1m(\u001b[22m\u001b[22m::String, ::String\u001b[1m)\u001b[22m\u001b[22m at \u001b[1m./loading.jl:515\u001b[22m\u001b[22m"
     ]
    }
   ],
   "source": [
    "duration, fps, render_rec = animate_record(rec, env, sim_dt=timestep)\n",
    "film = roll(render_rec, fps = fps, duration = duration)"
   ]
  },
  {
   "cell_type": "code",
   "execution_count": null,
   "metadata": {
    "collapsed": true
   },
   "outputs": [],
   "source": []
  }
 ],
 "metadata": {
  "kernelspec": {
   "display_name": "Julia 0.6.0",
   "language": "julia",
   "name": "julia-0.6"
  },
  "language_info": {
   "file_extension": ".jl",
   "mimetype": "application/julia",
   "name": "julia",
   "version": "0.6.0"
  }
 },
 "nbformat": 4,
 "nbformat_minor": 2
}
