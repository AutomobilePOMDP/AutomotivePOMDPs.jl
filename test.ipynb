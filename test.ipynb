{
 "cells": [
  {
   "cell_type": "markdown",
   "metadata": {},
   "source": [
    "# Test and visualize the driving scenarios"
   ]
  },
  {
   "cell_type": "code",
   "execution_count": 1,
   "metadata": {},
   "outputs": [
    {
     "name": "stderr",
     "output_type": "stream",
     "text": [
      "WARNING: Method definition info(Any...) in module Base at util.jl:532"
     ]
    }
   ],
   "source": [
    "using POMDPs, StatsBase, POMDPToolbox, DeepRL, Parameters, GridInterpolations\n",
    "using AutomotiveDrivingModels, AutoUrban, AutoViz\n",
    "using Reel "
   ]
  },
  {
   "cell_type": "code",
   "execution_count": 2,
   "metadata": {},
   "outputs": [
    {
     "name": "stderr",
     "output_type": "stream",
     "text": [
      " overwritten in module Logging at C:\\Users\\Maxime\\.julia\\v0.6\\Logging\\src\\Logging.jl:115.\n",
      "WARNING: Method definition warn(Any...) in module Base at util.jl:585"
     ]
    }
   ],
   "source": [
    "rng = MersenneTwister(1);"
   ]
  },
  {
   "cell_type": "code",
   "execution_count": 3,
   "metadata": {},
   "outputs": [
    {
     "name": "stderr",
     "output_type": "stream",
     "text": [
      " overwritten in module Logging at C:\\Users\\Maxime\\.julia\\v0.6\\Logging\\src\\Logging.jl:115.\n",
      "WARNING: Method definition copy!(Array{"
     ]
    },
    {
     "data": {
      "text/plain": [
       "animate_record (generic function with 1 method)"
      ]
     },
     "execution_count": 3,
     "metadata": {},
     "output_type": "execute_result"
    },
    {
     "name": "stderr",
     "output_type": "stream",
     "text": [
      "Float64, 1"
     ]
    }
   ],
   "source": [
    "include(\"constants.jl\")\n",
    "include(\"utils/helpers.jl\")\n",
    "include(\"utils/occlusions.jl\")\n",
    "include(\"utils/rendering.jl\")"
   ]
  },
  {
   "cell_type": "code",
   "execution_count": 4,
   "metadata": {},
   "outputs": [
    {
     "name": "stderr",
     "output_type": "stream",
     "text": [
      "}, AutomotiveDrivingModels.LatLonAccel) in module AutomotiveDrivingModels at C:\\Users\\Maxime\\.julia\\v0.6\\AutomotiveDrivingModels\\src\\2d\\actions\\lat_lon_accel.jl:13 overwritten in module AutoUrban at C:\\Users\\Maxime\\.julia\\v0.6\\AutoUrban\\src\\simulation\\actions.jl:10.\n"
     ]
    }
   ],
   "source": [
    "include(\"envs/occluded_crosswalk_env.jl\")\n",
    "include(\"envs/multi_lane_T_env.jl\")\n",
    "include(\"envs/rendering.jl\")"
   ]
  },
  {
   "cell_type": "code",
   "execution_count": 5,
   "metadata": {},
   "outputs": [
    {
     "data": {
      "text/plain": [
       "dist_to_stop (generic function with 1 method)"
      ]
     },
     "execution_count": 5,
     "metadata": {},
     "output_type": "execute_result"
    }
   ],
   "source": [
    "include(\"driver_models/route_following_idm.jl\")\n",
    "include(\"driver_models/stop.jl\")\n",
    "include(\"driver_models/intersection_driver.jl\")\n",
    "include(\"driver_models/constant_pedestrian.jl\")\n",
    "include(\"driver_models/crosswalk_driver.jl\")"
   ]
  },
  {
   "cell_type": "markdown",
   "metadata": {},
   "source": [
    "## Scenario 1: Single agent occluded crosswalk\n",
    "\n",
    "Discrete environment, provides explicit transition and observation probability distributions. Support only one pedestrian"
   ]
  },
  {
   "cell_type": "code",
   "execution_count": 6,
   "metadata": {},
   "outputs": [
    {
     "data": {
      "text/plain": [
       "animate_hist (generic function with 1 method)"
      ]
     },
     "execution_count": 6,
     "metadata": {},
     "output_type": "execute_result"
    }
   ],
   "source": [
    "# include(\"single_crosswalk/occluded_crosswalk_env.jl\")\n",
    "include(\"single_crosswalk/pomdp_types.jl\")\n",
    "include(\"single_crosswalk/spaces.jl\")\n",
    "include(\"single_crosswalk/transition.jl\")\n",
    "include(\"single_crosswalk/observation.jl\")\n",
    "include(\"single_crosswalk/belief.jl\")\n",
    "include(\"single_crosswalk/adm_helpers.jl\")\n",
    "include(\"single_crosswalk/render_helpers.jl\")"
   ]
  },
  {
   "cell_type": "code",
   "execution_count": 18,
   "metadata": {},
   "outputs": [
    {
     "data": {
      "text/plain": [
       "SingleOCPOMDP(CrosswalkEnv(Roadway, AutomotiveDrivingModels.Lane(LaneTag(2, 1), AutomotiveDrivingModels.CurvePt[CurvePt({25.000, -10.000, 1.571}, 0.000, 0.000, NaN), CurvePt({25.000, 10.000, 1.571}, 20.000, 0.000, NaN)], 6.0, AutomotiveDrivingModels.SpeedLimit(-Inf, Inf), AutomotiveDrivingModels.LaneBoundary(:unknown, :unknown), AutomotiveDrivingModels.LaneBoundary(:unknown, :unknown), AutomotiveDrivingModels.LaneConnection[], AutomotiveDrivingModels.LaneConnection[]), AutomotiveDrivingModels.ConvexPolygon[ConvexPolygon: len 4 (max 4 pts)\n",
       "\tVecE2(15.000, -1.500)\n",
       "\tVecE2(15.000, -4.500)\n",
       "\tVecE2(21.500, -4.500)\n",
       "\tVecE2(21.500, -1.500)\n",
       "], CrosswalkParams(2, 50.0, 3.0, 20.0, 6.0, 5.0, 37.0, 8.0, 100, 0.5, 2.0, 10.0)), VehicleDef(CAR, 4.000, 1.800), VehicleDef(PEDESTRIAN, 1.000, 1.000), 2.0, 1.0, 1.0, 5.0, -5.0, 37.0, 5.0, 0.5, 0.3, 0.3, false, 1.0, 1.0, 1.0, -1.0, 0.0, 1.0, 0.95)"
      ]
     },
     "execution_count": 18,
     "metadata": {},
     "output_type": "execute_result"
    }
   ],
   "source": [
    "pomdp = SingleOCPOMDP()"
   ]
  },
  {
   "cell_type": "code",
   "execution_count": 19,
   "metadata": {
    "collapsed": true
   },
   "outputs": [],
   "source": [
    "policy = solve(RandomSolver(rng), pomdp)\n",
    "up = updater(policy);"
   ]
  },
  {
   "cell_type": "markdown",
   "metadata": {},
   "source": [
    "**Simulate**"
   ]
  },
  {
   "cell_type": "code",
   "execution_count": 20,
   "metadata": {},
   "outputs": [
    {
     "name": "stdout",
     "output_type": "stream",
     "text": [
      "  0.017894 seconds (25.88 k allocations: 1.780 MiB)\n"
     ]
    }
   ],
   "source": [
    "hr = HistoryRecorder(rng=rng)\n",
    "@time hist = simulate(hr, pomdp, policy, up);"
   ]
  },
  {
   "cell_type": "markdown",
   "metadata": {},
   "source": [
    "**Rendering**"
   ]
  },
  {
   "cell_type": "code",
   "execution_count": 21,
   "metadata": {},
   "outputs": [
    {
     "data": {
      "text/html": [
       "<video autoplay controls><source src=\"files/reel-13366104645847790525.webm?1782031132847038611\" type=\"video/webm\"></video>"
      ],
      "text/plain": [
       "Reel.Frames{MIME{Symbol(\"image/png\")}}(\"C:\\\\Users\\\\Maxime\\\\AppData\\\\Local\\\\Temp\\\\jl_BD11.tmp\", 0x000000000000002e, 2.0, nothing)"
      ]
     },
     "execution_count": 21,
     "metadata": {},
     "output_type": "execute_result"
    }
   ],
   "source": [
    "duration, fps, render_hist = animate_hist(pomdp, hist)\n",
    "film = roll(render_hist, fps = fps, duration = duration)"
   ]
  },
  {
   "cell_type": "markdown",
   "metadata": {},
   "source": [
    "## Scenario 2: Multi-agent Crosswalk \n",
    "\n",
    "Generative model for the occluded crosswalk scenario, support multiple pedestrians, continuous space"
   ]
  },
  {
   "cell_type": "code",
   "execution_count": 45,
   "metadata": {},
   "outputs": [
    {
     "name": "stderr",
     "output_type": "stream",
     "text": [
      "13-Feb 19:20:56:WARNING:root:replacing docs for 'initial_ego :: Tuple{OCPOMDP,AbstractRNG}' in module 'Main'.\n",
      "13-Feb 19:20:56:WARNING:root:replacing docs for 'initial_pedestrian :: Union{Tuple{OCPOMDP,Records.Frame{Records.Entity{AutomotiveDrivingModels.VehicleState,AutomotiveDrivingModels.VehicleDef,Int64}},AbstractRNG,Bool}, Tuple{OCPOMDP,Records.Frame{Records.Entity{AutomotiveDrivingModels.VehicleState,AutomotiveDrivingModels.VehicleDef,Int64}},AbstractRNG}}' in module 'Main'.\n",
      "13-Feb 19:20:56:WARNING:root:replacing docs for 'get_off_the_grid :: Tuple{OCPOMDP}' in module 'Main'.\n"
     ]
    }
   ],
   "source": [
    "# include(\"multi_crosswalk/occluded_crosswalk_env.jl\")\n",
    "include(\"multi_crosswalk/pomdp_types.jl\")\n",
    "include(\"multi_crosswalk/generative_model.jl\")\n",
    "include(\"multi_crosswalk/render_helpers.jl\")"
   ]
  },
  {
   "cell_type": "code",
   "execution_count": 69,
   "metadata": {},
   "outputs": [],
   "source": [
    "pomdp = OCPOMDP(ΔT=0.5, p_birth=0.2, max_ped=1);\n",
    "overlay = LidarOverlay(pomdp.sensor);"
   ]
  },
  {
   "cell_type": "code",
   "execution_count": 70,
   "metadata": {
    "collapsed": true
   },
   "outputs": [],
   "source": [
    "policy = solve(RandomSolver(rng), pomdp)\n",
    "up = updater(policy);"
   ]
  },
  {
   "cell_type": "code",
   "execution_count": 62,
   "metadata": {},
   "outputs": [
    {
     "name": "stdout",
     "output_type": "stream",
     "text": [
      "  0.001111 seconds (3.96 k allocations: 678.398 KiB)\n"
     ]
    }
   ],
   "source": [
    "hr = HistoryRecorder(rng=rng, max_steps=100)\n",
    "@time hist = simulate(hr, pomdp, policy, up);"
   ]
  },
  {
   "cell_type": "code",
   "execution_count": 49,
   "metadata": {
    "scrolled": false
   },
   "outputs": [
    {
     "data": {
      "text/html": [
       "<video autoplay controls><source src=\"files/reel-9899008601435197452.webm?1681994118068687723\" type=\"video/webm\"></video>"
      ],
      "text/plain": [
       "Reel.Frames{MIME{Symbol(\"image/png\")}}(\"C:\\\\Users\\\\Maxime\\\\AppData\\\\Local\\\\Temp\\\\jl_3314.tmp\", 0x000000000000002f, 10.0, nothing)"
      ]
     },
     "execution_count": 49,
     "metadata": {},
     "output_type": "execute_result"
    }
   ],
   "source": [
    "duration, fps, render_hist = animate_hist(pomdp, hist, SceneOverlay[overlay])\n",
    "film = roll(render_hist, fps = fps, duration = duration)"
   ]
  },
  {
   "cell_type": "code",
   "execution_count": 50,
   "metadata": {},
   "outputs": [
    {
     "name": "stdout",
     "output_type": "stream",
     "text": [
      "buffer ped ttc 4.5\n",
      "ego ttc 3.1814692584352207\n",
      "has_crossed ttc-1.5\n",
      "min ped ttc 1.5297421418296164\n",
      "braking! d = 15.0\n",
      "veh 1 go false stop false clear false\n",
      "buffer ped ttc 4.5\n",
      "ego ttc 3.3287143560741335\n",
      "has_crossed ttc-1.5\n",
      "min ped ttc 0.7170756302676002\n",
      "braking! d = 14.2429509088349\n",
      "veh 1 go false stop false clear false\n",
      "buffer ped ttc 4.5\n",
      "ego ttc 3.451004993663879\n",
      "has_crossed ttc-1.5\n",
      "min ped ttc 1.1106566046012771\n",
      "braking! d = 13.53777422617068\n",
      "veh 1 go false stop false clear false\n",
      "buffer ped ttc 4.5\n",
      "ego ttc 3.55585943039195\n",
      "has_crossed ttc-1.5\n",
      "min ped ttc 0.6170756302676015\n",
      "braking! d = 12.87509290185241\n",
      "veh 1 go false stop false clear false\n",
      "buffer ped ttc 4.5\n",
      "ego ttc 3.648214079923812\n",
      "has_crossed ttc-1.5\n",
      "min ped ttc 0.5170756302676018\n",
      "braking! d = 12.248516009133812\n",
      "veh 1 go false stop false clear false\n",
      "buffer ped ttc 4.5\n",
      "ego ttc 3.731596335683055\n",
      "has_crossed ttc-1.5\n",
      "min ped ttc 0.9606566046012768\n",
      "braking! d = 11.65345598655158\n",
      "veh 1 go false stop false clear false\n",
      "buffer ped ttc 4.5\n",
      "ego ttc 3.808686328739185\n",
      "has_crossed ttc-1.5\n",
      "min ped ttc 0.4170756302676031\n",
      "braking! d = 11.086498207827269\n",
      "veh 1 go false stop false clear false\n",
      "buffer ped ttc 4.5\n",
      "ego ttc 3.8816187937895696\n",
      "has_crossed ttc-1.5\n",
      "min ped ttc 0.7019442585136666\n",
      "braking! d = 10.54503191088441\n",
      "veh 1 go false stop false clear false\n",
      "buffer ped ttc 4.5\n",
      "ego ttc 3.952159600869565\n",
      "has_crossed ttc-1.5\n",
      "min ped ttc 1.6213132092025546\n",
      "braking! d = 10.027018717895489\n",
      "veh 1 go false stop false clear false\n",
      "buffer ped ttc 4.5\n",
      "ego ttc 4.021816060146121\n",
      "has_crossed ttc-1.5\n",
      "min ped ttc 0.30097212925683436\n",
      "braking! d = 9.530839479300717\n",
      "veh 1 go false stop false clear false\n",
      "buffer ped ttc 4.5\n",
      "ego ttc 4.09190970282649\n",
      "has_crossed ttc-1.5\n",
      "min ped ttc 0.6606566046012778\n",
      "braking! d = 9.055188484807326\n",
      "veh 1 go false stop false clear false\n",
      "buffer ped ttc 4.5\n",
      "ego ttc 4.163626596494506\n",
      "has_crossed ttc-1.5\n",
      "min ped ttc 0.40194425851366766\n",
      "braking! d = 8.59899775422915\n",
      "veh 1 go false stop false clear false\n",
      "buffer ped ttc 4.5\n",
      "ego ttc 4.238053597127606\n",
      "has_crossed ttc-1.5\n",
      "min ped ttc 0.3019442585136698\n",
      "braking! d = 8.161381228922574\n",
      "veh 1 go false stop false clear false\n",
      "buffer ped ttc 4.5\n",
      "ego ttc 4.316205468533432\n",
      "has_crossed ttc-1.5\n",
      "min ped ttc 0.20194425851367015\n",
      "braking! d = 7.741592606269075\n",
      "veh 1 go false stop false clear false\n",
      "buffer ped ttc 4.5\n",
      "ego ttc 4.399045886725797\n",
      "has_crossed ttc-1.5\n",
      "min ped ttc 0.10194425851366873\n",
      "braking! d = 7.338992830931325\n",
      "veh 1 go false stop false clear false\n",
      "buffer ped ttc 4.5\n",
      "ego ttc 4.487504242105927\n",
      "has_crossed ttc-1.5\n",
      "min ped ttc 0.0019442585136690838\n",
      "braking! d = 6.953024625870636\n",
      "veh 1 go false stop false clear false\n",
      "buffer ped ttc 4.5\n",
      "ego ttc 4.582489488350769\n",
      "has_crossed ttc-1.5\n",
      "min ped ttc -0.03292436973239621\n",
      "braking! d = 6.583192299471259\n",
      "veh 1 go false stop false clear false\n",
      "buffer ped ttc 4.5\n",
      "ego ttc 4.684901873431564\n",
      "has_crossed ttc-1.5\n",
      "min ped ttc 0.4213132092025571\n",
      "braking! d = 6.229045611665811\n",
      "veh 1 go false stop false clear false\n",
      "buffer ped ttc 4.5\n",
      "ego ttc 4.795643122399069\n",
      "has_crossed ttc-1.5\n",
      "min ped ttc -0.04902787074316528\n",
      "braking! d = 5.890166839796073\n",
      "veh 1 go false stop false clear false\n",
      "buffer ped ttc 4.5\n",
      "ego ttc 4.915625465807155\n",
      "has_crossed ttc-1.5\n",
      "min ped ttc -0.14902787074316493\n",
      "braking! d = 5.566160423321957\n",
      "veh 1 go false stop false clear false\n",
      "buffer ped ttc 4.5\n",
      "ego ttc 5.045779788532549\n",
      "has_crossed ttc-1.5\n",
      "min ped ttc -0.49805574148632914\n",
      "braking! d = 5.2566447274104\n",
      "veh 1 go false stop false clear false\n",
      "buffer ped ttc 4.5\n",
      "ego ttc 5.187063091498474\n",
      "has_crossed ttc-1.5\n",
      "min ped ttc -0.2990278707431644\n",
      "braking! d = 4.961245575175559\n",
      "veh 1 go false stop false clear false\n",
      "buffer ped ttc 4.5\n",
      "ego ttc 5.340465401490657\n",
      "has_crossed ttc-1.5\n",
      "min ped ttc -0.6658487394647921\n",
      "braking! d = 4.679591273816973\n",
      "veh 1 go false stop false clear false\n",
      "buffer ped ttc 4.5\n",
      "ego ttc 5.5070162246075\n",
      "has_crossed ttc-1.5\n",
      "min ped ttc -0.49902787074316457\n",
      "braking! d = 4.4113089122749845\n",
      "veh 1 go false stop false clear false\n",
      "buffer ped ttc 4.5\n",
      "ego ttc 5.687790612500045\n",
      "has_crossed ttc-1.5\n",
      "min ped ttc -0.9658487394647857\n",
      "braking! d = 4.156021744808381\n",
      "veh 1 go false stop false clear false\n",
      "buffer ped ttc 4.5\n",
      "ego ttc 5.883914894767504\n",
      "has_crossed ttc-1.5\n",
      "min ped ttc -0.6990278707431647\n",
      "braking! d = 3.913347501230035\n",
      "veh 1 go false stop false clear false\n",
      "buffer ped ttc 4.5\n",
      "ego ttc 6.096572124066666\n",
      "has_crossed ttc-1.5\n",
      "min ped ttc -0.3786867907974436\n",
      "braking! d = 3.6828974839377935\n",
      "veh 1 go false stop false clear false\n",
      "buffer ped ttc 4.5\n",
      "ego ttc 6.327007281626568\n",
      "has_crossed ttc-1.5\n",
      "min ped ttc -0.6329243697323923\n",
      "braking! d = 3.464276326764338\n",
      "veh 1 go false stop false clear false\n",
      "buffer ped ttc 4.5\n",
      "ego ttc 6.576532299105866\n",
      "has_crossed ttc-1.5\n",
      "min ped ttc -0.7329243697323937\n",
      "braking! d = 3.2570823026726927\n",
      "veh 1 go false stop false clear false\n",
      "buffer ped ttc 4.5\n",
      "ego ttc 6.846530967183962\n",
      "has_crossed ttc-1.5\n",
      "min ped ttc -0.9490278707431656\n",
      "braking! d = 3.060908077519329\n",
      "veh 1 go false stop false clear false\n",
      "buffer ped ttc 4.5\n",
      "ego ttc 7.138463820712288\n",
      "has_crossed ttc-1.5\n",
      "min ped ttc -0.87868679079744\n",
      "braking! d = 2.8753418161804554\n",
      "veh 1 go false stop false clear false\n",
      "buffer ped ttc 4.5\n",
      "ego ttc 7.453873112929466\n",
      "has_crossed ttc-1.5\n",
      "min ped ttc -0.48934339539871985\n",
      "braking! d = 2.699968555707475\n",
      "veh 1 go false stop false clear false\n",
      "buffer ped ttc 4.5\n",
      "ego ttc 7.79438801479477\n",
      "has_crossed ttc-1.5\n",
      "min ped ttc -1.178686790797439\n",
      "braking! d = 2.5343717680903524\n",
      "veh 1 go false stop false clear false\n",
      "buffer ped ttc 4.5\n",
      "ego ttc 8.16173019691537\n",
      "has_crossed ttc-1.5\n",
      "min ped ttc -0.9829243697323902\n",
      "braking! d = 2.378135042803841\n",
      "veh 1 go false stop false clear false\n",
      "buffer ped ttc 4.5\n",
      "ego ttc 8.557719967351119\n",
      "has_crossed ttc-1.5\n",
      "min ped ttc -1.099027870743165\n",
      "braking! d = 2.2308438266781963\n",
      "veh 1 go false stop false clear false\n",
      "buffer ped ttc 4.5\n",
      "ego ttc 8.984283145153636\n",
      "has_crossed ttc-1.5\n",
      "min ped ttc -1.132924369732387\n",
      "braking! d = 2.0920871658371425\n",
      "veh 1 go false stop false clear false\n",
      "buffer ped ttc 4.5\n",
      "ego ttc 9.443458843611488\n",
      "has_crossed ttc-1.5\n",
      "min ped ttc -1.2490278707431655\n",
      "braking! d = 1.9614594015385727\n",
      "veh 1 go false stop false clear false\n",
      "buffer ped ttc 4.5\n",
      "ego ttc 9.937408316701697\n",
      "has_crossed ttc-1.5\n",
      "min ped ttc 4.5\n",
      "braking! d = 1.8385617787910142\n",
      "veh 1 go false stop false clear false\n",
      "buffer ped ttc 4.5\n",
      "ego ttc 10.468424986897674\n",
      "has_crossed ttc-1.5\n",
      "min ped ttc -1.399027870743165\n",
      "braking! d = 1.7230039336436889\n",
      "veh 1 go false stop false clear false\n",
      "buffer ped ttc 4.5\n",
      "ego ttc 11.038945724423906\n",
      "has_crossed ttc-1.5\n",
      "min ped ttc -0.8893433953987202\n",
      "braking! d = 1.614405232079278\n",
      "veh 1 go false stop false clear false\n",
      "buffer ped ttc 4.5\n",
      "ego ttc 11.651563392186363\n",
      "has_crossed ttc-1.5\n",
      "min ped ttc -1.3329243697323827\n",
      "braking! d = 1.5123959404567309\n",
      "veh 1 go false stop false clear false\n",
      "buffer ped ttc 4.5\n",
      "ego ttc 12.309040614320946\n",
      "has_crossed ttc-1.5\n",
      "min ped ttc -1.4329243697323815\n",
      "braking! d = 1.416618214388052\n",
      "veh 1 go false stop false clear false\n",
      "buffer ped ttc 4.5\n",
      "ego ttc 13.01432467846453\n",
      "has_crossed ttc-1.5\n",
      "min ped ttc 0.3296593188108572\n",
      "braking! d = 1.3267268996633206\n",
      "veh 1 go false stop false clear false\n",
      "buffer ped ttc 4.5\n",
      "ego ttc 13.770563451216223\n",
      "has_crossed ttc-1.5\n",
      "min ped ttc 4.5\n",
      "braking! d = 1.2423901451881711\n",
      "veh 1 go false stop false clear false\n",
      "buffer ped ttc 4.5\n",
      "ego ttc 14.581122179429643\n",
      "has_crossed ttc-1.5\n",
      "min ped ttc 0.45931863762171865\n",
      "braking! d = 1.1632898336584816\n",
      "veh 1 go false stop false clear false\n",
      "buffer ped ttc 4.5\n",
      "ego ttc 15.449601069520334\n",
      "has_crossed ttc-1.5\n",
      "min ped ttc 0.1796593188108595\n",
      "braking! d = 1.0891218406513872\n",
      "veh 1 go false stop false clear false\n",
      "buffer ped ttc 4.5\n",
      "ego ttc 16.379853580226822\n",
      "has_crossed ttc-1.5\n",
      "min ped ttc -1.3393433953987124\n",
      "braking! d = 1.0195961367676567\n",
      "veh 1 go false stop false clear false\n",
      "buffer ped ttc 4.5\n",
      "ego ttc 17.376005423489413\n",
      "has_crossed ttc-1.5\n",
      "min ped ttc -0.04068136237827957\n",
      "braking! d = 0.9544367502842519\n",
      "veh 1 go false stop false clear false\n",
      "buffer ped ttc 4.5\n",
      "ego ttc 18.442474332155545\n",
      "has_crossed ttc-1.5\n",
      "min ped ttc -1.439343395398712\n",
      "braking! d = 0.893381609418622\n",
      "veh 1 go false stop false clear false\n",
      "buffer ped ttc 4.5\n",
      "ego ttc 19.583990710415737\n",
      "has_crossed ttc-1.5\n",
      "min ped ttc -0.12034068118914032\n",
      "braking! d = 0.8361822838174184\n",
      "veh 1 go false stop false clear false\n",
      "buffer ped ttc 4.5\n",
      "ego ttc 20.80561932427355\n",
      "has_crossed ttc-1.5\n",
      "min ped ttc -0.22034068118913996\n",
      "braking! d = 0.7826036444047588\n",
      "veh 1 go false stop false clear false\n",
      "buffer ped ttc 4.5\n",
      "ego ttc 22.11278221113616\n",
      "has_crossed ttc-1.5\n",
      "min ped ttc 2.3004606728057606\n",
      "braking! d = 0.732423459472848\n",
      "veh 1 go false stop false clear false\n",
      "buffer ped ttc 4.5\n",
      "ego ttc 23.511282991681586\n",
      "has_crossed ttc-1.5\n",
      "min ped ttc -0.32034068118913783\n",
      "braking! d = 0.6854319431206086\n",
      "veh 1 go false stop false clear false\n",
      "buffer ped ttc 4.5\n",
      "ego ttc 25.00733275965184\n",
      "has_crossed ttc-1.5\n",
      "min ped ttc 4.5\n",
      "braking! d = 0.6414312700909477\n",
      "veh 1 go false stop false clear false\n",
      "buffer ped ttc 4.5\n",
      "ego ttc 26.607577713673624\n",
      "has_crossed ttc-1.5\n",
      "min ped ttc -0.4203406811891366\n",
      "braking! d = 0.6002350689350742\n",
      "veh 1 go false stop false clear false\n",
      "buffer ped ttc 4.5\n",
      "ego ttc 28.319128685723268\n",
      "has_crossed ttc-1.5\n",
      "min ped ttc -0.5203406811891362\n",
      "braking! d = 0.5616679033983232\n",
      "veh 1 go false stop false clear false\n",
      "buffer ped ttc 4.5\n",
      "ego ttc 30.14959271651805\n",
      "has_crossed ttc-1.5\n",
      "min ped ttc 4.5\n",
      "braking! d = 0.5255647500711547\n",
      "veh 1 go false stop false clear false\n",
      "buffer ped ttc 4.5\n",
      "ego ttc 32.10710682921079\n",
      "has_crossed ttc-1.5\n",
      "min ped ttc -0.620340681189135\n",
      "braking! d = 0.4917704787256518\n",
      "veh 1 go false stop false clear false\n",
      "buffer ped ttc 4.5\n",
      "ego ttc 34.200374158001075\n",
      "has_crossed ttc-1.5\n",
      "min ped ttc -1.440681362378271\n",
      "braking! d = 0.46013934036932724\n",
      "veh 1 go false stop false clear false\n",
      "buffer ped ttc 4.5\n",
      "ego ttc 36.438702596219414\n",
      "has_crossed ttc-1.5\n",
      "min ped ttc 0.8002303364028815\n",
      "braking! d = 0.430534466881177\n",
      "veh 1 go false stop false clear false\n",
      "buffer ped ttc 4.5\n",
      "ego ttc 38.83204613813549\n",
      "has_crossed ttc-1.5\n",
      "min ped ttc 0.7002303364028819\n",
      "braking! d = 0.4028273851265638\n",
      "veh 1 go false stop false clear false\n",
      "buffer ped ttc 4.5\n",
      "ego ttc 41.39104909976774\n",
      "has_crossed ttc-1.5\n",
      "min ped ttc -0.8203406811891352\n",
      "braking! d = 0.37689754765219163\n",
      "veh 1 go false stop false clear false\n",
      "buffer ped ttc 4.5\n",
      "ego ttc 44.12709341613457\n",
      "has_crossed ttc-1.5\n",
      "min ped ttc -0.9203406811891339\n",
      "braking! d = 0.35263188141480484\n"
     ]
    },
    {
     "name": "stdout",
     "output_type": "stream",
     "text": [
      "veh 1 go false stop false clear false\n",
      "buffer ped ttc 4.5\n",
      "ego ttc 47.05234922568725\n",
      "has_crossed ttc-1.5\n",
      "min ped ttc 4.5\n",
      "braking! d = 0.32992435547480525\n",
      "veh 1 go false stop false clear false\n",
      "buffer ped ttc 4.5\n",
      "ego ttc 50.179828966987245\n",
      "has_crossed ttc-1.5\n",
      "min ped ttc -1.0203406811891327\n",
      "braking! d = 0.30867556816799535\n",
      "veh 1 go false stop false clear false\n",
      "buffer ped ttc 4.5\n",
      "ego ttc 53.52344522818597\n",
      "has_crossed ttc-1.5\n",
      "min ped ttc 0.9004606728057638\n",
      "braking! d = 0.28879235393772973\n",
      "veh 1 go false stop false clear false\n",
      "buffer ped ttc 4.5\n",
      "ego ttc 57.09807260641249\n",
      "has_crossed ttc-1.5\n",
      "min ped ttc 0.8004606728057642\n",
      "braking! d = 0.27018740975052324\n",
      "veh 1 go false stop false clear false\n",
      "buffer ped ttc 4.5\n",
      "ego ttc 60.91961385202448\n",
      "has_crossed ttc-1.5\n",
      "min ped ttc -1.220340681189131\n",
      "braking! d = 0.25277894081800767\n",
      "veh 1 go false stop false clear false\n",
      "buffer ped ttc 4.5\n",
      "ego ttc 65.00507059159825\n",
      "has_crossed ttc-1.5\n",
      "min ped ttc 4.5\n",
      "braking! d = 0.23649032519591984\n",
      "veh 1 go false stop false clear false\n",
      "buffer ped ttc 4.5\n",
      "ego ttc 69.37261894411974\n",
      "has_crossed ttc-1.5\n",
      "min ped ttc -1.3203406811891316\n",
      "braking! d = 0.2212497967179452\n",
      "veh 1 go false stop false clear false\n",
      "buffer ped ttc 4.5\n",
      "ego ttc 69.27261894411974\n",
      "has_crossed ttc-1.5\n",
      "min ped ttc 0.15023033640288386\n",
      "braking! d = 0.20651595798980082\n",
      "veh 1 go false stop false clear false\n",
      "buffer ped ttc 4.5\n",
      "ego ttc 95.3608187782023\n",
      "has_crossed ttc-1.5\n",
      "min ped ttc 4.5\n",
      "braking! d = 0.1938041788031022\n",
      "veh 1 go false stop false clear false\n",
      "buffer ped ttc 4.5\n",
      "ego ttc 61.671818957315146\n",
      "has_crossed ttc-1.5\n",
      "min ped ttc 4.5\n",
      "braking! d = 0.18020578765954554\n",
      "veh 1 go false stop false clear false\n",
      "buffer ped ttc 4.5\n",
      "ego ttc 0.0\n",
      "has_crossed ttc-1.5\n",
      "min ped ttc 0.10046067280576665\n",
      "veh 1 go true stop false clear true\n",
      "veh 1 go true stop false clear true\n",
      "veh 1 go true stop false clear true\n",
      "veh 1 go true stop false clear true\n",
      "veh 1 go true stop false clear true\n",
      "veh 1 go true stop false clear true\n",
      "veh 1 go true stop false clear true\n",
      "veh 1 go true stop false clear true\n",
      "veh 1 go true stop false clear true\n",
      "veh 1 go true stop false clear true\n",
      "veh 1 go true stop false clear true\n",
      "veh 1 go true stop false clear true\n",
      "veh 1 go true stop false clear true\n",
      "veh 1 go true stop false clear true\n",
      "veh 1 go true stop false clear true\n",
      "veh 1 go true stop false clear true\n",
      "veh 1 go true stop false clear true\n",
      "veh 1 go true stop false clear true\n",
      "veh 1 go true stop false clear true\n",
      "veh 1 go true stop false clear true\n",
      "veh 1 go true stop false clear true\n",
      "veh 1 go true stop false clear true\n",
      "veh 1 go true stop false clear true\n",
      "veh 1 go true stop false clear true\n",
      "veh 1 go true stop false clear true\n",
      "veh 1 go true stop false clear true\n",
      "veh 1 go true stop false clear true\n",
      "veh 1 go true stop false clear true\n",
      "veh 1 go true stop false clear true\n",
      "veh 1 go true stop false clear true\n",
      "veh 1 go true stop false clear true\n",
      "veh 1 go true stop false clear true\n",
      "veh 1 go true stop false clear true\n",
      "veh 1 go true stop false clear true\n",
      "veh 1 go true stop false clear true\n",
      "veh 1 go true stop false clear true\n",
      "veh 1 go true stop false clear true\n",
      "veh 1 go true stop false clear true\n",
      "veh 1 go true stop false clear true\n",
      "veh 1 go true stop false clear true\n",
      "veh 1 go true stop false clear true\n",
      "veh 1 go true stop false clear true\n",
      "veh 1 go true stop false clear true\n",
      "veh 1 go true stop false clear true\n",
      "veh 1 go true stop false clear true\n",
      "veh 1 go true stop false clear true\n",
      "veh 1 go true stop false clear true\n",
      "veh 1 go true stop false clear true\n",
      "veh 1 go true stop false clear true\n",
      "veh 1 go true stop false clear true\n",
      "veh 1 go true stop false clear true\n",
      "veh 1 go true stop false clear true\n",
      "veh 1 go true stop false clear true\n",
      "veh 1 go true stop false clear true\n",
      "veh 1 go true stop false clear true\n",
      "veh 1 go true stop false clear true\n",
      "veh 1 go true stop false clear true\n",
      "veh 1 go true stop false clear true\n",
      "veh 1 go true stop false clear true\n",
      "veh 1 go true stop false clear true\n",
      "veh 1 go true stop false clear true\n",
      "veh 1 go true stop false clear true\n",
      "veh 1 go true stop false clear true\n",
      "veh 1 go true stop false clear true\n",
      "veh 1 go true stop false clear true\n",
      "veh 1 go true stop false clear true\n",
      "veh 1 go true stop false clear true\n",
      "veh 1 go true stop false clear true\n",
      "veh 1 go true stop false clear true\n",
      "veh 1 go true stop false clear true\n",
      "veh 1 go true stop false clear true\n",
      "veh 1 go true stop false clear true\n",
      "veh 1 go true stop false clear true\n",
      "veh 1 go true stop false clear true\n",
      "veh 1 go true stop false clear true\n",
      "veh 1 go true stop false clear true\n",
      "veh 1 go true stop false clear true\n",
      "veh 1 go true stop false clear true\n",
      "veh 1 go true stop false clear true\n",
      "veh 1 go true stop false clear true\n",
      "veh 1 go true stop false clear true\n",
      "veh 1 go true stop false clear true\n",
      "veh 1 go true stop false clear true\n",
      "veh 1 go true stop false clear true\n",
      "veh 1 go true stop false clear true\n",
      "veh 1 go true stop false clear true\n",
      "veh 1 go true stop false clear true\n",
      "veh 1 go true stop false clear true\n",
      "veh 1 go true stop false clear true\n",
      "veh 1 go true stop false clear true\n",
      "veh 1 go true stop false clear true\n",
      "veh 1 go true stop false clear true\n",
      "veh 1 go true stop false clear true\n",
      "veh 1 go true stop false clear true\n",
      "veh 1 go true stop false clear true\n",
      "veh 1 go true stop false clear true\n",
      "veh 1 go true stop false clear true\n",
      "veh 1 go true stop false clear true\n",
      "veh 1 go true stop false clear true\n",
      "veh 1 go true stop false clear true\n",
      "veh 1 go true stop false clear true\n",
      "veh 1 go true stop false clear true\n",
      "veh 1 go true stop false clear true\n",
      "veh 1 go true stop false clear true\n",
      "veh 1 go true stop false clear true\n",
      "veh 1 go true stop false clear true\n",
      "veh 1 go true stop false clear true\n",
      "veh 1 go true stop false clear true\n",
      "veh 1 go true stop false clear true\n",
      "veh 1 go true stop false clear true\n",
      "veh 1 go true stop false clear true\n",
      "veh 1 go true stop false clear true\n",
      "veh 1 go true stop false clear true\n",
      "veh 1 go true stop false clear true\n",
      "veh 1 go true stop false clear true\n",
      "veh 1 go true stop false clear true\n",
      "veh 1 go true stop false clear true\n",
      "veh 1 go true stop false clear true\n",
      "veh 1 go true stop false clear true\n",
      "veh 1 go true stop false clear true\n",
      "veh 1 go true stop false clear true\n",
      "veh 1 go true stop false clear true\n",
      "veh 1 go true stop false clear true\n",
      "veh 1 go true stop false clear true\n",
      "veh 1 go true stop false clear true\n",
      "veh 1 go true stop false clear true\n",
      "veh 1 go true stop false clear true\n",
      "  0.778559 seconds (226.51 k allocations: 10.598 MiB)\n"
     ]
    },
    {
     "data": {
      "text/plain": [
       "SceneRecord(nscenes=201)"
      ]
     },
     "execution_count": 50,
     "metadata": {},
     "output_type": "execute_result"
    }
   ],
   "source": [
    "scene = Scene()\n",
    "models = Dict{Int, DriverModel}()\n",
    "for i=1:5\n",
    "    ped = initial_pedestrian(pomdp, scene, rng, true)\n",
    "    push!(scene, ped)\n",
    "    models[ped.id] = ConstantPedestrian()\n",
    "end\n",
    "car = initial_ego(pomdp, rng)\n",
    "push!(scene, car)\n",
    "\n",
    "timestep = 0.1\n",
    "\n",
    "\n",
    "models[1] = CrosswalkDriver(crosswalk = pomdp.env.crosswalk,\n",
    "                            intersect = get_lane(pomdp.env.roadway, car))\n",
    "\n",
    "\n",
    "nticks = 200\n",
    "rec = SceneRecord(nticks+1, timestep)\n",
    "@time simulate!(rec, scene, pomdp.env.roadway, models, nticks)"
   ]
  },
  {
   "cell_type": "code",
   "execution_count": 51,
   "metadata": {},
   "outputs": [
    {
     "data": {
      "text/html": [
       "<video autoplay controls><source src=\"files/reel-4508111771511113844.webm?14873672736904638215\" type=\"video/webm\"></video>"
      ],
      "text/plain": [
       "Reel.Frames{MIME{Symbol(\"image/png\")}}(\"C:\\\\Users\\\\Maxime\\\\AppData\\\\Local\\\\Temp\\\\jl_C82.tmp\", 0x00000000000000c9, 10.0, nothing)"
      ]
     },
     "execution_count": 51,
     "metadata": {},
     "output_type": "execute_result"
    }
   ],
   "source": [
    "cam = FitToContentCamera(0.)\n",
    "duration, fps, render_rec = animate_record(pomdp.env, rec, sim_dt=timestep)\n",
    "film = roll(render_rec, fps = fps, duration = duration)"
   ]
  },
  {
   "cell_type": "markdown",
   "metadata": {},
   "source": [
    "## Scenario 3 : Single agent intersection\n",
    "\n",
    "Explicit formulation with transition and observation probability distribution. Only support one vehicle"
   ]
  },
  {
   "cell_type": "code",
   "execution_count": 18,
   "metadata": {
    "scrolled": true
   },
   "outputs": [
    {
     "data": {
      "text/plain": [
       "animate_hist (generic function with 3 methods)"
      ]
     },
     "execution_count": 18,
     "metadata": {},
     "output_type": "execute_result"
    }
   ],
   "source": [
    "include(\"single_intersection/occluded_intersection_env.jl\")\n",
    "include(\"single_intersection/pomdp_types.jl\")\n",
    "include(\"single_intersection/spaces.jl\")\n",
    "include(\"single_intersection/transition.jl\")\n",
    "include(\"single_intersection/observation.jl\")\n",
    "include(\"single_intersection/belief.jl\")\n",
    "include(\"single_intersection/render_helpers.jl\")"
   ]
  },
  {
   "cell_type": "code",
   "execution_count": 19,
   "metadata": {
    "collapsed": true
   },
   "outputs": [],
   "source": [
    "pomdp = SingleOIPOMDP();"
   ]
  },
  {
   "cell_type": "code",
   "execution_count": 20,
   "metadata": {
    "collapsed": true
   },
   "outputs": [],
   "source": [
    "policy = solve(RandomSolver(rng), pomdp)\n",
    "up = updater(policy);"
   ]
  },
  {
   "cell_type": "code",
   "execution_count": 21,
   "metadata": {
    "collapsed": true
   },
   "outputs": [],
   "source": [
    "hr = HistoryRecorder(rng=rng, max_steps=100)\n",
    "hist = simulate(hr, pomdp, policy, up);"
   ]
  },
  {
   "cell_type": "code",
   "execution_count": 22,
   "metadata": {},
   "outputs": [
    {
     "data": {
      "text/html": [
       "<video autoplay controls><source src=\"files/reel-14783928084962831388.webm?9914665376872798574\" type=\"video/webm\"></video>"
      ],
      "text/plain": [
       "Reel.Frames{MIME{Symbol(\"image/png\")}}(\"C:\\\\Users\\\\Maxime\\\\AppData\\\\Local\\\\Temp\\\\jl_FC43.tmp\", 0x000000000000000c, 2.0, nothing)"
      ]
     },
     "execution_count": 22,
     "metadata": {},
     "output_type": "execute_result"
    }
   ],
   "source": [
    "duration, fps, render_hist = animate_hist(pomdp, hist)\n",
    "film = roll(render_hist, fps = fps, duration = duration)"
   ]
  },
  {
   "cell_type": "markdown",
   "metadata": {},
   "source": [
    "## Scenario 4 - Multi Lane Multi agent intersection"
   ]
  },
  {
   "cell_type": "code",
   "execution_count": 22,
   "metadata": {
    "collapsed": true,
    "scrolled": true
   },
   "outputs": [],
   "source": [
    "# include(\"multi_lane_T_intersection/multi_lane_T_env.jl\")\n",
    "include(\"multi_lane_T_intersection/pomdp_types.jl\")\n",
    "include(\"multi_lane_T_intersection/generative_model.jl\")\n",
    "include(\"multi_lane_T_intersection/render_helpers.jl\")"
   ]
  },
  {
   "cell_type": "code",
   "execution_count": 23,
   "metadata": {},
   "outputs": [
    {
     "name": "stderr",
     "output_type": "stream",
     "text": [
      "13-Feb 12:45:00:WARNING:root:replacing docs for 'grow_wait_list! :: Tuple{IntersectionDriver,Records.Frame{Records.Entity{AutomotiveDrivingModels.VehicleState,AutomotiveDrivingModels.VehicleDef,Int64}},AutomotiveDrivingModels.Roadway,Int64}' in module 'Main'.\n",
      "13-Feb 12:45:00:WARNING:root:replacing docs for 'ungrow_wait_list! :: Tuple{IntersectionDriver,Records.Frame{Records.Entity{AutomotiveDrivingModels.VehicleState,AutomotiveDrivingModels.VehicleDef,Int64}},AutomotiveDrivingModels.Roadway,Int64}' in module 'Main'.\n",
      "13-Feb 12:45:00:WARNING:root:replacing docs for 'tts :: Tuple{Float64,Float64}' in module 'Main'.\n",
      "13-Feb 12:45:00:WARNING:root:replacing docs for 'is_at_intersection :: Tuple{IntersectionDriver,Records.Entity{AutomotiveDrivingModels.VehicleState,AutomotiveDrivingModels.VehicleDef,Int64},AutomotiveDrivingModels.Roadway}' in module 'Main'.\n",
      "13-Feb 12:45:00:WARNING:root:replacing docs for 'update_priority! :: Tuple{IntersectionDriver,Records.Frame{Records.Entity{AutomotiveDrivingModels.VehicleState,AutomotiveDrivingModels.VehicleDef,Int64}},AutomotiveDrivingModels.Roadway,Int64}' in module 'Main'.\n",
      "13-Feb 12:45:00:WARNING:root:replacing docs for 'update_stop! :: Tuple{IntersectionDriver,Records.Entity{AutomotiveDrivingModels.VehicleState,AutomotiveDrivingModels.VehicleDef,Int64},AutomotiveDrivingModels.Roadway}' in module 'Main'.\n",
      "13-Feb 12:45:00:WARNING:root:replacing docs for 'get_dist_to_end :: Tuple{Records.Entity{AutomotiveDrivingModels.VehicleState,AutomotiveDrivingModels.VehicleDef,Int64},AutomotiveDrivingModels.Roadway}' in module 'Main'.\n"
     ]
    },
    {
     "data": {
      "text/plain": [
       "get_dist_to_end"
      ]
     },
     "execution_count": 23,
     "metadata": {},
     "output_type": "execute_result"
    }
   ],
   "source": [
    "include(\"driver_models/intersection_driver.jl\")"
   ]
  },
  {
   "cell_type": "code",
   "execution_count": 24,
   "metadata": {
    "collapsed": true
   },
   "outputs": [],
   "source": [
    "env = IntersectionEnv(TInterParams(nlanes_main = 1))\n",
    "pomdp = OIPOMDP(env=env, ΔT=0.5, max_cars=10);"
   ]
  },
  {
   "cell_type": "code",
   "execution_count": 25,
   "metadata": {
    "collapsed": true
   },
   "outputs": [],
   "source": [
    "policy = solve(RandomSolver(rng), pomdp)\n",
    "up = updater(policy);\n",
    "\n",
    "mutable struct AccelPolicy <: Policy\n",
    "    problem::OIPOMDP\n",
    "end\n",
    "policy = AccelPolicy(pomdp)\n",
    "function POMDPs.action(policy::AccelPolicy, b::Void)\n",
    "    return actions(policy.problem)[2]\n",
    "end"
   ]
  },
  {
   "cell_type": "code",
   "execution_count": 26,
   "metadata": {
    "scrolled": true
   },
   "outputs": [
    {
     "name": "stdout",
     "output_type": "stream",
     "text": [
      "  0.813984 seconds (258.71 k allocations: 15.411 MiB, 1.11% gc time)\n"
     ]
    }
   ],
   "source": [
    "hr = HistoryRecorder(rng=rng, max_steps=100)\n",
    "@time hist = simulate(hr, pomdp, policy, up);"
   ]
  },
  {
   "cell_type": "code",
   "execution_count": 27,
   "metadata": {
    "scrolled": false
   },
   "outputs": [
    {
     "data": {
      "text/html": [
       "<video autoplay controls><source src=\"files/reel-9253763945055498705.webm?3819679143924205673\" type=\"video/webm\"></video>"
      ],
      "text/plain": [
       "Reel.Frames{MIME{Symbol(\"image/png\")}}(\"C:\\\\Users\\\\Maxime\\\\AppData\\\\Local\\\\Temp\\\\jl_37A2.tmp\", 0x0000000000000064, 2.0, nothing)"
      ]
     },
     "execution_count": 27,
     "metadata": {},
     "output_type": "execute_result"
    }
   ],
   "source": [
    "duration, fps, render_hist = animate_hist(pomdp, hist, [IDOverlay()])\n",
    "film = roll(render_hist, fps = fps, duration = duration)"
   ]
  },
  {
   "cell_type": "code",
   "execution_count": 29,
   "metadata": {},
   "outputs": [
    {
     "data": {
      "text/html": [
       "<div id=\"interact-js-shim\">\n",
       "    <script charset=\"utf-8\">\r\n",
       "(function (IPython, $, _, MathJax) {\r\n",
       "    $.event.special.destroyed = {\r\n",
       "\tremove: function(o) {\r\n",
       "\t    if (o.handler) {\r\n",
       "\t\to.handler.apply(this, arguments)\r\n",
       "\t    }\r\n",
       "\t}\r\n",
       "    }\r\n",
       "\r\n",
       "    var OutputArea = IPython.version >= \"4.0.0\" ? require(\"notebook/js/outputarea\").OutputArea : IPython.OutputArea;\r\n",
       "\r\n",
       "    var redrawValue = function (container, type, val) {\r\n",
       "\tvar selector = $(\"<div/>\");\r\n",
       "\tvar oa = new OutputArea(_.extend(selector, {\r\n",
       "\t    selector: selector,\r\n",
       "\t    prompt_area: true,\r\n",
       "\t    events: IPython.events,\r\n",
       "\t    keyboard_manager: IPython.keyboard_manager\r\n",
       "\t})); // Hack to work with IPython 2.1.0\r\n",
       "\r\n",
       "\tswitch (type) {\r\n",
       "\tcase \"image/png\":\r\n",
       "            var _src = 'data:' + type + ';base64,' + val;\r\n",
       "\t    $(container).find(\"img\").attr('src', _src);\r\n",
       "\t    break;\r\n",
       "\tcase \"text/latex\":\r\n",
       "\t\tif (MathJax){\r\n",
       "\t\t\tvar math = MathJax.Hub.getAllJax(container)[0];\r\n",
       "\t\t\tMathJax.Hub.Queue([\"Text\", math, val.replace(/^\\${1,2}|\\${1,2}$/g, '')]);\r\n",
       "\t\t\tbreak;\r\n",
       "\t\t}\r\n",
       "\tdefault:\r\n",
       "\t    var toinsert = OutputArea.append_map[type].apply(\r\n",
       "\t\toa, [val, {}, selector]\r\n",
       "\t    );\r\n",
       "\t    $(container).empty().append(toinsert.contents());\r\n",
       "\t    selector.remove();\r\n",
       "\t}\r\n",
       "    }\r\n",
       "\r\n",
       "\r\n",
       "    $(document).ready(function() {\r\n",
       "\tfunction initComm(evt, data) {\r\n",
       "\t    var comm_manager = data.kernel.comm_manager;\r\n",
       "        //_.extend(comm_manager.targets, require(\"widgets/js/widget\"))\r\n",
       "\t    comm_manager.register_target(\"Signal\", function (comm) {\r\n",
       "            comm.on_msg(function (msg) {\r\n",
       "                var val = msg.content.data.value;\r\n",
       "                $(\".signal-\" + comm.comm_id).each(function() {\r\n",
       "                var type = $(this).data(\"type\");\r\n",
       "                if (typeof(val[type]) !== \"undefined\" && val[type] !== null) {\r\n",
       "                    redrawValue(this, type, val[type], type);\r\n",
       "                }\r\n",
       "                });\r\n",
       "                delete val;\r\n",
       "                delete msg.content.data.value;\r\n",
       "            });\r\n",
       "\t    });\r\n",
       "\r\n",
       "\t    // coordingate with Comm and redraw Signals\r\n",
       "\t    // XXX: Test using Reactive here to improve performance\r\n",
       "\t    $([IPython.events]).on(\r\n",
       "\t\t'output_appended.OutputArea', function (event, type, value, md, toinsert) {\r\n",
       "\t\t    if (md && md.reactive) {\r\n",
       "                // console.log(md.comm_id);\r\n",
       "                toinsert.addClass(\"signal-\" + md.comm_id);\r\n",
       "                toinsert.data(\"type\", type);\r\n",
       "                // Signal back indicating the mimetype required\r\n",
       "                var comm_manager = IPython.notebook.kernel.comm_manager;\r\n",
       "                var comm = comm_manager.comms[md.comm_id];\r\n",
       "                comm.then(function (c) {\r\n",
       "                    c.send({action: \"subscribe_mime\",\r\n",
       "                       mime: type});\r\n",
       "                    toinsert.bind(\"destroyed\", function() {\r\n",
       "                        c.send({action: \"unsubscribe_mime\",\r\n",
       "                               mime: type});\r\n",
       "                    });\r\n",
       "                })\r\n",
       "\t\t    }\r\n",
       "\t    });\r\n",
       "\t}\r\n",
       "\r\n",
       "\ttry {\r\n",
       "\t    // try to initialize right away. otherwise, wait on the status_started event.\r\n",
       "\t    initComm(undefined, IPython.notebook);\r\n",
       "\t} catch (e) {\r\n",
       "\t    $([IPython.events]).on('kernel_created.Kernel kernel_created.Session', initComm);\r\n",
       "\t}\r\n",
       "    });\r\n",
       "})(IPython, jQuery, _, MathJax);\r\n",
       "</script>\n",
       "    <script>\n",
       "        window.interactLoadedFlag = true\n",
       "       $(\"#interact-js-shim\").bind(\"destroyed\", function () {\n",
       "           if (window.interactLoadedFlag) {\n",
       "               console.warn(\"JavaScript required by Interact will be removed if you remove this cell or run using Interact more than once.\")\n",
       "           }\n",
       "       })\n",
       "       $([IPython.events]).on(\"kernel_starting.Kernel kernel_restarting.Kernel\", function () { window.interactLoadedFlag = false })\n",
       "   </script>\n",
       "</div>"
      ]
     },
     "metadata": {},
     "output_type": "display_data"
    },
    {
     "data": {
      "image/png": "[encoded data removed]",
      "text/plain": [
       "Cairo.CairoSurface{UInt32}(Ptr{Void} @0x00000000239056a0, 1000.0, 600.0, #undef)"
      ]
     },
     "execution_count": 29,
     "metadata": {},
     "output_type": "execute_result"
    }
   ],
   "source": [
    "using Interact\n",
    "\n",
    "scene = Scene()\n",
    "\n",
    "type LaneOverlay <: SceneOverlay\n",
    "    lane::Lane\n",
    "    color::Colorant\n",
    "end\n",
    "function AutoViz.render!(rendermodel::RenderModel, overlay::LaneOverlay, scene::Scene, roadway::Roadway)\n",
    "    render!(rendermodel, overlay.lane, roadway, color_asphalt=overlay.color)\n",
    "    return rendermodel\n",
    "end\n",
    "\n",
    "# @manipulate for i in 1 : length(env.roadway.segments)\n",
    "#     AutoViz.render(scene, env.roadway, [LaneOverlay(env.roadway[LaneTag(i,1)], RGBA(0.0,0.0,1.0,0.5))], cam=FitToContentCamera(0.))\n",
    "# end\n",
    "\n",
    "i=15\n",
    "AutoViz.render(scene, env.roadway, [LaneOverlay(env.roadway[LaneTag(i,1)], RGBA(0.0,0.0,1.0,0.5))], cam=FitToContentCamera(0.))"
   ]
  },
  {
   "cell_type": "code",
   "execution_count": 30,
   "metadata": {},
   "outputs": [
    {
     "name": "stderr",
     "output_type": "stream",
     "text": [
      "13-Feb 09:32:27:WARNING:root:replacing docs for 'grow_wait_list! :: Tuple{IntersectionDriver,Records.Frame{Records.Entity{AutomotiveDrivingModels.VehicleState,AutomotiveDrivingModels.VehicleDef,Int64}},AutomotiveDrivingModels.Roadway,Int64}' in module 'Main'.\n",
      "13-Feb 09:32:27:WARNING:root:replacing docs for 'ungrow_wait_list! :: Tuple{IntersectionDriver,Records.Frame{Records.Entity{AutomotiveDrivingModels.VehicleState,AutomotiveDrivingModels.VehicleDef,Int64}},AutomotiveDrivingModels.Roadway,Int64}' in module 'Main'.\n",
      "13-Feb 09:32:27:WARNING:root:replacing docs for 'tts :: Tuple{Float64,Float64}' in module 'Main'.\n",
      "13-Feb 09:32:27:WARNING:root:replacing docs for 'is_at_intersection :: Tuple{IntersectionDriver,Records.Entity{AutomotiveDrivingModels.VehicleState,AutomotiveDrivingModels.VehicleDef,Int64},AutomotiveDrivingModels.Roadway}' in module 'Main'.\n",
      "13-Feb 09:32:27:WARNING:root:replacing docs for 'update_priority! :: Tuple{IntersectionDriver,Records.Frame{Records.Entity{AutomotiveDrivingModels.VehicleState,AutomotiveDrivingModels.VehicleDef,Int64}},AutomotiveDrivingModels.Roadway,Int64}' in module 'Main'.\n",
      "13-Feb 09:32:27:WARNING:root:replacing docs for 'update_stop! :: Tuple{IntersectionDriver,Records.Entity{AutomotiveDrivingModels.VehicleState,AutomotiveDrivingModels.VehicleDef,Int64},AutomotiveDrivingModels.Roadway}' in module 'Main'.\n",
      "13-Feb 09:32:27:WARNING:root:replacing docs for 'get_dist_to_end :: Tuple{Records.Entity{AutomotiveDrivingModels.VehicleState,AutomotiveDrivingModels.VehicleDef,Int64},AutomotiveDrivingModels.Roadway}' in module 'Main'.\n"
     ]
    },
    {
     "data": {
      "text/plain": [
       "get_dist_to_end"
      ]
     },
     "execution_count": 30,
     "metadata": {},
     "output_type": "execute_result"
    }
   ],
   "source": [
    "include(\"driver_models/intersection_driver.jl\")"
   ]
  },
  {
   "cell_type": "code",
   "execution_count": 31,
   "metadata": {},
   "outputs": [
    {
     "ename": "LoadError",
     "evalue": "\u001b[91mUndefVarError: lane not defined\u001b[39m",
     "output_type": "error",
     "traceback": [
      "\u001b[91mUndefVarError: lane not defined\u001b[39m",
      "",
      "Stacktrace:",
      " [1] \u001b[1mmacro expansion\u001b[22m\u001b[22m at \u001b[1m.\\In[31]:13\u001b[22m\u001b[22m [inlined]",
      " [2] \u001b[1manonymous\u001b[22m\u001b[22m at \u001b[1m.\\<missing>:?\u001b[22m\u001b[22m",
      " [3] \u001b[1minclude_string\u001b[22m\u001b[22m\u001b[1m(\u001b[22m\u001b[22m::String, ::String\u001b[1m)\u001b[22m\u001b[22m at \u001b[1m.\\loading.jl:515\u001b[22m\u001b[22m"
     ]
    }
   ],
   "source": [
    "scene = Scene()\n",
    "for i = 1:20\n",
    "    veh = initial_car(pomdp, scene, rng, true)\n",
    "    push!(scene, veh)\n",
    "end\n",
    "clean_scene!(pomdp.env, scene)\n",
    "\n",
    "timestep = 0.1\n",
    "\n",
    "models = Dict{Int, DriverModel}()\n",
    "# constant speed model\n",
    "for veh in scene\n",
    "    route = random_route(rng, env.roadway, lane)\n",
    "    intersection_entrances = get_start_lanes(env.roadway)\n",
    "    intersection_exits = get_exit_lanes(intersection_entrances, env.roadway)\n",
    "    models[veh.id] = IntersectionDriver(navigator=RouteFollowingIDM(route=route),\n",
    "                                   intersection=Lane[route[1], route[2]], \n",
    "                                   intersection_entrances = intersection_entrances,\n",
    "                                   intersection_exits = intersection_exits,\n",
    "                                   stop_delta=0.,\n",
    "                                   accel_tol=0.)\n",
    "end\n",
    "# models[0] = RouteFollowingIDM(route=route)\n",
    "\n",
    "nticks = 100\n",
    "rec = SceneRecord(nticks+1, timestep)\n",
    "@time simulate!(rec, scene, env.roadway, models, nticks)"
   ]
  },
  {
   "cell_type": "code",
   "execution_count": 32,
   "metadata": {},
   "outputs": [
    {
     "ename": "LoadError",
     "evalue": "\u001b[91mMethodError: no method matching render(::Records.Frame{Records.Entity{AutomotiveDrivingModels.VehicleState,AutomotiveDrivingModels.VehicleDef,Int64}}, ::Array{AutoViz.SceneOverlay,1}, ::IntersectionEnv; cam=AutoViz.FitToContentCamera(0.0), car_colors=Dict{Int64,ColorTypes.Colorant}(Pair{Int64,ColorTypes.Colorant}(7, RGB{N0f8}(1.0,0.0,0.498)),Pair{Int64,ColorTypes.Colorant}(13, RGB{N0f8}(1.0,0.0,0.498)),Pair{Int64,ColorTypes.Colorant}(10, RGB{N0f8}(1.0,0.0,0.498)),Pair{Int64,ColorTypes.Colorant}(2, RGB{N0f8}(1.0,0.0,0.498)),Pair{Int64,ColorTypes.Colorant}(3, RGB{N0f8}(1.0,0.0,0.498)),Pair{Int64,ColorTypes.Colorant}(19, RGB{N0f8}(1.0,0.0,0.498)),Pair{Int64,ColorTypes.Colorant}(17, RGB{N0f8}(1.0,0.0,0.498)),Pair{Int64,ColorTypes.Colorant}(5, RGB{N0f8}(1.0,0.0,0.498)),Pair{Int64,ColorTypes.Colorant}(8, RGB{N0f8}(1.0,0.0,0.498))))\u001b[0m\nClosest candidates are:\n  render(::Records.Frame{Records.Entity{S,D,I}}, ::R; canvas_width, canvas_height, rendermodel, cam, car_colors) where {S, D, I, R} at C:\\Users\\Maxime\\.julia\\v0.6\\AutoViz\\src\\interface.jl:60\n  render(::Records.Frame{Records.Entity{S,D,I}}, ::R, \u001b[91m::AbstractArray{O<:AutoViz.SceneOverlay,1}\u001b[39m; canvas_width, canvas_height, rendermodel, cam, car_colors) where {S, D, I, O<:AutoViz.SceneOverlay, R} at C:\\Users\\Maxime\\.julia\\v0.6\\AutoViz\\src\\overlays.jl:25\n  render(\u001b[91m::Cairo.CairoContext\u001b[39m, \u001b[91m::Records.Frame{Records.Entity{S,D,I}}\u001b[39m, ::R; rendermodel, cam, car_colors) where {S, D, I, R} at C:\\Users\\Maxime\\.julia\\v0.6\\AutoViz\\src\\interface.jl:39\n  ...\u001b[39m",
     "output_type": "error",
     "traceback": [
      "\u001b[91mMethodError: no method matching render(::Records.Frame{Records.Entity{AutomotiveDrivingModels.VehicleState,AutomotiveDrivingModels.VehicleDef,Int64}}, ::Array{AutoViz.SceneOverlay,1}, ::IntersectionEnv; cam=AutoViz.FitToContentCamera(0.0), car_colors=Dict{Int64,ColorTypes.Colorant}(Pair{Int64,ColorTypes.Colorant}(7, RGB{N0f8}(1.0,0.0,0.498)),Pair{Int64,ColorTypes.Colorant}(13, RGB{N0f8}(1.0,0.0,0.498)),Pair{Int64,ColorTypes.Colorant}(10, RGB{N0f8}(1.0,0.0,0.498)),Pair{Int64,ColorTypes.Colorant}(2, RGB{N0f8}(1.0,0.0,0.498)),Pair{Int64,ColorTypes.Colorant}(3, RGB{N0f8}(1.0,0.0,0.498)),Pair{Int64,ColorTypes.Colorant}(19, RGB{N0f8}(1.0,0.0,0.498)),Pair{Int64,ColorTypes.Colorant}(17, RGB{N0f8}(1.0,0.0,0.498)),Pair{Int64,ColorTypes.Colorant}(5, RGB{N0f8}(1.0,0.0,0.498)),Pair{Int64,ColorTypes.Colorant}(8, RGB{N0f8}(1.0,0.0,0.498))))\u001b[0m\nClosest candidates are:\n  render(::Records.Frame{Records.Entity{S,D,I}}, ::R; canvas_width, canvas_height, rendermodel, cam, car_colors) where {S, D, I, R} at C:\\Users\\Maxime\\.julia\\v0.6\\AutoViz\\src\\interface.jl:60\n  render(::Records.Frame{Records.Entity{S,D,I}}, ::R, \u001b[91m::AbstractArray{O<:AutoViz.SceneOverlay,1}\u001b[39m; canvas_width, canvas_height, rendermodel, cam, car_colors) where {S, D, I, O<:AutoViz.SceneOverlay, R} at C:\\Users\\Maxime\\.julia\\v0.6\\AutoViz\\src\\overlays.jl:25\n  render(\u001b[91m::Cairo.CairoContext\u001b[39m, \u001b[91m::Records.Frame{Records.Entity{S,D,I}}\u001b[39m, ::R; rendermodel, cam, car_colors) where {S, D, I, R} at C:\\Users\\Maxime\\.julia\\v0.6\\AutoViz\\src\\interface.jl:39\n  ...\u001b[39m",
      "",
      "Stacktrace:",
      " [1] \u001b[1m#roll#7\u001b[22m\u001b[22m\u001b[1m(\u001b[22m\u001b[22m::Int64, ::Float64, ::Function, ::#render_rec#40{AutoViz.FitToContentCamera,Records.QueueRecord{Records.Entity{AutomotiveDrivingModels.VehicleState,AutomotiveDrivingModels.VehicleDef,Int64}},IntersectionEnv,Array{AutoViz.SceneOverlay,1}}\u001b[1m)\u001b[22m\u001b[22m at \u001b[1mC:\\Users\\Maxime\\.julia\\v0.6\\Reel\\src\\Reel.jl:97\u001b[22m\u001b[22m",
      " [2] \u001b[1m(::Reel.#kw##roll)\u001b[22m\u001b[22m\u001b[1m(\u001b[22m\u001b[22m::Array{Any,1}, ::Reel.#roll, ::Function\u001b[1m)\u001b[22m\u001b[22m at \u001b[1m.\\<missing>:0\u001b[22m\u001b[22m",
      " [3] \u001b[1minclude_string\u001b[22m\u001b[22m\u001b[1m(\u001b[22m\u001b[22m::String, ::String\u001b[1m)\u001b[22m\u001b[22m at \u001b[1m.\\loading.jl:515\u001b[22m\u001b[22m"
     ]
    }
   ],
   "source": [
    "duration, fps, render_rec = animate_record(rec, env, sim_dt=timestep)\n",
    "film = roll(render_rec, fps = fps, duration = duration)"
   ]
  },
  {
   "cell_type": "code",
   "execution_count": 33,
   "metadata": {},
   "outputs": [
    {
     "data": {
      "text/plain": [
       "6-element Array{AutomotiveDrivingModels.Lane,1}:\n",
       " AutomotiveDrivingModels.Lane(LaneTag(9, 1), AutomotiveDrivingModels.CurvePt[CurvePt({6.000, 1.500, 3.142}, 0.000, 0.000, 0.000), CurvePt({4.000, 1.500, 3.142}, 2.000, 0.000, 0.000)], 3.0, AutomotiveDrivingModels.SpeedLimit(-Inf, Inf), AutomotiveDrivingModels.LaneBoundary(:solid, :white), AutomotiveDrivingModels.LaneBoundary(:solid, :white), AutomotiveDrivingModels.LaneConnection[LaneConnection(D, CurveIndex(1, 1.000), RoadIndex({1, 0.000000}, {10, 1}), LaneConnection(D, CurveIndex(1, 1.000), RoadIndex({1, 0.000000}, {10, 1})], AutomotiveDrivingModels.LaneConnection[LaneConnection(U, CurveIndex(1, 0.000), RoadIndex({1, 1.000000}, {1, 1})])                                                                                                                                                                                                                                                                                                                                                                                                                                                                                                                                                                                                                                                                                                                                                                                                                                                                                                                                                                                                                                        \n",
       " AutomotiveDrivingModels.Lane(LaneTag(7, 1), AutomotiveDrivingModels.CurvePt[CurvePt({6.000, 1.500, 3.142}, 0.000, 0.000, 0.000), CurvePt({-6.000, 1.500, 3.142}, 12.000, 0.000, 0.000)], 3.0, AutomotiveDrivingModels.SpeedLimit(-Inf, Inf), AutomotiveDrivingModels.LaneBoundary(:solid, :white), AutomotiveDrivingModels.LaneBoundary(:solid, :white), AutomotiveDrivingModels.LaneConnection[LaneConnection(D, CurveIndex(1, 1.000), RoadIndex({1, 0.000000}, {2, 1})], AutomotiveDrivingModels.LaneConnection[LaneConnection(U, CurveIndex(1, 0.000), RoadIndex({1, 1.000000}, {1, 1})])                                                                                                                                                                                                                                                                                                                                                                                                                                                                                                                                                                                                                                                                                                                                                                                                                                                                                                                                                                                                                                                                                                                  \n",
       " AutomotiveDrivingModels.Lane(LaneTag(11, 1), AutomotiveDrivingModels.CurvePt[CurvePt({-6.000, -1.500, 0.000}, 0.000, 0.000, 0.000), CurvePt({-4.000, -1.500, 0.000}, 2.000, 0.000, 0.000)], 3.0, AutomotiveDrivingModels.SpeedLimit(-Inf, Inf), AutomotiveDrivingModels.LaneBoundary(:solid, :white), AutomotiveDrivingModels.LaneBoundary(:solid, :white), AutomotiveDrivingModels.LaneConnection[LaneConnection(D, CurveIndex(1, 1.000), RoadIndex({1, 0.000000}, {12, 1}), LaneConnection(D, CurveIndex(1, 1.000), RoadIndex({1, 0.000000}, {12, 1})], AutomotiveDrivingModels.LaneConnection[LaneConnection(U, CurveIndex(1, 0.000), RoadIndex({1, 1.000000}, {3, 1})])                                                                                                                                                                                                                                                                                                                                                                                                                                                                                                                                                                                                                                                                                                                                                                                                                                                                                                                                                                                                                                   \n",
       " AutomotiveDrivingModels.Lane(LaneTag(8, 1), AutomotiveDrivingModels.CurvePt[CurvePt({-6.000, -1.500, 0.000}, 0.000, 0.000, 0.000), CurvePt({6.000, -1.500, 0.000}, 12.000, 0.000, 0.000)], 3.0, AutomotiveDrivingModels.SpeedLimit(-Inf, Inf), AutomotiveDrivingModels.LaneBoundary(:solid, :white), AutomotiveDrivingModels.LaneBoundary(:solid, :white), AutomotiveDrivingModels.LaneConnection[LaneConnection(D, CurveIndex(1, 1.000), RoadIndex({1, 0.000000}, {4, 1})], AutomotiveDrivingModels.LaneConnection[LaneConnection(U, CurveIndex(1, 0.000), RoadIndex({1, 1.000000}, {3, 1})])                                                                                                                                                                                                                                                                                                                                                                                                                                                                                                                                                                                                                                                                                                                                                                                                                                                                                                                                                                                                                                                                                                                \n",
       " AutomotiveDrivingModels.Lane(LaneTag(15, 1), AutomotiveDrivingModels.CurvePt[CurvePt({1.500, -4.000, 1.571}, 0.000, -0.400, 0.000), CurvePt({1.505, -3.836, 1.505}, 0.164, -0.400, 0.000), CurvePt({1.521, -3.674, 1.440}, 0.327, -0.400, 0.000), CurvePt({1.548, -3.512, 1.374}, 0.491, -0.400, 0.000), CurvePt({1.585, -3.353, 1.309}, 0.654, -0.400, 0.000), CurvePt({1.633, -3.196, 1.244}, 0.818, -0.400, 0.000), CurvePt({1.690, -3.043, 1.178}, 0.982, -0.400, 0.000), CurvePt({1.758, -2.894, 1.113}, 1.145, -0.400, 0.000), CurvePt({1.835, -2.750, 1.047}, 1.309, -0.400, 0.000), CurvePt({1.921, -2.611, 0.982}, 1.473, -0.400, 0.000)  …  CurvePt({2.611, -1.921, 0.589}, 2.454, -0.400, 0.000), CurvePt({2.750, -1.835, 0.524}, 2.618, -0.400, 0.000), CurvePt({2.894, -1.758, 0.458}, 2.782, -0.400, 0.000), CurvePt({3.043, -1.690, 0.393}, 2.945, -0.400, 0.000), CurvePt({3.196, -1.633, 0.327}, 3.109, -0.400, 0.000), CurvePt({3.353, -1.585, 0.262}, 3.272, -0.400, 0.000), CurvePt({3.512, -1.548, 0.196}, 3.436, -0.400, 0.000), CurvePt({3.674, -1.521, 0.131}, 3.600, -0.400, 0.000), CurvePt({3.836, -1.505, 0.065}, 3.763, -0.400, 0.000), CurvePt({4.000, -1.500, 0.000}, 3.927, -0.400, 0.000)], 3.0, AutomotiveDrivingModels.SpeedLimit(-Inf, Inf), AutomotiveDrivingModels.LaneBoundary(:solid, :white), AutomotiveDrivingModels.LaneBoundary(:solid, :white), AutomotiveDrivingModels.LaneConnection[LaneConnection(D, CurveIndex(24, 1.000), RoadIndex({1, 0.000000}, {16, 1}), LaneConnection(D, CurveIndex(24, 1.000), RoadIndex({1, 0.000000}, {16, 1})], AutomotiveDrivingModels.LaneConnection[LaneConnection(U, CurveIndex(1, 0.000), RoadIndex({1, 1.000000}, {6, 1})])\n",
       " AutomotiveDrivingModels.Lane(LaneTag(13, 1), AutomotiveDrivingModels.CurvePt[CurvePt({1.500, -4.000, 1.571}, 0.000, 0.182, 0.000), CurvePt({1.488, -3.640, 1.636}, 0.360, 0.182, 0.000), CurvePt({1.453, -3.282, 1.702}, 0.720, 0.182, 0.000), CurvePt({1.394, -2.927, 1.767}, 1.080, 0.182, 0.000), CurvePt({1.313, -2.576, 1.833}, 1.440, 0.182, 0.000), CurvePt({1.208, -2.232, 1.898}, 1.800, 0.182, 0.000), CurvePt({1.081, -1.895, 1.963}, 2.160, 0.182, 0.000), CurvePt({0.933, -1.567, 2.029}, 2.520, 0.182, 0.000), CurvePt({0.763, -1.250, 2.094}, 2.880, 0.182, 0.000), CurvePt({0.573, -0.944, 2.160}, 3.240, 0.182, 0.000)  …  CurvePt({-0.944, 0.573, 2.553}, 5.400, 0.182, 0.000), CurvePt({-1.250, 0.763, 2.618}, 5.760, 0.182, 0.000), CurvePt({-1.567, 0.933, 2.683}, 6.120, 0.182, 0.000), CurvePt({-1.895, 1.081, 2.749}, 6.480, 0.182, 0.000), CurvePt({-2.232, 1.208, 2.814}, 6.840, 0.182, 0.000), CurvePt({-2.576, 1.313, 2.880}, 7.199, 0.182, 0.000), CurvePt({-2.927, 1.394, 2.945}, 7.559, 0.182, 0.000), CurvePt({-3.282, 1.453, 3.011}, 7.919, 0.182, 0.000), CurvePt({-3.640, 1.488, 3.076}, 8.279, 0.182, 0.000), CurvePt({-4.000, 1.500, 3.142}, 8.639, 0.182, 0.000)], 3.0, AutomotiveDrivingModels.SpeedLimit(-Inf, Inf), AutomotiveDrivingModels.LaneBoundary(:solid, :white), AutomotiveDrivingModels.LaneBoundary(:solid, :white), AutomotiveDrivingModels.LaneConnection[LaneConnection(D, CurveIndex(24, 1.000), RoadIndex({1, 0.000000}, {14, 1}), LaneConnection(D, CurveIndex(24, 1.000), RoadIndex({1, 0.000000}, {14, 1})], AutomotiveDrivingModels.LaneConnection[LaneConnection(U, CurveIndex(1, 0.000), RoadIndex({1, 1.000000}, {6, 1})])                    "
      ]
     },
     "execution_count": 33,
     "metadata": {},
     "output_type": "execute_result"
    }
   ],
   "source": [
    "intersection_entrances = get_start_lanes(env.roadway)\n",
    "intersection_exits = get_exit_lanes(intersection_entrances, env.roadway)"
   ]
  },
  {
   "cell_type": "code",
   "execution_count": 34,
   "metadata": {},
   "outputs": [
    {
     "data": {
      "text/plain": [
       "6-element Array{AutomotiveDrivingModels.Lane,1}:\n",
       " AutomotiveDrivingModels.Lane(LaneTag(9, 1), AutomotiveDrivingModels.CurvePt[CurvePt({6.000, 1.500, 3.142}, 0.000, 0.000, 0.000), CurvePt({4.000, 1.500, 3.142}, 2.000, 0.000, 0.000)], 3.0, AutomotiveDrivingModels.SpeedLimit(-Inf, Inf), AutomotiveDrivingModels.LaneBoundary(:solid, :white), AutomotiveDrivingModels.LaneBoundary(:solid, :white), AutomotiveDrivingModels.LaneConnection[LaneConnection(D, CurveIndex(1, 1.000), RoadIndex({1, 0.000000}, {10, 1}), LaneConnection(D, CurveIndex(1, 1.000), RoadIndex({1, 0.000000}, {10, 1})], AutomotiveDrivingModels.LaneConnection[LaneConnection(U, CurveIndex(1, 0.000), RoadIndex({1, 1.000000}, {1, 1})])                                                                                                                                                                                                                                                                                                                                                                                                                                                                                                                                                                                                                                                                                                                                                                                                                                                                                                                                                                                                                                        \n",
       " AutomotiveDrivingModels.Lane(LaneTag(7, 1), AutomotiveDrivingModels.CurvePt[CurvePt({6.000, 1.500, 3.142}, 0.000, 0.000, 0.000), CurvePt({-6.000, 1.500, 3.142}, 12.000, 0.000, 0.000)], 3.0, AutomotiveDrivingModels.SpeedLimit(-Inf, Inf), AutomotiveDrivingModels.LaneBoundary(:solid, :white), AutomotiveDrivingModels.LaneBoundary(:solid, :white), AutomotiveDrivingModels.LaneConnection[LaneConnection(D, CurveIndex(1, 1.000), RoadIndex({1, 0.000000}, {2, 1})], AutomotiveDrivingModels.LaneConnection[LaneConnection(U, CurveIndex(1, 0.000), RoadIndex({1, 1.000000}, {1, 1})])                                                                                                                                                                                                                                                                                                                                                                                                                                                                                                                                                                                                                                                                                                                                                                                                                                                                                                                                                                                                                                                                                                                  \n",
       " AutomotiveDrivingModels.Lane(LaneTag(11, 1), AutomotiveDrivingModels.CurvePt[CurvePt({-6.000, -1.500, 0.000}, 0.000, 0.000, 0.000), CurvePt({-4.000, -1.500, 0.000}, 2.000, 0.000, 0.000)], 3.0, AutomotiveDrivingModels.SpeedLimit(-Inf, Inf), AutomotiveDrivingModels.LaneBoundary(:solid, :white), AutomotiveDrivingModels.LaneBoundary(:solid, :white), AutomotiveDrivingModels.LaneConnection[LaneConnection(D, CurveIndex(1, 1.000), RoadIndex({1, 0.000000}, {12, 1}), LaneConnection(D, CurveIndex(1, 1.000), RoadIndex({1, 0.000000}, {12, 1})], AutomotiveDrivingModels.LaneConnection[LaneConnection(U, CurveIndex(1, 0.000), RoadIndex({1, 1.000000}, {3, 1})])                                                                                                                                                                                                                                                                                                                                                                                                                                                                                                                                                                                                                                                                                                                                                                                                                                                                                                                                                                                                                                   \n",
       " AutomotiveDrivingModels.Lane(LaneTag(8, 1), AutomotiveDrivingModels.CurvePt[CurvePt({-6.000, -1.500, 0.000}, 0.000, 0.000, 0.000), CurvePt({6.000, -1.500, 0.000}, 12.000, 0.000, 0.000)], 3.0, AutomotiveDrivingModels.SpeedLimit(-Inf, Inf), AutomotiveDrivingModels.LaneBoundary(:solid, :white), AutomotiveDrivingModels.LaneBoundary(:solid, :white), AutomotiveDrivingModels.LaneConnection[LaneConnection(D, CurveIndex(1, 1.000), RoadIndex({1, 0.000000}, {4, 1})], AutomotiveDrivingModels.LaneConnection[LaneConnection(U, CurveIndex(1, 0.000), RoadIndex({1, 1.000000}, {3, 1})])                                                                                                                                                                                                                                                                                                                                                                                                                                                                                                                                                                                                                                                                                                                                                                                                                                                                                                                                                                                                                                                                                                                \n",
       " AutomotiveDrivingModels.Lane(LaneTag(15, 1), AutomotiveDrivingModels.CurvePt[CurvePt({1.500, -4.000, 1.571}, 0.000, -0.400, 0.000), CurvePt({1.505, -3.836, 1.505}, 0.164, -0.400, 0.000), CurvePt({1.521, -3.674, 1.440}, 0.327, -0.400, 0.000), CurvePt({1.548, -3.512, 1.374}, 0.491, -0.400, 0.000), CurvePt({1.585, -3.353, 1.309}, 0.654, -0.400, 0.000), CurvePt({1.633, -3.196, 1.244}, 0.818, -0.400, 0.000), CurvePt({1.690, -3.043, 1.178}, 0.982, -0.400, 0.000), CurvePt({1.758, -2.894, 1.113}, 1.145, -0.400, 0.000), CurvePt({1.835, -2.750, 1.047}, 1.309, -0.400, 0.000), CurvePt({1.921, -2.611, 0.982}, 1.473, -0.400, 0.000)  …  CurvePt({2.611, -1.921, 0.589}, 2.454, -0.400, 0.000), CurvePt({2.750, -1.835, 0.524}, 2.618, -0.400, 0.000), CurvePt({2.894, -1.758, 0.458}, 2.782, -0.400, 0.000), CurvePt({3.043, -1.690, 0.393}, 2.945, -0.400, 0.000), CurvePt({3.196, -1.633, 0.327}, 3.109, -0.400, 0.000), CurvePt({3.353, -1.585, 0.262}, 3.272, -0.400, 0.000), CurvePt({3.512, -1.548, 0.196}, 3.436, -0.400, 0.000), CurvePt({3.674, -1.521, 0.131}, 3.600, -0.400, 0.000), CurvePt({3.836, -1.505, 0.065}, 3.763, -0.400, 0.000), CurvePt({4.000, -1.500, 0.000}, 3.927, -0.400, 0.000)], 3.0, AutomotiveDrivingModels.SpeedLimit(-Inf, Inf), AutomotiveDrivingModels.LaneBoundary(:solid, :white), AutomotiveDrivingModels.LaneBoundary(:solid, :white), AutomotiveDrivingModels.LaneConnection[LaneConnection(D, CurveIndex(24, 1.000), RoadIndex({1, 0.000000}, {16, 1}), LaneConnection(D, CurveIndex(24, 1.000), RoadIndex({1, 0.000000}, {16, 1})], AutomotiveDrivingModels.LaneConnection[LaneConnection(U, CurveIndex(1, 0.000), RoadIndex({1, 1.000000}, {6, 1})])\n",
       " AutomotiveDrivingModels.Lane(LaneTag(13, 1), AutomotiveDrivingModels.CurvePt[CurvePt({1.500, -4.000, 1.571}, 0.000, 0.182, 0.000), CurvePt({1.488, -3.640, 1.636}, 0.360, 0.182, 0.000), CurvePt({1.453, -3.282, 1.702}, 0.720, 0.182, 0.000), CurvePt({1.394, -2.927, 1.767}, 1.080, 0.182, 0.000), CurvePt({1.313, -2.576, 1.833}, 1.440, 0.182, 0.000), CurvePt({1.208, -2.232, 1.898}, 1.800, 0.182, 0.000), CurvePt({1.081, -1.895, 1.963}, 2.160, 0.182, 0.000), CurvePt({0.933, -1.567, 2.029}, 2.520, 0.182, 0.000), CurvePt({0.763, -1.250, 2.094}, 2.880, 0.182, 0.000), CurvePt({0.573, -0.944, 2.160}, 3.240, 0.182, 0.000)  …  CurvePt({-0.944, 0.573, 2.553}, 5.400, 0.182, 0.000), CurvePt({-1.250, 0.763, 2.618}, 5.760, 0.182, 0.000), CurvePt({-1.567, 0.933, 2.683}, 6.120, 0.182, 0.000), CurvePt({-1.895, 1.081, 2.749}, 6.480, 0.182, 0.000), CurvePt({-2.232, 1.208, 2.814}, 6.840, 0.182, 0.000), CurvePt({-2.576, 1.313, 2.880}, 7.199, 0.182, 0.000), CurvePt({-2.927, 1.394, 2.945}, 7.559, 0.182, 0.000), CurvePt({-3.282, 1.453, 3.011}, 7.919, 0.182, 0.000), CurvePt({-3.640, 1.488, 3.076}, 8.279, 0.182, 0.000), CurvePt({-4.000, 1.500, 3.142}, 8.639, 0.182, 0.000)], 3.0, AutomotiveDrivingModels.SpeedLimit(-Inf, Inf), AutomotiveDrivingModels.LaneBoundary(:solid, :white), AutomotiveDrivingModels.LaneBoundary(:solid, :white), AutomotiveDrivingModels.LaneConnection[LaneConnection(D, CurveIndex(24, 1.000), RoadIndex({1, 0.000000}, {14, 1}), LaneConnection(D, CurveIndex(24, 1.000), RoadIndex({1, 0.000000}, {14, 1})], AutomotiveDrivingModels.LaneConnection[LaneConnection(U, CurveIndex(1, 0.000), RoadIndex({1, 1.000000}, {6, 1})])                    "
      ]
     },
     "execution_count": 34,
     "metadata": {},
     "output_type": "execute_result"
    }
   ],
   "source": [
    "get_exit_lanes(intersection_entrances, env.roadway)"
   ]
  },
  {
   "cell_type": "code",
   "execution_count": 35,
   "metadata": {},
   "outputs": [
    {
     "ename": "LoadError",
     "evalue": "\u001b[91mtype Array has no field target\u001b[39m",
     "output_type": "error",
     "traceback": [
      "\u001b[91mtype Array has no field target\u001b[39m",
      "",
      "Stacktrace:",
      " [1] \u001b[1mmacro expansion\u001b[22m\u001b[22m at \u001b[1m.\\In[35]:2\u001b[22m\u001b[22m [inlined]",
      " [2] \u001b[1manonymous\u001b[22m\u001b[22m at \u001b[1m.\\<missing>:?\u001b[22m\u001b[22m",
      " [3] \u001b[1minclude_string\u001b[22m\u001b[22m\u001b[1m(\u001b[22m\u001b[22m::String, ::String\u001b[1m)\u001b[22m\u001b[22m at \u001b[1m.\\loading.jl:515\u001b[22m\u001b[22m"
     ]
    }
   ],
   "source": [
    "for lane in get_start_lanes(env.roadway)\n",
    "    println(lane.exits.target.tag)\n",
    "end"
   ]
  },
  {
   "cell_type": "code",
   "execution_count": 36,
   "metadata": {},
   "outputs": [
    {
     "ename": "LoadError",
     "evalue": "\u001b[91mBoundsError: attempt to access 100-element Array{Records.Entity{AutomotiveDrivingModels.VehicleState,AutomotiveDrivingModels.VehicleDef,Int64},1} at index [0]\u001b[39m",
     "output_type": "error",
     "traceback": [
      "\u001b[91mBoundsError: attempt to access 100-element Array{Records.Entity{AutomotiveDrivingModels.VehicleState,AutomotiveDrivingModels.VehicleDef,Int64},1} at index [0]\u001b[39m",
      "",
      "Stacktrace:",
      " [1] \u001b[1mgetindex\u001b[22m\u001b[22m\u001b[1m(\u001b[22m\u001b[22m::Records.Frame{Records.Entity{AutomotiveDrivingModels.VehicleState,AutomotiveDrivingModels.VehicleDef,Int64}}, ::Int64\u001b[1m)\u001b[22m\u001b[22m at \u001b[1mC:\\Users\\Maxime\\.julia\\v0.6\\Records\\src\\frames.jl:20\u001b[22m\u001b[22m",
      " [2] \u001b[1minclude_string\u001b[22m\u001b[22m\u001b[1m(\u001b[22m\u001b[22m::String, ::String\u001b[1m)\u001b[22m\u001b[22m at \u001b[1m.\\loading.jl:515\u001b[22m\u001b[22m"
     ]
    }
   ],
   "source": [
    "i = 0\n",
    "veh = rec[0][findfirst(rec[i], 0)]"
   ]
  },
  {
   "cell_type": "code",
   "execution_count": 37,
   "metadata": {},
   "outputs": [
    {
     "data": {
      "text/plain": [
       "2-element Array{AutomotiveDrivingModels.LaneConnection,1}:\n",
       " LaneConnection(D, CurveIndex(24, 1.000), RoadIndex({1, 0.000000}, {14, 1})\n",
       " LaneConnection(D, CurveIndex(24, 1.000), RoadIndex({1, 0.000000}, {14, 1})"
      ]
     },
     "execution_count": 37,
     "metadata": {},
     "output_type": "execute_result"
    }
   ],
   "source": [
    "env.roadway[LaneTag(13,1)].exits\n"
   ]
  },
  {
   "cell_type": "code",
   "execution_count": null,
   "metadata": {
    "collapsed": true
   },
   "outputs": [],
   "source": []
  }
 ],
 "metadata": {
  "kernelspec": {
   "display_name": "Julia 0.6.0",
   "language": "julia",
   "name": "julia-0.6"
  },
  "language_info": {
   "file_extension": ".jl",
   "mimetype": "application/julia",
   "name": "julia",
   "version": "0.6.0"
  }
 },
 "nbformat": 4,
 "nbformat_minor": 2
}
