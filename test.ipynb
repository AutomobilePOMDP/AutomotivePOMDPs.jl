{
 "cells": [
  {
   "cell_type": "markdown",
   "metadata": {},
   "source": [
    "# Test and visualize the driving scenarios"
   ]
  },
  {
   "cell_type": "code",
   "execution_count": 1,
   "metadata": {},
   "outputs": [
    {
     "name": "stderr",
     "output_type": "stream",
     "text": [
      "WARNING: Method definition info(Any...)"
     ]
    }
   ],
   "source": [
    "using POMDPs, StatsBase, POMDPToolbox, DeepRL, AutomotiveDrivingModels, AutoViz, Reel, Parameters, GridInterpolations"
   ]
  },
  {
   "cell_type": "code",
   "execution_count": 2,
   "metadata": {},
   "outputs": [
    {
     "name": "stderr",
     "output_type": "stream",
     "text": [
      " in module Base at util.jl:532 overwritten in module Logging at C:\\Users\\Maxime\\.julia\\v0.6\\Logging\\src\\Logging.jl:115.\n",
      "WARNING: Method definition warn(Any...) in module Base at util.jl:585 overwritten in module Logging at C:\\Users\\Maxime\\.julia\\v0.6\\Logging\\src\\Logging.jl:115.\n"
     ]
    }
   ],
   "source": [
    "rng = MersenneTwister(1);"
   ]
  },
  {
   "cell_type": "markdown",
   "metadata": {},
   "source": [
    "## Scenario 1: Single agent occluded crosswalk\n",
    "\n",
    "Discrete environment, provides explicit transition and observation probability distributions. Support only one pedestrian"
   ]
  },
  {
   "cell_type": "code",
   "execution_count": null,
   "metadata": {},
   "outputs": [],
   "source": [
    "include(\"single_crosswalk/occluded_crosswalk_env.jl\")\n",
    "include(\"single_crosswalk/pomdp_types.jl\")\n",
    "include(\"single_crosswalk/spaces.jl\")\n",
    "include(\"single_crosswalk/transition.jl\")\n",
    "include(\"single_crosswalk/observation.jl\")\n",
    "include(\"single_crosswalk/belief.jl\")\n",
    "include(\"single_crosswalk/adm_helpers.jl\")\n",
    "include(\"single_crosswalk/render_helpers.jl\")"
   ]
  },
  {
   "cell_type": "code",
   "execution_count": 20,
   "metadata": {},
   "outputs": [
    {
     "data": {
      "text/plain": [
       "OCPOMDP(CrosswalkEnv(Roadway, AutomotiveDrivingModels.Lane(LaneTag(2, 1), AutomotiveDrivingModels.CurvePt[CurvePt({25.000, -10.000, 1.571}, 0.000, 0.000, NaN), CurvePt({25.000, 10.000, 1.571}, 20.000, 0.000, NaN)], 6.0, AutomotiveDrivingModels.SpeedLimit(-Inf, Inf), AutomotiveDrivingModels.LaneBoundary(:unknown, :unknown), AutomotiveDrivingModels.LaneBoundary(:unknown, :unknown), AutomotiveDrivingModels.LaneConnection[], AutomotiveDrivingModels.LaneConnection[]), AutomotiveDrivingModels.ConvexPolygon[ConvexPolygon: len 4 (max 4 pts)\n",
       "\tVecE2(15.000, -1.500)\n",
       "\tVecE2(15.000, -4.500)\n",
       "\tVecE2(21.500, -4.500)\n",
       "\tVecE2(21.500, -1.500)\n",
       "], EnvParams(2, 50.0, 3.0, 20.0, 6.0, 5.0, 37.0, 8.0, 0.5, 2.0, 10.0)), VehicleDef(CAR, 4.000, 1.800), VehicleDef(PEDESTRIAN, 1.000, 1.000), 2.0, 1.0, 1.0, 5.0, -5.0, 37.0, 5.0, 0.5, 0.3, 0.3, false, 1.0, 1.0, 1.0, -1.0, 0.0, 1.0, 0.95)"
      ]
     },
     "execution_count": 20,
     "metadata": {},
     "output_type": "execute_result"
    }
   ],
   "source": [
    "pomdp = OCPOMDP()"
   ]
  },
  {
   "cell_type": "code",
   "execution_count": 21,
   "metadata": {
    "collapsed": true
   },
   "outputs": [],
   "source": [
    "policy = solve(RandomSolver(rng), pomdp)\n",
    "up = updater(policy);"
   ]
  },
  {
   "cell_type": "markdown",
   "metadata": {},
   "source": [
    "**Simulate**"
   ]
  },
  {
   "cell_type": "code",
   "execution_count": 22,
   "metadata": {},
   "outputs": [],
   "source": [
    "hr = HistoryRecorder(rng=rng)\n",
    "hist = simulate(hr, pomdp, policy, up);"
   ]
  },
  {
   "cell_type": "markdown",
   "metadata": {},
   "source": [
    "**Rendering**"
   ]
  },
  {
   "cell_type": "code",
   "execution_count": 23,
   "metadata": {},
   "outputs": [
    {
     "data": {
      "text/html": [
       "<video autoplay controls><source src=\"files/reel-3240765619474142616.webm?5263194369683848530\" type=\"video/webm\"></video>"
      ],
      "text/plain": [
       "Reel.Frames{MIME{Symbol(\"image/png\")}}(\"C:\\\\Users\\\\Maxime\\\\AppData\\\\Local\\\\Temp\\\\jl_DB0.tmp\", 0x0000000000000023, 2.0, nothing)"
      ]
     },
     "execution_count": 23,
     "metadata": {},
     "output_type": "execute_result"
    }
   ],
   "source": [
    "duration, fps, render_hist = animate_hist(pomdp, hist)\n",
    "film = roll(render_hist, fps = fps, duration = duration)"
   ]
  },
  {
   "cell_type": "markdown",
   "metadata": {},
   "source": [
    "## Scenario 2: Multi-agent Crosswalk \n",
    "\n",
    "Generative model for the occluded crosswalk scenario, support multiple pedestrians, continuous space"
   ]
  },
  {
   "cell_type": "code",
   "execution_count": 14,
   "metadata": {},
   "outputs": [
    {
     "name": "stderr",
     "output_type": "stream",
     "text": [
      "11-Jan 14:05:31:WARNING:root:replacing docs for 'EnvParams :: Union{}' in module 'Main'.\n",
      "11-Jan 14:05:31:WARNING:root:replacing docs for 'CrosswalkEnv :: Union{}' in module 'Main'.\n",
      "11-Jan 14:05:31:WARNING:root:replacing docs for 'CrosswalkEnv :: Union{Tuple{EnvParams}, Tuple{}}' in module 'Main'.\n",
      "11-Jan 14:05:31:WARNING:root:replacing docs for 'is_crash :: Tuple{Records.Frame{Records.Entity{AutomotiveDrivingModels.VehicleState,AutomotiveDrivingModels.VehicleDef,Int64}}}' in module 'Main'.\n",
      "11-Jan 14:05:31:WARNING:root:replacing docs for 'get_ego :: Tuple{Records.Frame{Records.Entity{AutomotiveDrivingModels.VehicleState,AutomotiveDrivingModels.VehicleDef,Int64}}}' in module 'Main'.\n",
      "11-Jan 14:05:31:WARNING:root:replacing docs for 'ConstantSpeedDawdling :: Union{}' in module 'Main'.\n",
      "11-Jan 14:05:32:WARNING:root:replacing docs for 'ConstantPedestrian :: Union{}' in module 'Main'.\n",
      "11-Jan 14:05:32:WARNING:root:replacing docs for 'initial_ego :: Tuple{OCPOMDP,AbstractRNG}' in module 'Main'.\n",
      "11-Jan 14:05:32:WARNING:root:replacing docs for 'initial_pedestrian :: Union{Tuple{OCPOMDP,Records.Frame{Records.Entity{AutomotiveDrivingModels.VehicleState,AutomotiveDrivingModels.VehicleDef,Int64}},AbstractRNG,Bool}, Tuple{OCPOMDP,Records.Frame{Records.Entity{AutomotiveDrivingModels.VehicleState,AutomotiveDrivingModels.VehicleDef,Int64}},AbstractRNG}}' in module 'Main'.\n",
      "11-Jan 14:05:32:WARNING:root:replacing docs for 'get_off_the_grid :: Tuple{OCPOMDP}' in module 'Main'.\n"
     ]
    }
   ],
   "source": [
    "include(\"multi_crosswalk/occluded_crosswalk_env.jl\")\n",
    "include(\"multi_crosswalk/helpers.jl\")\n",
    "include(\"multi_crosswalk/pomdp_types.jl\")\n",
    "include(\"multi_crosswalk/constant_pedestrian.jl\")\n",
    "include(\"multi_crosswalk/generative_model.jl\")\n",
    "include(\"multi_crosswalk/render_helpers.jl\")"
   ]
  },
  {
   "cell_type": "code",
   "execution_count": 6,
   "metadata": {},
   "outputs": [],
   "source": [
    "pomdp = OCPOMDP();"
   ]
  },
  {
   "cell_type": "code",
   "execution_count": 7,
   "metadata": {
    "collapsed": true
   },
   "outputs": [],
   "source": [
    "policy = solve(RandomSolver(rng), pomdp)\n",
    "up = updater(policy);"
   ]
  },
  {
   "cell_type": "code",
   "execution_count": 10,
   "metadata": {},
   "outputs": [],
   "source": [
    "hr = HistoryRecorder(rng=rng, max_steps=100)\n",
    "hist = simulate(hr, pomdp, policy, up);"
   ]
  },
  {
   "cell_type": "code",
   "execution_count": 15,
   "metadata": {},
   "outputs": [
    {
     "data": {
      "text/html": [
       "<video autoplay controls><source src=\"files/reel-2366724021022362841.webm?5498501244850050287\" type=\"video/webm\"></video>"
      ],
      "text/plain": [
       "Reel.Frames{MIME{Symbol(\"image/png\")}}(\"C:\\\\Users\\\\Maxime\\\\AppData\\\\Local\\\\Temp\\\\jl_4DE.tmp\", 0x0000000000000006, 2.0, nothing)"
      ]
     },
     "execution_count": 15,
     "metadata": {},
     "output_type": "execute_result"
    }
   ],
   "source": [
    "duration, fps, render_hist = animate_hist(pomdp, hist)\n",
    "film = roll(render_hist, fps = fps, duration = duration)"
   ]
  },
  {
   "cell_type": "markdown",
   "metadata": {},
   "source": [
    "## Scenario 3 : Single agent intersection\n",
    "\n",
    "Explicit formulation with transition and observation probability distribution. Only support one vehicle"
   ]
  },
  {
   "cell_type": "code",
   "execution_count": 3,
   "metadata": {
    "scrolled": true
   },
   "outputs": [
    {
     "data": {
      "text/plain": [
       "animate_hist (generic function with 1 method)"
      ]
     },
     "execution_count": 3,
     "metadata": {},
     "output_type": "execute_result"
    }
   ],
   "source": [
    "include(\"single_intersection/occluded_intersection_env.jl\")\n",
    "include(\"single_intersection/pomdp_types.jl\")\n",
    "include(\"single_intersection/spaces.jl\")\n",
    "include(\"single_intersection/transition.jl\")\n",
    "include(\"single_intersection/observation.jl\")\n",
    "include(\"single_intersection/belief.jl\")\n",
    "include(\"single_intersection/render_helpers.jl\")"
   ]
  },
  {
   "cell_type": "code",
   "execution_count": 4,
   "metadata": {},
   "outputs": [],
   "source": [
    "pomdp = OIPOMDP();"
   ]
  },
  {
   "cell_type": "code",
   "execution_count": 5,
   "metadata": {},
   "outputs": [],
   "source": [
    "policy = solve(RandomSolver(rng), pomdp)\n",
    "up = updater(policy);"
   ]
  },
  {
   "cell_type": "code",
   "execution_count": 8,
   "metadata": {},
   "outputs": [],
   "source": [
    "hr = HistoryRecorder(rng=rng, max_steps=100)\n",
    "hist = simulate(hr, pomdp, policy, up);"
   ]
  },
  {
   "cell_type": "code",
   "execution_count": 9,
   "metadata": {},
   "outputs": [
    {
     "data": {
      "text/html": [
       "<video autoplay controls><source src=\"files/reel-5748511148126212551.webm?5024248110831692872\" type=\"video/webm\"></video>"
      ],
      "text/plain": [
       "Reel.Frames{MIME{Symbol(\"image/png\")}}(\"C:\\\\Users\\\\Maxime\\\\AppData\\\\Local\\\\Temp\\\\jl_263C.tmp\", 0x0000000000000029, 2.0, nothing)"
      ]
     },
     "execution_count": 9,
     "metadata": {},
     "output_type": "execute_result"
    }
   ],
   "source": [
    "duration, fps, render_hist = animate_hist(pomdp, hist)\n",
    "film = roll(render_hist, fps = fps, duration = duration)"
   ]
  },
  {
   "cell_type": "markdown",
   "metadata": {},
   "source": [
    "## Scenario 3: Multi-agent Intersection\n",
    "\n",
    "Generative model for the occluded crosswalk scenario, support multiple pedestrians, continuous space"
   ]
  }
 ],
 "metadata": {
  "kernelspec": {
   "display_name": "Julia 0.6.0",
   "language": "julia",
   "name": "julia-0.6"
  },
  "language_info": {
   "file_extension": ".jl",
   "mimetype": "application/julia",
   "name": "julia",
   "version": "0.6.0"
  }
 },
 "nbformat": 4,
 "nbformat_minor": 2
}
