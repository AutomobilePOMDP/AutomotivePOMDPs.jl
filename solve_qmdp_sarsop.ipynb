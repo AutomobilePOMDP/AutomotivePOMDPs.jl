{
 "cells": [
  {
   "cell_type": "markdown",
   "metadata": {},
   "source": [
    "# Solve Single Crosswalk using QMDP and SARSOP"
   ]
  },
  {
   "cell_type": "code",
   "execution_count": 1,
   "metadata": {},
   "outputs": [
    {
     "name": "stderr",
     "output_type": "stream",
     "text": [
      "WARNING: Method definition midpoints(Base.Range{T} where T) in module Base at deprecated.jl:56 overwritten in module StatsBase at /home/boutonm/.julia/v0.6/StatsBase/src/hist.jl:535.\n",
      "WARNING: Method definition midpoints(AbstractArray{T, 1} where T) in module Base at deprecated.jl:56 overwritten in module StatsBase at /home/boutonm/.julia/v0.6/StatsBase/src/hist.jl:533.\n",
      "WARNING: Method definition info(Any...) in module Base at util.jl:532 overwritten in module Logging at /home/boutonm/.julia/v0.6/Logging/src/Logging.jl:115.\n",
      "WARNING: Method definition warn(Any...) in module Base at util.jl:585 overwritten in module Logging at /home/boutonm/.julia/v0.6/Logging/src/Logging.jl:115.\n"
     ]
    }
   ],
   "source": [
    "using POMDPs, StatsBase, POMDPToolbox, DeepRL, Parameters, GridInterpolations\n",
    "using AutomotiveDrivingModels,AutoViz\n",
    "using Reel \n",
    "using QMDP, SARSOP"
   ]
  },
  {
   "cell_type": "code",
   "execution_count": 2,
   "metadata": {},
   "outputs": [
    {
     "name": "stderr",
     "output_type": "stream",
     "text": [
      "WARNING: Method definition copy!(Array{Float64, 1}, AutomotiveDrivingModels.LatLonAccel) in module AutomotiveDrivingModels at /home/boutonm/.julia/v0.6/AutomotiveDrivingModels/src/2d/actions/lat_lon_accel.jl:13 overwritten in module AutoUrban at /home/boutonm/.julia/v0.6/AutoUrban/src/simulation/actions.jl:10.\n",
      "WARNING: Method definition animate_scenes(Array{Records.Frame{Records.Entity{AutomotiveDrivingModels.VehicleState, AutomotiveDrivingModels.VehicleDef, Int64}}, 1}, Any) in module AutomotivePOMDPs at /home/boutonm/AutomotivePOMDPs/utils/rendering.jl:21 overwritten at /home/boutonm/AutomotivePOMDPs/utils/rendering.jl:32.\n"
     ]
    }
   ],
   "source": [
    "include(\"AutomotivePOMDPs.jl\")\n",
    "using AutomotivePOMDPs"
   ]
  },
  {
   "cell_type": "code",
   "execution_count": 3,
   "metadata": {
    "collapsed": true
   },
   "outputs": [],
   "source": [
    "rng = MersenneTwister(1);"
   ]
  },
  {
   "cell_type": "markdown",
   "metadata": {},
   "source": [
    "## Initialize Crosswalk environment"
   ]
  },
  {
   "cell_type": "code",
   "execution_count": 32,
   "metadata": {},
   "outputs": [
    {
     "data": {
      "text/plain": [
       "AutomotivePOMDPs.OCPOMDP(AutomotivePOMDPs.CrosswalkEnv(Roadway, AutomotiveDrivingModels.Lane(LaneTag(2, 1), AutomotiveDrivingModels.CurvePt[CurvePt({25.000, -10.000, 1.571}, 0.000, 0.000, NaN), CurvePt({25.000, 10.000, 1.571}, 20.000, 0.000, NaN)], 6.0, AutomotiveDrivingModels.SpeedLimit(-Inf, Inf), AutomotiveDrivingModels.LaneBoundary(:unknown, :unknown), AutomotiveDrivingModels.LaneBoundary(:unknown, :unknown), AutomotiveDrivingModels.LaneConnection[], AutomotiveDrivingModels.LaneConnection[]), AutomotiveDrivingModels.ConvexPolygon[ConvexPolygon: len 4 (max 4 pts)\n",
       "\tVecE2(15.000, -1.500)\n",
       "\tVecE2(15.000, -4.500)\n",
       "\tVecE2(21.500, -4.500)\n",
       "\tVecE2(21.500, -1.500)\n",
       "], AutomotivePOMDPs.CrosswalkParams(2, 50.0, 3.0, 20.0, 6.0, 5.0, 37.0, 8.0, 100, 0.5, 2.0, 10.0)), AutomotiveDrivingModels.LidarSensor([-1.50796, -1.44513, -1.3823, -1.31947, -1.25664, -1.19381, -1.13097, -1.06814, -1.00531, -0.942478  …  1.00531, 1.06814, 1.13097, 1.19381, 1.25664, 1.31947, 1.3823, 1.44513, 1.50796, 1.5708], [6.93852e-310, 6.93852e-310, 6.93852e-310, 6.93852e-310, 6.93852e-310, 6.93852e-310, 6.93852e-310, 6.93852e-310, 6.93852e-310, 6.93852e-310  …  6.93852e-310, 6.93852e-310, 6.93852e-310, 6.93852e-310, 6.93852e-310, 6.93852e-310, 6.93852e-310, 6.93852e-310, 6.93852e-310, 6.93852e-310], [0.0, 0.0, 0.0, 0.0, 1.4822e-323, 0.0, 0.0, 0.0, 0.0, 3.95253e-323  …  0.0, 0.0, 0.0, 0.0, 0.0, 0.0, 0.0, 0.0, 0.0, 0.0], 30.0, ConvexPolygon: len 0 (max 4 pts)\n",
       "), Dict{Int64,AutomotiveDrivingModels.DriverModel}(Pair{Int64,AutomotiveDrivingModels.DriverModel}(1, AutomotivePOMDPs.EgoDriver{AutomotivePOMDPs.OCAction}(AutomotivePOMDPs.OCAction(0.0)))), VehicleDef(CAR, 4.000, 1.800), VehicleDef(PEDESTRIAN, 1.000, 1.000), 2.0, 5.0, -5.0, 37.0, 5.0, 0.1, 0.0, 10, 0.0, false, 1.0, 0.5, 0.5, -1.0, 0.0, 1.0, 0.95)"
      ]
     },
     "execution_count": 32,
     "metadata": {},
     "output_type": "execute_result"
    }
   ],
   "source": [
    "pomdp = OCPOMDP(ΔT = 0.1, no_ped_prob=0., p_birth = 0.01)"
   ]
  },
  {
   "cell_type": "code",
   "execution_count": 33,
   "metadata": {
    "collapsed": true
   },
   "outputs": [],
   "source": [
    "policy = solve(RandomSolver(rng), pomdp)\n",
    "up = updater(policy);"
   ]
  },
  {
   "cell_type": "code",
   "execution_count": 36,
   "metadata": {},
   "outputs": [
    {
     "name": "stdout",
     "output_type": "stream",
     "text": [
      "  0.004954 seconds (6.22 k allocations: 2.860 MiB)\n"
     ]
    }
   ],
   "source": [
    "hr = HistoryRecorder(rng=rng, max_steps=200)\n",
    "@time hist = simulate(hr, pomdp, policy, up);"
   ]
  },
  {
   "cell_type": "code",
   "execution_count": 37,
   "metadata": {},
   "outputs": [
    {
     "data": {
      "text/html": [
       "<video autoplay controls><source src=\"files/reel-10155470251342476950.webm?15801419767794631022\" type=\"video/webm\"></video>"
      ],
      "text/plain": [
       "Reel.Frames{MIME{Symbol(\"image/png\")}}(\"/tmp/tmpu8M4NH\", 0x00000000000000c8, 10.0, nothing)"
      ]
     },
     "execution_count": 37,
     "metadata": {},
     "output_type": "execute_result"
    }
   ],
   "source": [
    "duration, fps, render_hist = animate_hist(pomdp, hist, SceneOverlay[])\n",
    "film = roll(render_hist, fps = fps, duration = duration)"
   ]
  },
  {
   "cell_type": "markdown",
   "metadata": {},
   "source": [
    "## Solve using QMDP"
   ]
  },
  {
   "cell_type": "code",
   "execution_count": 5,
   "metadata": {},
   "outputs": [
    {
     "data": {
      "text/plain": [
       "QMDP.QMDPSolver(100, 0.001)"
      ]
     },
     "execution_count": 5,
     "metadata": {},
     "output_type": "execute_result"
    }
   ],
   "source": [
    "solver = QMDPSolver(max_iterations=100, tolerance=1e-3)"
   ]
  },
  {
   "cell_type": "code",
   "execution_count": 6,
   "metadata": {},
   "outputs": [
    {
     "name": "stdout",
     "output_type": "stream",
     "text": [
      "[Iteration 1   ] residual:          1 | iteration runtime:    510.625 ms, (     0.511 s total)\n",
      "[Iteration 2   ] residual:       0.95 | iteration runtime:    497.378 ms, (      1.01 s total)\n",
      "[Iteration 3   ] residual:      0.903 | iteration runtime:    493.015 ms, (       1.5 s total)\n",
      "[Iteration 4   ] residual:      0.857 | iteration runtime:    494.190 ms, (         2 s total)\n",
      "[Iteration 5   ] residual:      0.811 | iteration runtime:    493.056 ms, (      2.49 s total)\n",
      "[Iteration 6   ] residual:      0.762 | iteration runtime:    490.577 ms, (      2.98 s total)\n",
      "[Iteration 7   ] residual:      0.707 | iteration runtime:    493.424 ms, (      3.47 s total)\n",
      "[Iteration 8   ] residual:      0.649 | iteration runtime:    493.438 ms, (      3.97 s total)\n",
      "[Iteration 9   ] residual:      0.539 | iteration runtime:    490.217 ms, (      4.46 s total)\n",
      "[Iteration 10  ] residual:      0.472 | iteration runtime:    494.516 ms, (      4.95 s total)\n",
      "[Iteration 11  ] residual:       0.42 | iteration runtime:    492.272 ms, (      5.44 s total)\n",
      "[Iteration 12  ] residual:      0.384 | iteration runtime:    490.467 ms, (      5.93 s total)\n",
      "[Iteration 13  ] residual:      0.177 | iteration runtime:    494.794 ms, (      6.43 s total)\n",
      "[Iteration 14  ] residual:      0.129 | iteration runtime:    490.844 ms, (      6.92 s total)\n",
      "[Iteration 15  ] residual:     0.0995 | iteration runtime:    495.687 ms, (      7.41 s total)\n",
      "[Iteration 16  ] residual:      0.085 | iteration runtime:    493.824 ms, (      7.91 s total)\n",
      "[Iteration 17  ] residual:     0.0589 | iteration runtime:    491.422 ms, (       8.4 s total)\n",
      "[Iteration 18  ] residual:     0.0357 | iteration runtime:    493.793 ms, (      8.89 s total)\n",
      "[Iteration 19  ] residual:     0.0198 | iteration runtime:    493.612 ms, (      9.39 s total)\n",
      "[Iteration 20  ] residual:     0.0102 | iteration runtime:    491.245 ms, (      9.88 s total)\n",
      "[Iteration 21  ] residual:    0.00499 | iteration runtime:    493.883 ms, (      10.4 s total)\n",
      "[Iteration 22  ] residual:    0.00234 | iteration runtime:    493.548 ms, (      10.9 s total)\n",
      "[Iteration 23  ] residual:     0.0011 | iteration runtime:    490.014 ms, (      11.4 s total)\n",
      "[Iteration 24  ] residual:   0.000503 | iteration runtime:    493.883 ms, (      11.8 s total)\n"
     ]
    },
    {
     "data": {
      "text/plain": [
       "QMDP.QMDPPolicy{AutomotivePOMDPs.SingleOCPOMDP,AutomotivePOMDPs.SingleOCAction}([0.445726 0.445726 0.445726 0.449222; 0.478471 0.478471 0.478471 0.479646; … ; 0.0 0.0 0.0 0.0; 0.0 0.0 0.0 0.0], AutomotivePOMDPs.SingleOCAction[AutomotivePOMDPs.SingleOCAction(-4.0), AutomotivePOMDPs.SingleOCAction(-2.0), AutomotivePOMDPs.SingleOCAction(0.0), AutomotivePOMDPs.SingleOCAction(2.0)], AutomotivePOMDPs.SingleOCPOMDP(AutomotivePOMDPs.CrosswalkEnv(Roadway, AutomotiveDrivingModels.Lane(LaneTag(2, 1), AutomotiveDrivingModels.CurvePt[CurvePt({25.000, -10.000, 1.571}, 0.000, 0.000, NaN), CurvePt({25.000, 10.000, 1.571}, 20.000, 0.000, NaN)], 6.0, AutomotiveDrivingModels.SpeedLimit(-Inf, Inf), AutomotiveDrivingModels.LaneBoundary(:unknown, :unknown), AutomotiveDrivingModels.LaneBoundary(:unknown, :unknown), AutomotiveDrivingModels.LaneConnection[], AutomotiveDrivingModels.LaneConnection[]), AutomotiveDrivingModels.ConvexPolygon[ConvexPolygon: len 4 (max 4 pts)\n",
       "\tVecE2(15.000, -1.500)\n",
       "\tVecE2(15.000, -4.500)\n",
       "\tVecE2(21.500, -4.500)\n",
       "\tVecE2(21.500, -1.500)\n",
       "], AutomotivePOMDPs.CrosswalkParams(2, 50.0, 3.0, 20.0, 6.0, 5.0, 37.0, 8.0, 100, 0.5, 2.0, 10.0)), VehicleDef(CAR, 4.000, 1.800), VehicleDef(PEDESTRIAN, 1.000, 1.000), 2.0, 1.0, 1.0, 5.0, -5.0, 37.0, 5.0, 0.5, 0.3, 0.3, false, 1.0, 1.0, 1.0, -1.0, 0.0, 1.0, 0.95))"
      ]
     },
     "execution_count": 6,
     "metadata": {},
     "output_type": "execute_result"
    }
   ],
   "source": [
    "qmdp_policy = solve(solver, pomdp, verbose=true)"
   ]
  },
  {
   "cell_type": "code",
   "execution_count": 7,
   "metadata": {
    "collapsed": true
   },
   "outputs": [],
   "source": [
    "up = SingleOCUpdater(pomdp);"
   ]
  },
  {
   "cell_type": "code",
   "execution_count": 8,
   "metadata": {},
   "outputs": [
    {
     "name": "stdout",
     "output_type": "stream",
     "text": [
      "  6.779805 seconds (81.22 M allocations: 4.300 GiB, 10.39% gc time)\n"
     ]
    }
   ],
   "source": [
    "hr = HistoryRecorder(rng=rng)\n",
    "@time hist = simulate(hr, pomdp, qmdp_policy, up);"
   ]
  },
  {
   "cell_type": "code",
   "execution_count": 9,
   "metadata": {},
   "outputs": [
    {
     "data": {
      "text/html": [
       "<video autoplay controls><source src=\"files/reel-5777523682518141004.webm?14106281593157042250\" type=\"video/webm\"></video>"
      ],
      "text/plain": [
       "Reel.Frames{MIME{Symbol(\"image/png\")}}(\"/tmp/tmp5QjFW5\", 0x0000000000000015, 2.0, nothing)"
      ]
     },
     "execution_count": 9,
     "metadata": {},
     "output_type": "execute_result"
    }
   ],
   "source": [
    "duration, fps, render_hist = animate_hist(pomdp, hist)\n",
    "film = roll(render_hist, fps = fps, duration = duration)"
   ]
  },
  {
   "cell_type": "markdown",
   "metadata": {},
   "source": [
    "## QMDP Utility Fusion"
   ]
  },
  {
   "cell_type": "code",
   "execution_count": null,
   "metadata": {
    "collapsed": true
   },
   "outputs": [],
   "source": [
    "const DecBelief = Dict{Int64, SingleOCDistribution}\n",
    "const DecState = Dict{Int64, SingleOCState}\n",
    "const DecObs = Dict{Int64, SingleOCObs}"
   ]
  },
  {
   "cell_type": "code",
   "execution_count": null,
   "metadata": {
    "collapsed": true
   },
   "outputs": [],
   "source": []
  },
  {
   "cell_type": "code",
   "execution_count": null,
   "metadata": {
    "collapsed": true
   },
   "outputs": [],
   "source": [
    "pomdp = OCPOMDP()"
   ]
  },
  {
   "cell_type": "code",
   "execution_count": null,
   "metadata": {
    "collapsed": true
   },
   "outputs": [],
   "source": [
    "up = MixedUpdater(pomdp, pomdp.ΔT)"
   ]
  },
  {
   "cell_type": "code",
   "execution_count": null,
   "metadata": {
    "collapsed": true
   },
   "outputs": [],
   "source": [
    "hr = HistoryRecorder(rng=rng)\n",
    "s0 = initial_state(pomdp, rng)\n",
    "@time hist = simulate(hr, pomdp, qmdp_policy, up, d0, s0);"
   ]
  },
  {
   "cell_type": "markdown",
   "metadata": {},
   "source": [
    "## Solve using SARSOP"
   ]
  },
  {
   "cell_type": "code",
   "execution_count": 10,
   "metadata": {},
   "outputs": [
    {
     "data": {
      "text/plain": [
       "SARSOP.SARSOPSolver(Dict{AbstractString,Any}(Pair{AbstractString,Any}(\"randomization\", \"\"),Pair{AbstractString,Any}(\"timeout\", 3600.0)))"
      ]
     },
     "execution_count": 10,
     "metadata": {},
     "output_type": "execute_result"
    }
   ],
   "source": [
    "solver = SARSOPSolver(randomization=true, precision = 0.001, timeout = 600.)\n"
   ]
  },
  {
   "cell_type": "code",
   "execution_count": 11,
   "metadata": {},
   "outputs": [
    {
     "name": "stdout",
     "output_type": "stream",
     "text": [
      "Generating a pomdpx file: crosswalk.pomdpx\n",
      "\n",
      "Loading the model ...\n",
      "  input file   : crosswalk.pomdpx\n",
      "  loading time : 45.64s \n",
      "\n",
      "SARSOP initializing ...\n",
      "  initialization time : 90.60s\n",
      "\n",
      "-------------------------------------------------------------------------------\n",
      " Time   |#Trial |#Backup |LBound    |UBound    |Precision  |#Alphas |#Beliefs  \n",
      "-------------------------------------------------------------------------------\n",
      " 90.6    0       0        12.1169    12.1191    0.00217179  4        1        \n",
      " 105.38  4       19       12.1182    12.1191    0.000954115 17       11       \n",
      "-------------------------------------------------------------------------------\n",
      "\n",
      "SARSOP finishing ...\n",
      "  target precision reached\n",
      "  target precision  : 0.001000\n",
      "  precision reached : 0.000954 \n",
      "\n",
      "-------------------------------------------------------------------------------\n",
      " Time   |#Trial |#Backup |LBound    |UBound    |Precision  |#Alphas |#Beliefs  \n",
      "-------------------------------------------------------------------------------\n",
      " 105.38  4       19       12.1182    12.1191    0.000954115 17       11       \n",
      "-------------------------------------------------------------------------------\n",
      "\n",
      "Writing out policy ...\n",
      "  output file : crosswalk.policy\n",
      "\n"
     ]
    },
    {
     "data": {
      "text/plain": [
       "SARSOP.POMDPPolicy(\"crosswalk.policy\", POMDPXFiles.POMDPAlphas([10.2753 9.80559 … 10.2753 10.2753; 10.3449 9.93102 … 10.3449 10.3449; … ; 19.9998 19.9998 … 19.9999 19.9999; 19.9998 19.9998 … 19.9999 19.9999], [3, 1, 3, 3, 3, 2, 2, 2, 3, 3, 3, 3, 3, 3, 3, 3, 3]), AutomotivePOMDPs.SingleOCPOMDP(AutomotivePOMDPs.CrosswalkEnv(Roadway, AutomotiveDrivingModels.Lane(LaneTag(2, 1), AutomotiveDrivingModels.CurvePt[CurvePt({25.000, -10.000, 1.571}, 0.000, 0.000, NaN), CurvePt({25.000, 10.000, 1.571}, 20.000, 0.000, NaN)], 6.0, AutomotiveDrivingModels.SpeedLimit(-Inf, Inf), AutomotiveDrivingModels.LaneBoundary(:unknown, :unknown), AutomotiveDrivingModels.LaneBoundary(:unknown, :unknown), AutomotiveDrivingModels.LaneConnection[], AutomotiveDrivingModels.LaneConnection[]), AutomotiveDrivingModels.ConvexPolygon[ConvexPolygon: len 4 (max 4 pts)\n",
       "\tVecE2(15.000, -1.500)\n",
       "\tVecE2(15.000, -4.500)\n",
       "\tVecE2(21.500, -4.500)\n",
       "\tVecE2(21.500, -1.500)\n",
       "], AutomotivePOMDPs.CrosswalkParams(2, 50.0, 3.0, 20.0, 6.0, 5.0, 37.0, 8.0, 100, 0.5, 2.0, 10.0)), VehicleDef(CAR, 4.000, 1.800), VehicleDef(PEDESTRIAN, 1.000, 1.000), 2.0, 1.0, 1.0, 5.0, -5.0, 37.0, 5.0, 0.5, 0.3, 0.3, false, 1.0, 1.0, 1.0, -1.0, 0.0, 1.0, 0.95), Any[AutomotivePOMDPs.SingleOCAction(-4.0), AutomotivePOMDPs.SingleOCAction(-2.0), AutomotivePOMDPs.SingleOCAction(0.0), AutomotivePOMDPs.SingleOCAction(2.0)])"
      ]
     },
     "execution_count": 11,
     "metadata": {},
     "output_type": "execute_result"
    }
   ],
   "source": [
    "sarsop_policy = solve(solver, pomdp,\n",
    "               SARSOP.create_policy(solver, pomdp, \"crosswalk.policy\"), pomdp_file_name=\"crosswalk.pomdpx\" )"
   ]
  },
  {
   "cell_type": "code",
   "execution_count": 37,
   "metadata": {},
   "outputs": [
    {
     "name": "stdout",
     "output_type": "stream",
     "text": [
      " 11.688374 seconds (165.43 M allocations: 13.435 GiB, 16.18% gc time)\n"
     ]
    }
   ],
   "source": [
    "hr = HistoryRecorder(rng=rng)\n",
    "@time hist = simulate(hr, pomdp, sarsop_policy, DiscreteUpdater(pomdp));"
   ]
  },
  {
   "cell_type": "code",
   "execution_count": 38,
   "metadata": {},
   "outputs": [
    {
     "data": {
      "text/html": [
       "<video autoplay controls><source src=\"files/reel-11739988796639125612.webm?5755122942129870572\" type=\"video/webm\"></video>"
      ],
      "text/plain": [
       "Reel.Frames{MIME{Symbol(\"image/png\")}}(\"/tmp/tmpoBsqbv\", 0x0000000000000009, 2.0, nothing)"
      ]
     },
     "execution_count": 38,
     "metadata": {},
     "output_type": "execute_result"
    }
   ],
   "source": [
    "duration, fps, render_hist = animate_hist(pomdp, hist)\n",
    "film = roll(render_hist, fps = fps, duration = duration)"
   ]
  },
  {
   "cell_type": "code",
   "execution_count": null,
   "metadata": {
    "collapsed": true
   },
   "outputs": [],
   "source": []
  }
 ],
 "metadata": {
  "kernelspec": {
   "display_name": "Julia 0.6.0",
   "language": "julia",
   "name": "julia-0.6"
  },
  "language_info": {
   "file_extension": ".jl",
   "mimetype": "application/julia",
   "name": "julia",
   "version": "0.6.0"
  }
 },
 "nbformat": 4,
 "nbformat_minor": 2
}
