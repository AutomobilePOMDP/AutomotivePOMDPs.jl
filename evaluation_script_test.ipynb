{
 "cells": [
  {
   "cell_type": "markdown",
   "metadata": {},
   "source": [
    "# Evaluation Script Test "
   ]
  },
  {
   "cell_type": "code",
   "execution_count": 1,
   "metadata": {
    "collapsed": false
   },
   "outputs": [],
   "source": [
    "using AutomotiveDrivingModels, AutoViz, Reel"
   ]
  },
  {
   "cell_type": "markdown",
   "metadata": {},
   "source": [
    "Load models and config"
   ]
  },
  {
   "cell_type": "code",
   "execution_count": 2,
   "metadata": {
    "collapsed": false
   },
   "outputs": [
    {
     "data": {
      "text/plain": [
       "CrosswalkEnv"
      ]
     },
     "execution_count": 2,
     "metadata": {},
     "output_type": "execute_result"
    }
   ],
   "source": [
    "include(\"eval-env/occluded_crosswalk.jl\") # env config"
   ]
  },
  {
   "cell_type": "code",
   "execution_count": 3,
   "metadata": {
    "collapsed": false
   },
   "outputs": [],
   "source": [
    "include(\"eval-env/constant_pedestrian.jl\") # pedestrian model"
   ]
  },
  {
   "cell_type": "code",
   "execution_count": 4,
   "metadata": {
    "collapsed": false
   },
   "outputs": [
    {
     "data": {
      "text/plain": [
       "initial_pedestrian"
      ]
     },
     "execution_count": 4,
     "metadata": {},
     "output_type": "execute_result"
    }
   ],
   "source": [
    "include(\"eval-env/pedestrian_flow.jl\")"
   ]
  },
  {
   "cell_type": "code",
   "execution_count": 5,
   "metadata": {
    "collapsed": false
   },
   "outputs": [
    {
     "data": {
      "text/plain": [
       "is_observable"
      ]
     },
     "execution_count": 5,
     "metadata": {},
     "output_type": "execute_result"
    }
   ],
   "source": [
    "include(\"eval-env/simple_sensor.jl\")"
   ]
  },
  {
   "cell_type": "code",
   "execution_count": 6,
   "metadata": {
    "collapsed": false
   },
   "outputs": [
    {
     "data": {
      "text/plain": [
       "initial_ego"
      ]
     },
     "execution_count": 6,
     "metadata": {},
     "output_type": "execute_result"
    }
   ],
   "source": [
    "include(\"eval-env/ego_control.jl\")"
   ]
  },
  {
   "cell_type": "code",
   "execution_count": 7,
   "metadata": {
    "collapsed": false
   },
   "outputs": [],
   "source": [
    "include(\"simulation.jl\")"
   ]
  },
  {
   "cell_type": "code",
   "execution_count": 8,
   "metadata": {
    "collapsed": false
   },
   "outputs": [
    {
     "data": {
      "text/plain": [
       "is_terminal (generic function with 1 method)"
      ]
     },
     "execution_count": 8,
     "metadata": {},
     "output_type": "execute_result"
    }
   ],
   "source": [
    "include(\"eval_config.jl\") # eval config"
   ]
  },
  {
   "cell_type": "code",
   "execution_count": 9,
   "metadata": {
    "collapsed": false
   },
   "outputs": [
    {
     "data": {
      "text/plain": [
       "update"
      ]
     },
     "execution_count": 9,
     "metadata": {},
     "output_type": "execute_result"
    }
   ],
   "source": [
    "include(\"baseline_policy.jl\")"
   ]
  },
  {
   "cell_type": "code",
   "execution_count": 10,
   "metadata": {
    "collapsed": false
   },
   "outputs": [],
   "source": [
    "include(\"render_helpers.jl\")"
   ]
  },
  {
   "cell_type": "markdown",
   "metadata": {},
   "source": [
    "## Initialize "
   ]
  },
  {
   "cell_type": "markdown",
   "metadata": {},
   "source": [
    "### Configure the Evaluation\n",
    "- Time step\n",
    "- Number of episodes \n",
    "- ..."
   ]
  },
  {
   "cell_type": "code",
   "execution_count": 11,
   "metadata": {
    "collapsed": false
   },
   "outputs": [
    {
     "data": {
      "text/plain": [
       "(EgoCollisionCallback(),TerminalCallback())"
      ]
     },
     "execution_count": 11,
     "metadata": {},
     "output_type": "execute_result"
    }
   ],
   "source": [
    "config = EvalConfig() # use default\n",
    "config.time_out = 100\n",
    "config.callbacks"
   ]
  },
  {
   "cell_type": "code",
   "execution_count": 12,
   "metadata": {
    "collapsed": false
   },
   "outputs": [
    {
     "data": {
      "text/plain": [
       "AutoViz.FitToContentCamera(0.0)"
      ]
     },
     "execution_count": 12,
     "metadata": {},
     "output_type": "execute_result"
    }
   ],
   "source": [
    "cam = FitToContentCamera(0.0)"
   ]
  },
  {
   "cell_type": "markdown",
   "metadata": {},
   "source": [
    "### Configure the Environment"
   ]
  },
  {
   "cell_type": "code",
   "execution_count": 13,
   "metadata": {
    "collapsed": false
   },
   "outputs": [
    {
     "data": {
      "text/plain": [
       "CrosswalkEnv(Roadway,AutomotiveDrivingModels.Lane(LaneTag(2, 1),AutomotiveDrivingModels.CurvePt[CurvePt({25.000, -10.000, 1.571}, 0.000, 0.000, NaN),CurvePt({25.000, 10.000, 1.571}, 20.000, 0.000, NaN)],6.0,AutomotiveDrivingModels.SpeedLimit(-Inf,Inf),AutomotiveDrivingModels.LaneBoundary(:unknown,:unknown),AutomotiveDrivingModels.LaneBoundary(:unknown,:unknown),AutomotiveDrivingModels.LaneConnection[],AutomotiveDrivingModels.LaneConnection[]),AutomotiveDrivingModels.ConvexPolygon[ConvexPolygon: len 4 (max 4 pts)\n",
       "\tVecE2(15.000, -1.500)\n",
       "\tVecE2(15.000, -4.500)\n",
       "\tVecE2(22.000, -4.500)\n",
       "\tVecE2(22.000, -1.500)\n",
       "],EnvParams(2,50.0,3.0,20.0,6.0,5.0,37.0,8.0,0.3,2.0,10.0))"
      ]
     },
     "execution_count": 13,
     "metadata": {},
     "output_type": "execute_result"
    }
   ],
   "source": [
    "params = EnvParams(ped_rate = 0.3)\n",
    "env = CrosswalkEnv(params)"
   ]
  },
  {
   "cell_type": "code",
   "execution_count": 14,
   "metadata": {
    "collapsed": false
   },
   "outputs": [
    {
     "data": {
      "text/plain": [
       "SimpleSensor(0.1,0.1)"
      ]
     },
     "execution_count": 14,
     "metadata": {},
     "output_type": "execute_result"
    }
   ],
   "source": [
    "sensor = SimpleSensor(0.1, 0.1)"
   ]
  },
  {
   "cell_type": "markdown",
   "metadata": {},
   "source": [
    "## Initialize states"
   ]
  },
  {
   "cell_type": "code",
   "execution_count": 15,
   "metadata": {
    "collapsed": false
   },
   "outputs": [
    {
     "data": {
      "image/png": "[encoded data removed]",
      "text/plain": [
       "Cairo.CairoSurface{UInt32}(Ptr{Void} @0x000000000899fd50,1000.0,600.0,#undef)"
      ]
     },
     "execution_count": 15,
     "metadata": {},
     "output_type": "execute_result"
    }
   ],
   "source": [
    "# Car definition\n",
    "ego_initial_state = VehicleState(VecSE2(5.0, 0., 0.), env.roadway.segments[1].lanes[1],env.roadway, 8.0)\n",
    "ego = Vehicle(ego_initial_state, VehicleDef(), 1)\n",
    "\n",
    "scene = Scene()\n",
    "push!(scene, ego)\n",
    "\n",
    "ped = initial_pedestrian(env, config.rng)\n",
    "push!(scene, ped)\n",
    "\n",
    "# visualize the initial state\n",
    "render(scene, env, cam=cam)"
   ]
  },
  {
   "cell_type": "markdown",
   "metadata": {},
   "source": [
    "## Test with baseline policy"
   ]
  },
  {
   "cell_type": "code",
   "execution_count": 16,
   "metadata": {
    "collapsed": false
   },
   "outputs": [],
   "source": [
    "ego = initial_ego(env, config.rng)\n",
    "policy = waitAndGo(env = env, initial_state = ego, Δt = config.sim_dt, N0 = 10, threshold = 3.)\n",
    "updater = waitAndGoUpdater(policy);"
   ]
  },
  {
   "cell_type": "code",
   "execution_count": 17,
   "metadata": {
    "collapsed": false
   },
   "outputs": [
    {
     "data": {
      "text/plain": [
       "WaitAndGoOverlay(0.1,0.0,waitAndGo\n",
       "  env: CrosswalkEnv\n",
       "  initial_state: Records.Entity{AutomotiveDrivingModels.VehicleState,AutomotiveDrivingModels.VehicleDef,Int64}\n",
       "  max_acc: Float64 3.0\n",
       "  max_dec: Float64 -4.0\n",
       "  Δt: Float64 0.1\n",
       "  N0: Int64 10\n",
       "  threshold: Float64 3.0\n",
       "  dist_delta: Float64 1.0\n",
       "  reaching: Bool true\n",
       "  wait: Bool false\n",
       "  go: Bool false\n",
       "  N: Int64 0\n",
       ",Inf,1,1,RGB{N0f8}(1.0,1.0,1.0),20)"
      ]
     },
     "execution_count": 17,
     "metadata": {},
     "output_type": "execute_result"
    }
   ],
   "source": [
    "overlay = WaitAndGoOverlay(config.sim_dt, 0., policy)"
   ]
  },
  {
   "cell_type": "code",
   "execution_count": 18,
   "metadata": {
    "collapsed": false
   },
   "outputs": [
    {
     "data": {
      "text/plain": [
       "reset_policy! (generic function with 1 method)"
      ]
     },
     "execution_count": 18,
     "metadata": {},
     "output_type": "execute_result"
    }
   ],
   "source": [
    "function reset_policy!(policy::waitAndGo)\n",
    "    policy.reaching = true\n",
    "    policy.wait = false\n",
    "    policy.go = false \n",
    "    policy.N = 0\n",
    "end"
   ]
  },
  {
   "cell_type": "code",
   "execution_count": 19,
   "metadata": {
    "collapsed": false
   },
   "outputs": [],
   "source": [
    "scene = Scene()\n",
    "push!(scene, ego);"
   ]
  },
  {
   "cell_type": "code",
   "execution_count": 20,
   "metadata": {
    "collapsed": false
   },
   "outputs": [],
   "source": [
    "models = Dict{Int, DriverModel}()\n",
    "# Constant speed model\n",
    "models[1] = CrosswalkDriver(env, 0., Vehicle[], ego.state, sensor, policy, updater); \n",
    "# models[1] = IntelligentDriverModel(v_des = 8.)\n",
    "# models[2] = ConstantPedestrian(0.1, 0.5, 2.0, config.sim_dt)"
   ]
  },
  {
   "cell_type": "code",
   "execution_count": 21,
   "metadata": {
    "collapsed": false
   },
   "outputs": [
    {
     "name": "stdout",
     "output_type": "stream",
     "text": [
      "Episode 2 time out\n"
     ]
    }
   ],
   "source": [
    "nticks = config.time_out\n",
    "rec = SceneRecord(nticks+1, config.sim_dt)\n",
    "# execute the simulation\n",
    "for i = 1:100\n",
    "    reset_policy!(policy)    \n",
    "    ego = initial_ego(env, config.rng)\n",
    "    overlay.speed = ego.state.v\n",
    "    models[1] = CrosswalkDriver(env, 0., Vehicle[], ego.state, sensor, policy, updater) \n",
    "    scene = Scene()\n",
    "    push!(scene, ego);\n",
    "    simulate!(rec, scene, env, models, nticks, config.rng, config.callbacks)\n",
    "    if is_crash(rec[0])\n",
    "        println(\"Episode $i crash\")\n",
    "        break \n",
    "    elseif nframes(rec) == config.time_out + 1    \n",
    "        println(\"Episode $i time out\")\n",
    "        break\n",
    "    end\n",
    "end"
   ]
  },
  {
   "cell_type": "code",
   "execution_count": 22,
   "metadata": {
    "collapsed": false,
    "scrolled": false
   },
   "outputs": [
    {
     "data": {
      "text/html": [
       "<video autoplay controls><source src=\"files/reel-17940647614730085169.webm?14282022923131349078\" type=\"video/webm\"></video>"
      ],
      "text/plain": [
       "Reel.Frames{MIME{Symbol(\"image/png\")}}(\"C:\\\\Users\\\\Maxime\\\\AppData\\\\Local\\\\Temp\\\\jl_B314.tmp\",0x0000000000000065,2.5,nothing)"
      ]
     },
     "execution_count": 22,
     "metadata": {},
     "output_type": "execute_result"
    }
   ],
   "source": [
    "reset_policy!(overlay.policy)\n",
    "duration, fps, render_rec = animate_record(rec, overlay)\n",
    "# speed_factor = 1/4\n",
    "film = roll(render_rec, fps = fps*speed_factor, duration = duration/speed_factor)"
   ]
  },
  {
   "cell_type": "markdown",
   "metadata": {},
   "source": [
    "## Evaluate and tune the baseline\n",
    "\n",
    "The parameters we wish to tune are the TTC threshold and the number of redundancy"
   ]
  },
  {
   "cell_type": "code",
   "execution_count": 24,
   "metadata": {
    "collapsed": false
   },
   "outputs": [
    {
     "data": {
      "text/plain": [
       "100"
      ]
     },
     "execution_count": 24,
     "metadata": {},
     "output_type": "execute_result"
    }
   ],
   "source": [
    "config.n_episodes = 100"
   ]
  },
  {
   "cell_type": "code",
   "execution_count": 25,
   "metadata": {
    "collapsed": false
   },
   "outputs": [
    {
     "data": {
      "text/plain": [
       "evaluate (generic function with 1 method)"
      ]
     },
     "execution_count": 25,
     "metadata": {},
     "output_type": "execute_result"
    }
   ],
   "source": [
    "function evaluate(th::Float64, N::Int64)\n",
    "    # initialize policy to evaluate\n",
    "    env.params.ped_rate = 0.2\n",
    "    policy = waitAndGo(env = env, initial_state = ego, Δt = config.sim_dt, N0 = N, threshold = th)\n",
    "    updater = waitAndGoUpdater(policy)\n",
    "\n",
    "    models = Dict{Int, DriverModel}()\n",
    "    # Constant speed model\n",
    "    models[1] = CrosswalkDriver(env, 0., Vehicle[], ego.state, sensor, policy, updater) \n",
    "\n",
    "    #evaluation \n",
    "    config.n_episodes = 100\n",
    "    nticks = config.time_out\n",
    "    rec = SceneRecord(nticks+1, config.sim_dt)\n",
    "\n",
    "    # intiialize containers and callbacks\n",
    "    time_outs = 0\n",
    "    crashes = 0\n",
    "    successes = 0\n",
    "    steps = zeros(config.n_episodes)\n",
    "\n",
    "\n",
    "    for ep = 1:config.n_episodes\n",
    "\n",
    "        # initialize scene\n",
    "        rec = SceneRecord(nticks+1, config.sim_dt)\n",
    "        reset_policy!(policy)    \n",
    "        ego = initial_ego(env, config.rng)\n",
    "        models[1] = CrosswalkDriver(env, 0., Vehicle[], ego.state, sensor, policy, updater) \n",
    "        scene = Scene()\n",
    "        push!(scene, ego);\n",
    "\n",
    "\n",
    "        simulate!(rec, scene, env, models, nticks, config.rng, config.callbacks)\n",
    "\n",
    "        # analyze\n",
    "        if rec.nframes == config.time_out + 1\n",
    "            time_outs += 1\n",
    "        elseif is_crash(rec[0])\n",
    "            crashes += 1\n",
    "        elseif is_terminal(rec[0], env)\n",
    "            successes += 1\n",
    "        end\n",
    "\n",
    "        steps[ep] = nframes(rec)       \n",
    "\n",
    "    end\n",
    "    try\n",
    "        @assert time_outs + crashes + successes == config.n_episodes\n",
    "    catch \n",
    "        println(time_outs, \" \", crashes, \" \", successes, \" \", time_outs + crashes + successes)\n",
    "    end\n",
    "    return time_outs,crashes, successes,mean(steps)\n",
    "end"
   ]
  },
  {
   "cell_type": "code",
   "execution_count": 26,
   "metadata": {
    "collapsed": false
   },
   "outputs": [
    {
     "name": "stderr",
     "output_type": "stream",
     "text": [
      "WARNING: using ProgressMeter.update! in module Main conflicts with an existing identifier.\n"
     ]
    }
   ],
   "source": [
    "using ProgressMeter"
   ]
  },
  {
   "cell_type": "code",
   "execution_count": 27,
   "metadata": {
    "collapsed": false
   },
   "outputs": [
    {
     "name": "stderr",
     "output_type": "stream",
     "text": [
      "Progress: 100%|█████████████████████████████████████████| Time: 0:01:07\n"
     ]
    }
   ],
   "source": [
    "th_vec = 0:0.5:5\n",
    "N_vec = 0:30\n",
    "crashes = zeros(length(th_vec), length(N_vec))\n",
    "successes = zeros(length(th_vec), length(N_vec))\n",
    "time_outs = zeros(length(th_vec), length(N_vec))\n",
    "steps = zeros(length(th_vec), length(N_vec))\n",
    "best_succ, th_best, N_best = 0. , 0., 0.\n",
    "@showprogress for (i,th) in enumerate(th_vec)\n",
    "    for (j,N) in enumerate(N_vec)\n",
    "        time_outs[i,j], crashes[i,j], successes[i,j], steps[i,j] = evaluate(th, N)\n",
    "        if successes[i,j] > best_succ\n",
    "            best_succ, th_best, N_best = successes[i,j], th, N\n",
    "        end\n",
    "    end\n",
    "end"
   ]
  },
  {
   "cell_type": "code",
   "execution_count": 28,
   "metadata": {
    "collapsed": false
   },
   "outputs": [
    {
     "name": "stderr",
     "output_type": "stream",
     "text": [
      "\u001b[1m\u001b[34mINFO: Recompiling stale cache file C:\\Users\\Maxime\\.julia\\lib\\v0.5\\PyCall.ji for module PyCall.\n",
      "\u001b[0m\u001b[1m\u001b[34mINFO: Recompiling stale cache file C:\\Users\\Maxime\\.julia\\lib\\v0.5\\PyPlot.ji for module PyPlot.\n",
      "\u001b[0mWARNING: using PyPlot.polar in module Main conflicts with an existing identifier.\n"
     ]
    }
   ],
   "source": [
    "using PyPlot"
   ]
  },
  {
   "cell_type": "code",
   "execution_count": 29,
   "metadata": {
    "collapsed": false
   },
   "outputs": [
    {
     "data": {
      "image/png": "[encoded data removed]",
      "text/plain": [
       "PyPlot.Figure(PyObject <matplotlib.figure.Figure object at 0x00000000039B27F0>)"
      ]
     },
     "metadata": {},
     "output_type": "display_data"
    },
    {
     "data": {
      "text/plain": [
       "1-element Array{Any,1}:\n",
       " PyObject <matplotlib.lines.Line2D object at 0x00000000241E02E8>"
      ]
     },
     "execution_count": 29,
     "metadata": {},
     "output_type": "execute_result"
    }
   ],
   "source": [
    "plot(N_vec, crashes[end,:])"
   ]
  },
  {
   "cell_type": "code",
   "execution_count": 50,
   "metadata": {
    "collapsed": false
   },
   "outputs": [
    {
     "data": {
      "text/plain": [
       "59.0"
      ]
     },
     "execution_count": 50,
     "metadata": {},
     "output_type": "execute_result"
    }
   ],
   "source": [
    "best_succ"
   ]
  },
  {
   "cell_type": "code",
   "execution_count": 73,
   "metadata": {
    "collapsed": false
   },
   "outputs": [
    {
     "data": {
      "text/plain": [
       "11-element Array{Float64,1}:\n",
       " 54.0\n",
       " 47.0\n",
       " 34.0\n",
       " 37.0\n",
       " 34.0\n",
       " 33.0\n",
       " 44.0\n",
       " 36.0\n",
       " 28.0\n",
       " 45.0\n",
       " 41.0"
      ]
     },
     "execution_count": 73,
     "metadata": {},
     "output_type": "execute_result"
    }
   ],
   "source": [
    "crashes[end, :]"
   ]
  },
  {
   "cell_type": "code",
   "execution_count": 51,
   "metadata": {
    "collapsed": false
   },
   "outputs": [
    {
     "data": {
      "text/plain": [
       "0.0"
      ]
     },
     "execution_count": 51,
     "metadata": {},
     "output_type": "execute_result"
    }
   ],
   "source": [
    "minimum(time_outs)"
   ]
  },
  {
   "cell_type": "code",
   "execution_count": 29,
   "metadata": {
    "collapsed": false
   },
   "outputs": [
    {
     "name": "stdout",
     "output_type": "stream",
     "text": [
      "search: @\u001b[1ms\u001b[22m\u001b[1mh\u001b[22m\u001b[1mo\u001b[22m\u001b[1mw\u001b[22m\u001b[1mp\u001b[22m\u001b[1mr\u001b[22m\u001b[1mo\u001b[22m\u001b[1mg\u001b[22m\u001b[1mr\u001b[22m\u001b[1me\u001b[22m\u001b[1ms\u001b[22m\u001b[1ms\u001b[22m\n",
      "\n",
      "Couldn't find \u001b[36mshowprogress\n",
      "\u001b[39mPerhaps you meant @showprogress or Progress\n"
     ]
    },
    {
     "data": {
      "text/markdown": [
       "No documentation found.\n",
       "\n",
       "Binding `showprogress` does not exist.\n"
      ],
      "text/plain": [
       "No documentation found.\n",
       "\n",
       "Binding `showprogress` does not exist.\n"
      ]
     },
     "execution_count": 29,
     "metadata": {},
     "output_type": "execute_result"
    }
   ],
   "source": [
    "?showprogress"
   ]
  },
  {
   "cell_type": "code",
   "execution_count": null,
   "metadata": {
    "collapsed": true
   },
   "outputs": [],
   "source": []
  }
 ],
 "metadata": {
  "anaconda-cloud": {},
  "kernelspec": {
   "display_name": "Julia 0.5.0",
   "language": "julia",
   "name": "julia-0.5"
  },
  "language_info": {
   "file_extension": ".jl",
   "mimetype": "application/julia",
   "name": "julia",
   "version": "0.5.0"
  }
 },
 "nbformat": 4,
 "nbformat_minor": 1
}
