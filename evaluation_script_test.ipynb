{
 "cells": [
  {
   "cell_type": "markdown",
   "metadata": {},
   "source": [
    "# Evaluation Script Test "
   ]
  },
  {
   "cell_type": "code",
   "execution_count": 1,
   "metadata": {
    "collapsed": true
   },
   "outputs": [],
   "source": [
    "using AutomotiveDrivingModels, AutoViz, Reel"
   ]
  },
  {
   "cell_type": "markdown",
   "metadata": {},
   "source": [
    "Load models and config"
   ]
  },
  {
   "cell_type": "code",
   "execution_count": 2,
   "metadata": {
    "collapsed": false
   },
   "outputs": [
    {
     "data": {
      "text/plain": [
       "CrosswalkEnv"
      ]
     },
     "execution_count": 2,
     "metadata": {},
     "output_type": "execute_result"
    }
   ],
   "source": [
    "include(\"eval-env/occluded_crosswalk.jl\") # env config"
   ]
  },
  {
   "cell_type": "code",
   "execution_count": 3,
   "metadata": {
    "collapsed": false
   },
   "outputs": [],
   "source": [
    "include(\"eval-env/constant_pedestrian.jl\") # pedestrian model"
   ]
  },
  {
   "cell_type": "code",
   "execution_count": 4,
   "metadata": {
    "collapsed": false
   },
   "outputs": [
    {
     "data": {
      "text/plain": [
       "initial_pedestrian"
      ]
     },
     "execution_count": 4,
     "metadata": {},
     "output_type": "execute_result"
    }
   ],
   "source": [
    "include(\"eval-env/pedestrian_flow.jl\")"
   ]
  },
  {
   "cell_type": "code",
   "execution_count": 5,
   "metadata": {
    "collapsed": false
   },
   "outputs": [
    {
     "data": {
      "text/plain": [
       "is_observable"
      ]
     },
     "execution_count": 5,
     "metadata": {},
     "output_type": "execute_result"
    }
   ],
   "source": [
    "include(\"eval-env/simple_sensor.jl\")"
   ]
  },
  {
   "cell_type": "code",
   "execution_count": 6,
   "metadata": {
    "collapsed": false
   },
   "outputs": [
    {
     "data": {
      "text/plain": [
       "initial_ego"
      ]
     },
     "execution_count": 6,
     "metadata": {},
     "output_type": "execute_result"
    }
   ],
   "source": [
    "include(\"eval-env/ego_control.jl\")"
   ]
  },
  {
   "cell_type": "code",
   "execution_count": 7,
   "metadata": {
    "collapsed": false
   },
   "outputs": [],
   "source": [
    "include(\"simulation.jl\")"
   ]
  },
  {
   "cell_type": "code",
   "execution_count": 8,
   "metadata": {
    "collapsed": false
   },
   "outputs": [
    {
     "data": {
      "text/plain": [
       "is_terminal (generic function with 1 method)"
      ]
     },
     "execution_count": 8,
     "metadata": {},
     "output_type": "execute_result"
    }
   ],
   "source": [
    "include(\"eval_config.jl\") # eval config"
   ]
  },
  {
   "cell_type": "code",
   "execution_count": 9,
   "metadata": {
    "collapsed": false
   },
   "outputs": [
    {
     "data": {
      "text/plain": [
       "update"
      ]
     },
     "execution_count": 9,
     "metadata": {},
     "output_type": "execute_result"
    }
   ],
   "source": [
    "include(\"baseline_policy.jl\")"
   ]
  },
  {
   "cell_type": "code",
   "execution_count": 10,
   "metadata": {
    "collapsed": false
   },
   "outputs": [],
   "source": [
    "include(\"render_helpers.jl\")"
   ]
  },
  {
   "cell_type": "markdown",
   "metadata": {},
   "source": [
    "## Initialize "
   ]
  },
  {
   "cell_type": "markdown",
   "metadata": {},
   "source": [
    "### Configure the Evaluation\n",
    "- Time step\n",
    "- Number of episodes \n",
    "- ..."
   ]
  },
  {
   "cell_type": "code",
   "execution_count": 11,
   "metadata": {
    "collapsed": false
   },
   "outputs": [
    {
     "data": {
      "text/plain": [
       "EvalConfig(0.1,MersenneTwister(UInt32[0x00000003],Base.dSFMT.DSFMT_state(Int32[-1359582567,1073454075,1934390716,1073583786,-114685834,1073112842,-1913218479,1073122729,-73577195,1073266439  …  1226759590,1072980451,-1366384707,1073012992,1661148031,2121090155,141576524,-658637225,382,0]),[0.0,0.0,0.0,0.0,0.0,0.0,0.0,0.0,0.0,0.0  …  0.0,0.0,0.0,0.0,0.0,0.0,0.0,0.0,0.0,0.0],382),1,200,(AutomotiveDrivingModels.CollisionCallback\n",
       "  mem: AutomotiveDrivingModels.CPAMemory\n",
       ",TerminalCallback()))"
      ]
     },
     "execution_count": 11,
     "metadata": {},
     "output_type": "execute_result"
    }
   ],
   "source": [
    "config = EvalConfig() # use default"
   ]
  },
  {
   "cell_type": "code",
   "execution_count": 12,
   "metadata": {
    "collapsed": false
   },
   "outputs": [
    {
     "data": {
      "text/plain": [
       "AutoViz.FitToContentCamera(0.0)"
      ]
     },
     "execution_count": 12,
     "metadata": {},
     "output_type": "execute_result"
    }
   ],
   "source": [
    "cam = FitToContentCamera(0.0)"
   ]
  },
  {
   "cell_type": "markdown",
   "metadata": {},
   "source": [
    "### Configure the Environment"
   ]
  },
  {
   "cell_type": "code",
   "execution_count": 13,
   "metadata": {
    "collapsed": false
   },
   "outputs": [
    {
     "data": {
      "text/plain": [
       "CrosswalkEnv(Roadway,AutomotiveDrivingModels.Lane(LaneTag(1, 1),AutomotiveDrivingModels.CurvePt[CurvePt({25.000, -10.000, 1.571}, 0.000, 0.000, NaN),CurvePt({25.000, 10.000, 1.571}, 20.000, 0.000, NaN)],6.0,AutomotiveDrivingModels.SpeedLimit(-Inf,Inf),AutomotiveDrivingModels.LaneBoundary(:unknown,:unknown),AutomotiveDrivingModels.LaneBoundary(:unknown,:unknown),AutomotiveDrivingModels.LaneConnection[],AutomotiveDrivingModels.LaneConnection[]),AutomotiveDrivingModels.ConvexPolygon[ConvexPolygon: len 4 (max 4 pts)\n",
       "\tVecE2(15.000, -1.500)\n",
       "\tVecE2(15.000, -4.500)\n",
       "\tVecE2(22.000, -4.500)\n",
       "\tVecE2(22.000, -1.500)\n",
       "],EnvParams(2,50.0,3.0,20.0,6.0,5.0,37.0,8.0,0.5,2.0,10.0))"
      ]
     },
     "execution_count": 13,
     "metadata": {},
     "output_type": "execute_result"
    }
   ],
   "source": [
    "params = EnvParams(ped_rate = 0.5)\n",
    "env = CrosswalkEnv(params)"
   ]
  },
  {
   "cell_type": "code",
   "execution_count": 14,
   "metadata": {
    "collapsed": false
   },
   "outputs": [
    {
     "data": {
      "text/plain": [
       "SimpleSensor(0.1,0.1)"
      ]
     },
     "execution_count": 14,
     "metadata": {},
     "output_type": "execute_result"
    }
   ],
   "source": [
    "sensor = SimpleSensor(0.1, 0.1)"
   ]
  },
  {
   "cell_type": "markdown",
   "metadata": {},
   "source": [
    "## Initialize states"
   ]
  },
  {
   "cell_type": "code",
   "execution_count": 15,
   "metadata": {
    "collapsed": false
   },
   "outputs": [
    {
     "data": {
      "image/png": "[encoded data removed]",
      "text/plain": [
       "Cairo.CairoSurface{UInt32}(Ptr{Void} @0x0000000008a79490,1000.0,600.0,#undef)"
      ]
     },
     "execution_count": 15,
     "metadata": {},
     "output_type": "execute_result"
    }
   ],
   "source": [
    "# Car definition\n",
    "ego_initial_state = VehicleState(VecSE2(5.0, 0., 0.), env.roadway.segments[1].lanes[1],env.roadway, 8.0)\n",
    "ego = Vehicle(ego_initial_state, VehicleDef(), 1)\n",
    "\n",
    "scene = Scene()\n",
    "push!(scene, ego)\n",
    "\n",
    "ped = initial_pedestrian(env, config.rng)\n",
    "push!(scene, ped)\n",
    "\n",
    "# visualize the initial state\n",
    "render(scene, env, cam=cam)"
   ]
  },
  {
   "cell_type": "markdown",
   "metadata": {},
   "source": [
    "## Test with baseline policy"
   ]
  },
  {
   "cell_type": "code",
   "execution_count": 25,
   "metadata": {
    "collapsed": false
   },
   "outputs": [],
   "source": [
    "ego = initial_ego(env, config.rng)\n",
    "policy = waitAndGo(env, ego, 2.0, -4.0, config.sim_dt, 4, 2.5, true, false, false, 0)\n",
    "updater = waitAndGoUpdater(policy);"
   ]
  },
  {
   "cell_type": "code",
   "execution_count": 26,
   "metadata": {
    "collapsed": false
   },
   "outputs": [
    {
     "data": {
      "text/plain": [
       "WaitAndGoOverlay(0.1,0.0,waitAndGo(CrosswalkEnv(Roadway,AutomotiveDrivingModels.Lane(LaneTag(1, 1),AutomotiveDrivingModels.CurvePt[CurvePt({25.000, -10.000, 1.571}, 0.000, 0.000, NaN),CurvePt({25.000, 10.000, 1.571}, 20.000, 0.000, NaN)],6.0,AutomotiveDrivingModels.SpeedLimit(-Inf,Inf),AutomotiveDrivingModels.LaneBoundary(:unknown,:unknown),AutomotiveDrivingModels.LaneBoundary(:unknown,:unknown),AutomotiveDrivingModels.LaneConnection[],AutomotiveDrivingModels.LaneConnection[]),AutomotiveDrivingModels.ConvexPolygon[ConvexPolygon: len 4 (max 4 pts)\n",
       "\tVecE2(15.000, -1.500)\n",
       "\tVecE2(15.000, -4.500)\n",
       "\tVecE2(22.000, -4.500)\n",
       "\tVecE2(22.000, -1.500)\n",
       "],EnvParams(2,50.0,3.0,20.0,6.0,5.0,37.0,8.0,0.5,2.0,10.0)),Vehicle(1, VehicleState(VecSE2({5.000, 0.000}, 0.000), Frenet(RoadIndex({1, 0.100000}, {1, 1}), 5.000, 0.000, 0.000), 7.048), VehicleDef(CAR, 4.000, 1.800)),2.0,-4.0,0.1,4,2.5,true,false,false,0),1,1,RGB{N0f8}(1.0,1.0,1.0),20)"
      ]
     },
     "execution_count": 26,
     "metadata": {},
     "output_type": "execute_result"
    }
   ],
   "source": [
    "overlay = WaitAndGoOverlay(config.sim_dt, 0., policy)"
   ]
  },
  {
   "cell_type": "code",
   "execution_count": 27,
   "metadata": {
    "collapsed": false
   },
   "outputs": [
    {
     "name": "stderr",
     "output_type": "stream",
     "text": [
      "WARNING: Method definition reset_policy!(Main.waitAndGo) in module Main at In[18]:2"
     ]
    },
    {
     "data": {
      "text/plain": [
       "reset_policy! (generic function with 1 method)"
      ]
     },
     "execution_count": 27,
     "metadata": {},
     "output_type": "execute_result"
    },
    {
     "name": "stderr",
     "output_type": "stream",
     "text": [
      " overwritten at In[27]:2.\n"
     ]
    }
   ],
   "source": [
    "function reset_policy!(policy::waitAndGo)\n",
    "    policy.reaching = true\n",
    "    policy.wait = false\n",
    "    policy.go = false \n",
    "    policy.N = 0\n",
    "end"
   ]
  },
  {
   "cell_type": "code",
   "execution_count": 28,
   "metadata": {
    "collapsed": false
   },
   "outputs": [],
   "source": [
    "scene = Scene()\n",
    "push!(scene, ego);"
   ]
  },
  {
   "cell_type": "code",
   "execution_count": 29,
   "metadata": {
    "collapsed": false
   },
   "outputs": [
    {
     "data": {
      "text/plain": [
       "ConstantPedestrian(0.1,0.5,2.0,0.1)"
      ]
     },
     "execution_count": 29,
     "metadata": {},
     "output_type": "execute_result"
    }
   ],
   "source": [
    "models = Dict{Int, DriverModel}()\n",
    "# Constant speed model\n",
    "models[1] = CrosswalkDriver(env, 0., Vehicle[], ego.state, sensor, policy, updater) \n",
    "models[2] = ConstantPedestrian(0.1, 0.5, 2.0, config.sim_dt)"
   ]
  },
  {
   "cell_type": "code",
   "execution_count": 23,
   "metadata": {
    "collapsed": false
   },
   "outputs": [
    {
     "name": "stdout",
     "output_type": "stream",
     "text": [
      "  0.006631 seconds (26.75 k allocations: 1.627 MB)\n",
      "Crash\n"
     ]
    }
   ],
   "source": [
    "nticks = 200\n",
    "rec = SceneRecord(nticks+1, config.sim_dt)\n",
    "# execute the simulation\n",
    "for i = 1:100\n",
    "    reset_policy!(policy)    \n",
    "    ego = initial_ego(env, config.rng)\n",
    "    models[1] = CrosswalkDriver(env, 0., Vehicle[], ego.state, sensor, policy, updater) \n",
    "    scene = Scene()\n",
    "    push!(scene, ego);\n",
    "    @time simulate!(rec, scene, env, models, nticks, config.rng, config.callbacks)\n",
    "    if !is_collision_free(rec[0])\n",
    "        println(\"Crash\")\n",
    "        break\n",
    "    end\n",
    "end"
   ]
  },
  {
   "cell_type": "code",
   "execution_count": 30,
   "metadata": {
    "collapsed": false,
    "scrolled": true
   },
   "outputs": [
    {
     "data": {
      "text/html": [
       "<img src=\"files/reel-11287848001691559401.gif?2229799975806522463\" />"
      ],
      "text/plain": [
       "Reel.Frames{MIME{Symbol(\"image/png\")}}(\"C:\\\\Users\\\\Maxime\\\\AppData\\\\Local\\\\Temp\\\\jl_6934.tmp\",0x0000000000000080,10.0,nothing)"
      ]
     },
     "execution_count": 30,
     "metadata": {},
     "output_type": "execute_result"
    }
   ],
   "source": [
    "reset_policy!(overlay.policy)\n",
    "duration, fps, render_rec = animate_record(rec, overlay)\n",
    "film = roll(render_rec, fps = fps, duration = duration)"
   ]
  },
  {
   "cell_type": "code",
   "execution_count": 31,
   "metadata": {
    "collapsed": false
   },
   "outputs": [
    {
     "data": {
      "image/png": "[encoded data removed]",
      "text/plain": [
       "Cairo.CairoSurface{UInt32}(Ptr{Void} @0x000000001d32a8c0,1000.0,600.0,#undef)"
      ]
     },
     "execution_count": 31,
     "metadata": {},
     "output_type": "execute_result"
    }
   ],
   "source": [
    "render(rec[-10], env, [overlay], cam=cam)"
   ]
  },
  {
   "cell_type": "code",
   "execution_count": 28,
   "metadata": {
    "collapsed": false
   },
   "outputs": [
    {
     "data": {
      "text/plain": [
       "1"
      ]
     },
     "execution_count": 28,
     "metadata": {},
     "output_type": "execute_result"
    }
   ],
   "source": [
    "scene = rec.frames[1];\n",
    "findfirst(scene, 1)"
   ]
  },
  {
   "cell_type": "markdown",
   "metadata": {},
   "source": [
    "## Evaluate and tune the baseline\n",
    "\n",
    "The parameters we wish to tune are the TTC threshold and the number of redundancy"
   ]
  },
  {
   "cell_type": "code",
   "execution_count": 29,
   "metadata": {
    "collapsed": false
   },
   "outputs": [
    {
     "data": {
      "text/plain": [
       "evaluate (generic function with 1 method)"
      ]
     },
     "execution_count": 29,
     "metadata": {},
     "output_type": "execute_result"
    }
   ],
   "source": [
    "function evaluate(th::Float64, N::Int64)\n",
    "    # initialize policy to evaluate\n",
    "    env.params.ped_rate = 0.2\n",
    "    policy = waitAndGo(env, ego, 2.0, -4.0, config.sim_dt, N, th, true, false, false, 0);\n",
    "    updater = waitAndGoUpdater(policy)\n",
    "\n",
    "    models = Dict{Int, DriverModel}()\n",
    "    # Constant speed model\n",
    "    models[1] = CrosswalkDriver(env, 0., Vehicle[], ego.state, sensor, policy, updater) \n",
    "\n",
    "    #evaluation \n",
    "    config.n_episodes = 100\n",
    "    nticks = config.time_out\n",
    "    rec = SceneRecord(nticks+1, config.sim_dt)\n",
    "\n",
    "    # intiialize containers and callbacks\n",
    "    time_outs = 0\n",
    "    crashes = 0\n",
    "    successes = 0\n",
    "    steps = zeros(config.n_episodes)\n",
    "\n",
    "\n",
    "    for ep = 1:config.n_episodes\n",
    "\n",
    "        # initialize scene\n",
    "            reset_policy!(policy)    \n",
    "    ego = initial_ego(env, config.rng)\n",
    "    models[1] = CrosswalkDriver(env, 0., Vehicle[], ego.state, sensor, policy, updater) \n",
    "        scene = Scene()\n",
    "        push!(scene, ego);\n",
    "\n",
    "\n",
    "        simulate!(rec, scene, env, models, nticks, config.rng, config.callbacks)\n",
    "\n",
    "        # analyze\n",
    "        if rec.nframes == config.time_out + 1\n",
    "            time_outs += 1\n",
    "        elseif !is_collision_free(rec[0])\n",
    "            crashes += 1\n",
    "        elseif is_terminal(rec[0], env)\n",
    "            successes += 1\n",
    "        end\n",
    "\n",
    "        steps[ep] = nframes(rec)       \n",
    "\n",
    "    end\n",
    "    try\n",
    "        @assert time_outs + crashes + successes == config.n_episodes\n",
    "    catch \n",
    "        println(time_outs, \" \", crashes, \" \", successes, \" \", time_outs + crashes + successes)\n",
    "    end\n",
    "    return time_outs,crashes, successes,mean(steps)\n",
    "end"
   ]
  },
  {
   "cell_type": "code",
   "execution_count": 30,
   "metadata": {
    "collapsed": false
   },
   "outputs": [],
   "source": [
    "th_vec = 0:0.1:10\n",
    "N_vec = 0:5\n",
    "crashes = zeros(length(th_vec), length(N_vec))\n",
    "successes = zeros(length(th_vec), length(N_vec))\n",
    "time_outs = zeros(length(th_vec), length(N_vec))\n",
    "steps = zeros(length(th_vec), length(N_vec))\n",
    "for (i,th) in enumerate(th_vec)\n",
    "    for (j,N) in enumerate(N_vec)\n",
    "        time_outs[i,j], crashes[i,j], successes[i,j], steps[i,j] = evaluate(th, N)\n",
    "    end\n",
    "end"
   ]
  },
  {
   "cell_type": "code",
   "execution_count": 31,
   "metadata": {
    "collapsed": false
   },
   "outputs": [
    {
     "data": {
      "text/plain": [
       "21.0"
      ]
     },
     "execution_count": 31,
     "metadata": {},
     "output_type": "execute_result"
    }
   ],
   "source": [
    "minimum(crashes)"
   ]
  },
  {
   "cell_type": "code",
   "execution_count": 32,
   "metadata": {
    "collapsed": false
   },
   "outputs": [
    {
     "data": {
      "text/plain": [
       "69.0"
      ]
     },
     "execution_count": 32,
     "metadata": {},
     "output_type": "execute_result"
    }
   ],
   "source": [
    "maximum(successes)"
   ]
  },
  {
   "cell_type": "code",
   "execution_count": null,
   "metadata": {
    "collapsed": false
   },
   "outputs": [],
   "source": []
  },
  {
   "cell_type": "code",
   "execution_count": null,
   "metadata": {
    "collapsed": true
   },
   "outputs": [],
   "source": []
  }
 ],
 "metadata": {
  "anaconda-cloud": {},
  "kernelspec": {
   "display_name": "Julia 0.5.0",
   "language": "julia",
   "name": "julia-0.5"
  },
  "language_info": {
   "file_extension": ".jl",
   "mimetype": "application/julia",
   "name": "julia",
   "version": "0.5.0"
  }
 },
 "nbformat": 4,
 "nbformat_minor": 1
}
