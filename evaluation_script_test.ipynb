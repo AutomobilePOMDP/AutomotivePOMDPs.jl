{
 "cells": [
  {
   "cell_type": "markdown",
   "metadata": {},
   "source": [
    "# Evaluation Script Test "
   ]
  },
  {
   "cell_type": "code",
   "execution_count": 1,
   "metadata": {
    "collapsed": true
   },
   "outputs": [],
   "source": [
    "using AutomotiveDrivingModels, AutoViz, Reel"
   ]
  },
  {
   "cell_type": "markdown",
   "metadata": {},
   "source": [
    "Load models and config"
   ]
  },
  {
   "cell_type": "code",
   "execution_count": 2,
   "metadata": {
    "collapsed": false
   },
   "outputs": [
    {
     "data": {
      "text/plain": [
       "CrosswalkEnv"
      ]
     },
     "execution_count": 2,
     "metadata": {},
     "output_type": "execute_result"
    }
   ],
   "source": [
    "include(\"eval-env/occluded_crosswalk.jl\") # env config"
   ]
  },
  {
   "cell_type": "code",
   "execution_count": 3,
   "metadata": {
    "collapsed": false
   },
   "outputs": [],
   "source": [
    "include(\"eval-env/constant_pedestrian.jl\") # pedestrian model"
   ]
  },
  {
   "cell_type": "code",
   "execution_count": 4,
   "metadata": {
    "collapsed": false
   },
   "outputs": [
    {
     "data": {
      "text/plain": [
       "initial_pedestrian"
      ]
     },
     "execution_count": 4,
     "metadata": {},
     "output_type": "execute_result"
    }
   ],
   "source": [
    "include(\"eval-env/pedestrian_flow.jl\")"
   ]
  },
  {
   "cell_type": "code",
   "execution_count": 5,
   "metadata": {
    "collapsed": false
   },
   "outputs": [
    {
     "data": {
      "text/plain": [
       "is_observable"
      ]
     },
     "execution_count": 5,
     "metadata": {},
     "output_type": "execute_result"
    }
   ],
   "source": [
    "include(\"eval-env/simple_sensor.jl\")"
   ]
  },
  {
   "cell_type": "code",
   "execution_count": 6,
   "metadata": {
    "collapsed": false
   },
   "outputs": [
    {
     "data": {
      "text/plain": [
       "initial_ego"
      ]
     },
     "execution_count": 6,
     "metadata": {},
     "output_type": "execute_result"
    }
   ],
   "source": [
    "include(\"eval-env/ego_control.jl\")"
   ]
  },
  {
   "cell_type": "code",
   "execution_count": 7,
   "metadata": {
    "collapsed": false
   },
   "outputs": [],
   "source": [
    "include(\"simulation.jl\")"
   ]
  },
  {
   "cell_type": "code",
   "execution_count": 8,
   "metadata": {
    "collapsed": false
   },
   "outputs": [
    {
     "data": {
      "text/plain": [
       "is_terminal (generic function with 1 method)"
      ]
     },
     "execution_count": 8,
     "metadata": {},
     "output_type": "execute_result"
    }
   ],
   "source": [
    "include(\"eval_config.jl\") # eval config"
   ]
  },
  {
   "cell_type": "code",
   "execution_count": 9,
   "metadata": {
    "collapsed": false
   },
   "outputs": [
    {
     "data": {
      "text/plain": [
       "update"
      ]
     },
     "execution_count": 9,
     "metadata": {},
     "output_type": "execute_result"
    }
   ],
   "source": [
    "include(\"baseline_policy.jl\")"
   ]
  },
  {
   "cell_type": "code",
   "execution_count": 10,
   "metadata": {
    "collapsed": false
   },
   "outputs": [],
   "source": [
    "include(\"render_helpers.jl\")"
   ]
  },
  {
   "cell_type": "markdown",
   "metadata": {},
   "source": [
    "## Initialize "
   ]
  },
  {
   "cell_type": "markdown",
   "metadata": {},
   "source": [
    "### Configure the Evaluation\n",
    "- Time step\n",
    "- Number of episodes \n",
    "- ..."
   ]
  },
  {
   "cell_type": "code",
   "execution_count": 11,
   "metadata": {
    "collapsed": false
   },
   "outputs": [
    {
     "data": {
      "text/plain": [
       "EvalConfig(0.1,MersenneTwister(UInt32[0x00000003],Base.dSFMT.DSFMT_state(Int32[-1359582567,1073454075,1934390716,1073583786,-114685834,1073112842,-1913218479,1073122729,-73577195,1073266439  …  1226759590,1072980451,-1366384707,1073012992,1661148031,2121090155,141576524,-658637225,382,0]),[0.0,0.0,0.0,0.0,0.0,0.0,0.0,0.0,0.0,0.0  …  0.0,0.0,0.0,0.0,0.0,0.0,0.0,0.0,0.0,0.0],382),1,200,(AutomotiveDrivingModels.CollisionCallback\n",
       "  mem: AutomotiveDrivingModels.CPAMemory\n",
       ",TerminalCallback()))"
      ]
     },
     "execution_count": 11,
     "metadata": {},
     "output_type": "execute_result"
    }
   ],
   "source": [
    "config = EvalConfig() # use default"
   ]
  },
  {
   "cell_type": "code",
   "execution_count": 12,
   "metadata": {
    "collapsed": false
   },
   "outputs": [
    {
     "data": {
      "text/plain": [
       "AutoViz.FitToContentCamera(0.0)"
      ]
     },
     "execution_count": 12,
     "metadata": {},
     "output_type": "execute_result"
    }
   ],
   "source": [
    "cam = FitToContentCamera(0.0)"
   ]
  },
  {
   "cell_type": "markdown",
   "metadata": {},
   "source": [
    "### Configure the Environment"
   ]
  },
  {
   "cell_type": "code",
   "execution_count": 34,
   "metadata": {
    "collapsed": false
   },
   "outputs": [
    {
     "data": {
      "text/plain": [
       "CrosswalkEnv(Roadway,AutomotiveDrivingModels.Lane(LaneTag(2, 1),AutomotiveDrivingModels.CurvePt[CurvePt({25.000, -10.000, 1.571}, 0.000, 0.000, NaN),CurvePt({25.000, 10.000, 1.571}, 20.000, 0.000, NaN)],6.0,AutomotiveDrivingModels.SpeedLimit(-Inf,Inf),AutomotiveDrivingModels.LaneBoundary(:unknown,:unknown),AutomotiveDrivingModels.LaneBoundary(:unknown,:unknown),AutomotiveDrivingModels.LaneConnection[],AutomotiveDrivingModels.LaneConnection[]),AutomotiveDrivingModels.ConvexPolygon[ConvexPolygon: len 4 (max 4 pts)\n",
       "\tVecE2(15.000, -1.500)\n",
       "\tVecE2(15.000, -4.500)\n",
       "\tVecE2(22.000, -4.500)\n",
       "\tVecE2(22.000, -1.500)\n",
       "],EnvParams(2,50.0,3.0,20.0,6.0,5.0,37.0,8.0,0.0,2.0,10.0))"
      ]
     },
     "execution_count": 34,
     "metadata": {},
     "output_type": "execute_result"
    }
   ],
   "source": [
    "params = EnvParams(ped_rate = 0.)\n",
    "env = CrosswalkEnv(params)"
   ]
  },
  {
   "cell_type": "code",
   "execution_count": 35,
   "metadata": {
    "collapsed": false
   },
   "outputs": [
    {
     "data": {
      "text/plain": [
       "SimpleSensor(0.1,0.1)"
      ]
     },
     "execution_count": 35,
     "metadata": {},
     "output_type": "execute_result"
    }
   ],
   "source": [
    "sensor = SimpleSensor(0.1, 0.1)"
   ]
  },
  {
   "cell_type": "markdown",
   "metadata": {},
   "source": [
    "## Initialize states"
   ]
  },
  {
   "cell_type": "code",
   "execution_count": 36,
   "metadata": {
    "collapsed": false
   },
   "outputs": [
    {
     "data": {
      "image/png": "[encoded data removed]",
      "text/plain": [
       "Cairo.CairoSurface{UInt32}(Ptr{Void} @0x000000001cfb4320,1000.0,600.0,#undef)"
      ]
     },
     "execution_count": 36,
     "metadata": {},
     "output_type": "execute_result"
    }
   ],
   "source": [
    "# Car definition\n",
    "ego_initial_state = VehicleState(VecSE2(5.0, 0., 0.), env.roadway.segments[1].lanes[1],env.roadway, 8.0)\n",
    "ego = Vehicle(ego_initial_state, VehicleDef(), 1)\n",
    "\n",
    "scene = Scene()\n",
    "push!(scene, ego)\n",
    "\n",
    "ped = initial_pedestrian(env, config.rng)\n",
    "push!(scene, ped)\n",
    "\n",
    "# visualize the initial state\n",
    "render(scene, env, cam=cam)"
   ]
  },
  {
   "cell_type": "markdown",
   "metadata": {},
   "source": [
    "## Test with baseline policy"
   ]
  },
  {
   "cell_type": "code",
   "execution_count": 37,
   "metadata": {
    "collapsed": false
   },
   "outputs": [],
   "source": [
    "ego = initial_ego(env, config.rng)\n",
    "policy = waitAndGo(env, ego, 2.0, -4.0, config.sim_dt, 4, 2.5, true, false, false, 0)\n",
    "updater = waitAndGoUpdater(policy);"
   ]
  },
  {
   "cell_type": "code",
   "execution_count": 38,
   "metadata": {
    "collapsed": false
   },
   "outputs": [
    {
     "data": {
      "text/plain": [
       "WaitAndGoOverlay(0.1,0.0,waitAndGo(CrosswalkEnv(Roadway,AutomotiveDrivingModels.Lane(LaneTag(2, 1),AutomotiveDrivingModels.CurvePt[CurvePt({25.000, -10.000, 1.571}, 0.000, 0.000, NaN),CurvePt({25.000, 10.000, 1.571}, 20.000, 0.000, NaN)],6.0,AutomotiveDrivingModels.SpeedLimit(-Inf,Inf),AutomotiveDrivingModels.LaneBoundary(:unknown,:unknown),AutomotiveDrivingModels.LaneBoundary(:unknown,:unknown),AutomotiveDrivingModels.LaneConnection[],AutomotiveDrivingModels.LaneConnection[]),AutomotiveDrivingModels.ConvexPolygon[ConvexPolygon: len 4 (max 4 pts)\n",
       "\tVecE2(15.000, -1.500)\n",
       "\tVecE2(15.000, -4.500)\n",
       "\tVecE2(22.000, -4.500)\n",
       "\tVecE2(22.000, -1.500)\n",
       "],EnvParams(2,50.0,3.0,20.0,6.0,5.0,37.0,8.0,0.0,2.0,10.0)),Vehicle(1, VehicleState(VecSE2({5.000, 0.000}, 0.000), Frenet(RoadIndex({1, 0.100000}, {1, 1}), 5.000, 0.000, 0.000), 6.090), VehicleDef(CAR, 4.000, 1.800)),2.0,-4.0,0.1,4,2.5,true,false,false,0),1,1,RGB{N0f8}(1.0,1.0,1.0),20)"
      ]
     },
     "execution_count": 38,
     "metadata": {},
     "output_type": "execute_result"
    }
   ],
   "source": [
    "overlay = WaitAndGoOverlay(config.sim_dt, 0., policy)"
   ]
  },
  {
   "cell_type": "code",
   "execution_count": 39,
   "metadata": {
    "collapsed": false
   },
   "outputs": [
    {
     "name": "stderr",
     "output_type": "stream",
     "text": [
      "WARNING: Method definition reset_policy!(Main.waitAndGo) in module Main at In[18]:2 overwritten at In[39]:2.\n"
     ]
    },
    {
     "data": {
      "text/plain": [
       "reset_policy! (generic function with 1 method)"
      ]
     },
     "execution_count": 39,
     "metadata": {},
     "output_type": "execute_result"
    }
   ],
   "source": [
    "function reset_policy!(policy::waitAndGo)\n",
    "    policy.reaching = true\n",
    "    policy.wait = false\n",
    "    policy.go = false \n",
    "    policy.N = 0\n",
    "end"
   ]
  },
  {
   "cell_type": "code",
   "execution_count": 40,
   "metadata": {
    "collapsed": false
   },
   "outputs": [],
   "source": [
    "scene = Scene()\n",
    "push!(scene, ego);"
   ]
  },
  {
   "cell_type": "code",
   "execution_count": 41,
   "metadata": {
    "collapsed": false
   },
   "outputs": [
    {
     "data": {
      "text/plain": [
       "AutomotiveDrivingModels.IntelligentDriverModel\n",
       "  a: Float64 NaN\n",
       "  σ: Float64 NaN\n",
       "  k_spd: Float64 1.0\n",
       "  δ: Float64 4.0\n",
       "  T: Float64 1.5\n",
       "  v_des: Float64 8.0\n",
       "  s_min: Float64 5.0\n",
       "  a_max: Float64 3.0\n",
       "  d_cmf: Float64 2.0\n",
       "  d_max: Float64 9.0\n"
      ]
     },
     "execution_count": 41,
     "metadata": {},
     "output_type": "execute_result"
    }
   ],
   "source": [
    "models = Dict{Int, DriverModel}()\n",
    "# Constant speed model\n",
    "models[1] = CrosswalkDriver(env, 0., Vehicle[], ego.state, sensor, policy, updater) \n",
    "models[1] = IntelligentDriverModel(v_des = 8.)\n",
    "# models[2] = ConstantPedestrian(0.1, 0.5, 2.0, config.sim_dt)"
   ]
  },
  {
   "cell_type": "code",
   "execution_count": 42,
   "metadata": {
    "collapsed": false
   },
   "outputs": [
    {
     "name": "stdout",
     "output_type": "stream",
     "text": [
      "  0.001696 seconds (3.13 k allocations: 204.625 KB)\n",
      "  0.001685 seconds (3.13 k allocations: 204.625 KB)\n",
      "  0.001456 seconds (3.13 k allocations: 204.625 KB)\n",
      "  0.001640 seconds (3.09 k allocations: 202.453 KB)\n",
      "  0.001753 seconds (3.13 k allocations: 204.625 KB)\n",
      "  0.001784 seconds (3.13 k allocations: 204.625 KB)\n",
      "  0.003391 seconds (3.16 k allocations: 206.797 KB)\n",
      "  0.002037 seconds (3.16 k allocations: 206.797 KB)\n",
      "  0.001843 seconds (3.16 k allocations: 206.797 KB)\n",
      "  0.002316 seconds (3.13 k allocations: 204.625 KB)\n",
      "  0.001533 seconds (3.13 k allocations: 204.625 KB)\n",
      "  0.001758 seconds (3.16 k allocations: 206.797 KB)\n",
      "  0.008141 seconds (3.13 k allocations: 204.625 KB)\n",
      "  0.001845 seconds (3.13 k allocations: 204.625 KB)\n",
      "  0.001743 seconds (3.16 k allocations: 206.797 KB)\n",
      "  0.001662 seconds (3.13 k allocations: 204.625 KB)\n",
      "  0.001636 seconds (3.13 k allocations: 204.625 KB)\n",
      "  0.001640 seconds (3.13 k allocations: 204.625 KB)\n",
      "  0.001540 seconds (3.13 k allocations: 204.625 KB)\n",
      "  0.001586 seconds (3.16 k allocations: 206.797 KB)\n",
      "  0.001809 seconds (3.09 k allocations: 202.453 KB)\n",
      "  0.001913 seconds (3.13 k allocations: 204.625 KB)\n",
      "  0.001798 seconds (3.16 k allocations: 206.797 KB)\n",
      "  0.001677 seconds (3.16 k allocations: 206.797 KB)\n",
      "  0.004276 seconds (3.13 k allocations: 204.625 KB)\n",
      "  0.001606 seconds (3.13 k allocations: 204.625 KB)\n",
      "  0.001590 seconds (3.16 k allocations: 206.797 KB)\n",
      "  0.005642 seconds (3.13 k allocations: 204.625 KB)\n",
      "  0.001792 seconds (3.13 k allocations: 204.625 KB)\n",
      "  0.002109 seconds (3.16 k allocations: 206.797 KB)\n",
      "  0.001572 seconds (3.13 k allocations: 204.625 KB)\n",
      "  0.001627 seconds (3.09 k allocations: 202.453 KB)\n",
      "  0.001556 seconds (3.16 k allocations: 206.797 KB)\n",
      "  0.001537 seconds (3.13 k allocations: 204.625 KB)\n",
      "  0.001627 seconds (3.13 k allocations: 204.625 KB)\n",
      "  0.001608 seconds (3.13 k allocations: 204.625 KB)\n",
      "  0.001562 seconds (3.13 k allocations: 204.625 KB)\n",
      "  0.001657 seconds (3.13 k allocations: 204.625 KB)\n",
      "  0.001704 seconds (3.09 k allocations: 202.453 KB)\n",
      "  0.002035 seconds (3.13 k allocations: 204.625 KB)\n",
      "  0.001810 seconds (3.13 k allocations: 204.625 KB)\n",
      "  0.001963 seconds (3.13 k allocations: 204.625 KB)\n",
      "  0.001627 seconds (3.16 k allocations: 206.797 KB)\n",
      "  0.004064 seconds (3.09 k allocations: 202.453 KB)\n",
      "  0.002687 seconds (3.13 k allocations: 204.625 KB)\n",
      "  0.001818 seconds (3.16 k allocations: 206.797 KB)\n",
      "  0.001754 seconds (3.16 k allocations: 206.797 KB)\n",
      "  0.001628 seconds (3.13 k allocations: 204.625 KB)\n",
      "  0.001745 seconds (3.13 k allocations: 204.625 KB)\n",
      "  0.001869 seconds (3.13 k allocations: 204.625 KB)\n",
      "  0.001824 seconds (3.13 k allocations: 204.625 KB)\n",
      "  0.079889 seconds (3.13 k allocations: 204.625 KB, 20.84% gc time)\n",
      "  0.002154 seconds (3.13 k allocations: 204.625 KB)\n",
      "  0.004244 seconds (3.13 k allocations: 204.625 KB)\n",
      "  0.001596 seconds (3.13 k allocations: 204.625 KB)\n",
      "  0.001511 seconds (3.13 k allocations: 204.625 KB)\n",
      "  0.001492 seconds (3.13 k allocations: 204.625 KB)\n",
      "  0.001534 seconds (3.13 k allocations: 204.625 KB)\n",
      "  0.001543 seconds (3.13 k allocations: 204.625 KB)\n",
      "  0.001523 seconds (3.13 k allocations: 204.625 KB)\n",
      "  0.003780 seconds (3.09 k allocations: 202.453 KB)\n",
      "  0.001479 seconds (3.09 k allocations: 202.453 KB)\n",
      "  0.001626 seconds (3.16 k allocations: 206.797 KB)\n",
      "  0.001589 seconds (3.16 k allocations: 206.797 KB)\n",
      "  0.001658 seconds (3.16 k allocations: 206.797 KB)\n",
      "  0.001594 seconds (3.13 k allocations: 204.625 KB)\n",
      "  0.001513 seconds (3.09 k allocations: 202.453 KB)\n",
      "  0.001604 seconds (3.16 k allocations: 206.797 KB)\n",
      "  0.001583 seconds (3.09 k allocations: 202.453 KB)\n",
      "  0.001732 seconds (3.13 k allocations: 204.625 KB)\n",
      "  0.001634 seconds (3.13 k allocations: 204.625 KB)\n",
      "  0.001705 seconds (3.16 k allocations: 206.797 KB)\n",
      "  0.001572 seconds (3.16 k allocations: 206.797 KB)\n",
      "  0.001680 seconds (3.09 k allocations: 202.453 KB)\n",
      "  0.002024 seconds (3.13 k allocations: 204.625 KB)\n",
      "  0.003359 seconds (3.13 k allocations: 204.625 KB)\n",
      "  0.002485 seconds (3.09 k allocations: 202.453 KB)\n",
      "  0.001598 seconds (3.13 k allocations: 204.625 KB)\n",
      "  0.001402 seconds (3.09 k allocations: 202.453 KB)\n",
      "  0.001383 seconds (3.13 k allocations: 204.625 KB)\n",
      "  0.001438 seconds (3.13 k allocations: 204.625 KB)\n",
      "  0.003738 seconds (3.13 k allocations: 204.625 KB)\n",
      "  0.001796 seconds (3.16 k allocations: 206.797 KB)\n",
      "  0.001613 seconds (3.13 k allocations: 204.625 KB)\n",
      "  0.002089 seconds (3.13 k allocations: 204.625 KB)\n",
      "  0.001894 seconds (3.16 k allocations: 206.797 KB)\n",
      "  0.001845 seconds (3.13 k allocations: 204.625 KB)\n",
      "  0.001916 seconds (3.13 k allocations: 204.625 KB)\n",
      "  0.001531 seconds (3.16 k allocations: 206.797 KB)\n",
      "  0.001572 seconds (3.13 k allocations: 204.625 KB)\n",
      "  0.001527 seconds (3.13 k allocations: 204.625 KB)\n",
      "  0.001540 seconds (3.13 k allocations: 204.625 KB)\n",
      "  0.001603 seconds (3.09 k allocations: 202.453 KB)\n",
      "  0.001415 seconds (3.13 k allocations: 204.625 KB)\n",
      "  0.001505 seconds (3.09 k allocations: 202.453 KB)\n",
      "  0.001337 seconds (3.09 k allocations: 202.453 KB)\n",
      "  0.001605 seconds (3.13 k allocations: 204.625 KB)\n",
      "  0.001764 seconds (3.13 k allocations: 204.625 KB)\n",
      "  0.002122 seconds (3.16 k allocations: 206.797 KB)\n",
      "  0.002323 seconds (3.13 k allocations: 204.625 KB)\n"
     ]
    }
   ],
   "source": [
    "nticks = 200\n",
    "rec = SceneRecord(nticks+1, config.sim_dt)\n",
    "# execute the simulation\n",
    "for i = 1:100\n",
    "    reset_policy!(policy)    \n",
    "    ego = initial_ego(env, config.rng)\n",
    "    models[1] = CrosswalkDriver(env, 0., Vehicle[], ego.state, sensor, policy, updater) \n",
    "    scene = Scene()\n",
    "    push!(scene, ego);\n",
    "    @time simulate!(rec, scene, env, models, nticks, config.rng, config.callbacks)\n",
    "    if !is_collision_free(rec[0])\n",
    "        println(\"Crash\")\n",
    "        break\n",
    "    end\n",
    "end"
   ]
  },
  {
   "cell_type": "code",
   "execution_count": null,
   "metadata": {
    "collapsed": false,
    "scrolled": false
   },
   "outputs": [],
   "source": [
    "reset_policy!(overlay.policy)\n",
    "duration, fps, render_rec = animate_record(rec, overlay)\n",
    "film = roll(render_rec, fps = fps, duration = duration)"
   ]
  },
  {
   "cell_type": "code",
   "execution_count": 25,
   "metadata": {
    "collapsed": false
   },
   "outputs": [
    {
     "data": {
      "text/plain": [
       "102"
      ]
     },
     "execution_count": 25,
     "metadata": {},
     "output_type": "execute_result"
    }
   ],
   "source": [
    "nframes(rec)"
   ]
  },
  {
   "cell_type": "code",
   "execution_count": 24,
   "metadata": {
    "collapsed": false
   },
   "outputs": [
    {
     "data": {
      "text/plain": [
       "1"
      ]
     },
     "execution_count": 24,
     "metadata": {},
     "output_type": "execute_result"
    }
   ],
   "source": [
    "scene = rec[-10];\n",
    "findfirst(scene, 1)"
   ]
  },
  {
   "cell_type": "code",
   "execution_count": 25,
   "metadata": {
    "collapsed": false
   },
   "outputs": [
    {
     "data": {
      "text/plain": [
       "Vehicle(2, VehicleState(VecSE2({22.677, -5.000}, 1.571), Frenet(RoadIndex({1, 0.453538}, {1, 1}), 22.677, -5.000, 1.571), 2.109), VehicleDef(PEDESTRIAN, 1.000, 1.000))"
      ]
     },
     "execution_count": 25,
     "metadata": {},
     "output_type": "execute_result"
    }
   ],
   "source": [
    "veh = rec[-10].entities[2]"
   ]
  },
  {
   "cell_type": "code",
   "execution_count": 33,
   "metadata": {
    "collapsed": false
   },
   "outputs": [
    {
     "data": {
      "text/plain": [
       "LaneTag(2, 1)"
      ]
     },
     "execution_count": 33,
     "metadata": {},
     "output_type": "execute_result"
    }
   ],
   "source": [
    "env.crosswalk.tag = LaneTag(2,1)"
   ]
  },
  {
   "cell_type": "code",
   "execution_count": 37,
   "metadata": {
    "collapsed": false
   },
   "outputs": [
    {
     "data": {
      "text/plain": [
       "0.8095515281688339"
      ]
     },
     "execution_count": 37,
     "metadata": {},
     "output_type": "execute_result"
    }
   ],
   "source": [
    "d_lat = Uniform(env.params.roadway_length - env.params.crosswalk_width, env.params.roadway_length + env.params.crosswalk_width)\n",
    "    x0 = 0.5*rand(d_lat)\n",
    "\n",
    "    # vertical position\n",
    "    y0 = -env.params.crosswalk_length/4\n",
    "\n",
    "    # orientation\n",
    "θ = pi/2\n",
    "\n",
    "    #velocity\n",
    "    v0 = rand(Uniform(0., env.params.ped_max_speed))\n",
    "\n"
   ]
  },
  {
   "cell_type": "code",
   "execution_count": 24,
   "metadata": {
    "collapsed": false
   },
   "outputs": [
    {
     "data": {
      "text/plain": [
       "AutomotiveDrivingModels.RoadSegment(2,AutomotiveDrivingModels.Lane[AutomotiveDrivingModels.Lane(LaneTag(2, 1),AutomotiveDrivingModels.CurvePt[CurvePt({25.000, -10.000, 1.571}, 0.000, 0.000, NaN),CurvePt({25.000, 10.000, 1.571}, 20.000, 0.000, NaN)],6.0,AutomotiveDrivingModels.SpeedLimit(-Inf,Inf),AutomotiveDrivingModels.LaneBoundary(:unknown,:unknown),AutomotiveDrivingModels.LaneBoundary(:unknown,:unknown),AutomotiveDrivingModels.LaneConnection[],AutomotiveDrivingModels.LaneConnection[])])"
      ]
     },
     "execution_count": 24,
     "metadata": {},
     "output_type": "execute_result"
    }
   ],
   "source": [
    "    cw_roadway = Roadway([RoadSegment(2, [env.crosswalk])]);\n",
    "cw_segment = RoadSegment(2, [env.crosswalk])"
   ]
  },
  {
   "cell_type": "code",
   "execution_count": 25,
   "metadata": {
    "collapsed": false
   },
   "outputs": [
    {
     "data": {
      "text/plain": [
       "2-element Array{AutomotiveDrivingModels.RoadSegment,1}:\n",
       " AutomotiveDrivingModels.RoadSegment(1,AutomotiveDrivingModels.Lane[AutomotiveDrivingModels.Lane(LaneTag(1, 1),AutomotiveDrivingModels.CurvePt[CurvePt({0.000, 0.000, 0.000}, 0.000, NaN, NaN),CurvePt({50.000, 0.000, 0.000}, 50.000, NaN, NaN)],3.0,AutomotiveDrivingModels.SpeedLimit(-Inf,Inf),AutomotiveDrivingModels.LaneBoundary(:broken,:white),AutomotiveDrivingModels.LaneBoundary(:solid,:white),AutomotiveDrivingModels.LaneConnection[],AutomotiveDrivingModels.LaneConnection[]),AutomotiveDrivingModels.Lane(LaneTag(1, 2),AutomotiveDrivingModels.CurvePt[CurvePt({0.000, 3.000, 0.000}, 0.000, NaN, NaN),CurvePt({50.000, 3.000, 0.000}, 50.000, NaN, NaN)],3.0,AutomotiveDrivingModels.SpeedLimit(-Inf,Inf),AutomotiveDrivingModels.LaneBoundary(:solid,:white),AutomotiveDrivingModels.LaneBoundary(:broken,:white),AutomotiveDrivingModels.LaneConnection[],AutomotiveDrivingModels.LaneConnection[])])\n",
       " AutomotiveDrivingModels.RoadSegment(2,AutomotiveDrivingModels.Lane[AutomotiveDrivingModels.Lane(LaneTag(2, 1),AutomotiveDrivingModels.CurvePt[CurvePt({25.000, -10.000, 1.571}, 0.000, 0.000, NaN),CurvePt({25.000, 10.000, 1.571}, 20.000, 0.000, NaN)],6.0,AutomotiveDrivingModels.SpeedLimit(-Inf,Inf),AutomotiveDrivingModels.LaneBoundary(:unknown,:unknown),AutomotiveDrivingModels.LaneBoundary(:unknown,:unknown),AutomotiveDrivingModels.LaneConnection[],AutomotiveDrivingModels.LaneConnection[])])                                                                                                                                                                                                                                                                                                                                                                                                            "
      ]
     },
     "execution_count": 25,
     "metadata": {},
     "output_type": "execute_result"
    }
   ],
   "source": [
    "push!(env.roadway.segments, cw_segment)"
   ]
  },
  {
   "cell_type": "code",
   "execution_count": 27,
   "metadata": {
    "collapsed": false
   },
   "outputs": [
    {
     "data": {
      "text/plain": [
       "CrosswalkEnv(Roadway,AutomotiveDrivingModels.Lane(LaneTag(2, 1),AutomotiveDrivingModels.CurvePt[CurvePt({25.000, -10.000, 1.571}, 0.000, 0.000, NaN),CurvePt({25.000, 10.000, 1.571}, 20.000, 0.000, NaN)],6.0,AutomotiveDrivingModels.SpeedLimit(-Inf,Inf),AutomotiveDrivingModels.LaneBoundary(:unknown,:unknown),AutomotiveDrivingModels.LaneBoundary(:unknown,:unknown),AutomotiveDrivingModels.LaneConnection[],AutomotiveDrivingModels.LaneConnection[]),AutomotiveDrivingModels.ConvexPolygon[ConvexPolygon: len 4 (max 4 pts)\n",
       "\tVecE2(15.000, -1.500)\n",
       "\tVecE2(15.000, -4.500)\n",
       "\tVecE2(22.000, -4.500)\n",
       "\tVecE2(22.000, -1.500)\n",
       "],EnvParams(2,50.0,3.0,20.0,6.0,5.0,37.0,8.0,0.5,2.0,10.0))"
      ]
     },
     "execution_count": 27,
     "metadata": {},
     "output_type": "execute_result"
    }
   ],
   "source": []
  },
  {
   "cell_type": "code",
   "execution_count": 40,
   "metadata": {
    "collapsed": false
   },
   "outputs": [
    {
     "data": {
      "text/plain": [
       "Vehicle(12, VehicleState(VecSE2({22.278, -5.000}, 1.571), Frenet(RoadIndex({1, 0.250000}, {2, 1}), 5.000, 2.722, 0.000), 0.810), VehicleDef(PEDESTRIAN, 1.000, 1.000))"
      ]
     },
     "execution_count": 40,
     "metadata": {},
     "output_type": "execute_result"
    }
   ],
   "source": [
    "    ped_initial_state = VehicleState(VecSE2(x0, y0, θ), env.crosswalk, cw_roadway, v0)\n",
    "ped = Vehicle(ped_initial_state, PEDESTRIAN_DEF, 12)"
   ]
  },
  {
   "cell_type": "code",
   "execution_count": 36,
   "metadata": {
    "collapsed": false
   },
   "outputs": [
    {
     "data": {
      "text/plain": [
       "Vehicle(12, VehicleState(VecSE2({22.337, -5.000}, 1.571), Frenet(RoadIndex({1, 0.446745}, {1, 1}), 22.337, -5.000, 1.571), 0.503), VehicleDef(PEDESTRIAN, 1.000, 1.000))"
      ]
     },
     "execution_count": 36,
     "metadata": {},
     "output_type": "execute_result"
    }
   ],
   "source": [
    "ped"
   ]
  },
  {
   "cell_type": "code",
   "execution_count": 41,
   "metadata": {
    "collapsed": false
   },
   "outputs": [
    {
     "data": {
      "image/png": "[encoded data removed]",
      "text/plain": [
       "Cairo.CairoSurface{UInt32}(Ptr{Void} @0x0000000017a39de0,1000.0,600.0,#undef)"
      ]
     },
     "execution_count": 41,
     "metadata": {},
     "output_type": "execute_result"
    }
   ],
   "source": [
    "scene = Scene()\n",
    "push!(scene, ped)\n",
    "render(scene, env, cam = cam)"
   ]
  },
  {
   "cell_type": "code",
   "execution_count": 31,
   "metadata": {
    "collapsed": false
   },
   "outputs": [
    {
     "data": {
      "text/plain": [
       "RoadIndex({1, 0.250000}, {1, 1})"
      ]
     },
     "execution_count": 31,
     "metadata": {},
     "output_type": "execute_result"
    }
   ],
   "source": [
    "road_proj = RoadProjection(proj(ped.state.posG, env.crosswalk.curve), env.crosswalk.tag)\n",
    "road_ind = RoadIndex(road_proj.curveproj.ind, road_proj.tag)"
   ]
  },
  {
   "cell_type": "code",
   "execution_count": 23,
   "metadata": {
    "collapsed": false
   },
   "outputs": [
    {
     "name": "stdout",
     "output_type": "stream",
     "text": [
      "search: \u001b[1mL\u001b[22m\u001b[1ma\u001b[22m\u001b[1mn\u001b[22m\u001b[1me\u001b[22m\u001b[1mT\u001b[22m\u001b[1ma\u001b[22m\u001b[1mg\u001b[22m has_\u001b[1ml\u001b[22m\u001b[1ma\u001b[22m\u001b[1mn\u001b[22m\u001b[1me\u001b[22m\u001b[1mt\u001b[22m\u001b[1ma\u001b[22m\u001b[1mg\u001b[22m NU\u001b[1mL\u001b[22mL_L\u001b[1mA\u001b[22m\u001b[1mN\u001b[22m\u001b[1mE\u001b[22m\u001b[1mT\u001b[22m\u001b[1mA\u001b[22m\u001b[1mG\u001b[22m get_neighbor_\u001b[1ml\u001b[22m\u001b[1ma\u001b[22m\u001b[1mn\u001b[22m\u001b[1me\u001b[22m\u001b[1mt\u001b[22m\u001b[1ma\u001b[22m\u001b[1mg\u001b[22m_left\n",
      "\n"
     ]
    },
    {
     "data": {
      "text/markdown": [
       "No documentation found.\n",
       "\n",
       "**Summary:**\n",
       "\n",
       "```\n",
       "immutable AutomotiveDrivingModels.LaneTag <: Any\n",
       "```\n",
       "\n",
       "**Fields:**\n",
       "\n",
       "```\n",
       "segment :: Int64\n",
       "lane    :: Int64\n",
       "```\n"
      ],
      "text/plain": [
       "No documentation found.\n",
       "\n",
       "**Summary:**\n",
       "\n",
       "```\n",
       "immutable AutomotiveDrivingModels.LaneTag <: Any\n",
       "```\n",
       "\n",
       "**Fields:**\n",
       "\n",
       "```\n",
       "segment :: Int64\n",
       "lane    :: Int64\n",
       "```\n"
      ]
     },
     "execution_count": 23,
     "metadata": {},
     "output_type": "execute_result"
    }
   ],
   "source": [
    "?LaneTag "
   ]
  },
  {
   "cell_type": "code",
   "execution_count": 33,
   "metadata": {
    "collapsed": false
   },
   "outputs": [
    {
     "data": {
      "text/plain": [
       "3-element Array{Symbol,1}:\n",
       " :ind\n",
       " :t  \n",
       " :ϕ  "
      ]
     },
     "execution_count": 33,
     "metadata": {},
     "output_type": "execute_result"
    }
   ],
   "source": [
    "fieldnames(CurveProjection)"
   ]
  },
  {
   "cell_type": "code",
   "execution_count": 24,
   "metadata": {
    "collapsed": false
   },
   "outputs": [],
   "source": [
    "cw_roadway = Roadway([RoadSegment(2, [env.crosswalk])]);"
   ]
  },
  {
   "cell_type": "code",
   "execution_count": 25,
   "metadata": {
    "collapsed": false
   },
   "outputs": [
    {
     "ename": "LoadError",
     "evalue": "UndefVarError: x0 not defined",
     "output_type": "error",
     "traceback": [
      "UndefVarError: x0 not defined",
      ""
     ]
    }
   ],
   "source": [
    "VehicleState(VecSE2(x0, y0, θ), env.crosswalk, cw_roadway, v0)"
   ]
  },
  {
   "cell_type": "code",
   "execution_count": 38,
   "metadata": {
    "collapsed": false
   },
   "outputs": [
    {
     "data": {
      "text/plain": [
       "2-element Array{AutomotiveDrivingModels.RoadSegment,1}:\n",
       " AutomotiveDrivingModels.RoadSegment(1,AutomotiveDrivingModels.Lane[AutomotiveDrivingModels.Lane(LaneTag(1, 1),AutomotiveDrivingModels.CurvePt[CurvePt({0.000, 0.000, 0.000}, 0.000, NaN, NaN),CurvePt({50.000, 0.000, 0.000}, 50.000, NaN, NaN)],3.0,AutomotiveDrivingModels.SpeedLimit(-Inf,Inf),AutomotiveDrivingModels.LaneBoundary(:broken,:white),AutomotiveDrivingModels.LaneBoundary(:solid,:white),AutomotiveDrivingModels.LaneConnection[],AutomotiveDrivingModels.LaneConnection[]),AutomotiveDrivingModels.Lane(LaneTag(1, 2),AutomotiveDrivingModels.CurvePt[CurvePt({0.000, 3.000, 0.000}, 0.000, NaN, NaN),CurvePt({50.000, 3.000, 0.000}, 50.000, NaN, NaN)],3.0,AutomotiveDrivingModels.SpeedLimit(-Inf,Inf),AutomotiveDrivingModels.LaneBoundary(:solid,:white),AutomotiveDrivingModels.LaneBoundary(:broken,:white),AutomotiveDrivingModels.LaneConnection[],AutomotiveDrivingModels.LaneConnection[])])\n",
       " AutomotiveDrivingModels.RoadSegment(2,AutomotiveDrivingModels.Lane[AutomotiveDrivingModels.Lane(LaneTag(1, 1),AutomotiveDrivingModels.CurvePt[CurvePt({25.000, -10.000, 1.571}, 0.000, 0.000, NaN),CurvePt({25.000, 10.000, 1.571}, 20.000, 0.000, NaN)],6.0,AutomotiveDrivingModels.SpeedLimit(-Inf,Inf),AutomotiveDrivingModels.LaneBoundary(:unknown,:unknown),AutomotiveDrivingModels.LaneBoundary(:unknown,:unknown),AutomotiveDrivingModels.LaneConnection[],AutomotiveDrivingModels.LaneConnection[])])                                                                                                                                                                                                                                                                                                                                                                                                            "
      ]
     },
     "execution_count": 38,
     "metadata": {},
     "output_type": "execute_result"
    }
   ],
   "source": []
  },
  {
   "cell_type": "code",
   "execution_count": 46,
   "metadata": {
    "collapsed": false
   },
   "outputs": [
    {
     "data": {
      "text/plain": [
       "2-element Array{AutomotiveDrivingModels.CurvePt,1}:\n",
       " CurvePt({25.000, -10.000, 1.571}, 0.000, 0.000, NaN)\n",
       " CurvePt({25.000, 10.000, 1.571}, 20.000, 0.000, NaN)"
      ]
     },
     "execution_count": 46,
     "metadata": {},
     "output_type": "execute_result"
    }
   ],
   "source": [
    "env.crosswalk.curve"
   ]
  },
  {
   "cell_type": "code",
   "execution_count": 35,
   "metadata": {
    "collapsed": false
   },
   "outputs": [
    {
     "name": "stdout",
     "output_type": "stream",
     "text": [
      "search: \u001b[1mR\u001b[22m\u001b[1mo\u001b[22m\u001b[1ma\u001b[22m\u001b[1md\u001b[22m\u001b[1mI\u001b[22m\u001b[1mn\u001b[22m\u001b[1md\u001b[22m\u001b[1me\u001b[22m\u001b[1mx\u001b[22m NULL_\u001b[1mR\u001b[22m\u001b[1mO\u001b[22m\u001b[1mA\u001b[22m\u001b[1mD\u001b[22m\u001b[1mI\u001b[22m\u001b[1mN\u001b[22m\u001b[1mD\u001b[22m\u001b[1mE\u001b[22m\u001b[1mX\u001b[22m b\u001b[1mr\u001b[22m\u001b[1mo\u001b[22m\u001b[1ma\u001b[22m\u001b[1md\u001b[22mcast_get\u001b[1mi\u001b[22m\u001b[1mn\u001b[22m\u001b[1md\u001b[22m\u001b[1me\u001b[22m\u001b[1mx\u001b[22m b\u001b[1mr\u001b[22m\u001b[1mo\u001b[22m\u001b[1ma\u001b[22m\u001b[1md\u001b[22mcast_set\u001b[1mi\u001b[22m\u001b[1mn\u001b[22m\u001b[1md\u001b[22m\u001b[1me\u001b[22m\u001b[1mx\u001b[22m!\n",
      "\n"
     ]
    },
    {
     "data": {
      "text/markdown": [
       "No documentation found.\n",
       "\n",
       "**Summary:**\n",
       "\n",
       "```\n",
       "immutable AutomotiveDrivingModels.RoadIndex <: Any\n",
       "```\n",
       "\n",
       "**Fields:**\n",
       "\n",
       "```\n",
       "ind :: AutomotiveDrivingModels.CurveIndex\n",
       "tag :: AutomotiveDrivingModels.LaneTag\n",
       "```\n"
      ],
      "text/plain": [
       "No documentation found.\n",
       "\n",
       "**Summary:**\n",
       "\n",
       "```\n",
       "immutable AutomotiveDrivingModels.RoadIndex <: Any\n",
       "```\n",
       "\n",
       "**Fields:**\n",
       "\n",
       "```\n",
       "ind :: AutomotiveDrivingModels.CurveIndex\n",
       "tag :: AutomotiveDrivingModels.LaneTag\n",
       "```\n"
      ]
     },
     "execution_count": 35,
     "metadata": {},
     "output_type": "execute_result"
    }
   ],
   "source": [
    "?RoadIndex"
   ]
  },
  {
   "cell_type": "code",
   "execution_count": 36,
   "metadata": {
    "collapsed": false
   },
   "outputs": [
    {
     "name": "stdout",
     "output_type": "stream",
     "text": [
      "search: \u001b[1mL\u001b[22m\u001b[1ma\u001b[22m\u001b[1mn\u001b[22m\u001b[1me\u001b[22m \u001b[1mL\u001b[22m\u001b[1ma\u001b[22m\u001b[1mn\u001b[22m\u001b[1me\u001b[22mTag \u001b[1mL\u001b[22m\u001b[1ma\u001b[22m\u001b[1mn\u001b[22m\u001b[1me\u001b[22mBoundary \u001b[1mL\u001b[22m\u001b[1ma\u001b[22m\u001b[1mn\u001b[22m\u001b[1me\u001b[22mConnection \u001b[1mL\u001b[22m\u001b[1ma\u001b[22m\u001b[1mn\u001b[22m\u001b[1me\u001b[22mChangeModel\n",
      "\n"
     ]
    },
    {
     "data": {
      "text/markdown": [
       "No documentation found.\n",
       "\n",
       "**Summary:**\n",
       "\n",
       "```\n",
       "type AutomotiveDrivingModels.Lane <: Any\n",
       "```\n",
       "\n",
       "**Fields:**\n",
       "\n",
       "```\n",
       "tag            :: AutomotiveDrivingModels.LaneTag\n",
       "curve          :: Array{AutomotiveDrivingModels.CurvePt,1}\n",
       "width          :: Float64\n",
       "speed_limit    :: AutomotiveDrivingModels.SpeedLimit\n",
       "boundary_left  :: AutomotiveDrivingModels.LaneBoundary\n",
       "boundary_right :: AutomotiveDrivingModels.LaneBoundary\n",
       "exits          :: Array{AutomotiveDrivingModels.LaneConnection,1}\n",
       "entrances      :: Array{AutomotiveDrivingModels.LaneConnection,1}\n",
       "```\n"
      ],
      "text/plain": [
       "No documentation found.\n",
       "\n",
       "**Summary:**\n",
       "\n",
       "```\n",
       "type AutomotiveDrivingModels.Lane <: Any\n",
       "```\n",
       "\n",
       "**Fields:**\n",
       "\n",
       "```\n",
       "tag            :: AutomotiveDrivingModels.LaneTag\n",
       "curve          :: Array{AutomotiveDrivingModels.CurvePt,1}\n",
       "width          :: Float64\n",
       "speed_limit    :: AutomotiveDrivingModels.SpeedLimit\n",
       "boundary_left  :: AutomotiveDrivingModels.LaneBoundary\n",
       "boundary_right :: AutomotiveDrivingModels.LaneBoundary\n",
       "exits          :: Array{AutomotiveDrivingModels.LaneConnection,1}\n",
       "entrances      :: Array{AutomotiveDrivingModels.LaneConnection,1}\n",
       "```\n"
      ]
     },
     "execution_count": 36,
     "metadata": {},
     "output_type": "execute_result"
    }
   ],
   "source": [
    "?Lane"
   ]
  },
  {
   "cell_type": "code",
   "execution_count": 41,
   "metadata": {
    "collapsed": false
   },
   "outputs": [
    {
     "name": "stdout",
     "output_type": "stream",
     "text": [
      "search: \u001b[1mC\u001b[22m\u001b[1mu\u001b[22m\u001b[1mr\u001b[22m\u001b[1mv\u001b[22m\u001b[1me\u001b[22m\u001b[1mI\u001b[22m\u001b[1mn\u001b[22m\u001b[1md\u001b[22m\u001b[1me\u001b[22m\u001b[1mx\u001b[22m \u001b[1mc\u001b[22m\u001b[1mu\u001b[22m\u001b[1mr\u001b[22m\u001b[1mv\u001b[22m\u001b[1me\u001b[22m\u001b[1mi\u001b[22m\u001b[1mn\u001b[22m\u001b[1md\u001b[22m\u001b[1me\u001b[22m\u001b[1mx\u001b[22m_end \u001b[1mC\u001b[22m\u001b[1mU\u001b[22m\u001b[1mR\u001b[22m\u001b[1mV\u001b[22m\u001b[1mE\u001b[22m\u001b[1mI\u001b[22m\u001b[1mN\u001b[22m\u001b[1mD\u001b[22m\u001b[1mE\u001b[22m\u001b[1mX\u001b[22m_START get_\u001b[1mc\u001b[22m\u001b[1mu\u001b[22m\u001b[1mr\u001b[22m\u001b[1mv\u001b[22m\u001b[1me\u001b[22m_\u001b[1mi\u001b[22m\u001b[1mn\u001b[22m\u001b[1md\u001b[22m\u001b[1me\u001b[22m\u001b[1mx\u001b[22m\n",
      "\n"
     ]
    },
    {
     "data": {
      "text/markdown": [
       "No documentation found.\n",
       "\n",
       "**Summary:**\n",
       "\n",
       "```\n",
       "immutable AutomotiveDrivingModels.CurveIndex <: Any\n",
       "```\n",
       "\n",
       "**Fields:**\n",
       "\n",
       "```\n",
       "i :: Int64\n",
       "t :: Float64\n",
       "```\n"
      ],
      "text/plain": [
       "No documentation found.\n",
       "\n",
       "**Summary:**\n",
       "\n",
       "```\n",
       "immutable AutomotiveDrivingModels.CurveIndex <: Any\n",
       "```\n",
       "\n",
       "**Fields:**\n",
       "\n",
       "```\n",
       "i :: Int64\n",
       "t :: Float64\n",
       "```\n"
      ]
     },
     "execution_count": 41,
     "metadata": {},
     "output_type": "execute_result"
    }
   ],
   "source": [
    "?CurveIndex"
   ]
  },
  {
   "cell_type": "code",
   "execution_count": 37,
   "metadata": {
    "collapsed": false
   },
   "outputs": [
    {
     "data": {
      "image/png": "[encoded data removed]",
      "text/plain": [
       "Cairo.CairoSurface{UInt32}(Ptr{Void} @0x000000001c8a74d0,1000.0,600.0,#undef)"
      ]
     },
     "execution_count": 37,
     "metadata": {},
     "output_type": "execute_result"
    }
   ],
   "source": [
    "push!(scene, ped)\n",
    "render(scene, env, cam=cam)"
   ]
  },
  {
   "cell_type": "markdown",
   "metadata": {},
   "source": [
    "## Evaluate and tune the baseline\n",
    "\n",
    "The parameters we wish to tune are the TTC threshold and the number of redundancy"
   ]
  },
  {
   "cell_type": "code",
   "execution_count": 27,
   "metadata": {
    "collapsed": false
   },
   "outputs": [
    {
     "data": {
      "text/plain": [
       "evaluate (generic function with 1 method)"
      ]
     },
     "execution_count": 27,
     "metadata": {},
     "output_type": "execute_result"
    }
   ],
   "source": [
    "function evaluate(th::Float64, N::Int64)\n",
    "    # initialize policy to evaluate\n",
    "    env.params.ped_rate = 0.2\n",
    "    policy = waitAndGo(env, ego, 2.0, -4.0, config.sim_dt, N, th, true, false, false, 0);\n",
    "    updater = waitAndGoUpdater(policy)\n",
    "\n",
    "    models = Dict{Int, DriverModel}()\n",
    "    # Constant speed model\n",
    "    models[1] = CrosswalkDriver(env, 0., Vehicle[], ego.state, sensor, policy, updater) \n",
    "\n",
    "    #evaluation \n",
    "    config.n_episodes = 100\n",
    "    nticks = config.time_out\n",
    "    rec = SceneRecord(nticks+1, config.sim_dt)\n",
    "\n",
    "    # intiialize containers and callbacks\n",
    "    time_outs = 0\n",
    "    crashes = 0\n",
    "    successes = 0\n",
    "    steps = zeros(config.n_episodes)\n",
    "\n",
    "\n",
    "    for ep = 1:config.n_episodes\n",
    "\n",
    "        # initialize scene\n",
    "            reset_policy!(policy)    \n",
    "    ego = initial_ego(env, config.rng)\n",
    "    models[1] = CrosswalkDriver(env, 0., Vehicle[], ego.state, sensor, policy, updater) \n",
    "        scene = Scene()\n",
    "        push!(scene, ego);\n",
    "\n",
    "\n",
    "        simulate!(rec, scene, env, models, nticks, config.rng, config.callbacks)\n",
    "\n",
    "        # analyze\n",
    "        if rec.nframes == config.time_out + 1\n",
    "            time_outs += 1\n",
    "        elseif !is_collision_free(rec[0])\n",
    "            crashes += 1\n",
    "        elseif is_terminal(rec[0], env)\n",
    "            successes += 1\n",
    "        end\n",
    "\n",
    "        steps[ep] = nframes(rec)       \n",
    "\n",
    "    end\n",
    "    try\n",
    "        @assert time_outs + crashes + successes == config.n_episodes\n",
    "    catch \n",
    "        println(time_outs, \" \", crashes, \" \", successes, \" \", time_outs + crashes + successes)\n",
    "    end\n",
    "    return time_outs,crashes, successes,mean(steps)\n",
    "end"
   ]
  },
  {
   "cell_type": "code",
   "execution_count": null,
   "metadata": {
    "collapsed": false
   },
   "outputs": [],
   "source": [
    "th_vec = 0:0.1:10\n",
    "N_vec = 0:5\n",
    "crashes = zeros(length(th_vec), length(N_vec))\n",
    "successes = zeros(length(th_vec), length(N_vec))\n",
    "time_outs = zeros(length(th_vec), length(N_vec))\n",
    "steps = zeros(length(th_vec), length(N_vec))\n",
    "for (i,th) in enumerate(th_vec)\n",
    "    for (j,N) in enumerate(N_vec)\n",
    "        time_outs[i,j], crashes[i,j], successes[i,j], steps[i,j] = evaluate(th, N)\n",
    "    end\n",
    "end"
   ]
  },
  {
   "cell_type": "code",
   "execution_count": null,
   "metadata": {
    "collapsed": false
   },
   "outputs": [],
   "source": [
    "minimum(crashes)"
   ]
  },
  {
   "cell_type": "code",
   "execution_count": null,
   "metadata": {
    "collapsed": false
   },
   "outputs": [],
   "source": [
    "maximum(successes)"
   ]
  },
  {
   "cell_type": "code",
   "execution_count": null,
   "metadata": {
    "collapsed": false
   },
   "outputs": [],
   "source": []
  },
  {
   "cell_type": "code",
   "execution_count": null,
   "metadata": {
    "collapsed": true
   },
   "outputs": [],
   "source": []
  }
 ],
 "metadata": {
  "anaconda-cloud": {},
  "kernelspec": {
   "display_name": "Julia 0.5.0",
   "language": "julia",
   "name": "julia-0.5"
  },
  "language_info": {
   "file_extension": ".jl",
   "mimetype": "application/julia",
   "name": "julia",
   "version": "0.5.0"
  }
 },
 "nbformat": 4,
 "nbformat_minor": 1
}
