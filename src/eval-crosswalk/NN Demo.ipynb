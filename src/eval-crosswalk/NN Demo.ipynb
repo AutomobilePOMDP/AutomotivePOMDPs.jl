{
 "cells": [
  {
   "cell_type": "markdown",
   "metadata": {},
   "source": [
    "# Neural Network Policy for the Occluded Crosswalk Problem"
   ]
  },
  {
   "cell_type": "code",
   "execution_count": 1,
   "metadata": {},
   "outputs": [],
   "source": [
    "using POMDPs, StatsBase, POMDPToolbox, SARSOP, QMDP, PyCall\n",
    "using AutomotiveDrivingModels, AutoViz, Reel, Images, JLD, Parameters"
   ]
  },
  {
   "cell_type": "code",
   "execution_count": 2,
   "metadata": {},
   "outputs": [
    {
     "name": "stderr",
     "output_type": "stream",
     "text": [
      "\u001b[1m\u001b[33mWARNING: \u001b[39m\u001b[22m\u001b[33mreplacing docs for 'scene_to_states :: Tuple{Records.Frame{Records.Entity{AutomotiveDrivingModels.VehicleState,AutomotiveDrivingModels.VehicleDef,Int64}},OCPOMDP}' in module 'Main'.\u001b[39m\n",
      "\u001b[1m\u001b[33mWARNING: \u001b[39m\u001b[22m\u001b[33mreplacing docs for 'states_to_scene :: Tuple{Dict{Int64,OCState},OCPOMDP}' in module 'Main'.\u001b[39m\n"
     ]
    }
   ],
   "source": [
    "include(\"../../admenv/crosswalk/occluded_crosswalk_env.jl\")\n",
    "include(\"../../admenv/crosswalk/pomdp_types.jl\")\n",
    "include(\"../../admenv/crosswalk/spaces.jl\")\n",
    "include(\"../../admenv/crosswalk/transition.jl\")\n",
    "include(\"../../admenv/crosswalk/observation.jl\")\n",
    "include(\"../../admenv/crosswalk/belief.jl\")\n",
    "include(\"../../admenv/crosswalk/adm_helpers.jl\")\n",
    "include(\"../../admenv/crosswalk/decomposition.jl\")\n",
    "include(\"../../admenv/crosswalk/render_helpers.jl\")"
   ]
  },
  {
   "cell_type": "code",
   "execution_count": 3,
   "metadata": {},
   "outputs": [
    {
     "name": "stderr",
     "output_type": "stream",
     "text": [
      "\u001b[1m\u001b[33mWARNING: \u001b[39m\u001b[22m\u001b[33mreplacing docs for 'obs_weight :: Tuple{OCState,OCState,OCPOMDP}' in module 'Main'.\u001b[39m\n"
     ]
    }
   ],
   "source": [
    "include(\"config.jl\")\n",
    "include(\"ego_control.jl\")\n",
    "include(\"sensor.jl\")\n",
    "include(\"policy.jl\")\n",
    "include(\"state_estimation.jl\")\n",
    "include(\"constant_pedestrian.jl\")\n",
    "include(\"simulation.jl\")\n",
    "include(\"baseline_policy.jl\")\n",
    "include(\"nn_eval_model.jl\")\n",
    "include(\"render_helpers.jl\")"
   ]
  },
  {
   "cell_type": "markdown",
   "metadata": {},
   "source": [
    "## Initialization"
   ]
  },
  {
   "cell_type": "code",
   "execution_count": 18,
   "metadata": {},
   "outputs": [
    {
     "data": {
      "text/plain": [
       "EvalConfig \n",
       "\t Sim step (s) 0.10 \n",
       "\t N episodes   10 \n",
       "\t Time out  200 \n",
       "\t Time out  200 \n"
      ]
     },
     "execution_count": 18,
     "metadata": {},
     "output_type": "execute_result"
    }
   ],
   "source": [
    "config = EvalConfig(time_out = 200, n_ped=2, n_episodes = 10)"
   ]
  },
  {
   "cell_type": "code",
   "execution_count": 5,
   "metadata": {},
   "outputs": [
    {
     "data": {
      "text/plain": [
       "AutoViz.FitToContentCamera(0.0)"
      ]
     },
     "execution_count": 5,
     "metadata": {},
     "output_type": "execute_result"
    }
   ],
   "source": [
    "cam = FitToContentCamera(0.0)"
   ]
  },
  {
   "cell_type": "code",
   "execution_count": 6,
   "metadata": {
    "collapsed": true
   },
   "outputs": [],
   "source": [
    "params = EnvParams(ped_rate = 0.03)\n",
    "env = CrosswalkEnv(params);"
   ]
  },
  {
   "cell_type": "code",
   "execution_count": 7,
   "metadata": {
    "collapsed": true
   },
   "outputs": [],
   "source": [
    "pomdp = OCPOMDP();"
   ]
  },
  {
   "cell_type": "markdown",
   "metadata": {},
   "source": [
    "#### Import NN Policy"
   ]
  },
  {
   "cell_type": "code",
   "execution_count": 8,
   "metadata": {},
   "outputs": [
    {
     "data": {
      "text/plain": [
       "PyObject <module 'dqn.nn_wrapper' from 'C:\\\\Users\\\\Maxime\\\\OneDrive - Leland Stanford Junior University\\\\Research\\\\maximeworkspace\\\\dqn\\\\nn_wrapper.py'>"
      ]
     },
     "execution_count": 8,
     "metadata": {},
     "output_type": "execute_result"
    }
   ],
   "source": [
    "@pyimport tensorflow as tf\n",
    "nn_wrapper = pyimport(\"dqn.nn_wrapper\")"
   ]
  },
  {
   "cell_type": "code",
   "execution_count": 9,
   "metadata": {},
   "outputs": [
    {
     "name": "stdout",
     "output_type": "stream",
     "text": [
      "INFO:tensorflow:Restoring parameters from ../../dqn/experiments\\test\\model.ckpt\r\n"
     ]
    },
    {
     "name": "stderr",
     "output_type": "stream",
     "text": [
      "2017-10-02 15:19:23.431416: W c:\\tf_jenkins\\home\\workspace\\release-win\\m\\windows\\py\\35\\tensorflow\\core\\platform\\cpu_feature_guard.cc:45] The TensorFlow library wasn't compiled to use SSE instructions, but these are available on your machine and could speed up CPU computations.\n",
      "2017-10-02 15:19:23.431443: W c:\\tf_jenkins\\home\\workspace\\release-win\\m\\windows\\py\\35\\tensorflow\\core\\platform\\cpu_feature_guard.cc:45] The TensorFlow library wasn't compiled to use SSE2 instructions, but these are available on your machine and could speed up CPU computations.\n",
      "2017-10-02 15:19:23.431449: W c:\\tf_jenkins\\home\\workspace\\release-win\\m\\windows\\py\\35\\tensorflow\\core\\platform\\cpu_feature_guard.cc:45] The TensorFlow library wasn't compiled to use SSE3 instructions, but these are available on your machine and could speed up CPU computations.\n",
      "2017-10-02 15:19:23.431454: W c:\\tf_jenkins\\home\\workspace\\release-win\\m\\windows\\py\\35\\tensorflow\\core\\platform\\cpu_feature_guard.cc:45] The TensorFlow library wasn't compiled to use SSE4.1 instructions, but these are available on your machine and could speed up CPU computations.\n",
      "2017-10-02 15:19:23.431458: W c:\\tf_jenkins\\home\\workspace\\release-win\\m\\windows\\py\\35\\tensorflow\\core\\platform\\cpu_feature_guard.cc:45] The TensorFlow library wasn't compiled to use SSE4.2 instructions, but these are available on your machine and could speed up CPU computations.\n",
      "2017-10-02 15:19:23.431463: W c:\\tf_jenkins\\home\\workspace\\release-win\\m\\windows\\py\\35\\tensorflow\\core\\platform\\cpu_feature_guard.cc:45] The TensorFlow library wasn't compiled to use AVX instructions, but these are available on your machine and could speed up CPU computations.\n",
      "2017-10-02 15:19:23.431467: W c:\\tf_jenkins\\home\\workspace\\release-win\\m\\windows\\py\\35\\tensorflow\\core\\platform\\cpu_feature_guard.cc:45] The TensorFlow library wasn't compiled to use AVX2 instructions, but these are available on your machine and could speed up CPU computations.\n",
      "2017-10-02 15:19:23.431472: W c:\\tf_jenkins\\home\\workspace\\release-win\\m\\windows\\py\\35\\tensorflow\\core\\platform\\cpu_feature_guard.cc:45] The TensorFlow library wasn't compiled to use FMA instructions, but these are available on your machine and could speed up CPU computations.\n",
      "[2017-10-02 15:19:23,487] Restoring parameters from ../../dqn/experiments\\test\\model.ckpt\r\n"
     ]
    },
    {
     "data": {
      "text/plain": [
       "PyObject <dqn.nn_wrapper.NNWrapper object at 0x000000002A84ACC0>"
      ]
     },
     "execution_count": 9,
     "metadata": {},
     "output_type": "execute_result"
    }
   ],
   "source": [
    "nn = nn_wrapper[:NNWrapper](\"../../dqn/experiments\\\\test\\\\\")"
   ]
  },
  {
   "cell_type": "code",
   "execution_count": 10,
   "metadata": {},
   "outputs": [],
   "source": [
    "policy = NNPolicy(pomdp, nn);"
   ]
  },
  {
   "cell_type": "code",
   "execution_count": 11,
   "metadata": {},
   "outputs": [
    {
     "data": {
      "text/plain": [
       "POMDPSensor\n",
       "  pomdp: OCPOMDP\n",
       "  sensor: SimpleSensor\n"
      ]
     },
     "execution_count": 11,
     "metadata": {},
     "output_type": "execute_result"
    }
   ],
   "source": [
    "sensor = POMDPSensor(pomdp = pomdp, sensor = SimpleSensor(0.5, 0.5))"
   ]
  },
  {
   "cell_type": "code",
   "execution_count": 12,
   "metadata": {},
   "outputs": [
    {
     "data": {
      "text/plain": [
       "Dict{Int64,OCState} with 0 entries"
      ]
     },
     "execution_count": 12,
     "metadata": {},
     "output_type": "execute_result"
    }
   ],
   "source": [
    "up = NNUpdater(pomdp);\n",
    "a0 = 0.\n",
    "ego0 = initial_ego(env, config.rng)\n",
    "b0 = initialize_off_belief(policy, ego0.state)\n",
    "o0 = Dict{Int64, OCObs}()"
   ]
  },
  {
   "cell_type": "code",
   "execution_count": 13,
   "metadata": {
    "collapsed": true
   },
   "outputs": [],
   "source": [
    "update_freq = 5\n",
    "ego_model = CrosswalkDriver(update_freq, 0, env, a0, b0, o0, ego0, sensor, policy, up);"
   ]
  },
  {
   "cell_type": "code",
   "execution_count": 14,
   "metadata": {},
   "outputs": [],
   "source": [
    "reset_model!(ego_model, ego0)"
   ]
  },
  {
   "cell_type": "markdown",
   "metadata": {},
   "source": [
    "## Run a simulation "
   ]
  },
  {
   "cell_type": "code",
   "execution_count": 15,
   "metadata": {},
   "outputs": [
    {
     "data": {
      "text/plain": [
       "SceneRecord(nscenes=0)"
      ]
     },
     "execution_count": 15,
     "metadata": {},
     "output_type": "execute_result"
    }
   ],
   "source": [
    "ego0 = initial_ego(env, config.rng)\n",
    "reset_model!(ego_model, ego0)\n",
    "models = Dict{Int, DriverModel}()\n",
    "models[1] = ego_model\n",
    "scene = initial_scene(models, env, config)\n",
    "push!(scene, ego0)\n",
    "nticks = 200\n",
    "rec = SceneRecord(nticks+1, config.sim_dt)"
   ]
  },
  {
   "cell_type": "code",
   "execution_count": 16,
   "metadata": {},
   "outputs": [
    {
     "data": {
      "text/plain": [
       "SceneRecord(nscenes=201)"
      ]
     },
     "execution_count": 16,
     "metadata": {},
     "output_type": "execute_result"
    }
   ],
   "source": [
    "# execute the simulation\n",
    "simulate!(rec, scene, env, models, nticks, config.rng, config.n_ped, config.callbacks)"
   ]
  },
  {
   "cell_type": "code",
   "execution_count": 17,
   "metadata": {},
   "outputs": [
    {
     "data": {
      "text/html": [
       "<video autoplay controls><source src=\"files/reel-1143344382418745386.webm?11605646915990183680\" type=\"video/webm\"></video>"
      ],
      "text/plain": [
       "Reel.Frames{MIME{Symbol(\"image/png\")}}(\"C:\\\\Users\\\\Maxime\\\\AppData\\\\Local\\\\Temp\\\\jl_DC6E.tmp\", 0x00000000000000c9, 10.0, nothing)"
      ]
     },
     "execution_count": 17,
     "metadata": {},
     "output_type": "execute_result"
    }
   ],
   "source": [
    "duration, fps, render_rec = animate_record(rec)\n",
    "speed_factor = 1\n",
    "film = roll(render_rec, fps = fps*speed_factor, duration = duration/speed_factor)"
   ]
  },
  {
   "cell_type": "markdown",
   "metadata": {},
   "source": [
    "## Evaluation"
   ]
  },
  {
   "cell_type": "code",
   "execution_count": 19,
   "metadata": {},
   "outputs": [
    {
     "name": "stdout",
     "output_type": "stream",
     "text": [
      "Episode 1 TIME OUT\n",
      "Episode 2 TIME OUT\n",
      "Episode 3 TIME OUT\n",
      "Episode 4 TIME OUT\n",
      "Episode 5 TIME OUT\n",
      "Episode 6 TIME OUT\n",
      "Episode 7 TIME OUT\n",
      "Episode 8 TIME OUT\n",
      "Episode 9 TIME OUT\n",
      "Episode 10 TIME OUT\n",
      "End of the simulation: Crashes 0 , Successes 0, Time out 10, Avg Step 201.0\n"
     ]
    }
   ],
   "source": [
    "crash = 0\n",
    "avg_step = 0\n",
    "success = 0\n",
    "time_out = 0\n",
    "avg_step = 0\n",
    "for i=1:config.n_episodes    \n",
    "    ego0 = initial_ego(env, config.rng)\n",
    "    reset_model!(ego_model, ego0)\n",
    "    models = Dict{Int, DriverModel}()\n",
    "    models[1] = ego_model\n",
    "    scene = initial_scene(models, env, config)\n",
    "    push!(scene, ego0)\n",
    "    nticks = 200\n",
    "    rec = SceneRecord(nticks+1, config.sim_dt)\n",
    "    # execute the simulation\n",
    "    simulate!(rec, scene, env, models, nticks, config.rng, config.n_ped, config.callbacks)\n",
    "    avg_step += nframes(rec)\n",
    "    \n",
    "    # analyse output \n",
    "    if is_crash(rec[0])\n",
    "        crash += 1\n",
    "        println(\"Episode $i CRASH\")\n",
    "#         break\n",
    "    elseif is_terminal(rec[0], env)\n",
    "        success += 1\n",
    "        println(\"Episode $i SUCCESS\")\n",
    "    elseif nframes(rec) >= config.time_out\n",
    "        time_out += 1\n",
    "        println(\"Episode $i TIME OUT\")\n",
    "#         break\n",
    "    else\n",
    "        println(\"Episode $i nothing happened, frames: $(nframes(rec))\")\n",
    "    end\n",
    "end\n",
    "println(\"End of the simulation: Crashes $crash , Successes $success, Time out $time_out, Avg Step $(avg_step/config.n_episodes)\")"
   ]
  },
  {
   "cell_type": "code",
   "execution_count": null,
   "metadata": {
    "collapsed": true
   },
   "outputs": [],
   "source": []
  }
 ],
 "metadata": {
  "anaconda-cloud": {},
  "kernelspec": {
   "display_name": "Julia 0.6.0",
   "language": "julia",
   "name": "julia-0.6"
  },
  "language_info": {
   "file_extension": ".jl",
   "mimetype": "application/julia",
   "name": "julia",
   "version": "0.6.0"
  }
 },
 "nbformat": 4,
 "nbformat_minor": 1
}
