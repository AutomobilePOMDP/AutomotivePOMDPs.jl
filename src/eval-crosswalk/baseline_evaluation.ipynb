{
 "cells": [
  {
   "cell_type": "markdown",
   "metadata": {},
   "source": [
    "# Baseline Policy Evaluation - Crosswalk"
   ]
  },
  {
   "cell_type": "code",
   "execution_count": 1,
   "metadata": {
    "scrolled": true
   },
   "outputs": [],
   "source": [
    "using AutoViz, Reel, POMDPs, StatsBase, POMDPToolbox, QMDP, AutomotiveDrivingModels, JLD, Parameters, GridInterpolations, SARSOP"
   ]
  },
  {
   "cell_type": "markdown",
   "metadata": {},
   "source": [
    "Load models and config"
   ]
  },
  {
   "cell_type": "code",
   "execution_count": 2,
   "metadata": {},
   "outputs": [],
   "source": [
    "include(\"../../admenv/crosswalk/occluded_crosswalk_env.jl\")\n",
    "include(\"../../admenv/crosswalk/pomdp_types.jl\")\n",
    "include(\"../../admenv/crosswalk/spaces.jl\")\n",
    "include(\"../../admenv/crosswalk/transition.jl\")\n",
    "include(\"../../admenv/crosswalk/observation.jl\")\n",
    "include(\"../../admenv/crosswalk/belief.jl\")\n",
    "include(\"../../admenv/crosswalk/decomposition.jl\")\n",
    "include(\"../../admenv/crosswalk/render_helpers.jl\")"
   ]
  },
  {
   "cell_type": "code",
   "execution_count": 3,
   "metadata": {},
   "outputs": [
    {
     "name": "stderr",
     "output_type": "stream",
     "text": [
      "\u001b[1m\u001b[33mWARNING: \u001b[39m\u001b[22m\u001b[33mreplacing docs for 'obs_weight :: Tuple{OCState,OCState,OCPOMDP}' in module 'Main'.\u001b[39m\n"
     ]
    }
   ],
   "source": [
    "include(\"config.jl\")\n",
    "include(\"ego_control.jl\")\n",
    "include(\"sensor.jl\")\n",
    "include(\"policy.jl\")\n",
    "include(\"state_estimation.jl\")\n",
    "include(\"constant_pedestrian.jl\")\n",
    "include(\"simulation.jl\")\n",
    "include(\"baseline_policy.jl\")\n",
    "include(\"render_helpers.jl\")"
   ]
  },
  {
   "cell_type": "markdown",
   "metadata": {},
   "source": [
    "## Initialize "
   ]
  },
  {
   "cell_type": "code",
   "execution_count": 4,
   "metadata": {},
   "outputs": [
    {
     "data": {
      "text/plain": [
       "EvalConfig \n",
       "\t Sim step (s) 0.10 \n",
       "\t N episodes 2000 \n",
       "\t Time out  300 \n",
       "\t Time out  300 \n"
      ]
     },
     "execution_count": 4,
     "metadata": {},
     "output_type": "execute_result"
    }
   ],
   "source": [
    "config = EvalConfig(time_out = 300, n_episodes = 2000) "
   ]
  },
  {
   "cell_type": "code",
   "execution_count": 5,
   "metadata": {},
   "outputs": [
    {
     "data": {
      "text/plain": [
       "AutoViz.FitToContentCamera(0.0)"
      ]
     },
     "execution_count": 5,
     "metadata": {},
     "output_type": "execute_result"
    }
   ],
   "source": [
    "cam = FitToContentCamera(0.0)"
   ]
  },
  {
   "cell_type": "code",
   "execution_count": 6,
   "metadata": {},
   "outputs": [],
   "source": [
    "params = EnvParams(ped_rate = 0.01)\n",
    "env = CrosswalkEnv(params);"
   ]
  },
  {
   "cell_type": "code",
   "execution_count": 7,
   "metadata": {
    "collapsed": true
   },
   "outputs": [],
   "source": [
    "pomdp = OCPOMDP();"
   ]
  },
  {
   "cell_type": "code",
   "execution_count": 8,
   "metadata": {},
   "outputs": [
    {
     "data": {
      "text/plain": [
       "SimpleSensor(0.5, 0.5)"
      ]
     },
     "execution_count": 8,
     "metadata": {},
     "output_type": "execute_result"
    }
   ],
   "source": [
    "sensor = SimpleSensor(0.5, 0.5)"
   ]
  },
  {
   "cell_type": "code",
   "execution_count": 9,
   "metadata": {},
   "outputs": [],
   "source": [
    "policy = WaitAndGo(env=env);"
   ]
  },
  {
   "cell_type": "code",
   "execution_count": 10,
   "metadata": {},
   "outputs": [],
   "source": [
    "up = WaitAndGoUpdater(policy, pomdp);"
   ]
  },
  {
   "cell_type": "code",
   "execution_count": 11,
   "metadata": {},
   "outputs": [],
   "source": [
    "a0 = 0.\n",
    "b0 = Vector{Vehicle}()\n",
    "o0 = Vector{Vehicle}()\n",
    "ego0 = initial_ego(env, config.rng)\n",
    "update_freq = 5;"
   ]
  },
  {
   "cell_type": "code",
   "execution_count": 12,
   "metadata": {},
   "outputs": [],
   "source": [
    "ego_model = CrosswalkDriver(update_freq, 0, env, a0, b0, o0, ego0, sensor, policy, up);"
   ]
  },
  {
   "cell_type": "code",
   "execution_count": 13,
   "metadata": {},
   "outputs": [],
   "source": [
    "reset_model!(ego_model, ego0);"
   ]
  },
  {
   "cell_type": "code",
   "execution_count": 14,
   "metadata": {},
   "outputs": [],
   "source": [
    "overlay = WaitAndGoOverlay(config.sim_dt, ego_model);"
   ]
  },
  {
   "cell_type": "markdown",
   "metadata": {},
   "source": [
    "# Simulation"
   ]
  },
  {
   "cell_type": "code",
   "execution_count": 15,
   "metadata": {},
   "outputs": [
    {
     "data": {
      "text/plain": [
       "SceneRecord(nscenes=0)"
      ]
     },
     "execution_count": 15,
     "metadata": {},
     "output_type": "execute_result"
    }
   ],
   "source": [
    "# execute the simulation\n",
    "reset_model!(ego_model, ego0)\n",
    "models = Dict{Int64, DriverModel}()\n",
    "models[1] = ego_model\n",
    "nticks = 300\n",
    "scene = initial_scene(models, env, config)\n",
    "push!(scene, ego0)\n",
    "rec = SceneRecord(nticks+1, config.sim_dt)"
   ]
  },
  {
   "cell_type": "code",
   "execution_count": 16,
   "metadata": {},
   "outputs": [
    {
     "data": {
      "text/plain": [
       "SceneRecord(nscenes=104)"
      ]
     },
     "execution_count": 16,
     "metadata": {},
     "output_type": "execute_result"
    }
   ],
   "source": [
    "simulate!(rec, scene, env, models, nticks, config.rng, config.n_ped, config.callbacks)"
   ]
  },
  {
   "cell_type": "code",
   "execution_count": 17,
   "metadata": {},
   "outputs": [
    {
     "data": {
      "text/html": [
       "<video autoplay controls><source src=\"files/reel-5060945158027037602.webm?10385744480366064703\" type=\"video/webm\"></video>"
      ],
      "text/plain": [
       "Reel.Frames{MIME{Symbol(\"image/png\")}}(\"C:\\\\Users\\\\Maxime\\\\AppData\\\\Local\\\\Temp\\\\jl_8812.tmp\", 0x0000000000000068, 10.0, nothing)"
      ]
     },
     "execution_count": 17,
     "metadata": {},
     "output_type": "execute_result"
    }
   ],
   "source": [
    "reset_overlay!(overlay, ego0)\n",
    "duration, fps, render_rec = animate_record(rec, overlay)\n",
    "speed_factor = 1\n",
    "film = roll(render_rec, fps = fps*speed_factor, duration = duration/speed_factor)"
   ]
  },
  {
   "cell_type": "markdown",
   "metadata": {},
   "source": [
    "## Evaluation and Tuning"
   ]
  },
  {
   "cell_type": "code",
   "execution_count": 18,
   "metadata": {},
   "outputs": [
    {
     "data": {
      "text/plain": [
       "evaluate (generic function with 2 methods)"
      ]
     },
     "execution_count": 18,
     "metadata": {},
     "output_type": "execute_result"
    }
   ],
   "source": [
    "function evaluate(env::CrosswalkEnv, ego_model::CrosswalkDriver, config::EvalConfig, verbose::Bool=false)\n",
    "        crash = 0\n",
    "        avg_step = 0\n",
    "        success = 0\n",
    "        time_out = 0\n",
    "        avg_step = 0\n",
    "        ego0 = initial_ego(env, config.rng)\n",
    "        reset_model!(ego_model, ego0)\n",
    "        models = Dict{Int, DriverModel}()\n",
    "        models[1] = ego_model\n",
    "        scene = initial_scene(models, env, config)\n",
    "        push!(scene, ego0)\n",
    "        nticks = config.time_out\n",
    "        rec = SceneRecord(nticks+1, config.sim_dt)\n",
    "\n",
    "        # execute the simulation\n",
    "        simulate!(rec, scene, env, models, nticks, config.rng, config.n_ped, config.callbacks)\n",
    "        avg_step = nframes(rec)\n",
    "\n",
    "        # analyse output\n",
    "        if is_crash(rec[0])\n",
    "            crash = 1\n",
    "            if verbose; println(\"Episode CRASH\"); end\n",
    "        elseif is_terminal(rec[0], env)\n",
    "            success = 1\n",
    "            if verbose; println(\"Episode SUCCESS\"); end\n",
    "        elseif nframes(rec) >= config.time_out\n",
    "            time_out = 1\n",
    "            if verbose; println(\"Episode  TIME OUT\"); end\n",
    "        else\n",
    "#             println(\"Episode nothing happened, frames: $(nframes(rec))\")\n",
    "        end\n",
    "\n",
    "#         println(\"End of the simulation: Crashes $crash , Successes $success, Time out $time_out, Avg Step $(avg_step)\")\n",
    "        return crash, success, time_out, avg_step\n",
    "    end"
   ]
  },
  {
   "cell_type": "code",
   "execution_count": 19,
   "metadata": {},
   "outputs": [
    {
     "data": {
      "text/plain": [
       "evaluate_params (generic function with 1 method)"
      ]
     },
     "execution_count": 19,
     "metadata": {},
     "output_type": "execute_result"
    }
   ],
   "source": [
    "function evaluate_params(th::Float64, N::Int64, env::CrosswalkEnv, ego_model::CrosswalkDriver, config::EvalConfig)\n",
    "    ego_model.policy.threshold = th\n",
    "    ego_model.policy.N0 = N\n",
    "    crash = zeros(config.n_episodes)\n",
    "    success = zeros(config.n_episodes)\n",
    "    time_out = zeros(config.n_episodes)\n",
    "    avg_step = zeros(config.n_episodes)\n",
    "    for i=1:config.n_episodes\n",
    "        crash[i], success[i], time_out[i], avg_step[i] = evaluate(env, ego_model, config)\n",
    "    end\n",
    "    # compute stats\n",
    "    crash_rate = mean(crash)*100\n",
    "    crash_cum_avg = cumsum(crash)./linspace(1.0,length(crash), length(crash))*100\n",
    "    crash_std = std(crash_cum_avg)\n",
    "    success_rate = mean(success)*100\n",
    "    success_std = std(success)*100\n",
    "    avg_time = mean(avg_step)*config.sim_dt\n",
    "    std_time = std(avg_step)*config.sim_dt\n",
    "    @printf(\"Th: %2.1fs N:%2i | %3i episodes: Crash rate %2.2f ± %2.2f %% | Success rate %2.2f ± %2.2f %% | Avg time %2.2f ± %2.2f s \\n\", \n",
    "            th, N, config.n_episodes, crash_rate, crash_std, success_rate, success_std, avg_time, std_time)\n",
    "    return crash, success, time_out, avg_step\n",
    "end"
   ]
  },
  {
   "cell_type": "code",
   "execution_count": 20,
   "metadata": {},
   "outputs": [
    {
     "name": "stdout",
     "output_type": "stream",
     "text": [
      "Th: 2.5s N: 3 | 2000 episodes: Crash rate 8.50 ± 1.89 % | Success rate 91.50 ± 27.90 % | Avg time 11.63 ± 2.12 s \n"
     ]
    }
   ],
   "source": [
    "evaluate_params(2.5, 3, env, ego_model, config);"
   ]
  },
  {
   "cell_type": "markdown",
   "metadata": {},
   "source": [
    "### Parameter sweeping"
   ]
  },
  {
   "cell_type": "code",
   "execution_count": 21,
   "metadata": {},
   "outputs": [
    {
     "name": "stderr",
     "output_type": "stream",
     "text": [
      "WARNING: using ProgressMeter.update! in module Main conflicts with an existing identifier.\n"
     ]
    }
   ],
   "source": [
    "using ProgressMeter"
   ]
  },
  {
   "cell_type": "code",
   "execution_count": 22,
   "metadata": {},
   "outputs": [
    {
     "name": "stdout",
     "output_type": "stream",
     "text": [
      "Th: 1.0s N: 0 | 2000 episodes: Crash rate 36.65 ± 1.86 % | Success rate 63.35 ± 48.20 % | Avg time 8.34 ± 1.24 s \n",
      "Th: 1.0s N: 1 | 2000 episodes: Crash rate 30.55 ± 2.08 % | Success rate 69.45 ± 46.07 % | Avg time 9.08 ± 1.12 s \n",
      "Th: 1.0s N: 2 | 2000 episodes: Crash rate 25.50 ± 2.72 % | Success rate 74.50 ± 43.60 % | Avg time 9.85 ± 1.10 s \n",
      "Th: 1.0s N: 3 | 2000 episodes: Crash rate 20.80 ± 4.57 % | Success rate 79.20 ± 40.60 % | Avg time 10.59 ± 1.29 s \n",
      "Th: 1.0s N: 4 | 2000 episodes: Crash rate 19.00 ± 2.52 % | Success rate 81.00 ± 39.24 % | Avg time 11.26 ± 1.43 s \n",
      "Th: 1.0s N: 5 | 2000 episodes: Crash rate 18.75 ± 1.54 % | Success rate 81.25 ± 39.04 % | Avg time 11.99 ± 1.74 s \n",
      "Th: 1.0s N: 6 | 2000 episodes: Crash rate 19.10 ± 2.17 % | Success rate 80.90 ± 39.32 % | Avg time 12.65 ± 2.04 s \n",
      "Th: 1.0s N: 7 | 2000 episodes: Crash rate 20.25 ± 1.88 % | Success rate 79.70 ± 40.23 % | Avg time 13.44 ± 2.35 s \n",
      "Th: 1.0s N: 8 | 2000 episodes: Crash rate 19.05 ± 1.86 % | Success rate 80.75 ± 39.44 % | Avg time 14.22 ± 2.75 s \n",
      "Th: 1.0s N: 9 | 2000 episodes: Crash rate 19.10 ± 2.08 % | Success rate 80.65 ± 39.51 % | Avg time 15.03 ± 3.07 s \n",
      "Th: 1.0s N:10 | 2000 episodes: Crash rate 19.55 ± 1.60 % | Success rate 79.45 ± 40.42 % | Avg time 15.90 ± 3.58 s \n",
      "Th: 1.5s N: 0 | 2000 episodes: Crash rate 34.85 ± 2.79 % | Success rate 65.15 ± 47.66 % | Avg time 8.38 ± 1.21 s \n",
      "Th: 1.5s N: 1 | 2000 episodes: Crash rate 29.60 ± 4.78 % | Success rate 70.40 ± 45.66 % | Avg time 9.18 ± 1.09 s \n",
      "Th: 1.5s N: 2 | 2000 episodes: Crash rate 21.00 ± 1.60 % | Success rate 79.00 ± 40.74 % | Avg time 10.05 ± 1.16 s \n",
      "Th: 1.5s N: 3 | 2000 episodes: Crash rate 16.30 ± 1.52 % | Success rate 83.70 ± 36.95 % | Avg time 10.91 ± 1.47 s \n",
      "Th: 1.5s N: 4 | 2000 episodes: Crash rate 14.45 ± 0.99 % | Success rate 85.55 ± 35.17 % | Avg time 11.70 ± 1.83 s \n",
      "Th: 1.5s N: 5 | 2000 episodes: Crash rate 12.60 ± 1.95 % | Success rate 87.40 ± 33.19 % | Avg time 12.53 ± 2.18 s \n",
      "Th: 1.5s N: 6 | 2000 episodes: Crash rate 14.15 ± 2.30 % | Success rate 85.80 ± 34.91 % | Avg time 13.19 ± 2.39 s \n",
      "Th: 1.5s N: 7 | 2000 episodes: Crash rate 13.20 ± 1.98 % | Success rate 86.70 ± 33.97 % | Avg time 14.08 ± 2.93 s \n",
      "Th: 1.5s N: 8 | 2000 episodes: Crash rate 12.95 ± 2.06 % | Success rate 86.40 ± 34.29 % | Avg time 14.93 ± 3.46 s \n",
      "Th: 1.5s N: 9 | 2000 episodes: Crash rate 13.05 ± 0.96 % | Success rate 85.45 ± 35.27 % | Avg time 15.87 ± 3.83 s \n",
      "Th: 1.5s N:10 | 2000 episodes: Crash rate 13.80 ± 2.82 % | Success rate 84.35 ± 36.34 % | Avg time 16.62 ± 4.13 s \n",
      "Th: 2.0s N: 0 | 2000 episodes: Crash rate 36.50 ± 2.02 % | Success rate 63.50 ± 48.16 % | Avg time 8.33 ± 1.24 s \n",
      "Th: 2.0s N: 1 | 2000 episodes: Crash rate 27.55 ± 3.79 % | Success rate 72.45 ± 44.69 % | Avg time 9.26 ± 1.06 s \n",
      "Th: 2.0s N: 2 | 2000 episodes: Crash rate 18.75 ± 3.24 % | Success rate 81.25 ± 39.04 % | Avg time 10.33 ± 1.40 s \n",
      "Th: 2.0s N: 3 | 2000 episodes: Crash rate 11.60 ± 1.81 % | Success rate 88.40 ± 32.03 % | Avg time 11.31 ± 1.83 s \n",
      "Th: 2.0s N: 4 | 2000 episodes: Crash rate 10.25 ± 1.51 % | Success rate 89.75 ± 30.34 % | Avg time 12.12 ± 2.28 s \n",
      "Th: 2.0s N: 5 | 2000 episodes: Crash rate 7.65 ± 1.55 % | Success rate 92.35 ± 26.59 % | Avg time 12.90 ± 2.43 s \n",
      "Th: 2.0s N: 6 | 2000 episodes: Crash rate 8.05 ± 0.97 % | Success rate 91.75 ± 27.52 % | Avg time 13.79 ± 3.08 s \n",
      "Th: 2.0s N: 7 | 2000 episodes: Crash rate 8.95 ± 1.75 % | Success rate 90.40 ± 29.47 % | Avg time 14.71 ± 3.53 s \n",
      "Th: 2.0s N: 8 | 2000 episodes: Crash rate 9.25 ± 1.72 % | Success rate 89.55 ± 30.60 % | Avg time 15.30 ± 3.81 s \n",
      "Th: 2.0s N: 9 | 2000 episodes: Crash rate 6.85 ± 3.72 % | Success rate 91.00 ± 28.63 % | Avg time 16.46 ± 4.21 s \n",
      "Th: 2.0s N:10 | 2000 episodes: Crash rate 7.90 ± 2.19 % | Success rate 88.55 ± 31.85 % | Avg time 17.38 ± 4.65 s \n",
      "Th: 2.5s N: 0 | 2000 episodes: Crash rate 35.75 ± 2.14 % | Success rate 64.25 ± 47.94 % | Avg time 8.36 ± 1.25 s \n",
      "Th: 2.5s N: 1 | 2000 episodes: Crash rate 28.45 ± 2.05 % | Success rate 71.55 ± 45.13 % | Avg time 9.34 ± 1.09 s \n",
      "Th: 2.5s N: 2 | 2000 episodes: Crash rate 15.60 ± 2.39 % | Success rate 84.40 ± 36.29 % | Avg time 10.48 ± 1.48 s \n",
      "Th: 2.5s N: 3 | 2000 episodes: Crash rate 8.05 ± 0.89 % | Success rate 91.95 ± 27.21 % | Avg time 11.58 ± 2.01 s \n",
      "Th: 2.5s N: 4 | 2000 episodes: Crash rate 4.80 ± 0.66 % | Success rate 95.15 ± 21.49 % | Avg time 12.45 ± 2.49 s \n",
      "Th: 2.5s N: 5 | 2000 episodes: Crash rate 4.45 ± 1.12 % | Success rate 95.30 ± 21.17 % | Avg time 13.31 ± 2.98 s \n",
      "Th: 2.5s N: 6 | 2000 episodes: Crash rate 5.90 ± 1.07 % | Success rate 93.75 ± 24.21 % | Avg time 14.03 ± 3.23 s \n",
      "Th: 2.5s N: 7 | 2000 episodes: Crash rate 5.40 ± 0.73 % | Success rate 93.40 ± 24.83 % | Avg time 15.02 ± 3.82 s \n",
      "Th: 2.5s N: 8 | 2000 episodes: Crash rate 5.30 ± 0.89 % | Success rate 92.45 ± 26.43 % | Avg time 15.97 ± 4.29 s \n",
      "Th: 2.5s N: 9 | 2000 episodes: Crash rate 4.65 ± 0.60 % | Success rate 92.55 ± 26.26 % | Avg time 16.88 ± 4.51 s \n",
      "Th: 2.5s N:10 | 2000 episodes: Crash rate 5.35 ± 0.63 % | Success rate 89.55 ± 30.60 % | Avg time 17.75 ± 4.87 s \n",
      "Th: 3.0s N: 0 | 2000 episodes: Crash rate 36.10 ± 3.02 % | Success rate 63.90 ± 48.04 % | Avg time 8.36 ± 1.22 s \n",
      "Th: 3.0s N: 1 | 2000 episodes: Crash rate 27.35 ± 1.97 % | Success rate 72.65 ± 44.59 % | Avg time 9.43 ± 1.09 s \n",
      "Th: 3.0s N: 2 | 2000 episodes: Crash rate 13.55 ± 1.32 % | Success rate 86.45 ± 34.23 % | Avg time 10.71 ± 1.78 s \n",
      "Th: 3.0s N: 3 | 2000 episodes: Crash rate 5.85 ± 0.75 % | Success rate 94.15 ± 23.47 % | Avg time 11.72 ± 2.22 s \n",
      "Th: 3.0s N: 4 | 2000 episodes: Crash rate 3.30 ± 1.26 % | Success rate 96.70 ± 17.87 % | Avg time 12.61 ± 2.66 s \n",
      "Th: 3.0s N: 5 | 2000 episodes: Crash rate 3.15 ± 0.91 % | Success rate 96.45 ± 18.51 % | Avg time 13.43 ± 3.15 s \n",
      "Th: 3.0s N: 6 | 2000 episodes: Crash rate 3.15 ± 1.01 % | Success rate 96.00 ± 19.60 % | Avg time 14.35 ± 3.57 s \n",
      "Th: 3.0s N: 7 | 2000 episodes: Crash rate 3.55 ± 0.94 % | Success rate 95.00 ± 21.80 % | Avg time 15.29 ± 4.03 s \n",
      "Th: 3.0s N: 8 | 2000 episodes: Crash rate 3.40 ± 0.43 % | Success rate 94.60 ± 22.61 % | Avg time 16.15 ± 4.42 s \n",
      "Th: 3.0s N: 9 | 2000 episodes: Crash rate 3.00 ± 0.85 % | Success rate 93.50 ± 24.66 % | Avg time 17.04 ± 4.72 s \n",
      "Th: 3.0s N:10 | 2000 episodes: Crash rate 2.95 ± 1.42 % | Success rate 90.65 ± 29.12 % | Avg time 18.09 ± 5.10 s \n",
      "Th: 3.5s N: 0 | 2000 episodes: Crash rate 36.60 ± 2.29 % | Success rate 63.40 ± 48.18 % | Avg time 8.32 ± 1.23 s \n",
      "Th: 3.5s N: 1 | 2000 episodes: Crash rate 26.45 ± 1.35 % | Success rate 73.55 ± 44.12 % | Avg time 9.53 ± 1.16 s \n",
      "Th: 3.5s N: 2 | 2000 episodes: Crash rate 13.85 ± 1.14 % | Success rate 86.15 ± 34.55 % | Avg time 10.74 ± 1.74 s \n",
      "Th: 3.5s N: 3 | 2000 episodes: Crash rate 4.95 ± 1.16 % | Success rate 95.00 ± 21.80 % | Avg time 11.90 ± 2.50 s \n",
      "Th: 3.5s N: 4 | 2000 episodes: Crash rate 3.00 ± 1.03 % | Success rate 96.85 ± 17.47 % | Avg time 12.79 ± 2.89 s \n",
      "Th: 3.5s N: 5 | 2000 episodes: Crash rate 2.00 ± 0.59 % | Success rate 97.80 ± 14.67 % | Avg time 13.59 ± 3.18 s \n",
      "Th: 3.5s N: 6 | 2000 episodes: Crash rate 2.50 ± 0.47 % | Success rate 96.20 ± 19.12 % | Avg time 14.70 ± 3.99 s \n",
      "Th: 3.5s N: 7 | 2000 episodes: Crash rate 2.40 ± 0.66 % | Success rate 95.85 ± 19.95 % | Avg time 15.62 ± 4.31 s \n",
      "Th: 3.5s N: 8 | 2000 episodes: Crash rate 2.10 ± 0.41 % | Success rate 95.55 ± 20.63 % | Avg time 16.28 ± 4.42 s \n",
      "Th: 3.5s N: 9 | 2000 episodes: Crash rate 2.35 ± 0.43 % | Success rate 93.70 ± 24.30 % | Avg time 17.03 ± 4.73 s \n",
      "Th: 3.5s N:10 | 2000 episodes: Crash rate 1.55 ± 0.30 % | Success rate 91.50 ± 27.90 % | Avg time 18.17 ± 5.17 s \n",
      "Th: 4.0s N: 0 | 2000 episodes: Crash rate 35.15 ± 3.74 % | Success rate 64.85 ± 47.76 % | Avg time 8.37 ± 1.22 s \n",
      "Th: 4.0s N: 1 | 2000 episodes: Crash rate 25.30 ± 1.87 % | Success rate 74.70 ± 43.48 % | Avg time 9.55 ± 1.15 s \n",
      "Th: 4.0s N: 2 | 2000 episodes: Crash rate 12.85 ± 1.25 % | Success rate 87.15 ± 33.47 % | Avg time 10.78 ± 1.78 s \n",
      "Th: 4.0s N: 3 | 2000 episodes: Crash rate 4.55 ± 1.68 % | Success rate 95.35 ± 21.06 % | Avg time 11.91 ± 2.37 s \n",
      "Th: 4.0s N: 4 | 2000 episodes: Crash rate 2.55 ± 0.45 % | Success rate 97.30 ± 16.21 % | Avg time 12.77 ± 2.83 s \n",
      "Th: 4.0s N: 5 | 2000 episodes: Crash rate 1.45 ± 0.64 % | Success rate 98.45 ± 12.36 % | Avg time 13.57 ± 3.12 s \n"
     ]
    },
    {
     "name": "stdout",
     "output_type": "stream",
     "text": [
      "Th: 4.0s N: 6 | 2000 episodes: Crash rate 1.50 ± 0.40 % | Success rate 97.80 ± 14.67 % | Avg time 14.52 ± 3.74 s \n",
      "Th: 4.0s N: 7 | 2000 episodes: Crash rate 1.65 ± 0.54 % | Success rate 96.60 ± 18.13 % | Avg time 15.58 ± 4.34 s \n",
      "Th: 4.0s N: 8 | 2000 episodes: Crash rate 1.10 ± 0.35 % | Success rate 96.00 ± 19.60 % | Avg time 16.34 ± 4.61 s \n",
      "Th: 4.0s N: 9 | 2000 episodes: Crash rate 1.65 ± 0.94 % | Success rate 94.35 ± 23.09 % | Avg time 17.18 ± 4.74 s \n",
      "Th: 4.0s N:10 | 2000 episodes: Crash rate 1.30 ± 1.02 % | Success rate 91.60 ± 27.75 % | Avg time 18.31 ± 5.30 s \n",
      "Th: 4.5s N: 0 | 2000 episodes: Crash rate 35.90 ± 2.27 % | Success rate 64.10 ± 47.98 % | Avg time 8.37 ± 1.24 s \n",
      "Th: 4.5s N: 1 | 2000 episodes: Crash rate 28.20 ± 2.37 % | Success rate 71.80 ± 45.01 % | Avg time 9.57 ± 1.23 s \n",
      "Th: 4.5s N: 2 | 2000 episodes: Crash rate 9.90 ± 2.65 % | Success rate 90.10 ± 29.87 % | Avg time 10.96 ± 1.84 s \n",
      "Th: 4.5s N: 3 | 2000 episodes: Crash rate 3.30 ± 0.66 % | Success rate 96.65 ± 18.00 % | Avg time 11.99 ± 2.48 s \n",
      "Th: 4.5s N: 4 | 2000 episodes: Crash rate 1.40 ± 0.53 % | Success rate 98.40 ± 12.55 % | Avg time 12.84 ± 2.80 s \n",
      "Th: 4.5s N: 5 | 2000 episodes: Crash rate 1.80 ± 0.68 % | Success rate 98.00 ± 14.00 % | Avg time 13.65 ± 3.20 s \n",
      "Th: 4.5s N: 6 | 2000 episodes: Crash rate 0.80 ± 0.19 % | Success rate 98.20 ± 13.30 % | Avg time 14.57 ± 3.70 s \n",
      "Th: 4.5s N: 7 | 2000 episodes: Crash rate 1.10 ± 0.54 % | Success rate 97.25 ± 16.36 % | Avg time 15.64 ± 4.34 s \n",
      "Th: 4.5s N: 8 | 2000 episodes: Crash rate 1.20 ± 0.36 % | Success rate 96.00 ± 19.60 % | Avg time 16.30 ± 4.55 s \n",
      "Th: 4.5s N: 9 | 2000 episodes: Crash rate 1.15 ± 0.37 % | Success rate 94.40 ± 23.00 % | Avg time 17.22 ± 4.81 s \n",
      "Th: 4.5s N:10 | 2000 episodes: Crash rate 1.15 ± 0.30 % | Success rate 91.65 ± 27.67 % | Avg time 18.54 ± 5.29 s \n",
      "Th: 5.0s N: 0 | 2000 episodes: Crash rate 36.75 ± 2.85 % | Success rate 63.25 ± 48.22 % | Avg time 8.34 ± 1.24 s \n",
      "Th: 5.0s N: 1 | 2000 episodes: Crash rate 27.35 ± 2.26 % | Success rate 72.65 ± 44.59 % | Avg time 9.64 ± 1.30 s \n",
      "Th: 5.0s N: 2 | 2000 episodes: Crash rate 12.70 ± 1.61 % | Success rate 87.30 ± 33.31 % | Avg time 10.93 ± 1.99 s \n",
      "Th: 5.0s N: 3 | 2000 episodes: Crash rate 3.65 ± 0.80 % | Success rate 96.35 ± 18.76 % | Avg time 11.97 ± 2.42 s \n",
      "Th: 5.0s N: 4 | 2000 episodes: Crash rate 1.45 ± 0.31 % | Success rate 98.55 ± 11.96 % | Avg time 12.83 ± 2.85 s \n",
      "Th: 5.0s N: 5 | 2000 episodes: Crash rate 1.00 ± 0.27 % | Success rate 98.50 ± 12.16 % | Avg time 13.78 ± 3.51 s \n",
      "Th: 5.0s N: 6 | 2000 episodes: Crash rate 1.10 ± 0.65 % | Success rate 97.95 ± 14.17 % | Avg time 14.55 ± 3.69 s \n",
      "Th: 5.0s N: 7 | 2000 episodes: Crash rate 0.70 ± 0.27 % | Success rate 98.00 ± 14.00 % | Avg time 15.44 ± 4.12 s \n",
      "Th: 5.0s N: 8 | 2000 episodes: Crash rate 1.05 ± 0.32 % | Success rate 95.40 ± 20.95 % | Avg time 16.53 ± 4.70 s \n",
      "Th: 5.0s N: 9 | 2000 episodes: Crash rate 0.85 ± 1.22 % | Success rate 94.40 ± 23.00 % | Avg time 17.51 ± 4.99 s \n",
      "Th: 5.0s N:10 | 2000 episodes: Crash rate 1.35 ± 0.71 % | Success rate 90.95 ± 28.70 % | Avg time 18.32 ± 5.22 s \n",
      "Th: 5.5s N: 0 | 2000 episodes: Crash rate 36.50 ± 2.57 % | Success rate 63.50 ± 48.16 % | Avg time 8.34 ± 1.24 s \n",
      "Th: 5.5s N: 1 | 2000 episodes: Crash rate 25.45 ± 3.00 % | Success rate 74.55 ± 43.57 % | Avg time 9.64 ± 1.24 s \n",
      "Th: 5.5s N: 2 | 2000 episodes: Crash rate 10.70 ± 1.55 % | Success rate 89.30 ± 30.92 % | Avg time 10.99 ± 1.97 s \n",
      "Th: 5.5s N: 3 | 2000 episodes: Crash rate 3.10 ± 0.42 % | Success rate 96.90 ± 17.34 % | Avg time 12.01 ± 2.42 s \n",
      "Th: 5.5s N: 4 | 2000 episodes: Crash rate 1.30 ± 0.42 % | Success rate 98.60 ± 11.75 % | Avg time 12.92 ± 2.89 s \n",
      "Th: 5.5s N: 5 | 2000 episodes: Crash rate 1.45 ± 0.47 % | Success rate 98.05 ± 13.83 % | Avg time 13.75 ± 3.37 s \n",
      "Th: 5.5s N: 6 | 2000 episodes: Crash rate 0.60 ± 0.25 % | Success rate 98.60 ± 11.75 % | Avg time 14.64 ± 3.83 s \n",
      "Th: 5.5s N: 7 | 2000 episodes: Crash rate 1.00 ± 1.11 % | Success rate 97.15 ± 16.64 % | Avg time 15.67 ± 4.35 s \n",
      "Th: 5.5s N: 8 | 2000 episodes: Crash rate 1.15 ± 0.31 % | Success rate 95.60 ± 20.51 % | Avg time 16.55 ± 4.70 s \n",
      "Th: 5.5s N: 9 | 2000 episodes: Crash rate 0.80 ± 0.18 % | Success rate 94.70 ± 22.41 % | Avg time 17.58 ± 4.99 s \n",
      "Th: 5.5s N:10 | 2000 episodes: Crash rate 0.80 ± 0.20 % | Success rate 91.60 ± 27.75 % | Avg time 18.45 ± 5.28 s \n",
      "Th: 6.0s N: 0 | 2000 episodes: Crash rate 35.55 ± 3.01 % | Success rate 64.45 ± 47.88 % | Avg time 8.37 ± 1.22 s \n",
      "Th: 6.0s N: 1 | 2000 episodes: Crash rate 27.15 ± 1.91 % | Success rate 72.85 ± 44.48 % | Avg time 9.70 ± 1.31 s \n",
      "Th: 6.0s N: 2 | 2000 episodes: Crash rate 10.25 ± 1.32 % | Success rate 89.70 ± 30.40 % | Avg time 10.98 ± 2.06 s \n",
      "Th: 6.0s N: 3 | 2000 episodes: Crash rate 2.40 ± 0.43 % | Success rate 97.55 ± 15.46 % | Avg time 12.01 ± 2.39 s \n",
      "Th: 6.0s N: 4 | 2000 episodes: Crash rate 1.00 ± 0.34 % | Success rate 98.80 ± 10.89 % | Avg time 12.93 ± 2.98 s \n",
      "Th: 6.0s N: 5 | 2000 episodes: Crash rate 0.80 ± 0.28 % | Success rate 98.85 ± 10.66 % | Avg time 13.81 ± 3.40 s \n",
      "Th: 6.0s N: 6 | 2000 episodes: Crash rate 1.00 ± 0.39 % | Success rate 98.00 ± 14.00 % | Avg time 14.76 ± 3.95 s \n",
      "Th: 6.0s N: 7 | 2000 episodes: Crash rate 0.75 ± 0.27 % | Success rate 97.55 ± 15.46 % | Avg time 15.56 ± 4.22 s \n",
      "Th: 6.0s N: 8 | 2000 episodes: Crash rate 0.40 ± 0.20 % | Success rate 96.20 ± 19.12 % | Avg time 16.61 ± 4.80 s \n",
      "Th: 6.0s N: 9 | 2000 episodes: Crash rate 0.75 ± 0.27 % | Success rate 94.10 ± 23.57 % | Avg time 17.47 ± 4.92 s \n",
      "Th: 6.0s N:10 | 2000 episodes: Crash rate 0.70 ± 0.22 % | Success rate 91.65 ± 27.67 % | Avg time 18.52 ± 5.38 s \n",
      "Th: 6.5s N: 0 | 2000 episodes: Crash rate 35.70 ± 2.69 % | Success rate 64.30 ± 47.92 % | Avg time 8.37 ± 1.23 s \n",
      "Th: 6.5s N: 1 | 2000 episodes: Crash rate 24.15 ± 2.22 % | Success rate 75.85 ± 42.81 % | Avg time 9.63 ± 1.25 s \n",
      "Th: 6.5s N: 2 | 2000 episodes: Crash rate 9.30 ± 1.38 % | Success rate 90.70 ± 29.05 % | Avg time 11.07 ± 2.06 s \n",
      "Th: 6.5s N: 3 | 2000 episodes: Crash rate 2.85 ± 0.52 % | Success rate 97.15 ± 16.64 % | Avg time 12.01 ± 2.49 s \n",
      "Th: 6.5s N: 4 | 2000 episodes: Crash rate 0.85 ± 0.22 % | Success rate 98.90 ± 10.43 % | Avg time 12.83 ± 2.89 s \n",
      "Th: 6.5s N: 5 | 2000 episodes: Crash rate 0.80 ± 0.21 % | Success rate 98.45 ± 12.36 % | Avg time 13.92 ± 3.64 s \n",
      "Th: 6.5s N: 6 | 2000 episodes: Crash rate 0.50 ± 0.32 % | Success rate 98.55 ± 11.96 % | Avg time 14.63 ± 3.85 s \n",
      "Th: 6.5s N: 7 | 2000 episodes: Crash rate 0.80 ± 0.27 % | Success rate 97.65 ± 15.15 % | Avg time 15.51 ± 4.17 s \n",
      "Th: 6.5s N: 8 | 2000 episodes: Crash rate 0.50 ± 0.18 % | Success rate 95.85 ± 19.95 % | Avg time 16.67 ± 4.79 s \n",
      "Th: 6.5s N: 9 | 2000 episodes: Crash rate 0.60 ± 0.20 % | Success rate 93.95 ± 23.85 % | Avg time 17.55 ± 5.04 s \n",
      "Th: 6.5s N:10 | 2000 episodes: Crash rate 0.80 ± 0.32 % | Success rate 91.55 ± 27.82 % | Avg time 18.52 ± 5.35 s \n",
      "Th: 7.0s N: 0 | 2000 episodes: Crash rate 37.80 ± 2.41 % | Success rate 62.20 ± 48.50 % | Avg time 8.32 ± 1.23 s \n",
      "Th: 7.0s N: 1 | 2000 episodes: Crash rate 27.30 ± 1.75 % | Success rate 72.70 ± 44.56 % | Avg time 9.66 ± 1.35 s \n",
      "Th: 7.0s N: 2 | 2000 episodes: Crash rate 9.40 ± 1.13 % | Success rate 90.55 ± 29.26 % | Avg time 11.01 ± 2.00 s \n",
      "Th: 7.0s N: 3 | 2000 episodes: Crash rate 2.75 ± 0.58 % | Success rate 97.25 ± 16.36 % | Avg time 12.10 ± 2.52 s \n",
      "Th: 7.0s N: 4 | 2000 episodes: Crash rate 1.45 ± 0.92 % | Success rate 98.35 ± 12.74 % | Avg time 12.92 ± 2.95 s \n",
      "Th: 7.0s N: 5 | 2000 episodes: Crash rate 0.70 ± 0.26 % | Success rate 99.10 ± 9.45 % | Avg time 13.88 ± 3.53 s \n",
      "Th: 7.0s N: 6 | 2000 episodes: Crash rate 0.75 ± 0.44 % | Success rate 98.00 ± 14.00 % | Avg time 14.93 ± 4.03 s \n",
      "Th: 7.0s N: 7 | 2000 episodes: Crash rate 0.60 ± 0.17 % | Success rate 97.15 ± 16.64 % | Avg time 15.82 ± 4.43 s \n",
      "Th: 7.0s N: 8 | 2000 episodes: Crash rate 0.65 ± 0.24 % | Success rate 96.15 ± 19.24 % | Avg time 16.74 ± 4.79 s \n",
      "Th: 7.0s N: 9 | 2000 episodes: Crash rate 0.55 ± 0.29 % | Success rate 94.35 ± 23.09 % | Avg time 17.52 ± 5.00 s \n",
      "Th: 7.0s N:10 | 2000 episodes: Crash rate 0.80 ± 0.32 % | Success rate 91.25 ± 28.26 % | Avg time 18.40 ± 5.26 s \n",
      "Th: 7.5s N: 0 | 2000 episodes: Crash rate 35.20 ± 3.54 % | Success rate 64.80 ± 47.77 % | Avg time 8.37 ± 1.23 s \n"
     ]
    },
    {
     "name": "stdout",
     "output_type": "stream",
     "text": [
      "Th: 7.5s N: 1 | 2000 episodes: Crash rate 25.75 ± 2.00 % | Success rate 74.25 ± 43.74 % | Avg time 9.72 ± 1.31 s \n",
      "Th: 7.5s N: 2 | 2000 episodes: Crash rate 10.60 ± 1.88 % | Success rate 89.40 ± 30.79 % | Avg time 11.06 ± 2.06 s \n",
      "Th: 7.5s N: 3 | 2000 episodes: Crash rate 2.75 ± 0.53 % | Success rate 97.25 ± 16.36 % | Avg time 12.00 ± 2.49 s \n",
      "Th: 7.5s N: 4 | 2000 episodes: Crash rate 1.05 ± 0.26 % | Success rate 98.85 ± 10.66 % | Avg time 12.99 ± 3.05 s \n",
      "Th: 7.5s N: 5 | 2000 episodes: Crash rate 0.75 ± 0.26 % | Success rate 98.90 ± 10.43 % | Avg time 13.72 ± 3.33 s \n",
      "Th: 7.5s N: 6 | 2000 episodes: Crash rate 0.50 ± 0.14 % | Success rate 98.45 ± 12.36 % | Avg time 14.70 ± 3.97 s \n",
      "Th: 7.5s N: 7 | 2000 episodes: Crash rate 0.75 ± 0.21 % | Success rate 97.50 ± 15.62 % | Avg time 15.75 ± 4.38 s \n",
      "Th: 7.5s N: 8 | 2000 episodes: Crash rate 0.60 ± 0.57 % | Success rate 96.10 ± 19.36 % | Avg time 16.49 ± 4.54 s \n",
      "Th: 7.5s N: 9 | 2000 episodes: Crash rate 0.55 ± 0.19 % | Success rate 93.15 ± 25.27 % | Avg time 17.58 ± 5.18 s \n",
      "Th: 7.5s N:10 | 2000 episodes: Crash rate 0.55 ± 0.15 % | Success rate 92.85 ± 25.77 % | Avg time 18.58 ± 5.28 s \n",
      "Th: 8.0s N: 0 | 2000 episodes: Crash rate 34.50 ± 3.36 % | Success rate 65.50 ± 47.55 % | Avg time 8.38 ± 1.22 s \n",
      "Th: 8.0s N: 1 | 2000 episodes: Crash rate 25.05 ± 1.84 % | Success rate 74.95 ± 43.34 % | Avg time 9.76 ± 1.37 s \n",
      "Th: 8.0s N: 2 | 2000 episodes: Crash rate 10.15 ± 1.54 % | Success rate 89.85 ± 30.21 % | Avg time 11.08 ± 2.14 s \n",
      "Th: 8.0s N: 3 | 2000 episodes: Crash rate 2.45 ± 0.77 % | Success rate 97.45 ± 15.77 % | Avg time 12.21 ± 2.70 s \n",
      "Th: 8.0s N: 4 | 2000 episodes: Crash rate 0.50 ± 0.17 % | Success rate 99.35 ± 8.04 % | Avg time 12.95 ± 3.02 s \n",
      "Th: 8.0s N: 5 | 2000 episodes: Crash rate 0.50 ± 0.15 % | Success rate 98.90 ± 10.43 % | Avg time 13.73 ± 3.40 s \n",
      "Th: 8.0s N: 6 | 2000 episodes: Crash rate 0.60 ± 0.19 % | Success rate 98.25 ± 13.12 % | Avg time 14.81 ± 3.97 s \n",
      "Th: 8.0s N: 7 | 2000 episodes: Crash rate 0.50 ± 0.21 % | Success rate 97.35 ± 16.07 % | Avg time 15.74 ± 4.40 s \n",
      "Th: 8.0s N: 8 | 2000 episodes: Crash rate 0.60 ± 0.21 % | Success rate 96.80 ± 17.60 % | Avg time 16.65 ± 4.66 s \n",
      "Th: 8.0s N: 9 | 2000 episodes: Crash rate 0.50 ± 0.20 % | Success rate 93.75 ± 24.21 % | Avg time 17.84 ± 5.23 s \n",
      "Th: 8.0s N:10 | 2000 episodes: Crash rate 0.55 ± 0.29 % | Success rate 91.80 ± 27.44 % | Avg time 18.46 ± 5.25 s \n",
      "Th: 8.5s N: 0 | 2000 episodes: Crash rate 34.90 ± 2.21 % | Success rate 65.10 ± 47.68 % | Avg time 8.39 ± 1.23 s \n",
      "Th: 8.5s N: 1 | 2000 episodes: Crash rate 27.90 ± 1.65 % | Success rate 72.10 ± 44.86 % | Avg time 9.73 ± 1.39 s \n",
      "Th: 8.5s N: 2 | 2000 episodes: Crash rate 9.10 ± 1.50 % | Success rate 90.85 ± 28.84 % | Avg time 11.11 ± 2.09 s \n",
      "Th: 8.5s N: 3 | 2000 episodes: Crash rate 2.75 ± 0.66 % | Success rate 97.20 ± 16.50 % | Avg time 12.06 ± 2.54 s \n",
      "Th: 8.5s N: 4 | 2000 episodes: Crash rate 0.80 ± 0.46 % | Success rate 98.95 ± 10.20 % | Avg time 13.08 ± 3.23 s \n",
      "Th: 8.5s N: 5 | 2000 episodes: Crash rate 0.15 ± 0.12 % | Success rate 99.50 ± 7.06 % | Avg time 13.79 ± 3.35 s \n",
      "Th: 8.5s N: 6 | 2000 episodes: Crash rate 0.55 ± 0.19 % | Success rate 98.25 ± 13.12 % | Avg time 14.76 ± 3.93 s \n",
      "Th: 8.5s N: 7 | 2000 episodes: Crash rate 0.40 ± 0.17 % | Success rate 97.75 ± 14.83 % | Avg time 15.67 ± 4.33 s \n",
      "Th: 8.5s N: 8 | 2000 episodes: Crash rate 0.60 ± 0.26 % | Success rate 95.45 ± 20.85 % | Avg time 16.75 ± 4.85 s \n",
      "Th: 8.5s N: 9 | 2000 episodes: Crash rate 0.70 ± 0.29 % | Success rate 93.40 ± 24.83 % | Avg time 17.65 ± 5.11 s \n",
      "Th: 8.5s N:10 | 2000 episodes: Crash rate 0.35 ± 0.12 % | Success rate 91.90 ± 27.29 % | Avg time 18.53 ± 5.28 s \n",
      "Th: 9.0s N: 0 | 2000 episodes: Crash rate 36.95 ± 2.13 % | Success rate 63.05 ± 48.28 % | Avg time 8.35 ± 1.22 s \n",
      "Th: 9.0s N: 1 | 2000 episodes: Crash rate 26.15 ± 1.91 % | Success rate 73.85 ± 43.96 % | Avg time 9.74 ± 1.34 s \n",
      "Th: 9.0s N: 2 | 2000 episodes: Crash rate 9.30 ± 1.45 % | Success rate 90.70 ± 29.05 % | Avg time 11.06 ± 2.02 s \n",
      "Th: 9.0s N: 3 | 2000 episodes: Crash rate 3.55 ± 0.60 % | Success rate 96.40 ± 18.63 % | Avg time 12.09 ± 2.59 s \n",
      "Th: 9.0s N: 4 | 2000 episodes: Crash rate 0.65 ± 0.23 % | Success rate 98.95 ± 10.20 % | Avg time 13.01 ± 3.13 s \n",
      "Th: 9.0s N: 5 | 2000 episodes: Crash rate 0.20 ± 0.27 % | Success rate 99.45 ± 7.40 % | Avg time 13.86 ± 3.43 s \n",
      "Th: 9.0s N: 6 | 2000 episodes: Crash rate 0.35 ± 0.39 % | Success rate 98.40 ± 12.55 % | Avg time 15.02 ± 4.14 s \n",
      "Th: 9.0s N: 7 | 2000 episodes: Crash rate 0.35 ± 0.16 % | Success rate 96.85 ± 17.47 % | Avg time 15.79 ± 4.52 s \n",
      "Th: 9.0s N: 8 | 2000 episodes: Crash rate 0.60 ± 0.19 % | Success rate 95.55 ± 20.63 % | Avg time 16.64 ± 4.79 s \n",
      "Th: 9.0s N: 9 | 2000 episodes: Crash rate 0.55 ± 0.53 % | Success rate 93.85 ± 24.03 % | Avg time 17.62 ± 5.12 s \n",
      "Th: 9.0s N:10 | 2000 episodes: Crash rate 0.55 ± 0.18 % | Success rate 91.95 ± 27.21 % | Avg time 18.53 ± 5.31 s \n",
      "Th: 9.5s N: 0 | 2000 episodes: Crash rate 37.45 ± 2.63 % | Success rate 62.55 ± 48.41 % | Avg time 8.32 ± 1.24 s \n",
      "Th: 9.5s N: 1 | 2000 episodes: Crash rate 26.45 ± 2.25 % | Success rate 73.55 ± 44.12 % | Avg time 9.70 ± 1.36 s \n",
      "Th: 9.5s N: 2 | 2000 episodes: Crash rate 9.40 ± 0.92 % | Success rate 90.60 ± 29.19 % | Avg time 11.14 ± 2.10 s \n",
      "Th: 9.5s N: 3 | 2000 episodes: Crash rate 2.65 ± 0.43 % | Success rate 97.30 ± 16.21 % | Avg time 12.07 ± 2.67 s \n",
      "Th: 9.5s N: 4 | 2000 episodes: Crash rate 0.65 ± 0.23 % | Success rate 99.20 ± 8.91 % | Avg time 13.05 ± 3.10 s \n",
      "Th: 9.5s N: 5 | 2000 episodes: Crash rate 0.55 ± 0.18 % | Success rate 98.75 ± 11.11 % | Avg time 13.97 ± 3.57 s \n",
      "Th: 9.5s N: 6 | 2000 episodes: Crash rate 0.45 ± 0.34 % | Success rate 98.35 ± 12.74 % | Avg time 14.84 ± 3.98 s \n",
      "Th: 9.5s N: 7 | 2000 episodes: Crash rate 0.55 ± 0.14 % | Success rate 96.75 ± 17.74 % | Avg time 15.78 ± 4.45 s \n",
      "Th: 9.5s N: 8 | 2000 episodes: Crash rate 0.70 ± 0.27 % | Success rate 95.15 ± 21.49 % | Avg time 16.59 ± 4.72 s \n",
      "Th: 9.5s N: 9 | 2000 episodes: Crash rate 0.35 ± 0.13 % | Success rate 93.95 ± 23.85 % | Avg time 17.61 ± 5.16 s \n",
      "Th: 9.5s N:10 | 2000 episodes: Crash rate 0.45 ± 0.81 % | Success rate 90.55 ± 29.26 % | Avg time 18.68 ± 5.48 s \n",
      "Th: 10.0s N: 0 | 2000 episodes: Crash rate 35.10 ± 3.84 % | Success rate 64.90 ± 47.74 % | Avg time 8.39 ± 1.22 s \n",
      "Th: 10.0s N: 1 | 2000 episodes: Crash rate 24.35 ± 2.59 % | Success rate 75.65 ± 42.93 % | Avg time 9.76 ± 1.34 s \n",
      "Th: 10.0s N: 2 | 2000 episodes: Crash rate 9.45 ± 1.02 % | Success rate 90.55 ± 29.26 % | Avg time 11.00 ± 2.00 s \n",
      "Th: 10.0s N: 3 | 2000 episodes: Crash rate 2.20 ± 0.48 % | Success rate 97.65 ± 15.15 % | Avg time 12.08 ± 2.63 s \n",
      "Th: 10.0s N: 4 | 2000 episodes: Crash rate 0.45 ± 0.14 % | Success rate 99.35 ± 8.04 % | Avg time 12.90 ± 3.08 s \n",
      "Th: 10.0s N: 5 | 2000 episodes: Crash rate 0.20 ± 0.13 % | Success rate 99.25 ± 8.63 % | Avg time 13.91 ± 3.54 s \n",
      "Th: 10.0s N: 6 | 2000 episodes: Crash rate 0.15 ± 0.17 % | Success rate 98.20 ± 13.30 % | Avg time 14.81 ± 4.00 s \n",
      "Th: 10.0s N: 7 | 2000 episodes: Crash rate 0.75 ± 0.25 % | Success rate 97.60 ± 15.31 % | Avg time 15.55 ± 4.23 s \n",
      "Th: 10.0s N: 8 | 2000 episodes: Crash rate 0.55 ± 0.16 % | Success rate 95.95 ± 19.72 % | Avg time 16.63 ± 4.76 s \n",
      "Th: 10.0s N: 9 | 2000 episodes: Crash rate 0.25 ± 0.11 % | Success rate 94.00 ± 23.75 % | Avg time 17.83 ± 5.25 s \n",
      "Th: 10.0s N:10 | 2000 episodes: Crash rate 0.10 ± 0.04 % | Success rate 91.95 ± 27.21 % | Avg time 18.58 ± 5.39 s \n"
     ]
    }
   ],
   "source": [
    "for th in 1.:0.5:10.\n",
    "    for N in 0:10\n",
    "        evaluate_params(th, N, env, ego_model, config)\n",
    "    end\n",
    "end"
   ]
  },
  {
   "cell_type": "code",
   "execution_count": null,
   "metadata": {
    "collapsed": true
   },
   "outputs": [],
   "source": []
  },
  {
   "cell_type": "code",
   "execution_count": null,
   "metadata": {
    "collapsed": true
   },
   "outputs": [],
   "source": []
  },
  {
   "cell_type": "code",
   "execution_count": null,
   "metadata": {
    "collapsed": true
   },
   "outputs": [],
   "source": []
  },
  {
   "cell_type": "code",
   "execution_count": 12,
   "metadata": {},
   "outputs": [
    {
     "data": {
      "text/plain": [
       "EvalConfig(0.1, MersenneTwister(UInt32[0x00000003], Base.dSFMT.DSFMT_state(Int32[-1359582567, 1073454075, 1934390716, 1073583786, -114685834, 1073112842, -1913218479, 1073122729, -73577195, 1073266439  …  1226759590, 1072980451, -1366384707, 1073012992, 1661148031, 2121090155, 141576524, -658637225, 382, 0]), [0.0, 0.0, 0.0, 0.0, 0.0, 0.0, 0.0, 0.0, 0.0, 0.0  …  0.0, 0.0, 0.0, 0.0, 0.0, 0.0, 0.0, 0.0, 0.0, 0.0], 382), 1000, 200, (EgoCollisionCallback(), TerminalCallback()))"
      ]
     },
     "execution_count": 12,
     "metadata": {},
     "output_type": "execute_result"
    }
   ],
   "source": [
    "# config is immutable\n",
    "config = EvalConfig(sim_dt = SIM_DT, n_episodes = N_EPISODES, time_out = TIME_OUT) # use default"
   ]
  },
  {
   "cell_type": "code",
   "execution_count": 13,
   "metadata": {},
   "outputs": [
    {
     "data": {
      "text/plain": [
       "AutoViz.FitToContentCamera(0.0)"
      ]
     },
     "execution_count": 13,
     "metadata": {},
     "output_type": "execute_result"
    }
   ],
   "source": [
    "cam = FitToContentCamera(0.0) "
   ]
  },
  {
   "cell_type": "markdown",
   "metadata": {},
   "source": [
    "### Configure the Environment"
   ]
  },
  {
   "cell_type": "code",
   "execution_count": 14,
   "metadata": {},
   "outputs": [
    {
     "data": {
      "text/plain": [
       "CrosswalkEnv(Roadway, AutomotiveDrivingModels.Lane(LaneTag(2, 1), AutomotiveDrivingModels.CurvePt[CurvePt({25.000, -10.000, 1.571}, 0.000, 0.000, NaN), CurvePt({25.000, 10.000, 1.571}, 20.000, 0.000, NaN)], 6.0, AutomotiveDrivingModels.SpeedLimit(-Inf, Inf), AutomotiveDrivingModels.LaneBoundary(:unknown, :unknown), AutomotiveDrivingModels.LaneBoundary(:unknown, :unknown), AutomotiveDrivingModels.LaneConnection[], AutomotiveDrivingModels.LaneConnection[]), AutomotiveDrivingModels.ConvexPolygon[ConvexPolygon: len 4 (max 4 pts)\n",
       "\tVecE2(15.000, -1.500)\n",
       "\tVecE2(15.000, -4.500)\n",
       "\tVecE2(22.000, -4.500)\n",
       "\tVecE2(22.000, -1.500)\n",
       "], EnvParams(2, 50.0, 3.0, 20.0, 6.0, 5.0, 37.0, 8.0, 0.5, 2.0, 10.0))"
      ]
     },
     "execution_count": 14,
     "metadata": {},
     "output_type": "execute_result"
    }
   ],
   "source": [
    "params = EnvParams(ped_rate = 0.5)\n",
    "env = CrosswalkEnv(params)"
   ]
  },
  {
   "cell_type": "code",
   "execution_count": 15,
   "metadata": {},
   "outputs": [
    {
     "data": {
      "text/plain": [
       "SimpleSensor(0.1, 0.1)"
      ]
     },
     "execution_count": 15,
     "metadata": {},
     "output_type": "execute_result"
    }
   ],
   "source": [
    "sensor = SimpleSensor(0.1, 0.1)"
   ]
  },
  {
   "cell_type": "markdown",
   "metadata": {},
   "source": [
    "## Test with baseline policy"
   ]
  },
  {
   "cell_type": "code",
   "execution_count": 32,
   "metadata": {},
   "outputs": [],
   "source": [
    "policy = WaitAndGo(env = env, Δt = config.sim_dt, N0 = 30, threshold = 8.5, dist_delta = -0.5, verbose=false)\n",
    "# for rendering\n",
    "overlay = WaitAndGoOverlay(config.sim_dt, 0., policy)\n",
    "updater = WaitAndGoUpdater(policy);\n",
    "models = Dict{Int, DriverModel}()\n",
    "ego = initial_ego(env, config.rng)\n",
    "models[1] = CrosswalkDriver(1, 0, env, 0., Vehicle[], Vehicle[], ego, sensor, policy, updater);"
   ]
  },
  {
   "cell_type": "code",
   "execution_count": 33,
   "metadata": {},
   "outputs": [],
   "source": [
    "scene = Scene()\n",
    "push!(scene, ego);"
   ]
  },
  {
   "cell_type": "code",
   "execution_count": 34,
   "metadata": {},
   "outputs": [],
   "source": [
    "models = Dict{Int, DriverModel}()\n",
    "# Constant speed model\n",
    "models[1] = CrosswalkDriver(1, 0, env, 0., Vehicle[], Vehicle[], ego, sensor, policy, updater); \n",
    "# models[1] = IntelligentDriverModel(v_des = 8.)\n",
    "# models[2] = ConstantPedestrian(0.1, 0.5, 2.0, config.sim_dt)"
   ]
  },
  {
   "cell_type": "code",
   "execution_count": 46,
   "metadata": {},
   "outputs": [
    {
     "name": "stdout",
     "output_type": "stream",
     "text": [
      "EPISODE 1\n",
      "EPISODE 2\n",
      "EPISODE 3\n",
      "EPISODE 4\n",
      "EPISODE 5\n",
      "EPISODE 6\n",
      "EPISODE 7\n",
      "EPISODE 8\n",
      "EPISODE 9\n",
      "EPISODE 10\n",
      "EPISODE 11\n",
      "EPISODE 12\n",
      "EPISODE 13\n",
      "EPISODE 14\n",
      "EPISODE 15\n",
      "EPISODE 16\n",
      "EPISODE 17\n",
      "EPISODE 18\n",
      "EPISODE 19\n",
      "EPISODE 20\n",
      "EPISODE 21\n",
      "EPISODE 22\n",
      "EPISODE 23\n",
      "EPISODE 24\n",
      "EPISODE 25\n",
      "EPISODE 26\n",
      "EPISODE 27\n",
      "EPISODE 28\n",
      "EPISODE 29\n",
      "EPISODE 30\n",
      "EPISODE 31\n",
      "EPISODE 32\n",
      "EPISODE 33\n",
      "EPISODE 34\n",
      "EPISODE 35\n",
      "EPISODE 36\n",
      "EPISODE 37\n",
      "EPISODE 38\n",
      "EPISODE 39\n",
      "EPISODE 40\n",
      "EPISODE 41\n",
      "EPISODE 42\n",
      "EPISODE 43\n",
      "EPISODE 44\n",
      "EPISODE 45\n",
      "EPISODE 46\n",
      "EPISODE 47\n",
      "EPISODE 48\n",
      "EPISODE 49\n",
      "EPISODE 50\n",
      "EPISODE 51\n",
      "EPISODE 52\n",
      "EPISODE 53\n",
      "EPISODE 54\n",
      "EPISODE 55\n",
      "EPISODE 56\n",
      "EPISODE 57\n",
      "EPISODE 58\n",
      "EPISODE 59\n",
      "EPISODE 60\n",
      "EPISODE 61\n",
      "EPISODE 62\n",
      "EPISODE 63\n",
      "EPISODE 64\n",
      "EPISODE 65\n",
      "EPISODE 66\n",
      "EPISODE 67\n",
      "EPISODE 68\n",
      "EPISODE 69\n",
      "EPISODE 70\n",
      "EPISODE 71\n",
      "EPISODE 72\n",
      "EPISODE 73\n",
      "EPISODE 74\n",
      "EPISODE 75\n",
      "EPISODE 76\n",
      "EPISODE 77\n",
      "EPISODE 78\n",
      "EPISODE 79\n",
      "EPISODE 80\n",
      "EPISODE 81\n",
      "EPISODE 82\n",
      "EPISODE 83\n",
      "EPISODE 84\n",
      "EPISODE 85\n",
      "EPISODE 86\n",
      "EPISODE 87\n",
      "EPISODE 88\n",
      "EPISODE 89\n",
      "EPISODE 90\n",
      "EPISODE 91\n",
      "EPISODE 92\n",
      "EPISODE 93\n",
      "EPISODE 94\n",
      "EPISODE 95\n",
      "EPISODE 96\n",
      "EPISODE 97\n",
      "EPISODE 98\n",
      "EPISODE 99\n",
      "Episode 100 crash\n"
     ]
    }
   ],
   "source": [
    "nticks = config.time_out\n",
    "rec = SceneRecord(nticks+1, config.sim_dt)\n",
    "# execute the simulation\n",
    "for i = 1:100    \n",
    "    ego = initial_ego(env, config.rng)\n",
    "    reset_model!(models[1], ego)\n",
    "    overlay.speed = ego.state.v\n",
    "#     models[1] = CrosswalkDriver(1, 0, env, 0., Vehicle[], Vehicle[], ego, sensor, policy, updater) \n",
    "    scene = Scene()\n",
    "    push!(scene, ego);\n",
    "    simulate!(rec, scene, env, models, nticks, config.rng, config.callbacks)\n",
    "    if is_crash(rec[0])\n",
    "        println(\"Episode $i crash\")\n",
    "        break \n",
    "#     elseif nframes(rec) == config.time_out + 1    \n",
    "#         println(\"Episode $i time out\")\n",
    "#         break\n",
    "#     elseif is_terminal(rec[0], env)\n",
    "#         println(\"Episode $i success in $(nframes(rec))\")\n",
    "#         break\n",
    "    end\n",
    "    println(\"EPISODE $i\")\n",
    "end"
   ]
  },
  {
   "cell_type": "code",
   "execution_count": 47,
   "metadata": {},
   "outputs": [
    {
     "data": {
      "text/plain": [
       "\"gif\""
      ]
     },
     "execution_count": 47,
     "metadata": {},
     "output_type": "execute_result"
    }
   ],
   "source": [
    "Reel.set_output_type(\"gif\")"
   ]
  },
  {
   "cell_type": "code",
   "execution_count": 48,
   "metadata": {
    "scrolled": false
   },
   "outputs": [
    {
     "data": {
      "text/html": [
       "<img src=\"files/reel-15475205666039324744.gif?11349152512042728351\" />"
      ],
      "text/plain": [
       "Reel.Frames{MIME{Symbol(\"image/png\")}}(\"C:\\\\Users\\\\Maxime\\\\AppData\\\\Local\\\\Temp\\\\jl_992C.tmp\", 0x0000000000000064, 10.0, nothing)"
      ]
     },
     "execution_count": 48,
     "metadata": {},
     "output_type": "execute_result"
    }
   ],
   "source": [
    "reset_policy!(overlay.policy, ego)\n",
    "duration, fps, render_rec = animate_record(rec, overlay)\n",
    "speed_factor = 1\n",
    "film = roll(render_rec, fps = fps*speed_factor, duration = duration/speed_factor)"
   ]
  },
  {
   "cell_type": "markdown",
   "metadata": {},
   "source": [
    "## Evaluate and tune the baseline\n",
    "\n",
    "The parameters we wish to tune are the TTC threshold and the number of redundancy"
   ]
  },
  {
   "cell_type": "code",
   "execution_count": 28,
   "metadata": {},
   "outputs": [
    {
     "data": {
      "text/plain": [
       "evaluate (generic function with 1 method)"
      ]
     },
     "execution_count": 28,
     "metadata": {},
     "output_type": "execute_result"
    }
   ],
   "source": [
    "function evaluate(th::Float64, N::Int64)\n",
    "    # initialize policy to evaluate\n",
    "    env.params.ped_rate = 0.2\n",
    "    policy = WaitAndGo(env = env, initial_state = ego, Δt = config.sim_dt, N0 = N, threshold = th)\n",
    "    updater = WaitAndGoUpdater(policy)\n",
    "\n",
    "    models = Dict{Int, DriverModel}()\n",
    "    # Constant speed model\n",
    "    models[1] = CrosswalkDriver(1, 0, env, 0., Vehicle[], Vehicle[], ego, sensor, policy, updater)\n",
    "    #evaluation \n",
    "    nticks = config.time_out\n",
    "    rec = SceneRecord(nticks+1, config.sim_dt)\n",
    "\n",
    "    # intiialize containers and callbacks\n",
    "    time_outs = 0\n",
    "    crashes = 0\n",
    "    successes = 0\n",
    "    steps = zeros(config.n_episodes)\n",
    "\n",
    "\n",
    "    for ep = 1:config.n_episodes\n",
    "\n",
    "        # initialize scene\n",
    "        rec = SceneRecord(nticks+1, config.sim_dt)\n",
    "        ego = initial_ego(env, config.rng)\n",
    "        reset_model!(models[1], ego)\n",
    "        scene = Scene()\n",
    "        push!(scene, ego);\n",
    "\n",
    "        simulate!(rec, scene, env, models, nticks, config.rng, config.callbacks)\n",
    "\n",
    "        # analyze\n",
    "        if rec.nframes == config.time_out + 1\n",
    "            time_outs += 1\n",
    "        elseif is_crash(rec[0])\n",
    "            crashes += 1\n",
    "        elseif is_terminal(rec[0], env)\n",
    "            successes += 1\n",
    "        end\n",
    "\n",
    "        steps[ep] = nframes(rec)       \n",
    "\n",
    "    end\n",
    "    try\n",
    "        @assert time_outs + crashes + successes == config.n_episodes\n",
    "    catch \n",
    "        println(time_outs, \" \", crashes, \" \", successes, \" \", time_outs + crashes + successes)\n",
    "    end\n",
    "    return time_outs,crashes, successes,mean(steps)\n",
    "end"
   ]
  },
  {
   "cell_type": "code",
   "execution_count": 29,
   "metadata": {},
   "outputs": [
    {
     "name": "stderr",
     "output_type": "stream",
     "text": [
      "WARNING: using ProgressMeter.update! in module Main conflicts with an existing identifier.\n"
     ]
    }
   ],
   "source": [
    "using ProgressMeter"
   ]
  },
  {
   "cell_type": "code",
   "execution_count": 49,
   "metadata": {},
   "outputs": [
    {
     "name": "stderr",
     "output_type": "stream",
     "text": [
      "Progress: 100%|█████████████████████████████████████████| Time: 1:16:42\n"
     ]
    }
   ],
   "source": [
    "th_vec = 0.:0.5:12\n",
    "N_vec = 0:1:50\n",
    "crashes = zeros(length(th_vec), length(N_vec))\n",
    "successes = zeros(length(th_vec), length(N_vec))\n",
    "time_outs = zeros(length(th_vec), length(N_vec))\n",
    "steps = zeros(length(th_vec), length(N_vec))\n",
    "best_succ, th_best, N_best = 0. , 0., 0.\n",
    "@showprogress for (i,th) in enumerate(th_vec)\n",
    "    for (j,N) in enumerate(N_vec)\n",
    "        time_outs[i,j], crashes[i,j], successes[i,j], steps[i,j] = evaluate(th, N)\n",
    "        if successes[i,j] > best_succ\n",
    "            best_succ, th_best, N_best = successes[i,j], th, N\n",
    "        end\n",
    "        if crashes[i,j] == 0.\n",
    "            println(\"No crashes for N = $N ; threshold = $th ; successes = $(successes[i,j]), time outs = $(time_outs[i,j])\")\n",
    "        end\n",
    "    end\n",
    "end"
   ]
  },
  {
   "cell_type": "code",
   "execution_count": 51,
   "metadata": {},
   "outputs": [
    {
     "name": "stdout",
     "output_type": "stream",
     "text": [
      "Safest for redundancy of 47 with TTC of 10.5 s ; presented 4.0 crashes\n"
     ]
    }
   ],
   "source": [
    "safest_ind = minimum(find(x->x==minimum(crashes), crashes))\n",
    "th_ind, N_ind = ind2sub((length(th_vec), length(N_vec)), safest_ind)\n",
    "println(\"Safest for redundancy of $(N_vec[N_ind]) with TTC of $(th_vec[th_ind]) s ; presented $(minimum(crashes)) crashes\")"
   ]
  },
  {
   "cell_type": "code",
   "execution_count": 52,
   "metadata": {},
   "outputs": [
    {
     "name": "stderr",
     "output_type": "stream",
     "text": [
      "\u001b[1m\u001b[36mINFO: \u001b[39m\u001b[22m\u001b[36mPrecompiling module PyPlot.\n",
      "\u001b[39m\u001b[1m\u001b[36mINFO: \u001b[39m\u001b[22m\u001b[36mInstalling matplotlib via the Conda matplotlib package...\n",
      "\u001b[39m"
     ]
    },
    {
     "name": "stdout",
     "output_type": "stream",
     "text": [
      "Fetching package metadata ...........\n",
      "Solving package specifications: .\n",
      "\n",
      "Package plan for installation in environment C:\\Users\\Maxime\\.julia\\v0.6\\Conda\\deps\\usr:\n",
      "\n",
      "The following NEW packages will be INSTALLED:\n",
      "\n",
      "    cycler:       0.10.0-py27_0    \n",
      "    matplotlib:   2.0.2-np113py27_0\n",
      "    pytz:         2017.2-py27_0    \n",
      "    subprocess32: 3.2.7-py27_0     \n",
      "    tk:           8.5.18-vc9_0      [vc9]\n",
      "\n",
      "tk-8.5.18-vc9_ 100% |###############################| Time: 0:00:00   2.89 MB/s\n",
      "pytz-2017.2-py 100% |###############################| Time: 0:00:00   2.14 MB/s\n",
      "subprocess32-3 100% |###############################| Time: 0:00:00   4.04 MB/s\n",
      "cycler-0.10.0- 100% |###############################| Time: 0:00:00   0.00  B/s\n",
      "matplotlib-2.0 100% |###############################| Time: 0:00:03   2.39 MB/s\n"
     ]
    },
    {
     "name": "stderr",
     "output_type": "stream",
     "text": [
      "WARNING: using PyPlot.polar in module Main conflicts with an existing identifier.\n"
     ]
    }
   ],
   "source": [
    "using PyPlot"
   ]
  },
  {
   "cell_type": "code",
   "execution_count": 59,
   "metadata": {},
   "outputs": [
    {
     "data": {
      "image/png": "[encoded data removed]",
      "text/plain": [
       "PyPlot.Figure(PyObject <matplotlib.figure.Figure object at 0x000000002DFD4EB8>)"
      ]
     },
     "metadata": {},
     "output_type": "display_data"
    },
    {
     "data": {
      "text/plain": [
       "1-element Array{Any,1}:\n",
       " PyObject <matplotlib.lines.Line2D object at 0x000000002E274A90>"
      ]
     },
     "execution_count": 59,
     "metadata": {},
     "output_type": "execute_result"
    }
   ],
   "source": [
    "plot(th_vec, crashes[:,47]/10)"
   ]
  },
  {
   "cell_type": "code",
   "execution_count": 29,
   "metadata": {},
   "outputs": [
    {
     "data": {
      "text/plain": [
       "73.0"
      ]
     },
     "execution_count": 29,
     "metadata": {},
     "output_type": "execute_result"
    }
   ],
   "source": [
    "best_succ"
   ]
  },
  {
   "cell_type": "code",
   "execution_count": 30,
   "metadata": {},
   "outputs": [
    {
     "data": {
      "text/plain": [
       "31-element Array{Float64,1}:\n",
       " 51.0\n",
       " 34.0\n",
       " 28.0\n",
       " 30.0\n",
       " 39.0\n",
       " 35.0\n",
       " 29.0\n",
       " 32.0\n",
       " 39.0\n",
       " 29.0\n",
       " 30.0\n",
       " 19.0\n",
       " 28.0\n",
       "  ⋮  \n",
       " 27.0\n",
       " 21.0\n",
       " 27.0\n",
       " 25.0\n",
       " 19.0\n",
       " 16.0\n",
       " 27.0\n",
       " 21.0\n",
       " 19.0\n",
       " 18.0\n",
       " 15.0\n",
       " 17.0"
      ]
     },
     "execution_count": 30,
     "metadata": {},
     "output_type": "execute_result"
    }
   ],
   "source": [
    "crashes[end, :]"
   ]
  },
  {
   "cell_type": "code",
   "execution_count": null,
   "metadata": {
    "collapsed": true
   },
   "outputs": [],
   "source": []
  }
 ],
 "metadata": {
  "anaconda-cloud": {},
  "kernelspec": {
   "display_name": "Julia 0.6.0",
   "language": "julia",
   "name": "julia-0.6"
  },
  "language_info": {
   "file_extension": ".jl",
   "mimetype": "application/julia",
   "name": "julia",
   "version": "0.6.0"
  }
 },
 "nbformat": 4,
 "nbformat_minor": 1
}
