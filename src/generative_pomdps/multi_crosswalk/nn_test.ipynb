{
 "cells": [
  {
   "cell_type": "markdown",
   "metadata": {},
   "source": [
    "# Test the neural network policy in the training environment"
   ]
  },
  {
   "cell_type": "code",
   "execution_count": 1,
   "metadata": {},
   "outputs": [
    {
     "name": "stderr",
     "output_type": "stream",
     "text": [
      "WARNING: Method definition info(Any"
     ]
    }
   ],
   "source": [
    "using POMDPs, StatsBase, POMDPToolbox, QMDP, DeepRL, AutomotiveDrivingModels, AutoViz, SARSOP, Images, PyCall, Reel, Parameters\n"
   ]
  },
  {
   "cell_type": "code",
   "execution_count": 2,
   "metadata": {},
   "outputs": [
    {
     "name": "stderr",
     "output_type": "stream",
     "text": [
      "...) in module Base at util.jl:532 overwritten in module Logging at C:\\Users\\Maxime\\.julia\\v0.6\\Logging\\src\\Logging.jl:115.\n",
      "WARNING: Method definition warn(Any...) in module Base at util.jl:585 overwritten in module Logging at C:\\Users\\Maxime\\.julia\\v0.6\\Logging\\src\\Logging.jl:115"
     ]
    }
   ],
   "source": [
    "include(\"occluded_crosswalk_env.jl\")\n",
    "include(\"helpers.jl\")\n",
    "include(\"pomdp_types.jl\")\n",
    "include(\"constant_pedestrian.jl\")\n",
    "include(\"generative_model.jl\")\n",
    "include(\"render_helpers.jl\")\n"
   ]
  },
  {
   "cell_type": "code",
   "execution_count": 3,
   "metadata": {},
   "outputs": [
    {
     "name": "stderr",
     "output_type": "stream",
     "text": [
      ".\n"
     ]
    },
    {
     "data": {
      "text/plain": [
       "OCPOMDP(CrosswalkEnv(Roadway, AutomotiveDrivingModels.Lane(LaneTag(2, 1), AutomotiveDrivingModels.CurvePt[CurvePt({25.000, -10.000, 1.571}, 0.000, 0.000, NaN), CurvePt({25.000, 10.000, 1.571}, 20.000, 0.000, NaN)], 6.0, AutomotiveDrivingModels.SpeedLimit(-Inf, Inf), AutomotiveDrivingModels.LaneBoundary(:unknown, :unknown), AutomotiveDrivingModels.LaneBoundary(:unknown, :unknown), AutomotiveDrivingModels.LaneConnection[], AutomotiveDrivingModels.LaneConnection[]), AutomotiveDrivingModels.ConvexPolygon[ConvexPolygon: len 4 (max 4 pts)\n",
       "\tVecE2(15.000, -1.500)\n",
       "\tVecE2(15.000, -4.500)\n",
       "\tVecE2(21.500, -4.500)\n",
       "\tVecE2(21.500, -1.500)\n",
       "], EnvParams(2, 50.0, 3.0, 20.0, 6.0, 5.0, 37.0, 8.0, 100, 0.5, 2.0, 10.0)), AutomotiveDrivingModels.LidarSensor([-1.50796, -1.44513, -1.3823, -1.31947, -1.25664, -1.19381, -1.13097, -1.06814, -1.00531, -0.942478  …  1.00531, 1.06814, 1.13097, 1.19381, 1.25664, 1.31947, 1.3823, 1.44513, 1.50796, 1.5708], [4.06439e-316, 4.06439e-316, 4.06439e-316, 4.06439e-316, 4.06439e-316, 4.06439e-316, 4.06439e-316, 4.06439e-316, 4.06439e-316, 4.06439e-316  …  4.06439e-316, 4.06439e-316, 4.06439e-316, 4.06439e-316, 4.06439e-316, 4.06439e-316, 4.06439e-316, 2.00932e-315, 5.92631e-316, 5.92632e-316], [4.06439e-316, 2.0004e-315, 2.0004e-315, 5.60492e-316, 5.60492e-316, 5.60492e-316, 5.60492e-316, 5.60492e-316, 5.60492e-316, 5.60492e-316  …  5.60493e-316, 2.00041e-315, 5.60493e-316, 2.00041e-315, 5.60494e-316, 2.00041e-315, 5.60494e-316, 2.00041e-315, 2.00041e-315, 2.00041e-315], 30.0, ConvexPolygon: len 0 (max 4 pts)\n",
       "), Dict{Int64,AutomotiveDrivingModels.DriverModel}(Pair{Int64,AutomotiveDrivingModels.DriverModel}(1, EgoDriver(OCAction(0.0)))), VehicleDef(CAR, 4.000, 1.800), VehicleDef(PEDESTRIAN, 1.000, 1.000), 2.0, 5.0, -5.0, 37.0, 5.0, 0.5, 0.3, 10, 1.0, 0.5, 0.5, -1.0, 0.0, 1.0, 0.95)"
      ]
     },
     "execution_count": 3,
     "metadata": {},
     "output_type": "execute_result"
    }
   ],
   "source": [
    "rng = MersenneTwister(1)\n",
    "pomdp = OCPOMDP()"
   ]
  },
  {
   "cell_type": "code",
   "execution_count": 4,
   "metadata": {},
   "outputs": [
    {
     "data": {
      "text/plain": [
       "PyObject <module 'dqn.nn_wrapper' from 'C:\\\\Users\\\\Maxime\\\\OneDrive - Leland Stanford Junior University\\\\Research\\\\policy-correction\\\\dqn\\\\nn_wrapper.py'>"
      ]
     },
     "execution_count": 4,
     "metadata": {},
     "output_type": "execute_result"
    }
   ],
   "source": [
    "@pyimport tensorflow as tf\n",
    "nn_wrapper = pyimport(\"dqn.nn_wrapper\")"
   ]
  },
  {
   "cell_type": "code",
   "execution_count": 5,
   "metadata": {},
   "outputs": [
    {
     "name": "stdout",
     "output_type": "stream",
     "text": [
      "INFO:tensorflow:Restoring parameters from ../../dqn/corr_21/model.ckpt\r\n"
     ]
    },
    {
     "name": "stderr",
     "output_type": "stream",
     "text": [
      "2017-11-03 11:48:47.709629: W c:\\tf_jenkins\\home\\workspace\\release-win\\m\\windows\\py\\35\\tensorflow\\core\\platform\\cpu_feature_guard.cc:45] The TensorFlow library wasn't compiled to use SSE instructions, but these are available on your machine and could speed up CPU computations.\n",
      "2017-11-03 11:48:47.709663: W c:\\tf_jenkins\\home\\workspace\\release-win\\m\\windows\\py\\35\\tensorflow\\core\\platform\\cpu_feature_guard.cc:45] The TensorFlow library wasn't compiled to use SSE2 instructions, but these are available on your machine and could speed up CPU computations.\n",
      "2017-11-03 11:48:47.709687: W c:\\tf_jenkins\\home\\workspace\\release-win\\m\\windows\\py\\35\\tensorflow\\core\\platform\\cpu_feature_guard.cc:45] The TensorFlow library wasn't compiled to use SSE3 instructions, but these are available on your machine and could speed up CPU computations.\n",
      "2017-11-03 11:48:47.709697: W c:\\tf_jenkins\\home\\workspace\\release-win\\m\\windows\\py\\35\\tensorflow\\core\\platform\\cpu_feature_guard.cc:45] The TensorFlow library wasn't compiled to use SSE4.1 instructions, but these are available on your machine and could speed up CPU computations.\n",
      "2017-11-03 11:48:47.709704: W c:\\tf_jenkins\\home\\workspace\\release-win\\m\\windows\\py\\35\\tensorflow\\core\\platform\\cpu_feature_guard.cc:45] The TensorFlow library wasn't compiled to use SSE4.2 instructions, but these are available on your machine and could speed up CPU computations.\n",
      "2017-11-03 11:48:47.709712: W c:\\tf_jenkins\\home\\workspace\\release-win\\m\\windows\\py\\35\\tensorflow\\core\\platform\\cpu_feature_guard.cc:45] The TensorFlow library wasn't compiled to use AVX instructions, but these are available on your machine and could speed up CPU computations.\n",
      "2017-11-03 11:48:47.709718: W c:\\tf_jenkins\\home\\workspace\\release-win\\m\\windows\\py\\35\\tensorflow\\core\\platform\\cpu_feature_guard.cc:45] The TensorFlow library wasn't compiled to use AVX2 instructions, but these are available on your machine and could speed up CPU computations.\n",
      "2017-11-03 11:48:47.709726: W c:\\tf_jenkins\\home\\workspace\\release-win\\m\\windows\\py\\35\\tensorflow\\core\\platform\\cpu_feature_guard.cc:45] The TensorFlow library wasn't compiled to use FMA instructions, but these are available on your machine and could speed up CPU computations.\n",
      "[2017-11-03 11:48:47,870] Restoring parameters from ../../dqn/corr_21/model.ckpt\r\n"
     ]
    },
    {
     "data": {
      "text/plain": [
       "PyObject <dqn.nn_wrapper.NNWrapper object at 0x000000002A6EFF60>"
      ]
     },
     "execution_count": 5,
     "metadata": {},
     "output_type": "execute_result"
    }
   ],
   "source": [
    "nn = nn_wrapper[:NNWrapper](\"../../dqn/single_3/\", scope=\"multi\")"
   ]
  },
  {
   "cell_type": "code",
   "execution_count": 6,
   "metadata": {},
   "outputs": [
    {
     "data": {
      "text/plain": [
       "preprocess_o (generic function with 2 methods)"
      ]
     },
     "execution_count": 6,
     "metadata": {},
     "output_type": "execute_result"
    }
   ],
   "source": [
    "function multi_to_singles(obs, nframes=4)    \n",
    "    n_ped = div(size(obs,1)-2,2)\n",
    "    single_obs = Vector{Array{Float64,3}}(n_ped)\n",
    "    o = reshape(obs, (size(obs, 1), nframes))\n",
    "    for i = 2:n_ped+1\n",
    "        single_o = zeros(4, nframes)\n",
    "        single_o[1,:] = o[1,:]\n",
    "        single_o[2,:] = o[2,:]\n",
    "        single_o[3,:] = o[2*i - 1, :]\n",
    "        single_o[4,:] = o[2*i, :]\n",
    "        single_o = reshape(single_o, (4,1,nframes))\n",
    "        single_obs[i-1] = single_o\n",
    "    end\n",
    "    return single_obs\n",
    "end\n",
    "\n",
    "function get_action(pomdp, policy, o_queue, action_map)\n",
    "    singles = multi_to_singles(o_queue)    \n",
    "#     all_val = zeros(4, length(singles))\n",
    "#     for i = 1:length(singles)\n",
    "#         all_val[:, i] = policy[:value](singles[i])\n",
    "# #         println(singles[i])\n",
    "# #         println(\"\\n\")\n",
    "#     end\n",
    "#     val = minimum(all_val, 2)\n",
    "    val = zeros(4)\n",
    "    for o in singles\n",
    "        val += policy[:value](singles[i])\n",
    "    end\n",
    "    return action_map[indmax(val)]\n",
    "end\n",
    "            \n",
    "# function get_action(pomdp, policy, o_queue, action_map)\n",
    "#     ai = policy[:action](o_queue)\n",
    "#     return action_map[ai+1]\n",
    "# end\n",
    "\n",
    "function efficient_dequeue(queue::Array{Float64,3}, new_elem::Array{Float64,3}, nch::Int64=size(new_elem,3),nqueue::Int64=div(size(queue, 3),size(new_elem, 3)))\n",
    "    # first shift all the old element\n",
    "    queue = circshift(queue, (0,0,-nch))\n",
    "    # enqueue the first one\n",
    "    queue[:,:,(nqueue-1)*nch+1:nqueue*nch] = new_elem\n",
    "    return queue\n",
    "end\n",
    "\n",
    "function preprocess_o(o::OCObs, pomdp::OCPOMDP, queue=nothing)\n",
    "    nframes = 4\n",
    "    o_mat = convert_o(Vector{Float64}, o, pomdp)\n",
    "    o_mat = reshape(o_mat, (size(o_mat,1), 1, 1))\n",
    "    if queue == nothing\n",
    "        w, h, nch = size(o_mat)\n",
    "        o_stacked = repeat(reshape(o_mat, (w, h, nch)), outer=(1,1,nframes))\n",
    "        o_stacked = reshape(o_stacked, (w, h, nch*nframes))\n",
    "        return o_stacked\n",
    "    else\n",
    "        queue = efficient_dequeue(queue, o_mat)\n",
    "    end\n",
    "    return queue\n",
    "end"
   ]
  },
  {
   "cell_type": "code",
   "execution_count": 7,
   "metadata": {},
   "outputs": [
    {
     "data": {
      "text/plain": [
       "OCAction(2.0)"
      ]
     },
     "execution_count": 7,
     "metadata": {},
     "output_type": "execute_result"
    }
   ],
   "source": [
    "s = initial_state(pomdp, rng)\n",
    "o_init = generate_o(pomdp, s, rng)\n",
    "o_p = preprocess_o(o_init, pomdp)\n",
    "get_action(pomdp, nn, o_p, actions(pomdp))"
   ]
  },
  {
   "cell_type": "code",
   "execution_count": 15,
   "metadata": {
    "scrolled": true
   },
   "outputs": [
    {
     "name": "stdout",
     "output_type": "stream",
     "text": [
      "Average reward: 0.704; Average # of steps: 17.056; # of crashes: 0; # of time out 8; # of successes 742\n"
     ]
    }
   ],
   "source": [
    "r_avg = 0\n",
    "step_avg = 0\n",
    "crash = 0\n",
    "time_out = 0\n",
    "success = 0\n",
    "n_ep = 1000\n",
    "max_steps = 100\n",
    "saved_states = OCState[]\n",
    "\n",
    "for i=1:n_ep    \n",
    "    saved_states = OCState[]\n",
    "    disc = 1.0\n",
    "    r_total = 0.0    \n",
    "    s = initial_state(pomdp, rng)\n",
    "    a_map = actions(pomdp)\n",
    "    o_init = generate_o(pomdp, s, rng)\n",
    "    o = preprocess_o(o_init, pomdp)\n",
    "    step = 1\n",
    "\n",
    "    while !isterminal(pomdp, s) && step <= max_steps # TODO also check for terminal observation\n",
    "        a = get_action(pomdp, nn, o, a_map)\n",
    "#         println(o, \"\\n\\n\")\n",
    "        sp, o_, r = generate_sor(pomdp, s, a, rng)\n",
    "#         println(o_)\n",
    "\n",
    "        push!(saved_states, sp)\n",
    "        if sp.n > 7\n",
    "           return sp\n",
    "        end\n",
    "        r_total += disc*r\n",
    "\n",
    "        s = sp\n",
    "        op = preprocess_o(o_, pomdp, o)\n",
    "#         println(op)\n",
    "        \n",
    "        o = op\n",
    "\n",
    "#         disc *= discount(pomdp)\n",
    "        step += 1\n",
    "    end\n",
    "    r_avg += r_total\n",
    "    if r_total <= -1.02\n",
    "        crash += 1\n",
    "    elseif step >= 100\n",
    "        time_out += 1\n",
    "#         break\n",
    "    else\n",
    "        success += 1\n",
    "    end\n",
    "    step_avg += step\n",
    "#     println(r_total)\n",
    "end\n",
    "r_avg /= n_ep\n",
    "step_avg /= n_ep\n",
    "\n",
    "println(\"Average reward: $r_avg; Average # of steps: $step_avg; # of crashes: $crash; # of time out $time_out; # of successes $success\")"
   ]
  },
  {
   "cell_type": "code",
   "execution_count": 9,
   "metadata": {},
   "outputs": [
    {
     "data": {
      "image/png": "[encoded data removed]",
      "text/plain": [
       "Cairo.CairoSurface{UInt32}(Ptr{Void} @0x000000000b4f2e10, 1000.0, 600.0, #undef)"
      ]
     },
     "execution_count": 9,
     "metadata": {},
     "output_type": "execute_result"
    }
   ],
   "source": [
    "AutoViz.render(saved_states[end], pomdp.env, cam=FitToContentCamera(0.0))"
   ]
  },
  {
   "cell_type": "markdown",
   "metadata": {},
   "source": [
    "## Visualize policy"
   ]
  },
  {
   "cell_type": "code",
   "execution_count": 10,
   "metadata": {
    "collapsed": true
   },
   "outputs": [],
   "source": [
    "using AutoViz, Reel"
   ]
  },
  {
   "cell_type": "code",
   "execution_count": 11,
   "metadata": {
    "collapsed": true
   },
   "outputs": [],
   "source": [
    "include(\"render_helpers.jl\")"
   ]
  },
  {
   "cell_type": "code",
   "execution_count": 12,
   "metadata": {},
   "outputs": [
    {
     "data": {
      "text/plain": [
       "animate_scenes (generic function with 1 method)"
      ]
     },
     "execution_count": 12,
     "metadata": {},
     "output_type": "execute_result"
    }
   ],
   "source": [
    "function animate_scenes(scenes::Vector{Scene}, pomdp)\n",
    "    duration =length(scenes)*pomdp.ΔT\n",
    "    fps = Int(1/pomdp.ΔT)\n",
    "    cam = FitToContentCamera(0.)\n",
    "    function render_rec(t, dt)\n",
    "        frame_index = Int(floor(t/dt)) + 1\n",
    "        return AutoViz.render(scenes[frame_index], pomdp.env, cam=cam)\n",
    "    end\n",
    "    return duration, fps, render_rec\n",
    "end\n"
   ]
  },
  {
   "cell_type": "code",
   "execution_count": 13,
   "metadata": {},
   "outputs": [
    {
     "data": {
      "text/html": [
       "<video autoplay controls><source src=\"files/reel-17294022033908011931.webm?8572366812512782944\" type=\"video/webm\"></video>"
      ],
      "text/plain": [
       "Reel.Frames{MIME{Symbol(\"image/png\")}}(\"C:\\\\Users\\\\Maxime\\\\AppData\\\\Local\\\\Temp\\\\jl_C45.tmp\", 0x000000000000001d, 2.0, nothing)"
      ]
     },
     "execution_count": 13,
     "metadata": {},
     "output_type": "execute_result"
    }
   ],
   "source": [
    "duration, fps, render_states = animate_scenes(saved_states, pomdp)\n",
    "speed_factor = 1\n",
    "film = roll(render_states, fps = fps*speed_factor, duration = duration/speed_factor)"
   ]
  },
  {
   "cell_type": "code",
   "execution_count": 14,
   "metadata": {},
   "outputs": [
    {
     "data": {
      "text/plain": [
       "true"
      ]
     },
     "execution_count": 14,
     "metadata": {},
     "output_type": "execute_result"
    }
   ],
   "source": [
    "isterminal(pomdp, saved_states[end])"
   ]
  },
  {
   "cell_type": "code",
   "execution_count": null,
   "metadata": {
    "collapsed": true
   },
   "outputs": [],
   "source": []
  }
 ],
 "metadata": {
  "kernelspec": {
   "display_name": "Julia 0.6.0",
   "language": "julia",
   "name": "julia-0.6"
  },
  "language_info": {
   "file_extension": ".jl",
   "mimetype": "application/julia",
   "name": "julia",
   "version": "0.6.0"
  }
 },
 "nbformat": 4,
 "nbformat_minor": 2
}
