{
 "cells": [
  {
   "cell_type": "markdown",
   "metadata": {},
   "source": [
    "# Debug Driver Models in Urban POMDP"
   ]
  },
  {
   "cell_type": "code",
   "execution_count": 1,
   "metadata": {},
   "outputs": [
    {
     "name": "stderr",
     "output_type": "stream",
     "text": [
      "┌ Info: Recompiling stale cache file /mnt/c/Users/Maxime/wsl/.julia/compiled/v1.0/AutomotivePOMDPs/L1lsd.ji for AutomotivePOMDPs [dca8afc0-c686-11e8-0934-712707da73aa]\n",
      "└ @ Base loading.jl:1184\n"
     ]
    }
   ],
   "source": [
    "using Revise\n",
    "using Random\n",
    "using POMDPs\n",
    "using POMDPModelTools\n",
    "using POMDPPolicies\n",
    "using BeliefUpdaters\n",
    "using POMDPSimulators\n",
    "using AutomotiveDrivingModels\n",
    "using AutomotivePOMDPs\n",
    "using AutomotiveSensors\n",
    "using AutoViz\n",
    "using Reel"
   ]
  },
  {
   "cell_type": "code",
   "execution_count": 2,
   "metadata": {},
   "outputs": [],
   "source": [
    "rng = MersenneTwister(1);"
   ]
  },
  {
   "cell_type": "markdown",
   "metadata": {},
   "source": [
    "## Environment"
   ]
  },
  {
   "cell_type": "code",
   "execution_count": 3,
   "metadata": {},
   "outputs": [],
   "source": [
    "params = UrbanParams(nlanes_main=1,\n",
    "                     crosswalk_pos =[VecSE2(6, 0., pi/2), VecSE2(-6, 0., pi/2), VecSE2(0., -5., 0.)],\n",
    "                     crosswalk_length =  [14.0, 14., 14.0],\n",
    "                     crosswalk_width = [4.0, 4.0, 3.1],\n",
    "                     stop_line = 22.0)\n",
    "env = UrbanEnv(params=params);"
   ]
  },
  {
   "cell_type": "code",
   "execution_count": 4,
   "metadata": {},
   "outputs": [],
   "source": [
    "pomdp = UrbanPOMDP(env=env,\n",
    "                   sensor = PerfectSensor(),\n",
    "                   ego_goal = LaneTag(2, 1),\n",
    "                   max_cars=5, \n",
    "                   max_peds=5, \n",
    "                   car_birth=0.5, \n",
    "                   ped_birth=0.5, \n",
    "                   max_obstacles=0, # no fixed obstacles\n",
    "                   ego_start=20,\n",
    "                   ΔT=0.1);"
   ]
  },
  {
   "cell_type": "markdown",
   "metadata": {},
   "source": [
    "## Simulation"
   ]
  },
  {
   "cell_type": "code",
   "execution_count": 5,
   "metadata": {},
   "outputs": [],
   "source": [
    "function POMDPModelTools.generate_sori(p::UrbanPOMDP, s::UrbanState, a::UrbanAction, rng::AbstractRNG)\n",
    "    return generate_sor(p, s, a, rng)..., deepcopy(p.models)\n",
    "end"
   ]
  },
  {
   "cell_type": "code",
   "execution_count": 18,
   "metadata": {},
   "outputs": [
    {
     "name": "stdout",
     "output_type": "stream",
     "text": [
      "veh 2 | clogged false | passed false | engaged true | stop false| right of way false\n",
      "veh 3 | clogged false | passed true | engaged true | stop false| right of way true\n",
      "veh 4 | clogged false | passed true | engaged false | stop false| right of way true\n",
      "veh 5 | clogged true | passed false | engaged false | stop false| right of way true\n",
      "veh 2 | clogged false | passed false | engaged true | stop false| right of way false\n",
      "veh 3 | clogged false | passed true | engaged true | stop false| right of way true\n",
      "veh 4 | clogged false | passed true | engaged false | stop false| right of way true\n",
      "veh 5 | clogged true | passed false | engaged false | stop false| right of way true\n",
      "veh 2 | clogged false | passed false | engaged true | stop false| right of way false\n",
      "veh 3 | clogged false | passed true | engaged true | stop false| right of way true\n",
      "veh 4 | clogged false | passed true | engaged false | stop false| right of way true\n",
      "veh 5 | clogged true | passed false | engaged false | stop false| right of way true\n",
      "veh 2 | clogged false | passed false | engaged true | stop false| right of way false\n",
      "veh 3 | clogged false | passed true | engaged true | stop false| right of way true\n",
      "veh 4 | clogged false | passed true | engaged false | stop false| right of way true\n",
      "veh 5 | clogged true | passed false | engaged false | stop false| right of way true\n",
      "veh 2 | clogged false | passed false | engaged true | stop false| right of way false\n",
      "veh 3 | clogged false | passed true | engaged false | stop false| right of way true\n",
      "veh 4 | clogged false | passed true | engaged false | stop false| right of way true\n",
      "veh 5 | clogged true | passed false | engaged false | stop false| right of way true\n",
      "veh 6 | clogged true | passed false | engaged false | stop false| right of way true\n",
      "veh 2 | clogged false | passed true | engaged true | stop false| right of way false\n",
      "veh 3 | clogged false | passed true | engaged false | stop false| right of way true\n",
      "veh 4 | clogged false | passed true | engaged false | stop false| right of way true\n",
      "veh 5 | clogged true | passed false | engaged false | stop false| right of way true\n",
      "veh 6 | clogged true | passed false | engaged false | stop false| right of way true\n",
      "veh 2 | clogged false | passed true | engaged true | stop false| right of way false\n",
      "veh 3 | clogged false | passed true | engaged false | stop false| right of way true\n",
      "veh 4 | clogged false | passed true | engaged false | stop false| right of way true\n",
      "veh 5 | clogged true | passed false | engaged false | stop false| right of way true\n",
      "veh 6 | clogged true | passed false | engaged false | stop false| right of way true\n",
      "veh 2 | clogged false | passed true | engaged true | stop false| right of way false\n",
      "veh 3 | clogged false | passed true | engaged false | stop false| right of way true\n",
      "veh 4 | clogged false | passed true | engaged false | stop false| right of way true\n",
      "veh 5 | clogged true | passed false | engaged false | stop false| right of way true\n",
      "veh 6 | clogged true | passed false | engaged false | stop false| right of way true\n",
      "veh 2 | clogged false | passed true | engaged true | stop true| right of way false\n",
      "veh 3 | clogged false | passed true | engaged false | stop false| right of way true\n",
      "veh 4 | clogged false | passed true | engaged false | stop false| right of way true\n",
      "veh 5 | clogged true | passed false | engaged false | stop false| right of way true\n",
      "veh 6 | clogged true | passed false | engaged false | stop false| right of way true\n",
      "veh 2 | clogged false | passed true | engaged true | stop true| right of way false\n",
      "veh 3 | clogged false | passed true | engaged false | stop false| right of way true\n",
      "veh 4 | clogged false | passed true | engaged false | stop false| right of way true\n",
      "veh 5 | clogged true | passed false | engaged false | stop false| right of way true\n",
      "veh 6 | clogged true | passed false | engaged false | stop false| right of way true\n",
      "veh 2 | clogged false | passed true | engaged true | stop true| right of way false\n",
      "veh 3 | clogged false | passed true | engaged false | stop false| right of way true\n",
      "veh 4 | clogged false | passed true | engaged false | stop false| right of way true\n",
      "veh 5 | clogged true | passed false | engaged false | stop false| right of way true\n",
      "veh 6 | clogged true | passed false | engaged false | stop false| right of way true\n",
      "veh 2 | clogged false | passed true | engaged true | stop true| right of way false\n",
      "veh 3 | clogged false | passed true | engaged false | stop false| right of way true\n",
      "veh 4 | clogged false | passed true | engaged false | stop false| right of way true\n",
      "veh 5 | clogged true | passed false | engaged false | stop false| right of way true\n",
      "veh 6 | clogged true | passed false | engaged false | stop false| right of way true\n",
      "veh 2 | clogged false | passed true | engaged true | stop true| right of way false\n",
      "veh 3 | clogged false | passed true | engaged false | stop false| right of way true\n",
      "veh 4 | clogged false | passed true | engaged false | stop false| right of way true\n",
      "veh 5 | clogged true | passed false | engaged false | stop false| right of way true\n",
      "veh 6 | clogged true | passed false | engaged false | stop false| right of way true\n",
      "veh 2 | clogged false | passed true | engaged true | stop true| right of way false\n",
      "veh 3 | clogged false | passed true | engaged false | stop false| right of way true\n",
      "veh 4 | clogged false | passed true | engaged false | stop false| right of way true\n",
      "veh 5 | clogged true | passed false | engaged false | stop false| right of way true\n",
      "veh 6 | clogged true | passed false | engaged false | stop false| right of way true\n",
      "veh 2 | clogged false | passed true | engaged true | stop true| right of way false\n",
      "veh 3 | clogged false | passed true | engaged false | stop false| right of way true\n",
      "veh 4 | clogged false | passed true | engaged false | stop false| right of way true\n",
      "veh 5 | clogged true | passed false | engaged false | stop false| right of way true\n",
      "veh 6 | clogged true | passed false | engaged false | stop false| right of way true\n",
      "veh 2 | clogged false | passed true | engaged true | stop true| right of way false\n",
      "veh 3 | clogged false | passed true | engaged false | stop false| right of way true\n",
      "veh 4 | clogged false | passed true | engaged false | stop false| right of way true\n",
      "veh 5 | clogged true | passed false | engaged false | stop false| right of way true\n",
      "veh 6 | clogged true | passed false | engaged false | stop false| right of way true\n",
      "veh 2 | clogged false | passed true | engaged true | stop true| right of way false\n",
      "veh 3 | clogged false | passed true | engaged false | stop false| right of way true\n",
      "veh 4 | clogged false | passed true | engaged false | stop false| right of way true\n",
      "veh 5 | clogged true | passed false | engaged false | stop false| right of way true\n",
      "veh 6 | clogged true | passed false | engaged false | stop false| right of way true\n",
      "veh 2 | clogged false | passed true | engaged true | stop true| right of way false\n",
      "veh 3 | clogged false | passed true | engaged false | stop false| right of way true\n",
      "veh 4 | clogged false | passed true | engaged false | stop false| right of way true\n",
      "veh 5 | clogged true | passed false | engaged false | stop false| right of way true\n",
      "veh 6 | clogged true | passed false | engaged false | stop false| right of way true\n",
      "veh 2 | clogged false | passed true | engaged true | stop true| right of way false\n",
      "veh 3 | clogged false | passed true | engaged false | stop false| right of way true\n",
      "veh 4 | clogged false | passed true | engaged false | stop false| right of way true\n",
      "veh 5 | clogged true | passed false | engaged false | stop false| right of way true\n",
      "veh 6 | clogged true | passed false | engaged false | stop false| right of way true\n",
      "veh 2 | clogged false | passed true | engaged true | stop true| right of way false\n",
      "veh 3 | clogged false | passed true | engaged false | stop false| right of way true\n",
      "veh 4 | clogged false | passed true | engaged false | stop false| right of way true\n",
      "veh 5 | clogged true | passed false | engaged false | stop false| right of way true\n",
      "veh 6 | clogged true | passed false | engaged false | stop false| right of way true\n",
      "veh 2 | clogged false | passed true | engaged true | stop true| right of way false\n",
      "veh 3 | clogged false | passed true | engaged false | stop false| right of way true\n",
      "veh 4 | clogged false | passed true | engaged false | stop false| right of way true\n",
      "veh 5 | clogged true | passed false | engaged false | stop false| right of way true\n",
      "veh 6 | clogged true | passed false | engaged false | stop false| right of way true\n",
      "veh 2 | clogged false | passed true | engaged true | stop true| right of way false\n",
      "veh 3 | clogged false | passed true | engaged false | stop false| right of way true\n",
      "veh 4 | clogged false | passed true | engaged false | stop false| right of way true\n",
      "veh 5 | clogged true | passed false | engaged false | stop false| right of way true\n",
      "veh 6 | clogged true | passed false | engaged false | stop false| right of way true\n",
      "veh 2 | clogged true | passed true | engaged true | stop true| right of way false\n",
      "veh 3 | clogged false | passed true | engaged false | stop false| right of way true\n",
      "veh 4 | clogged false | passed true | engaged false | stop false| right of way true\n",
      "veh 5 | clogged true | passed false | engaged false | stop false| right of way true\n",
      "veh 6 | clogged true | passed false | engaged false | stop false| right of way true\n",
      "veh 2 | clogged true | passed true | engaged true | stop true| right of way false\n",
      "veh 3 | clogged false | passed true | engaged false | stop false| right of way true\n",
      "veh 4 | clogged false | passed true | engaged false | stop false| right of way true\n",
      "veh 5 | clogged true | passed false | engaged false | stop false| right of way true\n",
      "veh 6 | clogged true | passed false | engaged false | stop false| right of way true\n",
      "veh 2 | clogged true | passed true | engaged true | stop true| right of way false\n",
      "veh 3 | clogged false | passed true | engaged false | stop false| right of way true\n",
      "veh 4 | clogged false | passed true | engaged false | stop false| right of way true\n",
      "veh 5 | clogged true | passed false | engaged false | stop false| right of way true\n",
      "veh 6 | clogged true | passed false | engaged false | stop false| right of way true\n",
      "veh 2 | clogged true | passed true | engaged true | stop true| right of way false\n",
      "veh 3 | clogged false | passed true | engaged false | stop false| right of way true\n",
      "veh 4 | clogged false | passed true | engaged false | stop false| right of way true\n",
      "veh 5 | clogged true | passed false | engaged false | stop false| right of way true\n",
      "veh 6 | clogged true | passed false | engaged false | stop false| right of way true\n",
      "veh 2 | clogged true | passed true | engaged true | stop true| right of way false\n",
      "veh 3 | clogged false | passed true | engaged false | stop false| right of way true\n",
      "veh 4 | clogged false | passed true | engaged false | stop false| right of way true\n",
      "veh 5 | clogged true | passed false | engaged false | stop false| right of way true\n",
      "veh 6 | clogged true | passed false | engaged false | stop false| right of way true\n",
      "veh 2 | clogged true | passed true | engaged true | stop true| right of way false\n",
      "veh 3 | clogged false | passed true | engaged false | stop false| right of way true\n",
      "veh 4 | clogged false | passed true | engaged false | stop false| right of way true\n",
      "veh 5 | clogged true | passed false | engaged false | stop false| right of way true\n",
      "veh 6 | clogged true | passed false | engaged false | stop false| right of way true\n",
      "veh 2 | clogged true | passed true | engaged true | stop true| right of way false\n",
      "veh 3 | clogged false | passed true | engaged false | stop false| right of way true\n",
      "veh 4 | clogged false | passed true | engaged false | stop false| right of way true\n",
      "veh 5 | clogged true | passed false | engaged false | stop false| right of way true\n",
      "veh 6 | clogged true | passed false | engaged false | stop false| right of way true\n",
      "veh 2 | clogged true | passed true | engaged true | stop true| right of way false\n",
      "veh 3 | clogged false | passed true | engaged false | stop false| right of way true\n",
      "veh 4 | clogged false | passed true | engaged false | stop false| right of way true\n",
      "veh 5 | clogged true | passed false | engaged false | stop false| right of way true\n",
      "veh 6 | clogged true | passed false | engaged false | stop false| right of way true\n",
      "veh 2 | clogged true | passed true | engaged true | stop true| right of way false\n",
      "veh 3 | clogged false | passed true | engaged false | stop false| right of way true\n",
      "veh 4 | clogged false | passed true | engaged false | stop false| right of way true\n",
      "veh 5 | clogged true | passed false | engaged false | stop false| right of way true\n",
      "veh 6 | clogged true | passed false | engaged false | stop false| right of way true\n",
      "veh 2 | clogged true | passed true | engaged true | stop true| right of way false\n",
      "veh 3 | clogged false | passed true | engaged false | stop false| right of way true\n",
      "veh 5 | clogged true | passed false | engaged false | stop false| right of way true\n",
      "veh 6 | clogged true | passed false | engaged false | stop false| right of way true\n",
      "veh 2 | clogged true | passed true | engaged true | stop true| right of way false\n",
      "veh 3 | clogged false | passed true | engaged false | stop false| right of way true\n",
      "veh 5 | clogged true | passed false | engaged false | stop false| right of way true\n",
      "veh 6 | clogged true | passed false | engaged false | stop false| right of way true\n"
     ]
    },
    {
     "name": "stdout",
     "output_type": "stream",
     "text": [
      "veh 2 | clogged true | passed true | engaged true | stop true| right of way false\n",
      "veh 3 | clogged false | passed true | engaged false | stop false| right of way true\n",
      "veh 5 | clogged true | passed false | engaged false | stop false| right of way true\n",
      "veh 6 | clogged true | passed false | engaged false | stop false| right of way true\n",
      "veh 2 | clogged true | passed true | engaged true | stop true| right of way false\n",
      "veh 3 | clogged false | passed true | engaged false | stop false| right of way true\n",
      "veh 5 | clogged true | passed false | engaged false | stop false| right of way true\n",
      "veh 6 | clogged true | passed false | engaged false | stop false| right of way true\n",
      "veh 4 | clogged true | passed false | engaged false | stop false| right of way true\n",
      "veh 2 | clogged true | passed true | engaged true | stop true| right of way false\n",
      "veh 5 | clogged true | passed false | engaged false | stop false| right of way true\n",
      "veh 6 | clogged true | passed false | engaged false | stop false| right of way true\n",
      "veh 4 | clogged true | passed false | engaged false | stop false| right of way true\n",
      "veh 2 | clogged true | passed true | engaged true | stop true| right of way false\n",
      "veh 5 | clogged true | passed false | engaged false | stop false| right of way true\n",
      "veh 6 | clogged true | passed false | engaged false | stop false| right of way true\n",
      "veh 4 | clogged true | passed false | engaged false | stop false| right of way true\n",
      "veh 2 | clogged true | passed true | engaged true | stop true| right of way false\n",
      "veh 5 | clogged true | passed false | engaged false | stop false| right of way true\n",
      "veh 6 | clogged true | passed false | engaged false | stop false| right of way true\n",
      "veh 4 | clogged true | passed false | engaged false | stop false| right of way true\n",
      "veh 2 | clogged true | passed true | engaged true | stop true| right of way false\n",
      "veh 5 | clogged true | passed false | engaged false | stop false| right of way true\n",
      "veh 6 | clogged true | passed false | engaged false | stop false| right of way true\n",
      "veh 4 | clogged true | passed false | engaged false | stop false| right of way true\n",
      "veh 2 | clogged true | passed true | engaged true | stop true| right of way false\n",
      "veh 5 | clogged true | passed false | engaged false | stop false| right of way true\n",
      "veh 6 | clogged true | passed false | engaged false | stop false| right of way true\n",
      "veh 4 | clogged true | passed false | engaged false | stop false| right of way true\n",
      "veh 2 | clogged true | passed true | engaged true | stop true| right of way false\n",
      "veh 5 | clogged true | passed false | engaged false | stop false| right of way true\n",
      "veh 6 | clogged true | passed false | engaged false | stop false| right of way true\n",
      "veh 4 | clogged true | passed false | engaged false | stop false| right of way true\n",
      "veh 3 | clogged true | passed false | engaged false | stop false| right of way false\n",
      "veh 2 | clogged true | passed true | engaged true | stop true| right of way false\n",
      "veh 5 | clogged true | passed false | engaged false | stop false| right of way true\n",
      "veh 6 | clogged true | passed false | engaged false | stop false| right of way true\n",
      "veh 4 | clogged true | passed false | engaged false | stop false| right of way true\n",
      "veh 3 | clogged true | passed false | engaged false | stop false| right of way false\n",
      "veh 2 | clogged true | passed true | engaged true | stop true| right of way false\n",
      "veh 5 | clogged true | passed false | engaged false | stop false| right of way true\n",
      "veh 6 | clogged true | passed false | engaged false | stop false| right of way true\n",
      "veh 4 | clogged true | passed false | engaged false | stop false| right of way true\n",
      "veh 3 | clogged true | passed false | engaged false | stop false| right of way false\n",
      "veh 2 | clogged true | passed true | engaged true | stop true| right of way false\n",
      "veh 5 | clogged true | passed false | engaged false | stop false| right of way true\n",
      "veh 6 | clogged true | passed false | engaged false | stop false| right of way true\n",
      "veh 4 | clogged true | passed false | engaged false | stop false| right of way true\n",
      "veh 3 | clogged true | passed false | engaged false | stop false| right of way false\n",
      "veh 2 | clogged true | passed true | engaged true | stop true| right of way false\n",
      "veh 5 | clogged true | passed false | engaged false | stop false| right of way true\n",
      "veh 6 | clogged true | passed false | engaged false | stop false| right of way true\n",
      "veh 4 | clogged true | passed false | engaged false | stop false| right of way true\n",
      "veh 3 | clogged true | passed false | engaged false | stop false| right of way false\n",
      "veh 2 | clogged true | passed true | engaged true | stop true| right of way false\n",
      "veh 5 | clogged true | passed false | engaged false | stop false| right of way true\n",
      "veh 6 | clogged true | passed false | engaged false | stop false| right of way true\n",
      "veh 4 | clogged true | passed false | engaged false | stop false| right of way true\n",
      "veh 3 | clogged true | passed false | engaged false | stop false| right of way false\n",
      "veh 2 | clogged true | passed true | engaged true | stop true| right of way false\n",
      "veh 5 | clogged true | passed false | engaged false | stop false| right of way true\n",
      "veh 6 | clogged true | passed false | engaged false | stop false| right of way true\n",
      "veh 4 | clogged true | passed false | engaged false | stop false| right of way true\n",
      "veh 3 | clogged true | passed false | engaged false | stop false| right of way false\n",
      "veh 2 | clogged true | passed true | engaged true | stop true| right of way false\n",
      "veh 5 | clogged true | passed false | engaged false | stop false| right of way true\n",
      "veh 6 | clogged true | passed false | engaged false | stop false| right of way true\n",
      "veh 4 | clogged true | passed false | engaged false | stop false| right of way true\n",
      "veh 3 | clogged true | passed false | engaged false | stop false| right of way false\n",
      "veh 2 | clogged true | passed true | engaged true | stop true| right of way false\n",
      "veh 5 | clogged true | passed false | engaged false | stop false| right of way true\n",
      "veh 6 | clogged true | passed false | engaged false | stop false| right of way true\n",
      "veh 4 | clogged true | passed false | engaged false | stop false| right of way true\n",
      "veh 3 | clogged true | passed false | engaged false | stop false| right of way false\n",
      "veh 2 | clogged true | passed true | engaged true | stop true| right of way false\n",
      "veh 5 | clogged true | passed false | engaged false | stop false| right of way true\n",
      "veh 6 | clogged true | passed false | engaged false | stop false| right of way true\n",
      "veh 4 | clogged true | passed false | engaged false | stop false| right of way true\n",
      "veh 3 | clogged true | passed false | engaged false | stop false| right of way false\n",
      "veh 2 | clogged true | passed true | engaged true | stop true| right of way false\n",
      "veh 5 | clogged true | passed false | engaged false | stop false| right of way true\n",
      "veh 6 | clogged true | passed false | engaged false | stop false| right of way true\n",
      "veh 4 | clogged true | passed false | engaged false | stop false| right of way true\n",
      "veh 3 | clogged true | passed false | engaged false | stop false| right of way false\n",
      "veh 2 | clogged true | passed true | engaged true | stop true| right of way false\n",
      "veh 5 | clogged true | passed false | engaged false | stop false| right of way true\n",
      "veh 6 | clogged true | passed false | engaged false | stop false| right of way true\n",
      "veh 4 | clogged true | passed false | engaged false | stop false| right of way true\n",
      "veh 3 | clogged true | passed false | engaged false | stop false| right of way false\n",
      "veh 2 | clogged true | passed true | engaged true | stop true| right of way false\n",
      "veh 5 | clogged true | passed false | engaged false | stop false| right of way true\n",
      "veh 6 | clogged true | passed false | engaged false | stop false| right of way true\n",
      "veh 4 | clogged true | passed false | engaged false | stop false| right of way true\n",
      "veh 3 | clogged true | passed false | engaged false | stop false| right of way false\n",
      "veh 2 | clogged true | passed true | engaged true | stop true| right of way false\n",
      "veh 5 | clogged true | passed false | engaged false | stop false| right of way true\n",
      "veh 6 | clogged true | passed false | engaged false | stop false| right of way true\n",
      "veh 4 | clogged true | passed false | engaged false | stop false| right of way true\n",
      "veh 3 | clogged true | passed false | engaged false | stop false| right of way false\n",
      "veh 2 | clogged true | passed true | engaged true | stop true| right of way false\n",
      "veh 5 | clogged true | passed false | engaged false | stop false| right of way true\n",
      "veh 6 | clogged true | passed false | engaged false | stop false| right of way true\n",
      "veh 4 | clogged true | passed false | engaged false | stop false| right of way true\n",
      "veh 3 | clogged true | passed false | engaged false | stop false| right of way false\n"
     ]
    },
    {
     "name": "stdout",
     "output_type": "stream",
     "text": [
      "veh 2 | clogged true | passed true | engaged true | stop true| right of way false\n",
      "veh 5 | clogged true | passed false | engaged false | stop false| right of way true\n",
      "veh 6 | clogged true | passed false | engaged false | stop false| right of way true\n",
      "veh 4 | clogged true | passed false | engaged false | stop false| right of way true\n",
      "veh 3 | clogged true | passed false | engaged false | stop false| right of way false\n",
      "veh 2 | clogged true | passed true | engaged true | stop true| right of way false\n",
      "veh 5 | clogged true | passed false | engaged false | stop false| right of way true\n",
      "veh 6 | clogged true | passed false | engaged false | stop false| right of way true\n",
      "veh 4 | clogged true | passed false | engaged false | stop false| right of way true\n",
      "veh 3 | clogged true | passed false | engaged false | stop false| right of way false\n",
      "veh 2 | clogged true | passed true | engaged true | stop true| right of way false\n",
      "veh 5 | clogged true | passed false | engaged false | stop false| right of way true\n",
      "veh 6 | clogged true | passed false | engaged false | stop false| right of way true\n",
      "veh 4 | clogged true | passed false | engaged false | stop false| right of way true\n",
      "veh 3 | clogged true | passed false | engaged false | stop false| right of way false\n",
      "veh 2 | clogged true | passed true | engaged true | stop true| right of way false\n",
      "veh 5 | clogged true | passed false | engaged false | stop false| right of way true\n",
      "veh 6 | clogged true | passed false | engaged false | stop false| right of way true\n",
      "veh 4 | clogged true | passed false | engaged false | stop false| right of way true\n",
      "veh 3 | clogged true | passed false | engaged false | stop false| right of way false\n",
      "veh 2 | clogged true | passed true | engaged true | stop true| right of way false\n",
      "veh 5 | clogged true | passed false | engaged false | stop false| right of way true\n",
      "veh 6 | clogged true | passed false | engaged false | stop false| right of way true\n",
      "veh 4 | clogged true | passed false | engaged false | stop false| right of way true\n",
      "veh 3 | clogged true | passed false | engaged false | stop false| right of way false\n",
      "veh 2 | clogged true | passed true | engaged true | stop true| right of way false\n",
      "veh 5 | clogged true | passed false | engaged false | stop false| right of way true\n",
      "veh 6 | clogged true | passed false | engaged false | stop false| right of way true\n",
      "veh 4 | clogged true | passed false | engaged false | stop false| right of way true\n",
      "veh 3 | clogged true | passed false | engaged false | stop false| right of way false\n",
      "veh 2 | clogged true | passed true | engaged true | stop true| right of way false\n",
      "veh 5 | clogged true | passed false | engaged false | stop false| right of way true\n",
      "veh 6 | clogged true | passed false | engaged false | stop false| right of way true\n",
      "veh 4 | clogged true | passed false | engaged false | stop false| right of way true\n",
      "veh 3 | clogged true | passed false | engaged false | stop false| right of way false\n",
      "veh 2 | clogged true | passed true | engaged true | stop true| right of way false\n",
      "veh 5 | clogged true | passed false | engaged false | stop false| right of way true\n",
      "veh 6 | clogged true | passed false | engaged false | stop false| right of way true\n",
      "veh 4 | clogged true | passed false | engaged false | stop false| right of way true\n",
      "veh 3 | clogged true | passed false | engaged false | stop false| right of way false\n",
      "veh 2 | clogged true | passed true | engaged true | stop true| right of way false\n",
      "veh 5 | clogged true | passed false | engaged false | stop false| right of way true\n",
      "veh 6 | clogged true | passed false | engaged false | stop false| right of way true\n",
      "veh 4 | clogged true | passed false | engaged false | stop false| right of way true\n",
      "veh 3 | clogged true | passed false | engaged false | stop false| right of way false\n",
      "veh 2 | clogged true | passed true | engaged true | stop true| right of way false\n",
      "veh 5 | clogged true | passed false | engaged false | stop false| right of way true\n",
      "veh 6 | clogged true | passed false | engaged false | stop false| right of way true\n",
      "veh 4 | clogged true | passed false | engaged false | stop false| right of way true\n",
      "veh 3 | clogged true | passed false | engaged false | stop false| right of way false\n",
      "veh 2 | clogged true | passed true | engaged true | stop true| right of way false\n",
      "veh 5 | clogged true | passed false | engaged false | stop false| right of way true\n",
      "veh 6 | clogged true | passed false | engaged false | stop false| right of way true\n",
      "veh 4 | clogged true | passed false | engaged false | stop false| right of way true\n",
      "veh 3 | clogged true | passed false | engaged false | stop false| right of way false\n",
      "veh 2 | clogged true | passed true | engaged true | stop true| right of way false\n",
      "veh 5 | clogged true | passed false | engaged false | stop false| right of way true\n",
      "veh 6 | clogged true | passed false | engaged false | stop false| right of way true\n",
      "veh 4 | clogged true | passed false | engaged false | stop false| right of way true\n",
      "veh 3 | clogged true | passed false | engaged false | stop false| right of way false\n",
      "veh 2 | clogged true | passed true | engaged true | stop true| right of way false\n",
      "veh 5 | clogged true | passed false | engaged false | stop false| right of way true\n",
      "veh 6 | clogged true | passed false | engaged false | stop false| right of way true\n",
      "veh 4 | clogged true | passed false | engaged false | stop false| right of way true\n",
      "veh 3 | clogged true | passed false | engaged false | stop false| right of way false\n",
      "veh 2 | clogged true | passed true | engaged true | stop true| right of way false\n",
      "veh 5 | clogged true | passed false | engaged false | stop false| right of way true\n",
      "veh 6 | clogged true | passed false | engaged false | stop false| right of way true\n",
      "veh 4 | clogged true | passed false | engaged false | stop false| right of way true\n",
      "veh 3 | clogged true | passed false | engaged false | stop false| right of way false\n",
      "veh 2 | clogged true | passed true | engaged true | stop true| right of way false\n",
      "veh 5 | clogged true | passed false | engaged false | stop false| right of way true\n",
      "veh 6 | clogged true | passed false | engaged false | stop false| right of way true\n",
      "veh 4 | clogged true | passed false | engaged false | stop false| right of way true\n",
      "veh 3 | clogged true | passed false | engaged false | stop false| right of way false\n",
      "veh 2 | clogged true | passed true | engaged true | stop true| right of way false\n",
      "veh 5 | clogged true | passed false | engaged false | stop false| right of way true\n",
      "veh 6 | clogged true | passed false | engaged false | stop false| right of way true\n",
      "veh 4 | clogged true | passed false | engaged false | stop false| right of way true\n",
      "veh 3 | clogged true | passed false | engaged false | stop false| right of way false\n",
      "veh 2 | clogged true | passed true | engaged true | stop true| right of way false\n",
      "veh 5 | clogged true | passed false | engaged false | stop false| right of way true\n",
      "veh 6 | clogged true | passed false | engaged false | stop false| right of way true\n",
      "veh 4 | clogged true | passed false | engaged false | stop false| right of way true\n",
      "veh 3 | clogged true | passed false | engaged false | stop false| right of way false\n",
      "veh 2 | clogged true | passed true | engaged true | stop true| right of way false\n",
      "veh 5 | clogged true | passed false | engaged false | stop false| right of way true\n",
      "veh 6 | clogged true | passed false | engaged false | stop false| right of way true\n",
      "veh 4 | clogged true | passed false | engaged false | stop false| right of way true\n",
      "veh 3 | clogged true | passed false | engaged false | stop false| right of way false\n",
      "veh 2 | clogged true | passed true | engaged true | stop true| right of way false\n",
      "veh 5 | clogged true | passed false | engaged false | stop false| right of way true\n",
      "veh 6 | clogged true | passed false | engaged false | stop false| right of way true\n",
      "veh 4 | clogged true | passed false | engaged false | stop false| right of way true\n",
      "veh 3 | clogged true | passed false | engaged false | stop false| right of way false\n",
      "veh 2 | clogged true | passed true | engaged true | stop true| right of way false\n",
      "veh 5 | clogged true | passed false | engaged false | stop false| right of way true\n",
      "veh 6 | clogged true | passed false | engaged false | stop false| right of way true\n",
      "veh 4 | clogged true | passed false | engaged false | stop false| right of way true\n",
      "veh 3 | clogged true | passed false | engaged false | stop false| right of way false\n"
     ]
    },
    {
     "name": "stdout",
     "output_type": "stream",
     "text": [
      "veh 2 | clogged true | passed true | engaged true | stop true| right of way false\n",
      "veh 5 | clogged true | passed false | engaged false | stop false| right of way true\n",
      "veh 6 | clogged true | passed false | engaged false | stop false| right of way true\n",
      "veh 4 | clogged true | passed false | engaged false | stop false| right of way true\n",
      "veh 3 | clogged true | passed false | engaged false | stop false| right of way false\n",
      "veh 2 | clogged true | passed true | engaged true | stop true| right of way false\n",
      "veh 5 | clogged true | passed false | engaged false | stop false| right of way true\n",
      "veh 6 | clogged true | passed false | engaged false | stop false| right of way true\n",
      "veh 4 | clogged true | passed false | engaged false | stop false| right of way true\n",
      "veh 3 | clogged true | passed false | engaged false | stop false| right of way false\n",
      "veh 2 | clogged true | passed true | engaged true | stop true| right of way false\n",
      "veh 5 | clogged true | passed false | engaged false | stop false| right of way true\n",
      "veh 6 | clogged true | passed false | engaged false | stop false| right of way true\n",
      "veh 4 | clogged true | passed false | engaged false | stop false| right of way true\n",
      "veh 3 | clogged true | passed false | engaged false | stop false| right of way false\n",
      "veh 2 | clogged true | passed true | engaged true | stop true| right of way false\n",
      "veh 5 | clogged true | passed false | engaged false | stop false| right of way true\n",
      "veh 6 | clogged true | passed false | engaged false | stop false| right of way true\n",
      "veh 4 | clogged true | passed false | engaged false | stop false| right of way true\n",
      "veh 3 | clogged true | passed false | engaged false | stop false| right of way false\n",
      "veh 2 | clogged true | passed true | engaged true | stop true| right of way false\n",
      "veh 5 | clogged true | passed false | engaged false | stop false| right of way true\n",
      "veh 6 | clogged true | passed false | engaged false | stop false| right of way true\n",
      "veh 4 | clogged true | passed false | engaged false | stop false| right of way true\n",
      "veh 3 | clogged true | passed false | engaged false | stop false| right of way false\n",
      "veh 2 | clogged true | passed true | engaged true | stop true| right of way false\n",
      "veh 5 | clogged true | passed false | engaged false | stop false| right of way true\n",
      "veh 6 | clogged true | passed false | engaged false | stop false| right of way true\n",
      "veh 4 | clogged true | passed false | engaged false | stop false| right of way true\n",
      "veh 3 | clogged true | passed false | engaged false | stop false| right of way false\n",
      "veh 2 | clogged true | passed true | engaged true | stop true| right of way false\n",
      "veh 5 | clogged true | passed false | engaged false | stop false| right of way true\n",
      "veh 6 | clogged true | passed false | engaged false | stop false| right of way true\n",
      "veh 4 | clogged true | passed false | engaged false | stop false| right of way true\n",
      "veh 3 | clogged true | passed false | engaged false | stop false| right of way false\n",
      "veh 2 | clogged true | passed true | engaged true | stop true| right of way false\n",
      "veh 5 | clogged true | passed false | engaged false | stop false| right of way true\n",
      "veh 6 | clogged true | passed false | engaged false | stop false| right of way true\n",
      "veh 4 | clogged true | passed false | engaged false | stop false| right of way true\n",
      "veh 3 | clogged true | passed false | engaged false | stop false| right of way false\n",
      "veh 2 | clogged true | passed true | engaged true | stop true| right of way false\n",
      "veh 5 | clogged true | passed false | engaged false | stop false| right of way true\n",
      "veh 6 | clogged true | passed false | engaged false | stop false| right of way true\n",
      "veh 4 | clogged true | passed false | engaged false | stop false| right of way true\n",
      "veh 3 | clogged true | passed false | engaged false | stop false| right of way false\n",
      "veh 2 | clogged true | passed true | engaged true | stop true| right of way false\n",
      "veh 5 | clogged true | passed false | engaged false | stop false| right of way true\n",
      "veh 6 | clogged true | passed false | engaged false | stop false| right of way true\n",
      "veh 4 | clogged true | passed false | engaged false | stop false| right of way true\n",
      "veh 3 | clogged true | passed false | engaged false | stop false| right of way false\n",
      "veh 2 | clogged true | passed true | engaged true | stop true| right of way false\n",
      "veh 5 | clogged true | passed false | engaged false | stop false| right of way true\n",
      "veh 6 | clogged true | passed false | engaged false | stop false| right of way true\n",
      "veh 4 | clogged true | passed false | engaged false | stop false| right of way true\n",
      "veh 3 | clogged true | passed false | engaged false | stop false| right of way false\n",
      "veh 2 | clogged true | passed true | engaged true | stop true| right of way false\n",
      "veh 5 | clogged true | passed false | engaged false | stop false| right of way true\n",
      "veh 6 | clogged true | passed false | engaged false | stop false| right of way true\n",
      "veh 4 | clogged true | passed false | engaged false | stop false| right of way true\n",
      "veh 3 | clogged true | passed false | engaged false | stop false| right of way false\n",
      "veh 2 | clogged true | passed true | engaged true | stop true| right of way false\n",
      "veh 5 | clogged true | passed false | engaged false | stop false| right of way true\n",
      "veh 6 | clogged true | passed false | engaged false | stop false| right of way true\n",
      "veh 4 | clogged true | passed false | engaged false | stop false| right of way true\n",
      "veh 3 | clogged true | passed false | engaged false | stop false| right of way false\n",
      "veh 2 | clogged true | passed true | engaged true | stop true| right of way false\n",
      "veh 5 | clogged true | passed false | engaged false | stop false| right of way true\n",
      "veh 6 | clogged true | passed false | engaged false | stop false| right of way true\n",
      "veh 4 | clogged true | passed false | engaged false | stop false| right of way true\n",
      "veh 3 | clogged true | passed false | engaged false | stop false| right of way false\n",
      "veh 2 | clogged true | passed true | engaged true | stop true| right of way false\n",
      "veh 5 | clogged true | passed false | engaged false | stop false| right of way true\n",
      "veh 6 | clogged true | passed false | engaged false | stop false| right of way true\n",
      "veh 4 | clogged true | passed false | engaged false | stop false| right of way true\n",
      "veh 3 | clogged true | passed false | engaged false | stop false| right of way false\n",
      "veh 2 | clogged true | passed true | engaged true | stop true| right of way false\n",
      "veh 5 | clogged true | passed false | engaged false | stop false| right of way true\n",
      "veh 6 | clogged true | passed false | engaged false | stop false| right of way true\n",
      "veh 4 | clogged true | passed false | engaged false | stop false| right of way true\n",
      "veh 3 | clogged true | passed false | engaged false | stop false| right of way false\n",
      "veh 2 | clogged true | passed true | engaged true | stop true| right of way false\n",
      "veh 5 | clogged true | passed false | engaged false | stop false| right of way true\n",
      "veh 6 | clogged true | passed false | engaged false | stop false| right of way true\n",
      "veh 4 | clogged true | passed false | engaged false | stop false| right of way true\n",
      "veh 3 | clogged true | passed false | engaged false | stop false| right of way false\n",
      "veh 2 | clogged true | passed true | engaged true | stop true| right of way false\n",
      "veh 5 | clogged true | passed false | engaged false | stop false| right of way true\n",
      "veh 6 | clogged true | passed false | engaged false | stop false| right of way true\n",
      "veh 4 | clogged true | passed false | engaged false | stop false| right of way true\n",
      "veh 3 | clogged true | passed false | engaged false | stop false| right of way false\n",
      "veh 2 | clogged true | passed true | engaged true | stop true| right of way false\n",
      "veh 5 | clogged true | passed false | engaged false | stop false| right of way true\n",
      "veh 6 | clogged true | passed false | engaged false | stop false| right of way true\n",
      "veh 4 | clogged true | passed false | engaged false | stop false| right of way true\n",
      "veh 3 | clogged true | passed false | engaged false | stop false| right of way false\n",
      "veh 2 | clogged true | passed true | engaged true | stop true| right of way false\n",
      "veh 5 | clogged true | passed false | engaged false | stop false| right of way true\n",
      "veh 6 | clogged true | passed false | engaged false | stop false| right of way true\n",
      "veh 4 | clogged true | passed false | engaged false | stop false| right of way true\n",
      "veh 3 | clogged true | passed false | engaged false | stop false| right of way false\n",
      "veh 2 | clogged true | passed true | engaged true | stop true| right of way false\n",
      "veh 5 | clogged true | passed false | engaged false | stop false| right of way true\n",
      "veh 6 | clogged true | passed false | engaged false | stop false| right of way true\n",
      "veh 4 | clogged true | passed false | engaged false | stop false| right of way true\n",
      "veh 3 | clogged true | passed false | engaged false | stop false| right of way false\n",
      "veh 2 | clogged true | passed true | engaged true | stop true| right of way false\n",
      "veh 5 | clogged true | passed false | engaged false | stop false| right of way true\n",
      "veh 6 | clogged true | passed false | engaged false | stop false| right of way true\n",
      "veh 4 | clogged true | passed false | engaged false | stop false| right of way true\n",
      "veh 3 | clogged true | passed false | engaged false | stop false| right of way false\n",
      "veh 2 | clogged true | passed true | engaged true | stop true| right of way false\n",
      "veh 5 | clogged true | passed false | engaged false | stop false| right of way true\n",
      "veh 6 | clogged true | passed false | engaged false | stop false| right of way true\n",
      "veh 4 | clogged true | passed false | engaged false | stop false| right of way true\n",
      "veh 3 | clogged true | passed false | engaged false | stop false| right of way false\n",
      "veh 2 | clogged true | passed true | engaged true | stop true| right of way false\n",
      "veh 5 | clogged true | passed false | engaged false | stop false| right of way true\n",
      "veh 6 | clogged true | passed false | engaged false | stop false| right of way true\n",
      "veh 4 | clogged true | passed false | engaged false | stop false| right of way true\n",
      "veh 3 | clogged true | passed false | engaged false | stop false| right of way false\n"
     ]
    },
    {
     "name": "stdout",
     "output_type": "stream",
     "text": [
      "veh 2 | clogged true | passed true | engaged true | stop true| right of way false\n",
      "veh 5 | clogged true | passed false | engaged false | stop false| right of way true\n",
      "veh 6 | clogged true | passed false | engaged false | stop false| right of way true\n",
      "veh 4 | clogged true | passed false | engaged false | stop false| right of way true\n",
      "veh 3 | clogged true | passed false | engaged false | stop false| right of way false\n",
      "veh 2 | clogged true | passed true | engaged true | stop true| right of way false\n",
      "veh 5 | clogged true | passed false | engaged false | stop false| right of way true\n",
      "veh 6 | clogged true | passed false | engaged false | stop false| right of way true\n",
      "veh 4 | clogged true | passed false | engaged false | stop false| right of way true\n",
      "veh 3 | clogged true | passed false | engaged false | stop false| right of way false\n",
      "veh 2 | clogged true | passed true | engaged true | stop true| right of way false\n",
      "veh 5 | clogged true | passed false | engaged false | stop false| right of way true\n",
      "veh 6 | clogged true | passed false | engaged false | stop false| right of way true\n",
      "veh 4 | clogged true | passed false | engaged false | stop false| right of way true\n",
      "veh 3 | clogged true | passed false | engaged false | stop false| right of way false\n",
      "veh 2 | clogged true | passed true | engaged true | stop true| right of way false\n",
      "veh 5 | clogged true | passed false | engaged false | stop false| right of way true\n",
      "veh 6 | clogged true | passed false | engaged false | stop false| right of way true\n",
      "veh 4 | clogged true | passed false | engaged false | stop false| right of way true\n",
      "veh 3 | clogged true | passed false | engaged false | stop false| right of way false\n",
      "veh 2 | clogged true | passed true | engaged true | stop true| right of way false\n",
      "veh 5 | clogged true | passed false | engaged false | stop false| right of way true\n",
      "veh 6 | clogged true | passed false | engaged false | stop false| right of way true\n",
      "veh 4 | clogged true | passed false | engaged false | stop false| right of way true\n",
      "veh 3 | clogged true | passed false | engaged false | stop false| right of way false\n",
      "veh 2 | clogged true | passed true | engaged true | stop true| right of way false\n",
      "veh 5 | clogged true | passed false | engaged false | stop false| right of way true\n",
      "veh 6 | clogged true | passed false | engaged false | stop false| right of way true\n",
      "veh 4 | clogged true | passed false | engaged false | stop false| right of way true\n",
      "veh 3 | clogged true | passed false | engaged false | stop false| right of way false\n",
      "veh 2 | clogged true | passed true | engaged true | stop true| right of way false\n",
      "veh 5 | clogged true | passed false | engaged false | stop false| right of way true\n",
      "veh 6 | clogged true | passed false | engaged false | stop false| right of way true\n",
      "veh 4 | clogged true | passed false | engaged false | stop false| right of way true\n",
      "veh 3 | clogged true | passed false | engaged false | stop false| right of way false\n",
      "veh 2 | clogged true | passed true | engaged true | stop false| right of way false\n",
      "veh 5 | clogged true | passed false | engaged false | stop false| right of way true\n",
      "veh 6 | clogged true | passed false | engaged false | stop false| right of way true\n",
      "veh 4 | clogged true | passed false | engaged false | stop false| right of way true\n",
      "veh 3 | clogged true | passed false | engaged false | stop false| right of way false\n",
      "veh 2 | clogged true | passed true | engaged true | stop false| right of way false\n",
      "veh 5 | clogged true | passed false | engaged false | stop false| right of way true\n",
      "veh 6 | clogged true | passed false | engaged false | stop false| right of way true\n",
      "veh 4 | clogged true | passed false | engaged false | stop false| right of way true\n",
      "veh 3 | clogged true | passed false | engaged false | stop false| right of way false\n",
      "veh 2 | clogged true | passed true | engaged true | stop false| right of way false\n",
      "veh 5 | clogged true | passed false | engaged false | stop false| right of way true\n",
      "veh 6 | clogged true | passed false | engaged false | stop false| right of way true\n",
      "veh 4 | clogged true | passed false | engaged false | stop false| right of way true\n",
      "veh 3 | clogged true | passed false | engaged false | stop false| right of way false\n",
      "veh 2 | clogged true | passed true | engaged true | stop false| right of way false\n",
      "veh 5 | clogged true | passed false | engaged false | stop false| right of way true\n",
      "veh 6 | clogged true | passed false | engaged false | stop false| right of way true\n",
      "veh 4 | clogged true | passed false | engaged false | stop false| right of way true\n",
      "veh 3 | clogged true | passed false | engaged false | stop false| right of way false\n",
      "veh 2 | clogged true | passed true | engaged true | stop false| right of way false\n",
      "veh 5 | clogged true | passed false | engaged false | stop false| right of way true\n",
      "veh 6 | clogged true | passed false | engaged false | stop false| right of way true\n",
      "veh 4 | clogged true | passed false | engaged false | stop false| right of way true\n",
      "veh 3 | clogged true | passed false | engaged false | stop false| right of way false\n",
      "veh 2 | clogged true | passed true | engaged true | stop false| right of way false\n",
      "veh 5 | clogged true | passed false | engaged false | stop false| right of way true\n",
      "veh 6 | clogged true | passed false | engaged false | stop false| right of way true\n",
      "veh 4 | clogged true | passed false | engaged false | stop false| right of way true\n",
      "veh 3 | clogged true | passed false | engaged false | stop false| right of way false\n",
      "veh 2 | clogged true | passed true | engaged true | stop false| right of way false\n",
      "veh 5 | clogged true | passed false | engaged false | stop false| right of way true\n",
      "veh 6 | clogged true | passed false | engaged false | stop false| right of way true\n",
      "veh 4 | clogged true | passed false | engaged false | stop false| right of way true\n",
      "veh 3 | clogged true | passed false | engaged false | stop false| right of way false\n",
      "veh 2 | clogged true | passed true | engaged true | stop false| right of way false\n",
      "veh 5 | clogged true | passed false | engaged false | stop false| right of way true\n",
      "veh 6 | clogged true | passed false | engaged false | stop false| right of way true\n",
      "veh 4 | clogged true | passed false | engaged false | stop false| right of way true\n",
      "veh 3 | clogged true | passed false | engaged false | stop false| right of way false\n",
      "veh 2 | clogged true | passed true | engaged true | stop false| right of way false\n",
      "veh 5 | clogged true | passed false | engaged false | stop false| right of way true\n",
      "veh 6 | clogged true | passed false | engaged false | stop false| right of way true\n",
      "veh 4 | clogged true | passed false | engaged false | stop false| right of way true\n",
      "veh 3 | clogged true | passed false | engaged false | stop false| right of way false\n",
      "veh 2 | clogged true | passed true | engaged true | stop false| right of way false\n",
      "veh 5 | clogged true | passed false | engaged false | stop false| right of way true\n",
      "veh 6 | clogged true | passed false | engaged false | stop false| right of way true\n",
      "veh 4 | clogged true | passed false | engaged false | stop false| right of way true\n",
      "veh 3 | clogged true | passed false | engaged false | stop false| right of way false\n",
      "veh 2 | clogged true | passed true | engaged true | stop false| right of way false\n",
      "veh 5 | clogged true | passed false | engaged false | stop false| right of way true\n",
      "veh 6 | clogged true | passed false | engaged false | stop false| right of way true\n",
      "veh 4 | clogged true | passed false | engaged false | stop false| right of way true\n",
      "veh 3 | clogged true | passed false | engaged false | stop false| right of way false\n",
      "veh 2 | clogged true | passed true | engaged true | stop false| right of way false\n",
      "veh 5 | clogged true | passed false | engaged false | stop false| right of way true\n",
      "veh 6 | clogged true | passed false | engaged false | stop false| right of way true\n",
      "veh 4 | clogged true | passed false | engaged false | stop false| right of way true\n",
      "veh 3 | clogged true | passed false | engaged false | stop false| right of way false\n",
      "veh 2 | clogged true | passed true | engaged true | stop false| right of way false\n",
      "veh 5 | clogged true | passed false | engaged false | stop false| right of way true\n",
      "veh 6 | clogged true | passed false | engaged false | stop false| right of way true\n",
      "veh 4 | clogged true | passed false | engaged false | stop false| right of way true\n",
      "veh 3 | clogged true | passed false | engaged false | stop false| right of way false\n",
      "veh 2 | clogged true | passed true | engaged true | stop false| right of way false\n",
      "veh 5 | clogged true | passed false | engaged false | stop false| right of way true\n",
      "veh 6 | clogged true | passed false | engaged false | stop false| right of way true\n",
      "veh 4 | clogged true | passed false | engaged false | stop false| right of way true\n",
      "veh 3 | clogged true | passed false | engaged false | stop false| right of way false\n",
      "veh 2 | clogged true | passed true | engaged true | stop false| right of way false\n",
      "veh 5 | clogged true | passed false | engaged false | stop false| right of way true\n",
      "veh 6 | clogged true | passed false | engaged false | stop false| right of way true\n",
      "veh 4 | clogged true | passed false | engaged false | stop false| right of way true\n",
      "veh 3 | clogged true | passed false | engaged false | stop false| right of way false\n",
      "veh 2 | clogged true | passed true | engaged true | stop false| right of way false\n",
      "veh 5 | clogged true | passed false | engaged false | stop false| right of way true\n",
      "veh 6 | clogged true | passed false | engaged false | stop false| right of way true\n",
      "veh 4 | clogged true | passed false | engaged false | stop false| right of way true\n",
      "veh 3 | clogged true | passed false | engaged false | stop false| right of way false\n",
      "veh 2 | clogged true | passed true | engaged true | stop false| right of way false\n",
      "veh 5 | clogged true | passed false | engaged false | stop false| right of way true\n",
      "veh 6 | clogged true | passed false | engaged false | stop false| right of way true\n",
      "veh 4 | clogged true | passed false | engaged false | stop false| right of way true\n",
      "veh 3 | clogged true | passed false | engaged false | stop false| right of way false\n",
      "veh 2 | clogged false | passed true | engaged true | stop false| right of way false\n",
      "veh 5 | clogged true | passed false | engaged false | stop false| right of way true\n"
     ]
    },
    {
     "name": "stdout",
     "output_type": "stream",
     "text": [
      "veh 6 | clogged true | passed false | engaged false | stop false| right of way true\n",
      "veh 4 | clogged true | passed false | engaged false | stop false| right of way true\n",
      "veh 3 | clogged true | passed false | engaged false | stop false| right of way false\n",
      "veh 2 | clogged false | passed true | engaged true | stop false| right of way false\n",
      "veh 5 | clogged true | passed false | engaged false | stop false| right of way true\n",
      "veh 6 | clogged true | passed false | engaged false | stop false| right of way true\n",
      "veh 4 | clogged true | passed false | engaged false | stop false| right of way true\n",
      "veh 3 | clogged true | passed false | engaged false | stop false| right of way false\n",
      "veh 2 | clogged false | passed true | engaged true | stop false| right of way false\n",
      "veh 5 | clogged true | passed false | engaged false | stop false| right of way true\n",
      "veh 6 | clogged true | passed false | engaged false | stop false| right of way true\n",
      "veh 4 | clogged true | passed false | engaged false | stop false| right of way true\n",
      "veh 3 | clogged true | passed false | engaged false | stop false| right of way false\n",
      "veh 2 | clogged false | passed true | engaged true | stop false| right of way false\n",
      "veh 5 | clogged true | passed false | engaged false | stop false| right of way true\n",
      "veh 6 | clogged true | passed false | engaged false | stop false| right of way true\n",
      "veh 4 | clogged true | passed false | engaged false | stop false| right of way true\n",
      "veh 3 | clogged true | passed false | engaged false | stop false| right of way false\n",
      "veh 2 | clogged false | passed true | engaged true | stop false| right of way false\n",
      "veh 5 | clogged true | passed false | engaged false | stop false| right of way true\n",
      "veh 6 | clogged true | passed false | engaged false | stop true| right of way true\n",
      "veh 4 | clogged true | passed false | engaged false | stop false| right of way true\n",
      "veh 3 | clogged true | passed false | engaged false | stop false| right of way false\n",
      "veh 2 | clogged false | passed true | engaged true | stop false| right of way false\n",
      "veh 5 | clogged true | passed false | engaged false | stop false| right of way true\n",
      "veh 6 | clogged true | passed false | engaged false | stop true| right of way true\n",
      "veh 4 | clogged true | passed false | engaged false | stop false| right of way true\n",
      "veh 3 | clogged true | passed false | engaged false | stop false| right of way false\n",
      "veh 2 | clogged false | passed true | engaged true | stop false| right of way false\n",
      "veh 5 | clogged true | passed false | engaged false | stop false| right of way true\n",
      "veh 6 | clogged true | passed false | engaged false | stop true| right of way true\n",
      "veh 4 | clogged true | passed false | engaged false | stop false| right of way true\n",
      "veh 3 | clogged true | passed false | engaged false | stop false| right of way false\n",
      "veh 2 | clogged false | passed true | engaged true | stop false| right of way false\n",
      "veh 5 | clogged true | passed false | engaged false | stop false| right of way true\n",
      "veh 6 | clogged true | passed false | engaged false | stop true| right of way true\n",
      "veh 4 | clogged true | passed false | engaged false | stop false| right of way true\n",
      "veh 3 | clogged true | passed false | engaged false | stop false| right of way false\n",
      "veh 2 | clogged false | passed true | engaged true | stop false| right of way false\n",
      "veh 5 | clogged true | passed false | engaged false | stop false| right of way true\n",
      "veh 6 | clogged true | passed false | engaged false | stop true| right of way true\n",
      "veh 4 | clogged true | passed false | engaged false | stop false| right of way true\n",
      "veh 3 | clogged true | passed false | engaged false | stop false| right of way false\n",
      "veh 2 | clogged false | passed true | engaged true | stop false| right of way false\n",
      "veh 5 | clogged true | passed false | engaged false | stop false| right of way true\n",
      "veh 6 | clogged true | passed false | engaged false | stop true| right of way true\n",
      "veh 4 | clogged true | passed false | engaged false | stop false| right of way true\n",
      "veh 3 | clogged true | passed false | engaged false | stop false| right of way false\n",
      "veh 2 | clogged false | passed true | engaged true | stop false| right of way false\n",
      "veh 5 | clogged true | passed false | engaged false | stop false| right of way true\n",
      "veh 6 | clogged true | passed false | engaged false | stop true| right of way true\n",
      "veh 4 | clogged true | passed false | engaged false | stop false| right of way true\n",
      "veh 3 | clogged true | passed false | engaged false | stop false| right of way false\n",
      "veh 2 | clogged false | passed true | engaged true | stop false| right of way false\n",
      "veh 5 | clogged true | passed false | engaged false | stop false| right of way true\n",
      "veh 6 | clogged true | passed false | engaged false | stop true| right of way true\n",
      "veh 4 | clogged true | passed false | engaged false | stop false| right of way true\n",
      "veh 3 | clogged true | passed false | engaged false | stop false| right of way false\n",
      "veh 2 | clogged false | passed true | engaged true | stop false| right of way false\n",
      "veh 5 | clogged true | passed false | engaged false | stop false| right of way true\n",
      "veh 6 | clogged true | passed false | engaged false | stop true| right of way true\n",
      "veh 4 | clogged true | passed false | engaged false | stop false| right of way true\n",
      "veh 3 | clogged true | passed false | engaged false | stop false| right of way false\n",
      "veh 2 | clogged false | passed true | engaged true | stop false| right of way false\n",
      "veh 5 | clogged true | passed false | engaged false | stop false| right of way true\n",
      "veh 6 | clogged true | passed false | engaged false | stop true| right of way true\n",
      "veh 4 | clogged true | passed false | engaged false | stop false| right of way true\n",
      "veh 3 | clogged true | passed false | engaged false | stop false| right of way false\n",
      "veh 2 | clogged false | passed true | engaged true | stop false| right of way false\n",
      "veh 5 | clogged true | passed false | engaged false | stop true| right of way true\n",
      "veh 6 | clogged true | passed false | engaged false | stop true| right of way true\n",
      "veh 4 | clogged true | passed false | engaged false | stop false| right of way true\n",
      "veh 3 | clogged true | passed false | engaged false | stop false| right of way false\n",
      "veh 2 | clogged false | passed true | engaged true | stop false| right of way false\n",
      "veh 5 | clogged true | passed false | engaged false | stop true| right of way true\n",
      "veh 6 | clogged true | passed false | engaged false | stop true| right of way true\n",
      "veh 4 | clogged true | passed false | engaged false | stop false| right of way true\n",
      "veh 3 | clogged true | passed false | engaged false | stop false| right of way false\n",
      "veh 2 | clogged false | passed true | engaged true | stop false| right of way false\n",
      "veh 5 | clogged true | passed false | engaged false | stop true| right of way true\n",
      "veh 6 | clogged true | passed false | engaged false | stop true| right of way true\n",
      "veh 4 | clogged true | passed false | engaged false | stop false| right of way true\n",
      "veh 3 | clogged true | passed false | engaged false | stop false| right of way false\n",
      "veh 2 | clogged false | passed true | engaged true | stop false| right of way false\n",
      "veh 5 | clogged true | passed false | engaged false | stop true| right of way true\n",
      "veh 6 | clogged true | passed false | engaged false | stop true| right of way true\n",
      "veh 4 | clogged true | passed false | engaged false | stop false| right of way true\n",
      "veh 3 | clogged true | passed false | engaged false | stop false| right of way false\n",
      "veh 2 | clogged false | passed true | engaged true | stop false| right of way false\n",
      "veh 5 | clogged true | passed false | engaged false | stop true| right of way true\n",
      "veh 6 | clogged true | passed false | engaged false | stop true| right of way true\n",
      "veh 4 | clogged true | passed false | engaged false | stop false| right of way true\n",
      "veh 3 | clogged true | passed false | engaged false | stop false| right of way false\n",
      "veh 2 | clogged false | passed true | engaged true | stop false| right of way false\n",
      "veh 5 | clogged true | passed false | engaged false | stop true| right of way true\n",
      "veh 6 | clogged true | passed false | engaged false | stop true| right of way true\n",
      "veh 4 | clogged true | passed false | engaged false | stop false| right of way true\n",
      "veh 3 | clogged true | passed false | engaged false | stop false| right of way false\n",
      "veh 2 | clogged false | passed true | engaged true | stop false| right of way false\n",
      "veh 5 | clogged true | passed false | engaged false | stop true| right of way true\n",
      "veh 6 | clogged true | passed false | engaged false | stop true| right of way true\n",
      "veh 4 | clogged true | passed false | engaged false | stop false| right of way true\n",
      "veh 3 | clogged true | passed false | engaged false | stop false| right of way false\n",
      "veh 2 | clogged false | passed true | engaged false | stop false| right of way false\n",
      "veh 5 | clogged true | passed false | engaged false | stop true| right of way true\n",
      "veh 6 | clogged true | passed false | engaged false | stop true| right of way true\n",
      "veh 4 | clogged true | passed false | engaged false | stop false| right of way true\n",
      "veh 3 | clogged true | passed false | engaged false | stop false| right of way false\n",
      "veh 2 | clogged false | passed true | engaged false | stop false| right of way false\n",
      "veh 5 | clogged true | passed false | engaged false | stop true| right of way true\n",
      "veh 6 | clogged true | passed false | engaged false | stop true| right of way true\n",
      "veh 4 | clogged true | passed false | engaged false | stop false| right of way true\n",
      "veh 3 | clogged true | passed false | engaged false | stop false| right of way false\n",
      "veh 2 | clogged false | passed true | engaged false | stop false| right of way false\n",
      "veh 5 | clogged true | passed false | engaged false | stop true| right of way true\n",
      "veh 6 | clogged true | passed false | engaged false | stop false| right of way true\n",
      "veh 4 | clogged true | passed false | engaged false | stop false| right of way true\n",
      "veh 3 | clogged true | passed false | engaged false | stop false| right of way false\n",
      "veh 2 | clogged false | passed true | engaged false | stop false| right of way false\n",
      "veh 5 | clogged true | passed false | engaged false | stop true| right of way true\n",
      "veh 6 | clogged true | passed false | engaged false | stop false| right of way true\n",
      "veh 4 | clogged true | passed false | engaged false | stop false| right of way true\n",
      "veh 3 | clogged true | passed false | engaged false | stop false| right of way false\n",
      "veh 2 | clogged false | passed true | engaged false | stop false| right of way false\n",
      "veh 5 | clogged true | passed false | engaged false | stop true| right of way true\n"
     ]
    },
    {
     "name": "stdout",
     "output_type": "stream",
     "text": [
      "veh 6 | clogged true | passed false | engaged false | stop false| right of way true\n",
      "veh 4 | clogged true | passed false | engaged false | stop false| right of way true\n",
      "veh 3 | clogged true | passed false | engaged false | stop false| right of way false\n",
      "veh 2 | clogged false | passed true | engaged false | stop false| right of way false\n",
      "veh 5 | clogged true | passed false | engaged false | stop true| right of way true\n",
      "veh 6 | clogged true | passed false | engaged false | stop false| right of way true\n",
      "veh 4 | clogged true | passed false | engaged false | stop false| right of way true\n",
      "veh 3 | clogged true | passed false | engaged false | stop false| right of way false\n",
      "veh 2 | clogged false | passed true | engaged false | stop false| right of way false\n",
      "veh 5 | clogged true | passed false | engaged false | stop true| right of way true\n",
      "veh 6 | clogged true | passed false | engaged false | stop true| right of way true\n",
      "veh 4 | clogged true | passed false | engaged false | stop false| right of way true\n",
      "veh 3 | clogged true | passed false | engaged false | stop false| right of way false\n",
      "veh 2 | clogged false | passed true | engaged false | stop false| right of way false\n",
      "veh 5 | clogged true | passed false | engaged false | stop true| right of way true\n",
      "veh 6 | clogged true | passed false | engaged false | stop true| right of way true\n",
      "veh 4 | clogged true | passed false | engaged false | stop false| right of way true\n",
      "veh 3 | clogged true | passed false | engaged false | stop false| right of way false\n",
      "veh 2 | clogged false | passed true | engaged false | stop false| right of way false\n",
      "veh 5 | clogged true | passed false | engaged false | stop true| right of way true\n",
      "veh 6 | clogged true | passed false | engaged false | stop true| right of way true\n",
      "veh 4 | clogged true | passed false | engaged false | stop false| right of way true\n",
      "veh 3 | clogged true | passed false | engaged false | stop false| right of way false\n",
      "veh 2 | clogged false | passed true | engaged false | stop false| right of way false\n",
      "veh 5 | clogged true | passed false | engaged false | stop true| right of way true\n",
      "veh 6 | clogged true | passed false | engaged false | stop true| right of way true\n",
      "veh 4 | clogged true | passed false | engaged false | stop false| right of way true\n",
      "veh 3 | clogged true | passed false | engaged false | stop false| right of way false\n",
      "veh 2 | clogged false | passed true | engaged false | stop false| right of way false\n",
      "veh 5 | clogged true | passed false | engaged false | stop true| right of way true\n",
      "veh 6 | clogged true | passed false | engaged false | stop true| right of way true\n",
      "veh 4 | clogged true | passed false | engaged false | stop false| right of way true\n",
      "veh 3 | clogged true | passed false | engaged false | stop false| right of way false\n",
      "veh 2 | clogged false | passed true | engaged false | stop false| right of way false\n",
      "veh 5 | clogged true | passed false | engaged false | stop true| right of way true\n",
      "veh 6 | clogged true | passed false | engaged false | stop true| right of way true\n",
      "veh 4 | clogged true | passed false | engaged false | stop false| right of way true\n",
      "veh 3 | clogged true | passed false | engaged false | stop false| right of way false\n",
      "veh 2 | clogged false | passed true | engaged false | stop false| right of way false\n",
      "veh 5 | clogged true | passed false | engaged false | stop true| right of way true\n",
      "veh 6 | clogged true | passed false | engaged false | stop true| right of way true\n",
      "veh 4 | clogged true | passed false | engaged false | stop false| right of way true\n",
      "veh 3 | clogged true | passed false | engaged false | stop false| right of way false\n",
      "veh 2 | clogged false | passed true | engaged false | stop false| right of way false\n",
      "veh 5 | clogged true | passed false | engaged false | stop true| right of way true\n",
      "veh 6 | clogged true | passed false | engaged false | stop true| right of way true\n",
      "veh 4 | clogged true | passed false | engaged false | stop false| right of way true\n",
      "veh 3 | clogged true | passed false | engaged false | stop false| right of way false\n",
      "veh 2 | clogged false | passed true | engaged false | stop false| right of way false\n",
      "veh 5 | clogged true | passed false | engaged false | stop true| right of way true\n",
      "veh 6 | clogged true | passed false | engaged false | stop true| right of way true\n",
      "veh 4 | clogged true | passed false | engaged false | stop false| right of way true\n",
      "veh 3 | clogged true | passed false | engaged false | stop false| right of way false\n",
      "veh 2 | clogged false | passed true | engaged false | stop false| right of way false\n",
      "veh 5 | clogged true | passed false | engaged false | stop true| right of way true\n",
      "veh 6 | clogged true | passed false | engaged false | stop true| right of way true\n",
      "veh 4 | clogged true | passed false | engaged false | stop false| right of way true\n",
      "veh 3 | clogged true | passed false | engaged false | stop false| right of way false\n",
      "veh 2 | clogged false | passed true | engaged false | stop false| right of way false\n",
      "veh 5 | clogged true | passed false | engaged false | stop true| right of way true\n",
      "veh 6 | clogged true | passed false | engaged false | stop true| right of way true\n",
      "veh 4 | clogged true | passed false | engaged false | stop false| right of way true\n",
      "veh 3 | clogged true | passed false | engaged false | stop false| right of way false\n",
      "veh 2 | clogged false | passed true | engaged false | stop false| right of way false\n",
      "veh 5 | clogged false | passed false | engaged false | stop true| right of way true\n",
      "veh 6 | clogged false | passed false | engaged false | stop true| right of way true\n",
      "veh 4 | clogged false | passed false | engaged false | stop false| right of way true\n",
      "veh 3 | clogged false | passed false | engaged false | stop false| right of way false\n",
      "veh 2 | clogged false | passed true | engaged false | stop false| right of way false\n",
      "veh 5 | clogged false | passed false | engaged false | stop true| right of way true\n",
      "veh 6 | clogged false | passed false | engaged false | stop true| right of way true\n",
      "veh 4 | clogged false | passed false | engaged false | stop false| right of way true\n",
      "veh 3 | clogged false | passed false | engaged false | stop false| right of way false\n",
      "veh 2 | clogged false | passed true | engaged false | stop false| right of way false\n",
      "veh 5 | clogged false | passed false | engaged false | stop true| right of way true\n",
      "veh 6 | clogged false | passed false | engaged false | stop true| right of way true\n",
      "veh 4 | clogged false | passed false | engaged false | stop false| right of way true\n",
      "veh 3 | clogged false | passed false | engaged false | stop false| right of way false\n",
      "veh 2 | clogged false | passed true | engaged false | stop false| right of way false\n",
      "veh 5 | clogged false | passed false | engaged false | stop true| right of way true\n",
      "veh 6 | clogged false | passed false | engaged false | stop true| right of way true\n",
      "veh 4 | clogged false | passed false | engaged false | stop false| right of way true\n",
      "veh 3 | clogged false | passed false | engaged false | stop false| right of way false\n",
      "veh 2 | clogged false | passed true | engaged false | stop false| right of way false\n",
      "veh 5 | clogged false | passed false | engaged false | stop true| right of way true\n",
      "veh 6 | clogged false | passed false | engaged false | stop true| right of way true\n",
      "veh 4 | clogged false | passed false | engaged false | stop false| right of way true\n",
      "veh 3 | clogged false | passed false | engaged false | stop false| right of way false\n",
      "veh 2 | clogged false | passed true | engaged false | stop false| right of way false\n",
      "veh 5 | clogged false | passed false | engaged false | stop true| right of way true\n",
      "veh 6 | clogged false | passed false | engaged false | stop true| right of way true\n",
      "veh 4 | clogged false | passed false | engaged false | stop false| right of way true\n",
      "veh 3 | clogged false | passed false | engaged false | stop false| right of way false\n",
      "veh 2 | clogged false | passed true | engaged false | stop false| right of way false\n",
      "veh 5 | clogged false | passed false | engaged false | stop true| right of way true\n",
      "veh 6 | clogged false | passed false | engaged false | stop true| right of way true\n",
      "veh 4 | clogged false | passed false | engaged false | stop false| right of way true\n",
      "veh 3 | clogged false | passed false | engaged false | stop false| right of way false\n",
      "veh 2 | clogged false | passed true | engaged false | stop false| right of way false\n",
      "veh 5 | clogged false | passed false | engaged false | stop true| right of way true\n",
      "veh 6 | clogged false | passed false | engaged false | stop true| right of way true\n",
      "veh 4 | clogged false | passed false | engaged false | stop false| right of way true\n",
      "veh 3 | clogged false | passed false | engaged false | stop false| right of way false\n",
      "veh 2 | clogged false | passed true | engaged false | stop false| right of way false\n",
      "veh 5 | clogged false | passed false | engaged false | stop true| right of way true\n",
      "veh 6 | clogged false | passed false | engaged false | stop true| right of way true\n",
      "veh 4 | clogged false | passed false | engaged false | stop false| right of way true\n",
      "veh 3 | clogged false | passed false | engaged false | stop false| right of way false\n",
      "veh 2 | clogged false | passed true | engaged false | stop false| right of way false\n",
      "veh 5 | clogged false | passed false | engaged false | stop true| right of way true\n",
      "veh 6 | clogged false | passed false | engaged false | stop true| right of way true\n",
      "veh 4 | clogged false | passed false | engaged false | stop false| right of way true\n",
      "veh 3 | clogged false | passed false | engaged false | stop false| right of way false\n"
     ]
    },
    {
     "name": "stdout",
     "output_type": "stream",
     "text": [
      "veh 2 | clogged false | passed true | engaged false | stop false| right of way false\n",
      "veh 5 | clogged false | passed false | engaged false | stop true| right of way true\n",
      "veh 6 | clogged false | passed false | engaged false | stop true| right of way true\n",
      "veh 4 | clogged false | passed false | engaged false | stop false| right of way true\n",
      "veh 3 | clogged false | passed false | engaged false | stop false| right of way false\n",
      "veh 2 | clogged false | passed true | engaged false | stop false| right of way false\n",
      "veh 5 | clogged false | passed false | engaged false | stop true| right of way true\n",
      "veh 6 | clogged false | passed false | engaged false | stop true| right of way true\n",
      "veh 4 | clogged false | passed false | engaged false | stop false| right of way true\n",
      "veh 3 | clogged false | passed false | engaged false | stop false| right of way false\n",
      "veh 2 | clogged false | passed true | engaged false | stop false| right of way false\n",
      "veh 5 | clogged false | passed false | engaged false | stop true| right of way true\n",
      "veh 6 | clogged false | passed false | engaged false | stop true| right of way true\n",
      "veh 4 | clogged false | passed false | engaged false | stop false| right of way true\n",
      "veh 3 | clogged false | passed false | engaged false | stop false| right of way false\n",
      "veh 2 | clogged false | passed true | engaged false | stop false| right of way false\n",
      "veh 5 | clogged false | passed false | engaged false | stop true| right of way true\n",
      "veh 6 | clogged false | passed false | engaged false | stop true| right of way true\n",
      "veh 4 | clogged false | passed false | engaged false | stop false| right of way true\n",
      "veh 3 | clogged false | passed false | engaged false | stop false| right of way false\n",
      "veh 2 | clogged false | passed true | engaged false | stop false| right of way false\n",
      "veh 5 | clogged false | passed false | engaged false | stop true| right of way true\n",
      "veh 6 | clogged false | passed false | engaged false | stop true| right of way true\n",
      "veh 4 | clogged false | passed false | engaged false | stop false| right of way true\n",
      "veh 3 | clogged false | passed false | engaged false | stop false| right of way false\n",
      "veh 2 | clogged false | passed true | engaged false | stop false| right of way false\n",
      "veh 5 | clogged false | passed false | engaged false | stop true| right of way true\n",
      "veh 6 | clogged false | passed false | engaged false | stop true| right of way true\n",
      "veh 4 | clogged false | passed false | engaged false | stop false| right of way true\n",
      "veh 3 | clogged false | passed false | engaged false | stop false| right of way false\n",
      "veh 2 | clogged false | passed true | engaged false | stop false| right of way false\n",
      "veh 5 | clogged false | passed false | engaged false | stop true| right of way true\n",
      "veh 6 | clogged false | passed false | engaged false | stop true| right of way true\n",
      "veh 4 | clogged false | passed false | engaged false | stop false| right of way true\n",
      "veh 3 | clogged false | passed false | engaged false | stop false| right of way false\n",
      "veh 2 | clogged false | passed true | engaged false | stop false| right of way false\n",
      "veh 5 | clogged false | passed false | engaged false | stop true| right of way true\n",
      "veh 6 | clogged false | passed false | engaged false | stop true| right of way true\n",
      "veh 4 | clogged false | passed false | engaged false | stop false| right of way true\n",
      "veh 3 | clogged false | passed false | engaged false | stop false| right of way false\n",
      "veh 2 | clogged false | passed true | engaged false | stop false| right of way false\n",
      "veh 5 | clogged false | passed false | engaged false | stop true| right of way true\n",
      "veh 6 | clogged false | passed false | engaged false | stop true| right of way true\n",
      "veh 4 | clogged false | passed false | engaged false | stop false| right of way true\n",
      "veh 3 | clogged false | passed false | engaged false | stop false| right of way false\n",
      "veh 2 | clogged false | passed true | engaged false | stop false| right of way false\n",
      "veh 5 | clogged false | passed false | engaged false | stop true| right of way true\n",
      "veh 6 | clogged false | passed false | engaged false | stop true| right of way true\n",
      "veh 4 | clogged false | passed false | engaged false | stop false| right of way true\n",
      "veh 3 | clogged false | passed false | engaged false | stop false| right of way false\n",
      "veh 2 | clogged false | passed true | engaged false | stop false| right of way false\n",
      "veh 5 | clogged false | passed false | engaged false | stop true| right of way true\n",
      "veh 6 | clogged false | passed false | engaged false | stop true| right of way true\n",
      "veh 4 | clogged false | passed false | engaged false | stop false| right of way true\n",
      "veh 3 | clogged false | passed false | engaged false | stop false| right of way false\n",
      "veh 2 | clogged false | passed true | engaged false | stop false| right of way false\n",
      "veh 5 | clogged false | passed false | engaged false | stop true| right of way true\n",
      "veh 6 | clogged false | passed false | engaged false | stop true| right of way true\n",
      "veh 4 | clogged false | passed false | engaged false | stop false| right of way true\n",
      "veh 3 | clogged false | passed false | engaged false | stop false| right of way false\n",
      "veh 5 | clogged false | passed false | engaged false | stop true| right of way true\n",
      "veh 6 | clogged false | passed false | engaged false | stop true| right of way true\n",
      "veh 4 | clogged false | passed false | engaged false | stop false| right of way true\n",
      "veh 3 | clogged false | passed false | engaged false | stop false| right of way false\n",
      "veh 2 | clogged false | passed false | engaged false | stop false| right of way true\n",
      "veh 5 | clogged false | passed false | engaged false | stop true| right of way true\n",
      "veh 6 | clogged false | passed false | engaged false | stop true| right of way true\n",
      "veh 4 | clogged false | passed false | engaged false | stop false| right of way true\n",
      "veh 3 | clogged false | passed false | engaged false | stop false| right of way false\n",
      "veh 2 | clogged false | passed false | engaged false | stop false| right of way true\n",
      "veh 5 | clogged false | passed false | engaged false | stop true| right of way true\n",
      "veh 6 | clogged false | passed false | engaged false | stop true| right of way true\n",
      "veh 4 | clogged false | passed false | engaged false | stop false| right of way true\n",
      "veh 3 | clogged false | passed false | engaged false | stop false| right of way false\n",
      "veh 2 | clogged false | passed false | engaged false | stop false| right of way true\n",
      "veh 5 | clogged false | passed false | engaged false | stop true| right of way true\n",
      "veh 6 | clogged false | passed false | engaged false | stop true| right of way true\n",
      "veh 4 | clogged false | passed false | engaged false | stop false| right of way true\n",
      "veh 3 | clogged false | passed false | engaged false | stop false| right of way false\n",
      "veh 2 | clogged false | passed false | engaged false | stop false| right of way true\n",
      "veh 5 | clogged false | passed false | engaged false | stop true| right of way true\n",
      "veh 6 | clogged false | passed false | engaged false | stop true| right of way true\n",
      "veh 4 | clogged false | passed false | engaged false | stop false| right of way true\n",
      "veh 3 | clogged false | passed false | engaged false | stop false| right of way false\n",
      "veh 2 | clogged false | passed false | engaged false | stop false| right of way true\n",
      "veh 5 | clogged false | passed false | engaged false | stop true| right of way true\n",
      "veh 6 | clogged false | passed false | engaged false | stop true| right of way true\n",
      "veh 4 | clogged false | passed false | engaged false | stop false| right of way true\n",
      "veh 3 | clogged false | passed false | engaged false | stop false| right of way false\n",
      "veh 2 | clogged false | passed false | engaged false | stop false| right of way true\n",
      "veh 5 | clogged false | passed false | engaged false | stop true| right of way true\n",
      "veh 6 | clogged false | passed false | engaged false | stop true| right of way true\n",
      "veh 4 | clogged false | passed false | engaged false | stop false| right of way true\n",
      "veh 3 | clogged false | passed false | engaged false | stop false| right of way false\n",
      "veh 2 | clogged false | passed false | engaged false | stop false| right of way true\n",
      "veh 5 | clogged false | passed false | engaged false | stop true| right of way true\n",
      "veh 6 | clogged false | passed false | engaged false | stop true| right of way true\n",
      "veh 4 | clogged false | passed false | engaged false | stop false| right of way true\n",
      "veh 3 | clogged false | passed false | engaged false | stop false| right of way false\n",
      "veh 2 | clogged false | passed false | engaged false | stop false| right of way true\n",
      "veh 5 | clogged false | passed false | engaged false | stop true| right of way true\n",
      "veh 6 | clogged false | passed false | engaged false | stop true| right of way true\n",
      "veh 4 | clogged false | passed false | engaged false | stop false| right of way true\n",
      "veh 3 | clogged false | passed false | engaged false | stop false| right of way false\n",
      "veh 2 | clogged false | passed false | engaged false | stop false| right of way true\n",
      "veh 5 | clogged false | passed false | engaged false | stop true| right of way true\n",
      "veh 6 | clogged false | passed false | engaged false | stop true| right of way true\n",
      "veh 4 | clogged false | passed false | engaged false | stop false| right of way true\n",
      "veh 3 | clogged false | passed false | engaged false | stop false| right of way false\n",
      "veh 2 | clogged false | passed false | engaged false | stop false| right of way true\n",
      "veh 5 | clogged true | passed false | engaged false | stop true| right of way true\n",
      "veh 6 | clogged true | passed false | engaged false | stop true| right of way true\n",
      "veh 4 | clogged true | passed false | engaged false | stop false| right of way true\n",
      "veh 3 | clogged true | passed false | engaged false | stop false| right of way false\n",
      "veh 2 | clogged true | passed false | engaged false | stop false| right of way true\n",
      "veh 5 | clogged true | passed false | engaged false | stop true| right of way true\n",
      "veh 6 | clogged true | passed false | engaged false | stop true| right of way true\n",
      "veh 4 | clogged true | passed false | engaged false | stop false| right of way true\n",
      "veh 3 | clogged true | passed false | engaged false | stop false| right of way false\n",
      "veh 2 | clogged true | passed false | engaged false | stop false| right of way true\n",
      "veh 5 | clogged true | passed false | engaged false | stop true| right of way true\n"
     ]
    },
    {
     "name": "stdout",
     "output_type": "stream",
     "text": [
      "veh 6 | clogged true | passed false | engaged false | stop true| right of way true\n",
      "veh 4 | clogged true | passed false | engaged false | stop false| right of way true\n",
      "veh 3 | clogged true | passed false | engaged false | stop false| right of way false\n",
      "veh 2 | clogged true | passed false | engaged false | stop false| right of way true\n",
      "veh 5 | clogged true | passed false | engaged false | stop true| right of way true\n",
      "veh 6 | clogged true | passed false | engaged false | stop true| right of way true\n",
      "veh 4 | clogged true | passed false | engaged false | stop false| right of way true\n",
      "veh 3 | clogged true | passed false | engaged false | stop false| right of way false\n",
      "veh 2 | clogged true | passed false | engaged false | stop false| right of way true\n",
      "veh 5 | clogged true | passed false | engaged false | stop true| right of way true\n",
      "veh 6 | clogged true | passed false | engaged false | stop true| right of way true\n",
      "veh 4 | clogged true | passed false | engaged false | stop false| right of way true\n",
      "veh 3 | clogged true | passed false | engaged false | stop false| right of way false\n",
      "veh 2 | clogged true | passed false | engaged false | stop false| right of way true\n",
      "veh 5 | clogged true | passed false | engaged false | stop true| right of way true\n",
      "veh 6 | clogged true | passed false | engaged false | stop true| right of way true\n",
      "veh 4 | clogged true | passed false | engaged false | stop false| right of way true\n",
      "veh 3 | clogged true | passed false | engaged false | stop false| right of way false\n",
      "veh 2 | clogged true | passed false | engaged false | stop false| right of way true\n",
      "veh 5 | clogged true | passed false | engaged false | stop true| right of way true\n",
      "veh 6 | clogged true | passed false | engaged false | stop true| right of way true\n",
      "veh 4 | clogged true | passed false | engaged false | stop false| right of way true\n",
      "veh 3 | clogged true | passed false | engaged false | stop false| right of way false\n",
      "veh 2 | clogged true | passed false | engaged false | stop false| right of way true\n",
      "veh 5 | clogged true | passed false | engaged false | stop true| right of way true\n",
      "veh 6 | clogged true | passed false | engaged false | stop true| right of way true\n",
      "veh 4 | clogged true | passed false | engaged false | stop false| right of way true\n",
      "veh 3 | clogged true | passed false | engaged false | stop false| right of way false\n",
      "veh 2 | clogged true | passed false | engaged false | stop false| right of way true\n",
      "  1.113485 seconds (616.92 k allocations: 35.666 MiB, 2.87% gc time)\n"
     ]
    }
   ],
   "source": [
    "still_policy = FunctionPolicy(s -> UrbanAction(0.))\n",
    "up = NothingUpdater()\n",
    "s0 = initialstate(pomdp, rng)\n",
    "models0 = deepcopy(pomdp.models)\n",
    "hr = HistoryRecorder(rng=rng, max_steps=200)\n",
    "@time hist = simulate(hr, pomdp, still_policy, up, nothing, s0);\n",
    "insert!(hist.info_hist, 1, models0);"
   ]
  },
  {
   "cell_type": "code",
   "execution_count": 19,
   "metadata": {
    "scrolled": false
   },
   "outputs": [
    {
     "data": {
      "text/html": [
       "<video autoplay controls><source src=\"files/reel-10710556601494776586.webm?17940395030995298164\" type=\"video/webm\"></video>"
      ],
      "text/plain": [
       "Frames{MIME{Symbol(\"image/png\")}}(\"/tmp/tmpya25PF\", 0x00000000000000c9, 20.0, nothing)"
      ]
     },
     "execution_count": 19,
     "metadata": {},
     "output_type": "execute_result"
    }
   ],
   "source": [
    "duration, fps, render_rec = animate_scenes(hist.state_hist, hist.info_hist, pomdp.env, overlays=SceneOverlay[IDOverlay()], sim_dt=pomdp.ΔT, cam = StaticCamera(VecE2(0., -8.), 14.0))\n",
    "speed_factor = 2\n",
    "film = roll(render_rec, fps = speed_factor*fps, duration = duration/speed_factor)"
   ]
  },
  {
   "cell_type": "markdown",
   "metadata": {},
   "source": [
    "## Debugging"
   ]
  },
  {
   "cell_type": "code",
   "execution_count": 10,
   "metadata": {},
   "outputs": [
    {
     "data": {
      "text/plain": [
       "TTCIntersectionDriver\n",
       "  a: LonAccelDirection\n",
       "  navigator: RouteFollowingIDM\n",
       "  intersection: Array{Lane}((2,))\n",
       "  intersection_pos: VecSE2{Float64}\n",
       "  ttc_threshold: Float64 3.0\n",
       "  horizon: Float64 20.0\n",
       "  stop_delta: Float64 4.0\n",
       "  accel_tol: Float64 0.0\n",
       "  priorities: Dict{Tuple{LaneTag,LaneTag},Bool}\n",
       "  priority: Bool false\n",
       "  stop: Bool false\n"
      ]
     },
     "execution_count": 10,
     "metadata": {},
     "output_type": "execute_result"
    }
   ],
   "source": [
    "step = 180\n",
    "s = hist.state_hist[step]\n",
    "vehid = 2\n",
    "veh = s[findfirst(vehid, s)]\n",
    "m = hist.info_hist[step][vehid]\n",
    "cwid = 2\n",
    "cwm = m.crosswalk_drivers[cwid]\n",
    "intm = m.intersection_driver"
   ]
  },
  {
   "cell_type": "code",
   "execution_count": 12,
   "metadata": {},
   "outputs": [
    {
     "name": "stdout",
     "output_type": "stream",
     "text": [
      "veh 2 | clogged true | passed false | engaged true | stop false| right of way true\n"
     ]
    },
    {
     "data": {
      "text/plain": [
       "TTCIntersectionDriver\n",
       "  a: LonAccelDirection\n",
       "  navigator: RouteFollowingIDM\n",
       "  intersection: Array{Lane}((2,))\n",
       "  intersection_pos: VecSE2{Float64}\n",
       "  ttc_threshold: Float64 3.0\n",
       "  horizon: Float64 20.0\n",
       "  stop_delta: Float64 4.0\n",
       "  accel_tol: Float64 0.0\n",
       "  priorities: Dict{Tuple{LaneTag,LaneTag},Bool}\n",
       "  priority: Bool false\n",
       "  stop: Bool false\n"
      ]
     },
     "execution_count": 12,
     "metadata": {},
     "output_type": "execute_result"
    }
   ],
   "source": [
    "AutomotivePOMDPs.observe!(deepcopy(intm), s, env.roadway, vehid)"
   ]
  },
  {
   "cell_type": "code",
   "execution_count": 13,
   "metadata": {},
   "outputs": [
    {
     "data": {
      "text/plain": [
       "4.914509131134061"
      ]
     },
     "execution_count": 13,
     "metadata": {},
     "output_type": "execute_result"
    }
   ],
   "source": [
    "veh = s[findfirst(3, s)]\n",
    "sqrt(normsquared(VecE2(intm.intersection_pos - veh.state.posG)))"
   ]
  },
  {
   "cell_type": "code",
   "execution_count": 106,
   "metadata": {},
   "outputs": [
    {
     "name": "stdout",
     "output_type": "stream",
     "text": [
      "is clogged: true\n",
      "ttc\n"
     ]
    },
    {
     "data": {
      "text/plain": [
       "0.3551011560345412"
      ]
     },
     "execution_count": 106,
     "metadata": {},
     "output_type": "execute_result"
    }
   ],
   "source": [
    "egoid = vehid\n",
    "scene = s\n",
    "model = deepcopy(intm)\n",
    "roadway = env.roadway\n",
    "ego = scene[findfirst(egoid, scene)]\n",
    "AutomotiveDrivingModels.observe!(model.navigator, scene, roadway, egoid) # set the direction\n",
    "dir = model.navigator.dir\n",
    "a_lon =0.\n",
    "a_lon_idm = model.navigator.a\n",
    "passed = AutomotivePOMDPs.has_passed(model, scene, roadway, egoid)\n",
    "is_engaged = AutomotivePOMDPs.engaged(model, scene, roadway, egoid)\n",
    "right_of_way = model.priorities[(model.navigator.route[1].tag,model.navigator.route[end].tag)]\n",
    "is_clogged = AutomotivePOMDPs.is_intersection_clogged(model, scene, roadway, egoid)\n",
    "println(\"is clogged: $is_clogged\")\n",
    "ttc = AutomotivePOMDPs.ttc_check(model, scene, roadway, egoid)\n",
    "println(\"ttc\")\n",
    "model.priority = ttc || right_of_way\n",
    "if !model.stop\n",
    "    AutomotivePOMDPs.update_stop!(model, ego, roadway)\n",
    "end\n",
    "\n",
    "if isempty(model.intersection) || passed \n",
    "    a_lon = a_lon_idm \n",
    "elseif !passed \n",
    "    if right_of_way\n",
    "        if is_clogged && !passed && is_engaged && !isapprox(ego.state.v, 0.)\n",
    "            println(\"Vehicle $egoid : emergency break\")\n",
    "            a_lon = -model.navigator.d_max\n",
    "        else\n",
    "            a_lon = a_lon_idm\n",
    "        end\n",
    "    else # left turn\n",
    "        if !ttc && !is_engaged  # before left turn\n",
    "            a_lon = min(a_lon_idm, stop_at_end(model, ego, roadway))\n",
    "        elseif  is_clogged && !passed && is_engaged && !isapprox(ego.state.v, 0.)\n",
    "            # println(\"Vehicle $egoid : emergency break\")\n",
    "            a_lon = -model.navigator.d_max\n",
    "        elseif ttc \n",
    "            a_lon = a_lon_idm \n",
    "        end\n",
    "    end\n",
    "end\n",
    "a_lon"
   ]
  },
  {
   "cell_type": "code",
   "execution_count": 71,
   "metadata": {},
   "outputs": [
    {
     "data": {
      "text/html": [
       "4 methods for generic function <b>get_neighbor_fore_along_lane</b>:<ul><li> get_neighbor_fore_along_lane<i>{S<:VehicleState, D<:Union{BicycleModel, VehicleDef}, I}</i>(scene::<b>Frame{Entity{S,D,I}}</b>, roadway::<b>Roadway</b>, tag_start::<b>LaneTag</b>, s_base::<b>Float64</b>; <i>max_distance_fore, index_to_ignore</i>) in AutomotiveDrivingModels at <a href=\"file:///mnt/c/Users/Maxime/wsl/.julia/packages/AutomotiveDrivingModels/V7hw8/src/2d/vehicles/scenes.jl\" target=\"_blank\">/mnt/c/Users/Maxime/wsl/.julia/packages/AutomotiveDrivingModels/V7hw8/src/2d/vehicles/scenes.jl:190</a></li> <li> get_neighbor_fore_along_lane<i>{S<:VehicleState, D<:Union{BicycleModel, VehicleDef}, I}</i>(scene::<b>Frame{Entity{S,D,I}}</b>, roadway::<b>Roadway</b>, tag_start::<b>LaneTag</b>, s_base::<b>Float64</b>, targetpoint_primary::<b>VehicleTargetPoint</b>, targetpoint_valid::<b>VehicleTargetPoint</b>; <i>max_distance_fore, index_to_ignore</i>) in AutomotiveDrivingModels at <a href=\"file:///mnt/c/Users/Maxime/wsl/.julia/packages/AutomotiveDrivingModels/V7hw8/src/2d/vehicles/scenes.jl\" target=\"_blank\">/mnt/c/Users/Maxime/wsl/.julia/packages/AutomotiveDrivingModels/V7hw8/src/2d/vehicles/scenes.jl:49</a></li> <li> get_neighbor_fore_along_lane<i>{S<:VehicleState, D<:Union{BicycleModel, VehicleDef}, I}</i>(scene::<b>Frame{Entity{S,D,I}}</b>, vehicle_index::<b>Int64</b>, roadway::<b>Roadway</b>; <i>max_distance_fore</i>) in AutomotiveDrivingModels at <a href=\"file:///mnt/c/Users/Maxime/wsl/.julia/packages/AutomotiveDrivingModels/V7hw8/src/2d/vehicles/scenes.jl\" target=\"_blank\">/mnt/c/Users/Maxime/wsl/.julia/packages/AutomotiveDrivingModels/V7hw8/src/2d/vehicles/scenes.jl:199</a></li> <li> get_neighbor_fore_along_lane<i>{S<:VehicleState, D<:Union{BicycleModel, VehicleDef}, I}</i>(scene::<b>Frame{Entity{S,D,I}}</b>, vehicle_index::<b>Int64</b>, roadway::<b>Roadway</b>, targetpoint_ego::<b>VehicleTargetPoint</b>, targetpoint_primary::<b>VehicleTargetPoint</b>, targetpoint_valid::<b>VehicleTargetPoint</b>; <i>max_distance_fore</i>) in AutomotiveDrivingModels at <a href=\"file:///mnt/c/Users/Maxime/wsl/.julia/packages/AutomotiveDrivingModels/V7hw8/src/2d/vehicles/scenes.jl\" target=\"_blank\">/mnt/c/Users/Maxime/wsl/.julia/packages/AutomotiveDrivingModels/V7hw8/src/2d/vehicles/scenes.jl:116</a></li> </ul>"
      ],
      "text/plain": [
       "# 4 methods for generic function \"get_neighbor_fore_along_lane\":\n",
       "[1] get_neighbor_fore_along_lane(scene::Frame{Entity{S,D,I}}, roadway::Roadway, tag_start::LaneTag, s_base::Float64; max_distance_fore, index_to_ignore) where {S<:VehicleState, D<:Union{BicycleModel, VehicleDef}, I} in AutomotiveDrivingModels at /mnt/c/Users/Maxime/wsl/.julia/packages/AutomotiveDrivingModels/V7hw8/src/2d/vehicles/scenes.jl:190\n",
       "[2] get_neighbor_fore_along_lane(scene::Frame{Entity{S,D,I}}, roadway::Roadway, tag_start::LaneTag, s_base::Float64, targetpoint_primary::VehicleTargetPoint, targetpoint_valid::VehicleTargetPoint; max_distance_fore, index_to_ignore) where {S<:VehicleState, D<:Union{BicycleModel, VehicleDef}, I} in AutomotiveDrivingModels at /mnt/c/Users/Maxime/wsl/.julia/packages/AutomotiveDrivingModels/V7hw8/src/2d/vehicles/scenes.jl:49\n",
       "[3] get_neighbor_fore_along_lane(scene::Frame{Entity{S,D,I}}, vehicle_index::Int64, roadway::Roadway; max_distance_fore) where {S<:VehicleState, D<:Union{BicycleModel, VehicleDef}, I} in AutomotiveDrivingModels at /mnt/c/Users/Maxime/wsl/.julia/packages/AutomotiveDrivingModels/V7hw8/src/2d/vehicles/scenes.jl:199\n",
       "[4] get_neighbor_fore_along_lane(scene::Frame{Entity{S,D,I}}, vehicle_index::Int64, roadway::Roadway, targetpoint_ego::VehicleTargetPoint, targetpoint_primary::VehicleTargetPoint, targetpoint_valid::VehicleTargetPoint; max_distance_fore) where {S<:VehicleState, D<:Union{BicycleModel, VehicleDef}, I} in AutomotiveDrivingModels at /mnt/c/Users/Maxime/wsl/.julia/packages/AutomotiveDrivingModels/V7hw8/src/2d/vehicles/scenes.jl:116"
      ]
     },
     "execution_count": 71,
     "metadata": {},
     "output_type": "execute_result"
    }
   ],
   "source": [
    "methods(get_neighbor_fore_along_lane)"
   ]
  },
  {
   "cell_type": "code",
   "execution_count": 111,
   "metadata": {},
   "outputs": [
    {
     "name": "stdout",
     "output_type": "stream",
     "text": [
      " ID 4 stop true priority false\n"
     ]
    },
    {
     "data": {
      "text/plain": [
       "LonAccelDirection(2.0, 1)"
      ]
     },
     "execution_count": 111,
     "metadata": {},
     "output_type": "execute_result"
    }
   ],
   "source": [
    "mm = deepcopy(m)\n",
    "observe!(mm, s, env.roadway, vehid)\n",
    "mm.a"
   ]
  },
  {
   "cell_type": "code",
   "execution_count": 105,
   "metadata": {},
   "outputs": [
    {
     "data": {
      "text/plain": [
       "LonAccelDirection(-0.2887047285775486, 1)"
      ]
     },
     "execution_count": 105,
     "metadata": {},
     "output_type": "execute_result"
    }
   ],
   "source": [
    "intm.priorities[(intm.navigator.route[1].tag,intm.navigator.route[end].tag)]\n",
    "intm.a"
   ]
  },
  {
   "cell_type": "code",
   "execution_count": 106,
   "metadata": {},
   "outputs": [
    {
     "data": {
      "text/plain": [
       "true"
      ]
     },
     "execution_count": 106,
     "metadata": {},
     "output_type": "execute_result"
    }
   ],
   "source": [
    "AutomotivePOMDPs.has_passed(intm, s, env.roadway, vehid)"
   ]
  },
  {
   "cell_type": "code",
   "execution_count": 110,
   "metadata": {},
   "outputs": [
    {
     "data": {
      "text/plain": [
       "true"
      ]
     },
     "execution_count": 110,
     "metadata": {},
     "output_type": "execute_result"
    }
   ],
   "source": [
    "AutomotivePOMDPs.engaged(intm, s, env.roadway, vehid)"
   ]
  },
  {
   "cell_type": "code",
   "execution_count": 107,
   "metadata": {},
   "outputs": [
    {
     "data": {
      "text/plain": [
       "LonAccelDirection(-0.2887047285775486, 1)"
      ]
     },
     "execution_count": 107,
     "metadata": {},
     "output_type": "execute_result"
    }
   ],
   "source": [
    "AutomotivePOMDPs.has_passed(cwm, veh, env.roadway)"
   ]
  },
  {
   "cell_type": "code",
   "execution_count": 94,
   "metadata": {},
   "outputs": [
    {
     "data": {
      "text/plain": [
       "false"
      ]
     },
     "execution_count": 94,
     "metadata": {},
     "output_type": "execute_result"
    }
   ],
   "source": [
    "AutomotivePOMDPs.ttc_check(intm, s, env.roadway, vehid)"
   ]
  },
  {
   "cell_type": "code",
   "execution_count": 55,
   "metadata": {},
   "outputs": [
    {
     "data": {
      "text/plain": [
       "1.9374590063330575"
      ]
     },
     "execution_count": 55,
     "metadata": {},
     "output_type": "execute_result"
    }
   ],
   "source": [
    "AutomotivePOMDPs.stop_at_end(intm, veh, env.roadway)"
   ]
  },
  {
   "cell_type": "code",
   "execution_count": 56,
   "metadata": {},
   "outputs": [
    {
     "data": {
      "text/plain": [
       "2.0"
      ]
     },
     "execution_count": 56,
     "metadata": {},
     "output_type": "execute_result"
    }
   ],
   "source": [
    "intm.navigator.a"
   ]
  },
  {
   "cell_type": "code",
   "execution_count": 253,
   "metadata": {},
   "outputs": [
    {
     "data": {
      "text/plain": [
       "true"
      ]
     },
     "execution_count": 253,
     "metadata": {},
     "output_type": "execute_result"
    }
   ],
   "source": [
    "veh2 = s[findfirst(5, s)]\n",
    "AutomotivePOMDPs.is_behind(veh, veh2, env.roadway)"
   ]
  },
  {
   "cell_type": "code",
   "execution_count": 251,
   "metadata": {},
   "outputs": [
    {
     "data": {
      "text/plain": [
       "Frenet(RoadIndex({0, 0.000000}, {10, 1}), 0.000, -0.000, 0.000)"
      ]
     },
     "execution_count": 251,
     "metadata": {},
     "output_type": "execute_result"
    }
   ],
   "source": [
    "lane1 = get_lane(env.roadway, veh)\n",
    "# project veh2 on lane2 \n",
    "veh2_l1 = Frenet(veh2.state.posG, lane1, env.roadway)\n",
    "Frenet(proj(veh2.state.posG, lane1, env.roadway, move_along_curves=false), env.roadway)"
   ]
  },
  {
   "cell_type": "code",
   "execution_count": 222,
   "metadata": {},
   "outputs": [
    {
     "data": {
      "text/plain": [
       "(:ind, :Δs)"
      ]
     },
     "execution_count": 222,
     "metadata": {},
     "output_type": "execute_result"
    }
   ],
   "source": [
    "get_neighbor_rear_along_lane(s, vehid, env.roadway)\n",
    "fieldnames(NeighborLongitudinalResult)"
   ]
  },
  {
   "cell_type": "code",
   "execution_count": 216,
   "metadata": {},
   "outputs": [
    {
     "data": {
      "text/html": [
       "4 methods for generic function <b>get_neighbor_rear_along_lane</b>:<ul><li> get_neighbor_rear_along_lane<i>{S<:VehicleState, D<:Union{BicycleModel, VehicleDef}, I}</i>(scene::<b>Frame{Entity{S,D,I}}</b>, roadway::<b>Roadway</b>, tag_start::<b>LaneTag</b>, s_base::<b>Float64</b>; <i>max_distance_rear, index_to_ignore</i>) in AutomotiveDrivingModels at <a href=\"https://github.com/sisl/AutomotiveDrivingModels.jl/tree/5d909d270d905120c24453cb0440510eabf05e78//src/2d/vehicles/scenes.jl#L380\" target=\"_blank\">/mnt/c/Users/Maxime/wsl/.julia/dev/AutomotiveDrivingModels/src/2d/vehicles/scenes.jl:380</a></li> <li> get_neighbor_rear_along_lane<i>{S<:VehicleState, D<:Union{BicycleModel, VehicleDef}, I}</i>(scene::<b>Frame{Entity{S,D,I}}</b>, roadway::<b>Roadway</b>, tag_start::<b>LaneTag</b>, s_base::<b>Float64</b>, targetpoint_primary::<b>VehicleTargetPoint</b>, targetpoint_valid::<b>VehicleTargetPoint</b>; <i>max_distance_rear, index_to_ignore</i>) in AutomotiveDrivingModels at <a href=\"https://github.com/sisl/AutomotiveDrivingModels.jl/tree/5d909d270d905120c24453cb0440510eabf05e78//src/2d/vehicles/scenes.jl#L231\" target=\"_blank\">/mnt/c/Users/Maxime/wsl/.julia/dev/AutomotiveDrivingModels/src/2d/vehicles/scenes.jl:231</a></li> <li> get_neighbor_rear_along_lane<i>{S<:VehicleState, D<:Union{BicycleModel, VehicleDef}, I}</i>(scene::<b>Frame{Entity{S,D,I}}</b>, vehicle_index::<b>Int64</b>, roadway::<b>Roadway</b>; <i>max_distance_rear</i>) in AutomotiveDrivingModels at <a href=\"https://github.com/sisl/AutomotiveDrivingModels.jl/tree/5d909d270d905120c24453cb0440510eabf05e78//src/2d/vehicles/scenes.jl#L389\" target=\"_blank\">/mnt/c/Users/Maxime/wsl/.julia/dev/AutomotiveDrivingModels/src/2d/vehicles/scenes.jl:389</a></li> <li> get_neighbor_rear_along_lane<i>{S<:VehicleState, D<:Union{BicycleModel, VehicleDef}, I}</i>(scene::<b>Frame{Entity{S,D,I}}</b>, vehicle_index::<b>Int64</b>, roadway::<b>Roadway</b>, targetpoint_ego::<b>VehicleTargetPoint</b>, targetpoint_primary::<b>VehicleTargetPoint</b>, targetpoint_valid::<b>VehicleTargetPoint</b>; <i>max_distance_rear</i>) in AutomotiveDrivingModels at <a href=\"https://github.com/sisl/AutomotiveDrivingModels.jl/tree/5d909d270d905120c24453cb0440510eabf05e78//src/2d/vehicles/scenes.jl#L306\" target=\"_blank\">/mnt/c/Users/Maxime/wsl/.julia/dev/AutomotiveDrivingModels/src/2d/vehicles/scenes.jl:306</a></li> </ul>"
      ],
      "text/plain": [
       "# 4 methods for generic function \"get_neighbor_rear_along_lane\":\n",
       "[1] get_neighbor_rear_along_lane(scene::Frame{Entity{S,D,I}}, roadway::Roadway, tag_start::LaneTag, s_base::Float64; max_distance_rear, index_to_ignore) where {S<:VehicleState, D<:Union{BicycleModel, VehicleDef}, I} in AutomotiveDrivingModels at /mnt/c/Users/Maxime/wsl/.julia/dev/AutomotiveDrivingModels/src/2d/vehicles/scenes.jl:380\n",
       "[2] get_neighbor_rear_along_lane(scene::Frame{Entity{S,D,I}}, roadway::Roadway, tag_start::LaneTag, s_base::Float64, targetpoint_primary::VehicleTargetPoint, targetpoint_valid::VehicleTargetPoint; max_distance_rear, index_to_ignore) where {S<:VehicleState, D<:Union{BicycleModel, VehicleDef}, I} in AutomotiveDrivingModels at /mnt/c/Users/Maxime/wsl/.julia/dev/AutomotiveDrivingModels/src/2d/vehicles/scenes.jl:231\n",
       "[3] get_neighbor_rear_along_lane(scene::Frame{Entity{S,D,I}}, vehicle_index::Int64, roadway::Roadway; max_distance_rear) where {S<:VehicleState, D<:Union{BicycleModel, VehicleDef}, I} in AutomotiveDrivingModels at /mnt/c/Users/Maxime/wsl/.julia/dev/AutomotiveDrivingModels/src/2d/vehicles/scenes.jl:389\n",
       "[4] get_neighbor_rear_along_lane(scene::Frame{Entity{S,D,I}}, vehicle_index::Int64, roadway::Roadway, targetpoint_ego::VehicleTargetPoint, targetpoint_primary::VehicleTargetPoint, targetpoint_valid::VehicleTargetPoint; max_distance_rear) where {S<:VehicleState, D<:Union{BicycleModel, VehicleDef}, I} in AutomotiveDrivingModels at /mnt/c/Users/Maxime/wsl/.julia/dev/AutomotiveDrivingModels/src/2d/vehicles/scenes.jl:306"
      ]
     },
     "execution_count": 216,
     "metadata": {},
     "output_type": "execute_result"
    }
   ],
   "source": [
    "methods(get_neighbor_rear_along_lane)"
   ]
  },
  {
   "cell_type": "code",
   "execution_count": 150,
   "metadata": {},
   "outputs": [
    {
     "data": {
      "text/plain": [
       "(-1.497428808846675, LonAccelDirection(-1.497428808846675, 1), 0.0)"
      ]
     },
     "execution_count": 150,
     "metadata": {},
     "output_type": "execute_result"
    }
   ],
   "source": [
    "cwm.wait_list\n",
    "cwm.a\n",
    "\n",
    "# AutomotivePOMDPs.update_priority!(cwm, s, env.roadway, vehid)\n",
    "cwm.a\n",
    "dist_to_cw = AutomotivePOMDPs.get_distance_to_crosswalk(cwm, veh, env.roadway, -cwm.stop_delta)\n",
    "# AutomotivePOMDPs.stop_at_dist(cwm, veh, dist_to_cw)\n",
    "cwm.navigator.a, cwm.a, veh.state.v"
   ]
  },
  {
   "cell_type": "code",
   "execution_count": 31,
   "metadata": {},
   "outputs": [],
   "source": [
    "using Parameters\n",
    "@with_kw struct BlinkerOverlay <: SceneOverlay\n",
    "    on::Bool = false \n",
    "    right::Bool = true\n",
    "    veh::Vehicle = Vehicle(VehicleState(), VehicleDef(), 0)\n",
    "    color::Colorant = colorant\"0xFFEF00FF\" # yellow \n",
    "    size::Float64 = 0.3\n",
    "end\n",
    "\n",
    "function AutoViz.render!(rendermodel::RenderModel, overlay::BlinkerOverlay, scene::Scene, roadway::Roadway)\n",
    "    if !overlay.on\n",
    "        return nothing \n",
    "    end\n",
    "    if overlay.right \n",
    "        pos = get_front(overlay.veh) + polar(overlay.veh.def.width/2, overlay.veh.state.posG.θ - pi/2)\n",
    "    else\n",
    "        pos = get_front(overlay.veh) + polar(overlay.veh.def.width/2, overlay.veh.state.posG.θ + pi/2)\n",
    "    end\n",
    "    add_instruction!(rendermodel, render_circle, (pos.x, pos.y, overlay.size, overlay.color))    \n",
    "end"
   ]
  },
  {
   "cell_type": "code",
   "execution_count": 34,
   "metadata": {},
   "outputs": [
    {
     "data": {
      "image/png": "[encoded data removed]",
      "text/plain": [
       "Cairo.CairoSurfaceBase{UInt32}(Ptr{Nothing} @0x000000000546cb40, 1000.0, 600.0)"
      ]
     },
     "execution_count": 34,
     "metadata": {},
     "output_type": "execute_result"
    }
   ],
   "source": [
    "scene = Scene()\n",
    "veh = hist.state_hist[1][3]\n",
    "push!(scene, veh)\n",
    "AutoViz.render(scene, env.roadway, SceneOverlay[BlinkerOverlay(on=true, right=false, veh=veh)], cam=FitToContentCamera(0.0))"
   ]
  },
  {
   "cell_type": "code",
   "execution_count": 10,
   "metadata": {},
   "outputs": [],
   "source": [
    "using Vec"
   ]
  },
  {
   "cell_type": "code",
   "execution_count": 11,
   "metadata": {},
   "outputs": [
    {
     "name": "stdout",
     "output_type": "stream",
     "text": [
      "search: \u001b[0m\u001b[1mp\u001b[22m\u001b[0m\u001b[1mo\u001b[22m\u001b[0m\u001b[1ml\u001b[22m\u001b[0m\u001b[1ma\u001b[22m\u001b[0m\u001b[1mr\u001b[22m get_\u001b[0m\u001b[1mp\u001b[22m\u001b[0m\u001b[1mo\u001b[22m\u001b[0m\u001b[1ml\u001b[22m\u001b[0m\u001b[1ma\u001b[22m\u001b[0m\u001b[1mr\u001b[22m_angle \u001b[0m\u001b[1mP\u001b[22m\u001b[0m\u001b[1mo\u001b[22m\u001b[0m\u001b[1ml\u001b[22micyWr\u001b[0m\u001b[1ma\u001b[22mppe\u001b[0m\u001b[1mr\u001b[22m \u001b[0m\u001b[1mP\u001b[22m\u001b[0m\u001b[1mO\u001b[22mMDPSimu\u001b[0m\u001b[1ml\u001b[22m\u001b[0m\u001b[1ma\u001b[22mto\u001b[0m\u001b[1mr\u001b[22ms\n",
      "\n"
     ]
    },
    {
     "data": {
      "text/markdown": [
       "No documentation found.\n",
       "\n",
       "`Vec.polar` is a `Function`.\n",
       "\n",
       "```\n",
       "# 2 methods for generic function \"polar\":\n",
       "[1] polar(r::Real, θ::Real) in Vec at /mnt/c/Users/Maxime/wsl/.julia/packages/Vec/IUi0p/src/vecE2.jl:13\n",
       "[2] polar(r::Real, ϕ::Real, θ::Real) in Vec at /mnt/c/Users/Maxime/wsl/.julia/packages/Vec/IUi0p/src/vecSE2.jl:19\n",
       "```\n"
      ],
      "text/plain": [
       "  No documentation found.\n",
       "\n",
       "  \u001b[36mVec.polar\u001b[39m is a \u001b[36mFunction\u001b[39m.\n",
       "\n",
       "\u001b[36m  # 2 methods for generic function \"polar\":\u001b[39m\n",
       "\u001b[36m  [1] polar(r::Real, θ::Real) in Vec at /mnt/c/Users/Maxime/wsl/.julia/packages/Vec/IUi0p/src/vecE2.jl:13\u001b[39m\n",
       "\u001b[36m  [2] polar(r::Real, ϕ::Real, θ::Real) in Vec at /mnt/c/Users/Maxime/wsl/.julia/packages/Vec/IUi0p/src/vecSE2.jl:19\u001b[39m"
      ]
     },
     "execution_count": 11,
     "metadata": {},
     "output_type": "execute_result"
    }
   ],
   "source": [
    "?polar"
   ]
  },
  {
   "cell_type": "code",
   "execution_count": null,
   "metadata": {},
   "outputs": [],
   "source": []
  }
 ],
 "metadata": {
  "kernelspec": {
   "display_name": "Julia 1.0.0",
   "language": "julia",
   "name": "julia-1.0"
  },
  "language_info": {
   "file_extension": ".jl",
   "mimetype": "application/julia",
   "name": "julia",
   "version": "1.0.0"
  }
 },
 "nbformat": 4,
 "nbformat_minor": 2
}
