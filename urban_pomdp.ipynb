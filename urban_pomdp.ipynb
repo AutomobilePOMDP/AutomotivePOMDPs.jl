{
 "cells": [
  {
   "cell_type": "markdown",
   "metadata": {},
   "source": [
    "# Urban POMDP"
   ]
  },
  {
   "cell_type": "code",
   "execution_count": 1,
   "metadata": {},
   "outputs": [
    {
     "name": "stderr",
     "output_type": "stream",
     "text": [
      "WARNING: Method definition info"
     ]
    }
   ],
   "source": [
    "using POMDPs, StatsBase, POMDPToolbox, DeepRL, Parameters, GridInterpolations\n",
    "using AutomotiveDrivingModels,AutoViz\n",
    "using Reel "
   ]
  },
  {
   "cell_type": "code",
   "execution_count": 2,
   "metadata": {},
   "outputs": [
    {
     "name": "stderr",
     "output_type": "stream",
     "text": [
      "(Any...) in module Base at util.jl:532 overwritten in module Logging at C:\\Users\\Maxime\\.julia\\v0.6\\Logging\\src\\Logging.jl:115.\n",
      "WARNING: Method definition warn(Any"
     ]
    }
   ],
   "source": [
    "include(\"AutomotivePOMDPs.jl\")\n",
    "using AutomotivePOMDPs"
   ]
  },
  {
   "cell_type": "code",
   "execution_count": 3,
   "metadata": {},
   "outputs": [
    {
     "name": "stderr",
     "output_type": "stream",
     "text": [
      "...) in module Base at util.jl:585 overwritten in module Logging at C:\\Users\\Maxime\\.julia\\v0.6\\Logging\\src\\Logging.jl:115.\n",
      "WARNING: Method definition copy!("
     ]
    }
   ],
   "source": [
    "rng = MersenneTwister(1);"
   ]
  },
  {
   "cell_type": "code",
   "execution_count": 4,
   "metadata": {
    "scrolled": true
   },
   "outputs": [
    {
     "name": "stderr",
     "output_type": "stream",
     "text": [
      "Array{Float64, 1"
     ]
    },
    {
     "data": {
      "text/plain": [
       "AutomotivePOMDPs.UrbanPOMDP\n",
       "  env: AutomotivePOMDPs.UrbanEnv\n",
       "  obs_dist: AutomotivePOMDPs.ObstacleDistribution\n",
       "  sensor: AutomotiveDrivingModels.LidarSensor\n",
       "  models: Dict{Int64,AutomotiveDrivingModels.DriverModel}\n",
       "  ego_type: AutomotiveDrivingModels.VehicleDef\n",
       "  car_type: AutomotiveDrivingModels.VehicleDef\n",
       "  ped_type: AutomotiveDrivingModels.VehicleDef\n",
       "  max_cars: Int64 0\n",
       "  max_peds: Int64 1\n",
       "  max_entities: Int64 10\n",
       "  max_acc: Float64 2.0\n",
       "  ego_start: Float64 7.0\n",
       "  ego_goal: AutomotiveDrivingModels.LaneTag\n",
       "  off_grid: Vec.VecSE2\n",
       "  ΔT: Float64 0.5\n",
       "  car_birth: Float64 0.3\n",
       "  ped_birth: Float64 0.5\n",
       "  a_noise: Float64 1.0\n",
       "  v_noise: Float64 1.0\n",
       "  pos_obs_noise: Float64 0.5\n",
       "  vel_obs_noise: Float64 0.5\n",
       "  collision_cost: Float64 -1.0\n",
       "  action_cost: Float64 0.0\n",
       "  goal_reward: Float64 1.0\n",
       "  γ: Float64 0.95\n"
      ]
     },
     "execution_count": 4,
     "metadata": {},
     "output_type": "execute_result"
    },
    {
     "name": "stderr",
     "output_type": "stream",
     "text": [
      "}, AutomotiveDrivingModels.LatLonAccel"
     ]
    }
   ],
   "source": [
    "params = UrbanParams()\n",
    "env = UrbanEnv(params=params)\n",
    "obs_dist = ObstacleDistribution(env)\n",
    "pomdp = UrbanPOMDP(env=env, obs_dist=obs_dist, max_cars=0., max_peds=1, ped_birth=0.5)"
   ]
  },
  {
   "cell_type": "code",
   "execution_count": 5,
   "metadata": {},
   "outputs": [
    {
     "name": "stderr",
     "output_type": "stream",
     "text": [
      ") in module AutomotiveDrivingModels at C:\\Users\\Maxime\\.julia\\v0.6\\AutomotiveDrivingModels\\src\\2d\\actions\\lat_lon_accel.jl:13 overwritten in module AutoUrban at C:\\Users\\Maxime\\.julia\\v0.6\\AutoUrban\\src\\simulation\\actions.jl:10.\n",
      "WARNING: Method definition animate_scenes(Array{Records.Frame{Records.Entity{AutomotiveDrivingModels"
     ]
    }
   ],
   "source": [
    "policy = solve(RandomSolver(rng), pomdp)\n",
    "up = updater(policy);\n",
    "\n",
    "mutable struct AccelPolicy <: Policy\n",
    "    problem::UrbanPOMDP\n",
    "end\n",
    "policy = AccelPolicy(pomdp)\n",
    "function POMDPs.action(policy::AccelPolicy, b::Void)\n",
    "    return actions(policy.problem)[4]\n",
    "end"
   ]
  },
  {
   "cell_type": "code",
   "execution_count": 6,
   "metadata": {
    "scrolled": false
   },
   "outputs": [
    {
     "name": "stdout",
     "output_type": "stream",
     "text": [
      " "
     ]
    },
    {
     "name": "stderr",
     "output_type": "stream",
     "text": [
      ".VehicleState, AutomotiveDrivingModels.VehicleDef, Int64"
     ]
    },
    {
     "name": "stdout",
     "output_type": "stream",
     "text": [
      " 2.493922 seconds (1.06 M allocations: 55.691 MiB, 0.66% gc time)\n"
     ]
    },
    {
     "name": "stderr",
     "output_type": "stream",
     "text": [
      "}}, 1}, Any) in module AutomotivePOMDPs at C:\\Users\\Maxime\\OneDrive - Leland Stanford Junior University\\Research\\admscenarios\\utils/rendering.jl:21 overwritten at C:\\Users\\Maxime\\OneDrive - Leland Stanford Junior University\\Research\\admscenarios\\utils/rendering.jl:32.\n",
      "WARNING: Method definition #animate_scenes(Array{Any, 1}, typeof(AutomotivePOMDPs.animate_scenes), Array{Records.Frame{Records.Entity{AutomotiveDrivingModels.VehicleState, AutomotiveDrivingModels.VehicleDef, "
     ]
    }
   ],
   "source": [
    "hr = HistoryRecorder(rng=rng, max_steps=100)\n",
    "@time hist = simulate(hr, pomdp, policy, up);"
   ]
  },
  {
   "cell_type": "code",
   "execution_count": 7,
   "metadata": {},
   "outputs": [
    {
     "name": "stderr",
     "output_type": "stream",
     "text": [
      "Int64}}, 1}, Any) in module AutomotivePOMDPs overwritten.\n"
     ]
    },
    {
     "data": {
      "text/html": [
       "<video autoplay controls><source src=\"files/reel-4961185179007945089.webm?10229190291594555131\" type=\"video/webm\"></video>"
      ],
      "text/plain": [
       "Reel.Frames{MIME{Symbol(\"image/png\")}}(\"C:\\\\Users\\\\Maxime\\\\AppData\\\\Local\\\\Temp\\\\jl_2525.tmp\", 0x000000000000000f, 4.0, nothing)"
      ]
     },
     "execution_count": 7,
     "metadata": {},
     "output_type": "execute_result"
    }
   ],
   "source": [
    "duration, fps, render_hist = animate_scenes(hist.state_hist, pomdp.env, overlays = SceneOverlay[IDOverlay()], sim_dt=pomdp.ΔT)\n",
    "speed_factor = 2.\n",
    "film = roll(render_hist, fps = speed_factor*fps, duration = duration/speed_factor)"
   ]
  },
  {
   "cell_type": "code",
   "execution_count": 8,
   "metadata": {},
   "outputs": [
    {
     "name": "stdout",
     "output_type": "stream",
     "text": [
      "search: \u001b[1md\u001b[22m\u001b[1mi\u001b[22m\u001b[1ms\u001b[22m\u001b[1mc\u001b[22m\u001b[1mo\u001b[22m\u001b[1mu\u001b[22m\u001b[1mn\u001b[22m\u001b[1mt\u001b[22m\u001b[1me\u001b[22m\u001b[1md\u001b[22m\u001b[1m_\u001b[22m\u001b[1mr\u001b[22m\u001b[1me\u001b[22m\u001b[1mw\u001b[22m\u001b[1ma\u001b[22m\u001b[1mr\u001b[22m\u001b[1md\u001b[22m un\u001b[1md\u001b[22m\u001b[1mi\u001b[22m\u001b[1ms\u001b[22m\u001b[1mc\u001b[22m\u001b[1mo\u001b[22m\u001b[1mu\u001b[22m\u001b[1mn\u001b[22m\u001b[1mt\u001b[22m\u001b[1me\u001b[22m\u001b[1md\u001b[22m\u001b[1m_\u001b[22m\u001b[1mr\u001b[22m\u001b[1me\u001b[22m\u001b[1mw\u001b[22m\u001b[1ma\u001b[22m\u001b[1mr\u001b[22m\u001b[1md\u001b[22m\n",
      "\n"
     ]
    },
    {
     "data": {
      "text/markdown": [
       "No documentation found.\n",
       "\n",
       "`POMDPToolbox.discounted_reward` is a `Function`.\n",
       "\n",
       "```\n",
       "# 1 method for generic function \"discounted_reward\":\n",
       "discounted_reward(h::POMDPToolbox.SimHistory) in POMDPToolbox at C:\\Users\\Maxime\\.julia\\v0.6\\POMDPToolbox\\src\\simulators/history.jl:75\n",
       "```\n"
      ],
      "text/plain": [
       "No documentation found.\n",
       "\n",
       "`POMDPToolbox.discounted_reward` is a `Function`.\n",
       "\n",
       "```\n",
       "# 1 method for generic function \"discounted_reward\":\n",
       "discounted_reward(h::POMDPToolbox.SimHistory) in POMDPToolbox at C:\\Users\\Maxime\\.julia\\v0.6\\POMDPToolbox\\src\\simulators/history.jl:75\n",
       "```\n"
      ]
     },
     "execution_count": 8,
     "metadata": {},
     "output_type": "execute_result"
    }
   ],
   "source": [
    "?discounted_reward"
   ]
  },
  {
   "cell_type": "code",
   "execution_count": 10,
   "metadata": {
    "scrolled": true
   },
   "outputs": [
    {
     "name": "stdout",
     "output_type": "stream",
     "text": [
      "Crashes : 0.0 Successes 100.0 Time outs 0.0\n",
      "Crashes : 1.9 Successes 98.1 Time outs 0.0\n",
      "Crashes : 3.3 Successes 96.7 Time outs 0.0\n",
      "Crashes : 3.5 Successes 96.5 Time outs 0.0\n",
      "Crashes : 7.1 Successes 92.9 Time outs 0.0\n",
      "Crashes : 6.9 Successes 93.1 Time outs 0.0\n",
      "Crashes : 8.1 Successes 91.9 Time outs 0.0\n",
      "Crashes : 10.8 Successes 89.2 Time outs 0.0\n",
      "Crashes : 12.6 Successes 87.4 Time outs 0.0\n",
      "Crashes : 13.4 Successes 86.6 Time outs 0.0\n",
      "Crashes : 15.0 Successes 85.0 Time outs 0.0\n"
     ]
    }
   ],
   "source": [
    "# Fast evaluation\n",
    "probs = 0.:0.1:1.0\n",
    "crash_array = zeros(length(probs))\n",
    "for (j,prob) in enumerate(probs)\n",
    "    pomdp.ped_birth = prob\n",
    "    n_eval = 1000\n",
    "    crashes, time_outs, successes = 0, 0, 0\n",
    "#     sim = RolloutSimulator(rng=rng, max_steps=100)\n",
    "    for i=1:n_eval\n",
    "        hr = HistoryRecorder(rng=rng, max_steps=100)\n",
    "        hist = simulate(hr, pomdp, policy, up)\n",
    "        r_tot = discounted_reward(hist)\n",
    "        if r_tot < 0.\n",
    "            crashes += 1\n",
    "        elseif r_tot == 0.\n",
    "            time_outs += 1\n",
    "            return\n",
    "        else \n",
    "            successes += 1\n",
    "        end\n",
    "    end\n",
    "    crash_array[j] = crashes\n",
    "    println(\"Crashes : \", crashes/10, \" Successes \", successes/10, \" Time outs \", time_outs/10)\n",
    "end"
   ]
  },
  {
   "cell_type": "code",
   "execution_count": null,
   "metadata": {
    "collapsed": true
   },
   "outputs": [],
   "source": []
  },
  {
   "cell_type": "code",
   "execution_count": 9,
   "metadata": {},
   "outputs": [
    {
     "name": "stdout",
     "output_type": "stream",
     "text": [
      "LaneTag(20, 1)\n",
      "LaneTag(5, 1)\n"
     ]
    }
   ],
   "source": [
    "lane = rand(rng, get_lanes(pomdp.env.roadway))\n",
    "route = random_route(rng, pomdp.env.roadway, lane)\n",
    "for l in route\n",
    "    println(l.tag)\n",
    "end"
   ]
  },
  {
   "cell_type": "code",
   "execution_count": 16,
   "metadata": {},
   "outputs": [
    {
     "name": "stdout",
     "output_type": "stream",
     "text": [
      "LaneTag(5, 1)\n",
      "LaneTag(6, 1)\n"
     ]
    }
   ],
   "source": [
    "conflict_lanes = get_conflict_lanes(pomdp.env.crosswalks[3], pomdp.env.roadway)\n",
    "for l in conflict_lanes\n",
    "    println(l.tag)\n",
    "end"
   ]
  },
  {
   "cell_type": "code",
   "execution_count": null,
   "metadata": {
    "collapsed": true
   },
   "outputs": [],
   "source": [
    "intersect(conflict_lanes, route)"
   ]
  },
  {
   "cell_type": "code",
   "execution_count": null,
   "metadata": {
    "collapsed": true
   },
   "outputs": [],
   "source": []
  },
  {
   "cell_type": "code",
   "execution_count": 8,
   "metadata": {},
   "outputs": [
    {
     "data": {
      "image/png": "[encoded data removed]",
      "text/plain": [
       "Cairo.CairoSurface{UInt32}(Ptr{Void} @0x0000000004f83f00, 1000.0, 600.0, #undef)"
      ]
     },
     "execution_count": 8,
     "metadata": {},
     "output_type": "execute_result"
    }
   ],
   "source": [
    "AutoViz.render(initial_state(pomdp, rng, true), env, [IDOverlay()], cam=FitToContentCamera(0.))"
   ]
  },
  {
   "cell_type": "code",
   "execution_count": 20,
   "metadata": {
    "collapsed": true
   },
   "outputs": [],
   "source": [
    "n_steps = 100\n",
    "scenes = Scene[]\n",
    "pomdp.ped_birth = 0.5\n",
    "s = initial_state(pomdp, rng)\n",
    "push!(scenes, s)\n",
    "for step=1:n_steps\n",
    "    sp = generate_s(pomdp, s, UrbanAction(0.), rng)\n",
    "    s = sp\n",
    "    push!(scenes, s)\n",
    "end"
   ]
  },
  {
   "cell_type": "code",
   "execution_count": 21,
   "metadata": {},
   "outputs": [
    {
     "data": {
      "text/html": [
       "<video autoplay controls><source src=\"files/reel-4488851256438285102.webm?7666969246281496668\" type=\"video/webm\"></video>"
      ],
      "text/plain": [
       "Reel.Frames{MIME{Symbol(\"image/png\")}}(\"C:\\\\Users\\\\Maxime\\\\AppData\\\\Local\\\\Temp\\\\jl_9211.tmp\", 0x0000000000000065, 4.0, nothing)"
      ]
     },
     "execution_count": 21,
     "metadata": {},
     "output_type": "execute_result"
    }
   ],
   "source": [
    "duration, fps, render_hist = animate_scenes(scenes, pomdp.env, overlays = SceneOverlay[IDOverlay()], sim_dt=pomdp.ΔT)\n",
    "speed_factor = 2.\n",
    "film = roll(render_hist, fps = speed_factor*fps, duration = duration/speed_factor)"
   ]
  },
  {
   "cell_type": "code",
   "execution_count": 18,
   "metadata": {},
   "outputs": [
    {
     "data": {
      "text/plain": [
       "AutomotivePOMDPs.IntersectionDriver\n",
       "  a: AutomotivePOMDPs.LonAccelDirection\n",
       "  navigator: AutomotivePOMDPs.RouteFollowingIDM\n",
       "  intersection: Array{AutomotiveDrivingModels.Lane}((2,))\n",
       "  intersection_entrances: Array{AutomotiveDrivingModels.Lane}((5,))\n",
       "  intersection_exits: Array{AutomotiveDrivingModels.Lane}((8,))\n",
       "  horizon: Float64 20.0\n",
       "  stop_delta: Float64 4.0\n",
       "  accel_tol: Float64 0.0\n",
       "  have_wait_list: Bool false\n",
       "  wait_list: Array{Int64}((2,)) [9, 11]\n",
       "  priority: Bool false\n",
       "  stop: Bool true\n",
       "  n_yield: Int64 2\n"
      ]
     },
     "execution_count": 18,
     "metadata": {},
     "output_type": "execute_result"
    }
   ],
   "source": [
    "pomdp.models[7].intersection_driver"
   ]
  },
  {
   "cell_type": "code",
   "execution_count": 15,
   "metadata": {},
   "outputs": [
    {
     "data": {
      "text/plain": [
       "initial_pedestrian (generic function with 2 methods)"
      ]
     },
     "execution_count": 15,
     "metadata": {},
     "output_type": "execute_result"
    }
   ],
   "source": [
    "function initial_pedestrian(pomdp::UrbanPOMDP, scene::Scene, rng::AbstractRNG, first_scene::Bool = false)\n",
    "    env = pomdp.env\n",
    "    crosswalk_pos = env.params.crosswalk_pos\n",
    "\n",
    "    # position along the crosswalk\n",
    "    t0 = rand(rng, Uniform(-env.params.crosswalk_width/2, env.params.crosswalk_width/2))\n",
    "    s0 = rand(rng, [0., get_end(env.crosswalk)])\n",
    "    ϕ0 = float(π)\n",
    "    if s0 == 0.\n",
    "        ϕ0 = 0.\n",
    "    end\n",
    "    if first_scene\n",
    "        s0 = rand(rng, Uniform(0., get_end(env.crosswalk)))\n",
    "    end\n",
    "\n",
    "    #velocity\n",
    "    v0 = rand(rng, Uniform(0., env.params.ped_max_speed))\n",
    "    posF = Frenet(env.crosswalk, s0, t0, ϕ0)\n",
    "\n",
    "    ped_initial_state = VehicleState(posF, env.roadway, v0);\n",
    "\n",
    "    # new id, increment last id\n",
    "    max_id = 0\n",
    "    for veh in scene\n",
    "        if veh.id > max_id\n",
    "            max_id = veh.id\n",
    "        end\n",
    "    end\n",
    "    id = max_id + 1\n",
    "    if max_id == 0\n",
    "        id = 2\n",
    "    end\n",
    "\n",
    "\n",
    "    return Vehicle(ped_initial_state, AutomotivePOMDPs.PEDESTRIAN_DEF, id)\n",
    "end"
   ]
  },
  {
   "cell_type": "code",
   "execution_count": 33,
   "metadata": {},
   "outputs": [
    {
     "data": {
      "image/png": "[encoded data removed]",
      "text/plain": [
       "Cairo.CairoSurface{UInt32}(Ptr{Void} @0x0000000006d77280, 1000.0, 600.0, #undef)"
      ]
     },
     "execution_count": 33,
     "metadata": {},
     "output_type": "execute_result"
    }
   ],
   "source": [
    "scene = Scene()\n",
    "models = Dict{Int, DriverModel}()\n",
    "for i=1:5\n",
    "    ped = initial_pedestrian(pomdp, scene, rng, true)\n",
    "    push!(scene, ped)\n",
    "    models[ped.id] = ConstantPedestrian()\n",
    "end\n",
    "# car = initial_car(pomdp, scene, rng)\n",
    "# collision point 7.0, 4.5\n",
    "car = Vehicle(VehicleState(Frenet(env.roadway[LaneTag(3,1)], 0.), env.roadway, 6.), VehicleDef(), 1)\n",
    "push!(scene, car);\n",
    "AutoViz.render(scene, env, cam=FitToContentCamera(0.))"
   ]
  },
  {
   "cell_type": "code",
   "execution_count": 34,
   "metadata": {},
   "outputs": [
    {
     "name": "stdout",
     "output_type": "stream",
     "text": [
      "ID 1 priority false stop false a 2.0 wait list [2, 3, 4, 6] dist_to_cw 23.5\n",
      "inter 2.0\n",
      "crosswalk 2.0\n",
      "ID 1 priority false stop false a 2.0 wait list [2, 3, 4, 6] dist_to_cw 20.25\n",
      "inter 2.0\n",
      "crosswalk 2.0\n",
      "ID 1 priority false stop false a 1.0 wait list [2, 3, 4, 6] dist_to_cw 16.5\n",
      "inter 1.0\n",
      "crosswalk 1.0\n",
      "ID 1 priority false stop false a 0.5 wait list [2, 3, 4, 6] dist_to_cw 12.375\n",
      "inter 0.5\n",
      "crosswalk 0.5\n",
      "ID 1 priority false stop false a 0.25 wait list [2, 3, 6] dist_to_cw 8.0625\n",
      "inter 0.25\n",
      "crosswalk 0.25\n",
      "ID 1 priority false stop false a 0.125 wait list [2, 3, 6] dist_to_cw 3.65625\n",
      "inter 0.125\n",
      "crosswalk 0.125\n",
      "ID 1 priority false stop false a 0.0625 wait list [2, 3, 6] dist_to_cw 0.0\n",
      "inter 0.0625\n",
      "crosswalk 0.0625\n",
      "ID 1 priority false stop false a 0.03125 wait list [2, 3, 6] dist_to_cw 0.0\n",
      "inter 0.03125\n",
      "crosswalk 0.03125\n",
      "ID 1 priority false stop false a 0.015625 wait list [2, 3, 6] dist_to_cw 0.0\n",
      "inter 0.015625\n",
      "crosswalk 0.015625\n",
      "ID 1 priority false stop false a 0.0078125 wait list [2, 3, 6] dist_to_cw 0.0\n",
      "inter 0.0078125\n",
      "crosswalk 0.0078125\n",
      "ID 1 priority false stop false a 0.00390625 wait list [2, 3, 6] dist_to_cw 0.0\n",
      "inter 0.00390625\n",
      "crosswalk 0.00390625\n",
      "ID 1 priority false stop false a 0.001953125 wait list [2, 3] dist_to_cw 0.0\n",
      "inter 0.001953125\n",
      "crosswalk 0.001953125\n",
      "ID 1 priority false stop false a 0.0009765625 wait list [2] dist_to_cw 0.0\n",
      "inter 0.0009765625\n",
      "crosswalk 0.0009765625\n",
      "ID 1 priority false stop false a 0.00048828125 wait list [2] dist_to_cw 0.0\n",
      "inter 0.00048828125\n",
      "crosswalk 0.00048828125\n",
      "ID 1 priority false stop false a 0.000244140625 wait list [2] dist_to_cw 0.0\n",
      "inter 0.000244140625\n",
      "crosswalk 0.000244140625\n",
      "ID 1 priority false stop false a 0.0001220703125 wait list [2] dist_to_cw 0.0\n",
      "inter 0.0001220703125\n",
      "crosswalk 0.0001220703125\n",
      "ID 1 priority false stop false a 6.103515625e-5 wait list [2] dist_to_cw 0.0\n",
      "inter 6.103515625e-5\n",
      "crosswalk 6.103515625e-5\n",
      "ID 1 priority false stop false a 3.0517578125e-5 wait list [2] dist_to_cw 0.0\n",
      "inter 3.0517578125e-5\n",
      "crosswalk 3.0517578125e-5\n",
      "ID 1 priority false stop false a 1.52587890625e-5 wait list [2] dist_to_cw 0.0\n",
      "inter 1.52587890625e-5\n",
      "crosswalk 1.52587890625e-5\n",
      "ID 1 priority false stop false a 7.62939453125e-6 wait list [2] dist_to_cw 0.0\n",
      "inter 7.62939453125e-6\n",
      "crosswalk 7.62939453125e-6\n",
      "ID 1 priority false stop false a 3.814697265625e-6 wait list [2] dist_to_cw 0.0\n",
      "inter 3.814697265625e-6\n",
      "crosswalk 3.814697265625e-6\n",
      "ID 1 priority false stop false a 1.9073486328125e-6 wait list [2] dist_to_cw 0.0\n",
      "inter 1.9073486328125e-6\n",
      "crosswalk 1.9073486328125e-6\n",
      "ID 1 priority false stop false a 9.5367431640625e-7 wait list [2] dist_to_cw 0.0\n",
      "inter 9.5367431640625e-7\n",
      "crosswalk 9.5367431640625e-7\n",
      "ID 1 priority false stop false a 4.76837158203125e-7 wait list [2] dist_to_cw 0.0\n",
      "inter 4.76837158203125e-7\n",
      "crosswalk 4.76837158203125e-7\n",
      "ID 1 priority false stop false a 2.384185791015625e-7 wait list [2] dist_to_cw 0.0\n",
      "inter 2.384185791015625e-7\n",
      "crosswalk 2.384185791015625e-7\n",
      "ID 1 priority true stop false a 1.1920928955078125e-7 wait list Int64[] dist_to_cw 0.0\n",
      "inter 1.1920928955078125e-7\n",
      "crosswalk 1.1920928955078125e-7\n",
      "ID 1 priority true stop false a 5.960464477539063e-8 wait list Int64[] dist_to_cw 0.0\n",
      "inter 5.960464477539063e-8\n",
      "crosswalk 5.960464477539063e-8\n",
      "ID 1 priority true stop false a 2.9802322387695312e-8 wait list Int64[] dist_to_cw 0.0\n",
      "inter 2.9802322387695312e-8\n",
      "crosswalk 2.9802322387695312e-8\n",
      "ID 1 priority true stop false a 1.4901161193847656e-8 wait list Int64[] dist_to_cw 0.0\n",
      "inter 1.4901161193847656e-8\n",
      "crosswalk 1.4901161193847656e-8\n",
      "ID 1 priority true stop false a 7.450580596923828e-9 wait list Int64[] dist_to_cw 0.0\n",
      "inter 7.450580596923828e-9\n",
      "crosswalk 7.450580596923828e-9\n",
      "ID 1 priority true stop false a 3.725290298461914e-9 wait list Int64[] dist_to_cw 0.0\n",
      "inter 3.725290298461914e-9\n",
      "crosswalk 3.725290298461914e-9\n",
      "ID 1 priority true stop false a 1.862645149230957e-9 wait list Int64[] dist_to_cw 0.0\n",
      "inter 1.862645149230957e-9\n",
      "crosswalk 1.862645149230957e-9\n",
      "ID 1 priority true stop false a 9.313225746154785e-10 wait list Int64[] dist_to_cw 0.0\n",
      "inter 9.313225746154785e-10\n",
      "crosswalk 9.313225746154785e-10\n",
      "ID 1 priority true stop false a 4.656612873077393e-10 wait list Int64[] dist_to_cw 0.0\n",
      "inter 4.656612873077393e-10\n",
      "crosswalk 4.656612873077393e-10\n",
      "ID 1 priority true stop false a 2.3283064365386963e-10 wait list Int64[] dist_to_cw 0.0\n",
      "inter 2.3283064365386963e-10\n",
      "crosswalk 2.3283064365386963e-10\n",
      "ID 1 priority true stop false a 1.1641532182693481e-10 wait list Int64[] dist_to_cw 0.0\n",
      "inter 1.1641532182693481e-10\n",
      "crosswalk 1.1641532182693481e-10\n",
      "ID 1 priority true stop false a 5.820766091346741e-11 wait list Int64[] dist_to_cw 0.0\n",
      "inter 5.820766091346741e-11\n",
      "crosswalk 5.820766091346741e-11\n",
      "ID 1 priority true stop false a 2.9103830456733704e-11 wait list Int64[] dist_to_cw 0.0\n",
      "inter 2.9103830456733704e-11\n",
      "crosswalk 2.9103830456733704e-11\n",
      "ID 1 priority true stop false a 1.4551915228366852e-11 wait list Int64[] dist_to_cw 0.0\n",
      "inter 1.4551915228366852e-11\n",
      "crosswalk 1.4551915228366852e-11\n",
      "ID 1 priority true stop false a 7.275957614183426e-12 wait list Int64[] dist_to_cw 0.0\n",
      "inter 7.275957614183426e-12\n",
      "crosswalk 7.275957614183426e-12\n",
      "ID 1 priority true stop false a 3.637978807091713e-12 wait list Int64[] dist_to_cw 0.0\n",
      "inter 3.637978807091713e-12\n",
      "crosswalk 3.637978807091713e-12\n",
      "ID 1 priority true stop false a 1.8189894035458565e-12 wait list Int64[] dist_to_cw 0.0\n",
      "inter 1.8189894035458565e-12\n",
      "crosswalk 1.8189894035458565e-12\n",
      "ID 1 priority true stop false a 9.094947017729282e-13 wait list Int64[] dist_to_cw 0.0\n",
      "inter 9.094947017729282e-13\n",
      "crosswalk 9.094947017729282e-13\n",
      "ID 1 priority true stop false a 4.547473508864641e-13 wait list Int64[] dist_to_cw 0.0\n",
      "inter 4.547473508864641e-13\n",
      "crosswalk 4.547473508864641e-13\n",
      "ID 1 priority true stop false a 2.2737367544323206e-13 wait list Int64[] dist_to_cw 0.0\n",
      "inter 2.2737367544323206e-13\n",
      "crosswalk 2.2737367544323206e-13\n",
      "ID 1 priority true stop false a 1.1368683772161603e-13 wait list Int64[] dist_to_cw 0.0\n",
      "inter 1.1368683772161603e-13\n",
      "crosswalk 1.1368683772161603e-13\n",
      "ID 1 priority true stop false a 5.684341886080802e-14 wait list Int64[] dist_to_cw 0.0\n",
      "inter 5.684341886080802e-14\n",
      "crosswalk 5.684341886080802e-14\n",
      "ID 1 priority true stop false a 2.842170943040401e-14 wait list Int64[] dist_to_cw 0.0\n",
      "inter 2.842170943040401e-14\n",
      "crosswalk 2.842170943040401e-14\n",
      "ID 1 priority true stop false a 1.4210854715202004e-14 wait list Int64[] dist_to_cw 0.0\n",
      "inter 1.4210854715202004e-14\n",
      "crosswalk 1.4210854715202004e-14\n",
      "ID 1 priority true stop false a 7.105427357601002e-15 wait list Int64[] dist_to_cw 0.0\n",
      "inter 7.105427357601002e-15\n",
      "crosswalk 7.105427357601002e-15\n",
      "  0.313302 seconds (287.68 k allocations: 13.750 MiB, 1.83% gc time)\n"
     ]
    },
    {
     "data": {
      "text/plain": [
       "SceneRecord(nscenes=51)"
      ]
     },
     "execution_count": 34,
     "metadata": {},
     "output_type": "execute_result"
    }
   ],
   "source": [
    "timestep = 0.5\n",
    "\n",
    "lane = get_lane(pomdp.env.roadway, car)\n",
    "route = random_route(rng, pomdp.env.roadway, lane)\n",
    "intersection_entrances = get_start_lanes(pomdp.env.roadway)\n",
    "if !(route[1] ∈ intersection_entrances)\n",
    "    intersection = Lane[]\n",
    "    intersection_exits = Lane[]\n",
    "else\n",
    "    intersection_exits = get_exit_lanes(pomdp.env.roadway)\n",
    "    intersection=Lane[route[1], route[2]]\n",
    "end\n",
    "navigator = RouteFollowingIDM(route=route)\n",
    "intersection_driver = IntersectionDriver(navigator= navigator,\n",
    "#                                                        intersection=intersection,\n",
    "                                                       intersection_entrances = intersection_entrances,\n",
    "                                                       intersection_exits = intersection_exits,\n",
    "                                                       stop_delta=0.,\n",
    "                                                       accel_tol=0.)\n",
    "cw_conflict_lanes = get_conflict_lanes(pomdp.env.crosswalk, pomdp.env.roadway)\n",
    "crosswalk_driver = CrosswalkDriver(navigator = navigator,\n",
    "                                   crosswalk = pomdp.env.crosswalk,\n",
    "                                   conflict_lanes = cw_conflict_lanes,\n",
    "                                   intersection_entrances = intersection_entrances,\n",
    "                                   yield=!isempty(intersect(cw_conflict_lanes, route)),\n",
    "                                   debug=true)\n",
    "models[car.id] = UrbanDriver(navigator=navigator,\n",
    "                        intersection_driver=intersection_driver,\n",
    "                       crosswalk_driver=crosswalk_driver,\n",
    "                            debug=true           )\n",
    "\n",
    "nticks = 50\n",
    "rec = SceneRecord(nticks+1, timestep)\n",
    "@time simulate!(rec, scene, pomdp.env.roadway, models, nticks)"
   ]
  },
  {
   "cell_type": "code",
   "execution_count": 35,
   "metadata": {},
   "outputs": [
    {
     "data": {
      "text/html": [
       "<video autoplay controls><source src=\"files/reel-12213682526355790802.webm?7068281479620424611\" type=\"video/webm\"></video>"
      ],
      "text/plain": [
       "Reel.Frames{MIME{Symbol(\"image/png\")}}(\"/tmp/tmpUti1ns\", 0x0000000000000033, 2.0, nothing)"
      ]
     },
     "execution_count": 35,
     "metadata": {},
     "output_type": "execute_result"
    }
   ],
   "source": [
    "cam = FitToContentCamera(0.)\n",
    "duration, fps, render_rec = animate_record(pomdp.env, rec, sim_dt=timestep, overlays = SceneOverlay[IDOverlay()])\n",
    "film = roll(render_rec, fps = fps, duration = duration)"
   ]
  },
  {
   "cell_type": "code",
   "execution_count": 6,
   "metadata": {},
   "outputs": [
    {
     "ename": "LoadError",
     "evalue": "\u001b[91mMethodError: no method matching AutomotivePOMDPs.CrosswalkDriver(; navigator=AutomotivePOMDPs.RouteFollowingIDM\n  route: Array{AutomotiveDrivingModels.Lane}((2,))\n  dir: Int64 1\n  a: Float64 NaN\n  σ: Float64 NaN\n  k_spd: Float64 1.0\n  δ: Float64 4.0\n  T: Float64 1.5\n  v_des: Float64 9.0\n  s_min: Float64 5.0\n  a_max: Float64 2.0\n  d_cmf: Float64 2.0\n  d_max: Float64 9.0\n, crosswalk=AutomotiveDrivingModels.Lane(LaneTag(25, 1), AutomotiveDrivingModels.CurvePt[CurvePt({12.000, -10.000, 1.571}, 0.000, 0.000, NaN), CurvePt({12.000, 10.000, 1.571}, 20.000, 0.000, NaN)], 4.0, AutomotiveDrivingModels.SpeedLimit(-Inf, Inf), AutomotiveDrivingModels.LaneBoundary(:unknown, :unknown), AutomotiveDrivingModels.LaneBoundary(:unknown, :unknown), AutomotiveDrivingModels.LaneConnection[], AutomotiveDrivingModels.LaneConnection[]), intersect=AutomotiveDrivingModels.Lane(LaneTag(7, 1), AutomotiveDrivingModels.CurvePt[CurvePt({6.000, 4.500, 3.142}, 0.000, 0.000, 0.000), CurvePt({-6.000, 4.500, 3.142}, 12.000, 0.000, 0.000)], 3.0, AutomotiveDrivingModels.SpeedLimit(-Inf, Inf), AutomotiveDrivingModels.LaneBoundary(:solid, :white), AutomotiveDrivingModels.LaneBoundary(:solid, :white), AutomotiveDrivingModels.LaneConnection[LaneConnection(D, CurveIndex(1, 1.000), RoadIndex({1, 0.000000}, {2, 1})], AutomotiveDrivingModels.LaneConnection[LaneConnection(U, CurveIndex(1, 0.000), RoadIndex({1, 1.000000}, {1, 1})]))\u001b[0m\nClosest candidates are:\n  AutomotivePOMDPs.CrosswalkDriver(; a, navigator, crosswalk, conflict_lanes, ped_model, ped_start, stop_delta, accel_tol, d_tol, yield, priority, stop, wait_list, clear, debug) at /home/boutonm/.julia/v0.6/Parameters/src/Parameters.jl:379\u001b[91m got unsupported keyword argument \"intersect\"\u001b[39m\n  AutomotivePOMDPs.CrosswalkDriver(\u001b[91m::AutomotivePOMDPs.CrosswalkDriver\u001b[39m; kws...) at /home/boutonm/.julia/v0.6/Parameters/src/Parameters.jl:443\n  AutomotivePOMDPs.CrosswalkDriver(\u001b[91m::AutomotivePOMDPs.CrosswalkDriver\u001b[39m, \u001b[91m::Associative\u001b[39m) at /home/boutonm/.julia/v0.6/Parameters/src/Parameters.jl:446\u001b[91m got unsupported keyword arguments \"navigator\", \"crosswalk\", \"intersect\"\u001b[39m\n  ...\u001b[39m",
     "output_type": "error",
     "traceback": [
      "\u001b[91mMethodError: no method matching AutomotivePOMDPs.CrosswalkDriver(; navigator=AutomotivePOMDPs.RouteFollowingIDM\n  route: Array{AutomotiveDrivingModels.Lane}((2,))\n  dir: Int64 1\n  a: Float64 NaN\n  σ: Float64 NaN\n  k_spd: Float64 1.0\n  δ: Float64 4.0\n  T: Float64 1.5\n  v_des: Float64 9.0\n  s_min: Float64 5.0\n  a_max: Float64 2.0\n  d_cmf: Float64 2.0\n  d_max: Float64 9.0\n, crosswalk=AutomotiveDrivingModels.Lane(LaneTag(25, 1), AutomotiveDrivingModels.CurvePt[CurvePt({12.000, -10.000, 1.571}, 0.000, 0.000, NaN), CurvePt({12.000, 10.000, 1.571}, 20.000, 0.000, NaN)], 4.0, AutomotiveDrivingModels.SpeedLimit(-Inf, Inf), AutomotiveDrivingModels.LaneBoundary(:unknown, :unknown), AutomotiveDrivingModels.LaneBoundary(:unknown, :unknown), AutomotiveDrivingModels.LaneConnection[], AutomotiveDrivingModels.LaneConnection[]), intersect=AutomotiveDrivingModels.Lane(LaneTag(7, 1), AutomotiveDrivingModels.CurvePt[CurvePt({6.000, 4.500, 3.142}, 0.000, 0.000, 0.000), CurvePt({-6.000, 4.500, 3.142}, 12.000, 0.000, 0.000)], 3.0, AutomotiveDrivingModels.SpeedLimit(-Inf, Inf), AutomotiveDrivingModels.LaneBoundary(:solid, :white), AutomotiveDrivingModels.LaneBoundary(:solid, :white), AutomotiveDrivingModels.LaneConnection[LaneConnection(D, CurveIndex(1, 1.000), RoadIndex({1, 0.000000}, {2, 1})], AutomotiveDrivingModels.LaneConnection[LaneConnection(U, CurveIndex(1, 0.000), RoadIndex({1, 1.000000}, {1, 1})]))\u001b[0m\nClosest candidates are:\n  AutomotivePOMDPs.CrosswalkDriver(; a, navigator, crosswalk, conflict_lanes, ped_model, ped_start, stop_delta, accel_tol, d_tol, yield, priority, stop, wait_list, clear, debug) at /home/boutonm/.julia/v0.6/Parameters/src/Parameters.jl:379\u001b[91m got unsupported keyword argument \"intersect\"\u001b[39m\n  AutomotivePOMDPs.CrosswalkDriver(\u001b[91m::AutomotivePOMDPs.CrosswalkDriver\u001b[39m; kws...) at /home/boutonm/.julia/v0.6/Parameters/src/Parameters.jl:443\n  AutomotivePOMDPs.CrosswalkDriver(\u001b[91m::AutomotivePOMDPs.CrosswalkDriver\u001b[39m, \u001b[91m::Associative\u001b[39m) at /home/boutonm/.julia/v0.6/Parameters/src/Parameters.jl:446\u001b[91m got unsupported keyword arguments \"navigator\", \"crosswalk\", \"intersect\"\u001b[39m\n  ...\u001b[39m",
      "",
      "Stacktrace:",
      " [1] \u001b[1m(::Core.#kw#Type)\u001b[22m\u001b[22m\u001b[1m(\u001b[22m\u001b[22m::Array{Any,1}, ::Type{AutomotivePOMDPs.CrosswalkDriver}\u001b[1m)\u001b[22m\u001b[22m at \u001b[1m./<missing>:0\u001b[22m\u001b[22m",
      " [2] \u001b[1minitial_state\u001b[22m\u001b[22m\u001b[1m(\u001b[22m\u001b[22m::AutomotivePOMDPs.UrbanPOMDP, ::MersenneTwister\u001b[1m)\u001b[22m\u001b[22m at \u001b[1m/home/boutonm/AutomotivePOMDPs/urban/generative_model.jl:127\u001b[22m\u001b[22m",
      " [3] \u001b[1minclude_string\u001b[22m\u001b[22m\u001b[1m(\u001b[22m\u001b[22m::String, ::String\u001b[1m)\u001b[22m\u001b[22m at \u001b[1m./loading.jl:515\u001b[22m\u001b[22m"
     ]
    }
   ],
   "source": [
    "scene = initial_state(pomdp, rng)\n",
    "AutoViz.render(scene, env, [IDOverlay()], cam=FitToContentCamera(0.))"
   ]
  },
  {
   "cell_type": "code",
   "execution_count": 8,
   "metadata": {},
   "outputs": [
    {
     "data": {
      "text/plain": [
       "is_crossing (generic function with 1 method)"
      ]
     },
     "execution_count": 8,
     "metadata": {},
     "output_type": "execute_result"
    }
   ],
   "source": [
    "function lane_to_segment(lane::Lane, roadway::Roadway)\n",
    "    # only works for straight lanes\n",
    "    lane_a = get_posG(Frenet(lane, 0.), roadway)\n",
    "    lane_b = get_posG(Frenet(lane, get_end(lane)), roadway)\n",
    "    return LineSegment(lane_a, lane_b)\n",
    "end\n",
    "\n",
    "function  get_conflict_lanes(crosswalk::Lane, roadway::Roadway)\n",
    "    # find lane intersecting with crosswalk \n",
    "    cw_seg = lane_to_segment(crosswalk, roadway)    \n",
    "    conflict_lanes = Lane[]\n",
    "    lanes = get_lanes(roadway)\n",
    "    for lane in lanes\n",
    "        lane_seg = lane_to_segment(lane, roadway)\n",
    "        if intersects(lane_seg, cw_seg) && !(lane ∈ conflict_lanes)\n",
    "            push!(conflict_lanes, lane)\n",
    "        end\n",
    "    end\n",
    "    return conflict_lanes\n",
    "end\n",
    "\n",
    "# return +1 if going toward, -1 if going away\n",
    "function direction_from_center(ped::Vehicle, crosswalk::Lane)\n",
    "    s_ped = ped.state.posF.s\n",
    "    Δs = get_end(crosswalk)/2 - s_ped\n",
    "    return sign(Δs*cos(ped.state.posF.ϕ))\n",
    "end\n",
    "\n",
    "function is_crossing(ped::Vehicle, crosswalk::Lane, conflict_lanes::Vector{Lane})\n",
    "    # check if the pedestrian is in the conflict zone\n",
    "    for lane in conflict_lanes\n",
    "        ped_f = Frenet(ped.state.posG, lane, roadway)\n",
    "        if abs(ped_f.t) < lane.width/2\n",
    "            return true\n",
    "        end\n",
    "    end\n",
    "    # at this point, the pedestrian is not on the road\n",
    "    # check if she is going to cross or not\n",
    "    if direction_from_center(ped, crosswalk) > 0.\n",
    "        return true\n",
    "    end\n",
    "    return false\n",
    "end"
   ]
  },
  {
   "cell_type": "code",
   "execution_count": null,
   "metadata": {
    "collapsed": true
   },
   "outputs": [],
   "source": []
  },
  {
   "cell_type": "code",
   "execution_count": 10,
   "metadata": {},
   "outputs": [
    {
     "ename": "LoadError",
     "evalue": "\u001b[91mUndefVarError: scene not defined\u001b[39m",
     "output_type": "error",
     "traceback": [
      "\u001b[91mUndefVarError: scene not defined\u001b[39m",
      "",
      "Stacktrace:",
      " [1] \u001b[1minclude_string\u001b[22m\u001b[22m\u001b[1m(\u001b[22m\u001b[22m::String, ::String\u001b[1m)\u001b[22m\u001b[22m at \u001b[1m./loading.jl:515\u001b[22m\u001b[22m"
     ]
    }
   ],
   "source": [
    "# given crosswalk compute the \"conflict zone\"\n",
    "crosswalk = env.crosswalk\n",
    "conflict_lanes = get_conflict_lanes(crosswalk, env.roadway)\n",
    "\n",
    "ped = scene[findfirst(scene, 5)]\n",
    "is_crossing(ped, crosswalk, conflict_lanes)"
   ]
  },
  {
   "cell_type": "code",
   "execution_count": null,
   "metadata": {
    "collapsed": true
   },
   "outputs": [],
   "source": [
    "function get_stop_zone(crosswalk::Lane, roadway::Roadway)\n",
    "end"
   ]
  },
  {
   "cell_type": "code",
   "execution_count": 31,
   "metadata": {},
   "outputs": [
    {
     "data": {
      "text/plain": [
       "4"
      ]
     },
     "execution_count": 31,
     "metadata": {},
     "output_type": "execute_result"
    }
   ],
   "source": [
    "length(conflict_lanes)"
   ]
  },
  {
   "cell_type": "code",
   "execution_count": 28,
   "metadata": {},
   "outputs": [
    {
     "data": {
      "text/plain": [
       "Vec.LineSegment(VecE2(12.000, -10.000), VecE2(12.000, 10.000))"
      ]
     },
     "execution_count": 28,
     "metadata": {},
     "output_type": "execute_result"
    }
   ],
   "source": [
    "lane_seg = lane_to_segment(lanes[3], roadway)"
   ]
  },
  {
   "cell_type": "code",
   "execution_count": 12,
   "metadata": {},
   "outputs": [
    {
     "data": {
      "text/html": [
       "1 method for generic function <b>get_posG</b>:<ul><li> get_posG(frenet::<b>AutomotiveDrivingModels.Frenet</b>, roadway::<b>AutomotiveDrivingModels.Roadway</b>) at <a href=\"https://github.com/sisl/AutomotiveDrivingModels.jl/tree/74050e9ae44bda72a485c2573ac4f0df2bc3e767//src/2d/vehicles/frenet.jl#L27\" target=\"_blank\">/home/boutonm/.julia/v0.6/AutomotiveDrivingModels/src/2d/vehicles/frenet.jl:27</a></li> </ul>"
      ],
      "text/plain": [
       "# 1 method for generic function \"get_posG\":\n",
       "get_posG(frenet::AutomotiveDrivingModels.Frenet, roadway::AutomotiveDrivingModels.Roadway) in AutomotiveDrivingModels at /home/boutonm/.julia/v0.6/AutomotiveDrivingModels/src/2d/vehicles/frenet.jl:27"
      ]
     },
     "execution_count": 12,
     "metadata": {},
     "output_type": "execute_result"
    }
   ],
   "source": [
    "methods(get_posG)"
   ]
  },
  {
   "cell_type": "code",
   "execution_count": 9,
   "metadata": {},
   "outputs": [
    {
     "data": {
      "text/plain": [
       "AutomotiveDrivingModels.Lane(LaneTag(25, 1), AutomotiveDrivingModels.CurvePt[CurvePt({12.000, -10.000, 1.571}, 0.000, 0.000, NaN), CurvePt({12.000, 10.000, 1.571}, 20.000, 0.000, NaN)], 4.0, AutomotiveDrivingModels.SpeedLimit(-Inf, Inf), AutomotiveDrivingModels.LaneBoundary(:unknown, :unknown), AutomotiveDrivingModels.LaneBoundary(:unknown, :unknown), AutomotiveDrivingModels.LaneConnection[], AutomotiveDrivingModels.LaneConnection[])"
      ]
     },
     "execution_count": 9,
     "metadata": {},
     "output_type": "execute_result"
    }
   ],
   "source": [
    "roadway = env.roadway\n",
    "veh = scene[findfirst(scene, 8)]\n",
    "lane = get_lane(roadway, veh)"
   ]
  },
  {
   "cell_type": "code",
   "execution_count": 27,
   "metadata": {},
   "outputs": [
    {
     "data": {
      "text/html": [
       "10 methods for generic function <b>Type</b>:<ul><li> AutomotiveDrivingModels.Frenet(roadind::<b>AutomotiveDrivingModels.RoadIndex</b>, s::<b>Float64</b>, t::<b>Float64</b>, ϕ::<b>Float64</b>) at <a href=\"https://github.com/sisl/AutomotiveDrivingModels.jl/tree/74050e9ae44bda72a485c2573ac4f0df2bc3e767//src/2d/vehicles/frenet.jl#L2\" target=\"_blank\">/home/boutonm/.julia/v0.6/AutomotiveDrivingModels/src/2d/vehicles/frenet.jl:2</a></li> <li> AutomotiveDrivingModels.Frenet(roadind::<b>AutomotiveDrivingModels.RoadIndex</b>, roadway::<b>AutomotiveDrivingModels.Roadway</b>; <i>t, ϕ</i>) at <a href=\"https://github.com/sisl/AutomotiveDrivingModels.jl/tree/74050e9ae44bda72a485c2573ac4f0df2bc3e767//src/2d/vehicles/frenet.jl#L8\" target=\"_blank\">/home/boutonm/.julia/v0.6/AutomotiveDrivingModels/src/2d/vehicles/frenet.jl:8</a></li> <li> AutomotiveDrivingModels.Frenet(roadproj::<b>AutomotiveDrivingModels.RoadProjection</b>, roadway::<b>AutomotiveDrivingModels.Roadway</b>) at <a href=\"https://github.com/sisl/AutomotiveDrivingModels.jl/tree/74050e9ae44bda72a485c2573ac4f0df2bc3e767//src/2d/vehicles/frenet.jl#L13\" target=\"_blank\">/home/boutonm/.julia/v0.6/AutomotiveDrivingModels/src/2d/vehicles/frenet.jl:13</a></li> <li> AutomotiveDrivingModels.Frenet(lane::<b>AutomotiveDrivingModels.Lane</b>, s::<b>Float64</b>) at <a href=\"https://github.com/sisl/AutomotiveDrivingModels.jl/tree/74050e9ae44bda72a485c2573ac4f0df2bc3e767//src/2d/vehicles/frenet.jl#L20\" target=\"_blank\">/home/boutonm/.julia/v0.6/AutomotiveDrivingModels/src/2d/vehicles/frenet.jl:20</a></li> <li> AutomotiveDrivingModels.Frenet(lane::<b>AutomotiveDrivingModels.Lane</b>, s::<b>Float64</b>, t::<b>Float64</b>) at <a href=\"https://github.com/sisl/AutomotiveDrivingModels.jl/tree/74050e9ae44bda72a485c2573ac4f0df2bc3e767//src/2d/vehicles/frenet.jl#L20\" target=\"_blank\">/home/boutonm/.julia/v0.6/AutomotiveDrivingModels/src/2d/vehicles/frenet.jl:20</a></li> <li> AutomotiveDrivingModels.Frenet(lane::<b>AutomotiveDrivingModels.Lane</b>, s::<b>Float64</b>, t::<b>Float64</b>, ϕ::<b>Float64</b>) at <a href=\"https://github.com/sisl/AutomotiveDrivingModels.jl/tree/74050e9ae44bda72a485c2573ac4f0df2bc3e767//src/2d/vehicles/frenet.jl#L20\" target=\"_blank\">/home/boutonm/.julia/v0.6/AutomotiveDrivingModels/src/2d/vehicles/frenet.jl:20</a></li> <li> AutomotiveDrivingModels.Frenet(posG::<b>Vec.VecSE2</b>, roadway::<b>AutomotiveDrivingModels.Roadway</b>) at <a href=\"https://github.com/sisl/AutomotiveDrivingModels.jl/tree/74050e9ae44bda72a485c2573ac4f0df2bc3e767//src/2d/vehicles/frenet.jl#L23\" target=\"_blank\">/home/boutonm/.julia/v0.6/AutomotiveDrivingModels/src/2d/vehicles/frenet.jl:23</a></li> <li> AutomotiveDrivingModels.Frenet(posG::<b>Vec.VecSE2</b>, lane::<b>AutomotiveDrivingModels.Lane</b>, roadway::<b>AutomotiveDrivingModels.Roadway</b>) at <a href=\"https://github.com/sisl/AutomotiveDrivingModels.jl/tree/74050e9ae44bda72a485c2573ac4f0df2bc3e767//src/2d/vehicles/frenet.jl#L24\" target=\"_blank\">/home/boutonm/.julia/v0.6/AutomotiveDrivingModels/src/2d/vehicles/frenet.jl:24</a></li> <li> AutomotiveDrivingModels.Frenet(roadind, s, t, ϕ) at <a href=\"https://github.com/sisl/AutomotiveDrivingModels.jl/tree/74050e9ae44bda72a485c2573ac4f0df2bc3e767//src/2d/vehicles/frenet.jl#L2\" target=\"_blank\">/home/boutonm/.julia/v0.6/AutomotiveDrivingModels/src/2d/vehicles/frenet.jl:2</a></li> <li> (::<b>Type{T}</b>)<i>{T}</i>(arg) at <a href=\"https://github.com/JuliaLang/julia/tree/903644385b91ed8d95e5e3a5716c089dd1f1b08a/base/sysimg.jl#L24\" target=\"_blank\">sysimg.jl:24</a></li> </ul>"
      ],
      "text/plain": [
       "# 10 methods for generic function \"(::Type)\":\n",
       "AutomotiveDrivingModels.Frenet(roadind::AutomotiveDrivingModels.RoadIndex, s::Float64, t::Float64, ϕ::Float64) in AutomotiveDrivingModels at /home/boutonm/.julia/v0.6/AutomotiveDrivingModels/src/2d/vehicles/frenet.jl:2\n",
       "AutomotiveDrivingModels.Frenet(roadind::AutomotiveDrivingModels.RoadIndex, roadway::AutomotiveDrivingModels.Roadway; t, ϕ) in AutomotiveDrivingModels at /home/boutonm/.julia/v0.6/AutomotiveDrivingModels/src/2d/vehicles/frenet.jl:8\n",
       "AutomotiveDrivingModels.Frenet(roadproj::AutomotiveDrivingModels.RoadProjection, roadway::AutomotiveDrivingModels.Roadway) in AutomotiveDrivingModels at /home/boutonm/.julia/v0.6/AutomotiveDrivingModels/src/2d/vehicles/frenet.jl:13\n",
       "AutomotiveDrivingModels.Frenet(lane::AutomotiveDrivingModels.Lane, s::Float64) in AutomotiveDrivingModels at /home/boutonm/.julia/v0.6/AutomotiveDrivingModels/src/2d/vehicles/frenet.jl:20\n",
       "AutomotiveDrivingModels.Frenet(lane::AutomotiveDrivingModels.Lane, s::Float64, t::Float64) in AutomotiveDrivingModels at /home/boutonm/.julia/v0.6/AutomotiveDrivingModels/src/2d/vehicles/frenet.jl:20\n",
       "AutomotiveDrivingModels.Frenet(lane::AutomotiveDrivingModels.Lane, s::Float64, t::Float64, ϕ::Float64) in AutomotiveDrivingModels at /home/boutonm/.julia/v0.6/AutomotiveDrivingModels/src/2d/vehicles/frenet.jl:20\n",
       "AutomotiveDrivingModels.Frenet(posG::Vec.VecSE2, roadway::AutomotiveDrivingModels.Roadway) in AutomotiveDrivingModels at /home/boutonm/.julia/v0.6/AutomotiveDrivingModels/src/2d/vehicles/frenet.jl:23\n",
       "AutomotiveDrivingModels.Frenet(posG::Vec.VecSE2, lane::AutomotiveDrivingModels.Lane, roadway::AutomotiveDrivingModels.Roadway) in AutomotiveDrivingModels at /home/boutonm/.julia/v0.6/AutomotiveDrivingModels/src/2d/vehicles/frenet.jl:24\n",
       "AutomotiveDrivingModels.Frenet(roadind, s, t, ϕ) in AutomotiveDrivingModels at /home/boutonm/.julia/v0.6/AutomotiveDrivingModels/src/2d/vehicles/frenet.jl:2\n",
       "(::Type{T})(arg) where T in Base at sysimg.jl:24"
      ]
     },
     "execution_count": 27,
     "metadata": {},
     "output_type": "execute_result"
    }
   ],
   "source": [
    "methods(Frenet)"
   ]
  },
  {
   "cell_type": "code",
   "execution_count": null,
   "metadata": {
    "collapsed": true
   },
   "outputs": [],
   "source": [
    "function is_in_lane(veh::Vehicle, lane::Lane, roadway::Roadway)\n",
    "    pos_g = veh.state.posG\n",
    "    proj(pos_g, lane)\n",
    "end"
   ]
  },
  {
   "cell_type": "code",
   "execution_count": 12,
   "metadata": {
    "scrolled": true
   },
   "outputs": [
    {
     "data": {
      "text/html": [
       "8 methods for generic function <b>proj</b>:<ul><li> proj(posG::<b>Vec.VecSE2</b>, curve::<b>Array{AutomotiveDrivingModels.CurvePt,1}</b>) at <a href=\"https://github.com/sisl/AutomotiveDrivingModels.jl/tree/74050e9ae44bda72a485c2573ac4f0df2bc3e767//src/2d/roadway/curves.jl#L222\" target=\"_blank\">/home/boutonm/.julia/v0.6/AutomotiveDrivingModels/src/2d/roadway/curves.jl:222</a></li> <li> proj(posG::<b>Vec.VecSE2</b>, lane::<b>AutomotiveDrivingModels.Lane</b>, roadway::<b>AutomotiveDrivingModels.Roadway</b>; <i>move_along_curves</i>) at <a href=\"https://github.com/sisl/AutomotiveDrivingModels.jl/tree/74050e9ae44bda72a485c2573ac4f0df2bc3e767//src/2d/roadway/roadways.jl#L367\" target=\"_blank\">/home/boutonm/.julia/v0.6/AutomotiveDrivingModels/src/2d/roadway/roadways.jl:367</a></li> <li> proj(posG::<b>Vec.VecSE2</b>, seg::<b>AutomotiveDrivingModels.RoadSegment</b>, roadway::<b>AutomotiveDrivingModels.Roadway</b>) at <a href=\"https://github.com/sisl/AutomotiveDrivingModels.jl/tree/74050e9ae44bda72a485c2573ac4f0df2bc3e767//src/2d/roadway/roadways.jl#L421\" target=\"_blank\">/home/boutonm/.julia/v0.6/AutomotiveDrivingModels/src/2d/roadway/roadways.jl:421</a></li> <li> proj(posG::<b>Vec.VecSE2</b>, roadway::<b>AutomotiveDrivingModels.Roadway</b>) at <a href=\"https://github.com/sisl/AutomotiveDrivingModels.jl/tree/74050e9ae44bda72a485c2573ac4f0df2bc3e767//src/2d/roadway/roadways.jl#L444\" target=\"_blank\">/home/boutonm/.julia/v0.6/AutomotiveDrivingModels/src/2d/roadway/roadways.jl:444</a></li> <li> proj(a::<b>Vec.VecE2</b>, b::<b>Vec.VecE2</b>, ::<b>Type{Float64}</b>) at <a href=\"https://github.com/tawheeler/Vec.jl/tree/ab4f652aa12a2d06433e62bb39e0a17f06ca9cbf//src/vecE2.jl#L74\" target=\"_blank\">/home/boutonm/.julia/v0.6/Vec/src/vecE2.jl:74</a></li> <li> proj(a::<b>Vec.VecE2</b>, b::<b>Vec.VecE2</b>, ::<b>Type{Vec.VecE2}</b>) at <a href=\"https://github.com/tawheeler/Vec.jl/tree/ab4f652aa12a2d06433e62bb39e0a17f06ca9cbf//src/vecE2.jl#L77\" target=\"_blank\">/home/boutonm/.julia/v0.6/Vec/src/vecE2.jl:77</a></li> <li> proj(a::<b>Vec.VecE3</b>, b::<b>Vec.VecE3</b>, ::<b>Type{Float64}</b>) at <a href=\"https://github.com/tawheeler/Vec.jl/tree/ab4f652aa12a2d06433e62bb39e0a17f06ca9cbf//src/vecE3.jl#L74\" target=\"_blank\">/home/boutonm/.julia/v0.6/Vec/src/vecE3.jl:74</a></li> <li> proj(a::<b>Vec.VecE3</b>, b::<b>Vec.VecE3</b>, ::<b>Type{Vec.VecE3}</b>) at <a href=\"https://github.com/tawheeler/Vec.jl/tree/ab4f652aa12a2d06433e62bb39e0a17f06ca9cbf//src/vecE3.jl#L77\" target=\"_blank\">/home/boutonm/.julia/v0.6/Vec/src/vecE3.jl:77</a></li> </ul>"
      ],
      "text/plain": [
       "# 8 methods for generic function \"proj\":\n",
       "proj(posG::Vec.VecSE2, curve::Array{AutomotiveDrivingModels.CurvePt,1}) in AutomotiveDrivingModels at /home/boutonm/.julia/v0.6/AutomotiveDrivingModels/src/2d/roadway/curves.jl:222\n",
       "proj(posG::Vec.VecSE2, lane::AutomotiveDrivingModels.Lane, roadway::AutomotiveDrivingModels.Roadway; move_along_curves) in AutomotiveDrivingModels at /home/boutonm/.julia/v0.6/AutomotiveDrivingModels/src/2d/roadway/roadways.jl:367\n",
       "proj(posG::Vec.VecSE2, seg::AutomotiveDrivingModels.RoadSegment, roadway::AutomotiveDrivingModels.Roadway) in AutomotiveDrivingModels at /home/boutonm/.julia/v0.6/AutomotiveDrivingModels/src/2d/roadway/roadways.jl:421\n",
       "proj(posG::Vec.VecSE2, roadway::AutomotiveDrivingModels.Roadway) in AutomotiveDrivingModels at /home/boutonm/.julia/v0.6/AutomotiveDrivingModels/src/2d/roadway/roadways.jl:444\n",
       "proj(a::Vec.VecE2, b::Vec.VecE2, ::Type{Float64}) in Vec at /home/boutonm/.julia/v0.6/Vec/src/vecE2.jl:74\n",
       "proj(a::Vec.VecE2, b::Vec.VecE2, ::Type{Vec.VecE2}) in Vec at /home/boutonm/.julia/v0.6/Vec/src/vecE2.jl:77\n",
       "proj(a::Vec.VecE3, b::Vec.VecE3, ::Type{Float64}) in Vec at /home/boutonm/.julia/v0.6/Vec/src/vecE3.jl:74\n",
       "proj(a::Vec.VecE3, b::Vec.VecE3, ::Type{Vec.VecE3}) in Vec at /home/boutonm/.julia/v0.6/Vec/src/vecE3.jl:77"
      ]
     },
     "execution_count": 12,
     "metadata": {},
     "output_type": "execute_result"
    }
   ],
   "source": [
    "methods(proj)"
   ]
  },
  {
   "cell_type": "code",
   "execution_count": 15,
   "metadata": {},
   "outputs": [
    {
     "data": {
      "image/png": "[encoded data removed]",
      "text/plain": [
       "Cairo.CairoSurface{UInt32}(Ptr{Void} @0x0000000006a7e220, 1000.0, 600.0, #undef)"
      ]
     },
     "execution_count": 15,
     "metadata": {},
     "output_type": "execute_result"
    }
   ],
   "source": [
    "using Interact\n",
    "\n",
    "scene = Scene()\n",
    "\n",
    "type LaneOverlay <: SceneOverlay\n",
    "    lane::Lane\n",
    "    color::Colorant\n",
    "end\n",
    "function AutoViz.render!(rendermodel::RenderModel, overlay::LaneOverlay, scene::Scene, roadway::Roadway)\n",
    "    render!(rendermodel, overlay.lane, roadway, color_asphalt=overlay.color)\n",
    "    return rendermodel\n",
    "end\n",
    "\n",
    "# @manipulate for i in 1 : length(env.roadway.segments)\n",
    "#     AutoViz.render(scene, env.roadway, [LaneOverlay(env.roadway[LaneTag(i,1)], RGBA(0.0,0.0,1.0,0.5))], cam=FitToContentCamera(0.))\n",
    "# end\n",
    "\n",
    "i=8\n",
    "AutoViz.render(scene, env.roadway, [LaneOverlay(env.roadway[LaneTag(i,1)], RGBA(0.0,0.0,1.0,0.5))], cam=FitToContentCamera(0.))"
   ]
  },
  {
   "cell_type": "code",
   "execution_count": 10,
   "metadata": {},
   "outputs": [
    {
     "data": {
      "text/plain": [
       "2-element Array{AutomotiveDrivingModels.LaneConnection,1}:\n",
       " LaneConnection(D, CurveIndex(1, 1.000), RoadIndex({1, 0.000000}, {9, 1})\n",
       " LaneConnection(D, CurveIndex(1, 1.000), RoadIndex({1, 0.000000}, {7, 1})"
      ]
     },
     "execution_count": 10,
     "metadata": {},
     "output_type": "execute_result"
    }
   ],
   "source": [
    "env.roadway[LaneTag(1,1)].exits"
   ]
  },
  {
   "cell_type": "code",
   "execution_count": null,
   "metadata": {
    "collapsed": true
   },
   "outputs": [],
   "source": [
    "function is_straight(lane::Lane)\n",
    "end"
   ]
  }
 ],
 "metadata": {
  "kernelspec": {
   "display_name": "Julia 0.6.0",
   "language": "julia",
   "name": "julia-0.6"
  },
  "language_info": {
   "file_extension": ".jl",
   "mimetype": "application/julia",
   "name": "julia",
   "version": "0.6.0"
  }
 },
 "nbformat": 4,
 "nbformat_minor": 2
}
