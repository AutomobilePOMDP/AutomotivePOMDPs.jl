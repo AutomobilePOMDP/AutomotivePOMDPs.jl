{
 "cells": [
  {
   "cell_type": "markdown",
   "metadata": {},
   "source": [
    "# Decomposition method"
   ]
  },
  {
   "cell_type": "code",
   "execution_count": 1,
   "metadata": {},
   "outputs": [
    {
     "name": "stderr",
     "output_type": "stream",
     "text": [
      "\u001b[1m\u001b[36mINFO: \u001b[39m\u001b[22m\u001b[36mRecompiling stale cache file /mnt/c/Users/Maxime/wsl/.julia/lib/v0.6/POMDPToolbox.ji for module POMDPToolbox.\n",
      "\u001b[39m\u001b[1m\u001b[36mINFO: \u001b[39m\u001b[22m\u001b[36mRecompiling stale cache file /mnt/c/Users/Maxime/wsl/.julia/lib/v0.6/DeepRL.ji for module DeepRL.\n",
      "\u001b[39mWARNING: Method definition info(Any...) in module Base at util.jl:532 overwritten in module Logging at /mnt/c/Users/Maxime/wsl/.julia/v0.6/Logging/src/Logging.jl:115.\n",
      "WARNING: Method definition warn(Any...) in module Base at util.jl:585 overwritten in module Logging at /mnt/c/Users/Maxime/wsl/.julia/v0.6/Logging/src/Logging.jl:115.\n",
      "WARNING: Method definition info(Any...) in module Base at util.jl:532 overwritten in module Logging at /mnt/c/Users/Maxime/wsl/.julia/v0.6/Logging/src/Logging.jl:115.\n",
      "WARNING: Method definition warn(Any...) in module Base at util.jl:585 overwritten in module Logging at /mnt/c/Users/Maxime/wsl/.julia/v0.6/Logging/src/Logging.jl:115.\n",
      "WARNING: Method definition info(Any...) in module Base at util.jl:532 overwritten in module Logging at /mnt/c/Users/Maxime/wsl/.julia/v0.6/Logging/src/Logging.jl:115.\n",
      "WARNING: Method definition warn(Any...) in module Base at util.jl:585 overwritten in module Logging at /mnt/c/Users/Maxime/wsl/.julia/v0.6/Logging/src/Logging.jl:115.\n",
      "WARNING: Method definition (::TensorFlow.nn.rnn_cell.LSTMCell{T})(Any, Any) in module rnn_cell at /mnt/c/Users/Maxime/wsl/.julia/v0.6/TensorFlow/src/ops/rnn_cell.jl:146 overwritten in module DeepQLearning at /mnt/c/Users/Maxime/wsl/.julia/v0.6/DeepQLearning/src/tf_helpers.jl:246.\n",
      "WARNING: Method definition (::TensorFlow.nn.rnn_cell.LSTMCell{T})(Any, Any, Any) in module rnn_cell at /mnt/c/Users/Maxime/wsl/.julia/v0.6/TensorFlow/src/ops/rnn_cell.jl:146 overwritten in module DeepQLearning at /mnt/c/Users/Maxime/wsl/.julia/v0.6/DeepQLearning/src/tf_helpers.jl:246.\n",
      "WARNING: Method definition rnn(Any, Array{T, 1} where T) in module nn at /mnt/c/Users/Maxime/wsl/.julia/v0.6/TensorFlow/src/ops/nn.jl:64 overwritten in module DeepQLearning at /mnt/c/Users/Maxime/wsl/.julia/v0.6/DeepQLearning/src/tf_helpers.jl:279.\n",
      "WARNING: Method definition rnn(Any, Array{T, 1} where T, Any) in module nn at /mnt/c/Users/Maxime/wsl/.julia/v0.6/TensorFlow/src/ops/nn.jl:64 overwritten in module DeepQLearning at /mnt/c/Users/Maxime/wsl/.julia/v0.6/DeepQLearning/src/tf_helpers.jl:279.\n",
      "WARNING: Method definition #rnn(Array{Any, 1}, typeof(TensorFlow.nn.rnn), Any, Array{T, 1} where T) in module nn overwritten in module DeepQLearning.\n",
      "WARNING: Method definition #rnn(Array{Any, 1}, typeof(TensorFlow.nn.rnn), Any, Array{T, 1} where T, Any) in module nn overwritten in module DeepQLearning.\n",
      "WARNING: Method definition rnn(Any, TensorFlow.Tensor{T} where T) in module nn at /mnt/c/Users/Maxime/wsl/.julia/v0.6/TensorFlow/src/ops/nn.jl:86 overwritten in module DeepQLearning at /mnt/c/Users/Maxime/wsl/.julia/v0.6/DeepQLearning/src/tf_helpers.jl:303.\n",
      "WARNING: Method definition rnn(Any, TensorFlow.Tensor{T} where T, Any) in module nn at /mnt/c/Users/Maxime/wsl/.julia/v0.6/TensorFlow/src/ops/nn.jl:86 overwritten in module DeepQLearning at /mnt/c/Users/Maxime/wsl/.julia/v0.6/DeepQLearning/src/tf_helpers.jl:303.\n",
      "WARNING: Method definition #rnn(Array{Any, 1}, typeof(TensorFlow.nn.rnn), Any, TensorFlow.Tensor{T} where T) in module nn overwritten in module DeepQLearning.\n",
      "WARNING: Method definition #rnn(Array{Any, 1}, typeof(TensorFlow.nn.rnn), Any, TensorFlow.Tensor{T} where T, Any) in module nn overwritten in module DeepQLearning.\n",
      "WARNING: Method definition #rnn(Array{Any, 1}, typeof(TensorFlow.nn.rnn), Any, Array{T, 1} where T) in module nn overwritten in module DeepQLearning.\n",
      "WARNING: Method definition #rnn(Array{Any, 1}, typeof(TensorFlow.nn.rnn), Any, TensorFlow.Tensor{T} where T) in module nn overwritten in module DeepQLearning.\n",
      "WARNING: Method definition #rnn(Array{Any, 1}, typeof(TensorFlow.nn.rnn), Any, Array{T, 1} where T, Any) in module nn overwritten in module DeepQLearning.\n",
      "WARNING: Method definition #rnn(Array{Any, 1}, typeof(TensorFlow.nn.rnn), Any, TensorFlow.Tensor{T} where T, Any) in module nn overwritten in module DeepQLearning.\n",
      "WARNING: Method definition (::TensorFlow.nn.rnn_cell.LSTMCell{T})(Any, Any) in module rnn_cell at /mnt/c/Users/Maxime/wsl/.julia/v0.6/TensorFlow/src/ops/rnn_cell.jl:146 overwritten in module DeepQLearning at /mnt/c/Users/Maxime/wsl/.julia/v0.6/DeepQLearning/src/tf_helpers.jl:246.\n",
      "WARNING: Method definition (::TensorFlow.nn.rnn_cell.LSTMCell{T})(Any, Any, Any) in module rnn_cell at /mnt/c/Users/Maxime/wsl/.julia/v0.6/TensorFlow/src/ops/rnn_cell.jl:146 overwritten in module DeepQLearning at /mnt/c/Users/Maxime/wsl/.julia/v0.6/DeepQLearning/src/tf_helpers.jl:246.\n",
      "WARNING: Method definition rnn(Any, Array{T, 1} where T) in module nn at /mnt/c/Users/Maxime/wsl/.julia/v0.6/TensorFlow/src/ops/nn.jl:64 overwritten in module DeepQLearning at /mnt/c/Users/Maxime/wsl/.julia/v0.6/DeepQLearning/src/tf_helpers.jl:279.\n",
      "WARNING: Method definition rnn(Any, TensorFlow.Tensor{T} where T) in module nn at /mnt/c/Users/Maxime/wsl/.julia/v0.6/TensorFlow/src/ops/nn.jl:86 overwritten in module DeepQLearning at /mnt/c/Users/Maxime/wsl/.julia/v0.6/DeepQLearning/src/tf_helpers.jl:303.\n",
      "WARNING: Method definition rnn(Any, Array{T, 1} where T, Any) in module nn at /mnt/c/Users/Maxime/wsl/.julia/v0.6/TensorFlow/src/ops/nn.jl:64 overwritten in module DeepQLearning at /mnt/c/Users/Maxime/wsl/.julia/v0.6/DeepQLearning/src/tf_helpers.jl:279.\n",
      "WARNING: Method definition rnn(Any, TensorFlow.Tensor{T} where T, Any) in module nn at /mnt/c/Users/Maxime/wsl/.julia/v0.6/TensorFlow/src/ops/nn.jl:86 overwritten in module DeepQLearning at /mnt/c/Users/Maxime/wsl/.julia/v0.6/DeepQLearning/src/tf_helpers.jl:303.\n"
     ]
    }
   ],
   "source": [
    "using POMDPs, StatsBase, POMDPToolbox, DeepRL, Parameters, GridInterpolations, DeepQLearning\n",
    "using AutomotiveDrivingModels,AutoViz\n",
    "using Reel "
   ]
  },
  {
   "cell_type": "code",
   "execution_count": 2,
   "metadata": {},
   "outputs": [
    {
     "name": "stderr",
     "output_type": "stream",
     "text": [
      "WARNING: Method definition copy!(Array{Float64, 1}, AutomotiveDrivingModels.LatLonAccel) in module AutomotiveDrivingModels at /mnt/c/Users/Maxime/wsl/.julia/v0.6/AutomotiveDrivingModels/src/2d/actions/lat_lon_accel.jl:13 overwritten in module AutoUrban at /mnt/c/Users/Maxime/wsl/.julia/v0.6/AutoUrban/src/simulation/actions.jl:10.\n",
      "WARNING: Method definition animate_scenes(Array{Records.Frame{Records.Entity{AutomotiveDrivingModels.VehicleState, AutomotiveDrivingModels.VehicleDef, Int64}}, 1}, Any) in module AutomotivePOMDPs at /mnt/c/Users/Maxime/OneDrive - Leland Stanford Junior University/Research/AutomotivePOMDPs/utils/rendering.jl:21 overwritten at /mnt/c/Users/Maxime/OneDrive - Leland Stanford Junior University/Research/AutomotivePOMDPs/utils/rendering.jl:32.\n",
      "WARNING: Method definition #animate_scenes(Array{Any, 1}, typeof(AutomotivePOMDPs.animate_scenes), Array{Records.Frame{Records.Entity{AutomotiveDrivingModels.VehicleState, AutomotiveDrivingModels.VehicleDef, Int64}}, 1}, Any) in module AutomotivePOMDPs overwritten.\n",
      "WARNING: Method definition obs_to_scene(AutomotivePOMDPs.UrbanPOMDP, Array{Float64, 1}) in module AutomotivePOMDPs at /mnt/c/Users/Maxime/OneDrive - Leland Stanford Junior University/Research/AutomotivePOMDPs/urban/generative_model.jl:421 overwritten at /mnt/c/Users/Maxime/OneDrive - Leland Stanford Junior University/Research/AutomotivePOMDPs/urban/generative_model.jl:526.\n",
      "18-Mar 15:36:07:WARNING:root:replacing docs for 'AutomotivePOMDPs.obs_to_scene :: Tuple{AutomotivePOMDPs.UrbanPOMDP,Array{Float64,1}}' in module 'AutomotivePOMDPs'.\n"
     ]
    }
   ],
   "source": [
    "include(\"AutomotivePOMDPs.jl\")\n",
    "using AutomotivePOMDPs\n"
   ]
  },
  {
   "cell_type": "code",
   "execution_count": 3,
   "metadata": {},
   "outputs": [],
   "source": [
    "rng = MersenneTwister(1);\n"
   ]
  },
  {
   "cell_type": "markdown",
   "metadata": {},
   "source": [
    "## Initialize"
   ]
  },
  {
   "cell_type": "code",
   "execution_count": 4,
   "metadata": {},
   "outputs": [
    {
     "data": {
      "text/plain": [
       "AutomotivePOMDPs.UrbanPOMDP\n",
       "  env: AutomotivePOMDPs.UrbanEnv\n",
       "  obs_dist: AutomotivePOMDPs.ObstacleDistribution\n",
       "  sensor: AutomotiveDrivingModels.LidarSensor\n",
       "  models: Dict{Int64,AutomotiveDrivingModels.DriverModel}\n",
       "  ego_type: AutomotiveDrivingModels.VehicleDef\n",
       "  car_type: AutomotiveDrivingModels.VehicleDef\n",
       "  ped_type: AutomotiveDrivingModels.VehicleDef\n",
       "  max_cars: Int64 5\n",
       "  max_peds: Int64 5\n",
       "  obstacles: Bool true\n",
       "  max_acc: Float64 2.0\n",
       "  ego_start: Float64 17.0\n",
       "  ego_goal: AutomotiveDrivingModels.LaneTag\n",
       "  off_grid: Vec.VecSE2{Float64}\n",
       "  ΔT: Float64 0.5\n",
       "  car_birth: Float64 0.3\n",
       "  ped_birth: Float64 0.5\n",
       "  a_noise: Float64 1.0\n",
       "  v_noise: Float64 1.0\n",
       "  pos_obs_noise: Float64 0.5\n",
       "  vel_obs_noise: Float64 0.5\n",
       "  collision_cost: Float64 -1.0\n",
       "  action_cost: Float64 0.0\n",
       "  goal_reward: Float64 1.0\n",
       "  γ: Float64 0.95\n"
      ]
     },
     "execution_count": 4,
     "metadata": {},
     "output_type": "execute_result"
    }
   ],
   "source": [
    "params = UrbanParams()\n",
    "env = UrbanEnv(params=params)\n",
    "obs_dist = ObstacleDistribution(env)\n",
    "pomdp = UrbanPOMDP(env=env, obs_dist=obs_dist, max_peds=5, max_cars=5, ped_birth=0.5)"
   ]
  },
  {
   "cell_type": "markdown",
   "metadata": {},
   "source": [
    "Load Policies"
   ]
  },
  {
   "cell_type": "code",
   "execution_count": 5,
   "metadata": {},
   "outputs": [
    {
     "name": "stderr",
     "output_type": "stream",
     "text": [
      "2018-03-18 15:36:14.652631: I tensorflow/core/platform/cpu_feature_guard.cc:137] Your CPU supports instructions that this TensorFlow binary was not compiled to use: SSE4.1 SSE4.2 AVX AVX2 FMA\n"
     ]
    }
   ],
   "source": [
    "obsped_policy = DeepQLearning.restore(problem_file = \"../maximeworkspace/urban_dqn/obsped3/problem.jld\", weights_file = \"../maximeworkspace/urban_dqn/obsped3/weights.jld\")\n",
    "\n",
    "obscar_policy = DeepQLearning.restore(problem_file = \"../maximeworkspace/urban_dqn/obscar3/problem.jld\", weights_file = \"../maximeworkspace/urban_dqn/obscar3/weights.jld\")\n",
    "pedcar_policy = DeepQLearning.restore(problem_file = \"../maximeworkspace/urban_dqn/pedcar3/problem.jld\", weights_file = \"../maximeworkspace/urban_dqn/pedcar3/weights.jld\")\n",
    "twocars_policy = DeepQLearning.restore(problem_file = \"../maximeworkspace/urban_dqn/twocars3/problem.jld\", weights_file = \"../maximeworkspace/urban_dqn/twocars3/weights.jld\")\n",
    ";"
   ]
  },
  {
   "cell_type": "code",
   "execution_count": 6,
   "metadata": {},
   "outputs": [],
   "source": [
    "policy_map = Dict(:obsped=>obsped_policy,\n",
    "                  :obscar=>obscar_policy,\n",
    "                  :pedcar=>pedcar_policy,\n",
    "                  :twocars=>twocars_policy\n",
    "    )\n",
    "problem_map = Dict(:obsped=>ObsPed,\n",
    "                   :obscar=>ObsCar,\n",
    "                   :pedcar=>PedCar,\n",
    "                   :twocars=>TwoCars)\n",
    ";"
   ]
  },
  {
   "cell_type": "code",
   "execution_count": 7,
   "metadata": {},
   "outputs": [
    {
     "data": {
      "text/plain": [
       "fusion_min (generic function with 1 method)"
      ]
     },
     "execution_count": 7,
     "metadata": {},
     "output_type": "execute_result"
    }
   ],
   "source": [
    "function fusion_min(x)\n",
    "    return minimum(hcat(x), 2)\n",
    "end"
   ]
  },
  {
   "cell_type": "code",
   "execution_count": 8,
   "metadata": {},
   "outputs": [],
   "source": [
    "dec_policy = DecomposedPolicy(pomdp, problem_map, policy_map, x -> minimum(vcat(x...), 1), actions(pomdp));"
   ]
  },
  {
   "cell_type": "code",
   "execution_count": 9,
   "metadata": {},
   "outputs": [],
   "source": [
    "# const DecBelief = Vector{Tuple{Symbol, Array{Float64, 2}}}\n",
    "\n",
    "# function POMDPs.update(up::DecUpdater, b_old::DecBelief, a::UrbanAction, o::Array{Float64})\n",
    "#     b_new = Tuple{Symbol, Array{Float64, 2}}[]\n",
    "#     inputs = decompose_input(up.problem, o)\n",
    "#     for (i,(prob_key, b)) in enumerate(b_old)\n",
    "# #         println(size(inputs[i][2]))\n",
    "# #         println(size(b))\n",
    "#         b_vec = [b[:,i] for i=1:up.up.k]\n",
    "#         b_stacked = hcat(update(up.up, b_vec, a, inputs[i][2][:], rng)...)\n",
    "#         push!(b_new, (prob_key, b_stacked))\n",
    "#     end\n",
    "#     return b_new\n",
    "# end"
   ]
  },
  {
   "cell_type": "markdown",
   "metadata": {},
   "source": [
    "Set up the k-Markov updater"
   ]
  },
  {
   "cell_type": "code",
   "execution_count": 10,
   "metadata": {},
   "outputs": [],
   "source": [
    "up = DecUpdater(KMarkovUpdater(4), pomdp);"
   ]
  },
  {
   "cell_type": "code",
   "execution_count": 11,
   "metadata": {},
   "outputs": [],
   "source": [
    "b0 = initialize_dec_belief(up, pomdp, rng);"
   ]
  },
  {
   "cell_type": "code",
   "execution_count": 38,
   "metadata": {},
   "outputs": [
    {
     "name": "stdout",
     "output_type": "stream",
     "text": [
      "  0.868014 seconds (2.82 M allocations: 124.127 MiB, 7.27% gc time)\n"
     ]
    }
   ],
   "source": [
    "hr = HistoryRecorder(rng=rng, initial_state = initial_state(pomdp, rng), max_steps=50);\n",
    "@time hist = simulate(hr, pomdp, dec_policy, up, b0);"
   ]
  },
  {
   "cell_type": "code",
   "execution_count": 41,
   "metadata": {},
   "outputs": [
    {
     "data": {
      "text/html": [
       "<video autoplay controls><source src=\"files/reel-16216308521319646792.webm?12501588458291801819\" type=\"video/webm\"></video>"
      ],
      "text/plain": [
       "Reel.Frames{MIME{Symbol(\"image/png\")}}(\"/tmp/tmpQFCcLR\", 0x0000000000000020, 4.0, nothing)"
      ]
     },
     "execution_count": 41,
     "metadata": {},
     "output_type": "execute_result"
    }
   ],
   "source": [
    "push!(hist.action_hist, UrbanAction(0.))\n",
    "duration, fps, render_hist = animate_scenes(hist.state_hist, hist.action_hist, pomdp.env, overlays = SceneOverlay[IDOverlay()], sim_dt=pomdp.ΔT, cam=StaticCamera(VecE2(0.,-10.), 14.))\n",
    "speed_factor = 2.\n",
    "film = roll(render_hist, fps = speed_factor*fps, duration = duration/speed_factor)"
   ]
  },
  {
   "cell_type": "code",
   "execution_count": 42,
   "metadata": {},
   "outputs": [
    {
     "ename": "LoadError",
     "evalue": "\u001b[91msyntax: missing comma or ) in argument list\u001b[39m",
     "output_type": "error",
     "traceback": [
      "\u001b[91msyntax: missing comma or ) in argument list\u001b[39m",
      "",
      "Stacktrace:",
      " [1] \u001b[1minclude_string\u001b[22m\u001b[22m\u001b[1m(\u001b[22m\u001b[22m::String, ::String\u001b[1m)\u001b[22m\u001b[22m at \u001b[1m./loading.jl:522\u001b[22m\u001b[22m"
     ]
    }
   ],
   "source": [
    "function AutomotivePOMDPs.animate_scenes{A}(scenes::Vector{Scene},\n",
    "                        actions::Vector{A},\n",
    "                        env;\n",
    "                        overlays::Vector{SceneOverlay} = SceneOverlay[],\n",
    "                        cam=FitToContentCamera(0.),\n",
    "                        sim_dt=0.1)\n",
    "    duration =length(scenes)*sim_dt\n",
    "    fps = Int(1/sim_dt)\n",
    "    cam = FitToContentCamera(0.)\n",
    "    function render_rec(t, dt)\n",
    "        frame_index = Int(floor(t/dt)) + 1\n",
    "        return AutoViz.render(scenes[frame_index], \n",
    "                              env,\n",
    "                              cat(1, overlays, TextOverlay(text = [\"Acc: $(actions[frame_index].acc)\"])),\n",
    "                              cam=cam,\n",
    "                              car_colors=get_colors(scenes[frame_index]))\n",
    "    end\n",
    "    return duration, fps, render_rec\n",
    "end"
   ]
  },
  {
   "cell_type": "code",
   "execution_count": 12,
   "metadata": {},
   "outputs": [
    {
     "data": {
      "image/png": "[encoded data removed]",
      "text/plain": [
       "Cairo.CairoSurface{UInt32}(Ptr{Void} @0x000000000af0dc90, 1000.0, 600.0, #undef)"
      ]
     },
     "execution_count": 12,
     "metadata": {},
     "output_type": "execute_result"
    }
   ],
   "source": [
    "AutoViz.render(s, env, cam=FitToContentCamera(),[IDOverlay()], car_colors=get_colors(s))"
   ]
  }
 ],
 "metadata": {
  "kernelspec": {
   "display_name": "Julia 0.6.1",
   "language": "julia",
   "name": "julia-0.6"
  },
  "language_info": {
   "file_extension": ".jl",
   "mimetype": "application/julia",
   "name": "julia",
   "version": "0.6.1"
  }
 },
 "nbformat": 4,
 "nbformat_minor": 2
}
