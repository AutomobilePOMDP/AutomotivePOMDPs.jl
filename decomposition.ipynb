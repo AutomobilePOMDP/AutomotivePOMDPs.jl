{
 "cells": [
  {
   "cell_type": "markdown",
   "metadata": {},
   "source": [
    "# Decomposition method"
   ]
  },
  {
   "cell_type": "code",
   "execution_count": 1,
   "metadata": {},
   "outputs": [
    {
     "name": "stderr",
     "output_type": "stream",
     "text": [
      "WARNING: Method definition info(Any...) in module Base at util.jl:532 overwritten in module Logging at /mnt/c/Users/Maxime/wsl/.julia/v0.6/Logging/src/Logging.jl:115.\n",
      "WARNING: Method definition warn(Any...) in module Base at util.jl:585 overwritten in module Logging at /mnt/c/Users/Maxime/wsl/.julia/v0.6/Logging/src/Logging.jl:115.\n",
      "WARNING: Method definition (::TensorFlow.nn.rnn_cell.LSTMCell{T})(Any, Any) in module rnn_cell at /mnt/c/Users/Maxime/wsl/.julia/v0.6/TensorFlow/src/ops/rnn_cell.jl:146 overwritten in module DeepQLearning at /mnt/c/Users/Maxime/wsl/.julia/v0.6/DeepQLearning/src/tf_helpers.jl:246.\n",
      "WARNING: Method definition (::TensorFlow.nn.rnn_cell.LSTMCell{T})(Any, Any, Any) in module rnn_cell at /mnt/c/Users/Maxime/wsl/.julia/v0.6/TensorFlow/src/ops/rnn_cell.jl:146 overwritten in module DeepQLearning at /mnt/c/Users/Maxime/wsl/.julia/v0.6/DeepQLearning/src/tf_helpers.jl:246.\n",
      "WARNING: Method definition #rnn(Array{Any, 1}, typeof(TensorFlow.nn.rnn), Any, Array{T, 1} where T) in module nn overwritten in module DeepQLearning.\n",
      "WARNING: Method definition #rnn(Array{Any, 1}, typeof(TensorFlow.nn.rnn), Any, TensorFlow.Tensor{T} where T) in module nn overwritten in module DeepQLearning.\n",
      "WARNING: Method definition #rnn(Array{Any, 1}, typeof(TensorFlow.nn.rnn), Any, Array{T, 1} where T, Any) in module nn overwritten in module DeepQLearning.\n",
      "WARNING: Method definition #rnn(Array{Any, 1}, typeof(TensorFlow.nn.rnn), Any, TensorFlow.Tensor{T} where T, Any) in module nn overwritten in module DeepQLearning.\n",
      "WARNING: Method definition rnn(Any, Array{T, 1} where T) in module nn at /mnt/c/Users/Maxime/wsl/.julia/v0.6/TensorFlow/src/ops/nn.jl:64 overwritten in module DeepQLearning at /mnt/c/Users/Maxime/wsl/.julia/v0.6/DeepQLearning/src/tf_helpers.jl:279.\n",
      "WARNING: Method definition rnn(Any, TensorFlow.Tensor{T} where T) in module nn at /mnt/c/Users/Maxime/wsl/.julia/v0.6/TensorFlow/src/ops/nn.jl:86 overwritten in module DeepQLearning at /mnt/c/Users/Maxime/wsl/.julia/v0.6/DeepQLearning/src/tf_helpers.jl:303.\n",
      "WARNING: Method definition rnn(Any, Array{T, 1} where T, Any) in module nn at /mnt/c/Users/Maxime/wsl/.julia/v0.6/TensorFlow/src/ops/nn.jl:64 overwritten in module DeepQLearning at /mnt/c/Users/Maxime/wsl/.julia/v0.6/DeepQLearning/src/tf_helpers.jl:279.\n",
      "WARNING: Method definition rnn(Any, TensorFlow.Tensor{T} where T, Any) in module nn at /mnt/c/Users/Maxime/wsl/.julia/v0.6/TensorFlow/src/ops/nn.jl:86 overwritten in module DeepQLearning at /mnt/c/Users/Maxime/wsl/.julia/v0.6/DeepQLearning/src/tf_helpers.jl:303.\n"
     ]
    }
   ],
   "source": [
    "using POMDPs, StatsBase, POMDPToolbox, DeepRL, Parameters, GridInterpolations, DeepQLearning\n",
    "using AutomotiveDrivingModels,AutoViz\n",
    "using Reel "
   ]
  },
  {
   "cell_type": "code",
   "execution_count": 2,
   "metadata": {},
   "outputs": [
    {
     "name": "stderr",
     "output_type": "stream",
     "text": [
      "WARNING: Method definition copy!(Array{Float64, 1}, AutomotiveDrivingModels.LatLonAccel) in module AutomotiveDrivingModels at /mnt/c/Users/Maxime/wsl/.julia/v0.6/AutomotiveDrivingModels/src/2d/actions/lat_lon_accel.jl:13 overwritten in module AutoUrban at /mnt/c/Users/Maxime/wsl/.julia/v0.6/AutoUrban/src/simulation/actions.jl:10.\n"
     ]
    }
   ],
   "source": [
    "include(\"AutomotivePOMDPs.jl\")\n",
    "using AutomotivePOMDPs\n"
   ]
  },
  {
   "cell_type": "code",
   "execution_count": 3,
   "metadata": {},
   "outputs": [],
   "source": [
    "rng = MersenneTwister(1);\n"
   ]
  },
  {
   "cell_type": "markdown",
   "metadata": {},
   "source": [
    "## Initialize"
   ]
  },
  {
   "cell_type": "code",
   "execution_count": 4,
   "metadata": {},
   "outputs": [
    {
     "data": {
      "text/plain": [
       "AutomotivePOMDPs.UrbanPOMDP\n",
       "  env: AutomotivePOMDPs.UrbanEnv\n",
       "  obs_dist: AutomotivePOMDPs.ObstacleDistribution\n",
       "  sensor: AutomotiveDrivingModels.LidarSensor\n",
       "  models: Dict{Int64,AutomotiveDrivingModels.DriverModel}\n",
       "  ego_type: AutomotiveDrivingModels.VehicleDef\n",
       "  car_type: AutomotiveDrivingModels.VehicleDef\n",
       "  ped_type: AutomotiveDrivingModels.VehicleDef\n",
       "  max_cars: Int64 5\n",
       "  max_peds: Int64 5\n",
       "  obstacles: Bool true\n",
       "  max_acc: Float64 2.0\n",
       "  ego_start: Float64 17.0\n",
       "  ego_goal: AutomotiveDrivingModels.LaneTag\n",
       "  off_grid: Vec.VecSE2{Float64}\n",
       "  ΔT: Float64 0.5\n",
       "  car_birth: Float64 0.3\n",
       "  ped_birth: Float64 0.5\n",
       "  a_noise: Float64 1.0\n",
       "  v_noise: Float64 1.0\n",
       "  pos_obs_noise: Float64 0.5\n",
       "  vel_obs_noise: Float64 0.5\n",
       "  collision_cost: Float64 -1.0\n",
       "  action_cost: Float64 0.0\n",
       "  goal_reward: Float64 1.0\n",
       "  γ: Float64 0.95\n"
      ]
     },
     "execution_count": 4,
     "metadata": {},
     "output_type": "execute_result"
    }
   ],
   "source": [
    "params = UrbanParams()\n",
    "env = UrbanEnv(params=params)\n",
    "obs_dist = ObstacleDistribution(env)\n",
    "pomdp = UrbanPOMDP(env=env, obs_dist=obs_dist, max_peds=5, max_cars=5,obstacles=true, ped_birth=0.5)"
   ]
  },
  {
   "cell_type": "markdown",
   "metadata": {},
   "source": [
    "Load Policies"
   ]
  },
  {
   "cell_type": "code",
   "execution_count": 5,
   "metadata": {},
   "outputs": [
    {
     "name": "stderr",
     "output_type": "stream",
     "text": [
      "2018-03-21 18:03:39.977238: I tensorflow/core/platform/cpu_feature_guard.cc:137] Your CPU supports instructions that this TensorFlow binary was not compiled to use: SSE4.1 SSE4.2 AVX AVX2 FMA\n"
     ]
    }
   ],
   "source": [
    "obsped_policy = DeepQLearning.restore(problem_file = \"../maximeworkspace/urban_dqn/obsped5/problem.jld\", weights_file = \"../maximeworkspace/urban_dqn/obsped5/weights.jld\")\n",
    "\n",
    "obscar_policy = DeepQLearning.restore(problem_file = \"../maximeworkspace/urban_dqn/obscar5/problem.jld\", weights_file = \"../maximeworkspace/urban_dqn/obscar5/weights.jld\")\n",
    "pedcar_policy = DeepQLearning.restore(problem_file = \"../maximeworkspace/urban_dqn/pedcar5/problem.jld\", weights_file = \"../maximeworkspace/urban_dqn/pedcar5/weights.jld\")\n",
    "twocars_policy = DeepQLearning.restore(problem_file = \"../maximeworkspace/urban_dqn/twocars5/problem.jld\", weights_file = \"../maximeworkspace/urban_dqn/twocars5/weights.jld\")\n",
    ";"
   ]
  },
  {
   "cell_type": "code",
   "execution_count": 6,
   "metadata": {},
   "outputs": [],
   "source": [
    "policy_map = Dict(:obsped=>obsped_policy,\n",
    "                  :obscar=>obscar_policy,\n",
    "                  :pedcar=>pedcar_policy,\n",
    "                  :twocars=>twocars_policy\n",
    "    )\n",
    "problem_map = Dict(:obsped=>ObsPed,\n",
    "                   :obscar=>ObsCar,\n",
    "                   :pedcar=>PedCar,\n",
    "                   :twocars=>TwoCars)\n",
    ";"
   ]
  },
  {
   "cell_type": "code",
   "execution_count": 7,
   "metadata": {},
   "outputs": [
    {
     "data": {
      "text/plain": [
       "(::#17) (generic function with 1 method)"
      ]
     },
     "execution_count": 7,
     "metadata": {},
     "output_type": "execute_result"
    }
   ],
   "source": [
    "function fusion_min(x)\n",
    "    return minimum(hcat(x), 2)\n",
    "end\n",
    "MIN = x -> minimum(vcat(x...), 1)\n",
    "SUM = x -> sum(vcat(x...), 1)"
   ]
  },
  {
   "cell_type": "code",
   "execution_count": 8,
   "metadata": {},
   "outputs": [],
   "source": [
    "dec_policy = DecomposedPolicy(pomdp, problem_map, policy_map, SUM, actions(pomdp));"
   ]
  },
  {
   "cell_type": "code",
   "execution_count": 9,
   "metadata": {},
   "outputs": [
    {
     "data": {
      "text/plain": [
       "reset_dec_policy! (generic function with 1 method)"
      ]
     },
     "execution_count": 9,
     "metadata": {},
     "output_type": "execute_result"
    }
   ],
   "source": [
    "function reset_dec_policy!(policy::DecomposedPolicy)\n",
    "    for (prob_key, sub_policy) in policy.policy_map\n",
    "        DeepQLearning.reset_hidden_state!(sub_policy)\n",
    "    end\n",
    "end\n"
   ]
  },
  {
   "cell_type": "markdown",
   "metadata": {},
   "source": [
    "Set up the k-Markov updater"
   ]
  },
  {
   "cell_type": "code",
   "execution_count": 10,
   "metadata": {},
   "outputs": [],
   "source": [
    "up = KMarkovDecUpdater(KMarkovUpdater(4), pomdp);\n",
    "# up = PreviousObsDecUpdater(FastPreviousObservationUpdater{Vector{Float64}}(), pomdp);"
   ]
  },
  {
   "cell_type": "code",
   "execution_count": 11,
   "metadata": {},
   "outputs": [],
   "source": [
    "# include(\"decomposition/rendering.jl\")"
   ]
  },
  {
   "cell_type": "code",
   "execution_count": 14,
   "metadata": {},
   "outputs": [
    {
     "name": "stdout",
     "output_type": "stream",
     "text": [
      "  0.191170 seconds (280.93 k allocations: 14.639 MiB, 34.66% gc time)\n"
     ]
    }
   ],
   "source": [
    "# reset_dec_policy!(dec_policy)\n",
    "s0 = initial_state(pomdp, rng)\n",
    "b0 = initialize_dec_belief(up, pomdp, s0, rng);\n",
    "hr = HistoryRecorder(rng=rng, initial_state = s0, max_steps=100);\n",
    "@time hist = simulate(hr, pomdp, dec_policy, up, b0);"
   ]
  },
  {
   "cell_type": "code",
   "execution_count": 15,
   "metadata": {
    "scrolled": false
   },
   "outputs": [
    {
     "data": {
      "text/html": [
       "<video autoplay controls><source src=\"files/reel-14752248432912543616.webm?12181230324823658751\" type=\"video/webm\"></video>"
      ],
      "text/plain": [
       "Reel.Frames{MIME{Symbol(\"image/png\")}}(\"/tmp/tmpNQLtiM\", 0x0000000000000006, 4.0, nothing)"
      ]
     },
     "execution_count": 15,
     "metadata": {},
     "output_type": "execute_result"
    }
   ],
   "source": [
    "push!(hist.action_hist, UrbanAction(0.))\n",
    "action_hist = [a.acc for a in hist.action_hist]\n",
    "duration, fps, render_hist = animate_scenes(hist.state_hist,\n",
    "                                            action_hist,\n",
    "                                            hist.belief_hist,\n",
    "                                            dec_policy,\n",
    "                                            pomdp.env, \n",
    "                                            overlays = SceneOverlay[IDOverlay()], \n",
    "                                            sim_dt=pomdp.ΔT, \n",
    "                                            cam=StaticCamera(VecE2(0.,-10.), 14.))\n",
    "speed_factor = 2.\n",
    "film = roll(render_hist, fps = speed_factor*fps, duration = duration/speed_factor)"
   ]
  },
  {
   "cell_type": "code",
   "execution_count": 63,
   "metadata": {},
   "outputs": [
    {
     "data": {
      "image/png": "[encoded data removed]",
      "text/plain": [
       "Cairo.CairoSurface{UInt32}(Ptr{Void} @0x000000000c054750, 1000.0, 600.0, #undef)"
      ]
     },
     "execution_count": 63,
     "metadata": {},
     "output_type": "execute_result"
    }
   ],
   "source": [
    "scene = obs_to_scene(pomdp, hist.observation_hist[1])\n",
    "AutoViz.render(scene, pomdp.env, cam=FitToContentCamera(0.))"
   ]
  },
  {
   "cell_type": "code",
   "execution_count": 16,
   "metadata": {},
   "outputs": [
    {
     "data": {
      "text/plain": [
       "56-element Array{Float64,1}:\n",
       "  0.0625    \n",
       " -0.541667  \n",
       "  1.0       \n",
       "  0.0       \n",
       " -1.16667   \n",
       " -1.2125    \n",
       "  0.0       \n",
       "  0.0       \n",
       " -1.16667   \n",
       " -1.2125    \n",
       "  0.0       \n",
       "  0.0       \n",
       " -0.00673437\n",
       "  ⋮         \n",
       "  0.0833333 \n",
       "  0.0833333 \n",
       "  0.0       \n",
       "  0.291667  \n",
       "  0.520833  \n",
       "  0.375     \n",
       " -0.729167  \n",
       " -0.4375    \n",
       "  0.260417  \n",
       "  0.375     \n",
       "  0.729167  \n",
       " -0.4375    "
      ]
     },
     "execution_count": 16,
     "metadata": {},
     "output_type": "execute_result"
    }
   ],
   "source": [
    "o = generate_o(pomdp, s0, rng)"
   ]
  },
  {
   "cell_type": "code",
   "execution_count": 78,
   "metadata": {},
   "outputs": [
    {
     "data": {
      "text/plain": [
       "3-element Array{Float64,1}:\n",
       " -1.16667\n",
       " -1.21667\n",
       "  0.0    "
      ]
     },
     "execution_count": 78,
     "metadata": {},
     "output_type": "execute_result"
    }
   ],
   "source": [
    "max_ego_dist = get_end(pomdp.env.roadway[pomdp.ego_goal])\n",
    "[-28, -29.2,0]/24"
   ]
  },
  {
   "cell_type": "code",
   "execution_count": 31,
   "metadata": {},
   "outputs": [
    {
     "name": "stdout",
     "output_type": "stream",
     "text": [
      "indices:53, 56\n"
     ]
    },
    {
     "data": {
      "text/plain": [
       "4-element Array{Float64,1}:\n",
       "   6.25   \n",
       "   9.0    \n",
       "   2.29074\n",
       " -10.5    "
      ]
     },
     "execution_count": 31,
     "metadata": {},
     "output_type": "execute_result"
    }
   ],
   "source": [
    "i = 14\n",
    "println(\"indices:\", 4*(i-1)+1, \", \", 4*i)\n",
    "o[4*(i-1)+1:4*i].*[24,24,pi,24]"
   ]
  },
  {
   "cell_type": "code",
   "execution_count": 79,
   "metadata": {},
   "outputs": [
    {
     "data": {
      "text/plain": [
       "Dict{String,Array{Float64,1}} with 5 entries:\n",
       "  \"car5\" => [-0.439306, -0.0583882, 0.0, 0.0713542]\n",
       "  \"car3\" => [0.0563329, -1.13056, 0.5, 0.285223]\n",
       "  \"car4\" => [-0.373311, 0.190576, 1.0, 0.81172]\n",
       "  \"car1\" => [-1.16667, -1.2125, 0.0, 0.0]\n",
       "  \"car2\" => [-1.16667, -1.2125, 0.0, 0.0]"
      ]
     },
     "execution_count": 79,
     "metadata": {},
     "output_type": "execute_result"
    }
   ],
   "source": [
    "car_map"
   ]
  },
  {
   "cell_type": "code",
   "execution_count": 80,
   "metadata": {},
   "outputs": [
    {
     "data": {
      "text/plain": [
       "Dict{String,Array{Float64,1}} with 5 entries:\n",
       "  \"ped5\" => [-0.0486111, -0.0505208, 0.0, 0.0]\n",
       "  \"ped4\" => [-0.193091, 0.175828, 0.5, 0.137288]\n",
       "  \"ped2\" => [0.280848, 0.379227, 0.5, 0.0890329]\n",
       "  \"ped1\" => [0.242414, 0.0919097, 1.5, -0.0349959]\n",
       "  \"ped3\" => [-1.16667, -1.2125, 0.0, 0.0]"
      ]
     },
     "execution_count": 80,
     "metadata": {},
     "output_type": "execute_result"
    }
   ],
   "source": [
    "ped_map"
   ]
  },
  {
   "cell_type": "code",
   "execution_count": 32,
   "metadata": {},
   "outputs": [
    {
     "name": "stdout",
     "output_type": "stream",
     "text": [
      "[0.0254089, -0.270342, 1.0, 0.276159]\n",
      "[0.297894, -0.336779, 1.0, 0.0108812]\n",
      "[-0.401636, -0.352222, 1.0, 0.0398652]\n",
      "[-1.16667, -1.2125, 0.0, 0.0]\n",
      "[-0.304574, -0.171806, 0.5, 0.212961]\n"
     ]
    }
   ],
   "source": [
    "scene = Scene()\n",
    "feature_vec = nothing\n",
    "ego, car_map, ped_map, obs_map = AutomotivePOMDPs.split_o(hist.observation_hist[1], pomdp)\n",
    "for (ped, ped_state) in ped_map\n",
    "    println(ped_state)\n",
    "    obs_states = []\n",
    "    for (obs, obs_state) in obs_map\n",
    "        push!(obs_states, obs_state)\n",
    "\n",
    "    end\n",
    "    feature_vec = vcat(ego, ped_state, obs_states...)\n",
    "end"
   ]
  },
  {
   "cell_type": "code",
   "execution_count": 25,
   "metadata": {},
   "outputs": [
    {
     "data": {
      "text/plain": [
       "4-element Array{Float64,1}:\n",
       "  0.0254089\n",
       " -0.270342 \n",
       "  1.0      \n",
       "  0.0761588"
      ]
     },
     "execution_count": 25,
     "metadata": {},
     "output_type": "execute_result"
    }
   ],
   "source": [
    "hist.observation_hist[1][(1+pomdp.max_cars)*4+1:(1+pomdp.max_cars)*4+4]"
   ]
  },
  {
   "cell_type": "code",
   "execution_count": 37,
   "metadata": {},
   "outputs": [
    {
     "data": {
      "text/plain": [
       "20-element Array{Float64,1}:\n",
       "  0.0625   \n",
       " -0.541667 \n",
       "  1.0      \n",
       "  0.0      \n",
       "  0.205779 \n",
       "  0.261298 \n",
       "  1.5      \n",
       "  0.023842 \n",
       "  0.520833 \n",
       "  0.375    \n",
       " -0.729167 \n",
       " -0.4375   \n",
       "  0.0833333\n",
       "  0.0833333\n",
       "  0.0      \n",
       "  0.291667 \n",
       "  0.260417 \n",
       "  0.375    \n",
       "  0.729167 \n",
       " -0.4375   "
      ]
     },
     "execution_count": 37,
     "metadata": {},
     "output_type": "execute_result"
    }
   ],
   "source": [
    "hist.belief_hist[1][2][2]"
   ]
  },
  {
   "cell_type": "code",
   "execution_count": 44,
   "metadata": {},
   "outputs": [
    {
     "data": {
      "image/png": "[encoded data removed]",
      "text/plain": [
       "Cairo.CairoSurface{UInt32}(Ptr{Void} @0x0000000013d205c0, 1000.0, 600.0, #undef)"
      ]
     },
     "execution_count": 44,
     "metadata": {},
     "output_type": "execute_result"
    }
   ],
   "source": [
    "s1 = obs_to_scene(ObsPed, hist.belief_hist[1][2][2])\n",
    "AutoViz.render(s1, pomdp.env, cam=FitToContentCamera(0.))"
   ]
  },
  {
   "cell_type": "code",
   "execution_count": 32,
   "metadata": {},
   "outputs": [
    {
     "data": {
      "text/html": [
       "2 methods for generic function <b>obs_to_scene</b>:<ul><li> obs_to_scene(pomdp::<b>AutomotivePOMDPs.UrbanPOMDP</b>, obs::<b>Array{Float64,1}</b>) at <a href=\"https://github.com/sisl/AutomotivePOMDPs/tree/1d845f88196a0d9d6ff752bf408fc5a2c06a6204//urban/generative_model.jl#L508\" target=\"_blank\">/mnt/c/Users/Maxime/OneDrive - Leland Stanford Junior University/Research/AutomotivePOMDPs/urban/generative_model.jl:508</a></li> <li> obs_to_scene(pomdp::<b>AutomotivePOMDPs.OIPOMDP</b>, o::<b>Array{Float64,1}</b>) at <a href=\"https://github.com/sisl/AutomotivePOMDPs/tree/1d845f88196a0d9d6ff752bf408fc5a2c06a6204//multi_lane_T_intersection/generative_model.jl#L271\" target=\"_blank\">/mnt/c/Users/Maxime/OneDrive - Leland Stanford Junior University/Research/AutomotivePOMDPs/multi_lane_T_intersection/generative_model.jl:271</a></li> </ul>"
      ],
      "text/plain": [
       "# 2 methods for generic function \"obs_to_scene\":\n",
       "obs_to_scene(pomdp::AutomotivePOMDPs.UrbanPOMDP, obs::Array{Float64,1}) in AutomotivePOMDPs at /mnt/c/Users/Maxime/OneDrive - Leland Stanford Junior University/Research/AutomotivePOMDPs/urban/generative_model.jl:508\n",
       "obs_to_scene(pomdp::AutomotivePOMDPs.OIPOMDP, o::Array{Float64,1}) in AutomotivePOMDPs at /mnt/c/Users/Maxime/OneDrive - Leland Stanford Junior University/Research/AutomotivePOMDPs/multi_lane_T_intersection/generative_model.jl:271"
      ]
     },
     "execution_count": 32,
     "metadata": {},
     "output_type": "execute_result"
    }
   ],
   "source": [
    "methods(obs_to_scene)"
   ]
  },
  {
   "cell_type": "code",
   "execution_count": 15,
   "metadata": {},
   "outputs": [
    {
     "name": "stderr",
     "output_type": "stream",
     "text": [
      "WARNING: Method definition animate_scenes(Array{Records.Frame{Records.Entity{AutomotiveDrivingModels.VehicleState, AutomotiveDrivingModels.VehicleDef, Int64}}, 1}, Array{Float64, 1}, Any) in module AutomotivePOMDPs at /mnt/c/Users/Maxime/OneDrive - Leland Stanford Junior University/Research/AutomotivePOMDPs/utils/rendering.jl:49 overwritten in module Main at In[15]:7.\n",
      "WARNING: Method definition #animate_scenes(Array{Any, 1}, typeof(AutomotivePOMDPs.animate_scenes), Array{Records.Frame{Records.Entity{AutomotiveDrivingModels.VehicleState, AutomotiveDrivingModels.VehicleDef, Int64}}, 1}, Array{Float64, 1}, Any) in module AutomotivePOMDPs overwritten in module Main.\n"
     ]
    }
   ],
   "source": [
    "function AutomotivePOMDPs.animate_scenes(scenes::Vector{Scene},\n",
    "                        actions::Vector{Float64},\n",
    "                        env;\n",
    "                        overlays::Vector{SceneOverlay} = SceneOverlay[],\n",
    "                        cam=FitToContentCamera(0.),\n",
    "                        sim_dt=0.1)\n",
    "    duration =length(scenes)*sim_dt\n",
    "    fps = Int(1/sim_dt)\n",
    "    cam = FitToContentCamera(0.)\n",
    "    function render_rec(t, dt)\n",
    "        frame_index = Int(floor(t/dt)) + 1\n",
    "        return AutoViz.render(scenes[frame_index], \n",
    "                              env,\n",
    "                              cat(1, overlays, TextOverlay(text = [\"Acc: $(actions[frame_index])\"])),\n",
    "                              cam=cam,\n",
    "                              car_colors=get_colors(scenes[frame_index]))\n",
    "    end\n",
    "    return duration, fps, render_rec\n",
    "end"
   ]
  },
  {
   "cell_type": "code",
   "execution_count": 12,
   "metadata": {},
   "outputs": [
    {
     "data": {
      "image/png": "[encoded data removed]",
      "text/plain": [
       "Cairo.CairoSurface{UInt32}(Ptr{Void} @0x000000000af0dc90, 1000.0, 600.0, #undef)"
      ]
     },
     "execution_count": 12,
     "metadata": {},
     "output_type": "execute_result"
    }
   ],
   "source": [
    "AutoViz.render(s, env, cam=FitToContentCamera(),[IDOverlay()], car_colors=get_colors(s))"
   ]
  }
 ],
 "metadata": {
  "kernelspec": {
   "display_name": "Julia 0.6.1",
   "language": "julia",
   "name": "julia-0.6"
  },
  "language_info": {
   "file_extension": ".jl",
   "mimetype": "application/julia",
   "name": "julia",
   "version": "0.6.1"
  }
 },
 "nbformat": 4,
 "nbformat_minor": 2
}
